{
 "cells": [
  {
   "cell_type": "code",
   "execution_count": 1,
   "metadata": {},
   "outputs": [],
   "source": [
    "import pandas as pd\n",
    "import plotly.express as px"
   ]
  },
  {
   "cell_type": "code",
   "execution_count": 2,
   "metadata": {},
   "outputs": [],
   "source": [
    "clients = pd.read_pickle(\"data/parsed/clients.pkl\")\n",
    "transactions= pd.read_pickle(\"data/parsed/transactions.pkl\")"
   ]
  },
  {
   "cell_type": "markdown",
   "metadata": {},
   "source": [
    "Client-Order ranked"
   ]
  },
  {
   "cell_type": "code",
   "execution_count": 3,
   "metadata": {},
   "outputs": [],
   "source": [
    "idx1 = transactions[[\"POC\",\"ORDER_ID\",\"INVOICE_DATE\"]].drop_duplicates()\n",
    "idx1 = idx1.sort_values([\"POC\",\"INVOICE_DATE\"])\n",
    "\n",
    "idx1[\"ORDER_RANK\"] = idx1.groupby(\"POC\")[\"INVOICE_DATE\"].rank(method=\"first\").astype(int)\n"
   ]
  },
  {
   "cell_type": "markdown",
   "metadata": {},
   "source": [
    "Client-Order-Product ranked"
   ]
  },
  {
   "cell_type": "code",
   "execution_count": 4,
   "metadata": {},
   "outputs": [],
   "source": [
    "idx2 = transactions[[\"POC\",\"ORDER_ID\",\"INVOICE_DATE\",\"SKU_ID\"]].drop_duplicates()\n",
    "idx2 = idx2.sort_values([\"POC\",\"INVOICE_DATE\",\"SKU_ID\"])\n",
    "\n",
    "idx2[\"ORDER_PRODUCT_RANK\"] = idx2.groupby([\"POC\",\"SKU_ID\"])[\"INVOICE_DATE\"].rank(method=\"first\").astype(int)\n"
   ]
  },
  {
   "cell_type": "markdown",
   "metadata": {},
   "source": [
    "Build final DF"
   ]
  },
  {
   "cell_type": "code",
   "execution_count": 5,
   "metadata": {},
   "outputs": [],
   "source": [
    "all_products = transactions[[\"SKU_ID\"]].drop_duplicates()\n",
    "\n",
    "transactions_ranked = (all_products\n",
    "    .merge(idx1, how=\"cross\")\n",
    "    .merge(idx2, on=[\"POC\",\"ORDER_ID\",\"INVOICE_DATE\",\"SKU_ID\"], how=\"left\")\n",
    "    .merge(transactions, on=[\"POC\",\"SKU_ID\",\"ORDER_ID\",\"INVOICE_DATE\"], how=\"left\")\n",
    "    .fillna(0)\n",
    "    [[\"POC\",\"SKU_ID\",\"ORDER_ID\",\"INVOICE_DATE\",\"ITEMS_PHYS_CASES\",\"ORDER_RANK\",\"ORDER_PRODUCT_RANK\"]]\n",
    "    .sort_values([\"POC\",\"SKU_ID\",\"INVOICE_DATE\"])\n",
    ")\n",
    "\n",
    "transactions_ranked[\"ORDER_RANK\"] = transactions_ranked[\"ORDER_RANK\"].astype(int)\n",
    "transactions_ranked[\"ORDER_PRODUCT_RANK\"] = transactions_ranked[\"ORDER_PRODUCT_RANK\"].astype(int)"
   ]
  },
  {
   "cell_type": "markdown",
   "metadata": {},
   "source": [
    "Stage results"
   ]
  },
  {
   "cell_type": "code",
   "execution_count": 6,
   "metadata": {},
   "outputs": [],
   "source": [
    "transactions_ranked.to_pickle(\"data/parsed/transactions_ranked.pkl\")"
   ]
  }
 ],
 "metadata": {
  "kernelspec": {
   "display_name": "recs",
   "language": "python",
   "name": "python3"
  },
  "language_info": {
   "codemirror_mode": {
    "name": "ipython",
    "version": 3
   },
   "file_extension": ".py",
   "mimetype": "text/x-python",
   "name": "python",
   "nbconvert_exporter": "python",
   "pygments_lexer": "ipython3",
   "version": "3.12.4"
  }
 },
 "nbformat": 4,
 "nbformat_minor": 2
}
