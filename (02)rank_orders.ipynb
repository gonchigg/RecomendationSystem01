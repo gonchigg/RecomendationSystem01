{
 "cells": [
  {
   "cell_type": "code",
   "execution_count": 28,
   "metadata": {},
   "outputs": [],
   "source": [
    "import plotly.express as px\n",
    "import pandas as pd"
   ]
  },
  {
   "cell_type": "code",
   "execution_count": 20,
   "metadata": {},
   "outputs": [],
   "source": [
    "clients = pd.read_pickle(\"data/parsed/clients.pkl\")\n",
    "transactions= pd.read_pickle(\"data/parsed/transactions.pkl\")"
   ]
  },
  {
   "cell_type": "code",
   "execution_count": 21,
   "metadata": {},
   "outputs": [],
   "source": [
    "N_SKUIDs = 150 #Filter N most ordered SKUIDs"
   ]
  },
  {
   "cell_type": "markdown",
   "metadata": {},
   "source": [
    "Client-Order ranked"
   ]
  },
  {
   "cell_type": "code",
   "execution_count": 22,
   "metadata": {},
   "outputs": [],
   "source": [
    "idx1 = transactions[[\"POC\",\"ORDER_ID\",\"INVOICE_DATE\"]].drop_duplicates()\n",
    "idx1 = idx1.sort_values([\"POC\",\"INVOICE_DATE\"])\n",
    "\n",
    "idx1[\"ORDER_RANK\"] = idx1.groupby(\"POC\")[\"INVOICE_DATE\"].rank(method=\"first\").astype(int)\n"
   ]
  },
  {
   "cell_type": "markdown",
   "metadata": {},
   "source": [
    "Client-Order-Product ranked"
   ]
  },
  {
   "cell_type": "code",
   "execution_count": 23,
   "metadata": {},
   "outputs": [],
   "source": [
    "idx2 = transactions[[\"POC\",\"ORDER_ID\",\"INVOICE_DATE\",\"SKU_ID\"]].drop_duplicates()\n",
    "idx2 = idx2.sort_values([\"POC\",\"INVOICE_DATE\",\"SKU_ID\"])\n",
    "\n",
    "idx2[\"ORDER_PRODUCT_RANK\"] = idx2.groupby([\"POC\",\"SKU_ID\"])[\"INVOICE_DATE\"].rank(method=\"first\").astype(int)\n"
   ]
  },
  {
   "cell_type": "markdown",
   "metadata": {},
   "source": [
    "Build final DF"
   ]
  },
  {
   "cell_type": "code",
   "execution_count": 24,
   "metadata": {},
   "outputs": [],
   "source": [
    "all_products = transactions[[\"SKU_ID\"]].drop_duplicates()\n",
    "\n",
    "transactions_ranked = (all_products\n",
    "    .merge(idx1, how=\"cross\")\n",
    "    .merge(idx2, on=[\"POC\",\"ORDER_ID\",\"INVOICE_DATE\",\"SKU_ID\"], how=\"left\")\n",
    "    .merge(transactions, on=[\"POC\",\"SKU_ID\",\"ORDER_ID\",\"INVOICE_DATE\"], how=\"left\")\n",
    "    .fillna(0)\n",
    "    [[\"POC\",\"SKU_ID\",\"ORDER_ID\",\"INVOICE_DATE\",\"ITEMS_PHYS_CASES\",\"ORDER_RANK\",\"ORDER_PRODUCT_RANK\"]]\n",
    "    .sort_values([\"POC\",\"SKU_ID\",\"INVOICE_DATE\"])\n",
    ")\n",
    "\n",
    "transactions_ranked[\"ORDER_RANK\"] = transactions_ranked[\"ORDER_RANK\"].astype(int)\n",
    "transactions_ranked[\"ORDER_PRODUCT_RANK\"] = transactions_ranked[\"ORDER_PRODUCT_RANK\"].astype(int)"
   ]
  },
  {
   "cell_type": "markdown",
   "metadata": {},
   "source": [
    "Stage results"
   ]
  },
  {
   "cell_type": "code",
   "execution_count": 25,
   "metadata": {},
   "outputs": [],
   "source": [
    "transactions_ranked.to_pickle(\"data/parsed/transactions_ranked.pkl\")"
   ]
  },
  {
   "cell_type": "markdown",
   "metadata": {},
   "source": [
    "Add SKUID rank"
   ]
  },
  {
   "cell_type": "code",
   "execution_count": 26,
   "metadata": {},
   "outputs": [],
   "source": [
    "target_SKUIDs = (transactions_ranked\n",
    "    [transactions_ranked[\"ITEMS_PHYS_CASES\"] != 0.0]\n",
    "    [\"SKU_ID\"].value_counts()\n",
    "    .rename(\"SKUID_counts\")\n",
    "    .reset_index()\n",
    "    .reset_index()\n",
    "    .rename(columns={\"index\":\"SKUID_RANK\"})\n",
    ")\n",
    "\n",
    "transactions_ranked = (transactions_ranked\n",
    "    .merge(target_SKUIDs, on=[\"SKU_ID\"], how=\"inner\")\n",
    "    .sort_values([\"POC\",\"ORDER_RANK\",\"SKUID_RANK\"])\n",
    ")"
   ]
  },
  {
   "cell_type": "markdown",
   "metadata": {},
   "source": [
    "Arrange for modeling"
   ]
  },
  {
   "cell_type": "code",
   "execution_count": 27,
   "metadata": {},
   "outputs": [],
   "source": [
    "transactions_ranked = transactions_ranked[transactions_ranked[\"SKUID_RANK\"] <= N_SKUIDs]\n",
    "\n",
    "transactions_ranked[\"target\"] = (transactions_ranked[\"ITEMS_PHYS_CASES\"] != 0.0).astype(int)\n",
    "\n",
    "transactions_ranked = (transactions_ranked\n",
    "    .set_index([\"POC\",\"ORDER_RANK\",\"SKU_ID\"])\n",
    "    [\"target\"]\n",
    "    .unstack(\"SKU_ID\")\n",
    "    .reset_index()\n",
    "    .sort_values([\"POC\",\"ORDER_RANK\"])\n",
    ")\n",
    "\n",
    "\n",
    "transactions_ranked.to_pickle(\"data/parsed/modeling_transactions.pkl\")"
   ]
  }
 ],
 "metadata": {
  "kernelspec": {
   "display_name": "recs",
   "language": "python",
   "name": "python3"
  },
  "language_info": {
   "codemirror_mode": {
    "name": "ipython",
    "version": 3
   },
   "file_extension": ".py",
   "mimetype": "text/x-python",
   "name": "python",
   "nbconvert_exporter": "python",
   "pygments_lexer": "ipython3",
   "version": "3.12.2"
  }
 },
 "nbformat": 4,
 "nbformat_minor": 2
}
