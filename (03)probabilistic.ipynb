{
 "cells": [
  {
   "cell_type": "code",
   "execution_count": 1,
   "metadata": {},
   "outputs": [],
   "source": [
    "import plotly.graph_objects as go\n",
    "import plotly.express as px\n",
    "import pandas as pd\n",
    "\n",
    "from plotly.subplots import make_subplots"
   ]
  },
  {
   "cell_type": "code",
   "execution_count": 2,
   "metadata": {},
   "outputs": [],
   "source": [
    "transactions = pd.read_pickle(\"data/parsed/transactions_ranked.pkl\")"
   ]
  },
  {
   "cell_type": "markdown",
   "metadata": {},
   "source": [
    "Let's exclude the last transaction of each client so that we can use it to test the models"
   ]
  },
  {
   "cell_type": "code",
   "execution_count": 3,
   "metadata": {},
   "outputs": [],
   "source": [
    "transactions = (transactions\n",
    "    .merge((transactions\n",
    "            .groupby([\"POC\",\"SKU_ID\"])\n",
    "            [\"ORDER_PRODUCT_RANK\"].max()\n",
    "            .reset_index()\n",
    "        ),\n",
    "        on=[\"POC\",\"SKU_ID\",\"ORDER_PRODUCT_RANK\"],\n",
    "        how=\"left\",\n",
    "        indicator=True\n",
    "    )\n",
    ")\n",
    "\n",
    "transactions = (transactions\n",
    "    [transactions[\"_merge\"] == \"left_only\"]\n",
    "    .drop(columns=[\"_merge\"])\n",
    "    .copy()\n",
    ")"
   ]
  },
  {
   "cell_type": "code",
   "execution_count": 4,
   "metadata": {},
   "outputs": [],
   "source": [
    "total_customers = transactions[\"POC\"].nunique()\n",
    "transactions_totals_per_SKUID = (transactions\n",
    "    [transactions[\"ITEMS_PHYS_CASES\"] != 0.0]\n",
    "    .groupby(\"SKU_ID\")\n",
    "    .agg({\n",
    "        \"ITEMS_PHYS_CASES\":\"sum\",\n",
    "        \"ORDER_ID\":\"size\",\n",
    "        \"POC\":\"nunique\"\n",
    "    })\n",
    "    .reset_index()\n",
    "    .rename(columns={\n",
    "        \"POC\":\"SKUID_total_customers\",\n",
    "        \"ORDER_ID\":\"SKUID_total_transactions\",\n",
    "        \"ITEMS_PHYS_CASES\":\"SKUID_total_volume\",\n",
    "    })\n",
    "    .sort_values(\"SKUID_total_transactions\", ascending=False)\n",
    "    .reset_index(drop=True)\n",
    "    .reset_index()\n",
    "    .rename(columns={\"index\":\"product_rank_bytotaltransactions\"})\n",
    ")\n",
    "\n",
    "transactions_totals_per_SKUID[\"SKUID_total_probability_rate\"] = transactions_totals_per_SKUID[\"SKUID_total_customers\"]/total_customers\n",
    "transactions_totals_per_SKUID = (transactions_totals_per_SKUID\n",
    "    .sort_values(\"SKUID_total_probability_rate\", ascending=False)\n",
    "    .reset_index(drop=True)\n",
    "    .reset_index()\n",
    "    .rename(columns={\"index\":\"product_rank_bytotalprobrate\"})\n",
    ")\n",
    "\n",
    "stat_columns = [\n",
    "    \"SKUID_total_volume\",\n",
    "    \"SKUID_total_customers\",\n",
    "    \"SKUID_total_transactions\",\n",
    "    \"SKUID_total_probability_rate\",\n",
    "    \"product_rank_bytotalprobrate\",\n",
    "    \"product_rank_bytotaltransactions\",\n",
    "]\n",
    "\n",
    "transactions = (transactions\n",
    "    .merge(transactions_totals_per_SKUID, on=[\"SKU_ID\"], how=\"left\")\n",
    "    .sort_values([\"product_rank_bytotalprobrate\",\"SKU_ID\",\"ORDER_ID\",\"ORDER_RANK\"])\n",
    ")"
   ]
  },
  {
   "cell_type": "code",
   "execution_count": 5,
   "metadata": {},
   "outputs": [
    {
     "data": {
      "application/vnd.plotly.v1+json": {
       "config": {
        "plotlyServerURL": "https://plot.ly"
       },
       "data": [
        {
         "name": "Total Transactions",
         "offsetgroup": "1",
         "type": "bar",
         "x": [
          0,
          1,
          2,
          3,
          4,
          5,
          6,
          7,
          8,
          9,
          10,
          11,
          12,
          13,
          14,
          15,
          16,
          17,
          18,
          19,
          20,
          21,
          22,
          23,
          24
         ],
         "y": [
          11719,
          7214,
          7666,
          6619,
          3971,
          3741,
          3357,
          3056,
          2915,
          3289,
          3312,
          2121,
          2792,
          4162,
          2505,
          2712,
          3062,
          2503,
          2712,
          2430,
          2018,
          2837,
          1883,
          1713,
          1057
         ],
         "yaxis": "y"
        },
        {
         "name": "Total Customers",
         "offsetgroup": "3",
         "type": "bar",
         "x": [
          0,
          1,
          2,
          3,
          4,
          5,
          6,
          7,
          8,
          9,
          10,
          11,
          12,
          13,
          14,
          15,
          16,
          17,
          18,
          19,
          20,
          21,
          22,
          23,
          24
         ],
         "y": [
          2092,
          1840,
          1692,
          1534,
          1292,
          1072,
          1070,
          1052,
          1026,
          1025,
          1011,
          1010,
          997,
          968,
          881,
          877,
          859,
          845,
          830,
          823,
          739,
          728,
          693,
          689,
          595
         ],
         "yaxis": "y2"
        }
       ],
       "layout": {
        "barmode": "group",
        "template": {
         "data": {
          "bar": [
           {
            "error_x": {
             "color": "#2a3f5f"
            },
            "error_y": {
             "color": "#2a3f5f"
            },
            "marker": {
             "line": {
              "color": "#E5ECF6",
              "width": 0.5
             },
             "pattern": {
              "fillmode": "overlay",
              "size": 10,
              "solidity": 0.2
             }
            },
            "type": "bar"
           }
          ],
          "barpolar": [
           {
            "marker": {
             "line": {
              "color": "#E5ECF6",
              "width": 0.5
             },
             "pattern": {
              "fillmode": "overlay",
              "size": 10,
              "solidity": 0.2
             }
            },
            "type": "barpolar"
           }
          ],
          "carpet": [
           {
            "aaxis": {
             "endlinecolor": "#2a3f5f",
             "gridcolor": "white",
             "linecolor": "white",
             "minorgridcolor": "white",
             "startlinecolor": "#2a3f5f"
            },
            "baxis": {
             "endlinecolor": "#2a3f5f",
             "gridcolor": "white",
             "linecolor": "white",
             "minorgridcolor": "white",
             "startlinecolor": "#2a3f5f"
            },
            "type": "carpet"
           }
          ],
          "choropleth": [
           {
            "colorbar": {
             "outlinewidth": 0,
             "ticks": ""
            },
            "type": "choropleth"
           }
          ],
          "contour": [
           {
            "colorbar": {
             "outlinewidth": 0,
             "ticks": ""
            },
            "colorscale": [
             [
              0,
              "#0d0887"
             ],
             [
              0.1111111111111111,
              "#46039f"
             ],
             [
              0.2222222222222222,
              "#7201a8"
             ],
             [
              0.3333333333333333,
              "#9c179e"
             ],
             [
              0.4444444444444444,
              "#bd3786"
             ],
             [
              0.5555555555555556,
              "#d8576b"
             ],
             [
              0.6666666666666666,
              "#ed7953"
             ],
             [
              0.7777777777777778,
              "#fb9f3a"
             ],
             [
              0.8888888888888888,
              "#fdca26"
             ],
             [
              1,
              "#f0f921"
             ]
            ],
            "type": "contour"
           }
          ],
          "contourcarpet": [
           {
            "colorbar": {
             "outlinewidth": 0,
             "ticks": ""
            },
            "type": "contourcarpet"
           }
          ],
          "heatmap": [
           {
            "colorbar": {
             "outlinewidth": 0,
             "ticks": ""
            },
            "colorscale": [
             [
              0,
              "#0d0887"
             ],
             [
              0.1111111111111111,
              "#46039f"
             ],
             [
              0.2222222222222222,
              "#7201a8"
             ],
             [
              0.3333333333333333,
              "#9c179e"
             ],
             [
              0.4444444444444444,
              "#bd3786"
             ],
             [
              0.5555555555555556,
              "#d8576b"
             ],
             [
              0.6666666666666666,
              "#ed7953"
             ],
             [
              0.7777777777777778,
              "#fb9f3a"
             ],
             [
              0.8888888888888888,
              "#fdca26"
             ],
             [
              1,
              "#f0f921"
             ]
            ],
            "type": "heatmap"
           }
          ],
          "heatmapgl": [
           {
            "colorbar": {
             "outlinewidth": 0,
             "ticks": ""
            },
            "colorscale": [
             [
              0,
              "#0d0887"
             ],
             [
              0.1111111111111111,
              "#46039f"
             ],
             [
              0.2222222222222222,
              "#7201a8"
             ],
             [
              0.3333333333333333,
              "#9c179e"
             ],
             [
              0.4444444444444444,
              "#bd3786"
             ],
             [
              0.5555555555555556,
              "#d8576b"
             ],
             [
              0.6666666666666666,
              "#ed7953"
             ],
             [
              0.7777777777777778,
              "#fb9f3a"
             ],
             [
              0.8888888888888888,
              "#fdca26"
             ],
             [
              1,
              "#f0f921"
             ]
            ],
            "type": "heatmapgl"
           }
          ],
          "histogram": [
           {
            "marker": {
             "pattern": {
              "fillmode": "overlay",
              "size": 10,
              "solidity": 0.2
             }
            },
            "type": "histogram"
           }
          ],
          "histogram2d": [
           {
            "colorbar": {
             "outlinewidth": 0,
             "ticks": ""
            },
            "colorscale": [
             [
              0,
              "#0d0887"
             ],
             [
              0.1111111111111111,
              "#46039f"
             ],
             [
              0.2222222222222222,
              "#7201a8"
             ],
             [
              0.3333333333333333,
              "#9c179e"
             ],
             [
              0.4444444444444444,
              "#bd3786"
             ],
             [
              0.5555555555555556,
              "#d8576b"
             ],
             [
              0.6666666666666666,
              "#ed7953"
             ],
             [
              0.7777777777777778,
              "#fb9f3a"
             ],
             [
              0.8888888888888888,
              "#fdca26"
             ],
             [
              1,
              "#f0f921"
             ]
            ],
            "type": "histogram2d"
           }
          ],
          "histogram2dcontour": [
           {
            "colorbar": {
             "outlinewidth": 0,
             "ticks": ""
            },
            "colorscale": [
             [
              0,
              "#0d0887"
             ],
             [
              0.1111111111111111,
              "#46039f"
             ],
             [
              0.2222222222222222,
              "#7201a8"
             ],
             [
              0.3333333333333333,
              "#9c179e"
             ],
             [
              0.4444444444444444,
              "#bd3786"
             ],
             [
              0.5555555555555556,
              "#d8576b"
             ],
             [
              0.6666666666666666,
              "#ed7953"
             ],
             [
              0.7777777777777778,
              "#fb9f3a"
             ],
             [
              0.8888888888888888,
              "#fdca26"
             ],
             [
              1,
              "#f0f921"
             ]
            ],
            "type": "histogram2dcontour"
           }
          ],
          "mesh3d": [
           {
            "colorbar": {
             "outlinewidth": 0,
             "ticks": ""
            },
            "type": "mesh3d"
           }
          ],
          "parcoords": [
           {
            "line": {
             "colorbar": {
              "outlinewidth": 0,
              "ticks": ""
             }
            },
            "type": "parcoords"
           }
          ],
          "pie": [
           {
            "automargin": true,
            "type": "pie"
           }
          ],
          "scatter": [
           {
            "fillpattern": {
             "fillmode": "overlay",
             "size": 10,
             "solidity": 0.2
            },
            "type": "scatter"
           }
          ],
          "scatter3d": [
           {
            "line": {
             "colorbar": {
              "outlinewidth": 0,
              "ticks": ""
             }
            },
            "marker": {
             "colorbar": {
              "outlinewidth": 0,
              "ticks": ""
             }
            },
            "type": "scatter3d"
           }
          ],
          "scattercarpet": [
           {
            "marker": {
             "colorbar": {
              "outlinewidth": 0,
              "ticks": ""
             }
            },
            "type": "scattercarpet"
           }
          ],
          "scattergeo": [
           {
            "marker": {
             "colorbar": {
              "outlinewidth": 0,
              "ticks": ""
             }
            },
            "type": "scattergeo"
           }
          ],
          "scattergl": [
           {
            "marker": {
             "colorbar": {
              "outlinewidth": 0,
              "ticks": ""
             }
            },
            "type": "scattergl"
           }
          ],
          "scattermapbox": [
           {
            "marker": {
             "colorbar": {
              "outlinewidth": 0,
              "ticks": ""
             }
            },
            "type": "scattermapbox"
           }
          ],
          "scatterpolar": [
           {
            "marker": {
             "colorbar": {
              "outlinewidth": 0,
              "ticks": ""
             }
            },
            "type": "scatterpolar"
           }
          ],
          "scatterpolargl": [
           {
            "marker": {
             "colorbar": {
              "outlinewidth": 0,
              "ticks": ""
             }
            },
            "type": "scatterpolargl"
           }
          ],
          "scatterternary": [
           {
            "marker": {
             "colorbar": {
              "outlinewidth": 0,
              "ticks": ""
             }
            },
            "type": "scatterternary"
           }
          ],
          "surface": [
           {
            "colorbar": {
             "outlinewidth": 0,
             "ticks": ""
            },
            "colorscale": [
             [
              0,
              "#0d0887"
             ],
             [
              0.1111111111111111,
              "#46039f"
             ],
             [
              0.2222222222222222,
              "#7201a8"
             ],
             [
              0.3333333333333333,
              "#9c179e"
             ],
             [
              0.4444444444444444,
              "#bd3786"
             ],
             [
              0.5555555555555556,
              "#d8576b"
             ],
             [
              0.6666666666666666,
              "#ed7953"
             ],
             [
              0.7777777777777778,
              "#fb9f3a"
             ],
             [
              0.8888888888888888,
              "#fdca26"
             ],
             [
              1,
              "#f0f921"
             ]
            ],
            "type": "surface"
           }
          ],
          "table": [
           {
            "cells": {
             "fill": {
              "color": "#EBF0F8"
             },
             "line": {
              "color": "white"
             }
            },
            "header": {
             "fill": {
              "color": "#C8D4E3"
             },
             "line": {
              "color": "white"
             }
            },
            "type": "table"
           }
          ]
         },
         "layout": {
          "annotationdefaults": {
           "arrowcolor": "#2a3f5f",
           "arrowhead": 0,
           "arrowwidth": 1
          },
          "autotypenumbers": "strict",
          "coloraxis": {
           "colorbar": {
            "outlinewidth": 0,
            "ticks": ""
           }
          },
          "colorscale": {
           "diverging": [
            [
             0,
             "#8e0152"
            ],
            [
             0.1,
             "#c51b7d"
            ],
            [
             0.2,
             "#de77ae"
            ],
            [
             0.3,
             "#f1b6da"
            ],
            [
             0.4,
             "#fde0ef"
            ],
            [
             0.5,
             "#f7f7f7"
            ],
            [
             0.6,
             "#e6f5d0"
            ],
            [
             0.7,
             "#b8e186"
            ],
            [
             0.8,
             "#7fbc41"
            ],
            [
             0.9,
             "#4d9221"
            ],
            [
             1,
             "#276419"
            ]
           ],
           "sequential": [
            [
             0,
             "#0d0887"
            ],
            [
             0.1111111111111111,
             "#46039f"
            ],
            [
             0.2222222222222222,
             "#7201a8"
            ],
            [
             0.3333333333333333,
             "#9c179e"
            ],
            [
             0.4444444444444444,
             "#bd3786"
            ],
            [
             0.5555555555555556,
             "#d8576b"
            ],
            [
             0.6666666666666666,
             "#ed7953"
            ],
            [
             0.7777777777777778,
             "#fb9f3a"
            ],
            [
             0.8888888888888888,
             "#fdca26"
            ],
            [
             1,
             "#f0f921"
            ]
           ],
           "sequentialminus": [
            [
             0,
             "#0d0887"
            ],
            [
             0.1111111111111111,
             "#46039f"
            ],
            [
             0.2222222222222222,
             "#7201a8"
            ],
            [
             0.3333333333333333,
             "#9c179e"
            ],
            [
             0.4444444444444444,
             "#bd3786"
            ],
            [
             0.5555555555555556,
             "#d8576b"
            ],
            [
             0.6666666666666666,
             "#ed7953"
            ],
            [
             0.7777777777777778,
             "#fb9f3a"
            ],
            [
             0.8888888888888888,
             "#fdca26"
            ],
            [
             1,
             "#f0f921"
            ]
           ]
          },
          "colorway": [
           "#636efa",
           "#EF553B",
           "#00cc96",
           "#ab63fa",
           "#FFA15A",
           "#19d3f3",
           "#FF6692",
           "#B6E880",
           "#FF97FF",
           "#FECB52"
          ],
          "font": {
           "color": "#2a3f5f"
          },
          "geo": {
           "bgcolor": "white",
           "lakecolor": "white",
           "landcolor": "#E5ECF6",
           "showlakes": true,
           "showland": true,
           "subunitcolor": "white"
          },
          "hoverlabel": {
           "align": "left"
          },
          "hovermode": "closest",
          "mapbox": {
           "style": "light"
          },
          "paper_bgcolor": "white",
          "plot_bgcolor": "#E5ECF6",
          "polar": {
           "angularaxis": {
            "gridcolor": "white",
            "linecolor": "white",
            "ticks": ""
           },
           "bgcolor": "#E5ECF6",
           "radialaxis": {
            "gridcolor": "white",
            "linecolor": "white",
            "ticks": ""
           }
          },
          "scene": {
           "xaxis": {
            "backgroundcolor": "#E5ECF6",
            "gridcolor": "white",
            "gridwidth": 2,
            "linecolor": "white",
            "showbackground": true,
            "ticks": "",
            "zerolinecolor": "white"
           },
           "yaxis": {
            "backgroundcolor": "#E5ECF6",
            "gridcolor": "white",
            "gridwidth": 2,
            "linecolor": "white",
            "showbackground": true,
            "ticks": "",
            "zerolinecolor": "white"
           },
           "zaxis": {
            "backgroundcolor": "#E5ECF6",
            "gridcolor": "white",
            "gridwidth": 2,
            "linecolor": "white",
            "showbackground": true,
            "ticks": "",
            "zerolinecolor": "white"
           }
          },
          "shapedefaults": {
           "line": {
            "color": "#2a3f5f"
           }
          },
          "ternary": {
           "aaxis": {
            "gridcolor": "white",
            "linecolor": "white",
            "ticks": ""
           },
           "baxis": {
            "gridcolor": "white",
            "linecolor": "white",
            "ticks": ""
           },
           "bgcolor": "#E5ECF6",
           "caxis": {
            "gridcolor": "white",
            "linecolor": "white",
            "ticks": ""
           }
          },
          "title": {
           "x": 0.05
          },
          "xaxis": {
           "automargin": true,
           "gridcolor": "white",
           "linecolor": "white",
           "ticks": "",
           "title": {
            "standoff": 15
           },
           "zerolinecolor": "white",
           "zerolinewidth": 2
          },
          "yaxis": {
           "automargin": true,
           "gridcolor": "white",
           "linecolor": "white",
           "ticks": "",
           "title": {
            "standoff": 15
           },
           "zerolinecolor": "white",
           "zerolinewidth": 2
          }
         }
        },
        "yaxis": {
         "title": {
          "text": "Total Transactions"
         }
        },
        "yaxis2": {
         "anchor": "x",
         "overlaying": "y",
         "side": "right",
         "title": {
          "text": "Total Customers"
         }
        }
       }
      }
     },
     "metadata": {},
     "output_type": "display_data"
    }
   ],
   "source": [
    "plot_df = transactions_totals_per_SKUID\n",
    "plot_df = plot_df[plot_df[\"product_rank_bytotalprobrate\"] < 25]\n",
    "\n",
    "fig = go.Figure(\n",
    "    data=[\n",
    "        go.Bar(\n",
    "            name='Total Transactions',\n",
    "            x=plot_df[\"product_rank_bytotalprobrate\"],\n",
    "            y=plot_df[\"SKUID_total_transactions\"],\n",
    "            yaxis='y',\n",
    "            offsetgroup=1\n",
    "        ),\n",
    "        go.Bar(\n",
    "            name='Total Customers',\n",
    "            x=plot_df[\"product_rank_bytotalprobrate\"],\n",
    "            y=plot_df[\"SKUID_total_customers\"],\n",
    "            yaxis='y2',\n",
    "            offsetgroup=3\n",
    "        )\n",
    "    ],\n",
    "    layout={\n",
    "        'yaxis': dict(\n",
    "            title='Total Transactions'\n",
    "        ),\n",
    "        'yaxis2': dict(\n",
    "            title=\"Total Customers\",\n",
    "            anchor=\"x\",\n",
    "            overlaying=\"y\",\n",
    "            side=\"right\"\n",
    "        )\n",
    "    }\n",
    ")\n",
    "\n",
    "fig.update_layout(barmode='group')\n",
    "fig.show()"
   ]
  },
  {
   "cell_type": "code",
   "execution_count": 6,
   "metadata": {},
   "outputs": [],
   "source": [
    "first_order = (transactions\n",
    "    [transactions[\"ORDER_PRODUCT_RANK\"] == 1]\n",
    "    [[\"SKU_ID\",\"ORDER_RANK\"]]\n",
    "    .value_counts()\n",
    "    .rename(\"FIRST_ORDER_COUNTS\")\n",
    "    .reset_index()\n",
    ")\n",
    "\n",
    "df = (transactions[[\"SKU_ID\",*stat_columns,\"ORDER_RANK\"]].drop_duplicates()\n",
    "    .merge(first_order, on=[\"SKU_ID\",\"ORDER_RANK\"], how=\"left\")\n",
    "    .fillna({\"FIRST_ORDER_COUNTS\":0})\n",
    "    .sort_values([\"SKU_ID\",\"ORDER_RANK\"])\n",
    ")\n",
    "\n",
    "df[\"FIRST_ORDER_COUNTS\"] = df[\"FIRST_ORDER_COUNTS\"].astype(int)\n",
    "df[\"RATE\"] = df[\"FIRST_ORDER_COUNTS\"]/total_customers\n",
    "df[\"RATE_cumsum\"] = df.groupby(\"SKU_ID\")[\"RATE\"].cumsum()"
   ]
  },
  {
   "cell_type": "code",
   "execution_count": 7,
   "metadata": {},
   "outputs": [
    {
     "data": {
      "application/vnd.plotly.v1+json": {
       "config": {
        "plotlyServerURL": "https://plot.ly"
       },
       "data": [
        {
         "customdata": [
          [
           1026,
           2915,
           0.24347413383958236,
           8
          ],
          [
           1026,
           2915,
           0.24347413383958236,
           8
          ],
          [
           1026,
           2915,
           0.24347413383958236,
           8
          ],
          [
           1026,
           2915,
           0.24347413383958236,
           8
          ],
          [
           1026,
           2915,
           0.24347413383958236,
           8
          ],
          [
           1026,
           2915,
           0.24347413383958236,
           8
          ],
          [
           1026,
           2915,
           0.24347413383958236,
           8
          ],
          [
           1026,
           2915,
           0.24347413383958236,
           8
          ],
          [
           1026,
           2915,
           0.24347413383958236,
           8
          ],
          [
           1026,
           2915,
           0.24347413383958236,
           8
          ],
          [
           1026,
           2915,
           0.24347413383958236,
           8
          ],
          [
           1026,
           2915,
           0.24347413383958236,
           8
          ],
          [
           1026,
           2915,
           0.24347413383958236,
           8
          ]
         ],
         "hovertemplate": "SKU_ID=2201<br>ORDER_RANK=%{x}<br>RATE=%{y}<br>SKUID_total_customers=%{customdata[0]}<br>SKUID_total_transactions=%{customdata[1]}<br>SKUID_total_probability_rate=%{customdata[2]}<br>product_rank_bytotalprobrate=%{customdata[3]}<extra></extra>",
         "legendgroup": "2201",
         "line": {
          "color": "#636efa",
          "dash": "solid"
         },
         "marker": {
          "symbol": "circle"
         },
         "mode": "lines",
         "name": "2201",
         "orientation": "v",
         "showlegend": true,
         "type": "scatter",
         "x": [
          1,
          2,
          3,
          4,
          5,
          6,
          7,
          8,
          9,
          10,
          11,
          12,
          13
         ],
         "xaxis": "x",
         "y": [
          0.083531086853346,
          0.04841006169909824,
          0.029425723777883245,
          0.02420503084954912,
          0.013763644992880873,
          0.009254864736592311,
          0.00854295206454675,
          0.006407214048410062,
          0.0049833887043189366,
          0.0023730422401518746,
          0.0026103464641670624,
          0.0026103464641670624,
          0.0018984337921214998
         ],
         "yaxis": "y"
        },
        {
         "customdata": [
          [
           1072,
           3741,
           0.25439012814428097,
           5
          ],
          [
           1072,
           3741,
           0.25439012814428097,
           5
          ],
          [
           1072,
           3741,
           0.25439012814428097,
           5
          ],
          [
           1072,
           3741,
           0.25439012814428097,
           5
          ],
          [
           1072,
           3741,
           0.25439012814428097,
           5
          ],
          [
           1072,
           3741,
           0.25439012814428097,
           5
          ],
          [
           1072,
           3741,
           0.25439012814428097,
           5
          ],
          [
           1072,
           3741,
           0.25439012814428097,
           5
          ],
          [
           1072,
           3741,
           0.25439012814428097,
           5
          ],
          [
           1072,
           3741,
           0.25439012814428097,
           5
          ],
          [
           1072,
           3741,
           0.25439012814428097,
           5
          ],
          [
           1072,
           3741,
           0.25439012814428097,
           5
          ],
          [
           1072,
           3741,
           0.25439012814428097,
           5
          ],
          [
           1072,
           3741,
           0.25439012814428097,
           5
          ],
          [
           1072,
           3741,
           0.25439012814428097,
           5
          ]
         ],
         "hovertemplate": "SKU_ID=7026<br>ORDER_RANK=%{x}<br>RATE=%{y}<br>SKUID_total_customers=%{customdata[0]}<br>SKUID_total_transactions=%{customdata[1]}<br>SKUID_total_probability_rate=%{customdata[2]}<br>product_rank_bytotalprobrate=%{customdata[3]}<extra></extra>",
         "legendgroup": "7026",
         "line": {
          "color": "#EF553B",
          "dash": "solid"
         },
         "marker": {
          "symbol": "circle"
         },
         "mode": "lines",
         "name": "7026",
         "orientation": "v",
         "showlegend": true,
         "type": "scatter",
         "x": [
          1,
          2,
          3,
          4,
          5,
          6,
          7,
          8,
          9,
          10,
          11,
          12,
          13,
          14,
          15
         ],
         "xaxis": "x",
         "y": [
          0.08424299952539155,
          0.04935927859515899,
          0.03322259136212625,
          0.018984337921214997,
          0.014475557664926435,
          0.012339819648789748,
          0.007119126720455624,
          0.009492168960607499,
          0.004271476032273375,
          0.005932605600379687,
          0.0026103464641670624,
          0.0014238253440911248,
          0.0018984337921214998,
          0.0016611295681063123,
          0.0016611295681063123
         ],
         "yaxis": "y"
        },
        {
         "customdata": [
          [
           2092,
           11719,
           0.49644043663977216,
           0
          ],
          [
           2092,
           11719,
           0.49644043663977216,
           0
          ],
          [
           2092,
           11719,
           0.49644043663977216,
           0
          ],
          [
           2092,
           11719,
           0.49644043663977216,
           0
          ],
          [
           2092,
           11719,
           0.49644043663977216,
           0
          ],
          [
           2092,
           11719,
           0.49644043663977216,
           0
          ],
          [
           2092,
           11719,
           0.49644043663977216,
           0
          ],
          [
           2092,
           11719,
           0.49644043663977216,
           0
          ],
          [
           2092,
           11719,
           0.49644043663977216,
           0
          ],
          [
           2092,
           11719,
           0.49644043663977216,
           0
          ],
          [
           2092,
           11719,
           0.49644043663977216,
           0
          ]
         ],
         "hovertemplate": "SKU_ID=7038<br>ORDER_RANK=%{x}<br>RATE=%{y}<br>SKUID_total_customers=%{customdata[0]}<br>SKUID_total_transactions=%{customdata[1]}<br>SKUID_total_probability_rate=%{customdata[2]}<br>product_rank_bytotalprobrate=%{customdata[3]}<extra></extra>",
         "legendgroup": "7038",
         "line": {
          "color": "#00cc96",
          "dash": "solid"
         },
         "marker": {
          "symbol": "circle"
         },
         "mode": "lines",
         "name": "7038",
         "orientation": "v",
         "showlegend": true,
         "type": "scatter",
         "x": [
          1,
          2,
          3,
          4,
          5,
          6,
          7,
          8,
          9,
          10,
          11
         ],
         "xaxis": "x",
         "y": [
          0.22093023255813954,
          0.1117702895111533,
          0.05505457997152349,
          0.043901281442809685,
          0.022781205505457997,
          0.01566207878500237,
          0.006881822496440437,
          0.005457997152349312,
          0.003559563360227812,
          0.0023730422401518746,
          0.0023730422401518746
         ],
         "yaxis": "y"
        },
        {
         "customdata": [
          [
           1052,
           3056,
           0.24964404366397722,
           7
          ],
          [
           1052,
           3056,
           0.24964404366397722,
           7
          ],
          [
           1052,
           3056,
           0.24964404366397722,
           7
          ],
          [
           1052,
           3056,
           0.24964404366397722,
           7
          ],
          [
           1052,
           3056,
           0.24964404366397722,
           7
          ],
          [
           1052,
           3056,
           0.24964404366397722,
           7
          ],
          [
           1052,
           3056,
           0.24964404366397722,
           7
          ],
          [
           1052,
           3056,
           0.24964404366397722,
           7
          ],
          [
           1052,
           3056,
           0.24964404366397722,
           7
          ],
          [
           1052,
           3056,
           0.24964404366397722,
           7
          ],
          [
           1052,
           3056,
           0.24964404366397722,
           7
          ]
         ],
         "hovertemplate": "SKU_ID=7475<br>ORDER_RANK=%{x}<br>RATE=%{y}<br>SKUID_total_customers=%{customdata[0]}<br>SKUID_total_transactions=%{customdata[1]}<br>SKUID_total_probability_rate=%{customdata[2]}<br>product_rank_bytotalprobrate=%{customdata[3]}<extra></extra>",
         "legendgroup": "7475",
         "line": {
          "color": "#ab63fa",
          "dash": "solid"
         },
         "marker": {
          "symbol": "circle"
         },
         "mode": "lines",
         "name": "7475",
         "orientation": "v",
         "showlegend": true,
         "type": "scatter",
         "x": [
          1,
          2,
          3,
          4,
          5,
          6,
          7,
          8,
          9,
          10,
          14
         ],
         "xaxis": "x",
         "y": [
          0.07498813478879925,
          0.05505457997152349,
          0.036070242050308496,
          0.026103464641670623,
          0.01779781680113906,
          0.015424774560987186,
          0.008068343616516375,
          0.005457997152349312,
          0.0037968675842429997,
          0.0023730422401518746,
          0.0014238253440911248
         ],
         "yaxis": "y"
        },
        {
         "customdata": [
          [
           1840,
           7214,
           0.4366397721879449,
           1
          ],
          [
           1840,
           7214,
           0.4366397721879449,
           1
          ],
          [
           1840,
           7214,
           0.4366397721879449,
           1
          ],
          [
           1840,
           7214,
           0.4366397721879449,
           1
          ],
          [
           1840,
           7214,
           0.4366397721879449,
           1
          ],
          [
           1840,
           7214,
           0.4366397721879449,
           1
          ],
          [
           1840,
           7214,
           0.4366397721879449,
           1
          ],
          [
           1840,
           7214,
           0.4366397721879449,
           1
          ],
          [
           1840,
           7214,
           0.4366397721879449,
           1
          ],
          [
           1840,
           7214,
           0.4366397721879449,
           1
          ],
          [
           1840,
           7214,
           0.4366397721879449,
           1
          ],
          [
           1840,
           7214,
           0.4366397721879449,
           1
          ]
         ],
         "hovertemplate": "SKU_ID=7651<br>ORDER_RANK=%{x}<br>RATE=%{y}<br>SKUID_total_customers=%{customdata[0]}<br>SKUID_total_transactions=%{customdata[1]}<br>SKUID_total_probability_rate=%{customdata[2]}<br>product_rank_bytotalprobrate=%{customdata[3]}<extra></extra>",
         "legendgroup": "7651",
         "line": {
          "color": "#FFA15A",
          "dash": "solid"
         },
         "marker": {
          "symbol": "circle"
         },
         "mode": "lines",
         "name": "7651",
         "orientation": "v",
         "showlegend": true,
         "type": "scatter",
         "x": [
          1,
          2,
          3,
          4,
          5,
          6,
          7,
          8,
          9,
          10,
          11,
          12
         ],
         "xaxis": "x",
         "y": [
          0.18628381585192216,
          0.08946369245372568,
          0.052918841955386806,
          0.03440911248220219,
          0.022306597057427623,
          0.014475557664926435,
          0.011153298528713811,
          0.008305647840531562,
          0.006169909824394874,
          0.003559563360227812,
          0.0021357380161366873,
          0.0023730422401518746
         ],
         "yaxis": "y"
        },
        {
         "customdata": [
          [
           1011,
           3312,
           0.23991457047935452,
           10
          ],
          [
           1011,
           3312,
           0.23991457047935452,
           10
          ],
          [
           1011,
           3312,
           0.23991457047935452,
           10
          ],
          [
           1011,
           3312,
           0.23991457047935452,
           10
          ],
          [
           1011,
           3312,
           0.23991457047935452,
           10
          ],
          [
           1011,
           3312,
           0.23991457047935452,
           10
          ],
          [
           1011,
           3312,
           0.23991457047935452,
           10
          ],
          [
           1011,
           3312,
           0.23991457047935452,
           10
          ],
          [
           1011,
           3312,
           0.23991457047935452,
           10
          ],
          [
           1011,
           3312,
           0.23991457047935452,
           10
          ],
          [
           1011,
           3312,
           0.23991457047935452,
           10
          ],
          [
           1011,
           3312,
           0.23991457047935452,
           10
          ],
          [
           1011,
           3312,
           0.23991457047935452,
           10
          ]
         ],
         "hovertemplate": "SKU_ID=16667<br>ORDER_RANK=%{x}<br>RATE=%{y}<br>SKUID_total_customers=%{customdata[0]}<br>SKUID_total_transactions=%{customdata[1]}<br>SKUID_total_probability_rate=%{customdata[2]}<br>product_rank_bytotalprobrate=%{customdata[3]}<extra></extra>",
         "legendgroup": "16667",
         "line": {
          "color": "#19d3f3",
          "dash": "solid"
         },
         "marker": {
          "symbol": "circle"
         },
         "mode": "lines",
         "name": "16667",
         "orientation": "v",
         "showlegend": true,
         "type": "scatter",
         "x": [
          1,
          2,
          3,
          4,
          5,
          6,
          7,
          8,
          9,
          10,
          11,
          12,
          13
         ],
         "xaxis": "x",
         "y": [
          0.08234456573327005,
          0.04912197437114381,
          0.02918841955386806,
          0.01874703369719981,
          0.01589938300901756,
          0.013051732320835311,
          0.007356430944470811,
          0.007831039392501186,
          0.0037968675842429997,
          0.0026103464641670624,
          0.003084954912197437,
          0.0018984337921214998,
          0.0016611295681063123
         ],
         "yaxis": "y"
        },
        {
         "customdata": [
          [
           1025,
           3289,
           0.24323682961556717,
           9
          ],
          [
           1025,
           3289,
           0.24323682961556717,
           9
          ],
          [
           1025,
           3289,
           0.24323682961556717,
           9
          ],
          [
           1025,
           3289,
           0.24323682961556717,
           9
          ],
          [
           1025,
           3289,
           0.24323682961556717,
           9
          ],
          [
           1025,
           3289,
           0.24323682961556717,
           9
          ],
          [
           1025,
           3289,
           0.24323682961556717,
           9
          ],
          [
           1025,
           3289,
           0.24323682961556717,
           9
          ],
          [
           1025,
           3289,
           0.24323682961556717,
           9
          ],
          [
           1025,
           3289,
           0.24323682961556717,
           9
          ],
          [
           1025,
           3289,
           0.24323682961556717,
           9
          ],
          [
           1025,
           3289,
           0.24323682961556717,
           9
          ]
         ],
         "hovertemplate": "SKU_ID=16668<br>ORDER_RANK=%{x}<br>RATE=%{y}<br>SKUID_total_customers=%{customdata[0]}<br>SKUID_total_transactions=%{customdata[1]}<br>SKUID_total_probability_rate=%{customdata[2]}<br>product_rank_bytotalprobrate=%{customdata[3]}<extra></extra>",
         "legendgroup": "16668",
         "line": {
          "color": "#FF6692",
          "dash": "solid"
         },
         "marker": {
          "symbol": "circle"
         },
         "mode": "lines",
         "name": "16668",
         "orientation": "v",
         "showlegend": true,
         "type": "scatter",
         "x": [
          1,
          2,
          3,
          4,
          5,
          6,
          7,
          8,
          9,
          10,
          11,
          13
         ],
         "xaxis": "x",
         "y": [
          0.01945894636924537,
          0.05552918841955387,
          0.05434266729947793,
          0.04057902230659706,
          0.028476506881822496,
          0.01400094921689606,
          0.011153298528713811,
          0.005695301376364499,
          0.0026103464641670624,
          0.0023730422401518746,
          0.0028476506881822496,
          0.0014238253440911248
         ],
         "yaxis": "y"
        },
        {
         "customdata": [
          [
           1692,
           7666,
           0.4015187470336972,
           2
          ],
          [
           1692,
           7666,
           0.4015187470336972,
           2
          ],
          [
           1692,
           7666,
           0.4015187470336972,
           2
          ],
          [
           1692,
           7666,
           0.4015187470336972,
           2
          ],
          [
           1692,
           7666,
           0.4015187470336972,
           2
          ],
          [
           1692,
           7666,
           0.4015187470336972,
           2
          ],
          [
           1692,
           7666,
           0.4015187470336972,
           2
          ],
          [
           1692,
           7666,
           0.4015187470336972,
           2
          ],
          [
           1692,
           7666,
           0.4015187470336972,
           2
          ],
          [
           1692,
           7666,
           0.4015187470336972,
           2
          ],
          [
           1692,
           7666,
           0.4015187470336972,
           2
          ]
         ],
         "hovertemplate": "SKU_ID=19088<br>ORDER_RANK=%{x}<br>RATE=%{y}<br>SKUID_total_customers=%{customdata[0]}<br>SKUID_total_transactions=%{customdata[1]}<br>SKUID_total_probability_rate=%{customdata[2]}<br>product_rank_bytotalprobrate=%{customdata[3]}<extra></extra>",
         "legendgroup": "19088",
         "line": {
          "color": "#B6E880",
          "dash": "solid"
         },
         "marker": {
          "symbol": "circle"
         },
         "mode": "lines",
         "name": "19088",
         "orientation": "v",
         "showlegend": true,
         "type": "scatter",
         "x": [
          1,
          2,
          3,
          4,
          5,
          6,
          7,
          8,
          9,
          10,
          11
         ],
         "xaxis": "x",
         "y": [
          0.23042240151874704,
          0.07925961082107262,
          0.03986710963455149,
          0.016373991457047935,
          0.01400094921689606,
          0.006169909824394874,
          0.004508780256288562,
          0.003084954912197437,
          0.0014238253440911248,
          0.0016611295681063123,
          0.0016611295681063123
         ],
         "yaxis": "y"
        },
        {
         "customdata": [
          [
           1292,
           3971,
           0.3065970574276222,
           4
          ],
          [
           1292,
           3971,
           0.3065970574276222,
           4
          ],
          [
           1292,
           3971,
           0.3065970574276222,
           4
          ],
          [
           1292,
           3971,
           0.3065970574276222,
           4
          ],
          [
           1292,
           3971,
           0.3065970574276222,
           4
          ],
          [
           1292,
           3971,
           0.3065970574276222,
           4
          ],
          [
           1292,
           3971,
           0.3065970574276222,
           4
          ],
          [
           1292,
           3971,
           0.3065970574276222,
           4
          ],
          [
           1292,
           3971,
           0.3065970574276222,
           4
          ],
          [
           1292,
           3971,
           0.3065970574276222,
           4
          ],
          [
           1292,
           3971,
           0.3065970574276222,
           4
          ],
          [
           1292,
           3971,
           0.3065970574276222,
           4
          ]
         ],
         "hovertemplate": "SKU_ID=19341<br>ORDER_RANK=%{x}<br>RATE=%{y}<br>SKUID_total_customers=%{customdata[0]}<br>SKUID_total_transactions=%{customdata[1]}<br>SKUID_total_probability_rate=%{customdata[2]}<br>product_rank_bytotalprobrate=%{customdata[3]}<extra></extra>",
         "legendgroup": "19341",
         "line": {
          "color": "#FF97FF",
          "dash": "solid"
         },
         "marker": {
          "symbol": "circle"
         },
         "mode": "lines",
         "name": "19341",
         "orientation": "v",
         "showlegend": true,
         "type": "scatter",
         "x": [
          1,
          2,
          3,
          4,
          5,
          6,
          7,
          8,
          9,
          10,
          11,
          12
         ],
         "xaxis": "x",
         "y": [
          0.13597532036070242,
          0.06288561936402468,
          0.04129093497864262,
          0.019221642145230186,
          0.01566207878500237,
          0.010678690080683437,
          0.006881822496440437,
          0.0026103464641670624,
          0.0021357380161366873,
          0.0014238253440911248,
          0.0016611295681063123,
          0.0021357380161366873
         ],
         "yaxis": "y"
        },
        {
         "customdata": [
          [
           1070,
           3357,
           0.2539155196962506,
           6
          ],
          [
           1070,
           3357,
           0.2539155196962506,
           6
          ],
          [
           1070,
           3357,
           0.2539155196962506,
           6
          ],
          [
           1070,
           3357,
           0.2539155196962506,
           6
          ],
          [
           1070,
           3357,
           0.2539155196962506,
           6
          ],
          [
           1070,
           3357,
           0.2539155196962506,
           6
          ],
          [
           1070,
           3357,
           0.2539155196962506,
           6
          ],
          [
           1070,
           3357,
           0.2539155196962506,
           6
          ],
          [
           1070,
           3357,
           0.2539155196962506,
           6
          ],
          [
           1070,
           3357,
           0.2539155196962506,
           6
          ],
          [
           1070,
           3357,
           0.2539155196962506,
           6
          ],
          [
           1070,
           3357,
           0.2539155196962506,
           6
          ]
         ],
         "hovertemplate": "SKU_ID=23902<br>ORDER_RANK=%{x}<br>RATE=%{y}<br>SKUID_total_customers=%{customdata[0]}<br>SKUID_total_transactions=%{customdata[1]}<br>SKUID_total_probability_rate=%{customdata[2]}<br>product_rank_bytotalprobrate=%{customdata[3]}<extra></extra>",
         "legendgroup": "23902",
         "line": {
          "color": "#FECB52",
          "dash": "solid"
         },
         "marker": {
          "symbol": "circle"
         },
         "mode": "lines",
         "name": "23902",
         "orientation": "v",
         "showlegend": true,
         "type": "scatter",
         "x": [
          1,
          2,
          3,
          4,
          5,
          6,
          7,
          8,
          9,
          10,
          11,
          12
         ],
         "xaxis": "x",
         "y": [
          0.1060749881347888,
          0.051257712387280496,
          0.03179876601803512,
          0.021120075937351684,
          0.011627906976744186,
          0.006881822496440437,
          0.005695301376364499,
          0.004508780256288562,
          0.003559563360227812,
          0.003084954912197437,
          0.0014238253440911248,
          0.0014238253440911248
         ],
         "yaxis": "y"
        },
        {
         "customdata": [
          [
           1534,
           6619,
           0.3640246796392976,
           3
          ],
          [
           1534,
           6619,
           0.3640246796392976,
           3
          ],
          [
           1534,
           6619,
           0.3640246796392976,
           3
          ],
          [
           1534,
           6619,
           0.3640246796392976,
           3
          ],
          [
           1534,
           6619,
           0.3640246796392976,
           3
          ],
          [
           1534,
           6619,
           0.3640246796392976,
           3
          ],
          [
           1534,
           6619,
           0.3640246796392976,
           3
          ],
          [
           1534,
           6619,
           0.3640246796392976,
           3
          ],
          [
           1534,
           6619,
           0.3640246796392976,
           3
          ],
          [
           1534,
           6619,
           0.3640246796392976,
           3
          ],
          [
           1534,
           6619,
           0.3640246796392976,
           3
          ],
          [
           1534,
           6619,
           0.3640246796392976,
           3
          ],
          [
           1534,
           6619,
           0.3640246796392976,
           3
          ],
          [
           1534,
           6619,
           0.3640246796392976,
           3
          ]
         ],
         "hovertemplate": "SKU_ID=24880<br>ORDER_RANK=%{x}<br>RATE=%{y}<br>SKUID_total_customers=%{customdata[0]}<br>SKUID_total_transactions=%{customdata[1]}<br>SKUID_total_probability_rate=%{customdata[2]}<br>product_rank_bytotalprobrate=%{customdata[3]}<extra></extra>",
         "legendgroup": "24880",
         "line": {
          "color": "#636efa",
          "dash": "solid"
         },
         "marker": {
          "symbol": "circle"
         },
         "mode": "lines",
         "name": "24880",
         "orientation": "v",
         "showlegend": true,
         "type": "scatter",
         "x": [
          1,
          2,
          3,
          4,
          5,
          6,
          7,
          8,
          9,
          10,
          11,
          12,
          13,
          14
         ],
         "xaxis": "x",
         "y": [
          0.12861888941623162,
          0.07593735168485999,
          0.04603701945894637,
          0.03132415757000474,
          0.022543901281442808,
          0.01589938300901756,
          0.011627906976744186,
          0.009492168960607499,
          0.0037968675842429997,
          0.005695301376364499,
          0.0037968675842429997,
          0.0028476506881822496,
          0.0016611295681063123,
          0.0014238253440911248
         ],
         "yaxis": "y"
        }
       ],
       "layout": {
        "legend": {
         "title": {
          "text": "SKU_ID"
         },
         "tracegroupgap": 0
        },
        "template": {
         "data": {
          "bar": [
           {
            "error_x": {
             "color": "#2a3f5f"
            },
            "error_y": {
             "color": "#2a3f5f"
            },
            "marker": {
             "line": {
              "color": "#E5ECF6",
              "width": 0.5
             },
             "pattern": {
              "fillmode": "overlay",
              "size": 10,
              "solidity": 0.2
             }
            },
            "type": "bar"
           }
          ],
          "barpolar": [
           {
            "marker": {
             "line": {
              "color": "#E5ECF6",
              "width": 0.5
             },
             "pattern": {
              "fillmode": "overlay",
              "size": 10,
              "solidity": 0.2
             }
            },
            "type": "barpolar"
           }
          ],
          "carpet": [
           {
            "aaxis": {
             "endlinecolor": "#2a3f5f",
             "gridcolor": "white",
             "linecolor": "white",
             "minorgridcolor": "white",
             "startlinecolor": "#2a3f5f"
            },
            "baxis": {
             "endlinecolor": "#2a3f5f",
             "gridcolor": "white",
             "linecolor": "white",
             "minorgridcolor": "white",
             "startlinecolor": "#2a3f5f"
            },
            "type": "carpet"
           }
          ],
          "choropleth": [
           {
            "colorbar": {
             "outlinewidth": 0,
             "ticks": ""
            },
            "type": "choropleth"
           }
          ],
          "contour": [
           {
            "colorbar": {
             "outlinewidth": 0,
             "ticks": ""
            },
            "colorscale": [
             [
              0,
              "#0d0887"
             ],
             [
              0.1111111111111111,
              "#46039f"
             ],
             [
              0.2222222222222222,
              "#7201a8"
             ],
             [
              0.3333333333333333,
              "#9c179e"
             ],
             [
              0.4444444444444444,
              "#bd3786"
             ],
             [
              0.5555555555555556,
              "#d8576b"
             ],
             [
              0.6666666666666666,
              "#ed7953"
             ],
             [
              0.7777777777777778,
              "#fb9f3a"
             ],
             [
              0.8888888888888888,
              "#fdca26"
             ],
             [
              1,
              "#f0f921"
             ]
            ],
            "type": "contour"
           }
          ],
          "contourcarpet": [
           {
            "colorbar": {
             "outlinewidth": 0,
             "ticks": ""
            },
            "type": "contourcarpet"
           }
          ],
          "heatmap": [
           {
            "colorbar": {
             "outlinewidth": 0,
             "ticks": ""
            },
            "colorscale": [
             [
              0,
              "#0d0887"
             ],
             [
              0.1111111111111111,
              "#46039f"
             ],
             [
              0.2222222222222222,
              "#7201a8"
             ],
             [
              0.3333333333333333,
              "#9c179e"
             ],
             [
              0.4444444444444444,
              "#bd3786"
             ],
             [
              0.5555555555555556,
              "#d8576b"
             ],
             [
              0.6666666666666666,
              "#ed7953"
             ],
             [
              0.7777777777777778,
              "#fb9f3a"
             ],
             [
              0.8888888888888888,
              "#fdca26"
             ],
             [
              1,
              "#f0f921"
             ]
            ],
            "type": "heatmap"
           }
          ],
          "heatmapgl": [
           {
            "colorbar": {
             "outlinewidth": 0,
             "ticks": ""
            },
            "colorscale": [
             [
              0,
              "#0d0887"
             ],
             [
              0.1111111111111111,
              "#46039f"
             ],
             [
              0.2222222222222222,
              "#7201a8"
             ],
             [
              0.3333333333333333,
              "#9c179e"
             ],
             [
              0.4444444444444444,
              "#bd3786"
             ],
             [
              0.5555555555555556,
              "#d8576b"
             ],
             [
              0.6666666666666666,
              "#ed7953"
             ],
             [
              0.7777777777777778,
              "#fb9f3a"
             ],
             [
              0.8888888888888888,
              "#fdca26"
             ],
             [
              1,
              "#f0f921"
             ]
            ],
            "type": "heatmapgl"
           }
          ],
          "histogram": [
           {
            "marker": {
             "pattern": {
              "fillmode": "overlay",
              "size": 10,
              "solidity": 0.2
             }
            },
            "type": "histogram"
           }
          ],
          "histogram2d": [
           {
            "colorbar": {
             "outlinewidth": 0,
             "ticks": ""
            },
            "colorscale": [
             [
              0,
              "#0d0887"
             ],
             [
              0.1111111111111111,
              "#46039f"
             ],
             [
              0.2222222222222222,
              "#7201a8"
             ],
             [
              0.3333333333333333,
              "#9c179e"
             ],
             [
              0.4444444444444444,
              "#bd3786"
             ],
             [
              0.5555555555555556,
              "#d8576b"
             ],
             [
              0.6666666666666666,
              "#ed7953"
             ],
             [
              0.7777777777777778,
              "#fb9f3a"
             ],
             [
              0.8888888888888888,
              "#fdca26"
             ],
             [
              1,
              "#f0f921"
             ]
            ],
            "type": "histogram2d"
           }
          ],
          "histogram2dcontour": [
           {
            "colorbar": {
             "outlinewidth": 0,
             "ticks": ""
            },
            "colorscale": [
             [
              0,
              "#0d0887"
             ],
             [
              0.1111111111111111,
              "#46039f"
             ],
             [
              0.2222222222222222,
              "#7201a8"
             ],
             [
              0.3333333333333333,
              "#9c179e"
             ],
             [
              0.4444444444444444,
              "#bd3786"
             ],
             [
              0.5555555555555556,
              "#d8576b"
             ],
             [
              0.6666666666666666,
              "#ed7953"
             ],
             [
              0.7777777777777778,
              "#fb9f3a"
             ],
             [
              0.8888888888888888,
              "#fdca26"
             ],
             [
              1,
              "#f0f921"
             ]
            ],
            "type": "histogram2dcontour"
           }
          ],
          "mesh3d": [
           {
            "colorbar": {
             "outlinewidth": 0,
             "ticks": ""
            },
            "type": "mesh3d"
           }
          ],
          "parcoords": [
           {
            "line": {
             "colorbar": {
              "outlinewidth": 0,
              "ticks": ""
             }
            },
            "type": "parcoords"
           }
          ],
          "pie": [
           {
            "automargin": true,
            "type": "pie"
           }
          ],
          "scatter": [
           {
            "fillpattern": {
             "fillmode": "overlay",
             "size": 10,
             "solidity": 0.2
            },
            "type": "scatter"
           }
          ],
          "scatter3d": [
           {
            "line": {
             "colorbar": {
              "outlinewidth": 0,
              "ticks": ""
             }
            },
            "marker": {
             "colorbar": {
              "outlinewidth": 0,
              "ticks": ""
             }
            },
            "type": "scatter3d"
           }
          ],
          "scattercarpet": [
           {
            "marker": {
             "colorbar": {
              "outlinewidth": 0,
              "ticks": ""
             }
            },
            "type": "scattercarpet"
           }
          ],
          "scattergeo": [
           {
            "marker": {
             "colorbar": {
              "outlinewidth": 0,
              "ticks": ""
             }
            },
            "type": "scattergeo"
           }
          ],
          "scattergl": [
           {
            "marker": {
             "colorbar": {
              "outlinewidth": 0,
              "ticks": ""
             }
            },
            "type": "scattergl"
           }
          ],
          "scattermapbox": [
           {
            "marker": {
             "colorbar": {
              "outlinewidth": 0,
              "ticks": ""
             }
            },
            "type": "scattermapbox"
           }
          ],
          "scatterpolar": [
           {
            "marker": {
             "colorbar": {
              "outlinewidth": 0,
              "ticks": ""
             }
            },
            "type": "scatterpolar"
           }
          ],
          "scatterpolargl": [
           {
            "marker": {
             "colorbar": {
              "outlinewidth": 0,
              "ticks": ""
             }
            },
            "type": "scatterpolargl"
           }
          ],
          "scatterternary": [
           {
            "marker": {
             "colorbar": {
              "outlinewidth": 0,
              "ticks": ""
             }
            },
            "type": "scatterternary"
           }
          ],
          "surface": [
           {
            "colorbar": {
             "outlinewidth": 0,
             "ticks": ""
            },
            "colorscale": [
             [
              0,
              "#0d0887"
             ],
             [
              0.1111111111111111,
              "#46039f"
             ],
             [
              0.2222222222222222,
              "#7201a8"
             ],
             [
              0.3333333333333333,
              "#9c179e"
             ],
             [
              0.4444444444444444,
              "#bd3786"
             ],
             [
              0.5555555555555556,
              "#d8576b"
             ],
             [
              0.6666666666666666,
              "#ed7953"
             ],
             [
              0.7777777777777778,
              "#fb9f3a"
             ],
             [
              0.8888888888888888,
              "#fdca26"
             ],
             [
              1,
              "#f0f921"
             ]
            ],
            "type": "surface"
           }
          ],
          "table": [
           {
            "cells": {
             "fill": {
              "color": "#EBF0F8"
             },
             "line": {
              "color": "white"
             }
            },
            "header": {
             "fill": {
              "color": "#C8D4E3"
             },
             "line": {
              "color": "white"
             }
            },
            "type": "table"
           }
          ]
         },
         "layout": {
          "annotationdefaults": {
           "arrowcolor": "#2a3f5f",
           "arrowhead": 0,
           "arrowwidth": 1
          },
          "autotypenumbers": "strict",
          "coloraxis": {
           "colorbar": {
            "outlinewidth": 0,
            "ticks": ""
           }
          },
          "colorscale": {
           "diverging": [
            [
             0,
             "#8e0152"
            ],
            [
             0.1,
             "#c51b7d"
            ],
            [
             0.2,
             "#de77ae"
            ],
            [
             0.3,
             "#f1b6da"
            ],
            [
             0.4,
             "#fde0ef"
            ],
            [
             0.5,
             "#f7f7f7"
            ],
            [
             0.6,
             "#e6f5d0"
            ],
            [
             0.7,
             "#b8e186"
            ],
            [
             0.8,
             "#7fbc41"
            ],
            [
             0.9,
             "#4d9221"
            ],
            [
             1,
             "#276419"
            ]
           ],
           "sequential": [
            [
             0,
             "#0d0887"
            ],
            [
             0.1111111111111111,
             "#46039f"
            ],
            [
             0.2222222222222222,
             "#7201a8"
            ],
            [
             0.3333333333333333,
             "#9c179e"
            ],
            [
             0.4444444444444444,
             "#bd3786"
            ],
            [
             0.5555555555555556,
             "#d8576b"
            ],
            [
             0.6666666666666666,
             "#ed7953"
            ],
            [
             0.7777777777777778,
             "#fb9f3a"
            ],
            [
             0.8888888888888888,
             "#fdca26"
            ],
            [
             1,
             "#f0f921"
            ]
           ],
           "sequentialminus": [
            [
             0,
             "#0d0887"
            ],
            [
             0.1111111111111111,
             "#46039f"
            ],
            [
             0.2222222222222222,
             "#7201a8"
            ],
            [
             0.3333333333333333,
             "#9c179e"
            ],
            [
             0.4444444444444444,
             "#bd3786"
            ],
            [
             0.5555555555555556,
             "#d8576b"
            ],
            [
             0.6666666666666666,
             "#ed7953"
            ],
            [
             0.7777777777777778,
             "#fb9f3a"
            ],
            [
             0.8888888888888888,
             "#fdca26"
            ],
            [
             1,
             "#f0f921"
            ]
           ]
          },
          "colorway": [
           "#636efa",
           "#EF553B",
           "#00cc96",
           "#ab63fa",
           "#FFA15A",
           "#19d3f3",
           "#FF6692",
           "#B6E880",
           "#FF97FF",
           "#FECB52"
          ],
          "font": {
           "color": "#2a3f5f"
          },
          "geo": {
           "bgcolor": "white",
           "lakecolor": "white",
           "landcolor": "#E5ECF6",
           "showlakes": true,
           "showland": true,
           "subunitcolor": "white"
          },
          "hoverlabel": {
           "align": "left"
          },
          "hovermode": "closest",
          "mapbox": {
           "style": "light"
          },
          "paper_bgcolor": "white",
          "plot_bgcolor": "#E5ECF6",
          "polar": {
           "angularaxis": {
            "gridcolor": "white",
            "linecolor": "white",
            "ticks": ""
           },
           "bgcolor": "#E5ECF6",
           "radialaxis": {
            "gridcolor": "white",
            "linecolor": "white",
            "ticks": ""
           }
          },
          "scene": {
           "xaxis": {
            "backgroundcolor": "#E5ECF6",
            "gridcolor": "white",
            "gridwidth": 2,
            "linecolor": "white",
            "showbackground": true,
            "ticks": "",
            "zerolinecolor": "white"
           },
           "yaxis": {
            "backgroundcolor": "#E5ECF6",
            "gridcolor": "white",
            "gridwidth": 2,
            "linecolor": "white",
            "showbackground": true,
            "ticks": "",
            "zerolinecolor": "white"
           },
           "zaxis": {
            "backgroundcolor": "#E5ECF6",
            "gridcolor": "white",
            "gridwidth": 2,
            "linecolor": "white",
            "showbackground": true,
            "ticks": "",
            "zerolinecolor": "white"
           }
          },
          "shapedefaults": {
           "line": {
            "color": "#2a3f5f"
           }
          },
          "ternary": {
           "aaxis": {
            "gridcolor": "white",
            "linecolor": "white",
            "ticks": ""
           },
           "baxis": {
            "gridcolor": "white",
            "linecolor": "white",
            "ticks": ""
           },
           "bgcolor": "#E5ECF6",
           "caxis": {
            "gridcolor": "white",
            "linecolor": "white",
            "ticks": ""
           }
          },
          "title": {
           "x": 0.05
          },
          "xaxis": {
           "automargin": true,
           "gridcolor": "white",
           "linecolor": "white",
           "ticks": "",
           "title": {
            "standoff": 15
           },
           "zerolinecolor": "white",
           "zerolinewidth": 2
          },
          "yaxis": {
           "automargin": true,
           "gridcolor": "white",
           "linecolor": "white",
           "ticks": "",
           "title": {
            "standoff": 15
           },
           "zerolinecolor": "white",
           "zerolinewidth": 2
          }
         }
        },
        "title": {
         "text": "SKU_ID between [0, 10]"
        },
        "xaxis": {
         "anchor": "y",
         "domain": [
          0,
          1
         ],
         "title": {
          "text": "ORDER_RANK"
         }
        },
        "yaxis": {
         "anchor": "x",
         "domain": [
          0,
          1
         ],
         "title": {
          "text": "RATE"
         }
        }
       }
      }
     },
     "metadata": {},
     "output_type": "display_data"
    },
    {
     "data": {
      "application/vnd.plotly.v1+json": {
       "config": {
        "plotlyServerURL": "https://plot.ly"
       },
       "data": [
        {
         "customdata": [
          [
           1010,
           2121,
           0.23967726625533933,
           11
          ],
          [
           1010,
           2121,
           0.23967726625533933,
           11
          ],
          [
           1010,
           2121,
           0.23967726625533933,
           11
          ],
          [
           1010,
           2121,
           0.23967726625533933,
           11
          ],
          [
           1010,
           2121,
           0.23967726625533933,
           11
          ],
          [
           1010,
           2121,
           0.23967726625533933,
           11
          ],
          [
           1010,
           2121,
           0.23967726625533933,
           11
          ],
          [
           1010,
           2121,
           0.23967726625533933,
           11
          ],
          [
           1010,
           2121,
           0.23967726625533933,
           11
          ],
          [
           1010,
           2121,
           0.23967726625533933,
           11
          ],
          [
           1010,
           2121,
           0.23967726625533933,
           11
          ],
          [
           1010,
           2121,
           0.23967726625533933,
           11
          ]
         ],
         "hovertemplate": "SKU_ID=1416<br>ORDER_RANK=%{x}<br>RATE=%{y}<br>SKUID_total_customers=%{customdata[0]}<br>SKUID_total_transactions=%{customdata[1]}<br>SKUID_total_probability_rate=%{customdata[2]}<br>product_rank_bytotalprobrate=%{customdata[3]}<extra></extra>",
         "legendgroup": "1416",
         "line": {
          "color": "#636efa",
          "dash": "solid"
         },
         "marker": {
          "symbol": "circle"
         },
         "mode": "lines",
         "name": "1416",
         "orientation": "v",
         "showlegend": true,
         "type": "scatter",
         "x": [
          1,
          2,
          3,
          4,
          5,
          6,
          7,
          8,
          9,
          10,
          11,
          12
         ],
         "xaxis": "x",
         "y": [
          0.03322259136212625,
          0.052918841955386806,
          0.046511627906976744,
          0.03322259136212625,
          0.023018509729473186,
          0.01613668723303275,
          0.009017560512577124,
          0.007119126720455624,
          0.004271476032273375,
          0.0028476506881822496,
          0.0049833887043189366,
          0.0023730422401518746
         ],
         "yaxis": "y"
        },
        {
         "customdata": [
          [
           997,
           2792,
           0.2365923113431419,
           12
          ],
          [
           997,
           2792,
           0.2365923113431419,
           12
          ],
          [
           997,
           2792,
           0.2365923113431419,
           12
          ],
          [
           997,
           2792,
           0.2365923113431419,
           12
          ],
          [
           997,
           2792,
           0.2365923113431419,
           12
          ],
          [
           997,
           2792,
           0.2365923113431419,
           12
          ],
          [
           997,
           2792,
           0.2365923113431419,
           12
          ],
          [
           997,
           2792,
           0.2365923113431419,
           12
          ],
          [
           997,
           2792,
           0.2365923113431419,
           12
          ],
          [
           997,
           2792,
           0.2365923113431419,
           12
          ],
          [
           997,
           2792,
           0.2365923113431419,
           12
          ],
          [
           997,
           2792,
           0.2365923113431419,
           12
          ],
          [
           997,
           2792,
           0.2365923113431419,
           12
          ]
         ],
         "hovertemplate": "SKU_ID=7476<br>ORDER_RANK=%{x}<br>RATE=%{y}<br>SKUID_total_customers=%{customdata[0]}<br>SKUID_total_transactions=%{customdata[1]}<br>SKUID_total_probability_rate=%{customdata[2]}<br>product_rank_bytotalprobrate=%{customdata[3]}<extra></extra>",
         "legendgroup": "7476",
         "line": {
          "color": "#EF553B",
          "dash": "solid"
         },
         "marker": {
          "symbol": "circle"
         },
         "mode": "lines",
         "name": "7476",
         "orientation": "v",
         "showlegend": true,
         "type": "scatter",
         "x": [
          1,
          2,
          3,
          4,
          5,
          6,
          7,
          8,
          9,
          10,
          11,
          13,
          15
         ],
         "xaxis": "x",
         "y": [
          0.07593735168485999,
          0.04817275747508306,
          0.03203607024205031,
          0.021120075937351684,
          0.014475557664926435,
          0.013526340768865686,
          0.00854295206454675,
          0.007593735168485999,
          0.003084954912197437,
          0.0023730422401518746,
          0.0028476506881822496,
          0.0018984337921214998,
          0.0014238253440911248
         ],
         "yaxis": "y"
        },
        {
         "customdata": [
          [
           1011,
           3312,
           0.23991457047935452,
           10
          ],
          [
           1011,
           3312,
           0.23991457047935452,
           10
          ],
          [
           1011,
           3312,
           0.23991457047935452,
           10
          ],
          [
           1011,
           3312,
           0.23991457047935452,
           10
          ],
          [
           1011,
           3312,
           0.23991457047935452,
           10
          ],
          [
           1011,
           3312,
           0.23991457047935452,
           10
          ],
          [
           1011,
           3312,
           0.23991457047935452,
           10
          ],
          [
           1011,
           3312,
           0.23991457047935452,
           10
          ],
          [
           1011,
           3312,
           0.23991457047935452,
           10
          ],
          [
           1011,
           3312,
           0.23991457047935452,
           10
          ],
          [
           1011,
           3312,
           0.23991457047935452,
           10
          ],
          [
           1011,
           3312,
           0.23991457047935452,
           10
          ],
          [
           1011,
           3312,
           0.23991457047935452,
           10
          ]
         ],
         "hovertemplate": "SKU_ID=16667<br>ORDER_RANK=%{x}<br>RATE=%{y}<br>SKUID_total_customers=%{customdata[0]}<br>SKUID_total_transactions=%{customdata[1]}<br>SKUID_total_probability_rate=%{customdata[2]}<br>product_rank_bytotalprobrate=%{customdata[3]}<extra></extra>",
         "legendgroup": "16667",
         "line": {
          "color": "#00cc96",
          "dash": "solid"
         },
         "marker": {
          "symbol": "circle"
         },
         "mode": "lines",
         "name": "16667",
         "orientation": "v",
         "showlegend": true,
         "type": "scatter",
         "x": [
          1,
          2,
          3,
          4,
          5,
          6,
          7,
          8,
          9,
          10,
          11,
          12,
          13
         ],
         "xaxis": "x",
         "y": [
          0.08234456573327005,
          0.04912197437114381,
          0.02918841955386806,
          0.01874703369719981,
          0.01589938300901756,
          0.013051732320835311,
          0.007356430944470811,
          0.007831039392501186,
          0.0037968675842429997,
          0.0026103464641670624,
          0.003084954912197437,
          0.0018984337921214998,
          0.0016611295681063123
         ],
         "yaxis": "y"
        },
        {
         "customdata": [
          [
           845,
           2503,
           0.20052206929283342,
           17
          ],
          [
           845,
           2503,
           0.20052206929283342,
           17
          ],
          [
           845,
           2503,
           0.20052206929283342,
           17
          ],
          [
           845,
           2503,
           0.20052206929283342,
           17
          ],
          [
           845,
           2503,
           0.20052206929283342,
           17
          ],
          [
           845,
           2503,
           0.20052206929283342,
           17
          ],
          [
           845,
           2503,
           0.20052206929283342,
           17
          ],
          [
           845,
           2503,
           0.20052206929283342,
           17
          ],
          [
           845,
           2503,
           0.20052206929283342,
           17
          ],
          [
           845,
           2503,
           0.20052206929283342,
           17
          ],
          [
           845,
           2503,
           0.20052206929283342,
           17
          ],
          [
           845,
           2503,
           0.20052206929283342,
           17
          ],
          [
           845,
           2503,
           0.20052206929283342,
           17
          ],
          [
           845,
           2503,
           0.20052206929283342,
           17
          ]
         ],
         "hovertemplate": "SKU_ID=16936<br>ORDER_RANK=%{x}<br>RATE=%{y}<br>SKUID_total_customers=%{customdata[0]}<br>SKUID_total_transactions=%{customdata[1]}<br>SKUID_total_probability_rate=%{customdata[2]}<br>product_rank_bytotalprobrate=%{customdata[3]}<extra></extra>",
         "legendgroup": "16936",
         "line": {
          "color": "#ab63fa",
          "dash": "solid"
         },
         "marker": {
          "symbol": "circle"
         },
         "mode": "lines",
         "name": "16936",
         "orientation": "v",
         "showlegend": true,
         "type": "scatter",
         "x": [
          1,
          2,
          3,
          4,
          5,
          6,
          7,
          8,
          9,
          10,
          11,
          12,
          13,
          14
         ],
         "xaxis": "x",
         "y": [
          0.06193640246796393,
          0.036307546274323685,
          0.02918841955386806,
          0.018984337921214997,
          0.015187470336971999,
          0.007593735168485999,
          0.007119126720455624,
          0.006169909824394874,
          0.004271476032273375,
          0.0037968675842429997,
          0.0018984337921214998,
          0.0016611295681063123,
          0.0016611295681063123,
          0.0016611295681063123
         ],
         "yaxis": "y"
        },
        {
         "customdata": [
          [
           823,
           2430,
           0.1953013763644993,
           19
          ],
          [
           823,
           2430,
           0.1953013763644993,
           19
          ],
          [
           823,
           2430,
           0.1953013763644993,
           19
          ],
          [
           823,
           2430,
           0.1953013763644993,
           19
          ],
          [
           823,
           2430,
           0.1953013763644993,
           19
          ],
          [
           823,
           2430,
           0.1953013763644993,
           19
          ],
          [
           823,
           2430,
           0.1953013763644993,
           19
          ],
          [
           823,
           2430,
           0.1953013763644993,
           19
          ],
          [
           823,
           2430,
           0.1953013763644993,
           19
          ],
          [
           823,
           2430,
           0.1953013763644993,
           19
          ],
          [
           823,
           2430,
           0.1953013763644993,
           19
          ]
         ],
         "hovertemplate": "SKU_ID=17991<br>ORDER_RANK=%{x}<br>RATE=%{y}<br>SKUID_total_customers=%{customdata[0]}<br>SKUID_total_transactions=%{customdata[1]}<br>SKUID_total_probability_rate=%{customdata[2]}<br>product_rank_bytotalprobrate=%{customdata[3]}<extra></extra>",
         "legendgroup": "17991",
         "line": {
          "color": "#FFA15A",
          "dash": "solid"
         },
         "marker": {
          "symbol": "circle"
         },
         "mode": "lines",
         "name": "17991",
         "orientation": "v",
         "showlegend": true,
         "type": "scatter",
         "x": [
          1,
          2,
          3,
          4,
          5,
          6,
          7,
          8,
          9,
          10,
          12
         ],
         "xaxis": "x",
         "y": [
          0.05695301376364499,
          0.035358329378262936,
          0.025866160417655434,
          0.019221642145230186,
          0.017323208353108684,
          0.009729473184622686,
          0.009254864736592311,
          0.005695301376364499,
          0.003084954912197437,
          0.005695301376364499,
          0.0016611295681063123
         ],
         "yaxis": "y"
        },
        {
         "customdata": [
          [
           968,
           4162,
           0.22971048884670148,
           13
          ],
          [
           968,
           4162,
           0.22971048884670148,
           13
          ],
          [
           968,
           4162,
           0.22971048884670148,
           13
          ],
          [
           968,
           4162,
           0.22971048884670148,
           13
          ],
          [
           968,
           4162,
           0.22971048884670148,
           13
          ],
          [
           968,
           4162,
           0.22971048884670148,
           13
          ],
          [
           968,
           4162,
           0.22971048884670148,
           13
          ],
          [
           968,
           4162,
           0.22971048884670148,
           13
          ],
          [
           968,
           4162,
           0.22971048884670148,
           13
          ],
          [
           968,
           4162,
           0.22971048884670148,
           13
          ]
         ],
         "hovertemplate": "SKU_ID=19086<br>ORDER_RANK=%{x}<br>RATE=%{y}<br>SKUID_total_customers=%{customdata[0]}<br>SKUID_total_transactions=%{customdata[1]}<br>SKUID_total_probability_rate=%{customdata[2]}<br>product_rank_bytotalprobrate=%{customdata[3]}<extra></extra>",
         "legendgroup": "19086",
         "line": {
          "color": "#19d3f3",
          "dash": "solid"
         },
         "marker": {
          "symbol": "circle"
         },
         "mode": "lines",
         "name": "19086",
         "orientation": "v",
         "showlegend": true,
         "type": "scatter",
         "x": [
          1,
          2,
          3,
          4,
          5,
          6,
          7,
          8,
          9,
          11
         ],
         "xaxis": "x",
         "y": [
          0.10180351210251543,
          0.043901281442809685,
          0.03156146179401993,
          0.016373991457047935,
          0.009966777408637873,
          0.007356430944470811,
          0.004746084480303749,
          0.0033222591362126247,
          0.0023730422401518746,
          0.0014238253440911248
         ],
         "yaxis": "y"
        },
        {
         "customdata": [
          [
           859,
           3062,
           0.20384432842904604,
           16
          ],
          [
           859,
           3062,
           0.20384432842904604,
           16
          ],
          [
           859,
           3062,
           0.20384432842904604,
           16
          ],
          [
           859,
           3062,
           0.20384432842904604,
           16
          ],
          [
           859,
           3062,
           0.20384432842904604,
           16
          ],
          [
           859,
           3062,
           0.20384432842904604,
           16
          ],
          [
           859,
           3062,
           0.20384432842904604,
           16
          ],
          [
           859,
           3062,
           0.20384432842904604,
           16
          ],
          [
           859,
           3062,
           0.20384432842904604,
           16
          ],
          [
           859,
           3062,
           0.20384432842904604,
           16
          ],
          [
           859,
           3062,
           0.20384432842904604,
           16
          ],
          [
           859,
           3062,
           0.20384432842904604,
           16
          ]
         ],
         "hovertemplate": "SKU_ID=19253<br>ORDER_RANK=%{x}<br>RATE=%{y}<br>SKUID_total_customers=%{customdata[0]}<br>SKUID_total_transactions=%{customdata[1]}<br>SKUID_total_probability_rate=%{customdata[2]}<br>product_rank_bytotalprobrate=%{customdata[3]}<extra></extra>",
         "legendgroup": "19253",
         "line": {
          "color": "#FF6692",
          "dash": "solid"
         },
         "marker": {
          "symbol": "circle"
         },
         "mode": "lines",
         "name": "19253",
         "orientation": "v",
         "showlegend": true,
         "type": "scatter",
         "x": [
          1,
          2,
          3,
          4,
          5,
          6,
          7,
          8,
          9,
          10,
          11,
          12
         ],
         "xaxis": "x",
         "y": [
          0.06003796867584243,
          0.04413858566682487,
          0.026103464641670623,
          0.016373991457047935,
          0.014475557664926435,
          0.01044138585666825,
          0.007831039392501186,
          0.004746084480303749,
          0.0037968675842429997,
          0.004271476032273375,
          0.0028476506881822496,
          0.0033222591362126247
         ],
         "yaxis": "y"
        },
        {
         "customdata": [
          [
           877,
           2712,
           0.20811580446131941,
           15
          ],
          [
           877,
           2712,
           0.20811580446131941,
           15
          ],
          [
           877,
           2712,
           0.20811580446131941,
           15
          ],
          [
           877,
           2712,
           0.20811580446131941,
           15
          ],
          [
           877,
           2712,
           0.20811580446131941,
           15
          ],
          [
           877,
           2712,
           0.20811580446131941,
           15
          ],
          [
           877,
           2712,
           0.20811580446131941,
           15
          ],
          [
           877,
           2712,
           0.20811580446131941,
           15
          ],
          [
           877,
           2712,
           0.20811580446131941,
           15
          ],
          [
           877,
           2712,
           0.20811580446131941,
           15
          ],
          [
           877,
           2712,
           0.20811580446131941,
           15
          ],
          [
           877,
           2712,
           0.20811580446131941,
           15
          ]
         ],
         "hovertemplate": "SKU_ID=19337<br>ORDER_RANK=%{x}<br>RATE=%{y}<br>SKUID_total_customers=%{customdata[0]}<br>SKUID_total_transactions=%{customdata[1]}<br>SKUID_total_probability_rate=%{customdata[2]}<br>product_rank_bytotalprobrate=%{customdata[3]}<extra></extra>",
         "legendgroup": "19337",
         "line": {
          "color": "#B6E880",
          "dash": "solid"
         },
         "marker": {
          "symbol": "circle"
         },
         "mode": "lines",
         "name": "19337",
         "orientation": "v",
         "showlegend": true,
         "type": "scatter",
         "x": [
          1,
          2,
          3,
          4,
          5,
          6,
          7,
          8,
          9,
          10,
          11,
          12
         ],
         "xaxis": "x",
         "y": [
          0.06288561936402468,
          0.03820598006644518,
          0.0322733744660655,
          0.021357380161366873,
          0.01613668723303275,
          0.013526340768865686,
          0.006407214048410062,
          0.005695301376364499,
          0.003084954912197437,
          0.0023730422401518746,
          0.0021357380161366873,
          0.0014238253440911248
         ],
         "yaxis": "y"
        },
        {
         "customdata": [
          [
           830,
           2712,
           0.1969625059326056,
           18
          ],
          [
           830,
           2712,
           0.1969625059326056,
           18
          ],
          [
           830,
           2712,
           0.1969625059326056,
           18
          ],
          [
           830,
           2712,
           0.1969625059326056,
           18
          ],
          [
           830,
           2712,
           0.1969625059326056,
           18
          ],
          [
           830,
           2712,
           0.1969625059326056,
           18
          ],
          [
           830,
           2712,
           0.1969625059326056,
           18
          ],
          [
           830,
           2712,
           0.1969625059326056,
           18
          ],
          [
           830,
           2712,
           0.1969625059326056,
           18
          ],
          [
           830,
           2712,
           0.1969625059326056,
           18
          ],
          [
           830,
           2712,
           0.1969625059326056,
           18
          ],
          [
           830,
           2712,
           0.1969625059326056,
           18
          ],
          [
           830,
           2712,
           0.1969625059326056,
           18
          ]
         ],
         "hovertemplate": "SKU_ID=19399<br>ORDER_RANK=%{x}<br>RATE=%{y}<br>SKUID_total_customers=%{customdata[0]}<br>SKUID_total_transactions=%{customdata[1]}<br>SKUID_total_probability_rate=%{customdata[2]}<br>product_rank_bytotalprobrate=%{customdata[3]}<extra></extra>",
         "legendgroup": "19399",
         "line": {
          "color": "#FF97FF",
          "dash": "solid"
         },
         "marker": {
          "symbol": "circle"
         },
         "mode": "lines",
         "name": "19399",
         "orientation": "v",
         "showlegend": true,
         "type": "scatter",
         "x": [
          1,
          2,
          3,
          4,
          5,
          6,
          7,
          8,
          9,
          10,
          11,
          12,
          13
         ],
         "xaxis": "x",
         "y": [
          0.05790223065970574,
          0.03345989558614143,
          0.026103464641670623,
          0.018984337921214997,
          0.016611295681063124,
          0.011390602752728999,
          0.008780256288561937,
          0.005695301376364499,
          0.004746084480303749,
          0.004034171808258187,
          0.0021357380161366873,
          0.0016611295681063123,
          0.0016611295681063123
         ],
         "yaxis": "y"
        },
        {
         "customdata": [
          [
           881,
           2505,
           0.20906502135738017,
           14
          ],
          [
           881,
           2505,
           0.20906502135738017,
           14
          ],
          [
           881,
           2505,
           0.20906502135738017,
           14
          ],
          [
           881,
           2505,
           0.20906502135738017,
           14
          ],
          [
           881,
           2505,
           0.20906502135738017,
           14
          ],
          [
           881,
           2505,
           0.20906502135738017,
           14
          ],
          [
           881,
           2505,
           0.20906502135738017,
           14
          ],
          [
           881,
           2505,
           0.20906502135738017,
           14
          ],
          [
           881,
           2505,
           0.20906502135738017,
           14
          ],
          [
           881,
           2505,
           0.20906502135738017,
           14
          ],
          [
           881,
           2505,
           0.20906502135738017,
           14
          ],
          [
           881,
           2505,
           0.20906502135738017,
           14
          ]
         ],
         "hovertemplate": "SKU_ID=21973<br>ORDER_RANK=%{x}<br>RATE=%{y}<br>SKUID_total_customers=%{customdata[0]}<br>SKUID_total_transactions=%{customdata[1]}<br>SKUID_total_probability_rate=%{customdata[2]}<br>product_rank_bytotalprobrate=%{customdata[3]}<extra></extra>",
         "legendgroup": "21973",
         "line": {
          "color": "#FECB52",
          "dash": "solid"
         },
         "marker": {
          "symbol": "circle"
         },
         "mode": "lines",
         "name": "21973",
         "orientation": "v",
         "showlegend": true,
         "type": "scatter",
         "x": [
          1,
          2,
          3,
          4,
          5,
          6,
          7,
          8,
          9,
          10,
          11,
          12
         ],
         "xaxis": "x",
         "y": [
          0.05908875177978168,
          0.03986710963455149,
          0.02539155196962506,
          0.02420503084954912,
          0.01566207878500237,
          0.014712861888941622,
          0.011390602752728999,
          0.006644518272425249,
          0.003084954912197437,
          0.0023730422401518746,
          0.0021357380161366873,
          0.0021357380161366873
         ],
         "yaxis": "y"
        },
        {
         "customdata": [
          [
           739,
           2018,
           0.17536782154722355,
           20
          ],
          [
           739,
           2018,
           0.17536782154722355,
           20
          ],
          [
           739,
           2018,
           0.17536782154722355,
           20
          ],
          [
           739,
           2018,
           0.17536782154722355,
           20
          ],
          [
           739,
           2018,
           0.17536782154722355,
           20
          ],
          [
           739,
           2018,
           0.17536782154722355,
           20
          ],
          [
           739,
           2018,
           0.17536782154722355,
           20
          ],
          [
           739,
           2018,
           0.17536782154722355,
           20
          ],
          [
           739,
           2018,
           0.17536782154722355,
           20
          ],
          [
           739,
           2018,
           0.17536782154722355,
           20
          ],
          [
           739,
           2018,
           0.17536782154722355,
           20
          ],
          [
           739,
           2018,
           0.17536782154722355,
           20
          ],
          [
           739,
           2018,
           0.17536782154722355,
           20
          ],
          [
           739,
           2018,
           0.17536782154722355,
           20
          ],
          [
           739,
           2018,
           0.17536782154722355,
           20
          ],
          [
           739,
           2018,
           0.17536782154722355,
           20
          ],
          [
           739,
           2018,
           0.17536782154722355,
           20
          ],
          [
           739,
           2018,
           0.17536782154722355,
           20
          ],
          [
           739,
           2018,
           0.17536782154722355,
           20
          ]
         ],
         "hovertemplate": "SKU_ID=26567<br>ORDER_RANK=%{x}<br>RATE=%{y}<br>SKUID_total_customers=%{customdata[0]}<br>SKUID_total_transactions=%{customdata[1]}<br>SKUID_total_probability_rate=%{customdata[2]}<br>product_rank_bytotalprobrate=%{customdata[3]}<extra></extra>",
         "legendgroup": "26567",
         "line": {
          "color": "#636efa",
          "dash": "solid"
         },
         "marker": {
          "symbol": "circle"
         },
         "mode": "lines",
         "name": "26567",
         "orientation": "v",
         "showlegend": true,
         "type": "scatter",
         "x": [
          1,
          2,
          3,
          4,
          5,
          6,
          7,
          8,
          9,
          10,
          11,
          12,
          13,
          14,
          15,
          16,
          17,
          19,
          21
         ],
         "xaxis": "x",
         "y": [
          0.0018984337921214998,
          0.004271476032273375,
          0.008068343616516375,
          0.012577123872804937,
          0.014475557664926435,
          0.0170859041290935,
          0.01589938300901756,
          0.012814428096820124,
          0.013763644992880873,
          0.013526340768865686,
          0.011865211200759373,
          0.01044138585666825,
          0.006881822496440437,
          0.008068343616516375,
          0.005220692928334125,
          0.003559563360227812,
          0.003084954912197437,
          0.0033222591362126247,
          0.0014238253440911248
         ],
         "yaxis": "y"
        }
       ],
       "layout": {
        "legend": {
         "title": {
          "text": "SKU_ID"
         },
         "tracegroupgap": 0
        },
        "template": {
         "data": {
          "bar": [
           {
            "error_x": {
             "color": "#2a3f5f"
            },
            "error_y": {
             "color": "#2a3f5f"
            },
            "marker": {
             "line": {
              "color": "#E5ECF6",
              "width": 0.5
             },
             "pattern": {
              "fillmode": "overlay",
              "size": 10,
              "solidity": 0.2
             }
            },
            "type": "bar"
           }
          ],
          "barpolar": [
           {
            "marker": {
             "line": {
              "color": "#E5ECF6",
              "width": 0.5
             },
             "pattern": {
              "fillmode": "overlay",
              "size": 10,
              "solidity": 0.2
             }
            },
            "type": "barpolar"
           }
          ],
          "carpet": [
           {
            "aaxis": {
             "endlinecolor": "#2a3f5f",
             "gridcolor": "white",
             "linecolor": "white",
             "minorgridcolor": "white",
             "startlinecolor": "#2a3f5f"
            },
            "baxis": {
             "endlinecolor": "#2a3f5f",
             "gridcolor": "white",
             "linecolor": "white",
             "minorgridcolor": "white",
             "startlinecolor": "#2a3f5f"
            },
            "type": "carpet"
           }
          ],
          "choropleth": [
           {
            "colorbar": {
             "outlinewidth": 0,
             "ticks": ""
            },
            "type": "choropleth"
           }
          ],
          "contour": [
           {
            "colorbar": {
             "outlinewidth": 0,
             "ticks": ""
            },
            "colorscale": [
             [
              0,
              "#0d0887"
             ],
             [
              0.1111111111111111,
              "#46039f"
             ],
             [
              0.2222222222222222,
              "#7201a8"
             ],
             [
              0.3333333333333333,
              "#9c179e"
             ],
             [
              0.4444444444444444,
              "#bd3786"
             ],
             [
              0.5555555555555556,
              "#d8576b"
             ],
             [
              0.6666666666666666,
              "#ed7953"
             ],
             [
              0.7777777777777778,
              "#fb9f3a"
             ],
             [
              0.8888888888888888,
              "#fdca26"
             ],
             [
              1,
              "#f0f921"
             ]
            ],
            "type": "contour"
           }
          ],
          "contourcarpet": [
           {
            "colorbar": {
             "outlinewidth": 0,
             "ticks": ""
            },
            "type": "contourcarpet"
           }
          ],
          "heatmap": [
           {
            "colorbar": {
             "outlinewidth": 0,
             "ticks": ""
            },
            "colorscale": [
             [
              0,
              "#0d0887"
             ],
             [
              0.1111111111111111,
              "#46039f"
             ],
             [
              0.2222222222222222,
              "#7201a8"
             ],
             [
              0.3333333333333333,
              "#9c179e"
             ],
             [
              0.4444444444444444,
              "#bd3786"
             ],
             [
              0.5555555555555556,
              "#d8576b"
             ],
             [
              0.6666666666666666,
              "#ed7953"
             ],
             [
              0.7777777777777778,
              "#fb9f3a"
             ],
             [
              0.8888888888888888,
              "#fdca26"
             ],
             [
              1,
              "#f0f921"
             ]
            ],
            "type": "heatmap"
           }
          ],
          "heatmapgl": [
           {
            "colorbar": {
             "outlinewidth": 0,
             "ticks": ""
            },
            "colorscale": [
             [
              0,
              "#0d0887"
             ],
             [
              0.1111111111111111,
              "#46039f"
             ],
             [
              0.2222222222222222,
              "#7201a8"
             ],
             [
              0.3333333333333333,
              "#9c179e"
             ],
             [
              0.4444444444444444,
              "#bd3786"
             ],
             [
              0.5555555555555556,
              "#d8576b"
             ],
             [
              0.6666666666666666,
              "#ed7953"
             ],
             [
              0.7777777777777778,
              "#fb9f3a"
             ],
             [
              0.8888888888888888,
              "#fdca26"
             ],
             [
              1,
              "#f0f921"
             ]
            ],
            "type": "heatmapgl"
           }
          ],
          "histogram": [
           {
            "marker": {
             "pattern": {
              "fillmode": "overlay",
              "size": 10,
              "solidity": 0.2
             }
            },
            "type": "histogram"
           }
          ],
          "histogram2d": [
           {
            "colorbar": {
             "outlinewidth": 0,
             "ticks": ""
            },
            "colorscale": [
             [
              0,
              "#0d0887"
             ],
             [
              0.1111111111111111,
              "#46039f"
             ],
             [
              0.2222222222222222,
              "#7201a8"
             ],
             [
              0.3333333333333333,
              "#9c179e"
             ],
             [
              0.4444444444444444,
              "#bd3786"
             ],
             [
              0.5555555555555556,
              "#d8576b"
             ],
             [
              0.6666666666666666,
              "#ed7953"
             ],
             [
              0.7777777777777778,
              "#fb9f3a"
             ],
             [
              0.8888888888888888,
              "#fdca26"
             ],
             [
              1,
              "#f0f921"
             ]
            ],
            "type": "histogram2d"
           }
          ],
          "histogram2dcontour": [
           {
            "colorbar": {
             "outlinewidth": 0,
             "ticks": ""
            },
            "colorscale": [
             [
              0,
              "#0d0887"
             ],
             [
              0.1111111111111111,
              "#46039f"
             ],
             [
              0.2222222222222222,
              "#7201a8"
             ],
             [
              0.3333333333333333,
              "#9c179e"
             ],
             [
              0.4444444444444444,
              "#bd3786"
             ],
             [
              0.5555555555555556,
              "#d8576b"
             ],
             [
              0.6666666666666666,
              "#ed7953"
             ],
             [
              0.7777777777777778,
              "#fb9f3a"
             ],
             [
              0.8888888888888888,
              "#fdca26"
             ],
             [
              1,
              "#f0f921"
             ]
            ],
            "type": "histogram2dcontour"
           }
          ],
          "mesh3d": [
           {
            "colorbar": {
             "outlinewidth": 0,
             "ticks": ""
            },
            "type": "mesh3d"
           }
          ],
          "parcoords": [
           {
            "line": {
             "colorbar": {
              "outlinewidth": 0,
              "ticks": ""
             }
            },
            "type": "parcoords"
           }
          ],
          "pie": [
           {
            "automargin": true,
            "type": "pie"
           }
          ],
          "scatter": [
           {
            "fillpattern": {
             "fillmode": "overlay",
             "size": 10,
             "solidity": 0.2
            },
            "type": "scatter"
           }
          ],
          "scatter3d": [
           {
            "line": {
             "colorbar": {
              "outlinewidth": 0,
              "ticks": ""
             }
            },
            "marker": {
             "colorbar": {
              "outlinewidth": 0,
              "ticks": ""
             }
            },
            "type": "scatter3d"
           }
          ],
          "scattercarpet": [
           {
            "marker": {
             "colorbar": {
              "outlinewidth": 0,
              "ticks": ""
             }
            },
            "type": "scattercarpet"
           }
          ],
          "scattergeo": [
           {
            "marker": {
             "colorbar": {
              "outlinewidth": 0,
              "ticks": ""
             }
            },
            "type": "scattergeo"
           }
          ],
          "scattergl": [
           {
            "marker": {
             "colorbar": {
              "outlinewidth": 0,
              "ticks": ""
             }
            },
            "type": "scattergl"
           }
          ],
          "scattermapbox": [
           {
            "marker": {
             "colorbar": {
              "outlinewidth": 0,
              "ticks": ""
             }
            },
            "type": "scattermapbox"
           }
          ],
          "scatterpolar": [
           {
            "marker": {
             "colorbar": {
              "outlinewidth": 0,
              "ticks": ""
             }
            },
            "type": "scatterpolar"
           }
          ],
          "scatterpolargl": [
           {
            "marker": {
             "colorbar": {
              "outlinewidth": 0,
              "ticks": ""
             }
            },
            "type": "scatterpolargl"
           }
          ],
          "scatterternary": [
           {
            "marker": {
             "colorbar": {
              "outlinewidth": 0,
              "ticks": ""
             }
            },
            "type": "scatterternary"
           }
          ],
          "surface": [
           {
            "colorbar": {
             "outlinewidth": 0,
             "ticks": ""
            },
            "colorscale": [
             [
              0,
              "#0d0887"
             ],
             [
              0.1111111111111111,
              "#46039f"
             ],
             [
              0.2222222222222222,
              "#7201a8"
             ],
             [
              0.3333333333333333,
              "#9c179e"
             ],
             [
              0.4444444444444444,
              "#bd3786"
             ],
             [
              0.5555555555555556,
              "#d8576b"
             ],
             [
              0.6666666666666666,
              "#ed7953"
             ],
             [
              0.7777777777777778,
              "#fb9f3a"
             ],
             [
              0.8888888888888888,
              "#fdca26"
             ],
             [
              1,
              "#f0f921"
             ]
            ],
            "type": "surface"
           }
          ],
          "table": [
           {
            "cells": {
             "fill": {
              "color": "#EBF0F8"
             },
             "line": {
              "color": "white"
             }
            },
            "header": {
             "fill": {
              "color": "#C8D4E3"
             },
             "line": {
              "color": "white"
             }
            },
            "type": "table"
           }
          ]
         },
         "layout": {
          "annotationdefaults": {
           "arrowcolor": "#2a3f5f",
           "arrowhead": 0,
           "arrowwidth": 1
          },
          "autotypenumbers": "strict",
          "coloraxis": {
           "colorbar": {
            "outlinewidth": 0,
            "ticks": ""
           }
          },
          "colorscale": {
           "diverging": [
            [
             0,
             "#8e0152"
            ],
            [
             0.1,
             "#c51b7d"
            ],
            [
             0.2,
             "#de77ae"
            ],
            [
             0.3,
             "#f1b6da"
            ],
            [
             0.4,
             "#fde0ef"
            ],
            [
             0.5,
             "#f7f7f7"
            ],
            [
             0.6,
             "#e6f5d0"
            ],
            [
             0.7,
             "#b8e186"
            ],
            [
             0.8,
             "#7fbc41"
            ],
            [
             0.9,
             "#4d9221"
            ],
            [
             1,
             "#276419"
            ]
           ],
           "sequential": [
            [
             0,
             "#0d0887"
            ],
            [
             0.1111111111111111,
             "#46039f"
            ],
            [
             0.2222222222222222,
             "#7201a8"
            ],
            [
             0.3333333333333333,
             "#9c179e"
            ],
            [
             0.4444444444444444,
             "#bd3786"
            ],
            [
             0.5555555555555556,
             "#d8576b"
            ],
            [
             0.6666666666666666,
             "#ed7953"
            ],
            [
             0.7777777777777778,
             "#fb9f3a"
            ],
            [
             0.8888888888888888,
             "#fdca26"
            ],
            [
             1,
             "#f0f921"
            ]
           ],
           "sequentialminus": [
            [
             0,
             "#0d0887"
            ],
            [
             0.1111111111111111,
             "#46039f"
            ],
            [
             0.2222222222222222,
             "#7201a8"
            ],
            [
             0.3333333333333333,
             "#9c179e"
            ],
            [
             0.4444444444444444,
             "#bd3786"
            ],
            [
             0.5555555555555556,
             "#d8576b"
            ],
            [
             0.6666666666666666,
             "#ed7953"
            ],
            [
             0.7777777777777778,
             "#fb9f3a"
            ],
            [
             0.8888888888888888,
             "#fdca26"
            ],
            [
             1,
             "#f0f921"
            ]
           ]
          },
          "colorway": [
           "#636efa",
           "#EF553B",
           "#00cc96",
           "#ab63fa",
           "#FFA15A",
           "#19d3f3",
           "#FF6692",
           "#B6E880",
           "#FF97FF",
           "#FECB52"
          ],
          "font": {
           "color": "#2a3f5f"
          },
          "geo": {
           "bgcolor": "white",
           "lakecolor": "white",
           "landcolor": "#E5ECF6",
           "showlakes": true,
           "showland": true,
           "subunitcolor": "white"
          },
          "hoverlabel": {
           "align": "left"
          },
          "hovermode": "closest",
          "mapbox": {
           "style": "light"
          },
          "paper_bgcolor": "white",
          "plot_bgcolor": "#E5ECF6",
          "polar": {
           "angularaxis": {
            "gridcolor": "white",
            "linecolor": "white",
            "ticks": ""
           },
           "bgcolor": "#E5ECF6",
           "radialaxis": {
            "gridcolor": "white",
            "linecolor": "white",
            "ticks": ""
           }
          },
          "scene": {
           "xaxis": {
            "backgroundcolor": "#E5ECF6",
            "gridcolor": "white",
            "gridwidth": 2,
            "linecolor": "white",
            "showbackground": true,
            "ticks": "",
            "zerolinecolor": "white"
           },
           "yaxis": {
            "backgroundcolor": "#E5ECF6",
            "gridcolor": "white",
            "gridwidth": 2,
            "linecolor": "white",
            "showbackground": true,
            "ticks": "",
            "zerolinecolor": "white"
           },
           "zaxis": {
            "backgroundcolor": "#E5ECF6",
            "gridcolor": "white",
            "gridwidth": 2,
            "linecolor": "white",
            "showbackground": true,
            "ticks": "",
            "zerolinecolor": "white"
           }
          },
          "shapedefaults": {
           "line": {
            "color": "#2a3f5f"
           }
          },
          "ternary": {
           "aaxis": {
            "gridcolor": "white",
            "linecolor": "white",
            "ticks": ""
           },
           "baxis": {
            "gridcolor": "white",
            "linecolor": "white",
            "ticks": ""
           },
           "bgcolor": "#E5ECF6",
           "caxis": {
            "gridcolor": "white",
            "linecolor": "white",
            "ticks": ""
           }
          },
          "title": {
           "x": 0.05
          },
          "xaxis": {
           "automargin": true,
           "gridcolor": "white",
           "linecolor": "white",
           "ticks": "",
           "title": {
            "standoff": 15
           },
           "zerolinecolor": "white",
           "zerolinewidth": 2
          },
          "yaxis": {
           "automargin": true,
           "gridcolor": "white",
           "linecolor": "white",
           "ticks": "",
           "title": {
            "standoff": 15
           },
           "zerolinecolor": "white",
           "zerolinewidth": 2
          }
         }
        },
        "title": {
         "text": "SKU_ID between [10, 20]"
        },
        "xaxis": {
         "anchor": "y",
         "domain": [
          0,
          1
         ],
         "title": {
          "text": "ORDER_RANK"
         }
        },
        "yaxis": {
         "anchor": "x",
         "domain": [
          0,
          1
         ],
         "title": {
          "text": "RATE"
         }
        }
       }
      }
     },
     "metadata": {},
     "output_type": "display_data"
    },
    {
     "data": {
      "application/vnd.plotly.v1+json": {
       "config": {
        "plotlyServerURL": "https://plot.ly"
       },
       "data": [
        {
         "customdata": [
          [
           492,
           1470,
           0.11675367821547224,
           29
          ],
          [
           492,
           1470,
           0.11675367821547224,
           29
          ],
          [
           492,
           1470,
           0.11675367821547224,
           29
          ],
          [
           492,
           1470,
           0.11675367821547224,
           29
          ],
          [
           492,
           1470,
           0.11675367821547224,
           29
          ],
          [
           492,
           1470,
           0.11675367821547224,
           29
          ],
          [
           492,
           1470,
           0.11675367821547224,
           29
          ],
          [
           492,
           1470,
           0.11675367821547224,
           29
          ],
          [
           492,
           1470,
           0.11675367821547224,
           29
          ],
          [
           492,
           1470,
           0.11675367821547224,
           29
          ],
          [
           492,
           1470,
           0.11675367821547224,
           29
          ],
          [
           492,
           1470,
           0.11675367821547224,
           29
          ]
         ],
         "hovertemplate": "SKU_ID=14191<br>ORDER_RANK=%{x}<br>RATE=%{y}<br>SKUID_total_customers=%{customdata[0]}<br>SKUID_total_transactions=%{customdata[1]}<br>SKUID_total_probability_rate=%{customdata[2]}<br>product_rank_bytotalprobrate=%{customdata[3]}<extra></extra>",
         "legendgroup": "14191",
         "line": {
          "color": "#636efa",
          "dash": "solid"
         },
         "marker": {
          "symbol": "circle"
         },
         "mode": "lines",
         "name": "14191",
         "orientation": "v",
         "showlegend": true,
         "type": "scatter",
         "x": [
          1,
          2,
          3,
          4,
          5,
          6,
          7,
          8,
          9,
          10,
          11,
          12
         ],
         "xaxis": "x",
         "y": [
          0.03298528713811106,
          0.012814428096820124,
          0.011627906976744186,
          0.010678690080683437,
          0.00854295206454675,
          0.011390602752728999,
          0.009017560512577124,
          0.005457997152349312,
          0.004271476032273375,
          0.0028476506881822496,
          0.0026103464641670624,
          0.0016611295681063123
         ],
         "yaxis": "y"
        },
        {
         "customdata": [
          [
           488,
           1430,
           0.11580446131941148,
           30
          ],
          [
           488,
           1430,
           0.11580446131941148,
           30
          ],
          [
           488,
           1430,
           0.11580446131941148,
           30
          ],
          [
           488,
           1430,
           0.11580446131941148,
           30
          ],
          [
           488,
           1430,
           0.11580446131941148,
           30
          ],
          [
           488,
           1430,
           0.11580446131941148,
           30
          ],
          [
           488,
           1430,
           0.11580446131941148,
           30
          ],
          [
           488,
           1430,
           0.11580446131941148,
           30
          ],
          [
           488,
           1430,
           0.11580446131941148,
           30
          ]
         ],
         "hovertemplate": "SKU_ID=14622<br>ORDER_RANK=%{x}<br>RATE=%{y}<br>SKUID_total_customers=%{customdata[0]}<br>SKUID_total_transactions=%{customdata[1]}<br>SKUID_total_probability_rate=%{customdata[2]}<br>product_rank_bytotalprobrate=%{customdata[3]}<extra></extra>",
         "legendgroup": "14622",
         "line": {
          "color": "#EF553B",
          "dash": "solid"
         },
         "marker": {
          "symbol": "circle"
         },
         "mode": "lines",
         "name": "14622",
         "orientation": "v",
         "showlegend": true,
         "type": "scatter",
         "x": [
          1,
          2,
          3,
          4,
          5,
          6,
          7,
          8,
          10
         ],
         "xaxis": "x",
         "y": [
          0.044613194114855245,
          0.02895111532985287,
          0.014712861888941622,
          0.006644518272425249,
          0.005220692928334125,
          0.004508780256288562,
          0.0033222591362126247,
          0.0023730422401518746,
          0.0018984337921214998
         ],
         "yaxis": "y"
        },
        {
         "customdata": [
          [
           531,
           1080,
           0.12600854295206454,
           26
          ],
          [
           531,
           1080,
           0.12600854295206454,
           26
          ],
          [
           531,
           1080,
           0.12600854295206454,
           26
          ],
          [
           531,
           1080,
           0.12600854295206454,
           26
          ],
          [
           531,
           1080,
           0.12600854295206454,
           26
          ],
          [
           531,
           1080,
           0.12600854295206454,
           26
          ],
          [
           531,
           1080,
           0.12600854295206454,
           26
          ],
          [
           531,
           1080,
           0.12600854295206454,
           26
          ]
         ],
         "hovertemplate": "SKU_ID=19019<br>ORDER_RANK=%{x}<br>RATE=%{y}<br>SKUID_total_customers=%{customdata[0]}<br>SKUID_total_transactions=%{customdata[1]}<br>SKUID_total_probability_rate=%{customdata[2]}<br>product_rank_bytotalprobrate=%{customdata[3]}<extra></extra>",
         "legendgroup": "19019",
         "line": {
          "color": "#00cc96",
          "dash": "solid"
         },
         "marker": {
          "symbol": "circle"
         },
         "mode": "lines",
         "name": "19019",
         "orientation": "v",
         "showlegend": true,
         "type": "scatter",
         "x": [
          1,
          2,
          3,
          4,
          5,
          6,
          7,
          8
         ],
         "xaxis": "x",
         "y": [
          0.0567157095396298,
          0.02895111532985287,
          0.015424774560987186,
          0.010915994304698624,
          0.005695301376364499,
          0.0026103464641670624,
          0.0021357380161366873,
          0.0018984337921214998
         ],
         "yaxis": "y"
        },
        {
         "customdata": [
          [
           560,
           1390,
           0.132890365448505,
           25
          ],
          [
           560,
           1390,
           0.132890365448505,
           25
          ],
          [
           560,
           1390,
           0.132890365448505,
           25
          ],
          [
           560,
           1390,
           0.132890365448505,
           25
          ],
          [
           560,
           1390,
           0.132890365448505,
           25
          ],
          [
           560,
           1390,
           0.132890365448505,
           25
          ],
          [
           560,
           1390,
           0.132890365448505,
           25
          ],
          [
           560,
           1390,
           0.132890365448505,
           25
          ]
         ],
         "hovertemplate": "SKU_ID=19336<br>ORDER_RANK=%{x}<br>RATE=%{y}<br>SKUID_total_customers=%{customdata[0]}<br>SKUID_total_transactions=%{customdata[1]}<br>SKUID_total_probability_rate=%{customdata[2]}<br>product_rank_bytotalprobrate=%{customdata[3]}<extra></extra>",
         "legendgroup": "19336",
         "line": {
          "color": "#ab63fa",
          "dash": "solid"
         },
         "marker": {
          "symbol": "circle"
         },
         "mode": "lines",
         "name": "19336",
         "orientation": "v",
         "showlegend": true,
         "type": "scatter",
         "x": [
          1,
          2,
          3,
          4,
          5,
          6,
          7,
          8
         ],
         "xaxis": "x",
         "y": [
          0.052206929283341245,
          0.025154247745609874,
          0.015424774560987186,
          0.012577123872804937,
          0.00854295206454675,
          0.007593735168485999,
          0.003084954912197437,
          0.003084954912197437
         ],
         "yaxis": "y"
        },
        {
         "customdata": [
          [
           531,
           1391,
           0.12600854295206454,
           27
          ],
          [
           531,
           1391,
           0.12600854295206454,
           27
          ],
          [
           531,
           1391,
           0.12600854295206454,
           27
          ],
          [
           531,
           1391,
           0.12600854295206454,
           27
          ],
          [
           531,
           1391,
           0.12600854295206454,
           27
          ],
          [
           531,
           1391,
           0.12600854295206454,
           27
          ],
          [
           531,
           1391,
           0.12600854295206454,
           27
          ],
          [
           531,
           1391,
           0.12600854295206454,
           27
          ],
          [
           531,
           1391,
           0.12600854295206454,
           27
          ],
          [
           531,
           1391,
           0.12600854295206454,
           27
          ],
          [
           531,
           1391,
           0.12600854295206454,
           27
          ],
          [
           531,
           1391,
           0.12600854295206454,
           27
          ],
          [
           531,
           1391,
           0.12600854295206454,
           27
          ]
         ],
         "hovertemplate": "SKU_ID=20433<br>ORDER_RANK=%{x}<br>RATE=%{y}<br>SKUID_total_customers=%{customdata[0]}<br>SKUID_total_transactions=%{customdata[1]}<br>SKUID_total_probability_rate=%{customdata[2]}<br>product_rank_bytotalprobrate=%{customdata[3]}<extra></extra>",
         "legendgroup": "20433",
         "line": {
          "color": "#FFA15A",
          "dash": "solid"
         },
         "marker": {
          "symbol": "circle"
         },
         "mode": "lines",
         "name": "20433",
         "orientation": "v",
         "showlegend": true,
         "type": "scatter",
         "x": [
          1,
          2,
          3,
          4,
          5,
          6,
          7,
          8,
          9,
          10,
          11,
          12,
          14
         ],
         "xaxis": "x",
         "y": [
          0.03345989558614143,
          0.02634076886568581,
          0.013051732320835311,
          0.010915994304698624,
          0.009017560512577124,
          0.008068343616516375,
          0.0049833887043189366,
          0.004034171808258187,
          0.0026103464641670624,
          0.003084954912197437,
          0.0023730422401518746,
          0.0014238253440911248,
          0.0014238253440911248
         ],
         "yaxis": "y"
        },
        {
         "customdata": [
          [
           728,
           2837,
           0.17275747508305647,
           21
          ],
          [
           728,
           2837,
           0.17275747508305647,
           21
          ],
          [
           728,
           2837,
           0.17275747508305647,
           21
          ],
          [
           728,
           2837,
           0.17275747508305647,
           21
          ],
          [
           728,
           2837,
           0.17275747508305647,
           21
          ],
          [
           728,
           2837,
           0.17275747508305647,
           21
          ],
          [
           728,
           2837,
           0.17275747508305647,
           21
          ],
          [
           728,
           2837,
           0.17275747508305647,
           21
          ],
          [
           728,
           2837,
           0.17275747508305647,
           21
          ],
          [
           728,
           2837,
           0.17275747508305647,
           21
          ],
          [
           728,
           2837,
           0.17275747508305647,
           21
          ]
         ],
         "hovertemplate": "SKU_ID=24118<br>ORDER_RANK=%{x}<br>RATE=%{y}<br>SKUID_total_customers=%{customdata[0]}<br>SKUID_total_transactions=%{customdata[1]}<br>SKUID_total_probability_rate=%{customdata[2]}<br>product_rank_bytotalprobrate=%{customdata[3]}<extra></extra>",
         "legendgroup": "24118",
         "line": {
          "color": "#19d3f3",
          "dash": "solid"
         },
         "marker": {
          "symbol": "circle"
         },
         "mode": "lines",
         "name": "24118",
         "orientation": "v",
         "showlegend": true,
         "type": "scatter",
         "x": [
          1,
          2,
          3,
          4,
          5,
          6,
          7,
          8,
          9,
          11,
          12
         ],
         "xaxis": "x",
         "y": [
          0.0700047460844803,
          0.03179876601803512,
          0.024679639297579496,
          0.01400094921689606,
          0.009254864736592311,
          0.005220692928334125,
          0.0037968675842429997,
          0.0023730422401518746,
          0.0028476506881822496,
          0.0016611295681063123,
          0.0016611295681063123
         ],
         "yaxis": "y"
        },
        {
         "customdata": [
          [
           689,
           1713,
           0.16350261034646416,
           23
          ],
          [
           689,
           1713,
           0.16350261034646416,
           23
          ],
          [
           689,
           1713,
           0.16350261034646416,
           23
          ],
          [
           689,
           1713,
           0.16350261034646416,
           23
          ],
          [
           689,
           1713,
           0.16350261034646416,
           23
          ],
          [
           689,
           1713,
           0.16350261034646416,
           23
          ],
          [
           689,
           1713,
           0.16350261034646416,
           23
          ],
          [
           689,
           1713,
           0.16350261034646416,
           23
          ],
          [
           689,
           1713,
           0.16350261034646416,
           23
          ],
          [
           689,
           1713,
           0.16350261034646416,
           23
          ],
          [
           689,
           1713,
           0.16350261034646416,
           23
          ]
         ],
         "hovertemplate": "SKU_ID=24932<br>ORDER_RANK=%{x}<br>RATE=%{y}<br>SKUID_total_customers=%{customdata[0]}<br>SKUID_total_transactions=%{customdata[1]}<br>SKUID_total_probability_rate=%{customdata[2]}<br>product_rank_bytotalprobrate=%{customdata[3]}<extra></extra>",
         "legendgroup": "24932",
         "line": {
          "color": "#FF6692",
          "dash": "solid"
         },
         "marker": {
          "symbol": "circle"
         },
         "mode": "lines",
         "name": "24932",
         "orientation": "v",
         "showlegend": true,
         "type": "scatter",
         "x": [
          1,
          2,
          3,
          4,
          5,
          6,
          7,
          8,
          9,
          10,
          11
         ],
         "xaxis": "x",
         "y": [
          0.047223540579022304,
          0.026815377313716183,
          0.021357380161366873,
          0.019933554817275746,
          0.014950166112956811,
          0.009254864736592311,
          0.007831039392501186,
          0.0049833887043189366,
          0.0033222591362126247,
          0.0021357380161366873,
          0.0014238253440911248
         ],
         "yaxis": "y"
        },
        {
         "customdata": [
          [
           693,
           1883,
           0.1644518272425249,
           22
          ],
          [
           693,
           1883,
           0.1644518272425249,
           22
          ],
          [
           693,
           1883,
           0.1644518272425249,
           22
          ],
          [
           693,
           1883,
           0.1644518272425249,
           22
          ],
          [
           693,
           1883,
           0.1644518272425249,
           22
          ],
          [
           693,
           1883,
           0.1644518272425249,
           22
          ],
          [
           693,
           1883,
           0.1644518272425249,
           22
          ],
          [
           693,
           1883,
           0.1644518272425249,
           22
          ],
          [
           693,
           1883,
           0.1644518272425249,
           22
          ],
          [
           693,
           1883,
           0.1644518272425249,
           22
          ],
          [
           693,
           1883,
           0.1644518272425249,
           22
          ]
         ],
         "hovertemplate": "SKU_ID=25119<br>ORDER_RANK=%{x}<br>RATE=%{y}<br>SKUID_total_customers=%{customdata[0]}<br>SKUID_total_transactions=%{customdata[1]}<br>SKUID_total_probability_rate=%{customdata[2]}<br>product_rank_bytotalprobrate=%{customdata[3]}<extra></extra>",
         "legendgroup": "25119",
         "line": {
          "color": "#B6E880",
          "dash": "solid"
         },
         "marker": {
          "symbol": "circle"
         },
         "mode": "lines",
         "name": "25119",
         "orientation": "v",
         "showlegend": true,
         "type": "scatter",
         "x": [
          1,
          2,
          3,
          4,
          5,
          6,
          7,
          8,
          9,
          10,
          13
         ],
         "xaxis": "x",
         "y": [
          0.04912197437114381,
          0.03488372093023256,
          0.02159468438538206,
          0.015187470336971999,
          0.012814428096820124,
          0.007119126720455624,
          0.007119126720455624,
          0.004508780256288562,
          0.0026103464641670624,
          0.0033222591362126247,
          0.0014238253440911248
         ],
         "yaxis": "y"
        },
        {
         "customdata": [
          [
           595,
           1057,
           0.14119601328903655,
           24
          ],
          [
           595,
           1057,
           0.14119601328903655,
           24
          ],
          [
           595,
           1057,
           0.14119601328903655,
           24
          ],
          [
           595,
           1057,
           0.14119601328903655,
           24
          ],
          [
           595,
           1057,
           0.14119601328903655,
           24
          ],
          [
           595,
           1057,
           0.14119601328903655,
           24
          ],
          [
           595,
           1057,
           0.14119601328903655,
           24
          ],
          [
           595,
           1057,
           0.14119601328903655,
           24
          ],
          [
           595,
           1057,
           0.14119601328903655,
           24
          ],
          [
           595,
           1057,
           0.14119601328903655,
           24
          ],
          [
           595,
           1057,
           0.14119601328903655,
           24
          ],
          [
           595,
           1057,
           0.14119601328903655,
           24
          ]
         ],
         "hovertemplate": "SKU_ID=25979<br>ORDER_RANK=%{x}<br>RATE=%{y}<br>SKUID_total_customers=%{customdata[0]}<br>SKUID_total_transactions=%{customdata[1]}<br>SKUID_total_probability_rate=%{customdata[2]}<br>product_rank_bytotalprobrate=%{customdata[3]}<extra></extra>",
         "legendgroup": "25979",
         "line": {
          "color": "#FF97FF",
          "dash": "solid"
         },
         "marker": {
          "symbol": "circle"
         },
         "mode": "lines",
         "name": "25979",
         "orientation": "v",
         "showlegend": true,
         "type": "scatter",
         "x": [
          1,
          2,
          3,
          4,
          5,
          6,
          7,
          8,
          9,
          10,
          11,
          14
         ],
         "xaxis": "x",
         "y": [
          0.018984337921214997,
          0.03203607024205031,
          0.027289985761746557,
          0.018035121025154248,
          0.014712861888941622,
          0.007593735168485999,
          0.006407214048410062,
          0.0049833887043189366,
          0.0028476506881822496,
          0.0021357380161366873,
          0.0018984337921214998,
          0.0014238253440911248
         ],
         "yaxis": "y"
        },
        {
         "customdata": [
          [
           515,
           1241,
           0.12221167536782154,
           28
          ],
          [
           515,
           1241,
           0.12221167536782154,
           28
          ],
          [
           515,
           1241,
           0.12221167536782154,
           28
          ],
          [
           515,
           1241,
           0.12221167536782154,
           28
          ],
          [
           515,
           1241,
           0.12221167536782154,
           28
          ],
          [
           515,
           1241,
           0.12221167536782154,
           28
          ],
          [
           515,
           1241,
           0.12221167536782154,
           28
          ],
          [
           515,
           1241,
           0.12221167536782154,
           28
          ]
         ],
         "hovertemplate": "SKU_ID=26527<br>ORDER_RANK=%{x}<br>RATE=%{y}<br>SKUID_total_customers=%{customdata[0]}<br>SKUID_total_transactions=%{customdata[1]}<br>SKUID_total_probability_rate=%{customdata[2]}<br>product_rank_bytotalprobrate=%{customdata[3]}<extra></extra>",
         "legendgroup": "26527",
         "line": {
          "color": "#FECB52",
          "dash": "solid"
         },
         "marker": {
          "symbol": "circle"
         },
         "mode": "lines",
         "name": "26527",
         "orientation": "v",
         "showlegend": true,
         "type": "scatter",
         "x": [
          1,
          2,
          3,
          4,
          5,
          6,
          7,
          8
         ],
         "xaxis": "x",
         "y": [
          0.04793545325106787,
          0.028713811105837685,
          0.01684859990507831,
          0.008305647840531562,
          0.006881822496440437,
          0.0037968675842429997,
          0.0018984337921214998,
          0.0018984337921214998
         ],
         "yaxis": "y"
        },
        {
         "customdata": [
          [
           739,
           2018,
           0.17536782154722355,
           20
          ],
          [
           739,
           2018,
           0.17536782154722355,
           20
          ],
          [
           739,
           2018,
           0.17536782154722355,
           20
          ],
          [
           739,
           2018,
           0.17536782154722355,
           20
          ],
          [
           739,
           2018,
           0.17536782154722355,
           20
          ],
          [
           739,
           2018,
           0.17536782154722355,
           20
          ],
          [
           739,
           2018,
           0.17536782154722355,
           20
          ],
          [
           739,
           2018,
           0.17536782154722355,
           20
          ],
          [
           739,
           2018,
           0.17536782154722355,
           20
          ],
          [
           739,
           2018,
           0.17536782154722355,
           20
          ],
          [
           739,
           2018,
           0.17536782154722355,
           20
          ],
          [
           739,
           2018,
           0.17536782154722355,
           20
          ],
          [
           739,
           2018,
           0.17536782154722355,
           20
          ],
          [
           739,
           2018,
           0.17536782154722355,
           20
          ],
          [
           739,
           2018,
           0.17536782154722355,
           20
          ],
          [
           739,
           2018,
           0.17536782154722355,
           20
          ],
          [
           739,
           2018,
           0.17536782154722355,
           20
          ],
          [
           739,
           2018,
           0.17536782154722355,
           20
          ],
          [
           739,
           2018,
           0.17536782154722355,
           20
          ]
         ],
         "hovertemplate": "SKU_ID=26567<br>ORDER_RANK=%{x}<br>RATE=%{y}<br>SKUID_total_customers=%{customdata[0]}<br>SKUID_total_transactions=%{customdata[1]}<br>SKUID_total_probability_rate=%{customdata[2]}<br>product_rank_bytotalprobrate=%{customdata[3]}<extra></extra>",
         "legendgroup": "26567",
         "line": {
          "color": "#636efa",
          "dash": "solid"
         },
         "marker": {
          "symbol": "circle"
         },
         "mode": "lines",
         "name": "26567",
         "orientation": "v",
         "showlegend": true,
         "type": "scatter",
         "x": [
          1,
          2,
          3,
          4,
          5,
          6,
          7,
          8,
          9,
          10,
          11,
          12,
          13,
          14,
          15,
          16,
          17,
          19,
          21
         ],
         "xaxis": "x",
         "y": [
          0.0018984337921214998,
          0.004271476032273375,
          0.008068343616516375,
          0.012577123872804937,
          0.014475557664926435,
          0.0170859041290935,
          0.01589938300901756,
          0.012814428096820124,
          0.013763644992880873,
          0.013526340768865686,
          0.011865211200759373,
          0.01044138585666825,
          0.006881822496440437,
          0.008068343616516375,
          0.005220692928334125,
          0.003559563360227812,
          0.003084954912197437,
          0.0033222591362126247,
          0.0014238253440911248
         ],
         "yaxis": "y"
        }
       ],
       "layout": {
        "legend": {
         "title": {
          "text": "SKU_ID"
         },
         "tracegroupgap": 0
        },
        "template": {
         "data": {
          "bar": [
           {
            "error_x": {
             "color": "#2a3f5f"
            },
            "error_y": {
             "color": "#2a3f5f"
            },
            "marker": {
             "line": {
              "color": "#E5ECF6",
              "width": 0.5
             },
             "pattern": {
              "fillmode": "overlay",
              "size": 10,
              "solidity": 0.2
             }
            },
            "type": "bar"
           }
          ],
          "barpolar": [
           {
            "marker": {
             "line": {
              "color": "#E5ECF6",
              "width": 0.5
             },
             "pattern": {
              "fillmode": "overlay",
              "size": 10,
              "solidity": 0.2
             }
            },
            "type": "barpolar"
           }
          ],
          "carpet": [
           {
            "aaxis": {
             "endlinecolor": "#2a3f5f",
             "gridcolor": "white",
             "linecolor": "white",
             "minorgridcolor": "white",
             "startlinecolor": "#2a3f5f"
            },
            "baxis": {
             "endlinecolor": "#2a3f5f",
             "gridcolor": "white",
             "linecolor": "white",
             "minorgridcolor": "white",
             "startlinecolor": "#2a3f5f"
            },
            "type": "carpet"
           }
          ],
          "choropleth": [
           {
            "colorbar": {
             "outlinewidth": 0,
             "ticks": ""
            },
            "type": "choropleth"
           }
          ],
          "contour": [
           {
            "colorbar": {
             "outlinewidth": 0,
             "ticks": ""
            },
            "colorscale": [
             [
              0,
              "#0d0887"
             ],
             [
              0.1111111111111111,
              "#46039f"
             ],
             [
              0.2222222222222222,
              "#7201a8"
             ],
             [
              0.3333333333333333,
              "#9c179e"
             ],
             [
              0.4444444444444444,
              "#bd3786"
             ],
             [
              0.5555555555555556,
              "#d8576b"
             ],
             [
              0.6666666666666666,
              "#ed7953"
             ],
             [
              0.7777777777777778,
              "#fb9f3a"
             ],
             [
              0.8888888888888888,
              "#fdca26"
             ],
             [
              1,
              "#f0f921"
             ]
            ],
            "type": "contour"
           }
          ],
          "contourcarpet": [
           {
            "colorbar": {
             "outlinewidth": 0,
             "ticks": ""
            },
            "type": "contourcarpet"
           }
          ],
          "heatmap": [
           {
            "colorbar": {
             "outlinewidth": 0,
             "ticks": ""
            },
            "colorscale": [
             [
              0,
              "#0d0887"
             ],
             [
              0.1111111111111111,
              "#46039f"
             ],
             [
              0.2222222222222222,
              "#7201a8"
             ],
             [
              0.3333333333333333,
              "#9c179e"
             ],
             [
              0.4444444444444444,
              "#bd3786"
             ],
             [
              0.5555555555555556,
              "#d8576b"
             ],
             [
              0.6666666666666666,
              "#ed7953"
             ],
             [
              0.7777777777777778,
              "#fb9f3a"
             ],
             [
              0.8888888888888888,
              "#fdca26"
             ],
             [
              1,
              "#f0f921"
             ]
            ],
            "type": "heatmap"
           }
          ],
          "heatmapgl": [
           {
            "colorbar": {
             "outlinewidth": 0,
             "ticks": ""
            },
            "colorscale": [
             [
              0,
              "#0d0887"
             ],
             [
              0.1111111111111111,
              "#46039f"
             ],
             [
              0.2222222222222222,
              "#7201a8"
             ],
             [
              0.3333333333333333,
              "#9c179e"
             ],
             [
              0.4444444444444444,
              "#bd3786"
             ],
             [
              0.5555555555555556,
              "#d8576b"
             ],
             [
              0.6666666666666666,
              "#ed7953"
             ],
             [
              0.7777777777777778,
              "#fb9f3a"
             ],
             [
              0.8888888888888888,
              "#fdca26"
             ],
             [
              1,
              "#f0f921"
             ]
            ],
            "type": "heatmapgl"
           }
          ],
          "histogram": [
           {
            "marker": {
             "pattern": {
              "fillmode": "overlay",
              "size": 10,
              "solidity": 0.2
             }
            },
            "type": "histogram"
           }
          ],
          "histogram2d": [
           {
            "colorbar": {
             "outlinewidth": 0,
             "ticks": ""
            },
            "colorscale": [
             [
              0,
              "#0d0887"
             ],
             [
              0.1111111111111111,
              "#46039f"
             ],
             [
              0.2222222222222222,
              "#7201a8"
             ],
             [
              0.3333333333333333,
              "#9c179e"
             ],
             [
              0.4444444444444444,
              "#bd3786"
             ],
             [
              0.5555555555555556,
              "#d8576b"
             ],
             [
              0.6666666666666666,
              "#ed7953"
             ],
             [
              0.7777777777777778,
              "#fb9f3a"
             ],
             [
              0.8888888888888888,
              "#fdca26"
             ],
             [
              1,
              "#f0f921"
             ]
            ],
            "type": "histogram2d"
           }
          ],
          "histogram2dcontour": [
           {
            "colorbar": {
             "outlinewidth": 0,
             "ticks": ""
            },
            "colorscale": [
             [
              0,
              "#0d0887"
             ],
             [
              0.1111111111111111,
              "#46039f"
             ],
             [
              0.2222222222222222,
              "#7201a8"
             ],
             [
              0.3333333333333333,
              "#9c179e"
             ],
             [
              0.4444444444444444,
              "#bd3786"
             ],
             [
              0.5555555555555556,
              "#d8576b"
             ],
             [
              0.6666666666666666,
              "#ed7953"
             ],
             [
              0.7777777777777778,
              "#fb9f3a"
             ],
             [
              0.8888888888888888,
              "#fdca26"
             ],
             [
              1,
              "#f0f921"
             ]
            ],
            "type": "histogram2dcontour"
           }
          ],
          "mesh3d": [
           {
            "colorbar": {
             "outlinewidth": 0,
             "ticks": ""
            },
            "type": "mesh3d"
           }
          ],
          "parcoords": [
           {
            "line": {
             "colorbar": {
              "outlinewidth": 0,
              "ticks": ""
             }
            },
            "type": "parcoords"
           }
          ],
          "pie": [
           {
            "automargin": true,
            "type": "pie"
           }
          ],
          "scatter": [
           {
            "fillpattern": {
             "fillmode": "overlay",
             "size": 10,
             "solidity": 0.2
            },
            "type": "scatter"
           }
          ],
          "scatter3d": [
           {
            "line": {
             "colorbar": {
              "outlinewidth": 0,
              "ticks": ""
             }
            },
            "marker": {
             "colorbar": {
              "outlinewidth": 0,
              "ticks": ""
             }
            },
            "type": "scatter3d"
           }
          ],
          "scattercarpet": [
           {
            "marker": {
             "colorbar": {
              "outlinewidth": 0,
              "ticks": ""
             }
            },
            "type": "scattercarpet"
           }
          ],
          "scattergeo": [
           {
            "marker": {
             "colorbar": {
              "outlinewidth": 0,
              "ticks": ""
             }
            },
            "type": "scattergeo"
           }
          ],
          "scattergl": [
           {
            "marker": {
             "colorbar": {
              "outlinewidth": 0,
              "ticks": ""
             }
            },
            "type": "scattergl"
           }
          ],
          "scattermapbox": [
           {
            "marker": {
             "colorbar": {
              "outlinewidth": 0,
              "ticks": ""
             }
            },
            "type": "scattermapbox"
           }
          ],
          "scatterpolar": [
           {
            "marker": {
             "colorbar": {
              "outlinewidth": 0,
              "ticks": ""
             }
            },
            "type": "scatterpolar"
           }
          ],
          "scatterpolargl": [
           {
            "marker": {
             "colorbar": {
              "outlinewidth": 0,
              "ticks": ""
             }
            },
            "type": "scatterpolargl"
           }
          ],
          "scatterternary": [
           {
            "marker": {
             "colorbar": {
              "outlinewidth": 0,
              "ticks": ""
             }
            },
            "type": "scatterternary"
           }
          ],
          "surface": [
           {
            "colorbar": {
             "outlinewidth": 0,
             "ticks": ""
            },
            "colorscale": [
             [
              0,
              "#0d0887"
             ],
             [
              0.1111111111111111,
              "#46039f"
             ],
             [
              0.2222222222222222,
              "#7201a8"
             ],
             [
              0.3333333333333333,
              "#9c179e"
             ],
             [
              0.4444444444444444,
              "#bd3786"
             ],
             [
              0.5555555555555556,
              "#d8576b"
             ],
             [
              0.6666666666666666,
              "#ed7953"
             ],
             [
              0.7777777777777778,
              "#fb9f3a"
             ],
             [
              0.8888888888888888,
              "#fdca26"
             ],
             [
              1,
              "#f0f921"
             ]
            ],
            "type": "surface"
           }
          ],
          "table": [
           {
            "cells": {
             "fill": {
              "color": "#EBF0F8"
             },
             "line": {
              "color": "white"
             }
            },
            "header": {
             "fill": {
              "color": "#C8D4E3"
             },
             "line": {
              "color": "white"
             }
            },
            "type": "table"
           }
          ]
         },
         "layout": {
          "annotationdefaults": {
           "arrowcolor": "#2a3f5f",
           "arrowhead": 0,
           "arrowwidth": 1
          },
          "autotypenumbers": "strict",
          "coloraxis": {
           "colorbar": {
            "outlinewidth": 0,
            "ticks": ""
           }
          },
          "colorscale": {
           "diverging": [
            [
             0,
             "#8e0152"
            ],
            [
             0.1,
             "#c51b7d"
            ],
            [
             0.2,
             "#de77ae"
            ],
            [
             0.3,
             "#f1b6da"
            ],
            [
             0.4,
             "#fde0ef"
            ],
            [
             0.5,
             "#f7f7f7"
            ],
            [
             0.6,
             "#e6f5d0"
            ],
            [
             0.7,
             "#b8e186"
            ],
            [
             0.8,
             "#7fbc41"
            ],
            [
             0.9,
             "#4d9221"
            ],
            [
             1,
             "#276419"
            ]
           ],
           "sequential": [
            [
             0,
             "#0d0887"
            ],
            [
             0.1111111111111111,
             "#46039f"
            ],
            [
             0.2222222222222222,
             "#7201a8"
            ],
            [
             0.3333333333333333,
             "#9c179e"
            ],
            [
             0.4444444444444444,
             "#bd3786"
            ],
            [
             0.5555555555555556,
             "#d8576b"
            ],
            [
             0.6666666666666666,
             "#ed7953"
            ],
            [
             0.7777777777777778,
             "#fb9f3a"
            ],
            [
             0.8888888888888888,
             "#fdca26"
            ],
            [
             1,
             "#f0f921"
            ]
           ],
           "sequentialminus": [
            [
             0,
             "#0d0887"
            ],
            [
             0.1111111111111111,
             "#46039f"
            ],
            [
             0.2222222222222222,
             "#7201a8"
            ],
            [
             0.3333333333333333,
             "#9c179e"
            ],
            [
             0.4444444444444444,
             "#bd3786"
            ],
            [
             0.5555555555555556,
             "#d8576b"
            ],
            [
             0.6666666666666666,
             "#ed7953"
            ],
            [
             0.7777777777777778,
             "#fb9f3a"
            ],
            [
             0.8888888888888888,
             "#fdca26"
            ],
            [
             1,
             "#f0f921"
            ]
           ]
          },
          "colorway": [
           "#636efa",
           "#EF553B",
           "#00cc96",
           "#ab63fa",
           "#FFA15A",
           "#19d3f3",
           "#FF6692",
           "#B6E880",
           "#FF97FF",
           "#FECB52"
          ],
          "font": {
           "color": "#2a3f5f"
          },
          "geo": {
           "bgcolor": "white",
           "lakecolor": "white",
           "landcolor": "#E5ECF6",
           "showlakes": true,
           "showland": true,
           "subunitcolor": "white"
          },
          "hoverlabel": {
           "align": "left"
          },
          "hovermode": "closest",
          "mapbox": {
           "style": "light"
          },
          "paper_bgcolor": "white",
          "plot_bgcolor": "#E5ECF6",
          "polar": {
           "angularaxis": {
            "gridcolor": "white",
            "linecolor": "white",
            "ticks": ""
           },
           "bgcolor": "#E5ECF6",
           "radialaxis": {
            "gridcolor": "white",
            "linecolor": "white",
            "ticks": ""
           }
          },
          "scene": {
           "xaxis": {
            "backgroundcolor": "#E5ECF6",
            "gridcolor": "white",
            "gridwidth": 2,
            "linecolor": "white",
            "showbackground": true,
            "ticks": "",
            "zerolinecolor": "white"
           },
           "yaxis": {
            "backgroundcolor": "#E5ECF6",
            "gridcolor": "white",
            "gridwidth": 2,
            "linecolor": "white",
            "showbackground": true,
            "ticks": "",
            "zerolinecolor": "white"
           },
           "zaxis": {
            "backgroundcolor": "#E5ECF6",
            "gridcolor": "white",
            "gridwidth": 2,
            "linecolor": "white",
            "showbackground": true,
            "ticks": "",
            "zerolinecolor": "white"
           }
          },
          "shapedefaults": {
           "line": {
            "color": "#2a3f5f"
           }
          },
          "ternary": {
           "aaxis": {
            "gridcolor": "white",
            "linecolor": "white",
            "ticks": ""
           },
           "baxis": {
            "gridcolor": "white",
            "linecolor": "white",
            "ticks": ""
           },
           "bgcolor": "#E5ECF6",
           "caxis": {
            "gridcolor": "white",
            "linecolor": "white",
            "ticks": ""
           }
          },
          "title": {
           "x": 0.05
          },
          "xaxis": {
           "automargin": true,
           "gridcolor": "white",
           "linecolor": "white",
           "ticks": "",
           "title": {
            "standoff": 15
           },
           "zerolinecolor": "white",
           "zerolinewidth": 2
          },
          "yaxis": {
           "automargin": true,
           "gridcolor": "white",
           "linecolor": "white",
           "ticks": "",
           "title": {
            "standoff": 15
           },
           "zerolinecolor": "white",
           "zerolinewidth": 2
          }
         }
        },
        "title": {
         "text": "SKU_ID between [20, 30]"
        },
        "xaxis": {
         "anchor": "y",
         "domain": [
          0,
          1
         ],
         "title": {
          "text": "ORDER_RANK"
         }
        },
        "yaxis": {
         "anchor": "x",
         "domain": [
          0,
          1
         ],
         "title": {
          "text": "RATE"
         }
        }
       }
      }
     },
     "metadata": {},
     "output_type": "display_data"
    }
   ],
   "source": [
    "for i in range(3):\n",
    "    plot_df = df[\n",
    "        (df[\"product_rank_bytotalprobrate\"].between(10*i,10*(i+1))) &\n",
    "        (df[\"FIRST_ORDER_COUNTS\"] > 5)\n",
    "    ]\n",
    "\n",
    "    px.line(plot_df,\n",
    "        x=\"ORDER_RANK\",\n",
    "        y=\"RATE\",\n",
    "        color=\"SKU_ID\",\n",
    "        hover_data=[\n",
    "            \"SKUID_total_customers\",\n",
    "            \"SKUID_total_transactions\",\n",
    "            \"SKUID_total_probability_rate\",\n",
    "            \"product_rank_bytotalprobrate\",\n",
    "        ],\n",
    "        title=f\"SKU_ID between [{10*i}, {10*(i+1)}]\"\n",
    "    ).show()"
   ]
  },
  {
   "cell_type": "code",
   "execution_count": 8,
   "metadata": {},
   "outputs": [
    {
     "data": {
      "application/vnd.plotly.v1+json": {
       "config": {
        "plotlyServerURL": "https://plot.ly"
       },
       "data": [
        {
         "customdata": [
          [
           1026,
           2915,
           0.24347413383958236,
           8
          ],
          [
           1026,
           2915,
           0.24347413383958236,
           8
          ],
          [
           1026,
           2915,
           0.24347413383958236,
           8
          ],
          [
           1026,
           2915,
           0.24347413383958236,
           8
          ],
          [
           1026,
           2915,
           0.24347413383958236,
           8
          ],
          [
           1026,
           2915,
           0.24347413383958236,
           8
          ],
          [
           1026,
           2915,
           0.24347413383958236,
           8
          ],
          [
           1026,
           2915,
           0.24347413383958236,
           8
          ],
          [
           1026,
           2915,
           0.24347413383958236,
           8
          ],
          [
           1026,
           2915,
           0.24347413383958236,
           8
          ],
          [
           1026,
           2915,
           0.24347413383958236,
           8
          ],
          [
           1026,
           2915,
           0.24347413383958236,
           8
          ],
          [
           1026,
           2915,
           0.24347413383958236,
           8
          ],
          [
           1026,
           2915,
           0.24347413383958236,
           8
          ],
          [
           1026,
           2915,
           0.24347413383958236,
           8
          ],
          [
           1026,
           2915,
           0.24347413383958236,
           8
          ],
          [
           1026,
           2915,
           0.24347413383958236,
           8
          ],
          [
           1026,
           2915,
           0.24347413383958236,
           8
          ],
          [
           1026,
           2915,
           0.24347413383958236,
           8
          ],
          [
           1026,
           2915,
           0.24347413383958236,
           8
          ],
          [
           1026,
           2915,
           0.24347413383958236,
           8
          ],
          [
           1026,
           2915,
           0.24347413383958236,
           8
          ],
          [
           1026,
           2915,
           0.24347413383958236,
           8
          ],
          [
           1026,
           2915,
           0.24347413383958236,
           8
          ],
          [
           1026,
           2915,
           0.24347413383958236,
           8
          ],
          [
           1026,
           2915,
           0.24347413383958236,
           8
          ],
          [
           1026,
           2915,
           0.24347413383958236,
           8
          ],
          [
           1026,
           2915,
           0.24347413383958236,
           8
          ],
          [
           1026,
           2915,
           0.24347413383958236,
           8
          ],
          [
           1026,
           2915,
           0.24347413383958236,
           8
          ],
          [
           1026,
           2915,
           0.24347413383958236,
           8
          ],
          [
           1026,
           2915,
           0.24347413383958236,
           8
          ],
          [
           1026,
           2915,
           0.24347413383958236,
           8
          ],
          [
           1026,
           2915,
           0.24347413383958236,
           8
          ],
          [
           1026,
           2915,
           0.24347413383958236,
           8
          ],
          [
           1026,
           2915,
           0.24347413383958236,
           8
          ],
          [
           1026,
           2915,
           0.24347413383958236,
           8
          ],
          [
           1026,
           2915,
           0.24347413383958236,
           8
          ],
          [
           1026,
           2915,
           0.24347413383958236,
           8
          ],
          [
           1026,
           2915,
           0.24347413383958236,
           8
          ],
          [
           1026,
           2915,
           0.24347413383958236,
           8
          ],
          [
           1026,
           2915,
           0.24347413383958236,
           8
          ],
          [
           1026,
           2915,
           0.24347413383958236,
           8
          ],
          [
           1026,
           2915,
           0.24347413383958236,
           8
          ],
          [
           1026,
           2915,
           0.24347413383958236,
           8
          ],
          [
           1026,
           2915,
           0.24347413383958236,
           8
          ],
          [
           1026,
           2915,
           0.24347413383958236,
           8
          ],
          [
           1026,
           2915,
           0.24347413383958236,
           8
          ],
          [
           1026,
           2915,
           0.24347413383958236,
           8
          ],
          [
           1026,
           2915,
           0.24347413383958236,
           8
          ],
          [
           1026,
           2915,
           0.24347413383958236,
           8
          ],
          [
           1026,
           2915,
           0.24347413383958236,
           8
          ],
          [
           1026,
           2915,
           0.24347413383958236,
           8
          ],
          [
           1026,
           2915,
           0.24347413383958236,
           8
          ],
          [
           1026,
           2915,
           0.24347413383958236,
           8
          ],
          [
           1026,
           2915,
           0.24347413383958236,
           8
          ],
          [
           1026,
           2915,
           0.24347413383958236,
           8
          ],
          [
           1026,
           2915,
           0.24347413383958236,
           8
          ]
         ],
         "hovertemplate": "SKU_ID=2201<br>ORDER_RANK=%{x}<br>RATE_cumsum=%{y}<br>SKUID_total_customers=%{customdata[0]}<br>SKUID_total_transactions=%{customdata[1]}<br>SKUID_total_probability_rate=%{customdata[2]}<br>product_rank_bytotalprobrate=%{customdata[3]}<extra></extra>",
         "legendgroup": "2201",
         "line": {
          "color": "#636efa",
          "dash": "solid"
         },
         "marker": {
          "symbol": "circle"
         },
         "mode": "lines",
         "name": "2201",
         "orientation": "v",
         "showlegend": true,
         "type": "scatter",
         "x": [
          1,
          2,
          3,
          4,
          5,
          6,
          7,
          8,
          9,
          10,
          11,
          12,
          13,
          14,
          15,
          16,
          17,
          18,
          19,
          20,
          21,
          22,
          23,
          24,
          25,
          26,
          27,
          28,
          29,
          30,
          31,
          32,
          33,
          34,
          35,
          36,
          37,
          38,
          39,
          40,
          41,
          42,
          43,
          44,
          45,
          46,
          47,
          48,
          49,
          50,
          51,
          52,
          53,
          54,
          55,
          56,
          57,
          58
         ],
         "xaxis": "x",
         "y": [
          0.083531086853346,
          0.13194114855244424,
          0.16136687233032748,
          0.1855719031798766,
          0.19933554817275748,
          0.2085904129093498,
          0.21713336497389654,
          0.2235405790223066,
          0.22852396772662553,
          0.23089700996677742,
          0.23350735643094447,
          0.23611770289511153,
          0.23801613668723304,
          0.2389653535832938,
          0.23967726625533936,
          0.2403891789273849,
          0.24133839582344566,
          0.24205030849549122,
          0.2427622211675368,
          0.2427622211675368,
          0.2427622211675368,
          0.24299952539155198,
          0.24323682961556717,
          0.24323682961556717,
          0.24323682961556717,
          0.24323682961556717,
          0.24323682961556717,
          0.24347413383958236,
          0.24347413383958236,
          0.24347413383958236,
          0.24347413383958236,
          0.24347413383958236,
          0.24347413383958236,
          0.24347413383958236,
          0.24347413383958236,
          0.24347413383958236,
          0.24347413383958236,
          0.24347413383958236,
          0.24347413383958236,
          0.24347413383958236,
          0.24347413383958236,
          0.24347413383958236,
          0.24347413383958236,
          0.24347413383958236,
          0.24347413383958236,
          0.24347413383958236,
          0.24347413383958236,
          0.24347413383958236,
          0.24347413383958236,
          0.24347413383958236,
          0.24347413383958236,
          0.24347413383958236,
          0.24347413383958236,
          0.24347413383958236,
          0.24347413383958236,
          0.24347413383958236,
          0.24347413383958236,
          0.24347413383958236
         ],
         "yaxis": "y"
        },
        {
         "customdata": [
          [
           1072,
           3741,
           0.25439012814428097,
           5
          ],
          [
           1072,
           3741,
           0.25439012814428097,
           5
          ],
          [
           1072,
           3741,
           0.25439012814428097,
           5
          ],
          [
           1072,
           3741,
           0.25439012814428097,
           5
          ],
          [
           1072,
           3741,
           0.25439012814428097,
           5
          ],
          [
           1072,
           3741,
           0.25439012814428097,
           5
          ],
          [
           1072,
           3741,
           0.25439012814428097,
           5
          ],
          [
           1072,
           3741,
           0.25439012814428097,
           5
          ],
          [
           1072,
           3741,
           0.25439012814428097,
           5
          ],
          [
           1072,
           3741,
           0.25439012814428097,
           5
          ],
          [
           1072,
           3741,
           0.25439012814428097,
           5
          ],
          [
           1072,
           3741,
           0.25439012814428097,
           5
          ],
          [
           1072,
           3741,
           0.25439012814428097,
           5
          ],
          [
           1072,
           3741,
           0.25439012814428097,
           5
          ],
          [
           1072,
           3741,
           0.25439012814428097,
           5
          ],
          [
           1072,
           3741,
           0.25439012814428097,
           5
          ],
          [
           1072,
           3741,
           0.25439012814428097,
           5
          ],
          [
           1072,
           3741,
           0.25439012814428097,
           5
          ],
          [
           1072,
           3741,
           0.25439012814428097,
           5
          ],
          [
           1072,
           3741,
           0.25439012814428097,
           5
          ],
          [
           1072,
           3741,
           0.25439012814428097,
           5
          ],
          [
           1072,
           3741,
           0.25439012814428097,
           5
          ],
          [
           1072,
           3741,
           0.25439012814428097,
           5
          ],
          [
           1072,
           3741,
           0.25439012814428097,
           5
          ],
          [
           1072,
           3741,
           0.25439012814428097,
           5
          ],
          [
           1072,
           3741,
           0.25439012814428097,
           5
          ],
          [
           1072,
           3741,
           0.25439012814428097,
           5
          ],
          [
           1072,
           3741,
           0.25439012814428097,
           5
          ],
          [
           1072,
           3741,
           0.25439012814428097,
           5
          ],
          [
           1072,
           3741,
           0.25439012814428097,
           5
          ],
          [
           1072,
           3741,
           0.25439012814428097,
           5
          ],
          [
           1072,
           3741,
           0.25439012814428097,
           5
          ],
          [
           1072,
           3741,
           0.25439012814428097,
           5
          ],
          [
           1072,
           3741,
           0.25439012814428097,
           5
          ],
          [
           1072,
           3741,
           0.25439012814428097,
           5
          ],
          [
           1072,
           3741,
           0.25439012814428097,
           5
          ],
          [
           1072,
           3741,
           0.25439012814428097,
           5
          ],
          [
           1072,
           3741,
           0.25439012814428097,
           5
          ],
          [
           1072,
           3741,
           0.25439012814428097,
           5
          ],
          [
           1072,
           3741,
           0.25439012814428097,
           5
          ],
          [
           1072,
           3741,
           0.25439012814428097,
           5
          ],
          [
           1072,
           3741,
           0.25439012814428097,
           5
          ],
          [
           1072,
           3741,
           0.25439012814428097,
           5
          ],
          [
           1072,
           3741,
           0.25439012814428097,
           5
          ],
          [
           1072,
           3741,
           0.25439012814428097,
           5
          ],
          [
           1072,
           3741,
           0.25439012814428097,
           5
          ],
          [
           1072,
           3741,
           0.25439012814428097,
           5
          ],
          [
           1072,
           3741,
           0.25439012814428097,
           5
          ],
          [
           1072,
           3741,
           0.25439012814428097,
           5
          ],
          [
           1072,
           3741,
           0.25439012814428097,
           5
          ],
          [
           1072,
           3741,
           0.25439012814428097,
           5
          ],
          [
           1072,
           3741,
           0.25439012814428097,
           5
          ],
          [
           1072,
           3741,
           0.25439012814428097,
           5
          ],
          [
           1072,
           3741,
           0.25439012814428097,
           5
          ],
          [
           1072,
           3741,
           0.25439012814428097,
           5
          ],
          [
           1072,
           3741,
           0.25439012814428097,
           5
          ],
          [
           1072,
           3741,
           0.25439012814428097,
           5
          ],
          [
           1072,
           3741,
           0.25439012814428097,
           5
          ],
          [
           1072,
           3741,
           0.25439012814428097,
           5
          ],
          [
           1072,
           3741,
           0.25439012814428097,
           5
          ],
          [
           1072,
           3741,
           0.25439012814428097,
           5
          ],
          [
           1072,
           3741,
           0.25439012814428097,
           5
          ],
          [
           1072,
           3741,
           0.25439012814428097,
           5
          ],
          [
           1072,
           3741,
           0.25439012814428097,
           5
          ],
          [
           1072,
           3741,
           0.25439012814428097,
           5
          ],
          [
           1072,
           3741,
           0.25439012814428097,
           5
          ],
          [
           1072,
           3741,
           0.25439012814428097,
           5
          ]
         ],
         "hovertemplate": "SKU_ID=7026<br>ORDER_RANK=%{x}<br>RATE_cumsum=%{y}<br>SKUID_total_customers=%{customdata[0]}<br>SKUID_total_transactions=%{customdata[1]}<br>SKUID_total_probability_rate=%{customdata[2]}<br>product_rank_bytotalprobrate=%{customdata[3]}<extra></extra>",
         "legendgroup": "7026",
         "line": {
          "color": "#EF553B",
          "dash": "solid"
         },
         "marker": {
          "symbol": "circle"
         },
         "mode": "lines",
         "name": "7026",
         "orientation": "v",
         "showlegend": true,
         "type": "scatter",
         "x": [
          1,
          2,
          3,
          4,
          5,
          6,
          7,
          8,
          9,
          10,
          11,
          12,
          13,
          14,
          15,
          16,
          17,
          18,
          19,
          20,
          21,
          22,
          23,
          24,
          25,
          26,
          27,
          28,
          29,
          30,
          31,
          32,
          33,
          34,
          35,
          36,
          37,
          38,
          39,
          40,
          41,
          42,
          43,
          44,
          45,
          46,
          47,
          48,
          49,
          50,
          51,
          52,
          53,
          54,
          55,
          56,
          57,
          58,
          59,
          60,
          61,
          62,
          63,
          64,
          65,
          66,
          67
         ],
         "xaxis": "x",
         "y": [
          0.08424299952539155,
          0.13360227812055053,
          0.16682486948267677,
          0.18580920740389179,
          0.20028476506881823,
          0.21262458471760798,
          0.2197437114380636,
          0.2292358803986711,
          0.23350735643094447,
          0.23943996203132414,
          0.24205030849549122,
          0.24347413383958233,
          0.24537256763170384,
          0.24703369719981016,
          0.24869482676791646,
          0.24964404366397722,
          0.25083056478405313,
          0.2515424774560987,
          0.25225439012814427,
          0.25249169435215946,
          0.25249169435215946,
          0.253203607024205,
          0.2534409112482202,
          0.2534409112482202,
          0.2534409112482202,
          0.2536782154722354,
          0.2536782154722354,
          0.2536782154722354,
          0.2536782154722354,
          0.2536782154722354,
          0.2536782154722354,
          0.2536782154722354,
          0.2536782154722354,
          0.2539155196962506,
          0.2539155196962506,
          0.2539155196962506,
          0.2539155196962506,
          0.2539155196962506,
          0.2539155196962506,
          0.2539155196962506,
          0.2541528239202658,
          0.2541528239202658,
          0.2541528239202658,
          0.2541528239202658,
          0.25439012814428097,
          0.25439012814428097,
          0.25439012814428097,
          0.25439012814428097,
          0.25439012814428097,
          0.25439012814428097,
          0.25439012814428097,
          0.25439012814428097,
          0.25439012814428097,
          0.25439012814428097,
          0.25439012814428097,
          0.25439012814428097,
          0.25439012814428097,
          0.25439012814428097,
          0.25439012814428097,
          0.25439012814428097,
          0.25439012814428097,
          0.25439012814428097,
          0.25439012814428097,
          0.25439012814428097,
          0.25439012814428097,
          0.25439012814428097,
          0.25439012814428097
         ],
         "yaxis": "y"
        },
        {
         "customdata": [
          [
           2092,
           11719,
           0.49644043663977216,
           0
          ],
          [
           2092,
           11719,
           0.49644043663977216,
           0
          ],
          [
           2092,
           11719,
           0.49644043663977216,
           0
          ],
          [
           2092,
           11719,
           0.49644043663977216,
           0
          ],
          [
           2092,
           11719,
           0.49644043663977216,
           0
          ],
          [
           2092,
           11719,
           0.49644043663977216,
           0
          ],
          [
           2092,
           11719,
           0.49644043663977216,
           0
          ],
          [
           2092,
           11719,
           0.49644043663977216,
           0
          ],
          [
           2092,
           11719,
           0.49644043663977216,
           0
          ],
          [
           2092,
           11719,
           0.49644043663977216,
           0
          ],
          [
           2092,
           11719,
           0.49644043663977216,
           0
          ],
          [
           2092,
           11719,
           0.49644043663977216,
           0
          ],
          [
           2092,
           11719,
           0.49644043663977216,
           0
          ],
          [
           2092,
           11719,
           0.49644043663977216,
           0
          ],
          [
           2092,
           11719,
           0.49644043663977216,
           0
          ],
          [
           2092,
           11719,
           0.49644043663977216,
           0
          ],
          [
           2092,
           11719,
           0.49644043663977216,
           0
          ],
          [
           2092,
           11719,
           0.49644043663977216,
           0
          ],
          [
           2092,
           11719,
           0.49644043663977216,
           0
          ],
          [
           2092,
           11719,
           0.49644043663977216,
           0
          ],
          [
           2092,
           11719,
           0.49644043663977216,
           0
          ],
          [
           2092,
           11719,
           0.49644043663977216,
           0
          ],
          [
           2092,
           11719,
           0.49644043663977216,
           0
          ],
          [
           2092,
           11719,
           0.49644043663977216,
           0
          ],
          [
           2092,
           11719,
           0.49644043663977216,
           0
          ],
          [
           2092,
           11719,
           0.49644043663977216,
           0
          ],
          [
           2092,
           11719,
           0.49644043663977216,
           0
          ],
          [
           2092,
           11719,
           0.49644043663977216,
           0
          ],
          [
           2092,
           11719,
           0.49644043663977216,
           0
          ],
          [
           2092,
           11719,
           0.49644043663977216,
           0
          ],
          [
           2092,
           11719,
           0.49644043663977216,
           0
          ],
          [
           2092,
           11719,
           0.49644043663977216,
           0
          ],
          [
           2092,
           11719,
           0.49644043663977216,
           0
          ],
          [
           2092,
           11719,
           0.49644043663977216,
           0
          ],
          [
           2092,
           11719,
           0.49644043663977216,
           0
          ],
          [
           2092,
           11719,
           0.49644043663977216,
           0
          ],
          [
           2092,
           11719,
           0.49644043663977216,
           0
          ],
          [
           2092,
           11719,
           0.49644043663977216,
           0
          ],
          [
           2092,
           11719,
           0.49644043663977216,
           0
          ],
          [
           2092,
           11719,
           0.49644043663977216,
           0
          ],
          [
           2092,
           11719,
           0.49644043663977216,
           0
          ],
          [
           2092,
           11719,
           0.49644043663977216,
           0
          ],
          [
           2092,
           11719,
           0.49644043663977216,
           0
          ],
          [
           2092,
           11719,
           0.49644043663977216,
           0
          ],
          [
           2092,
           11719,
           0.49644043663977216,
           0
          ],
          [
           2092,
           11719,
           0.49644043663977216,
           0
          ],
          [
           2092,
           11719,
           0.49644043663977216,
           0
          ],
          [
           2092,
           11719,
           0.49644043663977216,
           0
          ],
          [
           2092,
           11719,
           0.49644043663977216,
           0
          ],
          [
           2092,
           11719,
           0.49644043663977216,
           0
          ],
          [
           2092,
           11719,
           0.49644043663977216,
           0
          ],
          [
           2092,
           11719,
           0.49644043663977216,
           0
          ],
          [
           2092,
           11719,
           0.49644043663977216,
           0
          ],
          [
           2092,
           11719,
           0.49644043663977216,
           0
          ],
          [
           2092,
           11719,
           0.49644043663977216,
           0
          ],
          [
           2092,
           11719,
           0.49644043663977216,
           0
          ],
          [
           2092,
           11719,
           0.49644043663977216,
           0
          ],
          [
           2092,
           11719,
           0.49644043663977216,
           0
          ],
          [
           2092,
           11719,
           0.49644043663977216,
           0
          ],
          [
           2092,
           11719,
           0.49644043663977216,
           0
          ],
          [
           2092,
           11719,
           0.49644043663977216,
           0
          ],
          [
           2092,
           11719,
           0.49644043663977216,
           0
          ],
          [
           2092,
           11719,
           0.49644043663977216,
           0
          ],
          [
           2092,
           11719,
           0.49644043663977216,
           0
          ],
          [
           2092,
           11719,
           0.49644043663977216,
           0
          ],
          [
           2092,
           11719,
           0.49644043663977216,
           0
          ]
         ],
         "hovertemplate": "SKU_ID=7038<br>ORDER_RANK=%{x}<br>RATE_cumsum=%{y}<br>SKUID_total_customers=%{customdata[0]}<br>SKUID_total_transactions=%{customdata[1]}<br>SKUID_total_probability_rate=%{customdata[2]}<br>product_rank_bytotalprobrate=%{customdata[3]}<extra></extra>",
         "legendgroup": "7038",
         "line": {
          "color": "#00cc96",
          "dash": "solid"
         },
         "marker": {
          "symbol": "circle"
         },
         "mode": "lines",
         "name": "7038",
         "orientation": "v",
         "showlegend": true,
         "type": "scatter",
         "x": [
          1,
          2,
          3,
          4,
          5,
          6,
          7,
          8,
          9,
          10,
          11,
          12,
          13,
          14,
          15,
          16,
          17,
          18,
          19,
          20,
          21,
          22,
          23,
          24,
          25,
          26,
          27,
          28,
          29,
          30,
          31,
          32,
          33,
          34,
          35,
          36,
          37,
          38,
          39,
          40,
          41,
          42,
          43,
          44,
          45,
          46,
          47,
          48,
          49,
          50,
          51,
          52,
          53,
          54,
          55,
          56,
          57,
          58,
          59,
          60,
          61,
          62,
          63,
          64,
          65,
          66
         ],
         "xaxis": "x",
         "y": [
          0.22093023255813954,
          0.33270052206929285,
          0.3877551020408163,
          0.431656383483626,
          0.454437588989084,
          0.4700996677740864,
          0.47698149027052683,
          0.4824394874228761,
          0.48599905078310396,
          0.4883720930232558,
          0.4907451352634077,
          0.49193165638348363,
          0.4926435690555292,
          0.49359278595158995,
          0.4945420028476507,
          0.4952539155196963,
          0.49572852396772665,
          0.49572852396772665,
          0.49596582819174184,
          0.49596582819174184,
          0.496203132415757,
          0.496203132415757,
          0.496203132415757,
          0.496203132415757,
          0.496203132415757,
          0.496203132415757,
          0.496203132415757,
          0.49644043663977216,
          0.49644043663977216,
          0.49644043663977216,
          0.49644043663977216,
          0.49644043663977216,
          0.49644043663977216,
          0.49644043663977216,
          0.49644043663977216,
          0.49644043663977216,
          0.49644043663977216,
          0.49644043663977216,
          0.49644043663977216,
          0.49644043663977216,
          0.49644043663977216,
          0.49644043663977216,
          0.49644043663977216,
          0.49644043663977216,
          0.49644043663977216,
          0.49644043663977216,
          0.49644043663977216,
          0.49644043663977216,
          0.49644043663977216,
          0.49644043663977216,
          0.49644043663977216,
          0.49644043663977216,
          0.49644043663977216,
          0.49644043663977216,
          0.49644043663977216,
          0.49644043663977216,
          0.49644043663977216,
          0.49644043663977216,
          0.49644043663977216,
          0.49644043663977216,
          0.49644043663977216,
          0.49644043663977216,
          0.49644043663977216,
          0.49644043663977216,
          0.49644043663977216,
          0.49644043663977216
         ],
         "yaxis": "y"
        },
        {
         "customdata": [
          [
           1052,
           3056,
           0.24964404366397722,
           7
          ],
          [
           1052,
           3056,
           0.24964404366397722,
           7
          ],
          [
           1052,
           3056,
           0.24964404366397722,
           7
          ],
          [
           1052,
           3056,
           0.24964404366397722,
           7
          ],
          [
           1052,
           3056,
           0.24964404366397722,
           7
          ],
          [
           1052,
           3056,
           0.24964404366397722,
           7
          ],
          [
           1052,
           3056,
           0.24964404366397722,
           7
          ],
          [
           1052,
           3056,
           0.24964404366397722,
           7
          ],
          [
           1052,
           3056,
           0.24964404366397722,
           7
          ],
          [
           1052,
           3056,
           0.24964404366397722,
           7
          ],
          [
           1052,
           3056,
           0.24964404366397722,
           7
          ],
          [
           1052,
           3056,
           0.24964404366397722,
           7
          ],
          [
           1052,
           3056,
           0.24964404366397722,
           7
          ],
          [
           1052,
           3056,
           0.24964404366397722,
           7
          ],
          [
           1052,
           3056,
           0.24964404366397722,
           7
          ],
          [
           1052,
           3056,
           0.24964404366397722,
           7
          ],
          [
           1052,
           3056,
           0.24964404366397722,
           7
          ],
          [
           1052,
           3056,
           0.24964404366397722,
           7
          ],
          [
           1052,
           3056,
           0.24964404366397722,
           7
          ],
          [
           1052,
           3056,
           0.24964404366397722,
           7
          ],
          [
           1052,
           3056,
           0.24964404366397722,
           7
          ],
          [
           1052,
           3056,
           0.24964404366397722,
           7
          ],
          [
           1052,
           3056,
           0.24964404366397722,
           7
          ],
          [
           1052,
           3056,
           0.24964404366397722,
           7
          ],
          [
           1052,
           3056,
           0.24964404366397722,
           7
          ],
          [
           1052,
           3056,
           0.24964404366397722,
           7
          ],
          [
           1052,
           3056,
           0.24964404366397722,
           7
          ],
          [
           1052,
           3056,
           0.24964404366397722,
           7
          ],
          [
           1052,
           3056,
           0.24964404366397722,
           7
          ],
          [
           1052,
           3056,
           0.24964404366397722,
           7
          ],
          [
           1052,
           3056,
           0.24964404366397722,
           7
          ],
          [
           1052,
           3056,
           0.24964404366397722,
           7
          ],
          [
           1052,
           3056,
           0.24964404366397722,
           7
          ],
          [
           1052,
           3056,
           0.24964404366397722,
           7
          ],
          [
           1052,
           3056,
           0.24964404366397722,
           7
          ],
          [
           1052,
           3056,
           0.24964404366397722,
           7
          ],
          [
           1052,
           3056,
           0.24964404366397722,
           7
          ],
          [
           1052,
           3056,
           0.24964404366397722,
           7
          ],
          [
           1052,
           3056,
           0.24964404366397722,
           7
          ],
          [
           1052,
           3056,
           0.24964404366397722,
           7
          ],
          [
           1052,
           3056,
           0.24964404366397722,
           7
          ],
          [
           1052,
           3056,
           0.24964404366397722,
           7
          ],
          [
           1052,
           3056,
           0.24964404366397722,
           7
          ],
          [
           1052,
           3056,
           0.24964404366397722,
           7
          ],
          [
           1052,
           3056,
           0.24964404366397722,
           7
          ],
          [
           1052,
           3056,
           0.24964404366397722,
           7
          ],
          [
           1052,
           3056,
           0.24964404366397722,
           7
          ],
          [
           1052,
           3056,
           0.24964404366397722,
           7
          ],
          [
           1052,
           3056,
           0.24964404366397722,
           7
          ],
          [
           1052,
           3056,
           0.24964404366397722,
           7
          ],
          [
           1052,
           3056,
           0.24964404366397722,
           7
          ],
          [
           1052,
           3056,
           0.24964404366397722,
           7
          ],
          [
           1052,
           3056,
           0.24964404366397722,
           7
          ],
          [
           1052,
           3056,
           0.24964404366397722,
           7
          ],
          [
           1052,
           3056,
           0.24964404366397722,
           7
          ],
          [
           1052,
           3056,
           0.24964404366397722,
           7
          ],
          [
           1052,
           3056,
           0.24964404366397722,
           7
          ],
          [
           1052,
           3056,
           0.24964404366397722,
           7
          ],
          [
           1052,
           3056,
           0.24964404366397722,
           7
          ],
          [
           1052,
           3056,
           0.24964404366397722,
           7
          ],
          [
           1052,
           3056,
           0.24964404366397722,
           7
          ],
          [
           1052,
           3056,
           0.24964404366397722,
           7
          ],
          [
           1052,
           3056,
           0.24964404366397722,
           7
          ],
          [
           1052,
           3056,
           0.24964404366397722,
           7
          ],
          [
           1052,
           3056,
           0.24964404366397722,
           7
          ],
          [
           1052,
           3056,
           0.24964404366397722,
           7
          ],
          [
           1052,
           3056,
           0.24964404366397722,
           7
          ]
         ],
         "hovertemplate": "SKU_ID=7475<br>ORDER_RANK=%{x}<br>RATE_cumsum=%{y}<br>SKUID_total_customers=%{customdata[0]}<br>SKUID_total_transactions=%{customdata[1]}<br>SKUID_total_probability_rate=%{customdata[2]}<br>product_rank_bytotalprobrate=%{customdata[3]}<extra></extra>",
         "legendgroup": "7475",
         "line": {
          "color": "#ab63fa",
          "dash": "solid"
         },
         "marker": {
          "symbol": "circle"
         },
         "mode": "lines",
         "name": "7475",
         "orientation": "v",
         "showlegend": true,
         "type": "scatter",
         "x": [
          1,
          2,
          3,
          4,
          5,
          6,
          7,
          8,
          9,
          10,
          11,
          12,
          13,
          14,
          15,
          16,
          17,
          18,
          19,
          20,
          21,
          22,
          23,
          24,
          25,
          26,
          27,
          28,
          29,
          30,
          31,
          32,
          33,
          34,
          35,
          36,
          37,
          38,
          39,
          40,
          41,
          42,
          43,
          44,
          45,
          46,
          47,
          48,
          49,
          50,
          51,
          52,
          53,
          54,
          55,
          56,
          57,
          58,
          59,
          60,
          61,
          62,
          63,
          64,
          65,
          66,
          67
         ],
         "xaxis": "x",
         "y": [
          0.07498813478879925,
          0.13004271476032275,
          0.16611295681063123,
          0.19221642145230186,
          0.21001423825344093,
          0.2254390128144281,
          0.23350735643094447,
          0.2389653535832938,
          0.2427622211675368,
          0.24513526340768865,
          0.2460844803037494,
          0.2463217845277646,
          0.24727100142382535,
          0.2486948267679165,
          0.2486948267679165,
          0.2486948267679165,
          0.2486948267679165,
          0.2486948267679165,
          0.2486948267679165,
          0.24916943521594684,
          0.24916943521594684,
          0.24916943521594684,
          0.24916943521594684,
          0.24916943521594684,
          0.24916943521594684,
          0.24916943521594684,
          0.24916943521594684,
          0.24940673943996203,
          0.24940673943996203,
          0.24940673943996203,
          0.24964404366397722,
          0.24964404366397722,
          0.24964404366397722,
          0.24964404366397722,
          0.24964404366397722,
          0.24964404366397722,
          0.24964404366397722,
          0.24964404366397722,
          0.24964404366397722,
          0.24964404366397722,
          0.24964404366397722,
          0.24964404366397722,
          0.24964404366397722,
          0.24964404366397722,
          0.24964404366397722,
          0.24964404366397722,
          0.24964404366397722,
          0.24964404366397722,
          0.24964404366397722,
          0.24964404366397722,
          0.24964404366397722,
          0.24964404366397722,
          0.24964404366397722,
          0.24964404366397722,
          0.24964404366397722,
          0.24964404366397722,
          0.24964404366397722,
          0.24964404366397722,
          0.24964404366397722,
          0.24964404366397722,
          0.24964404366397722,
          0.24964404366397722,
          0.24964404366397722,
          0.24964404366397722,
          0.24964404366397722,
          0.24964404366397722,
          0.24964404366397722
         ],
         "yaxis": "y"
        },
        {
         "customdata": [
          [
           1840,
           7214,
           0.4366397721879449,
           1
          ],
          [
           1840,
           7214,
           0.4366397721879449,
           1
          ],
          [
           1840,
           7214,
           0.4366397721879449,
           1
          ],
          [
           1840,
           7214,
           0.4366397721879449,
           1
          ],
          [
           1840,
           7214,
           0.4366397721879449,
           1
          ],
          [
           1840,
           7214,
           0.4366397721879449,
           1
          ],
          [
           1840,
           7214,
           0.4366397721879449,
           1
          ],
          [
           1840,
           7214,
           0.4366397721879449,
           1
          ],
          [
           1840,
           7214,
           0.4366397721879449,
           1
          ],
          [
           1840,
           7214,
           0.4366397721879449,
           1
          ],
          [
           1840,
           7214,
           0.4366397721879449,
           1
          ],
          [
           1840,
           7214,
           0.4366397721879449,
           1
          ],
          [
           1840,
           7214,
           0.4366397721879449,
           1
          ],
          [
           1840,
           7214,
           0.4366397721879449,
           1
          ],
          [
           1840,
           7214,
           0.4366397721879449,
           1
          ],
          [
           1840,
           7214,
           0.4366397721879449,
           1
          ],
          [
           1840,
           7214,
           0.4366397721879449,
           1
          ],
          [
           1840,
           7214,
           0.4366397721879449,
           1
          ],
          [
           1840,
           7214,
           0.4366397721879449,
           1
          ],
          [
           1840,
           7214,
           0.4366397721879449,
           1
          ],
          [
           1840,
           7214,
           0.4366397721879449,
           1
          ],
          [
           1840,
           7214,
           0.4366397721879449,
           1
          ],
          [
           1840,
           7214,
           0.4366397721879449,
           1
          ],
          [
           1840,
           7214,
           0.4366397721879449,
           1
          ],
          [
           1840,
           7214,
           0.4366397721879449,
           1
          ],
          [
           1840,
           7214,
           0.4366397721879449,
           1
          ],
          [
           1840,
           7214,
           0.4366397721879449,
           1
          ],
          [
           1840,
           7214,
           0.4366397721879449,
           1
          ],
          [
           1840,
           7214,
           0.4366397721879449,
           1
          ],
          [
           1840,
           7214,
           0.4366397721879449,
           1
          ],
          [
           1840,
           7214,
           0.4366397721879449,
           1
          ],
          [
           1840,
           7214,
           0.4366397721879449,
           1
          ],
          [
           1840,
           7214,
           0.4366397721879449,
           1
          ],
          [
           1840,
           7214,
           0.4366397721879449,
           1
          ],
          [
           1840,
           7214,
           0.4366397721879449,
           1
          ],
          [
           1840,
           7214,
           0.4366397721879449,
           1
          ],
          [
           1840,
           7214,
           0.4366397721879449,
           1
          ],
          [
           1840,
           7214,
           0.4366397721879449,
           1
          ],
          [
           1840,
           7214,
           0.4366397721879449,
           1
          ],
          [
           1840,
           7214,
           0.4366397721879449,
           1
          ],
          [
           1840,
           7214,
           0.4366397721879449,
           1
          ],
          [
           1840,
           7214,
           0.4366397721879449,
           1
          ],
          [
           1840,
           7214,
           0.4366397721879449,
           1
          ],
          [
           1840,
           7214,
           0.4366397721879449,
           1
          ],
          [
           1840,
           7214,
           0.4366397721879449,
           1
          ],
          [
           1840,
           7214,
           0.4366397721879449,
           1
          ],
          [
           1840,
           7214,
           0.4366397721879449,
           1
          ],
          [
           1840,
           7214,
           0.4366397721879449,
           1
          ],
          [
           1840,
           7214,
           0.4366397721879449,
           1
          ],
          [
           1840,
           7214,
           0.4366397721879449,
           1
          ],
          [
           1840,
           7214,
           0.4366397721879449,
           1
          ],
          [
           1840,
           7214,
           0.4366397721879449,
           1
          ],
          [
           1840,
           7214,
           0.4366397721879449,
           1
          ],
          [
           1840,
           7214,
           0.4366397721879449,
           1
          ],
          [
           1840,
           7214,
           0.4366397721879449,
           1
          ],
          [
           1840,
           7214,
           0.4366397721879449,
           1
          ],
          [
           1840,
           7214,
           0.4366397721879449,
           1
          ]
         ],
         "hovertemplate": "SKU_ID=7651<br>ORDER_RANK=%{x}<br>RATE_cumsum=%{y}<br>SKUID_total_customers=%{customdata[0]}<br>SKUID_total_transactions=%{customdata[1]}<br>SKUID_total_probability_rate=%{customdata[2]}<br>product_rank_bytotalprobrate=%{customdata[3]}<extra></extra>",
         "legendgroup": "7651",
         "line": {
          "color": "#FFA15A",
          "dash": "solid"
         },
         "marker": {
          "symbol": "circle"
         },
         "mode": "lines",
         "name": "7651",
         "orientation": "v",
         "showlegend": true,
         "type": "scatter",
         "x": [
          1,
          2,
          3,
          4,
          5,
          6,
          7,
          8,
          9,
          10,
          11,
          12,
          13,
          14,
          15,
          16,
          17,
          18,
          19,
          20,
          21,
          22,
          23,
          24,
          25,
          26,
          27,
          28,
          29,
          30,
          31,
          32,
          33,
          34,
          35,
          36,
          37,
          38,
          39,
          40,
          41,
          42,
          43,
          44,
          45,
          46,
          47,
          48,
          49,
          50,
          51,
          52,
          53,
          54,
          55,
          56,
          57
         ],
         "xaxis": "x",
         "y": [
          0.18628381585192216,
          0.27574750830564787,
          0.32866635026103463,
          0.3630754627432368,
          0.3853820598006645,
          0.3998576174655909,
          0.4110109159943047,
          0.4193165638348363,
          0.42548647365923115,
          0.4290460370194589,
          0.4311817750355956,
          0.4335548172757475,
          0.4340294257237779,
          0.4342667299477931,
          0.4345040341718083,
          0.4345040341718083,
          0.4345040341718083,
          0.43521594684385384,
          0.43521594684385384,
          0.43521594684385384,
          0.4356905552918842,
          0.4361651637399146,
          0.4364024679639298,
          0.4364024679639298,
          0.4364024679639298,
          0.4364024679639298,
          0.4364024679639298,
          0.4364024679639298,
          0.4364024679639298,
          0.4364024679639298,
          0.4364024679639298,
          0.4364024679639298,
          0.4364024679639298,
          0.436639772187945,
          0.436639772187945,
          0.436639772187945,
          0.436639772187945,
          0.436639772187945,
          0.436639772187945,
          0.436639772187945,
          0.436639772187945,
          0.436639772187945,
          0.436639772187945,
          0.436639772187945,
          0.436639772187945,
          0.436639772187945,
          0.436639772187945,
          0.436639772187945,
          0.436639772187945,
          0.436639772187945,
          0.436639772187945,
          0.436639772187945,
          0.436639772187945,
          0.436639772187945,
          0.436639772187945,
          0.436639772187945,
          0.436639772187945
         ],
         "yaxis": "y"
        },
        {
         "customdata": [
          [
           1011,
           3312,
           0.23991457047935452,
           10
          ],
          [
           1011,
           3312,
           0.23991457047935452,
           10
          ],
          [
           1011,
           3312,
           0.23991457047935452,
           10
          ],
          [
           1011,
           3312,
           0.23991457047935452,
           10
          ],
          [
           1011,
           3312,
           0.23991457047935452,
           10
          ],
          [
           1011,
           3312,
           0.23991457047935452,
           10
          ],
          [
           1011,
           3312,
           0.23991457047935452,
           10
          ],
          [
           1011,
           3312,
           0.23991457047935452,
           10
          ],
          [
           1011,
           3312,
           0.23991457047935452,
           10
          ],
          [
           1011,
           3312,
           0.23991457047935452,
           10
          ],
          [
           1011,
           3312,
           0.23991457047935452,
           10
          ],
          [
           1011,
           3312,
           0.23991457047935452,
           10
          ],
          [
           1011,
           3312,
           0.23991457047935452,
           10
          ],
          [
           1011,
           3312,
           0.23991457047935452,
           10
          ],
          [
           1011,
           3312,
           0.23991457047935452,
           10
          ],
          [
           1011,
           3312,
           0.23991457047935452,
           10
          ],
          [
           1011,
           3312,
           0.23991457047935452,
           10
          ],
          [
           1011,
           3312,
           0.23991457047935452,
           10
          ],
          [
           1011,
           3312,
           0.23991457047935452,
           10
          ],
          [
           1011,
           3312,
           0.23991457047935452,
           10
          ],
          [
           1011,
           3312,
           0.23991457047935452,
           10
          ],
          [
           1011,
           3312,
           0.23991457047935452,
           10
          ],
          [
           1011,
           3312,
           0.23991457047935452,
           10
          ],
          [
           1011,
           3312,
           0.23991457047935452,
           10
          ],
          [
           1011,
           3312,
           0.23991457047935452,
           10
          ],
          [
           1011,
           3312,
           0.23991457047935452,
           10
          ],
          [
           1011,
           3312,
           0.23991457047935452,
           10
          ],
          [
           1011,
           3312,
           0.23991457047935452,
           10
          ],
          [
           1011,
           3312,
           0.23991457047935452,
           10
          ],
          [
           1011,
           3312,
           0.23991457047935452,
           10
          ],
          [
           1011,
           3312,
           0.23991457047935452,
           10
          ],
          [
           1011,
           3312,
           0.23991457047935452,
           10
          ],
          [
           1011,
           3312,
           0.23991457047935452,
           10
          ],
          [
           1011,
           3312,
           0.23991457047935452,
           10
          ],
          [
           1011,
           3312,
           0.23991457047935452,
           10
          ],
          [
           1011,
           3312,
           0.23991457047935452,
           10
          ],
          [
           1011,
           3312,
           0.23991457047935452,
           10
          ],
          [
           1011,
           3312,
           0.23991457047935452,
           10
          ],
          [
           1011,
           3312,
           0.23991457047935452,
           10
          ],
          [
           1011,
           3312,
           0.23991457047935452,
           10
          ],
          [
           1011,
           3312,
           0.23991457047935452,
           10
          ],
          [
           1011,
           3312,
           0.23991457047935452,
           10
          ],
          [
           1011,
           3312,
           0.23991457047935452,
           10
          ],
          [
           1011,
           3312,
           0.23991457047935452,
           10
          ],
          [
           1011,
           3312,
           0.23991457047935452,
           10
          ],
          [
           1011,
           3312,
           0.23991457047935452,
           10
          ],
          [
           1011,
           3312,
           0.23991457047935452,
           10
          ],
          [
           1011,
           3312,
           0.23991457047935452,
           10
          ],
          [
           1011,
           3312,
           0.23991457047935452,
           10
          ],
          [
           1011,
           3312,
           0.23991457047935452,
           10
          ],
          [
           1011,
           3312,
           0.23991457047935452,
           10
          ],
          [
           1011,
           3312,
           0.23991457047935452,
           10
          ],
          [
           1011,
           3312,
           0.23991457047935452,
           10
          ],
          [
           1011,
           3312,
           0.23991457047935452,
           10
          ],
          [
           1011,
           3312,
           0.23991457047935452,
           10
          ],
          [
           1011,
           3312,
           0.23991457047935452,
           10
          ],
          [
           1011,
           3312,
           0.23991457047935452,
           10
          ],
          [
           1011,
           3312,
           0.23991457047935452,
           10
          ],
          [
           1011,
           3312,
           0.23991457047935452,
           10
          ],
          [
           1011,
           3312,
           0.23991457047935452,
           10
          ],
          [
           1011,
           3312,
           0.23991457047935452,
           10
          ],
          [
           1011,
           3312,
           0.23991457047935452,
           10
          ],
          [
           1011,
           3312,
           0.23991457047935452,
           10
          ],
          [
           1011,
           3312,
           0.23991457047935452,
           10
          ],
          [
           1011,
           3312,
           0.23991457047935452,
           10
          ]
         ],
         "hovertemplate": "SKU_ID=16667<br>ORDER_RANK=%{x}<br>RATE_cumsum=%{y}<br>SKUID_total_customers=%{customdata[0]}<br>SKUID_total_transactions=%{customdata[1]}<br>SKUID_total_probability_rate=%{customdata[2]}<br>product_rank_bytotalprobrate=%{customdata[3]}<extra></extra>",
         "legendgroup": "16667",
         "line": {
          "color": "#19d3f3",
          "dash": "solid"
         },
         "marker": {
          "symbol": "circle"
         },
         "mode": "lines",
         "name": "16667",
         "orientation": "v",
         "showlegend": true,
         "type": "scatter",
         "x": [
          1,
          2,
          3,
          4,
          5,
          6,
          7,
          8,
          9,
          10,
          11,
          12,
          13,
          14,
          15,
          16,
          17,
          18,
          19,
          20,
          21,
          22,
          23,
          24,
          25,
          26,
          27,
          28,
          29,
          30,
          31,
          32,
          33,
          34,
          35,
          36,
          37,
          38,
          39,
          40,
          41,
          42,
          43,
          44,
          45,
          46,
          47,
          48,
          49,
          50,
          51,
          52,
          53,
          54,
          55,
          56,
          57,
          58,
          59,
          60,
          61,
          62,
          63,
          64,
          65
         ],
         "xaxis": "x",
         "y": [
          0.08234456573327005,
          0.13146654010441386,
          0.16065495965828192,
          0.17940199335548174,
          0.1953013763644993,
          0.2083531086853346,
          0.2157095396298054,
          0.2235405790223066,
          0.2273374466065496,
          0.22994779307071667,
          0.2330327479829141,
          0.2349311817750356,
          0.2365923113431419,
          0.23730422401518747,
          0.23777883246321785,
          0.23801613668723304,
          0.23849074513526342,
          0.23849074513526342,
          0.23849074513526342,
          0.23849074513526342,
          0.2389653535832938,
          0.2389653535832938,
          0.23920265780730898,
          0.23967726625533936,
          0.23967726625533936,
          0.23967726625533936,
          0.23991457047935452,
          0.23991457047935452,
          0.23991457047935452,
          0.23991457047935452,
          0.23991457047935452,
          0.23991457047935452,
          0.23991457047935452,
          0.23991457047935452,
          0.23991457047935452,
          0.23991457047935452,
          0.23991457047935452,
          0.23991457047935452,
          0.23991457047935452,
          0.23991457047935452,
          0.23991457047935452,
          0.23991457047935452,
          0.23991457047935452,
          0.23991457047935452,
          0.23991457047935452,
          0.23991457047935452,
          0.23991457047935452,
          0.23991457047935452,
          0.23991457047935452,
          0.23991457047935452,
          0.23991457047935452,
          0.23991457047935452,
          0.23991457047935452,
          0.23991457047935452,
          0.23991457047935452,
          0.23991457047935452,
          0.23991457047935452,
          0.23991457047935452,
          0.23991457047935452,
          0.23991457047935452,
          0.23991457047935452,
          0.23991457047935452,
          0.23991457047935452,
          0.23991457047935452,
          0.23991457047935452
         ],
         "yaxis": "y"
        },
        {
         "customdata": [
          [
           1025,
           3289,
           0.24323682961556717,
           9
          ],
          [
           1025,
           3289,
           0.24323682961556717,
           9
          ],
          [
           1025,
           3289,
           0.24323682961556717,
           9
          ],
          [
           1025,
           3289,
           0.24323682961556717,
           9
          ],
          [
           1025,
           3289,
           0.24323682961556717,
           9
          ],
          [
           1025,
           3289,
           0.24323682961556717,
           9
          ],
          [
           1025,
           3289,
           0.24323682961556717,
           9
          ],
          [
           1025,
           3289,
           0.24323682961556717,
           9
          ],
          [
           1025,
           3289,
           0.24323682961556717,
           9
          ],
          [
           1025,
           3289,
           0.24323682961556717,
           9
          ],
          [
           1025,
           3289,
           0.24323682961556717,
           9
          ],
          [
           1025,
           3289,
           0.24323682961556717,
           9
          ],
          [
           1025,
           3289,
           0.24323682961556717,
           9
          ],
          [
           1025,
           3289,
           0.24323682961556717,
           9
          ],
          [
           1025,
           3289,
           0.24323682961556717,
           9
          ],
          [
           1025,
           3289,
           0.24323682961556717,
           9
          ],
          [
           1025,
           3289,
           0.24323682961556717,
           9
          ],
          [
           1025,
           3289,
           0.24323682961556717,
           9
          ],
          [
           1025,
           3289,
           0.24323682961556717,
           9
          ],
          [
           1025,
           3289,
           0.24323682961556717,
           9
          ],
          [
           1025,
           3289,
           0.24323682961556717,
           9
          ],
          [
           1025,
           3289,
           0.24323682961556717,
           9
          ],
          [
           1025,
           3289,
           0.24323682961556717,
           9
          ],
          [
           1025,
           3289,
           0.24323682961556717,
           9
          ],
          [
           1025,
           3289,
           0.24323682961556717,
           9
          ],
          [
           1025,
           3289,
           0.24323682961556717,
           9
          ],
          [
           1025,
           3289,
           0.24323682961556717,
           9
          ],
          [
           1025,
           3289,
           0.24323682961556717,
           9
          ],
          [
           1025,
           3289,
           0.24323682961556717,
           9
          ],
          [
           1025,
           3289,
           0.24323682961556717,
           9
          ],
          [
           1025,
           3289,
           0.24323682961556717,
           9
          ],
          [
           1025,
           3289,
           0.24323682961556717,
           9
          ],
          [
           1025,
           3289,
           0.24323682961556717,
           9
          ],
          [
           1025,
           3289,
           0.24323682961556717,
           9
          ],
          [
           1025,
           3289,
           0.24323682961556717,
           9
          ],
          [
           1025,
           3289,
           0.24323682961556717,
           9
          ],
          [
           1025,
           3289,
           0.24323682961556717,
           9
          ],
          [
           1025,
           3289,
           0.24323682961556717,
           9
          ],
          [
           1025,
           3289,
           0.24323682961556717,
           9
          ],
          [
           1025,
           3289,
           0.24323682961556717,
           9
          ],
          [
           1025,
           3289,
           0.24323682961556717,
           9
          ],
          [
           1025,
           3289,
           0.24323682961556717,
           9
          ],
          [
           1025,
           3289,
           0.24323682961556717,
           9
          ],
          [
           1025,
           3289,
           0.24323682961556717,
           9
          ],
          [
           1025,
           3289,
           0.24323682961556717,
           9
          ],
          [
           1025,
           3289,
           0.24323682961556717,
           9
          ],
          [
           1025,
           3289,
           0.24323682961556717,
           9
          ],
          [
           1025,
           3289,
           0.24323682961556717,
           9
          ],
          [
           1025,
           3289,
           0.24323682961556717,
           9
          ],
          [
           1025,
           3289,
           0.24323682961556717,
           9
          ],
          [
           1025,
           3289,
           0.24323682961556717,
           9
          ],
          [
           1025,
           3289,
           0.24323682961556717,
           9
          ],
          [
           1025,
           3289,
           0.24323682961556717,
           9
          ],
          [
           1025,
           3289,
           0.24323682961556717,
           9
          ],
          [
           1025,
           3289,
           0.24323682961556717,
           9
          ],
          [
           1025,
           3289,
           0.24323682961556717,
           9
          ],
          [
           1025,
           3289,
           0.24323682961556717,
           9
          ],
          [
           1025,
           3289,
           0.24323682961556717,
           9
          ],
          [
           1025,
           3289,
           0.24323682961556717,
           9
          ],
          [
           1025,
           3289,
           0.24323682961556717,
           9
          ],
          [
           1025,
           3289,
           0.24323682961556717,
           9
          ],
          [
           1025,
           3289,
           0.24323682961556717,
           9
          ],
          [
           1025,
           3289,
           0.24323682961556717,
           9
          ],
          [
           1025,
           3289,
           0.24323682961556717,
           9
          ]
         ],
         "hovertemplate": "SKU_ID=16668<br>ORDER_RANK=%{x}<br>RATE_cumsum=%{y}<br>SKUID_total_customers=%{customdata[0]}<br>SKUID_total_transactions=%{customdata[1]}<br>SKUID_total_probability_rate=%{customdata[2]}<br>product_rank_bytotalprobrate=%{customdata[3]}<extra></extra>",
         "legendgroup": "16668",
         "line": {
          "color": "#FF6692",
          "dash": "solid"
         },
         "marker": {
          "symbol": "circle"
         },
         "mode": "lines",
         "name": "16668",
         "orientation": "v",
         "showlegend": true,
         "type": "scatter",
         "x": [
          1,
          2,
          3,
          4,
          5,
          6,
          7,
          8,
          9,
          10,
          11,
          12,
          13,
          14,
          15,
          16,
          17,
          18,
          19,
          20,
          21,
          22,
          23,
          24,
          25,
          26,
          27,
          28,
          29,
          30,
          31,
          32,
          33,
          34,
          35,
          36,
          37,
          38,
          39,
          40,
          41,
          42,
          43,
          44,
          45,
          46,
          47,
          48,
          49,
          50,
          51,
          52,
          53,
          54,
          55,
          56,
          57,
          58,
          59,
          60,
          61,
          62,
          63,
          65
         ],
         "xaxis": "x",
         "y": [
          0.01945894636924537,
          0.07498813478879925,
          0.12933080208827719,
          0.16990982439487423,
          0.19838633127669675,
          0.2123872804935928,
          0.22354057902230662,
          0.2292358803986711,
          0.23184622686283818,
          0.23421926910299004,
          0.23706691979117228,
          0.23777883246321785,
          0.23920265780730898,
          0.23991457047935455,
          0.24110109159943047,
          0.24133839582344566,
          0.24181300427147603,
          0.2422876127195064,
          0.2422876127195064,
          0.2422876127195064,
          0.2422876127195064,
          0.2422876127195064,
          0.2425249169435216,
          0.2427622211675368,
          0.2427622211675368,
          0.2427622211675368,
          0.24299952539155198,
          0.24299952539155198,
          0.24299952539155198,
          0.24299952539155198,
          0.24299952539155198,
          0.24299952539155198,
          0.24299952539155198,
          0.24299952539155198,
          0.24299952539155198,
          0.24299952539155198,
          0.24299952539155198,
          0.24299952539155198,
          0.24299952539155198,
          0.24299952539155198,
          0.24299952539155198,
          0.24299952539155198,
          0.24299952539155198,
          0.24299952539155198,
          0.24323682961556717,
          0.24323682961556717,
          0.24323682961556717,
          0.24323682961556717,
          0.24323682961556717,
          0.24323682961556717,
          0.24323682961556717,
          0.24323682961556717,
          0.24323682961556717,
          0.24323682961556717,
          0.24323682961556717,
          0.24323682961556717,
          0.24323682961556717,
          0.24323682961556717,
          0.24323682961556717,
          0.24323682961556717,
          0.24323682961556717,
          0.24323682961556717,
          0.24323682961556717,
          0.24323682961556717
         ],
         "yaxis": "y"
        },
        {
         "customdata": [
          [
           1692,
           7666,
           0.4015187470336972,
           2
          ],
          [
           1692,
           7666,
           0.4015187470336972,
           2
          ],
          [
           1692,
           7666,
           0.4015187470336972,
           2
          ],
          [
           1692,
           7666,
           0.4015187470336972,
           2
          ],
          [
           1692,
           7666,
           0.4015187470336972,
           2
          ],
          [
           1692,
           7666,
           0.4015187470336972,
           2
          ],
          [
           1692,
           7666,
           0.4015187470336972,
           2
          ],
          [
           1692,
           7666,
           0.4015187470336972,
           2
          ],
          [
           1692,
           7666,
           0.4015187470336972,
           2
          ],
          [
           1692,
           7666,
           0.4015187470336972,
           2
          ],
          [
           1692,
           7666,
           0.4015187470336972,
           2
          ],
          [
           1692,
           7666,
           0.4015187470336972,
           2
          ],
          [
           1692,
           7666,
           0.4015187470336972,
           2
          ],
          [
           1692,
           7666,
           0.4015187470336972,
           2
          ],
          [
           1692,
           7666,
           0.4015187470336972,
           2
          ],
          [
           1692,
           7666,
           0.4015187470336972,
           2
          ],
          [
           1692,
           7666,
           0.4015187470336972,
           2
          ],
          [
           1692,
           7666,
           0.4015187470336972,
           2
          ],
          [
           1692,
           7666,
           0.4015187470336972,
           2
          ],
          [
           1692,
           7666,
           0.4015187470336972,
           2
          ],
          [
           1692,
           7666,
           0.4015187470336972,
           2
          ],
          [
           1692,
           7666,
           0.4015187470336972,
           2
          ],
          [
           1692,
           7666,
           0.4015187470336972,
           2
          ],
          [
           1692,
           7666,
           0.4015187470336972,
           2
          ],
          [
           1692,
           7666,
           0.4015187470336972,
           2
          ],
          [
           1692,
           7666,
           0.4015187470336972,
           2
          ],
          [
           1692,
           7666,
           0.4015187470336972,
           2
          ],
          [
           1692,
           7666,
           0.4015187470336972,
           2
          ],
          [
           1692,
           7666,
           0.4015187470336972,
           2
          ],
          [
           1692,
           7666,
           0.4015187470336972,
           2
          ],
          [
           1692,
           7666,
           0.4015187470336972,
           2
          ],
          [
           1692,
           7666,
           0.4015187470336972,
           2
          ],
          [
           1692,
           7666,
           0.4015187470336972,
           2
          ],
          [
           1692,
           7666,
           0.4015187470336972,
           2
          ],
          [
           1692,
           7666,
           0.4015187470336972,
           2
          ],
          [
           1692,
           7666,
           0.4015187470336972,
           2
          ],
          [
           1692,
           7666,
           0.4015187470336972,
           2
          ],
          [
           1692,
           7666,
           0.4015187470336972,
           2
          ],
          [
           1692,
           7666,
           0.4015187470336972,
           2
          ],
          [
           1692,
           7666,
           0.4015187470336972,
           2
          ],
          [
           1692,
           7666,
           0.4015187470336972,
           2
          ],
          [
           1692,
           7666,
           0.4015187470336972,
           2
          ],
          [
           1692,
           7666,
           0.4015187470336972,
           2
          ],
          [
           1692,
           7666,
           0.4015187470336972,
           2
          ],
          [
           1692,
           7666,
           0.4015187470336972,
           2
          ],
          [
           1692,
           7666,
           0.4015187470336972,
           2
          ],
          [
           1692,
           7666,
           0.4015187470336972,
           2
          ],
          [
           1692,
           7666,
           0.4015187470336972,
           2
          ],
          [
           1692,
           7666,
           0.4015187470336972,
           2
          ],
          [
           1692,
           7666,
           0.4015187470336972,
           2
          ],
          [
           1692,
           7666,
           0.4015187470336972,
           2
          ],
          [
           1692,
           7666,
           0.4015187470336972,
           2
          ],
          [
           1692,
           7666,
           0.4015187470336972,
           2
          ],
          [
           1692,
           7666,
           0.4015187470336972,
           2
          ],
          [
           1692,
           7666,
           0.4015187470336972,
           2
          ],
          [
           1692,
           7666,
           0.4015187470336972,
           2
          ],
          [
           1692,
           7666,
           0.4015187470336972,
           2
          ],
          [
           1692,
           7666,
           0.4015187470336972,
           2
          ],
          [
           1692,
           7666,
           0.4015187470336972,
           2
          ],
          [
           1692,
           7666,
           0.4015187470336972,
           2
          ],
          [
           1692,
           7666,
           0.4015187470336972,
           2
          ],
          [
           1692,
           7666,
           0.4015187470336972,
           2
          ],
          [
           1692,
           7666,
           0.4015187470336972,
           2
          ],
          [
           1692,
           7666,
           0.4015187470336972,
           2
          ],
          [
           1692,
           7666,
           0.4015187470336972,
           2
          ],
          [
           1692,
           7666,
           0.4015187470336972,
           2
          ]
         ],
         "hovertemplate": "SKU_ID=19088<br>ORDER_RANK=%{x}<br>RATE_cumsum=%{y}<br>SKUID_total_customers=%{customdata[0]}<br>SKUID_total_transactions=%{customdata[1]}<br>SKUID_total_probability_rate=%{customdata[2]}<br>product_rank_bytotalprobrate=%{customdata[3]}<extra></extra>",
         "legendgroup": "19088",
         "line": {
          "color": "#B6E880",
          "dash": "solid"
         },
         "marker": {
          "symbol": "circle"
         },
         "mode": "lines",
         "name": "19088",
         "orientation": "v",
         "showlegend": true,
         "type": "scatter",
         "x": [
          1,
          2,
          3,
          4,
          5,
          6,
          7,
          8,
          9,
          10,
          11,
          12,
          13,
          14,
          15,
          16,
          17,
          18,
          19,
          20,
          21,
          22,
          23,
          24,
          25,
          26,
          27,
          28,
          29,
          30,
          31,
          32,
          33,
          34,
          35,
          36,
          37,
          38,
          39,
          40,
          41,
          42,
          43,
          44,
          45,
          46,
          47,
          48,
          49,
          50,
          51,
          52,
          53,
          54,
          55,
          56,
          57,
          58,
          59,
          60,
          61,
          62,
          63,
          64,
          65,
          66
         ],
         "xaxis": "x",
         "y": [
          0.23042240151874704,
          0.3096820123398197,
          0.34954912197437116,
          0.3659231134314191,
          0.37992406264831513,
          0.38609397247271005,
          0.3906027527289986,
          0.39368770764119604,
          0.3951115329852872,
          0.39677266255339344,
          0.39843379212149976,
          0.3993830090175605,
          0.3993830090175605,
          0.3998576174655909,
          0.3998576174655909,
          0.4003322259136213,
          0.40080683436165165,
          0.40104413858566684,
          0.40104413858566684,
          0.40104413858566684,
          0.40104413858566684,
          0.40104413858566684,
          0.40104413858566684,
          0.40104413858566684,
          0.40104413858566684,
          0.40128144280968203,
          0.40128144280968203,
          0.40128144280968203,
          0.40128144280968203,
          0.40128144280968203,
          0.40128144280968203,
          0.4015187470336972,
          0.4015187470336972,
          0.4015187470336972,
          0.4015187470336972,
          0.4015187470336972,
          0.4015187470336972,
          0.4015187470336972,
          0.4015187470336972,
          0.4015187470336972,
          0.4015187470336972,
          0.4015187470336972,
          0.4015187470336972,
          0.4015187470336972,
          0.4015187470336972,
          0.4015187470336972,
          0.4015187470336972,
          0.4015187470336972,
          0.4015187470336972,
          0.4015187470336972,
          0.4015187470336972,
          0.4015187470336972,
          0.4015187470336972,
          0.4015187470336972,
          0.4015187470336972,
          0.4015187470336972,
          0.4015187470336972,
          0.4015187470336972,
          0.4015187470336972,
          0.4015187470336972,
          0.4015187470336972,
          0.4015187470336972,
          0.4015187470336972,
          0.4015187470336972,
          0.4015187470336972,
          0.4015187470336972
         ],
         "yaxis": "y"
        },
        {
         "customdata": [
          [
           1292,
           3971,
           0.3065970574276222,
           4
          ],
          [
           1292,
           3971,
           0.3065970574276222,
           4
          ],
          [
           1292,
           3971,
           0.3065970574276222,
           4
          ],
          [
           1292,
           3971,
           0.3065970574276222,
           4
          ],
          [
           1292,
           3971,
           0.3065970574276222,
           4
          ],
          [
           1292,
           3971,
           0.3065970574276222,
           4
          ],
          [
           1292,
           3971,
           0.3065970574276222,
           4
          ],
          [
           1292,
           3971,
           0.3065970574276222,
           4
          ],
          [
           1292,
           3971,
           0.3065970574276222,
           4
          ],
          [
           1292,
           3971,
           0.3065970574276222,
           4
          ],
          [
           1292,
           3971,
           0.3065970574276222,
           4
          ],
          [
           1292,
           3971,
           0.3065970574276222,
           4
          ],
          [
           1292,
           3971,
           0.3065970574276222,
           4
          ],
          [
           1292,
           3971,
           0.3065970574276222,
           4
          ],
          [
           1292,
           3971,
           0.3065970574276222,
           4
          ],
          [
           1292,
           3971,
           0.3065970574276222,
           4
          ],
          [
           1292,
           3971,
           0.3065970574276222,
           4
          ],
          [
           1292,
           3971,
           0.3065970574276222,
           4
          ],
          [
           1292,
           3971,
           0.3065970574276222,
           4
          ],
          [
           1292,
           3971,
           0.3065970574276222,
           4
          ],
          [
           1292,
           3971,
           0.3065970574276222,
           4
          ],
          [
           1292,
           3971,
           0.3065970574276222,
           4
          ],
          [
           1292,
           3971,
           0.3065970574276222,
           4
          ],
          [
           1292,
           3971,
           0.3065970574276222,
           4
          ],
          [
           1292,
           3971,
           0.3065970574276222,
           4
          ],
          [
           1292,
           3971,
           0.3065970574276222,
           4
          ],
          [
           1292,
           3971,
           0.3065970574276222,
           4
          ],
          [
           1292,
           3971,
           0.3065970574276222,
           4
          ],
          [
           1292,
           3971,
           0.3065970574276222,
           4
          ],
          [
           1292,
           3971,
           0.3065970574276222,
           4
          ],
          [
           1292,
           3971,
           0.3065970574276222,
           4
          ],
          [
           1292,
           3971,
           0.3065970574276222,
           4
          ],
          [
           1292,
           3971,
           0.3065970574276222,
           4
          ],
          [
           1292,
           3971,
           0.3065970574276222,
           4
          ],
          [
           1292,
           3971,
           0.3065970574276222,
           4
          ],
          [
           1292,
           3971,
           0.3065970574276222,
           4
          ],
          [
           1292,
           3971,
           0.3065970574276222,
           4
          ],
          [
           1292,
           3971,
           0.3065970574276222,
           4
          ],
          [
           1292,
           3971,
           0.3065970574276222,
           4
          ],
          [
           1292,
           3971,
           0.3065970574276222,
           4
          ],
          [
           1292,
           3971,
           0.3065970574276222,
           4
          ],
          [
           1292,
           3971,
           0.3065970574276222,
           4
          ],
          [
           1292,
           3971,
           0.3065970574276222,
           4
          ],
          [
           1292,
           3971,
           0.3065970574276222,
           4
          ],
          [
           1292,
           3971,
           0.3065970574276222,
           4
          ],
          [
           1292,
           3971,
           0.3065970574276222,
           4
          ],
          [
           1292,
           3971,
           0.3065970574276222,
           4
          ],
          [
           1292,
           3971,
           0.3065970574276222,
           4
          ],
          [
           1292,
           3971,
           0.3065970574276222,
           4
          ],
          [
           1292,
           3971,
           0.3065970574276222,
           4
          ],
          [
           1292,
           3971,
           0.3065970574276222,
           4
          ],
          [
           1292,
           3971,
           0.3065970574276222,
           4
          ],
          [
           1292,
           3971,
           0.3065970574276222,
           4
          ],
          [
           1292,
           3971,
           0.3065970574276222,
           4
          ],
          [
           1292,
           3971,
           0.3065970574276222,
           4
          ],
          [
           1292,
           3971,
           0.3065970574276222,
           4
          ],
          [
           1292,
           3971,
           0.3065970574276222,
           4
          ],
          [
           1292,
           3971,
           0.3065970574276222,
           4
          ],
          [
           1292,
           3971,
           0.3065970574276222,
           4
          ],
          [
           1292,
           3971,
           0.3065970574276222,
           4
          ],
          [
           1292,
           3971,
           0.3065970574276222,
           4
          ],
          [
           1292,
           3971,
           0.3065970574276222,
           4
          ],
          [
           1292,
           3971,
           0.3065970574276222,
           4
          ],
          [
           1292,
           3971,
           0.3065970574276222,
           4
          ],
          [
           1292,
           3971,
           0.3065970574276222,
           4
          ],
          [
           1292,
           3971,
           0.3065970574276222,
           4
          ],
          [
           1292,
           3971,
           0.3065970574276222,
           4
          ]
         ],
         "hovertemplate": "SKU_ID=19341<br>ORDER_RANK=%{x}<br>RATE_cumsum=%{y}<br>SKUID_total_customers=%{customdata[0]}<br>SKUID_total_transactions=%{customdata[1]}<br>SKUID_total_probability_rate=%{customdata[2]}<br>product_rank_bytotalprobrate=%{customdata[3]}<extra></extra>",
         "legendgroup": "19341",
         "line": {
          "color": "#FF97FF",
          "dash": "solid"
         },
         "marker": {
          "symbol": "circle"
         },
         "mode": "lines",
         "name": "19341",
         "orientation": "v",
         "showlegend": true,
         "type": "scatter",
         "x": [
          1,
          2,
          3,
          4,
          5,
          6,
          7,
          8,
          9,
          10,
          11,
          12,
          13,
          14,
          15,
          16,
          17,
          18,
          19,
          20,
          21,
          22,
          23,
          24,
          25,
          26,
          27,
          28,
          29,
          30,
          31,
          32,
          33,
          34,
          35,
          36,
          37,
          38,
          39,
          40,
          41,
          42,
          43,
          44,
          45,
          46,
          47,
          48,
          49,
          50,
          51,
          52,
          53,
          54,
          55,
          56,
          57,
          58,
          59,
          60,
          61,
          62,
          63,
          64,
          65,
          66,
          67
         ],
         "xaxis": "x",
         "y": [
          0.13597532036070242,
          0.1988609397247271,
          0.2401518747033697,
          0.2593735168485999,
          0.27503559563360225,
          0.2857142857142857,
          0.2925961082107261,
          0.2952064546748932,
          0.2973421926910299,
          0.29876601803512104,
          0.30042714760322736,
          0.302562885619364,
          0.30374940673943995,
          0.30422401518747033,
          0.3044613194114855,
          0.3046986236355007,
          0.3054105363075463,
          0.30564784053156147,
          0.30588514475557665,
          0.30612244897959184,
          0.30612244897959184,
          0.30635975320360703,
          0.30635975320360703,
          0.30635975320360703,
          0.30635975320360703,
          0.30635975320360703,
          0.30635975320360703,
          0.30635975320360703,
          0.30635975320360703,
          0.30635975320360703,
          0.30635975320360703,
          0.30635975320360703,
          0.3065970574276222,
          0.3065970574276222,
          0.3065970574276222,
          0.3065970574276222,
          0.3065970574276222,
          0.3065970574276222,
          0.3065970574276222,
          0.3065970574276222,
          0.3065970574276222,
          0.3065970574276222,
          0.3065970574276222,
          0.3065970574276222,
          0.3065970574276222,
          0.3065970574276222,
          0.3065970574276222,
          0.3065970574276222,
          0.3065970574276222,
          0.3065970574276222,
          0.3065970574276222,
          0.3065970574276222,
          0.3065970574276222,
          0.3065970574276222,
          0.3065970574276222,
          0.3065970574276222,
          0.3065970574276222,
          0.3065970574276222,
          0.3065970574276222,
          0.3065970574276222,
          0.3065970574276222,
          0.3065970574276222,
          0.3065970574276222,
          0.3065970574276222,
          0.3065970574276222,
          0.3065970574276222,
          0.3065970574276222
         ],
         "yaxis": "y"
        },
        {
         "customdata": [
          [
           1070,
           3357,
           0.2539155196962506,
           6
          ],
          [
           1070,
           3357,
           0.2539155196962506,
           6
          ],
          [
           1070,
           3357,
           0.2539155196962506,
           6
          ],
          [
           1070,
           3357,
           0.2539155196962506,
           6
          ],
          [
           1070,
           3357,
           0.2539155196962506,
           6
          ],
          [
           1070,
           3357,
           0.2539155196962506,
           6
          ],
          [
           1070,
           3357,
           0.2539155196962506,
           6
          ],
          [
           1070,
           3357,
           0.2539155196962506,
           6
          ],
          [
           1070,
           3357,
           0.2539155196962506,
           6
          ],
          [
           1070,
           3357,
           0.2539155196962506,
           6
          ],
          [
           1070,
           3357,
           0.2539155196962506,
           6
          ],
          [
           1070,
           3357,
           0.2539155196962506,
           6
          ],
          [
           1070,
           3357,
           0.2539155196962506,
           6
          ],
          [
           1070,
           3357,
           0.2539155196962506,
           6
          ],
          [
           1070,
           3357,
           0.2539155196962506,
           6
          ],
          [
           1070,
           3357,
           0.2539155196962506,
           6
          ],
          [
           1070,
           3357,
           0.2539155196962506,
           6
          ],
          [
           1070,
           3357,
           0.2539155196962506,
           6
          ],
          [
           1070,
           3357,
           0.2539155196962506,
           6
          ],
          [
           1070,
           3357,
           0.2539155196962506,
           6
          ],
          [
           1070,
           3357,
           0.2539155196962506,
           6
          ],
          [
           1070,
           3357,
           0.2539155196962506,
           6
          ],
          [
           1070,
           3357,
           0.2539155196962506,
           6
          ],
          [
           1070,
           3357,
           0.2539155196962506,
           6
          ],
          [
           1070,
           3357,
           0.2539155196962506,
           6
          ],
          [
           1070,
           3357,
           0.2539155196962506,
           6
          ],
          [
           1070,
           3357,
           0.2539155196962506,
           6
          ],
          [
           1070,
           3357,
           0.2539155196962506,
           6
          ],
          [
           1070,
           3357,
           0.2539155196962506,
           6
          ],
          [
           1070,
           3357,
           0.2539155196962506,
           6
          ],
          [
           1070,
           3357,
           0.2539155196962506,
           6
          ],
          [
           1070,
           3357,
           0.2539155196962506,
           6
          ],
          [
           1070,
           3357,
           0.2539155196962506,
           6
          ],
          [
           1070,
           3357,
           0.2539155196962506,
           6
          ],
          [
           1070,
           3357,
           0.2539155196962506,
           6
          ],
          [
           1070,
           3357,
           0.2539155196962506,
           6
          ],
          [
           1070,
           3357,
           0.2539155196962506,
           6
          ],
          [
           1070,
           3357,
           0.2539155196962506,
           6
          ],
          [
           1070,
           3357,
           0.2539155196962506,
           6
          ],
          [
           1070,
           3357,
           0.2539155196962506,
           6
          ],
          [
           1070,
           3357,
           0.2539155196962506,
           6
          ],
          [
           1070,
           3357,
           0.2539155196962506,
           6
          ],
          [
           1070,
           3357,
           0.2539155196962506,
           6
          ],
          [
           1070,
           3357,
           0.2539155196962506,
           6
          ],
          [
           1070,
           3357,
           0.2539155196962506,
           6
          ],
          [
           1070,
           3357,
           0.2539155196962506,
           6
          ],
          [
           1070,
           3357,
           0.2539155196962506,
           6
          ],
          [
           1070,
           3357,
           0.2539155196962506,
           6
          ],
          [
           1070,
           3357,
           0.2539155196962506,
           6
          ],
          [
           1070,
           3357,
           0.2539155196962506,
           6
          ],
          [
           1070,
           3357,
           0.2539155196962506,
           6
          ],
          [
           1070,
           3357,
           0.2539155196962506,
           6
          ],
          [
           1070,
           3357,
           0.2539155196962506,
           6
          ],
          [
           1070,
           3357,
           0.2539155196962506,
           6
          ],
          [
           1070,
           3357,
           0.2539155196962506,
           6
          ],
          [
           1070,
           3357,
           0.2539155196962506,
           6
          ],
          [
           1070,
           3357,
           0.2539155196962506,
           6
          ],
          [
           1070,
           3357,
           0.2539155196962506,
           6
          ],
          [
           1070,
           3357,
           0.2539155196962506,
           6
          ],
          [
           1070,
           3357,
           0.2539155196962506,
           6
          ],
          [
           1070,
           3357,
           0.2539155196962506,
           6
          ]
         ],
         "hovertemplate": "SKU_ID=23902<br>ORDER_RANK=%{x}<br>RATE_cumsum=%{y}<br>SKUID_total_customers=%{customdata[0]}<br>SKUID_total_transactions=%{customdata[1]}<br>SKUID_total_probability_rate=%{customdata[2]}<br>product_rank_bytotalprobrate=%{customdata[3]}<extra></extra>",
         "legendgroup": "23902",
         "line": {
          "color": "#FECB52",
          "dash": "solid"
         },
         "marker": {
          "symbol": "circle"
         },
         "mode": "lines",
         "name": "23902",
         "orientation": "v",
         "showlegend": true,
         "type": "scatter",
         "x": [
          1,
          2,
          3,
          4,
          5,
          6,
          7,
          8,
          9,
          10,
          11,
          12,
          13,
          14,
          15,
          16,
          17,
          18,
          19,
          20,
          21,
          22,
          23,
          24,
          25,
          26,
          27,
          28,
          29,
          30,
          31,
          32,
          33,
          34,
          35,
          36,
          37,
          38,
          39,
          40,
          41,
          42,
          43,
          44,
          45,
          46,
          47,
          48,
          49,
          50,
          51,
          52,
          53,
          54,
          55,
          56,
          57,
          58,
          59,
          60,
          61
         ],
         "xaxis": "x",
         "y": [
          0.1060749881347888,
          0.1573327005220693,
          0.18913146654010443,
          0.2102515424774561,
          0.2218794494542003,
          0.22876127195064072,
          0.23445657332700523,
          0.2389653535832938,
          0.2425249169435216,
          0.24560987185571903,
          0.24703369719981016,
          0.24845752254390127,
          0.24916943521594684,
          0.2501186521120076,
          0.2510678690080683,
          0.2517797816801139,
          0.2520170859041291,
          0.25225439012814427,
          0.25272899857617465,
          0.25296630280018984,
          0.253203607024205,
          0.2534409112482202,
          0.2534409112482202,
          0.2534409112482202,
          0.2534409112482202,
          0.2536782154722354,
          0.2536782154722354,
          0.2539155196962506,
          0.2539155196962506,
          0.2539155196962506,
          0.2539155196962506,
          0.2539155196962506,
          0.2539155196962506,
          0.2539155196962506,
          0.2539155196962506,
          0.2539155196962506,
          0.2539155196962506,
          0.2539155196962506,
          0.2539155196962506,
          0.2539155196962506,
          0.2539155196962506,
          0.2539155196962506,
          0.2539155196962506,
          0.2539155196962506,
          0.2539155196962506,
          0.2539155196962506,
          0.2539155196962506,
          0.2539155196962506,
          0.2539155196962506,
          0.2539155196962506,
          0.2539155196962506,
          0.2539155196962506,
          0.2539155196962506,
          0.2539155196962506,
          0.2539155196962506,
          0.2539155196962506,
          0.2539155196962506,
          0.2539155196962506,
          0.2539155196962506,
          0.2539155196962506,
          0.2539155196962506
         ],
         "yaxis": "y"
        },
        {
         "customdata": [
          [
           1534,
           6619,
           0.3640246796392976,
           3
          ],
          [
           1534,
           6619,
           0.3640246796392976,
           3
          ],
          [
           1534,
           6619,
           0.3640246796392976,
           3
          ],
          [
           1534,
           6619,
           0.3640246796392976,
           3
          ],
          [
           1534,
           6619,
           0.3640246796392976,
           3
          ],
          [
           1534,
           6619,
           0.3640246796392976,
           3
          ],
          [
           1534,
           6619,
           0.3640246796392976,
           3
          ],
          [
           1534,
           6619,
           0.3640246796392976,
           3
          ],
          [
           1534,
           6619,
           0.3640246796392976,
           3
          ],
          [
           1534,
           6619,
           0.3640246796392976,
           3
          ],
          [
           1534,
           6619,
           0.3640246796392976,
           3
          ],
          [
           1534,
           6619,
           0.3640246796392976,
           3
          ],
          [
           1534,
           6619,
           0.3640246796392976,
           3
          ],
          [
           1534,
           6619,
           0.3640246796392976,
           3
          ],
          [
           1534,
           6619,
           0.3640246796392976,
           3
          ],
          [
           1534,
           6619,
           0.3640246796392976,
           3
          ],
          [
           1534,
           6619,
           0.3640246796392976,
           3
          ],
          [
           1534,
           6619,
           0.3640246796392976,
           3
          ],
          [
           1534,
           6619,
           0.3640246796392976,
           3
          ],
          [
           1534,
           6619,
           0.3640246796392976,
           3
          ],
          [
           1534,
           6619,
           0.3640246796392976,
           3
          ],
          [
           1534,
           6619,
           0.3640246796392976,
           3
          ],
          [
           1534,
           6619,
           0.3640246796392976,
           3
          ],
          [
           1534,
           6619,
           0.3640246796392976,
           3
          ],
          [
           1534,
           6619,
           0.3640246796392976,
           3
          ],
          [
           1534,
           6619,
           0.3640246796392976,
           3
          ],
          [
           1534,
           6619,
           0.3640246796392976,
           3
          ],
          [
           1534,
           6619,
           0.3640246796392976,
           3
          ],
          [
           1534,
           6619,
           0.3640246796392976,
           3
          ],
          [
           1534,
           6619,
           0.3640246796392976,
           3
          ],
          [
           1534,
           6619,
           0.3640246796392976,
           3
          ],
          [
           1534,
           6619,
           0.3640246796392976,
           3
          ],
          [
           1534,
           6619,
           0.3640246796392976,
           3
          ],
          [
           1534,
           6619,
           0.3640246796392976,
           3
          ],
          [
           1534,
           6619,
           0.3640246796392976,
           3
          ],
          [
           1534,
           6619,
           0.3640246796392976,
           3
          ],
          [
           1534,
           6619,
           0.3640246796392976,
           3
          ],
          [
           1534,
           6619,
           0.3640246796392976,
           3
          ],
          [
           1534,
           6619,
           0.3640246796392976,
           3
          ],
          [
           1534,
           6619,
           0.3640246796392976,
           3
          ],
          [
           1534,
           6619,
           0.3640246796392976,
           3
          ],
          [
           1534,
           6619,
           0.3640246796392976,
           3
          ],
          [
           1534,
           6619,
           0.3640246796392976,
           3
          ],
          [
           1534,
           6619,
           0.3640246796392976,
           3
          ],
          [
           1534,
           6619,
           0.3640246796392976,
           3
          ],
          [
           1534,
           6619,
           0.3640246796392976,
           3
          ],
          [
           1534,
           6619,
           0.3640246796392976,
           3
          ],
          [
           1534,
           6619,
           0.3640246796392976,
           3
          ],
          [
           1534,
           6619,
           0.3640246796392976,
           3
          ],
          [
           1534,
           6619,
           0.3640246796392976,
           3
          ],
          [
           1534,
           6619,
           0.3640246796392976,
           3
          ],
          [
           1534,
           6619,
           0.3640246796392976,
           3
          ],
          [
           1534,
           6619,
           0.3640246796392976,
           3
          ],
          [
           1534,
           6619,
           0.3640246796392976,
           3
          ],
          [
           1534,
           6619,
           0.3640246796392976,
           3
          ],
          [
           1534,
           6619,
           0.3640246796392976,
           3
          ],
          [
           1534,
           6619,
           0.3640246796392976,
           3
          ],
          [
           1534,
           6619,
           0.3640246796392976,
           3
          ],
          [
           1534,
           6619,
           0.3640246796392976,
           3
          ],
          [
           1534,
           6619,
           0.3640246796392976,
           3
          ],
          [
           1534,
           6619,
           0.3640246796392976,
           3
          ],
          [
           1534,
           6619,
           0.3640246796392976,
           3
          ],
          [
           1534,
           6619,
           0.3640246796392976,
           3
          ],
          [
           1534,
           6619,
           0.3640246796392976,
           3
          ],
          [
           1534,
           6619,
           0.3640246796392976,
           3
          ],
          [
           1534,
           6619,
           0.3640246796392976,
           3
          ]
         ],
         "hovertemplate": "SKU_ID=24880<br>ORDER_RANK=%{x}<br>RATE_cumsum=%{y}<br>SKUID_total_customers=%{customdata[0]}<br>SKUID_total_transactions=%{customdata[1]}<br>SKUID_total_probability_rate=%{customdata[2]}<br>product_rank_bytotalprobrate=%{customdata[3]}<extra></extra>",
         "legendgroup": "24880",
         "line": {
          "color": "#636efa",
          "dash": "solid"
         },
         "marker": {
          "symbol": "circle"
         },
         "mode": "lines",
         "name": "24880",
         "orientation": "v",
         "showlegend": true,
         "type": "scatter",
         "x": [
          1,
          2,
          3,
          4,
          5,
          6,
          7,
          8,
          9,
          10,
          11,
          12,
          13,
          14,
          15,
          16,
          17,
          18,
          19,
          20,
          21,
          22,
          23,
          24,
          25,
          26,
          27,
          28,
          29,
          30,
          31,
          32,
          33,
          34,
          35,
          36,
          37,
          38,
          39,
          40,
          41,
          42,
          43,
          44,
          45,
          46,
          47,
          48,
          49,
          50,
          51,
          52,
          53,
          54,
          55,
          56,
          57,
          58,
          59,
          60,
          61,
          62,
          63,
          64,
          65,
          67
         ],
         "xaxis": "x",
         "y": [
          0.12861888941623162,
          0.2045562411010916,
          0.250593260560038,
          0.28191741813004273,
          0.3044613194114855,
          0.3203607024205031,
          0.3319886093972473,
          0.3414807783578548,
          0.34527764594209776,
          0.3509729473184623,
          0.35476981490270526,
          0.35761746559088753,
          0.35927859515899385,
          0.360702420503085,
          0.3609397247271002,
          0.3618889416231609,
          0.36283815851922163,
          0.3635500711912672,
          0.3637873754152824,
          0.3637873754152824,
          0.3637873754152824,
          0.3637873754152824,
          0.3637873754152824,
          0.3637873754152824,
          0.3640246796392976,
          0.3640246796392976,
          0.3640246796392976,
          0.3640246796392976,
          0.3640246796392976,
          0.3640246796392976,
          0.3640246796392976,
          0.3640246796392976,
          0.3640246796392976,
          0.3640246796392976,
          0.3640246796392976,
          0.3640246796392976,
          0.3640246796392976,
          0.3640246796392976,
          0.3640246796392976,
          0.3640246796392976,
          0.3640246796392976,
          0.3640246796392976,
          0.3640246796392976,
          0.3640246796392976,
          0.3640246796392976,
          0.3640246796392976,
          0.3640246796392976,
          0.3640246796392976,
          0.3640246796392976,
          0.3640246796392976,
          0.3640246796392976,
          0.3640246796392976,
          0.3640246796392976,
          0.3640246796392976,
          0.3640246796392976,
          0.3640246796392976,
          0.3640246796392976,
          0.3640246796392976,
          0.3640246796392976,
          0.3640246796392976,
          0.3640246796392976,
          0.3640246796392976,
          0.3640246796392976,
          0.3640246796392976,
          0.3640246796392976,
          0.3640246796392976
         ],
         "yaxis": "y"
        }
       ],
       "layout": {
        "legend": {
         "title": {
          "text": "SKU_ID"
         },
         "tracegroupgap": 0
        },
        "template": {
         "data": {
          "bar": [
           {
            "error_x": {
             "color": "#2a3f5f"
            },
            "error_y": {
             "color": "#2a3f5f"
            },
            "marker": {
             "line": {
              "color": "#E5ECF6",
              "width": 0.5
             },
             "pattern": {
              "fillmode": "overlay",
              "size": 10,
              "solidity": 0.2
             }
            },
            "type": "bar"
           }
          ],
          "barpolar": [
           {
            "marker": {
             "line": {
              "color": "#E5ECF6",
              "width": 0.5
             },
             "pattern": {
              "fillmode": "overlay",
              "size": 10,
              "solidity": 0.2
             }
            },
            "type": "barpolar"
           }
          ],
          "carpet": [
           {
            "aaxis": {
             "endlinecolor": "#2a3f5f",
             "gridcolor": "white",
             "linecolor": "white",
             "minorgridcolor": "white",
             "startlinecolor": "#2a3f5f"
            },
            "baxis": {
             "endlinecolor": "#2a3f5f",
             "gridcolor": "white",
             "linecolor": "white",
             "minorgridcolor": "white",
             "startlinecolor": "#2a3f5f"
            },
            "type": "carpet"
           }
          ],
          "choropleth": [
           {
            "colorbar": {
             "outlinewidth": 0,
             "ticks": ""
            },
            "type": "choropleth"
           }
          ],
          "contour": [
           {
            "colorbar": {
             "outlinewidth": 0,
             "ticks": ""
            },
            "colorscale": [
             [
              0,
              "#0d0887"
             ],
             [
              0.1111111111111111,
              "#46039f"
             ],
             [
              0.2222222222222222,
              "#7201a8"
             ],
             [
              0.3333333333333333,
              "#9c179e"
             ],
             [
              0.4444444444444444,
              "#bd3786"
             ],
             [
              0.5555555555555556,
              "#d8576b"
             ],
             [
              0.6666666666666666,
              "#ed7953"
             ],
             [
              0.7777777777777778,
              "#fb9f3a"
             ],
             [
              0.8888888888888888,
              "#fdca26"
             ],
             [
              1,
              "#f0f921"
             ]
            ],
            "type": "contour"
           }
          ],
          "contourcarpet": [
           {
            "colorbar": {
             "outlinewidth": 0,
             "ticks": ""
            },
            "type": "contourcarpet"
           }
          ],
          "heatmap": [
           {
            "colorbar": {
             "outlinewidth": 0,
             "ticks": ""
            },
            "colorscale": [
             [
              0,
              "#0d0887"
             ],
             [
              0.1111111111111111,
              "#46039f"
             ],
             [
              0.2222222222222222,
              "#7201a8"
             ],
             [
              0.3333333333333333,
              "#9c179e"
             ],
             [
              0.4444444444444444,
              "#bd3786"
             ],
             [
              0.5555555555555556,
              "#d8576b"
             ],
             [
              0.6666666666666666,
              "#ed7953"
             ],
             [
              0.7777777777777778,
              "#fb9f3a"
             ],
             [
              0.8888888888888888,
              "#fdca26"
             ],
             [
              1,
              "#f0f921"
             ]
            ],
            "type": "heatmap"
           }
          ],
          "heatmapgl": [
           {
            "colorbar": {
             "outlinewidth": 0,
             "ticks": ""
            },
            "colorscale": [
             [
              0,
              "#0d0887"
             ],
             [
              0.1111111111111111,
              "#46039f"
             ],
             [
              0.2222222222222222,
              "#7201a8"
             ],
             [
              0.3333333333333333,
              "#9c179e"
             ],
             [
              0.4444444444444444,
              "#bd3786"
             ],
             [
              0.5555555555555556,
              "#d8576b"
             ],
             [
              0.6666666666666666,
              "#ed7953"
             ],
             [
              0.7777777777777778,
              "#fb9f3a"
             ],
             [
              0.8888888888888888,
              "#fdca26"
             ],
             [
              1,
              "#f0f921"
             ]
            ],
            "type": "heatmapgl"
           }
          ],
          "histogram": [
           {
            "marker": {
             "pattern": {
              "fillmode": "overlay",
              "size": 10,
              "solidity": 0.2
             }
            },
            "type": "histogram"
           }
          ],
          "histogram2d": [
           {
            "colorbar": {
             "outlinewidth": 0,
             "ticks": ""
            },
            "colorscale": [
             [
              0,
              "#0d0887"
             ],
             [
              0.1111111111111111,
              "#46039f"
             ],
             [
              0.2222222222222222,
              "#7201a8"
             ],
             [
              0.3333333333333333,
              "#9c179e"
             ],
             [
              0.4444444444444444,
              "#bd3786"
             ],
             [
              0.5555555555555556,
              "#d8576b"
             ],
             [
              0.6666666666666666,
              "#ed7953"
             ],
             [
              0.7777777777777778,
              "#fb9f3a"
             ],
             [
              0.8888888888888888,
              "#fdca26"
             ],
             [
              1,
              "#f0f921"
             ]
            ],
            "type": "histogram2d"
           }
          ],
          "histogram2dcontour": [
           {
            "colorbar": {
             "outlinewidth": 0,
             "ticks": ""
            },
            "colorscale": [
             [
              0,
              "#0d0887"
             ],
             [
              0.1111111111111111,
              "#46039f"
             ],
             [
              0.2222222222222222,
              "#7201a8"
             ],
             [
              0.3333333333333333,
              "#9c179e"
             ],
             [
              0.4444444444444444,
              "#bd3786"
             ],
             [
              0.5555555555555556,
              "#d8576b"
             ],
             [
              0.6666666666666666,
              "#ed7953"
             ],
             [
              0.7777777777777778,
              "#fb9f3a"
             ],
             [
              0.8888888888888888,
              "#fdca26"
             ],
             [
              1,
              "#f0f921"
             ]
            ],
            "type": "histogram2dcontour"
           }
          ],
          "mesh3d": [
           {
            "colorbar": {
             "outlinewidth": 0,
             "ticks": ""
            },
            "type": "mesh3d"
           }
          ],
          "parcoords": [
           {
            "line": {
             "colorbar": {
              "outlinewidth": 0,
              "ticks": ""
             }
            },
            "type": "parcoords"
           }
          ],
          "pie": [
           {
            "automargin": true,
            "type": "pie"
           }
          ],
          "scatter": [
           {
            "fillpattern": {
             "fillmode": "overlay",
             "size": 10,
             "solidity": 0.2
            },
            "type": "scatter"
           }
          ],
          "scatter3d": [
           {
            "line": {
             "colorbar": {
              "outlinewidth": 0,
              "ticks": ""
             }
            },
            "marker": {
             "colorbar": {
              "outlinewidth": 0,
              "ticks": ""
             }
            },
            "type": "scatter3d"
           }
          ],
          "scattercarpet": [
           {
            "marker": {
             "colorbar": {
              "outlinewidth": 0,
              "ticks": ""
             }
            },
            "type": "scattercarpet"
           }
          ],
          "scattergeo": [
           {
            "marker": {
             "colorbar": {
              "outlinewidth": 0,
              "ticks": ""
             }
            },
            "type": "scattergeo"
           }
          ],
          "scattergl": [
           {
            "marker": {
             "colorbar": {
              "outlinewidth": 0,
              "ticks": ""
             }
            },
            "type": "scattergl"
           }
          ],
          "scattermapbox": [
           {
            "marker": {
             "colorbar": {
              "outlinewidth": 0,
              "ticks": ""
             }
            },
            "type": "scattermapbox"
           }
          ],
          "scatterpolar": [
           {
            "marker": {
             "colorbar": {
              "outlinewidth": 0,
              "ticks": ""
             }
            },
            "type": "scatterpolar"
           }
          ],
          "scatterpolargl": [
           {
            "marker": {
             "colorbar": {
              "outlinewidth": 0,
              "ticks": ""
             }
            },
            "type": "scatterpolargl"
           }
          ],
          "scatterternary": [
           {
            "marker": {
             "colorbar": {
              "outlinewidth": 0,
              "ticks": ""
             }
            },
            "type": "scatterternary"
           }
          ],
          "surface": [
           {
            "colorbar": {
             "outlinewidth": 0,
             "ticks": ""
            },
            "colorscale": [
             [
              0,
              "#0d0887"
             ],
             [
              0.1111111111111111,
              "#46039f"
             ],
             [
              0.2222222222222222,
              "#7201a8"
             ],
             [
              0.3333333333333333,
              "#9c179e"
             ],
             [
              0.4444444444444444,
              "#bd3786"
             ],
             [
              0.5555555555555556,
              "#d8576b"
             ],
             [
              0.6666666666666666,
              "#ed7953"
             ],
             [
              0.7777777777777778,
              "#fb9f3a"
             ],
             [
              0.8888888888888888,
              "#fdca26"
             ],
             [
              1,
              "#f0f921"
             ]
            ],
            "type": "surface"
           }
          ],
          "table": [
           {
            "cells": {
             "fill": {
              "color": "#EBF0F8"
             },
             "line": {
              "color": "white"
             }
            },
            "header": {
             "fill": {
              "color": "#C8D4E3"
             },
             "line": {
              "color": "white"
             }
            },
            "type": "table"
           }
          ]
         },
         "layout": {
          "annotationdefaults": {
           "arrowcolor": "#2a3f5f",
           "arrowhead": 0,
           "arrowwidth": 1
          },
          "autotypenumbers": "strict",
          "coloraxis": {
           "colorbar": {
            "outlinewidth": 0,
            "ticks": ""
           }
          },
          "colorscale": {
           "diverging": [
            [
             0,
             "#8e0152"
            ],
            [
             0.1,
             "#c51b7d"
            ],
            [
             0.2,
             "#de77ae"
            ],
            [
             0.3,
             "#f1b6da"
            ],
            [
             0.4,
             "#fde0ef"
            ],
            [
             0.5,
             "#f7f7f7"
            ],
            [
             0.6,
             "#e6f5d0"
            ],
            [
             0.7,
             "#b8e186"
            ],
            [
             0.8,
             "#7fbc41"
            ],
            [
             0.9,
             "#4d9221"
            ],
            [
             1,
             "#276419"
            ]
           ],
           "sequential": [
            [
             0,
             "#0d0887"
            ],
            [
             0.1111111111111111,
             "#46039f"
            ],
            [
             0.2222222222222222,
             "#7201a8"
            ],
            [
             0.3333333333333333,
             "#9c179e"
            ],
            [
             0.4444444444444444,
             "#bd3786"
            ],
            [
             0.5555555555555556,
             "#d8576b"
            ],
            [
             0.6666666666666666,
             "#ed7953"
            ],
            [
             0.7777777777777778,
             "#fb9f3a"
            ],
            [
             0.8888888888888888,
             "#fdca26"
            ],
            [
             1,
             "#f0f921"
            ]
           ],
           "sequentialminus": [
            [
             0,
             "#0d0887"
            ],
            [
             0.1111111111111111,
             "#46039f"
            ],
            [
             0.2222222222222222,
             "#7201a8"
            ],
            [
             0.3333333333333333,
             "#9c179e"
            ],
            [
             0.4444444444444444,
             "#bd3786"
            ],
            [
             0.5555555555555556,
             "#d8576b"
            ],
            [
             0.6666666666666666,
             "#ed7953"
            ],
            [
             0.7777777777777778,
             "#fb9f3a"
            ],
            [
             0.8888888888888888,
             "#fdca26"
            ],
            [
             1,
             "#f0f921"
            ]
           ]
          },
          "colorway": [
           "#636efa",
           "#EF553B",
           "#00cc96",
           "#ab63fa",
           "#FFA15A",
           "#19d3f3",
           "#FF6692",
           "#B6E880",
           "#FF97FF",
           "#FECB52"
          ],
          "font": {
           "color": "#2a3f5f"
          },
          "geo": {
           "bgcolor": "white",
           "lakecolor": "white",
           "landcolor": "#E5ECF6",
           "showlakes": true,
           "showland": true,
           "subunitcolor": "white"
          },
          "hoverlabel": {
           "align": "left"
          },
          "hovermode": "closest",
          "mapbox": {
           "style": "light"
          },
          "paper_bgcolor": "white",
          "plot_bgcolor": "#E5ECF6",
          "polar": {
           "angularaxis": {
            "gridcolor": "white",
            "linecolor": "white",
            "ticks": ""
           },
           "bgcolor": "#E5ECF6",
           "radialaxis": {
            "gridcolor": "white",
            "linecolor": "white",
            "ticks": ""
           }
          },
          "scene": {
           "xaxis": {
            "backgroundcolor": "#E5ECF6",
            "gridcolor": "white",
            "gridwidth": 2,
            "linecolor": "white",
            "showbackground": true,
            "ticks": "",
            "zerolinecolor": "white"
           },
           "yaxis": {
            "backgroundcolor": "#E5ECF6",
            "gridcolor": "white",
            "gridwidth": 2,
            "linecolor": "white",
            "showbackground": true,
            "ticks": "",
            "zerolinecolor": "white"
           },
           "zaxis": {
            "backgroundcolor": "#E5ECF6",
            "gridcolor": "white",
            "gridwidth": 2,
            "linecolor": "white",
            "showbackground": true,
            "ticks": "",
            "zerolinecolor": "white"
           }
          },
          "shapedefaults": {
           "line": {
            "color": "#2a3f5f"
           }
          },
          "ternary": {
           "aaxis": {
            "gridcolor": "white",
            "linecolor": "white",
            "ticks": ""
           },
           "baxis": {
            "gridcolor": "white",
            "linecolor": "white",
            "ticks": ""
           },
           "bgcolor": "#E5ECF6",
           "caxis": {
            "gridcolor": "white",
            "linecolor": "white",
            "ticks": ""
           }
          },
          "title": {
           "x": 0.05
          },
          "xaxis": {
           "automargin": true,
           "gridcolor": "white",
           "linecolor": "white",
           "ticks": "",
           "title": {
            "standoff": 15
           },
           "zerolinecolor": "white",
           "zerolinewidth": 2
          },
          "yaxis": {
           "automargin": true,
           "gridcolor": "white",
           "linecolor": "white",
           "ticks": "",
           "title": {
            "standoff": 15
           },
           "zerolinecolor": "white",
           "zerolinewidth": 2
          }
         }
        },
        "title": {
         "text": "SKU_ID between [0, 10]"
        },
        "xaxis": {
         "anchor": "y",
         "domain": [
          0,
          1
         ],
         "title": {
          "text": "ORDER_RANK"
         }
        },
        "yaxis": {
         "anchor": "x",
         "domain": [
          0,
          1
         ],
         "title": {
          "text": "RATE_cumsum"
         }
        }
       }
      }
     },
     "metadata": {},
     "output_type": "display_data"
    },
    {
     "data": {
      "application/vnd.plotly.v1+json": {
       "config": {
        "plotlyServerURL": "https://plot.ly"
       },
       "data": [
        {
         "customdata": [
          [
           1010,
           2121,
           0.23967726625533933,
           11
          ],
          [
           1010,
           2121,
           0.23967726625533933,
           11
          ],
          [
           1010,
           2121,
           0.23967726625533933,
           11
          ],
          [
           1010,
           2121,
           0.23967726625533933,
           11
          ],
          [
           1010,
           2121,
           0.23967726625533933,
           11
          ],
          [
           1010,
           2121,
           0.23967726625533933,
           11
          ],
          [
           1010,
           2121,
           0.23967726625533933,
           11
          ],
          [
           1010,
           2121,
           0.23967726625533933,
           11
          ],
          [
           1010,
           2121,
           0.23967726625533933,
           11
          ],
          [
           1010,
           2121,
           0.23967726625533933,
           11
          ],
          [
           1010,
           2121,
           0.23967726625533933,
           11
          ],
          [
           1010,
           2121,
           0.23967726625533933,
           11
          ],
          [
           1010,
           2121,
           0.23967726625533933,
           11
          ],
          [
           1010,
           2121,
           0.23967726625533933,
           11
          ],
          [
           1010,
           2121,
           0.23967726625533933,
           11
          ],
          [
           1010,
           2121,
           0.23967726625533933,
           11
          ],
          [
           1010,
           2121,
           0.23967726625533933,
           11
          ],
          [
           1010,
           2121,
           0.23967726625533933,
           11
          ],
          [
           1010,
           2121,
           0.23967726625533933,
           11
          ],
          [
           1010,
           2121,
           0.23967726625533933,
           11
          ],
          [
           1010,
           2121,
           0.23967726625533933,
           11
          ],
          [
           1010,
           2121,
           0.23967726625533933,
           11
          ],
          [
           1010,
           2121,
           0.23967726625533933,
           11
          ],
          [
           1010,
           2121,
           0.23967726625533933,
           11
          ],
          [
           1010,
           2121,
           0.23967726625533933,
           11
          ],
          [
           1010,
           2121,
           0.23967726625533933,
           11
          ],
          [
           1010,
           2121,
           0.23967726625533933,
           11
          ],
          [
           1010,
           2121,
           0.23967726625533933,
           11
          ],
          [
           1010,
           2121,
           0.23967726625533933,
           11
          ],
          [
           1010,
           2121,
           0.23967726625533933,
           11
          ],
          [
           1010,
           2121,
           0.23967726625533933,
           11
          ],
          [
           1010,
           2121,
           0.23967726625533933,
           11
          ],
          [
           1010,
           2121,
           0.23967726625533933,
           11
          ],
          [
           1010,
           2121,
           0.23967726625533933,
           11
          ],
          [
           1010,
           2121,
           0.23967726625533933,
           11
          ],
          [
           1010,
           2121,
           0.23967726625533933,
           11
          ],
          [
           1010,
           2121,
           0.23967726625533933,
           11
          ],
          [
           1010,
           2121,
           0.23967726625533933,
           11
          ],
          [
           1010,
           2121,
           0.23967726625533933,
           11
          ],
          [
           1010,
           2121,
           0.23967726625533933,
           11
          ],
          [
           1010,
           2121,
           0.23967726625533933,
           11
          ],
          [
           1010,
           2121,
           0.23967726625533933,
           11
          ],
          [
           1010,
           2121,
           0.23967726625533933,
           11
          ],
          [
           1010,
           2121,
           0.23967726625533933,
           11
          ],
          [
           1010,
           2121,
           0.23967726625533933,
           11
          ],
          [
           1010,
           2121,
           0.23967726625533933,
           11
          ],
          [
           1010,
           2121,
           0.23967726625533933,
           11
          ],
          [
           1010,
           2121,
           0.23967726625533933,
           11
          ],
          [
           1010,
           2121,
           0.23967726625533933,
           11
          ],
          [
           1010,
           2121,
           0.23967726625533933,
           11
          ],
          [
           1010,
           2121,
           0.23967726625533933,
           11
          ],
          [
           1010,
           2121,
           0.23967726625533933,
           11
          ],
          [
           1010,
           2121,
           0.23967726625533933,
           11
          ],
          [
           1010,
           2121,
           0.23967726625533933,
           11
          ],
          [
           1010,
           2121,
           0.23967726625533933,
           11
          ],
          [
           1010,
           2121,
           0.23967726625533933,
           11
          ],
          [
           1010,
           2121,
           0.23967726625533933,
           11
          ],
          [
           1010,
           2121,
           0.23967726625533933,
           11
          ],
          [
           1010,
           2121,
           0.23967726625533933,
           11
          ],
          [
           1010,
           2121,
           0.23967726625533933,
           11
          ],
          [
           1010,
           2121,
           0.23967726625533933,
           11
          ],
          [
           1010,
           2121,
           0.23967726625533933,
           11
          ],
          [
           1010,
           2121,
           0.23967726625533933,
           11
          ],
          [
           1010,
           2121,
           0.23967726625533933,
           11
          ],
          [
           1010,
           2121,
           0.23967726625533933,
           11
          ],
          [
           1010,
           2121,
           0.23967726625533933,
           11
          ],
          [
           1010,
           2121,
           0.23967726625533933,
           11
          ]
         ],
         "hovertemplate": "SKU_ID=1416<br>ORDER_RANK=%{x}<br>RATE_cumsum=%{y}<br>SKUID_total_customers=%{customdata[0]}<br>SKUID_total_transactions=%{customdata[1]}<br>SKUID_total_probability_rate=%{customdata[2]}<br>product_rank_bytotalprobrate=%{customdata[3]}<extra></extra>",
         "legendgroup": "1416",
         "line": {
          "color": "#636efa",
          "dash": "solid"
         },
         "marker": {
          "symbol": "circle"
         },
         "mode": "lines",
         "name": "1416",
         "orientation": "v",
         "showlegend": true,
         "type": "scatter",
         "x": [
          1,
          2,
          3,
          4,
          5,
          6,
          7,
          8,
          9,
          10,
          11,
          12,
          13,
          14,
          15,
          16,
          17,
          18,
          19,
          20,
          21,
          22,
          23,
          24,
          25,
          26,
          27,
          28,
          29,
          30,
          31,
          32,
          33,
          34,
          35,
          36,
          37,
          38,
          39,
          40,
          41,
          42,
          43,
          44,
          45,
          46,
          47,
          48,
          49,
          50,
          51,
          52,
          53,
          54,
          55,
          56,
          57,
          58,
          59,
          60,
          61,
          62,
          63,
          64,
          65,
          66,
          67
         ],
         "xaxis": "x",
         "y": [
          0.03322259136212625,
          0.08614143331751306,
          0.1326530612244898,
          0.16587565258661605,
          0.18889416231608924,
          0.20503084954912199,
          0.2140484100616991,
          0.22116753678215473,
          0.2254390128144281,
          0.22828666350261034,
          0.23327005220692928,
          0.23564309444708118,
          0.2368296155671571,
          0.23801613668723304,
          0.23849074513526342,
          0.2387280493592786,
          0.2389653535832938,
          0.23920265780730898,
          0.23943996203132417,
          0.23943996203132417,
          0.23943996203132417,
          0.23967726625533936,
          0.23967726625533936,
          0.23967726625533936,
          0.23967726625533936,
          0.23967726625533936,
          0.23967726625533936,
          0.23967726625533936,
          0.23967726625533936,
          0.23967726625533936,
          0.23967726625533936,
          0.23967726625533936,
          0.23967726625533936,
          0.23967726625533936,
          0.23967726625533936,
          0.23967726625533936,
          0.23967726625533936,
          0.23967726625533936,
          0.23967726625533936,
          0.23967726625533936,
          0.23967726625533936,
          0.23967726625533936,
          0.23967726625533936,
          0.23967726625533936,
          0.23967726625533936,
          0.23967726625533936,
          0.23967726625533936,
          0.23967726625533936,
          0.23967726625533936,
          0.23967726625533936,
          0.23967726625533936,
          0.23967726625533936,
          0.23967726625533936,
          0.23967726625533936,
          0.23967726625533936,
          0.23967726625533936,
          0.23967726625533936,
          0.23967726625533936,
          0.23967726625533936,
          0.23967726625533936,
          0.23967726625533936,
          0.23967726625533936,
          0.23967726625533936,
          0.23967726625533936,
          0.23967726625533936,
          0.23967726625533936,
          0.23967726625533936
         ],
         "yaxis": "y"
        },
        {
         "customdata": [
          [
           997,
           2792,
           0.2365923113431419,
           12
          ],
          [
           997,
           2792,
           0.2365923113431419,
           12
          ],
          [
           997,
           2792,
           0.2365923113431419,
           12
          ],
          [
           997,
           2792,
           0.2365923113431419,
           12
          ],
          [
           997,
           2792,
           0.2365923113431419,
           12
          ],
          [
           997,
           2792,
           0.2365923113431419,
           12
          ],
          [
           997,
           2792,
           0.2365923113431419,
           12
          ],
          [
           997,
           2792,
           0.2365923113431419,
           12
          ],
          [
           997,
           2792,
           0.2365923113431419,
           12
          ],
          [
           997,
           2792,
           0.2365923113431419,
           12
          ],
          [
           997,
           2792,
           0.2365923113431419,
           12
          ],
          [
           997,
           2792,
           0.2365923113431419,
           12
          ],
          [
           997,
           2792,
           0.2365923113431419,
           12
          ],
          [
           997,
           2792,
           0.2365923113431419,
           12
          ],
          [
           997,
           2792,
           0.2365923113431419,
           12
          ],
          [
           997,
           2792,
           0.2365923113431419,
           12
          ],
          [
           997,
           2792,
           0.2365923113431419,
           12
          ],
          [
           997,
           2792,
           0.2365923113431419,
           12
          ],
          [
           997,
           2792,
           0.2365923113431419,
           12
          ],
          [
           997,
           2792,
           0.2365923113431419,
           12
          ],
          [
           997,
           2792,
           0.2365923113431419,
           12
          ],
          [
           997,
           2792,
           0.2365923113431419,
           12
          ],
          [
           997,
           2792,
           0.2365923113431419,
           12
          ],
          [
           997,
           2792,
           0.2365923113431419,
           12
          ],
          [
           997,
           2792,
           0.2365923113431419,
           12
          ],
          [
           997,
           2792,
           0.2365923113431419,
           12
          ],
          [
           997,
           2792,
           0.2365923113431419,
           12
          ],
          [
           997,
           2792,
           0.2365923113431419,
           12
          ],
          [
           997,
           2792,
           0.2365923113431419,
           12
          ],
          [
           997,
           2792,
           0.2365923113431419,
           12
          ],
          [
           997,
           2792,
           0.2365923113431419,
           12
          ],
          [
           997,
           2792,
           0.2365923113431419,
           12
          ],
          [
           997,
           2792,
           0.2365923113431419,
           12
          ],
          [
           997,
           2792,
           0.2365923113431419,
           12
          ],
          [
           997,
           2792,
           0.2365923113431419,
           12
          ],
          [
           997,
           2792,
           0.2365923113431419,
           12
          ],
          [
           997,
           2792,
           0.2365923113431419,
           12
          ],
          [
           997,
           2792,
           0.2365923113431419,
           12
          ],
          [
           997,
           2792,
           0.2365923113431419,
           12
          ],
          [
           997,
           2792,
           0.2365923113431419,
           12
          ],
          [
           997,
           2792,
           0.2365923113431419,
           12
          ],
          [
           997,
           2792,
           0.2365923113431419,
           12
          ],
          [
           997,
           2792,
           0.2365923113431419,
           12
          ],
          [
           997,
           2792,
           0.2365923113431419,
           12
          ],
          [
           997,
           2792,
           0.2365923113431419,
           12
          ],
          [
           997,
           2792,
           0.2365923113431419,
           12
          ],
          [
           997,
           2792,
           0.2365923113431419,
           12
          ],
          [
           997,
           2792,
           0.2365923113431419,
           12
          ],
          [
           997,
           2792,
           0.2365923113431419,
           12
          ],
          [
           997,
           2792,
           0.2365923113431419,
           12
          ],
          [
           997,
           2792,
           0.2365923113431419,
           12
          ],
          [
           997,
           2792,
           0.2365923113431419,
           12
          ],
          [
           997,
           2792,
           0.2365923113431419,
           12
          ],
          [
           997,
           2792,
           0.2365923113431419,
           12
          ],
          [
           997,
           2792,
           0.2365923113431419,
           12
          ],
          [
           997,
           2792,
           0.2365923113431419,
           12
          ],
          [
           997,
           2792,
           0.2365923113431419,
           12
          ],
          [
           997,
           2792,
           0.2365923113431419,
           12
          ],
          [
           997,
           2792,
           0.2365923113431419,
           12
          ],
          [
           997,
           2792,
           0.2365923113431419,
           12
          ],
          [
           997,
           2792,
           0.2365923113431419,
           12
          ],
          [
           997,
           2792,
           0.2365923113431419,
           12
          ],
          [
           997,
           2792,
           0.2365923113431419,
           12
          ],
          [
           997,
           2792,
           0.2365923113431419,
           12
          ],
          [
           997,
           2792,
           0.2365923113431419,
           12
          ],
          [
           997,
           2792,
           0.2365923113431419,
           12
          ]
         ],
         "hovertemplate": "SKU_ID=7476<br>ORDER_RANK=%{x}<br>RATE_cumsum=%{y}<br>SKUID_total_customers=%{customdata[0]}<br>SKUID_total_transactions=%{customdata[1]}<br>SKUID_total_probability_rate=%{customdata[2]}<br>product_rank_bytotalprobrate=%{customdata[3]}<extra></extra>",
         "legendgroup": "7476",
         "line": {
          "color": "#EF553B",
          "dash": "solid"
         },
         "marker": {
          "symbol": "circle"
         },
         "mode": "lines",
         "name": "7476",
         "orientation": "v",
         "showlegend": true,
         "type": "scatter",
         "x": [
          1,
          2,
          3,
          4,
          5,
          6,
          7,
          8,
          9,
          10,
          11,
          12,
          13,
          14,
          15,
          16,
          17,
          18,
          19,
          20,
          21,
          22,
          23,
          24,
          25,
          26,
          27,
          28,
          29,
          30,
          31,
          32,
          33,
          34,
          35,
          36,
          37,
          38,
          39,
          40,
          41,
          42,
          43,
          44,
          45,
          46,
          47,
          48,
          49,
          50,
          51,
          52,
          53,
          54,
          55,
          56,
          57,
          58,
          59,
          60,
          61,
          62,
          63,
          65,
          66,
          67
         ],
         "xaxis": "x",
         "y": [
          0.07593735168485999,
          0.12411010915994306,
          0.15614617940199335,
          0.17726625533934504,
          0.19174181300427148,
          0.20526815377313717,
          0.21381110583768392,
          0.22140484100616992,
          0.22448979591836735,
          0.22686283815851924,
          0.22971048884670148,
          0.23042240151874704,
          0.23232083531086853,
          0.2330327479829141,
          0.23445657332700523,
          0.23445657332700523,
          0.23469387755102042,
          0.2351684859990508,
          0.23540579022306599,
          0.23564309444708115,
          0.23564309444708115,
          0.23564309444708115,
          0.23588039867109634,
          0.23588039867109634,
          0.23588039867109634,
          0.23588039867109634,
          0.23611770289511153,
          0.23611770289511153,
          0.23635500711912671,
          0.23635500711912671,
          0.2365923113431419,
          0.2365923113431419,
          0.2365923113431419,
          0.2365923113431419,
          0.2365923113431419,
          0.2365923113431419,
          0.2365923113431419,
          0.2365923113431419,
          0.2365923113431419,
          0.2365923113431419,
          0.2365923113431419,
          0.2365923113431419,
          0.2365923113431419,
          0.2365923113431419,
          0.2365923113431419,
          0.2365923113431419,
          0.2365923113431419,
          0.2365923113431419,
          0.2365923113431419,
          0.2365923113431419,
          0.2365923113431419,
          0.2365923113431419,
          0.2365923113431419,
          0.2365923113431419,
          0.2365923113431419,
          0.2365923113431419,
          0.2365923113431419,
          0.2365923113431419,
          0.2365923113431419,
          0.2365923113431419,
          0.2365923113431419,
          0.2365923113431419,
          0.2365923113431419,
          0.2365923113431419,
          0.2365923113431419,
          0.2365923113431419
         ],
         "yaxis": "y"
        },
        {
         "customdata": [
          [
           1011,
           3312,
           0.23991457047935452,
           10
          ],
          [
           1011,
           3312,
           0.23991457047935452,
           10
          ],
          [
           1011,
           3312,
           0.23991457047935452,
           10
          ],
          [
           1011,
           3312,
           0.23991457047935452,
           10
          ],
          [
           1011,
           3312,
           0.23991457047935452,
           10
          ],
          [
           1011,
           3312,
           0.23991457047935452,
           10
          ],
          [
           1011,
           3312,
           0.23991457047935452,
           10
          ],
          [
           1011,
           3312,
           0.23991457047935452,
           10
          ],
          [
           1011,
           3312,
           0.23991457047935452,
           10
          ],
          [
           1011,
           3312,
           0.23991457047935452,
           10
          ],
          [
           1011,
           3312,
           0.23991457047935452,
           10
          ],
          [
           1011,
           3312,
           0.23991457047935452,
           10
          ],
          [
           1011,
           3312,
           0.23991457047935452,
           10
          ],
          [
           1011,
           3312,
           0.23991457047935452,
           10
          ],
          [
           1011,
           3312,
           0.23991457047935452,
           10
          ],
          [
           1011,
           3312,
           0.23991457047935452,
           10
          ],
          [
           1011,
           3312,
           0.23991457047935452,
           10
          ],
          [
           1011,
           3312,
           0.23991457047935452,
           10
          ],
          [
           1011,
           3312,
           0.23991457047935452,
           10
          ],
          [
           1011,
           3312,
           0.23991457047935452,
           10
          ],
          [
           1011,
           3312,
           0.23991457047935452,
           10
          ],
          [
           1011,
           3312,
           0.23991457047935452,
           10
          ],
          [
           1011,
           3312,
           0.23991457047935452,
           10
          ],
          [
           1011,
           3312,
           0.23991457047935452,
           10
          ],
          [
           1011,
           3312,
           0.23991457047935452,
           10
          ],
          [
           1011,
           3312,
           0.23991457047935452,
           10
          ],
          [
           1011,
           3312,
           0.23991457047935452,
           10
          ],
          [
           1011,
           3312,
           0.23991457047935452,
           10
          ],
          [
           1011,
           3312,
           0.23991457047935452,
           10
          ],
          [
           1011,
           3312,
           0.23991457047935452,
           10
          ],
          [
           1011,
           3312,
           0.23991457047935452,
           10
          ],
          [
           1011,
           3312,
           0.23991457047935452,
           10
          ],
          [
           1011,
           3312,
           0.23991457047935452,
           10
          ],
          [
           1011,
           3312,
           0.23991457047935452,
           10
          ],
          [
           1011,
           3312,
           0.23991457047935452,
           10
          ],
          [
           1011,
           3312,
           0.23991457047935452,
           10
          ],
          [
           1011,
           3312,
           0.23991457047935452,
           10
          ],
          [
           1011,
           3312,
           0.23991457047935452,
           10
          ],
          [
           1011,
           3312,
           0.23991457047935452,
           10
          ],
          [
           1011,
           3312,
           0.23991457047935452,
           10
          ],
          [
           1011,
           3312,
           0.23991457047935452,
           10
          ],
          [
           1011,
           3312,
           0.23991457047935452,
           10
          ],
          [
           1011,
           3312,
           0.23991457047935452,
           10
          ],
          [
           1011,
           3312,
           0.23991457047935452,
           10
          ],
          [
           1011,
           3312,
           0.23991457047935452,
           10
          ],
          [
           1011,
           3312,
           0.23991457047935452,
           10
          ],
          [
           1011,
           3312,
           0.23991457047935452,
           10
          ],
          [
           1011,
           3312,
           0.23991457047935452,
           10
          ],
          [
           1011,
           3312,
           0.23991457047935452,
           10
          ],
          [
           1011,
           3312,
           0.23991457047935452,
           10
          ],
          [
           1011,
           3312,
           0.23991457047935452,
           10
          ],
          [
           1011,
           3312,
           0.23991457047935452,
           10
          ],
          [
           1011,
           3312,
           0.23991457047935452,
           10
          ],
          [
           1011,
           3312,
           0.23991457047935452,
           10
          ],
          [
           1011,
           3312,
           0.23991457047935452,
           10
          ],
          [
           1011,
           3312,
           0.23991457047935452,
           10
          ],
          [
           1011,
           3312,
           0.23991457047935452,
           10
          ],
          [
           1011,
           3312,
           0.23991457047935452,
           10
          ],
          [
           1011,
           3312,
           0.23991457047935452,
           10
          ],
          [
           1011,
           3312,
           0.23991457047935452,
           10
          ],
          [
           1011,
           3312,
           0.23991457047935452,
           10
          ],
          [
           1011,
           3312,
           0.23991457047935452,
           10
          ],
          [
           1011,
           3312,
           0.23991457047935452,
           10
          ],
          [
           1011,
           3312,
           0.23991457047935452,
           10
          ],
          [
           1011,
           3312,
           0.23991457047935452,
           10
          ]
         ],
         "hovertemplate": "SKU_ID=16667<br>ORDER_RANK=%{x}<br>RATE_cumsum=%{y}<br>SKUID_total_customers=%{customdata[0]}<br>SKUID_total_transactions=%{customdata[1]}<br>SKUID_total_probability_rate=%{customdata[2]}<br>product_rank_bytotalprobrate=%{customdata[3]}<extra></extra>",
         "legendgroup": "16667",
         "line": {
          "color": "#00cc96",
          "dash": "solid"
         },
         "marker": {
          "symbol": "circle"
         },
         "mode": "lines",
         "name": "16667",
         "orientation": "v",
         "showlegend": true,
         "type": "scatter",
         "x": [
          1,
          2,
          3,
          4,
          5,
          6,
          7,
          8,
          9,
          10,
          11,
          12,
          13,
          14,
          15,
          16,
          17,
          18,
          19,
          20,
          21,
          22,
          23,
          24,
          25,
          26,
          27,
          28,
          29,
          30,
          31,
          32,
          33,
          34,
          35,
          36,
          37,
          38,
          39,
          40,
          41,
          42,
          43,
          44,
          45,
          46,
          47,
          48,
          49,
          50,
          51,
          52,
          53,
          54,
          55,
          56,
          57,
          58,
          59,
          60,
          61,
          62,
          63,
          64,
          65
         ],
         "xaxis": "x",
         "y": [
          0.08234456573327005,
          0.13146654010441386,
          0.16065495965828192,
          0.17940199335548174,
          0.1953013763644993,
          0.2083531086853346,
          0.2157095396298054,
          0.2235405790223066,
          0.2273374466065496,
          0.22994779307071667,
          0.2330327479829141,
          0.2349311817750356,
          0.2365923113431419,
          0.23730422401518747,
          0.23777883246321785,
          0.23801613668723304,
          0.23849074513526342,
          0.23849074513526342,
          0.23849074513526342,
          0.23849074513526342,
          0.2389653535832938,
          0.2389653535832938,
          0.23920265780730898,
          0.23967726625533936,
          0.23967726625533936,
          0.23967726625533936,
          0.23991457047935452,
          0.23991457047935452,
          0.23991457047935452,
          0.23991457047935452,
          0.23991457047935452,
          0.23991457047935452,
          0.23991457047935452,
          0.23991457047935452,
          0.23991457047935452,
          0.23991457047935452,
          0.23991457047935452,
          0.23991457047935452,
          0.23991457047935452,
          0.23991457047935452,
          0.23991457047935452,
          0.23991457047935452,
          0.23991457047935452,
          0.23991457047935452,
          0.23991457047935452,
          0.23991457047935452,
          0.23991457047935452,
          0.23991457047935452,
          0.23991457047935452,
          0.23991457047935452,
          0.23991457047935452,
          0.23991457047935452,
          0.23991457047935452,
          0.23991457047935452,
          0.23991457047935452,
          0.23991457047935452,
          0.23991457047935452,
          0.23991457047935452,
          0.23991457047935452,
          0.23991457047935452,
          0.23991457047935452,
          0.23991457047935452,
          0.23991457047935452,
          0.23991457047935452,
          0.23991457047935452
         ],
         "yaxis": "y"
        },
        {
         "customdata": [
          [
           845,
           2503,
           0.20052206929283342,
           17
          ],
          [
           845,
           2503,
           0.20052206929283342,
           17
          ],
          [
           845,
           2503,
           0.20052206929283342,
           17
          ],
          [
           845,
           2503,
           0.20052206929283342,
           17
          ],
          [
           845,
           2503,
           0.20052206929283342,
           17
          ],
          [
           845,
           2503,
           0.20052206929283342,
           17
          ],
          [
           845,
           2503,
           0.20052206929283342,
           17
          ],
          [
           845,
           2503,
           0.20052206929283342,
           17
          ],
          [
           845,
           2503,
           0.20052206929283342,
           17
          ],
          [
           845,
           2503,
           0.20052206929283342,
           17
          ],
          [
           845,
           2503,
           0.20052206929283342,
           17
          ],
          [
           845,
           2503,
           0.20052206929283342,
           17
          ],
          [
           845,
           2503,
           0.20052206929283342,
           17
          ],
          [
           845,
           2503,
           0.20052206929283342,
           17
          ],
          [
           845,
           2503,
           0.20052206929283342,
           17
          ],
          [
           845,
           2503,
           0.20052206929283342,
           17
          ],
          [
           845,
           2503,
           0.20052206929283342,
           17
          ],
          [
           845,
           2503,
           0.20052206929283342,
           17
          ],
          [
           845,
           2503,
           0.20052206929283342,
           17
          ],
          [
           845,
           2503,
           0.20052206929283342,
           17
          ],
          [
           845,
           2503,
           0.20052206929283342,
           17
          ],
          [
           845,
           2503,
           0.20052206929283342,
           17
          ],
          [
           845,
           2503,
           0.20052206929283342,
           17
          ],
          [
           845,
           2503,
           0.20052206929283342,
           17
          ],
          [
           845,
           2503,
           0.20052206929283342,
           17
          ],
          [
           845,
           2503,
           0.20052206929283342,
           17
          ],
          [
           845,
           2503,
           0.20052206929283342,
           17
          ],
          [
           845,
           2503,
           0.20052206929283342,
           17
          ],
          [
           845,
           2503,
           0.20052206929283342,
           17
          ],
          [
           845,
           2503,
           0.20052206929283342,
           17
          ],
          [
           845,
           2503,
           0.20052206929283342,
           17
          ],
          [
           845,
           2503,
           0.20052206929283342,
           17
          ],
          [
           845,
           2503,
           0.20052206929283342,
           17
          ],
          [
           845,
           2503,
           0.20052206929283342,
           17
          ],
          [
           845,
           2503,
           0.20052206929283342,
           17
          ],
          [
           845,
           2503,
           0.20052206929283342,
           17
          ],
          [
           845,
           2503,
           0.20052206929283342,
           17
          ],
          [
           845,
           2503,
           0.20052206929283342,
           17
          ],
          [
           845,
           2503,
           0.20052206929283342,
           17
          ],
          [
           845,
           2503,
           0.20052206929283342,
           17
          ],
          [
           845,
           2503,
           0.20052206929283342,
           17
          ],
          [
           845,
           2503,
           0.20052206929283342,
           17
          ],
          [
           845,
           2503,
           0.20052206929283342,
           17
          ],
          [
           845,
           2503,
           0.20052206929283342,
           17
          ],
          [
           845,
           2503,
           0.20052206929283342,
           17
          ],
          [
           845,
           2503,
           0.20052206929283342,
           17
          ],
          [
           845,
           2503,
           0.20052206929283342,
           17
          ],
          [
           845,
           2503,
           0.20052206929283342,
           17
          ],
          [
           845,
           2503,
           0.20052206929283342,
           17
          ],
          [
           845,
           2503,
           0.20052206929283342,
           17
          ],
          [
           845,
           2503,
           0.20052206929283342,
           17
          ],
          [
           845,
           2503,
           0.20052206929283342,
           17
          ],
          [
           845,
           2503,
           0.20052206929283342,
           17
          ],
          [
           845,
           2503,
           0.20052206929283342,
           17
          ],
          [
           845,
           2503,
           0.20052206929283342,
           17
          ],
          [
           845,
           2503,
           0.20052206929283342,
           17
          ],
          [
           845,
           2503,
           0.20052206929283342,
           17
          ],
          [
           845,
           2503,
           0.20052206929283342,
           17
          ],
          [
           845,
           2503,
           0.20052206929283342,
           17
          ],
          [
           845,
           2503,
           0.20052206929283342,
           17
          ],
          [
           845,
           2503,
           0.20052206929283342,
           17
          ],
          [
           845,
           2503,
           0.20052206929283342,
           17
          ],
          [
           845,
           2503,
           0.20052206929283342,
           17
          ],
          [
           845,
           2503,
           0.20052206929283342,
           17
          ],
          [
           845,
           2503,
           0.20052206929283342,
           17
          ],
          [
           845,
           2503,
           0.20052206929283342,
           17
          ],
          [
           845,
           2503,
           0.20052206929283342,
           17
          ]
         ],
         "hovertemplate": "SKU_ID=16936<br>ORDER_RANK=%{x}<br>RATE_cumsum=%{y}<br>SKUID_total_customers=%{customdata[0]}<br>SKUID_total_transactions=%{customdata[1]}<br>SKUID_total_probability_rate=%{customdata[2]}<br>product_rank_bytotalprobrate=%{customdata[3]}<extra></extra>",
         "legendgroup": "16936",
         "line": {
          "color": "#ab63fa",
          "dash": "solid"
         },
         "marker": {
          "symbol": "circle"
         },
         "mode": "lines",
         "name": "16936",
         "orientation": "v",
         "showlegend": true,
         "type": "scatter",
         "x": [
          1,
          2,
          3,
          4,
          5,
          6,
          7,
          8,
          9,
          10,
          11,
          12,
          13,
          14,
          15,
          16,
          17,
          18,
          19,
          20,
          21,
          22,
          23,
          24,
          25,
          26,
          27,
          28,
          29,
          30,
          31,
          32,
          33,
          34,
          35,
          36,
          37,
          38,
          39,
          40,
          41,
          42,
          43,
          44,
          45,
          46,
          47,
          48,
          49,
          50,
          51,
          52,
          53,
          54,
          55,
          56,
          57,
          58,
          59,
          60,
          61,
          62,
          63,
          64,
          65,
          66,
          67
         ],
         "xaxis": "x",
         "y": [
          0.06193640246796393,
          0.09824394874228762,
          0.12743236829615567,
          0.14641670621737068,
          0.16160417655434267,
          0.16919791172282866,
          0.1763170384432843,
          0.18248694826767917,
          0.18675842429995254,
          0.19055529188419554,
          0.19245372567631705,
          0.19411485524442335,
          0.19577598481252967,
          0.197437114380636,
          0.19838633127669672,
          0.1986236355007119,
          0.1988609397247271,
          0.19933554817275748,
          0.19933554817275748,
          0.19957285239677267,
          0.19957285239677267,
          0.20004746084480304,
          0.20028476506881823,
          0.20052206929283342,
          0.20052206929283342,
          0.20052206929283342,
          0.20052206929283342,
          0.20052206929283342,
          0.20052206929283342,
          0.20052206929283342,
          0.20052206929283342,
          0.20052206929283342,
          0.20052206929283342,
          0.20052206929283342,
          0.20052206929283342,
          0.20052206929283342,
          0.20052206929283342,
          0.20052206929283342,
          0.20052206929283342,
          0.20052206929283342,
          0.20052206929283342,
          0.20052206929283342,
          0.20052206929283342,
          0.20052206929283342,
          0.20052206929283342,
          0.20052206929283342,
          0.20052206929283342,
          0.20052206929283342,
          0.20052206929283342,
          0.20052206929283342,
          0.20052206929283342,
          0.20052206929283342,
          0.20052206929283342,
          0.20052206929283342,
          0.20052206929283342,
          0.20052206929283342,
          0.20052206929283342,
          0.20052206929283342,
          0.20052206929283342,
          0.20052206929283342,
          0.20052206929283342,
          0.20052206929283342,
          0.20052206929283342,
          0.20052206929283342,
          0.20052206929283342,
          0.20052206929283342,
          0.20052206929283342
         ],
         "yaxis": "y"
        },
        {
         "customdata": [
          [
           823,
           2430,
           0.1953013763644993,
           19
          ],
          [
           823,
           2430,
           0.1953013763644993,
           19
          ],
          [
           823,
           2430,
           0.1953013763644993,
           19
          ],
          [
           823,
           2430,
           0.1953013763644993,
           19
          ],
          [
           823,
           2430,
           0.1953013763644993,
           19
          ],
          [
           823,
           2430,
           0.1953013763644993,
           19
          ],
          [
           823,
           2430,
           0.1953013763644993,
           19
          ],
          [
           823,
           2430,
           0.1953013763644993,
           19
          ],
          [
           823,
           2430,
           0.1953013763644993,
           19
          ],
          [
           823,
           2430,
           0.1953013763644993,
           19
          ],
          [
           823,
           2430,
           0.1953013763644993,
           19
          ],
          [
           823,
           2430,
           0.1953013763644993,
           19
          ],
          [
           823,
           2430,
           0.1953013763644993,
           19
          ],
          [
           823,
           2430,
           0.1953013763644993,
           19
          ],
          [
           823,
           2430,
           0.1953013763644993,
           19
          ],
          [
           823,
           2430,
           0.1953013763644993,
           19
          ],
          [
           823,
           2430,
           0.1953013763644993,
           19
          ],
          [
           823,
           2430,
           0.1953013763644993,
           19
          ],
          [
           823,
           2430,
           0.1953013763644993,
           19
          ],
          [
           823,
           2430,
           0.1953013763644993,
           19
          ],
          [
           823,
           2430,
           0.1953013763644993,
           19
          ],
          [
           823,
           2430,
           0.1953013763644993,
           19
          ],
          [
           823,
           2430,
           0.1953013763644993,
           19
          ],
          [
           823,
           2430,
           0.1953013763644993,
           19
          ],
          [
           823,
           2430,
           0.1953013763644993,
           19
          ],
          [
           823,
           2430,
           0.1953013763644993,
           19
          ],
          [
           823,
           2430,
           0.1953013763644993,
           19
          ],
          [
           823,
           2430,
           0.1953013763644993,
           19
          ],
          [
           823,
           2430,
           0.1953013763644993,
           19
          ],
          [
           823,
           2430,
           0.1953013763644993,
           19
          ],
          [
           823,
           2430,
           0.1953013763644993,
           19
          ],
          [
           823,
           2430,
           0.1953013763644993,
           19
          ],
          [
           823,
           2430,
           0.1953013763644993,
           19
          ],
          [
           823,
           2430,
           0.1953013763644993,
           19
          ],
          [
           823,
           2430,
           0.1953013763644993,
           19
          ],
          [
           823,
           2430,
           0.1953013763644993,
           19
          ],
          [
           823,
           2430,
           0.1953013763644993,
           19
          ],
          [
           823,
           2430,
           0.1953013763644993,
           19
          ],
          [
           823,
           2430,
           0.1953013763644993,
           19
          ],
          [
           823,
           2430,
           0.1953013763644993,
           19
          ],
          [
           823,
           2430,
           0.1953013763644993,
           19
          ],
          [
           823,
           2430,
           0.1953013763644993,
           19
          ],
          [
           823,
           2430,
           0.1953013763644993,
           19
          ],
          [
           823,
           2430,
           0.1953013763644993,
           19
          ],
          [
           823,
           2430,
           0.1953013763644993,
           19
          ],
          [
           823,
           2430,
           0.1953013763644993,
           19
          ],
          [
           823,
           2430,
           0.1953013763644993,
           19
          ],
          [
           823,
           2430,
           0.1953013763644993,
           19
          ],
          [
           823,
           2430,
           0.1953013763644993,
           19
          ],
          [
           823,
           2430,
           0.1953013763644993,
           19
          ],
          [
           823,
           2430,
           0.1953013763644993,
           19
          ],
          [
           823,
           2430,
           0.1953013763644993,
           19
          ],
          [
           823,
           2430,
           0.1953013763644993,
           19
          ],
          [
           823,
           2430,
           0.1953013763644993,
           19
          ],
          [
           823,
           2430,
           0.1953013763644993,
           19
          ],
          [
           823,
           2430,
           0.1953013763644993,
           19
          ],
          [
           823,
           2430,
           0.1953013763644993,
           19
          ]
         ],
         "hovertemplate": "SKU_ID=17991<br>ORDER_RANK=%{x}<br>RATE_cumsum=%{y}<br>SKUID_total_customers=%{customdata[0]}<br>SKUID_total_transactions=%{customdata[1]}<br>SKUID_total_probability_rate=%{customdata[2]}<br>product_rank_bytotalprobrate=%{customdata[3]}<extra></extra>",
         "legendgroup": "17991",
         "line": {
          "color": "#FFA15A",
          "dash": "solid"
         },
         "marker": {
          "symbol": "circle"
         },
         "mode": "lines",
         "name": "17991",
         "orientation": "v",
         "showlegend": true,
         "type": "scatter",
         "x": [
          1,
          2,
          3,
          4,
          5,
          6,
          7,
          8,
          9,
          10,
          11,
          12,
          13,
          14,
          15,
          16,
          17,
          18,
          19,
          20,
          21,
          22,
          23,
          24,
          25,
          26,
          27,
          28,
          29,
          30,
          31,
          32,
          33,
          34,
          35,
          36,
          37,
          38,
          39,
          40,
          41,
          42,
          43,
          44,
          45,
          46,
          47,
          48,
          49,
          50,
          51,
          52,
          53,
          54,
          55,
          56,
          57
         ],
         "xaxis": "x",
         "y": [
          0.05695301376364499,
          0.09231134314190792,
          0.11817750355956336,
          0.13739914570479356,
          0.15472235405790224,
          0.1644518272425249,
          0.17370669197911723,
          0.17940199335548174,
          0.18248694826767917,
          0.18818224964404368,
          0.18889416231608921,
          0.19055529188419554,
          0.19102990033222592,
          0.19221642145230186,
          0.1929283341243474,
          0.19364024679639297,
          0.19435215946843853,
          0.19458946369245372,
          0.19458946369245372,
          0.19458946369245372,
          0.1948267679164689,
          0.1950640721404841,
          0.1953013763644993,
          0.1953013763644993,
          0.1953013763644993,
          0.1953013763644993,
          0.1953013763644993,
          0.1953013763644993,
          0.1953013763644993,
          0.1953013763644993,
          0.1953013763644993,
          0.1953013763644993,
          0.1953013763644993,
          0.1953013763644993,
          0.1953013763644993,
          0.1953013763644993,
          0.1953013763644993,
          0.1953013763644993,
          0.1953013763644993,
          0.1953013763644993,
          0.1953013763644993,
          0.1953013763644993,
          0.1953013763644993,
          0.1953013763644993,
          0.1953013763644993,
          0.1953013763644993,
          0.1953013763644993,
          0.1953013763644993,
          0.1953013763644993,
          0.1953013763644993,
          0.1953013763644993,
          0.1953013763644993,
          0.1953013763644993,
          0.1953013763644993,
          0.1953013763644993,
          0.1953013763644993,
          0.1953013763644993
         ],
         "yaxis": "y"
        },
        {
         "customdata": [
          [
           968,
           4162,
           0.22971048884670148,
           13
          ],
          [
           968,
           4162,
           0.22971048884670148,
           13
          ],
          [
           968,
           4162,
           0.22971048884670148,
           13
          ],
          [
           968,
           4162,
           0.22971048884670148,
           13
          ],
          [
           968,
           4162,
           0.22971048884670148,
           13
          ],
          [
           968,
           4162,
           0.22971048884670148,
           13
          ],
          [
           968,
           4162,
           0.22971048884670148,
           13
          ],
          [
           968,
           4162,
           0.22971048884670148,
           13
          ],
          [
           968,
           4162,
           0.22971048884670148,
           13
          ],
          [
           968,
           4162,
           0.22971048884670148,
           13
          ],
          [
           968,
           4162,
           0.22971048884670148,
           13
          ],
          [
           968,
           4162,
           0.22971048884670148,
           13
          ],
          [
           968,
           4162,
           0.22971048884670148,
           13
          ],
          [
           968,
           4162,
           0.22971048884670148,
           13
          ],
          [
           968,
           4162,
           0.22971048884670148,
           13
          ],
          [
           968,
           4162,
           0.22971048884670148,
           13
          ],
          [
           968,
           4162,
           0.22971048884670148,
           13
          ],
          [
           968,
           4162,
           0.22971048884670148,
           13
          ],
          [
           968,
           4162,
           0.22971048884670148,
           13
          ],
          [
           968,
           4162,
           0.22971048884670148,
           13
          ],
          [
           968,
           4162,
           0.22971048884670148,
           13
          ],
          [
           968,
           4162,
           0.22971048884670148,
           13
          ],
          [
           968,
           4162,
           0.22971048884670148,
           13
          ],
          [
           968,
           4162,
           0.22971048884670148,
           13
          ],
          [
           968,
           4162,
           0.22971048884670148,
           13
          ],
          [
           968,
           4162,
           0.22971048884670148,
           13
          ],
          [
           968,
           4162,
           0.22971048884670148,
           13
          ],
          [
           968,
           4162,
           0.22971048884670148,
           13
          ],
          [
           968,
           4162,
           0.22971048884670148,
           13
          ],
          [
           968,
           4162,
           0.22971048884670148,
           13
          ],
          [
           968,
           4162,
           0.22971048884670148,
           13
          ],
          [
           968,
           4162,
           0.22971048884670148,
           13
          ],
          [
           968,
           4162,
           0.22971048884670148,
           13
          ],
          [
           968,
           4162,
           0.22971048884670148,
           13
          ],
          [
           968,
           4162,
           0.22971048884670148,
           13
          ],
          [
           968,
           4162,
           0.22971048884670148,
           13
          ],
          [
           968,
           4162,
           0.22971048884670148,
           13
          ],
          [
           968,
           4162,
           0.22971048884670148,
           13
          ],
          [
           968,
           4162,
           0.22971048884670148,
           13
          ],
          [
           968,
           4162,
           0.22971048884670148,
           13
          ],
          [
           968,
           4162,
           0.22971048884670148,
           13
          ],
          [
           968,
           4162,
           0.22971048884670148,
           13
          ],
          [
           968,
           4162,
           0.22971048884670148,
           13
          ],
          [
           968,
           4162,
           0.22971048884670148,
           13
          ],
          [
           968,
           4162,
           0.22971048884670148,
           13
          ],
          [
           968,
           4162,
           0.22971048884670148,
           13
          ],
          [
           968,
           4162,
           0.22971048884670148,
           13
          ],
          [
           968,
           4162,
           0.22971048884670148,
           13
          ],
          [
           968,
           4162,
           0.22971048884670148,
           13
          ],
          [
           968,
           4162,
           0.22971048884670148,
           13
          ],
          [
           968,
           4162,
           0.22971048884670148,
           13
          ],
          [
           968,
           4162,
           0.22971048884670148,
           13
          ],
          [
           968,
           4162,
           0.22971048884670148,
           13
          ],
          [
           968,
           4162,
           0.22971048884670148,
           13
          ],
          [
           968,
           4162,
           0.22971048884670148,
           13
          ],
          [
           968,
           4162,
           0.22971048884670148,
           13
          ],
          [
           968,
           4162,
           0.22971048884670148,
           13
          ],
          [
           968,
           4162,
           0.22971048884670148,
           13
          ],
          [
           968,
           4162,
           0.22971048884670148,
           13
          ],
          [
           968,
           4162,
           0.22971048884670148,
           13
          ],
          [
           968,
           4162,
           0.22971048884670148,
           13
          ],
          [
           968,
           4162,
           0.22971048884670148,
           13
          ],
          [
           968,
           4162,
           0.22971048884670148,
           13
          ],
          [
           968,
           4162,
           0.22971048884670148,
           13
          ],
          [
           968,
           4162,
           0.22971048884670148,
           13
          ],
          [
           968,
           4162,
           0.22971048884670148,
           13
          ],
          [
           968,
           4162,
           0.22971048884670148,
           13
          ]
         ],
         "hovertemplate": "SKU_ID=19086<br>ORDER_RANK=%{x}<br>RATE_cumsum=%{y}<br>SKUID_total_customers=%{customdata[0]}<br>SKUID_total_transactions=%{customdata[1]}<br>SKUID_total_probability_rate=%{customdata[2]}<br>product_rank_bytotalprobrate=%{customdata[3]}<extra></extra>",
         "legendgroup": "19086",
         "line": {
          "color": "#19d3f3",
          "dash": "solid"
         },
         "marker": {
          "symbol": "circle"
         },
         "mode": "lines",
         "name": "19086",
         "orientation": "v",
         "showlegend": true,
         "type": "scatter",
         "x": [
          1,
          2,
          3,
          4,
          5,
          6,
          7,
          8,
          9,
          10,
          11,
          12,
          13,
          14,
          15,
          16,
          17,
          18,
          19,
          20,
          21,
          22,
          23,
          24,
          25,
          26,
          27,
          28,
          29,
          30,
          31,
          32,
          33,
          34,
          35,
          36,
          37,
          38,
          39,
          40,
          41,
          42,
          43,
          44,
          45,
          46,
          47,
          48,
          49,
          50,
          51,
          52,
          53,
          54,
          55,
          56,
          57,
          58,
          59,
          60,
          61,
          62,
          63,
          64,
          65,
          66,
          67
         ],
         "xaxis": "x",
         "y": [
          0.10180351210251543,
          0.14570479354532512,
          0.17726625533934504,
          0.19364024679639297,
          0.20360702420503085,
          0.21096345514950166,
          0.2157095396298054,
          0.21903179876601803,
          0.22140484100616992,
          0.22259136212624586,
          0.22401518747033697,
          0.22448979591836735,
          0.2256763170384433,
          0.2268628381585192,
          0.2273374466065496,
          0.22781205505457996,
          0.22804935927859515,
          0.22828666350261034,
          0.22876127195064072,
          0.22876127195064072,
          0.2289985761746559,
          0.2292358803986711,
          0.2292358803986711,
          0.2292358803986711,
          0.2294731846226863,
          0.2294731846226863,
          0.2294731846226863,
          0.22971048884670148,
          0.22971048884670148,
          0.22971048884670148,
          0.22971048884670148,
          0.22971048884670148,
          0.22971048884670148,
          0.22971048884670148,
          0.22971048884670148,
          0.22971048884670148,
          0.22971048884670148,
          0.22971048884670148,
          0.22971048884670148,
          0.22971048884670148,
          0.22971048884670148,
          0.22971048884670148,
          0.22971048884670148,
          0.22971048884670148,
          0.22971048884670148,
          0.22971048884670148,
          0.22971048884670148,
          0.22971048884670148,
          0.22971048884670148,
          0.22971048884670148,
          0.22971048884670148,
          0.22971048884670148,
          0.22971048884670148,
          0.22971048884670148,
          0.22971048884670148,
          0.22971048884670148,
          0.22971048884670148,
          0.22971048884670148,
          0.22971048884670148,
          0.22971048884670148,
          0.22971048884670148,
          0.22971048884670148,
          0.22971048884670148,
          0.22971048884670148,
          0.22971048884670148,
          0.22971048884670148,
          0.22971048884670148
         ],
         "yaxis": "y"
        },
        {
         "customdata": [
          [
           859,
           3062,
           0.20384432842904604,
           16
          ],
          [
           859,
           3062,
           0.20384432842904604,
           16
          ],
          [
           859,
           3062,
           0.20384432842904604,
           16
          ],
          [
           859,
           3062,
           0.20384432842904604,
           16
          ],
          [
           859,
           3062,
           0.20384432842904604,
           16
          ],
          [
           859,
           3062,
           0.20384432842904604,
           16
          ],
          [
           859,
           3062,
           0.20384432842904604,
           16
          ],
          [
           859,
           3062,
           0.20384432842904604,
           16
          ],
          [
           859,
           3062,
           0.20384432842904604,
           16
          ],
          [
           859,
           3062,
           0.20384432842904604,
           16
          ],
          [
           859,
           3062,
           0.20384432842904604,
           16
          ],
          [
           859,
           3062,
           0.20384432842904604,
           16
          ],
          [
           859,
           3062,
           0.20384432842904604,
           16
          ],
          [
           859,
           3062,
           0.20384432842904604,
           16
          ],
          [
           859,
           3062,
           0.20384432842904604,
           16
          ],
          [
           859,
           3062,
           0.20384432842904604,
           16
          ],
          [
           859,
           3062,
           0.20384432842904604,
           16
          ],
          [
           859,
           3062,
           0.20384432842904604,
           16
          ],
          [
           859,
           3062,
           0.20384432842904604,
           16
          ],
          [
           859,
           3062,
           0.20384432842904604,
           16
          ],
          [
           859,
           3062,
           0.20384432842904604,
           16
          ],
          [
           859,
           3062,
           0.20384432842904604,
           16
          ],
          [
           859,
           3062,
           0.20384432842904604,
           16
          ],
          [
           859,
           3062,
           0.20384432842904604,
           16
          ],
          [
           859,
           3062,
           0.20384432842904604,
           16
          ],
          [
           859,
           3062,
           0.20384432842904604,
           16
          ],
          [
           859,
           3062,
           0.20384432842904604,
           16
          ],
          [
           859,
           3062,
           0.20384432842904604,
           16
          ],
          [
           859,
           3062,
           0.20384432842904604,
           16
          ],
          [
           859,
           3062,
           0.20384432842904604,
           16
          ],
          [
           859,
           3062,
           0.20384432842904604,
           16
          ],
          [
           859,
           3062,
           0.20384432842904604,
           16
          ],
          [
           859,
           3062,
           0.20384432842904604,
           16
          ],
          [
           859,
           3062,
           0.20384432842904604,
           16
          ],
          [
           859,
           3062,
           0.20384432842904604,
           16
          ],
          [
           859,
           3062,
           0.20384432842904604,
           16
          ],
          [
           859,
           3062,
           0.20384432842904604,
           16
          ],
          [
           859,
           3062,
           0.20384432842904604,
           16
          ],
          [
           859,
           3062,
           0.20384432842904604,
           16
          ],
          [
           859,
           3062,
           0.20384432842904604,
           16
          ],
          [
           859,
           3062,
           0.20384432842904604,
           16
          ],
          [
           859,
           3062,
           0.20384432842904604,
           16
          ],
          [
           859,
           3062,
           0.20384432842904604,
           16
          ],
          [
           859,
           3062,
           0.20384432842904604,
           16
          ],
          [
           859,
           3062,
           0.20384432842904604,
           16
          ],
          [
           859,
           3062,
           0.20384432842904604,
           16
          ],
          [
           859,
           3062,
           0.20384432842904604,
           16
          ],
          [
           859,
           3062,
           0.20384432842904604,
           16
          ],
          [
           859,
           3062,
           0.20384432842904604,
           16
          ],
          [
           859,
           3062,
           0.20384432842904604,
           16
          ],
          [
           859,
           3062,
           0.20384432842904604,
           16
          ],
          [
           859,
           3062,
           0.20384432842904604,
           16
          ],
          [
           859,
           3062,
           0.20384432842904604,
           16
          ],
          [
           859,
           3062,
           0.20384432842904604,
           16
          ],
          [
           859,
           3062,
           0.20384432842904604,
           16
          ],
          [
           859,
           3062,
           0.20384432842904604,
           16
          ],
          [
           859,
           3062,
           0.20384432842904604,
           16
          ],
          [
           859,
           3062,
           0.20384432842904604,
           16
          ],
          [
           859,
           3062,
           0.20384432842904604,
           16
          ],
          [
           859,
           3062,
           0.20384432842904604,
           16
          ],
          [
           859,
           3062,
           0.20384432842904604,
           16
          ],
          [
           859,
           3062,
           0.20384432842904604,
           16
          ],
          [
           859,
           3062,
           0.20384432842904604,
           16
          ],
          [
           859,
           3062,
           0.20384432842904604,
           16
          ]
         ],
         "hovertemplate": "SKU_ID=19253<br>ORDER_RANK=%{x}<br>RATE_cumsum=%{y}<br>SKUID_total_customers=%{customdata[0]}<br>SKUID_total_transactions=%{customdata[1]}<br>SKUID_total_probability_rate=%{customdata[2]}<br>product_rank_bytotalprobrate=%{customdata[3]}<extra></extra>",
         "legendgroup": "19253",
         "line": {
          "color": "#FF6692",
          "dash": "solid"
         },
         "marker": {
          "symbol": "circle"
         },
         "mode": "lines",
         "name": "19253",
         "orientation": "v",
         "showlegend": true,
         "type": "scatter",
         "x": [
          1,
          2,
          3,
          4,
          5,
          6,
          7,
          8,
          9,
          10,
          11,
          12,
          13,
          14,
          15,
          16,
          17,
          18,
          19,
          20,
          21,
          22,
          23,
          24,
          25,
          26,
          27,
          28,
          29,
          30,
          31,
          32,
          33,
          34,
          35,
          36,
          37,
          38,
          39,
          40,
          41,
          42,
          43,
          44,
          45,
          46,
          47,
          48,
          49,
          50,
          51,
          52,
          53,
          54,
          55,
          56,
          57,
          58,
          59,
          60,
          61,
          62,
          63,
          65
         ],
         "xaxis": "x",
         "y": [
          0.06003796867584243,
          0.10417655434266729,
          0.13028001898433791,
          0.14665401044138585,
          0.1611295681063123,
          0.17157095396298053,
          0.17940199335548174,
          0.18414807783578546,
          0.18794494542002846,
          0.19221642145230183,
          0.1950640721404841,
          0.19838633127669672,
          0.19933554817275748,
          0.20028476506881823,
          0.20099667774086377,
          0.20170859041290934,
          0.20194589463692453,
          0.20218319886093972,
          0.20218319886093972,
          0.20289511153298528,
          0.20313241575700047,
          0.20313241575700047,
          0.20336971998101566,
          0.20360702420503085,
          0.20360702420503085,
          0.20360702420503085,
          0.20360702420503085,
          0.20360702420503085,
          0.20360702420503085,
          0.20360702420503085,
          0.20360702420503085,
          0.20360702420503085,
          0.20360702420503085,
          0.20384432842904604,
          0.20384432842904604,
          0.20384432842904604,
          0.20384432842904604,
          0.20384432842904604,
          0.20384432842904604,
          0.20384432842904604,
          0.20384432842904604,
          0.20384432842904604,
          0.20384432842904604,
          0.20384432842904604,
          0.20384432842904604,
          0.20384432842904604,
          0.20384432842904604,
          0.20384432842904604,
          0.20384432842904604,
          0.20384432842904604,
          0.20384432842904604,
          0.20384432842904604,
          0.20384432842904604,
          0.20384432842904604,
          0.20384432842904604,
          0.20384432842904604,
          0.20384432842904604,
          0.20384432842904604,
          0.20384432842904604,
          0.20384432842904604,
          0.20384432842904604,
          0.20384432842904604,
          0.20384432842904604,
          0.20384432842904604
         ],
         "yaxis": "y"
        },
        {
         "customdata": [
          [
           877,
           2712,
           0.20811580446131941,
           15
          ],
          [
           877,
           2712,
           0.20811580446131941,
           15
          ],
          [
           877,
           2712,
           0.20811580446131941,
           15
          ],
          [
           877,
           2712,
           0.20811580446131941,
           15
          ],
          [
           877,
           2712,
           0.20811580446131941,
           15
          ],
          [
           877,
           2712,
           0.20811580446131941,
           15
          ],
          [
           877,
           2712,
           0.20811580446131941,
           15
          ],
          [
           877,
           2712,
           0.20811580446131941,
           15
          ],
          [
           877,
           2712,
           0.20811580446131941,
           15
          ],
          [
           877,
           2712,
           0.20811580446131941,
           15
          ],
          [
           877,
           2712,
           0.20811580446131941,
           15
          ],
          [
           877,
           2712,
           0.20811580446131941,
           15
          ],
          [
           877,
           2712,
           0.20811580446131941,
           15
          ],
          [
           877,
           2712,
           0.20811580446131941,
           15
          ],
          [
           877,
           2712,
           0.20811580446131941,
           15
          ],
          [
           877,
           2712,
           0.20811580446131941,
           15
          ],
          [
           877,
           2712,
           0.20811580446131941,
           15
          ],
          [
           877,
           2712,
           0.20811580446131941,
           15
          ],
          [
           877,
           2712,
           0.20811580446131941,
           15
          ],
          [
           877,
           2712,
           0.20811580446131941,
           15
          ],
          [
           877,
           2712,
           0.20811580446131941,
           15
          ],
          [
           877,
           2712,
           0.20811580446131941,
           15
          ],
          [
           877,
           2712,
           0.20811580446131941,
           15
          ],
          [
           877,
           2712,
           0.20811580446131941,
           15
          ],
          [
           877,
           2712,
           0.20811580446131941,
           15
          ],
          [
           877,
           2712,
           0.20811580446131941,
           15
          ],
          [
           877,
           2712,
           0.20811580446131941,
           15
          ],
          [
           877,
           2712,
           0.20811580446131941,
           15
          ],
          [
           877,
           2712,
           0.20811580446131941,
           15
          ],
          [
           877,
           2712,
           0.20811580446131941,
           15
          ],
          [
           877,
           2712,
           0.20811580446131941,
           15
          ],
          [
           877,
           2712,
           0.20811580446131941,
           15
          ],
          [
           877,
           2712,
           0.20811580446131941,
           15
          ],
          [
           877,
           2712,
           0.20811580446131941,
           15
          ],
          [
           877,
           2712,
           0.20811580446131941,
           15
          ],
          [
           877,
           2712,
           0.20811580446131941,
           15
          ],
          [
           877,
           2712,
           0.20811580446131941,
           15
          ],
          [
           877,
           2712,
           0.20811580446131941,
           15
          ],
          [
           877,
           2712,
           0.20811580446131941,
           15
          ],
          [
           877,
           2712,
           0.20811580446131941,
           15
          ],
          [
           877,
           2712,
           0.20811580446131941,
           15
          ],
          [
           877,
           2712,
           0.20811580446131941,
           15
          ],
          [
           877,
           2712,
           0.20811580446131941,
           15
          ],
          [
           877,
           2712,
           0.20811580446131941,
           15
          ],
          [
           877,
           2712,
           0.20811580446131941,
           15
          ],
          [
           877,
           2712,
           0.20811580446131941,
           15
          ],
          [
           877,
           2712,
           0.20811580446131941,
           15
          ],
          [
           877,
           2712,
           0.20811580446131941,
           15
          ],
          [
           877,
           2712,
           0.20811580446131941,
           15
          ],
          [
           877,
           2712,
           0.20811580446131941,
           15
          ],
          [
           877,
           2712,
           0.20811580446131941,
           15
          ],
          [
           877,
           2712,
           0.20811580446131941,
           15
          ],
          [
           877,
           2712,
           0.20811580446131941,
           15
          ],
          [
           877,
           2712,
           0.20811580446131941,
           15
          ],
          [
           877,
           2712,
           0.20811580446131941,
           15
          ],
          [
           877,
           2712,
           0.20811580446131941,
           15
          ],
          [
           877,
           2712,
           0.20811580446131941,
           15
          ],
          [
           877,
           2712,
           0.20811580446131941,
           15
          ],
          [
           877,
           2712,
           0.20811580446131941,
           15
          ],
          [
           877,
           2712,
           0.20811580446131941,
           15
          ],
          [
           877,
           2712,
           0.20811580446131941,
           15
          ]
         ],
         "hovertemplate": "SKU_ID=19337<br>ORDER_RANK=%{x}<br>RATE_cumsum=%{y}<br>SKUID_total_customers=%{customdata[0]}<br>SKUID_total_transactions=%{customdata[1]}<br>SKUID_total_probability_rate=%{customdata[2]}<br>product_rank_bytotalprobrate=%{customdata[3]}<extra></extra>",
         "legendgroup": "19337",
         "line": {
          "color": "#B6E880",
          "dash": "solid"
         },
         "marker": {
          "symbol": "circle"
         },
         "mode": "lines",
         "name": "19337",
         "orientation": "v",
         "showlegend": true,
         "type": "scatter",
         "x": [
          1,
          2,
          3,
          4,
          5,
          6,
          7,
          8,
          9,
          10,
          11,
          12,
          13,
          14,
          15,
          16,
          17,
          18,
          19,
          20,
          21,
          22,
          23,
          24,
          25,
          26,
          27,
          28,
          29,
          30,
          31,
          32,
          33,
          34,
          35,
          36,
          37,
          38,
          39,
          40,
          41,
          42,
          43,
          44,
          45,
          46,
          47,
          48,
          49,
          50,
          51,
          52,
          53,
          54,
          55,
          56,
          57,
          58,
          59,
          60,
          61
         ],
         "xaxis": "x",
         "y": [
          0.06288561936402468,
          0.10109159943046986,
          0.13336497389653534,
          0.15472235405790224,
          0.170859041290935,
          0.18438538205980068,
          0.19079259610821073,
          0.19648789748457524,
          0.19957285239677267,
          0.20194589463692453,
          0.20408163265306123,
          0.20550545799715236,
          0.2064546748932131,
          0.20740389178927385,
          0.20740389178927385,
          0.20764119601328904,
          0.20764119601328904,
          0.20764119601328904,
          0.20811580446131941,
          0.20811580446131941,
          0.20811580446131941,
          0.20811580446131941,
          0.20811580446131941,
          0.20811580446131941,
          0.20811580446131941,
          0.20811580446131941,
          0.20811580446131941,
          0.20811580446131941,
          0.20811580446131941,
          0.20811580446131941,
          0.20811580446131941,
          0.20811580446131941,
          0.20811580446131941,
          0.20811580446131941,
          0.20811580446131941,
          0.20811580446131941,
          0.20811580446131941,
          0.20811580446131941,
          0.20811580446131941,
          0.20811580446131941,
          0.20811580446131941,
          0.20811580446131941,
          0.20811580446131941,
          0.20811580446131941,
          0.20811580446131941,
          0.20811580446131941,
          0.20811580446131941,
          0.20811580446131941,
          0.20811580446131941,
          0.20811580446131941,
          0.20811580446131941,
          0.20811580446131941,
          0.20811580446131941,
          0.20811580446131941,
          0.20811580446131941,
          0.20811580446131941,
          0.20811580446131941,
          0.20811580446131941,
          0.20811580446131941,
          0.20811580446131941,
          0.20811580446131941
         ],
         "yaxis": "y"
        },
        {
         "customdata": [
          [
           830,
           2712,
           0.1969625059326056,
           18
          ],
          [
           830,
           2712,
           0.1969625059326056,
           18
          ],
          [
           830,
           2712,
           0.1969625059326056,
           18
          ],
          [
           830,
           2712,
           0.1969625059326056,
           18
          ],
          [
           830,
           2712,
           0.1969625059326056,
           18
          ],
          [
           830,
           2712,
           0.1969625059326056,
           18
          ],
          [
           830,
           2712,
           0.1969625059326056,
           18
          ],
          [
           830,
           2712,
           0.1969625059326056,
           18
          ],
          [
           830,
           2712,
           0.1969625059326056,
           18
          ],
          [
           830,
           2712,
           0.1969625059326056,
           18
          ],
          [
           830,
           2712,
           0.1969625059326056,
           18
          ],
          [
           830,
           2712,
           0.1969625059326056,
           18
          ],
          [
           830,
           2712,
           0.1969625059326056,
           18
          ],
          [
           830,
           2712,
           0.1969625059326056,
           18
          ],
          [
           830,
           2712,
           0.1969625059326056,
           18
          ],
          [
           830,
           2712,
           0.1969625059326056,
           18
          ],
          [
           830,
           2712,
           0.1969625059326056,
           18
          ],
          [
           830,
           2712,
           0.1969625059326056,
           18
          ],
          [
           830,
           2712,
           0.1969625059326056,
           18
          ],
          [
           830,
           2712,
           0.1969625059326056,
           18
          ],
          [
           830,
           2712,
           0.1969625059326056,
           18
          ],
          [
           830,
           2712,
           0.1969625059326056,
           18
          ],
          [
           830,
           2712,
           0.1969625059326056,
           18
          ],
          [
           830,
           2712,
           0.1969625059326056,
           18
          ],
          [
           830,
           2712,
           0.1969625059326056,
           18
          ],
          [
           830,
           2712,
           0.1969625059326056,
           18
          ],
          [
           830,
           2712,
           0.1969625059326056,
           18
          ],
          [
           830,
           2712,
           0.1969625059326056,
           18
          ],
          [
           830,
           2712,
           0.1969625059326056,
           18
          ],
          [
           830,
           2712,
           0.1969625059326056,
           18
          ],
          [
           830,
           2712,
           0.1969625059326056,
           18
          ],
          [
           830,
           2712,
           0.1969625059326056,
           18
          ],
          [
           830,
           2712,
           0.1969625059326056,
           18
          ],
          [
           830,
           2712,
           0.1969625059326056,
           18
          ],
          [
           830,
           2712,
           0.1969625059326056,
           18
          ],
          [
           830,
           2712,
           0.1969625059326056,
           18
          ],
          [
           830,
           2712,
           0.1969625059326056,
           18
          ],
          [
           830,
           2712,
           0.1969625059326056,
           18
          ],
          [
           830,
           2712,
           0.1969625059326056,
           18
          ],
          [
           830,
           2712,
           0.1969625059326056,
           18
          ],
          [
           830,
           2712,
           0.1969625059326056,
           18
          ],
          [
           830,
           2712,
           0.1969625059326056,
           18
          ],
          [
           830,
           2712,
           0.1969625059326056,
           18
          ],
          [
           830,
           2712,
           0.1969625059326056,
           18
          ],
          [
           830,
           2712,
           0.1969625059326056,
           18
          ],
          [
           830,
           2712,
           0.1969625059326056,
           18
          ],
          [
           830,
           2712,
           0.1969625059326056,
           18
          ],
          [
           830,
           2712,
           0.1969625059326056,
           18
          ],
          [
           830,
           2712,
           0.1969625059326056,
           18
          ],
          [
           830,
           2712,
           0.1969625059326056,
           18
          ],
          [
           830,
           2712,
           0.1969625059326056,
           18
          ],
          [
           830,
           2712,
           0.1969625059326056,
           18
          ],
          [
           830,
           2712,
           0.1969625059326056,
           18
          ],
          [
           830,
           2712,
           0.1969625059326056,
           18
          ],
          [
           830,
           2712,
           0.1969625059326056,
           18
          ],
          [
           830,
           2712,
           0.1969625059326056,
           18
          ],
          [
           830,
           2712,
           0.1969625059326056,
           18
          ]
         ],
         "hovertemplate": "SKU_ID=19399<br>ORDER_RANK=%{x}<br>RATE_cumsum=%{y}<br>SKUID_total_customers=%{customdata[0]}<br>SKUID_total_transactions=%{customdata[1]}<br>SKUID_total_probability_rate=%{customdata[2]}<br>product_rank_bytotalprobrate=%{customdata[3]}<extra></extra>",
         "legendgroup": "19399",
         "line": {
          "color": "#FF97FF",
          "dash": "solid"
         },
         "marker": {
          "symbol": "circle"
         },
         "mode": "lines",
         "name": "19399",
         "orientation": "v",
         "showlegend": true,
         "type": "scatter",
         "x": [
          1,
          2,
          3,
          4,
          5,
          6,
          7,
          8,
          9,
          10,
          11,
          12,
          13,
          14,
          15,
          16,
          17,
          18,
          19,
          20,
          21,
          22,
          23,
          24,
          25,
          26,
          27,
          28,
          29,
          30,
          31,
          32,
          33,
          34,
          35,
          36,
          37,
          38,
          39,
          40,
          41,
          42,
          43,
          44,
          45,
          46,
          47,
          48,
          49,
          50,
          51,
          52,
          53,
          54,
          55,
          56,
          57
         ],
         "xaxis": "x",
         "y": [
          0.05790223065970574,
          0.09136212624584716,
          0.11746559088751779,
          0.1364499288087328,
          0.15306122448979592,
          0.1644518272425249,
          0.17323208353108685,
          0.17892738490745136,
          0.1836734693877551,
          0.1877076411960133,
          0.18984337921214997,
          0.1915045087802563,
          0.1931656383483626,
          0.19411485524442335,
          0.1948267679164689,
          0.1950640721404841,
          0.19577598481252967,
          0.19577598481252967,
          0.19601328903654486,
          0.19625059326056005,
          0.19625059326056005,
          0.19648789748457524,
          0.1967252017085904,
          0.1967252017085904,
          0.1967252017085904,
          0.1967252017085904,
          0.1967252017085904,
          0.19696250593260559,
          0.19696250593260559,
          0.19696250593260559,
          0.19696250593260559,
          0.19696250593260559,
          0.19696250593260559,
          0.19696250593260559,
          0.19696250593260559,
          0.19696250593260559,
          0.19696250593260559,
          0.19696250593260559,
          0.19696250593260559,
          0.19696250593260559,
          0.19696250593260559,
          0.19696250593260559,
          0.19696250593260559,
          0.19696250593260559,
          0.19696250593260559,
          0.19696250593260559,
          0.19696250593260559,
          0.19696250593260559,
          0.19696250593260559,
          0.19696250593260559,
          0.19696250593260559,
          0.19696250593260559,
          0.19696250593260559,
          0.19696250593260559,
          0.19696250593260559,
          0.19696250593260559,
          0.19696250593260559
         ],
         "yaxis": "y"
        },
        {
         "customdata": [
          [
           881,
           2505,
           0.20906502135738017,
           14
          ],
          [
           881,
           2505,
           0.20906502135738017,
           14
          ],
          [
           881,
           2505,
           0.20906502135738017,
           14
          ],
          [
           881,
           2505,
           0.20906502135738017,
           14
          ],
          [
           881,
           2505,
           0.20906502135738017,
           14
          ],
          [
           881,
           2505,
           0.20906502135738017,
           14
          ],
          [
           881,
           2505,
           0.20906502135738017,
           14
          ],
          [
           881,
           2505,
           0.20906502135738017,
           14
          ],
          [
           881,
           2505,
           0.20906502135738017,
           14
          ],
          [
           881,
           2505,
           0.20906502135738017,
           14
          ],
          [
           881,
           2505,
           0.20906502135738017,
           14
          ],
          [
           881,
           2505,
           0.20906502135738017,
           14
          ],
          [
           881,
           2505,
           0.20906502135738017,
           14
          ],
          [
           881,
           2505,
           0.20906502135738017,
           14
          ],
          [
           881,
           2505,
           0.20906502135738017,
           14
          ],
          [
           881,
           2505,
           0.20906502135738017,
           14
          ],
          [
           881,
           2505,
           0.20906502135738017,
           14
          ],
          [
           881,
           2505,
           0.20906502135738017,
           14
          ],
          [
           881,
           2505,
           0.20906502135738017,
           14
          ],
          [
           881,
           2505,
           0.20906502135738017,
           14
          ],
          [
           881,
           2505,
           0.20906502135738017,
           14
          ],
          [
           881,
           2505,
           0.20906502135738017,
           14
          ],
          [
           881,
           2505,
           0.20906502135738017,
           14
          ],
          [
           881,
           2505,
           0.20906502135738017,
           14
          ],
          [
           881,
           2505,
           0.20906502135738017,
           14
          ],
          [
           881,
           2505,
           0.20906502135738017,
           14
          ],
          [
           881,
           2505,
           0.20906502135738017,
           14
          ],
          [
           881,
           2505,
           0.20906502135738017,
           14
          ],
          [
           881,
           2505,
           0.20906502135738017,
           14
          ],
          [
           881,
           2505,
           0.20906502135738017,
           14
          ],
          [
           881,
           2505,
           0.20906502135738017,
           14
          ],
          [
           881,
           2505,
           0.20906502135738017,
           14
          ],
          [
           881,
           2505,
           0.20906502135738017,
           14
          ],
          [
           881,
           2505,
           0.20906502135738017,
           14
          ],
          [
           881,
           2505,
           0.20906502135738017,
           14
          ],
          [
           881,
           2505,
           0.20906502135738017,
           14
          ],
          [
           881,
           2505,
           0.20906502135738017,
           14
          ],
          [
           881,
           2505,
           0.20906502135738017,
           14
          ],
          [
           881,
           2505,
           0.20906502135738017,
           14
          ],
          [
           881,
           2505,
           0.20906502135738017,
           14
          ],
          [
           881,
           2505,
           0.20906502135738017,
           14
          ],
          [
           881,
           2505,
           0.20906502135738017,
           14
          ],
          [
           881,
           2505,
           0.20906502135738017,
           14
          ],
          [
           881,
           2505,
           0.20906502135738017,
           14
          ],
          [
           881,
           2505,
           0.20906502135738017,
           14
          ],
          [
           881,
           2505,
           0.20906502135738017,
           14
          ],
          [
           881,
           2505,
           0.20906502135738017,
           14
          ],
          [
           881,
           2505,
           0.20906502135738017,
           14
          ],
          [
           881,
           2505,
           0.20906502135738017,
           14
          ],
          [
           881,
           2505,
           0.20906502135738017,
           14
          ],
          [
           881,
           2505,
           0.20906502135738017,
           14
          ],
          [
           881,
           2505,
           0.20906502135738017,
           14
          ],
          [
           881,
           2505,
           0.20906502135738017,
           14
          ],
          [
           881,
           2505,
           0.20906502135738017,
           14
          ],
          [
           881,
           2505,
           0.20906502135738017,
           14
          ],
          [
           881,
           2505,
           0.20906502135738017,
           14
          ],
          [
           881,
           2505,
           0.20906502135738017,
           14
          ],
          [
           881,
           2505,
           0.20906502135738017,
           14
          ],
          [
           881,
           2505,
           0.20906502135738017,
           14
          ],
          [
           881,
           2505,
           0.20906502135738017,
           14
          ]
         ],
         "hovertemplate": "SKU_ID=21973<br>ORDER_RANK=%{x}<br>RATE_cumsum=%{y}<br>SKUID_total_customers=%{customdata[0]}<br>SKUID_total_transactions=%{customdata[1]}<br>SKUID_total_probability_rate=%{customdata[2]}<br>product_rank_bytotalprobrate=%{customdata[3]}<extra></extra>",
         "legendgroup": "21973",
         "line": {
          "color": "#FECB52",
          "dash": "solid"
         },
         "marker": {
          "symbol": "circle"
         },
         "mode": "lines",
         "name": "21973",
         "orientation": "v",
         "showlegend": true,
         "type": "scatter",
         "x": [
          1,
          2,
          3,
          4,
          5,
          6,
          7,
          8,
          9,
          10,
          11,
          12,
          13,
          14,
          15,
          16,
          17,
          18,
          19,
          20,
          21,
          22,
          23,
          24,
          25,
          26,
          27,
          28,
          29,
          30,
          31,
          32,
          33,
          34,
          35,
          36,
          37,
          38,
          39,
          40,
          41,
          42,
          43,
          44,
          45,
          46,
          47,
          48,
          49,
          50,
          51,
          52,
          53,
          54,
          55,
          56,
          57,
          58,
          59,
          61
         ],
         "xaxis": "x",
         "y": [
          0.05908875177978168,
          0.09895586141433317,
          0.12434741338395823,
          0.14855244423350736,
          0.16421452301850972,
          0.17892738490745136,
          0.19031798766018035,
          0.19696250593260559,
          0.20004746084480304,
          0.2024205030849549,
          0.20455624110109158,
          0.20669197911722828,
          0.20692928334124347,
          0.20764119601328904,
          0.20787850023730423,
          0.2083531086853346,
          0.2083531086853346,
          0.2085904129093498,
          0.2085904129093498,
          0.2085904129093498,
          0.2085904129093498,
          0.20882771713336495,
          0.20906502135738014,
          0.20906502135738014,
          0.20906502135738014,
          0.20906502135738014,
          0.20906502135738014,
          0.20906502135738014,
          0.20906502135738014,
          0.20906502135738014,
          0.20906502135738014,
          0.20906502135738014,
          0.20906502135738014,
          0.20906502135738014,
          0.20906502135738014,
          0.20906502135738014,
          0.20906502135738014,
          0.20906502135738014,
          0.20906502135738014,
          0.20906502135738014,
          0.20906502135738014,
          0.20906502135738014,
          0.20906502135738014,
          0.20906502135738014,
          0.20906502135738014,
          0.20906502135738014,
          0.20906502135738014,
          0.20906502135738014,
          0.20906502135738014,
          0.20906502135738014,
          0.20906502135738014,
          0.20906502135738014,
          0.20906502135738014,
          0.20906502135738014,
          0.20906502135738014,
          0.20906502135738014,
          0.20906502135738014,
          0.20906502135738014,
          0.20906502135738014,
          0.20906502135738014
         ],
         "yaxis": "y"
        },
        {
         "customdata": [
          [
           739,
           2018,
           0.17536782154722355,
           20
          ],
          [
           739,
           2018,
           0.17536782154722355,
           20
          ],
          [
           739,
           2018,
           0.17536782154722355,
           20
          ],
          [
           739,
           2018,
           0.17536782154722355,
           20
          ],
          [
           739,
           2018,
           0.17536782154722355,
           20
          ],
          [
           739,
           2018,
           0.17536782154722355,
           20
          ],
          [
           739,
           2018,
           0.17536782154722355,
           20
          ],
          [
           739,
           2018,
           0.17536782154722355,
           20
          ],
          [
           739,
           2018,
           0.17536782154722355,
           20
          ],
          [
           739,
           2018,
           0.17536782154722355,
           20
          ],
          [
           739,
           2018,
           0.17536782154722355,
           20
          ],
          [
           739,
           2018,
           0.17536782154722355,
           20
          ],
          [
           739,
           2018,
           0.17536782154722355,
           20
          ],
          [
           739,
           2018,
           0.17536782154722355,
           20
          ],
          [
           739,
           2018,
           0.17536782154722355,
           20
          ],
          [
           739,
           2018,
           0.17536782154722355,
           20
          ],
          [
           739,
           2018,
           0.17536782154722355,
           20
          ],
          [
           739,
           2018,
           0.17536782154722355,
           20
          ],
          [
           739,
           2018,
           0.17536782154722355,
           20
          ],
          [
           739,
           2018,
           0.17536782154722355,
           20
          ],
          [
           739,
           2018,
           0.17536782154722355,
           20
          ],
          [
           739,
           2018,
           0.17536782154722355,
           20
          ],
          [
           739,
           2018,
           0.17536782154722355,
           20
          ],
          [
           739,
           2018,
           0.17536782154722355,
           20
          ],
          [
           739,
           2018,
           0.17536782154722355,
           20
          ],
          [
           739,
           2018,
           0.17536782154722355,
           20
          ],
          [
           739,
           2018,
           0.17536782154722355,
           20
          ],
          [
           739,
           2018,
           0.17536782154722355,
           20
          ],
          [
           739,
           2018,
           0.17536782154722355,
           20
          ],
          [
           739,
           2018,
           0.17536782154722355,
           20
          ],
          [
           739,
           2018,
           0.17536782154722355,
           20
          ],
          [
           739,
           2018,
           0.17536782154722355,
           20
          ],
          [
           739,
           2018,
           0.17536782154722355,
           20
          ],
          [
           739,
           2018,
           0.17536782154722355,
           20
          ],
          [
           739,
           2018,
           0.17536782154722355,
           20
          ],
          [
           739,
           2018,
           0.17536782154722355,
           20
          ],
          [
           739,
           2018,
           0.17536782154722355,
           20
          ],
          [
           739,
           2018,
           0.17536782154722355,
           20
          ],
          [
           739,
           2018,
           0.17536782154722355,
           20
          ],
          [
           739,
           2018,
           0.17536782154722355,
           20
          ],
          [
           739,
           2018,
           0.17536782154722355,
           20
          ],
          [
           739,
           2018,
           0.17536782154722355,
           20
          ],
          [
           739,
           2018,
           0.17536782154722355,
           20
          ],
          [
           739,
           2018,
           0.17536782154722355,
           20
          ],
          [
           739,
           2018,
           0.17536782154722355,
           20
          ],
          [
           739,
           2018,
           0.17536782154722355,
           20
          ],
          [
           739,
           2018,
           0.17536782154722355,
           20
          ],
          [
           739,
           2018,
           0.17536782154722355,
           20
          ],
          [
           739,
           2018,
           0.17536782154722355,
           20
          ],
          [
           739,
           2018,
           0.17536782154722355,
           20
          ],
          [
           739,
           2018,
           0.17536782154722355,
           20
          ],
          [
           739,
           2018,
           0.17536782154722355,
           20
          ],
          [
           739,
           2018,
           0.17536782154722355,
           20
          ],
          [
           739,
           2018,
           0.17536782154722355,
           20
          ],
          [
           739,
           2018,
           0.17536782154722355,
           20
          ],
          [
           739,
           2018,
           0.17536782154722355,
           20
          ],
          [
           739,
           2018,
           0.17536782154722355,
           20
          ],
          [
           739,
           2018,
           0.17536782154722355,
           20
          ],
          [
           739,
           2018,
           0.17536782154722355,
           20
          ],
          [
           739,
           2018,
           0.17536782154722355,
           20
          ],
          [
           739,
           2018,
           0.17536782154722355,
           20
          ],
          [
           739,
           2018,
           0.17536782154722355,
           20
          ],
          [
           739,
           2018,
           0.17536782154722355,
           20
          ],
          [
           739,
           2018,
           0.17536782154722355,
           20
          ],
          [
           739,
           2018,
           0.17536782154722355,
           20
          ],
          [
           739,
           2018,
           0.17536782154722355,
           20
          ]
         ],
         "hovertemplate": "SKU_ID=26567<br>ORDER_RANK=%{x}<br>RATE_cumsum=%{y}<br>SKUID_total_customers=%{customdata[0]}<br>SKUID_total_transactions=%{customdata[1]}<br>SKUID_total_probability_rate=%{customdata[2]}<br>product_rank_bytotalprobrate=%{customdata[3]}<extra></extra>",
         "legendgroup": "26567",
         "line": {
          "color": "#636efa",
          "dash": "solid"
         },
         "marker": {
          "symbol": "circle"
         },
         "mode": "lines",
         "name": "26567",
         "orientation": "v",
         "showlegend": true,
         "type": "scatter",
         "x": [
          1,
          2,
          3,
          4,
          5,
          6,
          7,
          8,
          9,
          10,
          11,
          12,
          13,
          14,
          15,
          16,
          17,
          18,
          19,
          20,
          21,
          22,
          23,
          24,
          25,
          26,
          27,
          28,
          29,
          30,
          31,
          32,
          33,
          34,
          35,
          36,
          37,
          38,
          39,
          40,
          41,
          42,
          43,
          44,
          45,
          46,
          47,
          48,
          49,
          50,
          51,
          52,
          53,
          54,
          55,
          56,
          57,
          58,
          59,
          60,
          61,
          62,
          63,
          64,
          65,
          67
         ],
         "xaxis": "x",
         "y": [
          0.0018984337921214998,
          0.006169909824394875,
          0.01423825344091125,
          0.026815377313716186,
          0.04129093497864262,
          0.05837683910773612,
          0.07427622211675368,
          0.0870906502135738,
          0.10085429520645467,
          0.11438063597532036,
          0.12624584717607973,
          0.136687233032748,
          0.14356905552918842,
          0.1516373991457048,
          0.15685809207403892,
          0.16041765543426673,
          0.16350261034646418,
          0.1646891314665401,
          0.16801139060275272,
          0.1684859990507831,
          0.16990982439487423,
          0.1706217370669198,
          0.17133364973896537,
          0.17180825818699574,
          0.17204556241101093,
          0.1722828666350261,
          0.17299477930707166,
          0.17370669197911723,
          0.17394399620313242,
          0.1744186046511628,
          0.17465590887517798,
          0.17465590887517798,
          0.17465590887517798,
          0.17513051732320836,
          0.17513051732320836,
          0.17536782154722355,
          0.17536782154722355,
          0.17536782154722355,
          0.17536782154722355,
          0.17536782154722355,
          0.17536782154722355,
          0.17536782154722355,
          0.17536782154722355,
          0.17536782154722355,
          0.17536782154722355,
          0.17536782154722355,
          0.17536782154722355,
          0.17536782154722355,
          0.17536782154722355,
          0.17536782154722355,
          0.17536782154722355,
          0.17536782154722355,
          0.17536782154722355,
          0.17536782154722355,
          0.17536782154722355,
          0.17536782154722355,
          0.17536782154722355,
          0.17536782154722355,
          0.17536782154722355,
          0.17536782154722355,
          0.17536782154722355,
          0.17536782154722355,
          0.17536782154722355,
          0.17536782154722355,
          0.17536782154722355,
          0.17536782154722355
         ],
         "yaxis": "y"
        }
       ],
       "layout": {
        "legend": {
         "title": {
          "text": "SKU_ID"
         },
         "tracegroupgap": 0
        },
        "template": {
         "data": {
          "bar": [
           {
            "error_x": {
             "color": "#2a3f5f"
            },
            "error_y": {
             "color": "#2a3f5f"
            },
            "marker": {
             "line": {
              "color": "#E5ECF6",
              "width": 0.5
             },
             "pattern": {
              "fillmode": "overlay",
              "size": 10,
              "solidity": 0.2
             }
            },
            "type": "bar"
           }
          ],
          "barpolar": [
           {
            "marker": {
             "line": {
              "color": "#E5ECF6",
              "width": 0.5
             },
             "pattern": {
              "fillmode": "overlay",
              "size": 10,
              "solidity": 0.2
             }
            },
            "type": "barpolar"
           }
          ],
          "carpet": [
           {
            "aaxis": {
             "endlinecolor": "#2a3f5f",
             "gridcolor": "white",
             "linecolor": "white",
             "minorgridcolor": "white",
             "startlinecolor": "#2a3f5f"
            },
            "baxis": {
             "endlinecolor": "#2a3f5f",
             "gridcolor": "white",
             "linecolor": "white",
             "minorgridcolor": "white",
             "startlinecolor": "#2a3f5f"
            },
            "type": "carpet"
           }
          ],
          "choropleth": [
           {
            "colorbar": {
             "outlinewidth": 0,
             "ticks": ""
            },
            "type": "choropleth"
           }
          ],
          "contour": [
           {
            "colorbar": {
             "outlinewidth": 0,
             "ticks": ""
            },
            "colorscale": [
             [
              0,
              "#0d0887"
             ],
             [
              0.1111111111111111,
              "#46039f"
             ],
             [
              0.2222222222222222,
              "#7201a8"
             ],
             [
              0.3333333333333333,
              "#9c179e"
             ],
             [
              0.4444444444444444,
              "#bd3786"
             ],
             [
              0.5555555555555556,
              "#d8576b"
             ],
             [
              0.6666666666666666,
              "#ed7953"
             ],
             [
              0.7777777777777778,
              "#fb9f3a"
             ],
             [
              0.8888888888888888,
              "#fdca26"
             ],
             [
              1,
              "#f0f921"
             ]
            ],
            "type": "contour"
           }
          ],
          "contourcarpet": [
           {
            "colorbar": {
             "outlinewidth": 0,
             "ticks": ""
            },
            "type": "contourcarpet"
           }
          ],
          "heatmap": [
           {
            "colorbar": {
             "outlinewidth": 0,
             "ticks": ""
            },
            "colorscale": [
             [
              0,
              "#0d0887"
             ],
             [
              0.1111111111111111,
              "#46039f"
             ],
             [
              0.2222222222222222,
              "#7201a8"
             ],
             [
              0.3333333333333333,
              "#9c179e"
             ],
             [
              0.4444444444444444,
              "#bd3786"
             ],
             [
              0.5555555555555556,
              "#d8576b"
             ],
             [
              0.6666666666666666,
              "#ed7953"
             ],
             [
              0.7777777777777778,
              "#fb9f3a"
             ],
             [
              0.8888888888888888,
              "#fdca26"
             ],
             [
              1,
              "#f0f921"
             ]
            ],
            "type": "heatmap"
           }
          ],
          "heatmapgl": [
           {
            "colorbar": {
             "outlinewidth": 0,
             "ticks": ""
            },
            "colorscale": [
             [
              0,
              "#0d0887"
             ],
             [
              0.1111111111111111,
              "#46039f"
             ],
             [
              0.2222222222222222,
              "#7201a8"
             ],
             [
              0.3333333333333333,
              "#9c179e"
             ],
             [
              0.4444444444444444,
              "#bd3786"
             ],
             [
              0.5555555555555556,
              "#d8576b"
             ],
             [
              0.6666666666666666,
              "#ed7953"
             ],
             [
              0.7777777777777778,
              "#fb9f3a"
             ],
             [
              0.8888888888888888,
              "#fdca26"
             ],
             [
              1,
              "#f0f921"
             ]
            ],
            "type": "heatmapgl"
           }
          ],
          "histogram": [
           {
            "marker": {
             "pattern": {
              "fillmode": "overlay",
              "size": 10,
              "solidity": 0.2
             }
            },
            "type": "histogram"
           }
          ],
          "histogram2d": [
           {
            "colorbar": {
             "outlinewidth": 0,
             "ticks": ""
            },
            "colorscale": [
             [
              0,
              "#0d0887"
             ],
             [
              0.1111111111111111,
              "#46039f"
             ],
             [
              0.2222222222222222,
              "#7201a8"
             ],
             [
              0.3333333333333333,
              "#9c179e"
             ],
             [
              0.4444444444444444,
              "#bd3786"
             ],
             [
              0.5555555555555556,
              "#d8576b"
             ],
             [
              0.6666666666666666,
              "#ed7953"
             ],
             [
              0.7777777777777778,
              "#fb9f3a"
             ],
             [
              0.8888888888888888,
              "#fdca26"
             ],
             [
              1,
              "#f0f921"
             ]
            ],
            "type": "histogram2d"
           }
          ],
          "histogram2dcontour": [
           {
            "colorbar": {
             "outlinewidth": 0,
             "ticks": ""
            },
            "colorscale": [
             [
              0,
              "#0d0887"
             ],
             [
              0.1111111111111111,
              "#46039f"
             ],
             [
              0.2222222222222222,
              "#7201a8"
             ],
             [
              0.3333333333333333,
              "#9c179e"
             ],
             [
              0.4444444444444444,
              "#bd3786"
             ],
             [
              0.5555555555555556,
              "#d8576b"
             ],
             [
              0.6666666666666666,
              "#ed7953"
             ],
             [
              0.7777777777777778,
              "#fb9f3a"
             ],
             [
              0.8888888888888888,
              "#fdca26"
             ],
             [
              1,
              "#f0f921"
             ]
            ],
            "type": "histogram2dcontour"
           }
          ],
          "mesh3d": [
           {
            "colorbar": {
             "outlinewidth": 0,
             "ticks": ""
            },
            "type": "mesh3d"
           }
          ],
          "parcoords": [
           {
            "line": {
             "colorbar": {
              "outlinewidth": 0,
              "ticks": ""
             }
            },
            "type": "parcoords"
           }
          ],
          "pie": [
           {
            "automargin": true,
            "type": "pie"
           }
          ],
          "scatter": [
           {
            "fillpattern": {
             "fillmode": "overlay",
             "size": 10,
             "solidity": 0.2
            },
            "type": "scatter"
           }
          ],
          "scatter3d": [
           {
            "line": {
             "colorbar": {
              "outlinewidth": 0,
              "ticks": ""
             }
            },
            "marker": {
             "colorbar": {
              "outlinewidth": 0,
              "ticks": ""
             }
            },
            "type": "scatter3d"
           }
          ],
          "scattercarpet": [
           {
            "marker": {
             "colorbar": {
              "outlinewidth": 0,
              "ticks": ""
             }
            },
            "type": "scattercarpet"
           }
          ],
          "scattergeo": [
           {
            "marker": {
             "colorbar": {
              "outlinewidth": 0,
              "ticks": ""
             }
            },
            "type": "scattergeo"
           }
          ],
          "scattergl": [
           {
            "marker": {
             "colorbar": {
              "outlinewidth": 0,
              "ticks": ""
             }
            },
            "type": "scattergl"
           }
          ],
          "scattermapbox": [
           {
            "marker": {
             "colorbar": {
              "outlinewidth": 0,
              "ticks": ""
             }
            },
            "type": "scattermapbox"
           }
          ],
          "scatterpolar": [
           {
            "marker": {
             "colorbar": {
              "outlinewidth": 0,
              "ticks": ""
             }
            },
            "type": "scatterpolar"
           }
          ],
          "scatterpolargl": [
           {
            "marker": {
             "colorbar": {
              "outlinewidth": 0,
              "ticks": ""
             }
            },
            "type": "scatterpolargl"
           }
          ],
          "scatterternary": [
           {
            "marker": {
             "colorbar": {
              "outlinewidth": 0,
              "ticks": ""
             }
            },
            "type": "scatterternary"
           }
          ],
          "surface": [
           {
            "colorbar": {
             "outlinewidth": 0,
             "ticks": ""
            },
            "colorscale": [
             [
              0,
              "#0d0887"
             ],
             [
              0.1111111111111111,
              "#46039f"
             ],
             [
              0.2222222222222222,
              "#7201a8"
             ],
             [
              0.3333333333333333,
              "#9c179e"
             ],
             [
              0.4444444444444444,
              "#bd3786"
             ],
             [
              0.5555555555555556,
              "#d8576b"
             ],
             [
              0.6666666666666666,
              "#ed7953"
             ],
             [
              0.7777777777777778,
              "#fb9f3a"
             ],
             [
              0.8888888888888888,
              "#fdca26"
             ],
             [
              1,
              "#f0f921"
             ]
            ],
            "type": "surface"
           }
          ],
          "table": [
           {
            "cells": {
             "fill": {
              "color": "#EBF0F8"
             },
             "line": {
              "color": "white"
             }
            },
            "header": {
             "fill": {
              "color": "#C8D4E3"
             },
             "line": {
              "color": "white"
             }
            },
            "type": "table"
           }
          ]
         },
         "layout": {
          "annotationdefaults": {
           "arrowcolor": "#2a3f5f",
           "arrowhead": 0,
           "arrowwidth": 1
          },
          "autotypenumbers": "strict",
          "coloraxis": {
           "colorbar": {
            "outlinewidth": 0,
            "ticks": ""
           }
          },
          "colorscale": {
           "diverging": [
            [
             0,
             "#8e0152"
            ],
            [
             0.1,
             "#c51b7d"
            ],
            [
             0.2,
             "#de77ae"
            ],
            [
             0.3,
             "#f1b6da"
            ],
            [
             0.4,
             "#fde0ef"
            ],
            [
             0.5,
             "#f7f7f7"
            ],
            [
             0.6,
             "#e6f5d0"
            ],
            [
             0.7,
             "#b8e186"
            ],
            [
             0.8,
             "#7fbc41"
            ],
            [
             0.9,
             "#4d9221"
            ],
            [
             1,
             "#276419"
            ]
           ],
           "sequential": [
            [
             0,
             "#0d0887"
            ],
            [
             0.1111111111111111,
             "#46039f"
            ],
            [
             0.2222222222222222,
             "#7201a8"
            ],
            [
             0.3333333333333333,
             "#9c179e"
            ],
            [
             0.4444444444444444,
             "#bd3786"
            ],
            [
             0.5555555555555556,
             "#d8576b"
            ],
            [
             0.6666666666666666,
             "#ed7953"
            ],
            [
             0.7777777777777778,
             "#fb9f3a"
            ],
            [
             0.8888888888888888,
             "#fdca26"
            ],
            [
             1,
             "#f0f921"
            ]
           ],
           "sequentialminus": [
            [
             0,
             "#0d0887"
            ],
            [
             0.1111111111111111,
             "#46039f"
            ],
            [
             0.2222222222222222,
             "#7201a8"
            ],
            [
             0.3333333333333333,
             "#9c179e"
            ],
            [
             0.4444444444444444,
             "#bd3786"
            ],
            [
             0.5555555555555556,
             "#d8576b"
            ],
            [
             0.6666666666666666,
             "#ed7953"
            ],
            [
             0.7777777777777778,
             "#fb9f3a"
            ],
            [
             0.8888888888888888,
             "#fdca26"
            ],
            [
             1,
             "#f0f921"
            ]
           ]
          },
          "colorway": [
           "#636efa",
           "#EF553B",
           "#00cc96",
           "#ab63fa",
           "#FFA15A",
           "#19d3f3",
           "#FF6692",
           "#B6E880",
           "#FF97FF",
           "#FECB52"
          ],
          "font": {
           "color": "#2a3f5f"
          },
          "geo": {
           "bgcolor": "white",
           "lakecolor": "white",
           "landcolor": "#E5ECF6",
           "showlakes": true,
           "showland": true,
           "subunitcolor": "white"
          },
          "hoverlabel": {
           "align": "left"
          },
          "hovermode": "closest",
          "mapbox": {
           "style": "light"
          },
          "paper_bgcolor": "white",
          "plot_bgcolor": "#E5ECF6",
          "polar": {
           "angularaxis": {
            "gridcolor": "white",
            "linecolor": "white",
            "ticks": ""
           },
           "bgcolor": "#E5ECF6",
           "radialaxis": {
            "gridcolor": "white",
            "linecolor": "white",
            "ticks": ""
           }
          },
          "scene": {
           "xaxis": {
            "backgroundcolor": "#E5ECF6",
            "gridcolor": "white",
            "gridwidth": 2,
            "linecolor": "white",
            "showbackground": true,
            "ticks": "",
            "zerolinecolor": "white"
           },
           "yaxis": {
            "backgroundcolor": "#E5ECF6",
            "gridcolor": "white",
            "gridwidth": 2,
            "linecolor": "white",
            "showbackground": true,
            "ticks": "",
            "zerolinecolor": "white"
           },
           "zaxis": {
            "backgroundcolor": "#E5ECF6",
            "gridcolor": "white",
            "gridwidth": 2,
            "linecolor": "white",
            "showbackground": true,
            "ticks": "",
            "zerolinecolor": "white"
           }
          },
          "shapedefaults": {
           "line": {
            "color": "#2a3f5f"
           }
          },
          "ternary": {
           "aaxis": {
            "gridcolor": "white",
            "linecolor": "white",
            "ticks": ""
           },
           "baxis": {
            "gridcolor": "white",
            "linecolor": "white",
            "ticks": ""
           },
           "bgcolor": "#E5ECF6",
           "caxis": {
            "gridcolor": "white",
            "linecolor": "white",
            "ticks": ""
           }
          },
          "title": {
           "x": 0.05
          },
          "xaxis": {
           "automargin": true,
           "gridcolor": "white",
           "linecolor": "white",
           "ticks": "",
           "title": {
            "standoff": 15
           },
           "zerolinecolor": "white",
           "zerolinewidth": 2
          },
          "yaxis": {
           "automargin": true,
           "gridcolor": "white",
           "linecolor": "white",
           "ticks": "",
           "title": {
            "standoff": 15
           },
           "zerolinecolor": "white",
           "zerolinewidth": 2
          }
         }
        },
        "title": {
         "text": "SKU_ID between [10, 20]"
        },
        "xaxis": {
         "anchor": "y",
         "domain": [
          0,
          1
         ],
         "title": {
          "text": "ORDER_RANK"
         }
        },
        "yaxis": {
         "anchor": "x",
         "domain": [
          0,
          1
         ],
         "title": {
          "text": "RATE_cumsum"
         }
        }
       }
      }
     },
     "metadata": {},
     "output_type": "display_data"
    },
    {
     "data": {
      "application/vnd.plotly.v1+json": {
       "config": {
        "plotlyServerURL": "https://plot.ly"
       },
       "data": [
        {
         "customdata": [
          [
           492,
           1470,
           0.11675367821547224,
           29
          ],
          [
           492,
           1470,
           0.11675367821547224,
           29
          ],
          [
           492,
           1470,
           0.11675367821547224,
           29
          ],
          [
           492,
           1470,
           0.11675367821547224,
           29
          ],
          [
           492,
           1470,
           0.11675367821547224,
           29
          ],
          [
           492,
           1470,
           0.11675367821547224,
           29
          ],
          [
           492,
           1470,
           0.11675367821547224,
           29
          ],
          [
           492,
           1470,
           0.11675367821547224,
           29
          ],
          [
           492,
           1470,
           0.11675367821547224,
           29
          ],
          [
           492,
           1470,
           0.11675367821547224,
           29
          ],
          [
           492,
           1470,
           0.11675367821547224,
           29
          ],
          [
           492,
           1470,
           0.11675367821547224,
           29
          ],
          [
           492,
           1470,
           0.11675367821547224,
           29
          ],
          [
           492,
           1470,
           0.11675367821547224,
           29
          ],
          [
           492,
           1470,
           0.11675367821547224,
           29
          ],
          [
           492,
           1470,
           0.11675367821547224,
           29
          ],
          [
           492,
           1470,
           0.11675367821547224,
           29
          ],
          [
           492,
           1470,
           0.11675367821547224,
           29
          ],
          [
           492,
           1470,
           0.11675367821547224,
           29
          ],
          [
           492,
           1470,
           0.11675367821547224,
           29
          ],
          [
           492,
           1470,
           0.11675367821547224,
           29
          ],
          [
           492,
           1470,
           0.11675367821547224,
           29
          ],
          [
           492,
           1470,
           0.11675367821547224,
           29
          ],
          [
           492,
           1470,
           0.11675367821547224,
           29
          ],
          [
           492,
           1470,
           0.11675367821547224,
           29
          ],
          [
           492,
           1470,
           0.11675367821547224,
           29
          ],
          [
           492,
           1470,
           0.11675367821547224,
           29
          ],
          [
           492,
           1470,
           0.11675367821547224,
           29
          ],
          [
           492,
           1470,
           0.11675367821547224,
           29
          ],
          [
           492,
           1470,
           0.11675367821547224,
           29
          ],
          [
           492,
           1470,
           0.11675367821547224,
           29
          ],
          [
           492,
           1470,
           0.11675367821547224,
           29
          ],
          [
           492,
           1470,
           0.11675367821547224,
           29
          ],
          [
           492,
           1470,
           0.11675367821547224,
           29
          ],
          [
           492,
           1470,
           0.11675367821547224,
           29
          ],
          [
           492,
           1470,
           0.11675367821547224,
           29
          ],
          [
           492,
           1470,
           0.11675367821547224,
           29
          ],
          [
           492,
           1470,
           0.11675367821547224,
           29
          ],
          [
           492,
           1470,
           0.11675367821547224,
           29
          ],
          [
           492,
           1470,
           0.11675367821547224,
           29
          ],
          [
           492,
           1470,
           0.11675367821547224,
           29
          ],
          [
           492,
           1470,
           0.11675367821547224,
           29
          ],
          [
           492,
           1470,
           0.11675367821547224,
           29
          ],
          [
           492,
           1470,
           0.11675367821547224,
           29
          ],
          [
           492,
           1470,
           0.11675367821547224,
           29
          ],
          [
           492,
           1470,
           0.11675367821547224,
           29
          ],
          [
           492,
           1470,
           0.11675367821547224,
           29
          ],
          [
           492,
           1470,
           0.11675367821547224,
           29
          ],
          [
           492,
           1470,
           0.11675367821547224,
           29
          ],
          [
           492,
           1470,
           0.11675367821547224,
           29
          ],
          [
           492,
           1470,
           0.11675367821547224,
           29
          ],
          [
           492,
           1470,
           0.11675367821547224,
           29
          ],
          [
           492,
           1470,
           0.11675367821547224,
           29
          ],
          [
           492,
           1470,
           0.11675367821547224,
           29
          ],
          [
           492,
           1470,
           0.11675367821547224,
           29
          ],
          [
           492,
           1470,
           0.11675367821547224,
           29
          ],
          [
           492,
           1470,
           0.11675367821547224,
           29
          ],
          [
           492,
           1470,
           0.11675367821547224,
           29
          ],
          [
           492,
           1470,
           0.11675367821547224,
           29
          ],
          [
           492,
           1470,
           0.11675367821547224,
           29
          ],
          [
           492,
           1470,
           0.11675367821547224,
           29
          ]
         ],
         "hovertemplate": "SKU_ID=14191<br>ORDER_RANK=%{x}<br>RATE_cumsum=%{y}<br>SKUID_total_customers=%{customdata[0]}<br>SKUID_total_transactions=%{customdata[1]}<br>SKUID_total_probability_rate=%{customdata[2]}<br>product_rank_bytotalprobrate=%{customdata[3]}<extra></extra>",
         "legendgroup": "14191",
         "line": {
          "color": "#636efa",
          "dash": "solid"
         },
         "marker": {
          "symbol": "circle"
         },
         "mode": "lines",
         "name": "14191",
         "orientation": "v",
         "showlegend": true,
         "type": "scatter",
         "x": [
          1,
          2,
          3,
          4,
          5,
          6,
          7,
          8,
          9,
          10,
          11,
          12,
          13,
          14,
          15,
          16,
          17,
          18,
          19,
          20,
          21,
          22,
          23,
          24,
          25,
          26,
          27,
          28,
          29,
          30,
          31,
          32,
          33,
          34,
          35,
          36,
          37,
          38,
          39,
          40,
          41,
          42,
          43,
          44,
          45,
          46,
          47,
          48,
          49,
          50,
          51,
          52,
          53,
          54,
          55,
          56,
          57,
          58,
          59,
          60,
          61
         ],
         "xaxis": "x",
         "y": [
          0.03298528713811106,
          0.04579971523493118,
          0.05742762221167537,
          0.0681063122923588,
          0.07664926435690556,
          0.08803986710963456,
          0.09705742762221167,
          0.10251542477456099,
          0.10678690080683437,
          0.10963455149501661,
          0.11224489795918367,
          0.11390602752728998,
          0.11485524442335074,
          0.11509254864736593,
          0.11532985287138112,
          0.11532985287138112,
          0.11532985287138112,
          0.1158044613194115,
          0.1158044613194115,
          0.11627906976744186,
          0.11675367821547224,
          0.11675367821547224,
          0.11675367821547224,
          0.11675367821547224,
          0.11675367821547224,
          0.11675367821547224,
          0.11675367821547224,
          0.11675367821547224,
          0.11675367821547224,
          0.11675367821547224,
          0.11675367821547224,
          0.11675367821547224,
          0.11675367821547224,
          0.11675367821547224,
          0.11675367821547224,
          0.11675367821547224,
          0.11675367821547224,
          0.11675367821547224,
          0.11675367821547224,
          0.11675367821547224,
          0.11675367821547224,
          0.11675367821547224,
          0.11675367821547224,
          0.11675367821547224,
          0.11675367821547224,
          0.11675367821547224,
          0.11675367821547224,
          0.11675367821547224,
          0.11675367821547224,
          0.11675367821547224,
          0.11675367821547224,
          0.11675367821547224,
          0.11675367821547224,
          0.11675367821547224,
          0.11675367821547224,
          0.11675367821547224,
          0.11675367821547224,
          0.11675367821547224,
          0.11675367821547224,
          0.11675367821547224,
          0.11675367821547224
         ],
         "yaxis": "y"
        },
        {
         "customdata": [
          [
           488,
           1430,
           0.11580446131941148,
           30
          ],
          [
           488,
           1430,
           0.11580446131941148,
           30
          ],
          [
           488,
           1430,
           0.11580446131941148,
           30
          ],
          [
           488,
           1430,
           0.11580446131941148,
           30
          ],
          [
           488,
           1430,
           0.11580446131941148,
           30
          ],
          [
           488,
           1430,
           0.11580446131941148,
           30
          ],
          [
           488,
           1430,
           0.11580446131941148,
           30
          ],
          [
           488,
           1430,
           0.11580446131941148,
           30
          ],
          [
           488,
           1430,
           0.11580446131941148,
           30
          ],
          [
           488,
           1430,
           0.11580446131941148,
           30
          ],
          [
           488,
           1430,
           0.11580446131941148,
           30
          ],
          [
           488,
           1430,
           0.11580446131941148,
           30
          ],
          [
           488,
           1430,
           0.11580446131941148,
           30
          ],
          [
           488,
           1430,
           0.11580446131941148,
           30
          ],
          [
           488,
           1430,
           0.11580446131941148,
           30
          ],
          [
           488,
           1430,
           0.11580446131941148,
           30
          ],
          [
           488,
           1430,
           0.11580446131941148,
           30
          ],
          [
           488,
           1430,
           0.11580446131941148,
           30
          ],
          [
           488,
           1430,
           0.11580446131941148,
           30
          ],
          [
           488,
           1430,
           0.11580446131941148,
           30
          ],
          [
           488,
           1430,
           0.11580446131941148,
           30
          ],
          [
           488,
           1430,
           0.11580446131941148,
           30
          ],
          [
           488,
           1430,
           0.11580446131941148,
           30
          ],
          [
           488,
           1430,
           0.11580446131941148,
           30
          ],
          [
           488,
           1430,
           0.11580446131941148,
           30
          ],
          [
           488,
           1430,
           0.11580446131941148,
           30
          ],
          [
           488,
           1430,
           0.11580446131941148,
           30
          ],
          [
           488,
           1430,
           0.11580446131941148,
           30
          ],
          [
           488,
           1430,
           0.11580446131941148,
           30
          ],
          [
           488,
           1430,
           0.11580446131941148,
           30
          ],
          [
           488,
           1430,
           0.11580446131941148,
           30
          ],
          [
           488,
           1430,
           0.11580446131941148,
           30
          ],
          [
           488,
           1430,
           0.11580446131941148,
           30
          ],
          [
           488,
           1430,
           0.11580446131941148,
           30
          ],
          [
           488,
           1430,
           0.11580446131941148,
           30
          ],
          [
           488,
           1430,
           0.11580446131941148,
           30
          ],
          [
           488,
           1430,
           0.11580446131941148,
           30
          ],
          [
           488,
           1430,
           0.11580446131941148,
           30
          ],
          [
           488,
           1430,
           0.11580446131941148,
           30
          ],
          [
           488,
           1430,
           0.11580446131941148,
           30
          ],
          [
           488,
           1430,
           0.11580446131941148,
           30
          ],
          [
           488,
           1430,
           0.11580446131941148,
           30
          ],
          [
           488,
           1430,
           0.11580446131941148,
           30
          ],
          [
           488,
           1430,
           0.11580446131941148,
           30
          ],
          [
           488,
           1430,
           0.11580446131941148,
           30
          ],
          [
           488,
           1430,
           0.11580446131941148,
           30
          ],
          [
           488,
           1430,
           0.11580446131941148,
           30
          ],
          [
           488,
           1430,
           0.11580446131941148,
           30
          ],
          [
           488,
           1430,
           0.11580446131941148,
           30
          ],
          [
           488,
           1430,
           0.11580446131941148,
           30
          ],
          [
           488,
           1430,
           0.11580446131941148,
           30
          ],
          [
           488,
           1430,
           0.11580446131941148,
           30
          ],
          [
           488,
           1430,
           0.11580446131941148,
           30
          ],
          [
           488,
           1430,
           0.11580446131941148,
           30
          ],
          [
           488,
           1430,
           0.11580446131941148,
           30
          ],
          [
           488,
           1430,
           0.11580446131941148,
           30
          ],
          [
           488,
           1430,
           0.11580446131941148,
           30
          ],
          [
           488,
           1430,
           0.11580446131941148,
           30
          ],
          [
           488,
           1430,
           0.11580446131941148,
           30
          ],
          [
           488,
           1430,
           0.11580446131941148,
           30
          ]
         ],
         "hovertemplate": "SKU_ID=14622<br>ORDER_RANK=%{x}<br>RATE_cumsum=%{y}<br>SKUID_total_customers=%{customdata[0]}<br>SKUID_total_transactions=%{customdata[1]}<br>SKUID_total_probability_rate=%{customdata[2]}<br>product_rank_bytotalprobrate=%{customdata[3]}<extra></extra>",
         "legendgroup": "14622",
         "line": {
          "color": "#EF553B",
          "dash": "solid"
         },
         "marker": {
          "symbol": "circle"
         },
         "mode": "lines",
         "name": "14622",
         "orientation": "v",
         "showlegend": true,
         "type": "scatter",
         "x": [
          1,
          2,
          3,
          4,
          5,
          6,
          7,
          8,
          9,
          10,
          11,
          12,
          13,
          14,
          15,
          16,
          17,
          18,
          19,
          20,
          21,
          22,
          23,
          24,
          25,
          26,
          27,
          28,
          29,
          30,
          31,
          32,
          33,
          34,
          35,
          36,
          37,
          38,
          39,
          40,
          41,
          42,
          43,
          44,
          45,
          46,
          47,
          48,
          49,
          50,
          51,
          52,
          53,
          54,
          55,
          56,
          57,
          58,
          59,
          61
         ],
         "xaxis": "x",
         "y": [
          0.044613194114855245,
          0.07356430944470811,
          0.08827717133364973,
          0.09492168960607499,
          0.10014238253440912,
          0.10465116279069768,
          0.1079734219269103,
          0.11034646416706217,
          0.1115329852871381,
          0.1134314190792596,
          0.11461794019933555,
          0.11485524442335074,
          0.11532985287138112,
          0.11556715709539629,
          0.11556715709539629,
          0.11556715709539629,
          0.11556715709539629,
          0.11556715709539629,
          0.11580446131941148,
          0.11580446131941148,
          0.11580446131941148,
          0.11580446131941148,
          0.11580446131941148,
          0.11580446131941148,
          0.11580446131941148,
          0.11580446131941148,
          0.11580446131941148,
          0.11580446131941148,
          0.11580446131941148,
          0.11580446131941148,
          0.11580446131941148,
          0.11580446131941148,
          0.11580446131941148,
          0.11580446131941148,
          0.11580446131941148,
          0.11580446131941148,
          0.11580446131941148,
          0.11580446131941148,
          0.11580446131941148,
          0.11580446131941148,
          0.11580446131941148,
          0.11580446131941148,
          0.11580446131941148,
          0.11580446131941148,
          0.11580446131941148,
          0.11580446131941148,
          0.11580446131941148,
          0.11580446131941148,
          0.11580446131941148,
          0.11580446131941148,
          0.11580446131941148,
          0.11580446131941148,
          0.11580446131941148,
          0.11580446131941148,
          0.11580446131941148,
          0.11580446131941148,
          0.11580446131941148,
          0.11580446131941148,
          0.11580446131941148,
          0.11580446131941148
         ],
         "yaxis": "y"
        },
        {
         "customdata": [
          [
           531,
           1080,
           0.12600854295206454,
           26
          ],
          [
           531,
           1080,
           0.12600854295206454,
           26
          ],
          [
           531,
           1080,
           0.12600854295206454,
           26
          ],
          [
           531,
           1080,
           0.12600854295206454,
           26
          ],
          [
           531,
           1080,
           0.12600854295206454,
           26
          ],
          [
           531,
           1080,
           0.12600854295206454,
           26
          ],
          [
           531,
           1080,
           0.12600854295206454,
           26
          ],
          [
           531,
           1080,
           0.12600854295206454,
           26
          ],
          [
           531,
           1080,
           0.12600854295206454,
           26
          ],
          [
           531,
           1080,
           0.12600854295206454,
           26
          ],
          [
           531,
           1080,
           0.12600854295206454,
           26
          ],
          [
           531,
           1080,
           0.12600854295206454,
           26
          ],
          [
           531,
           1080,
           0.12600854295206454,
           26
          ],
          [
           531,
           1080,
           0.12600854295206454,
           26
          ],
          [
           531,
           1080,
           0.12600854295206454,
           26
          ],
          [
           531,
           1080,
           0.12600854295206454,
           26
          ],
          [
           531,
           1080,
           0.12600854295206454,
           26
          ],
          [
           531,
           1080,
           0.12600854295206454,
           26
          ],
          [
           531,
           1080,
           0.12600854295206454,
           26
          ],
          [
           531,
           1080,
           0.12600854295206454,
           26
          ],
          [
           531,
           1080,
           0.12600854295206454,
           26
          ],
          [
           531,
           1080,
           0.12600854295206454,
           26
          ],
          [
           531,
           1080,
           0.12600854295206454,
           26
          ],
          [
           531,
           1080,
           0.12600854295206454,
           26
          ],
          [
           531,
           1080,
           0.12600854295206454,
           26
          ],
          [
           531,
           1080,
           0.12600854295206454,
           26
          ],
          [
           531,
           1080,
           0.12600854295206454,
           26
          ],
          [
           531,
           1080,
           0.12600854295206454,
           26
          ],
          [
           531,
           1080,
           0.12600854295206454,
           26
          ],
          [
           531,
           1080,
           0.12600854295206454,
           26
          ],
          [
           531,
           1080,
           0.12600854295206454,
           26
          ],
          [
           531,
           1080,
           0.12600854295206454,
           26
          ],
          [
           531,
           1080,
           0.12600854295206454,
           26
          ],
          [
           531,
           1080,
           0.12600854295206454,
           26
          ],
          [
           531,
           1080,
           0.12600854295206454,
           26
          ],
          [
           531,
           1080,
           0.12600854295206454,
           26
          ],
          [
           531,
           1080,
           0.12600854295206454,
           26
          ],
          [
           531,
           1080,
           0.12600854295206454,
           26
          ],
          [
           531,
           1080,
           0.12600854295206454,
           26
          ],
          [
           531,
           1080,
           0.12600854295206454,
           26
          ],
          [
           531,
           1080,
           0.12600854295206454,
           26
          ],
          [
           531,
           1080,
           0.12600854295206454,
           26
          ],
          [
           531,
           1080,
           0.12600854295206454,
           26
          ],
          [
           531,
           1080,
           0.12600854295206454,
           26
          ],
          [
           531,
           1080,
           0.12600854295206454,
           26
          ],
          [
           531,
           1080,
           0.12600854295206454,
           26
          ],
          [
           531,
           1080,
           0.12600854295206454,
           26
          ],
          [
           531,
           1080,
           0.12600854295206454,
           26
          ],
          [
           531,
           1080,
           0.12600854295206454,
           26
          ],
          [
           531,
           1080,
           0.12600854295206454,
           26
          ],
          [
           531,
           1080,
           0.12600854295206454,
           26
          ],
          [
           531,
           1080,
           0.12600854295206454,
           26
          ],
          [
           531,
           1080,
           0.12600854295206454,
           26
          ],
          [
           531,
           1080,
           0.12600854295206454,
           26
          ],
          [
           531,
           1080,
           0.12600854295206454,
           26
          ],
          [
           531,
           1080,
           0.12600854295206454,
           26
          ],
          [
           531,
           1080,
           0.12600854295206454,
           26
          ],
          [
           531,
           1080,
           0.12600854295206454,
           26
          ],
          [
           531,
           1080,
           0.12600854295206454,
           26
          ],
          [
           531,
           1080,
           0.12600854295206454,
           26
          ],
          [
           531,
           1080,
           0.12600854295206454,
           26
          ],
          [
           531,
           1080,
           0.12600854295206454,
           26
          ],
          [
           531,
           1080,
           0.12600854295206454,
           26
          ],
          [
           531,
           1080,
           0.12600854295206454,
           26
          ],
          [
           531,
           1080,
           0.12600854295206454,
           26
          ],
          [
           531,
           1080,
           0.12600854295206454,
           26
          ],
          [
           531,
           1080,
           0.12600854295206454,
           26
          ]
         ],
         "hovertemplate": "SKU_ID=19019<br>ORDER_RANK=%{x}<br>RATE_cumsum=%{y}<br>SKUID_total_customers=%{customdata[0]}<br>SKUID_total_transactions=%{customdata[1]}<br>SKUID_total_probability_rate=%{customdata[2]}<br>product_rank_bytotalprobrate=%{customdata[3]}<extra></extra>",
         "legendgroup": "19019",
         "line": {
          "color": "#00cc96",
          "dash": "solid"
         },
         "marker": {
          "symbol": "circle"
         },
         "mode": "lines",
         "name": "19019",
         "orientation": "v",
         "showlegend": true,
         "type": "scatter",
         "x": [
          1,
          2,
          3,
          4,
          5,
          6,
          7,
          8,
          9,
          10,
          11,
          12,
          13,
          14,
          15,
          16,
          17,
          18,
          19,
          20,
          21,
          22,
          23,
          24,
          25,
          26,
          27,
          28,
          29,
          30,
          31,
          32,
          33,
          34,
          35,
          36,
          37,
          38,
          39,
          40,
          41,
          42,
          43,
          44,
          45,
          46,
          47,
          48,
          49,
          50,
          51,
          52,
          53,
          54,
          55,
          56,
          57,
          58,
          59,
          60,
          61,
          62,
          63,
          64,
          65,
          66,
          67
         ],
         "xaxis": "x",
         "y": [
          0.0567157095396298,
          0.08566682486948267,
          0.10109159943046986,
          0.11200759373516848,
          0.11770289511153298,
          0.12031324157570004,
          0.12244897959183673,
          0.12434741338395823,
          0.12482202183198861,
          0.12529663028001897,
          0.12529663028001897,
          0.12529663028001897,
          0.12529663028001897,
          0.12600854295206454,
          0.12600854295206454,
          0.12600854295206454,
          0.12600854295206454,
          0.12600854295206454,
          0.12600854295206454,
          0.12600854295206454,
          0.12600854295206454,
          0.12600854295206454,
          0.12600854295206454,
          0.12600854295206454,
          0.12600854295206454,
          0.12600854295206454,
          0.12600854295206454,
          0.12600854295206454,
          0.12600854295206454,
          0.12600854295206454,
          0.12600854295206454,
          0.12600854295206454,
          0.12600854295206454,
          0.12600854295206454,
          0.12600854295206454,
          0.12600854295206454,
          0.12600854295206454,
          0.12600854295206454,
          0.12600854295206454,
          0.12600854295206454,
          0.12600854295206454,
          0.12600854295206454,
          0.12600854295206454,
          0.12600854295206454,
          0.12600854295206454,
          0.12600854295206454,
          0.12600854295206454,
          0.12600854295206454,
          0.12600854295206454,
          0.12600854295206454,
          0.12600854295206454,
          0.12600854295206454,
          0.12600854295206454,
          0.12600854295206454,
          0.12600854295206454,
          0.12600854295206454,
          0.12600854295206454,
          0.12600854295206454,
          0.12600854295206454,
          0.12600854295206454,
          0.12600854295206454,
          0.12600854295206454,
          0.12600854295206454,
          0.12600854295206454,
          0.12600854295206454,
          0.12600854295206454,
          0.12600854295206454
         ],
         "yaxis": "y"
        },
        {
         "customdata": [
          [
           560,
           1390,
           0.132890365448505,
           25
          ],
          [
           560,
           1390,
           0.132890365448505,
           25
          ],
          [
           560,
           1390,
           0.132890365448505,
           25
          ],
          [
           560,
           1390,
           0.132890365448505,
           25
          ],
          [
           560,
           1390,
           0.132890365448505,
           25
          ],
          [
           560,
           1390,
           0.132890365448505,
           25
          ],
          [
           560,
           1390,
           0.132890365448505,
           25
          ],
          [
           560,
           1390,
           0.132890365448505,
           25
          ],
          [
           560,
           1390,
           0.132890365448505,
           25
          ],
          [
           560,
           1390,
           0.132890365448505,
           25
          ],
          [
           560,
           1390,
           0.132890365448505,
           25
          ],
          [
           560,
           1390,
           0.132890365448505,
           25
          ],
          [
           560,
           1390,
           0.132890365448505,
           25
          ],
          [
           560,
           1390,
           0.132890365448505,
           25
          ],
          [
           560,
           1390,
           0.132890365448505,
           25
          ],
          [
           560,
           1390,
           0.132890365448505,
           25
          ],
          [
           560,
           1390,
           0.132890365448505,
           25
          ],
          [
           560,
           1390,
           0.132890365448505,
           25
          ],
          [
           560,
           1390,
           0.132890365448505,
           25
          ],
          [
           560,
           1390,
           0.132890365448505,
           25
          ],
          [
           560,
           1390,
           0.132890365448505,
           25
          ],
          [
           560,
           1390,
           0.132890365448505,
           25
          ],
          [
           560,
           1390,
           0.132890365448505,
           25
          ],
          [
           560,
           1390,
           0.132890365448505,
           25
          ],
          [
           560,
           1390,
           0.132890365448505,
           25
          ],
          [
           560,
           1390,
           0.132890365448505,
           25
          ],
          [
           560,
           1390,
           0.132890365448505,
           25
          ],
          [
           560,
           1390,
           0.132890365448505,
           25
          ],
          [
           560,
           1390,
           0.132890365448505,
           25
          ],
          [
           560,
           1390,
           0.132890365448505,
           25
          ],
          [
           560,
           1390,
           0.132890365448505,
           25
          ],
          [
           560,
           1390,
           0.132890365448505,
           25
          ],
          [
           560,
           1390,
           0.132890365448505,
           25
          ],
          [
           560,
           1390,
           0.132890365448505,
           25
          ],
          [
           560,
           1390,
           0.132890365448505,
           25
          ],
          [
           560,
           1390,
           0.132890365448505,
           25
          ],
          [
           560,
           1390,
           0.132890365448505,
           25
          ],
          [
           560,
           1390,
           0.132890365448505,
           25
          ],
          [
           560,
           1390,
           0.132890365448505,
           25
          ],
          [
           560,
           1390,
           0.132890365448505,
           25
          ],
          [
           560,
           1390,
           0.132890365448505,
           25
          ],
          [
           560,
           1390,
           0.132890365448505,
           25
          ],
          [
           560,
           1390,
           0.132890365448505,
           25
          ],
          [
           560,
           1390,
           0.132890365448505,
           25
          ],
          [
           560,
           1390,
           0.132890365448505,
           25
          ],
          [
           560,
           1390,
           0.132890365448505,
           25
          ],
          [
           560,
           1390,
           0.132890365448505,
           25
          ],
          [
           560,
           1390,
           0.132890365448505,
           25
          ],
          [
           560,
           1390,
           0.132890365448505,
           25
          ],
          [
           560,
           1390,
           0.132890365448505,
           25
          ],
          [
           560,
           1390,
           0.132890365448505,
           25
          ],
          [
           560,
           1390,
           0.132890365448505,
           25
          ],
          [
           560,
           1390,
           0.132890365448505,
           25
          ],
          [
           560,
           1390,
           0.132890365448505,
           25
          ],
          [
           560,
           1390,
           0.132890365448505,
           25
          ],
          [
           560,
           1390,
           0.132890365448505,
           25
          ],
          [
           560,
           1390,
           0.132890365448505,
           25
          ],
          [
           560,
           1390,
           0.132890365448505,
           25
          ],
          [
           560,
           1390,
           0.132890365448505,
           25
          ],
          [
           560,
           1390,
           0.132890365448505,
           25
          ],
          [
           560,
           1390,
           0.132890365448505,
           25
          ]
         ],
         "hovertemplate": "SKU_ID=19336<br>ORDER_RANK=%{x}<br>RATE_cumsum=%{y}<br>SKUID_total_customers=%{customdata[0]}<br>SKUID_total_transactions=%{customdata[1]}<br>SKUID_total_probability_rate=%{customdata[2]}<br>product_rank_bytotalprobrate=%{customdata[3]}<extra></extra>",
         "legendgroup": "19336",
         "line": {
          "color": "#ab63fa",
          "dash": "solid"
         },
         "marker": {
          "symbol": "circle"
         },
         "mode": "lines",
         "name": "19336",
         "orientation": "v",
         "showlegend": true,
         "type": "scatter",
         "x": [
          1,
          2,
          3,
          4,
          5,
          6,
          7,
          8,
          9,
          10,
          11,
          12,
          13,
          14,
          15,
          16,
          17,
          18,
          19,
          20,
          21,
          22,
          23,
          24,
          25,
          26,
          27,
          28,
          29,
          30,
          31,
          32,
          33,
          34,
          35,
          36,
          37,
          38,
          39,
          40,
          41,
          42,
          43,
          44,
          45,
          46,
          47,
          48,
          49,
          50,
          51,
          52,
          53,
          54,
          55,
          56,
          57,
          58,
          59,
          60,
          61
         ],
         "xaxis": "x",
         "y": [
          0.052206929283341245,
          0.07736117702895112,
          0.0927859515899383,
          0.10536307546274325,
          0.11390602752729,
          0.12149976269577599,
          0.12458471760797343,
          0.12766967252017086,
          0.1288561936402468,
          0.13004271476032275,
          0.13099193165638348,
          0.13170384432842905,
          0.13170384432842905,
          0.13194114855244424,
          0.13217845277645943,
          0.13217845277645943,
          0.13241575700047462,
          0.13241575700047462,
          0.1326530612244898,
          0.132890365448505,
          0.132890365448505,
          0.132890365448505,
          0.132890365448505,
          0.132890365448505,
          0.132890365448505,
          0.132890365448505,
          0.132890365448505,
          0.132890365448505,
          0.132890365448505,
          0.132890365448505,
          0.132890365448505,
          0.132890365448505,
          0.132890365448505,
          0.132890365448505,
          0.132890365448505,
          0.132890365448505,
          0.132890365448505,
          0.132890365448505,
          0.132890365448505,
          0.132890365448505,
          0.132890365448505,
          0.132890365448505,
          0.132890365448505,
          0.132890365448505,
          0.132890365448505,
          0.132890365448505,
          0.132890365448505,
          0.132890365448505,
          0.132890365448505,
          0.132890365448505,
          0.132890365448505,
          0.132890365448505,
          0.132890365448505,
          0.132890365448505,
          0.132890365448505,
          0.132890365448505,
          0.132890365448505,
          0.132890365448505,
          0.132890365448505,
          0.132890365448505,
          0.132890365448505
         ],
         "yaxis": "y"
        },
        {
         "customdata": [
          [
           531,
           1391,
           0.12600854295206454,
           27
          ],
          [
           531,
           1391,
           0.12600854295206454,
           27
          ],
          [
           531,
           1391,
           0.12600854295206454,
           27
          ],
          [
           531,
           1391,
           0.12600854295206454,
           27
          ],
          [
           531,
           1391,
           0.12600854295206454,
           27
          ],
          [
           531,
           1391,
           0.12600854295206454,
           27
          ],
          [
           531,
           1391,
           0.12600854295206454,
           27
          ],
          [
           531,
           1391,
           0.12600854295206454,
           27
          ],
          [
           531,
           1391,
           0.12600854295206454,
           27
          ],
          [
           531,
           1391,
           0.12600854295206454,
           27
          ],
          [
           531,
           1391,
           0.12600854295206454,
           27
          ],
          [
           531,
           1391,
           0.12600854295206454,
           27
          ],
          [
           531,
           1391,
           0.12600854295206454,
           27
          ],
          [
           531,
           1391,
           0.12600854295206454,
           27
          ],
          [
           531,
           1391,
           0.12600854295206454,
           27
          ],
          [
           531,
           1391,
           0.12600854295206454,
           27
          ],
          [
           531,
           1391,
           0.12600854295206454,
           27
          ],
          [
           531,
           1391,
           0.12600854295206454,
           27
          ],
          [
           531,
           1391,
           0.12600854295206454,
           27
          ],
          [
           531,
           1391,
           0.12600854295206454,
           27
          ],
          [
           531,
           1391,
           0.12600854295206454,
           27
          ],
          [
           531,
           1391,
           0.12600854295206454,
           27
          ],
          [
           531,
           1391,
           0.12600854295206454,
           27
          ],
          [
           531,
           1391,
           0.12600854295206454,
           27
          ],
          [
           531,
           1391,
           0.12600854295206454,
           27
          ],
          [
           531,
           1391,
           0.12600854295206454,
           27
          ],
          [
           531,
           1391,
           0.12600854295206454,
           27
          ],
          [
           531,
           1391,
           0.12600854295206454,
           27
          ],
          [
           531,
           1391,
           0.12600854295206454,
           27
          ],
          [
           531,
           1391,
           0.12600854295206454,
           27
          ],
          [
           531,
           1391,
           0.12600854295206454,
           27
          ],
          [
           531,
           1391,
           0.12600854295206454,
           27
          ],
          [
           531,
           1391,
           0.12600854295206454,
           27
          ],
          [
           531,
           1391,
           0.12600854295206454,
           27
          ],
          [
           531,
           1391,
           0.12600854295206454,
           27
          ],
          [
           531,
           1391,
           0.12600854295206454,
           27
          ],
          [
           531,
           1391,
           0.12600854295206454,
           27
          ],
          [
           531,
           1391,
           0.12600854295206454,
           27
          ],
          [
           531,
           1391,
           0.12600854295206454,
           27
          ],
          [
           531,
           1391,
           0.12600854295206454,
           27
          ],
          [
           531,
           1391,
           0.12600854295206454,
           27
          ],
          [
           531,
           1391,
           0.12600854295206454,
           27
          ],
          [
           531,
           1391,
           0.12600854295206454,
           27
          ],
          [
           531,
           1391,
           0.12600854295206454,
           27
          ],
          [
           531,
           1391,
           0.12600854295206454,
           27
          ],
          [
           531,
           1391,
           0.12600854295206454,
           27
          ],
          [
           531,
           1391,
           0.12600854295206454,
           27
          ],
          [
           531,
           1391,
           0.12600854295206454,
           27
          ],
          [
           531,
           1391,
           0.12600854295206454,
           27
          ],
          [
           531,
           1391,
           0.12600854295206454,
           27
          ],
          [
           531,
           1391,
           0.12600854295206454,
           27
          ],
          [
           531,
           1391,
           0.12600854295206454,
           27
          ],
          [
           531,
           1391,
           0.12600854295206454,
           27
          ],
          [
           531,
           1391,
           0.12600854295206454,
           27
          ],
          [
           531,
           1391,
           0.12600854295206454,
           27
          ],
          [
           531,
           1391,
           0.12600854295206454,
           27
          ],
          [
           531,
           1391,
           0.12600854295206454,
           27
          ],
          [
           531,
           1391,
           0.12600854295206454,
           27
          ],
          [
           531,
           1391,
           0.12600854295206454,
           27
          ],
          [
           531,
           1391,
           0.12600854295206454,
           27
          ],
          [
           531,
           1391,
           0.12600854295206454,
           27
          ],
          [
           531,
           1391,
           0.12600854295206454,
           27
          ],
          [
           531,
           1391,
           0.12600854295206454,
           27
          ],
          [
           531,
           1391,
           0.12600854295206454,
           27
          ]
         ],
         "hovertemplate": "SKU_ID=20433<br>ORDER_RANK=%{x}<br>RATE_cumsum=%{y}<br>SKUID_total_customers=%{customdata[0]}<br>SKUID_total_transactions=%{customdata[1]}<br>SKUID_total_probability_rate=%{customdata[2]}<br>product_rank_bytotalprobrate=%{customdata[3]}<extra></extra>",
         "legendgroup": "20433",
         "line": {
          "color": "#FFA15A",
          "dash": "solid"
         },
         "marker": {
          "symbol": "circle"
         },
         "mode": "lines",
         "name": "20433",
         "orientation": "v",
         "showlegend": true,
         "type": "scatter",
         "x": [
          1,
          2,
          3,
          4,
          5,
          6,
          7,
          8,
          9,
          10,
          11,
          12,
          13,
          14,
          15,
          16,
          17,
          18,
          19,
          20,
          21,
          22,
          23,
          24,
          25,
          26,
          27,
          28,
          29,
          30,
          31,
          32,
          33,
          34,
          35,
          36,
          37,
          38,
          39,
          40,
          41,
          42,
          43,
          44,
          45,
          46,
          47,
          48,
          49,
          50,
          51,
          52,
          53,
          54,
          55,
          56,
          57,
          58,
          59,
          60,
          61,
          62,
          63,
          64
         ],
         "xaxis": "x",
         "y": [
          0.03345989558614143,
          0.05980066445182724,
          0.07285239677266254,
          0.08376839107736117,
          0.0927859515899383,
          0.10085429520645467,
          0.10583768391077361,
          0.1098718557190318,
          0.11248220218319886,
          0.11556715709539629,
          0.11794019933554817,
          0.1193640246796393,
          0.12007593735168486,
          0.12149976269577598,
          0.12221167536782154,
          0.12268628381585192,
          0.12339819648789749,
          0.12363550071191266,
          0.12363550071191266,
          0.12411010915994304,
          0.12458471760797342,
          0.12458471760797342,
          0.12458471760797342,
          0.12505932605600378,
          0.12529663028001897,
          0.12529663028001897,
          0.12529663028001897,
          0.12529663028001897,
          0.12529663028001897,
          0.12529663028001897,
          0.12529663028001897,
          0.12529663028001897,
          0.12529663028001897,
          0.12553393450403416,
          0.12553393450403416,
          0.12553393450403416,
          0.12553393450403416,
          0.12577123872804935,
          0.12577123872804935,
          0.12577123872804935,
          0.12577123872804935,
          0.12600854295206454,
          0.12600854295206454,
          0.12600854295206454,
          0.12600854295206454,
          0.12600854295206454,
          0.12600854295206454,
          0.12600854295206454,
          0.12600854295206454,
          0.12600854295206454,
          0.12600854295206454,
          0.12600854295206454,
          0.12600854295206454,
          0.12600854295206454,
          0.12600854295206454,
          0.12600854295206454,
          0.12600854295206454,
          0.12600854295206454,
          0.12600854295206454,
          0.12600854295206454,
          0.12600854295206454,
          0.12600854295206454,
          0.12600854295206454,
          0.12600854295206454
         ],
         "yaxis": "y"
        },
        {
         "customdata": [
          [
           728,
           2837,
           0.17275747508305647,
           21
          ],
          [
           728,
           2837,
           0.17275747508305647,
           21
          ],
          [
           728,
           2837,
           0.17275747508305647,
           21
          ],
          [
           728,
           2837,
           0.17275747508305647,
           21
          ],
          [
           728,
           2837,
           0.17275747508305647,
           21
          ],
          [
           728,
           2837,
           0.17275747508305647,
           21
          ],
          [
           728,
           2837,
           0.17275747508305647,
           21
          ],
          [
           728,
           2837,
           0.17275747508305647,
           21
          ],
          [
           728,
           2837,
           0.17275747508305647,
           21
          ],
          [
           728,
           2837,
           0.17275747508305647,
           21
          ],
          [
           728,
           2837,
           0.17275747508305647,
           21
          ],
          [
           728,
           2837,
           0.17275747508305647,
           21
          ],
          [
           728,
           2837,
           0.17275747508305647,
           21
          ],
          [
           728,
           2837,
           0.17275747508305647,
           21
          ],
          [
           728,
           2837,
           0.17275747508305647,
           21
          ],
          [
           728,
           2837,
           0.17275747508305647,
           21
          ],
          [
           728,
           2837,
           0.17275747508305647,
           21
          ],
          [
           728,
           2837,
           0.17275747508305647,
           21
          ],
          [
           728,
           2837,
           0.17275747508305647,
           21
          ],
          [
           728,
           2837,
           0.17275747508305647,
           21
          ],
          [
           728,
           2837,
           0.17275747508305647,
           21
          ],
          [
           728,
           2837,
           0.17275747508305647,
           21
          ],
          [
           728,
           2837,
           0.17275747508305647,
           21
          ],
          [
           728,
           2837,
           0.17275747508305647,
           21
          ],
          [
           728,
           2837,
           0.17275747508305647,
           21
          ],
          [
           728,
           2837,
           0.17275747508305647,
           21
          ],
          [
           728,
           2837,
           0.17275747508305647,
           21
          ],
          [
           728,
           2837,
           0.17275747508305647,
           21
          ],
          [
           728,
           2837,
           0.17275747508305647,
           21
          ],
          [
           728,
           2837,
           0.17275747508305647,
           21
          ],
          [
           728,
           2837,
           0.17275747508305647,
           21
          ],
          [
           728,
           2837,
           0.17275747508305647,
           21
          ],
          [
           728,
           2837,
           0.17275747508305647,
           21
          ],
          [
           728,
           2837,
           0.17275747508305647,
           21
          ],
          [
           728,
           2837,
           0.17275747508305647,
           21
          ],
          [
           728,
           2837,
           0.17275747508305647,
           21
          ],
          [
           728,
           2837,
           0.17275747508305647,
           21
          ],
          [
           728,
           2837,
           0.17275747508305647,
           21
          ],
          [
           728,
           2837,
           0.17275747508305647,
           21
          ],
          [
           728,
           2837,
           0.17275747508305647,
           21
          ],
          [
           728,
           2837,
           0.17275747508305647,
           21
          ],
          [
           728,
           2837,
           0.17275747508305647,
           21
          ],
          [
           728,
           2837,
           0.17275747508305647,
           21
          ],
          [
           728,
           2837,
           0.17275747508305647,
           21
          ],
          [
           728,
           2837,
           0.17275747508305647,
           21
          ],
          [
           728,
           2837,
           0.17275747508305647,
           21
          ],
          [
           728,
           2837,
           0.17275747508305647,
           21
          ],
          [
           728,
           2837,
           0.17275747508305647,
           21
          ],
          [
           728,
           2837,
           0.17275747508305647,
           21
          ],
          [
           728,
           2837,
           0.17275747508305647,
           21
          ],
          [
           728,
           2837,
           0.17275747508305647,
           21
          ],
          [
           728,
           2837,
           0.17275747508305647,
           21
          ],
          [
           728,
           2837,
           0.17275747508305647,
           21
          ],
          [
           728,
           2837,
           0.17275747508305647,
           21
          ],
          [
           728,
           2837,
           0.17275747508305647,
           21
          ],
          [
           728,
           2837,
           0.17275747508305647,
           21
          ],
          [
           728,
           2837,
           0.17275747508305647,
           21
          ],
          [
           728,
           2837,
           0.17275747508305647,
           21
          ],
          [
           728,
           2837,
           0.17275747508305647,
           21
          ],
          [
           728,
           2837,
           0.17275747508305647,
           21
          ],
          [
           728,
           2837,
           0.17275747508305647,
           21
          ],
          [
           728,
           2837,
           0.17275747508305647,
           21
          ],
          [
           728,
           2837,
           0.17275747508305647,
           21
          ],
          [
           728,
           2837,
           0.17275747508305647,
           21
          ]
         ],
         "hovertemplate": "SKU_ID=24118<br>ORDER_RANK=%{x}<br>RATE_cumsum=%{y}<br>SKUID_total_customers=%{customdata[0]}<br>SKUID_total_transactions=%{customdata[1]}<br>SKUID_total_probability_rate=%{customdata[2]}<br>product_rank_bytotalprobrate=%{customdata[3]}<extra></extra>",
         "legendgroup": "24118",
         "line": {
          "color": "#19d3f3",
          "dash": "solid"
         },
         "marker": {
          "symbol": "circle"
         },
         "mode": "lines",
         "name": "24118",
         "orientation": "v",
         "showlegend": true,
         "type": "scatter",
         "x": [
          1,
          2,
          3,
          4,
          5,
          6,
          7,
          8,
          9,
          10,
          11,
          12,
          13,
          14,
          15,
          16,
          17,
          18,
          19,
          20,
          21,
          22,
          23,
          24,
          25,
          26,
          27,
          28,
          29,
          30,
          31,
          32,
          33,
          34,
          35,
          36,
          37,
          38,
          39,
          40,
          41,
          42,
          43,
          44,
          45,
          46,
          47,
          48,
          49,
          50,
          51,
          52,
          53,
          54,
          55,
          56,
          57,
          58,
          59,
          60,
          61,
          62,
          63,
          65
         ],
         "xaxis": "x",
         "y": [
          0.0700047460844803,
          0.10180351210251543,
          0.12648315140009492,
          0.140484100616991,
          0.1497389653535833,
          0.1549596582819174,
          0.15875652586616043,
          0.1611295681063123,
          0.16397721879449453,
          0.1646891314665401,
          0.16635026103464642,
          0.16801139060275272,
          0.1684859990507831,
          0.1687233032747983,
          0.16990982439487423,
          0.17014712861888942,
          0.170859041290935,
          0.17109634551495018,
          0.17180825818699572,
          0.1722828666350261,
          0.1722828666350261,
          0.1722828666350261,
          0.1722828666350261,
          0.1722828666350261,
          0.17252017085904128,
          0.17252017085904128,
          0.17252017085904128,
          0.17252017085904128,
          0.17252017085904128,
          0.17275747508305647,
          0.17275747508305647,
          0.17275747508305647,
          0.17275747508305647,
          0.17275747508305647,
          0.17275747508305647,
          0.17275747508305647,
          0.17275747508305647,
          0.17275747508305647,
          0.17275747508305647,
          0.17275747508305647,
          0.17275747508305647,
          0.17275747508305647,
          0.17275747508305647,
          0.17275747508305647,
          0.17275747508305647,
          0.17275747508305647,
          0.17275747508305647,
          0.17275747508305647,
          0.17275747508305647,
          0.17275747508305647,
          0.17275747508305647,
          0.17275747508305647,
          0.17275747508305647,
          0.17275747508305647,
          0.17275747508305647,
          0.17275747508305647,
          0.17275747508305647,
          0.17275747508305647,
          0.17275747508305647,
          0.17275747508305647,
          0.17275747508305647,
          0.17275747508305647,
          0.17275747508305647,
          0.17275747508305647
         ],
         "yaxis": "y"
        },
        {
         "customdata": [
          [
           689,
           1713,
           0.16350261034646416,
           23
          ],
          [
           689,
           1713,
           0.16350261034646416,
           23
          ],
          [
           689,
           1713,
           0.16350261034646416,
           23
          ],
          [
           689,
           1713,
           0.16350261034646416,
           23
          ],
          [
           689,
           1713,
           0.16350261034646416,
           23
          ],
          [
           689,
           1713,
           0.16350261034646416,
           23
          ],
          [
           689,
           1713,
           0.16350261034646416,
           23
          ],
          [
           689,
           1713,
           0.16350261034646416,
           23
          ],
          [
           689,
           1713,
           0.16350261034646416,
           23
          ],
          [
           689,
           1713,
           0.16350261034646416,
           23
          ],
          [
           689,
           1713,
           0.16350261034646416,
           23
          ],
          [
           689,
           1713,
           0.16350261034646416,
           23
          ],
          [
           689,
           1713,
           0.16350261034646416,
           23
          ],
          [
           689,
           1713,
           0.16350261034646416,
           23
          ],
          [
           689,
           1713,
           0.16350261034646416,
           23
          ],
          [
           689,
           1713,
           0.16350261034646416,
           23
          ],
          [
           689,
           1713,
           0.16350261034646416,
           23
          ],
          [
           689,
           1713,
           0.16350261034646416,
           23
          ],
          [
           689,
           1713,
           0.16350261034646416,
           23
          ],
          [
           689,
           1713,
           0.16350261034646416,
           23
          ],
          [
           689,
           1713,
           0.16350261034646416,
           23
          ],
          [
           689,
           1713,
           0.16350261034646416,
           23
          ],
          [
           689,
           1713,
           0.16350261034646416,
           23
          ],
          [
           689,
           1713,
           0.16350261034646416,
           23
          ],
          [
           689,
           1713,
           0.16350261034646416,
           23
          ],
          [
           689,
           1713,
           0.16350261034646416,
           23
          ],
          [
           689,
           1713,
           0.16350261034646416,
           23
          ],
          [
           689,
           1713,
           0.16350261034646416,
           23
          ],
          [
           689,
           1713,
           0.16350261034646416,
           23
          ],
          [
           689,
           1713,
           0.16350261034646416,
           23
          ],
          [
           689,
           1713,
           0.16350261034646416,
           23
          ],
          [
           689,
           1713,
           0.16350261034646416,
           23
          ],
          [
           689,
           1713,
           0.16350261034646416,
           23
          ],
          [
           689,
           1713,
           0.16350261034646416,
           23
          ],
          [
           689,
           1713,
           0.16350261034646416,
           23
          ],
          [
           689,
           1713,
           0.16350261034646416,
           23
          ],
          [
           689,
           1713,
           0.16350261034646416,
           23
          ],
          [
           689,
           1713,
           0.16350261034646416,
           23
          ],
          [
           689,
           1713,
           0.16350261034646416,
           23
          ],
          [
           689,
           1713,
           0.16350261034646416,
           23
          ],
          [
           689,
           1713,
           0.16350261034646416,
           23
          ],
          [
           689,
           1713,
           0.16350261034646416,
           23
          ],
          [
           689,
           1713,
           0.16350261034646416,
           23
          ],
          [
           689,
           1713,
           0.16350261034646416,
           23
          ],
          [
           689,
           1713,
           0.16350261034646416,
           23
          ],
          [
           689,
           1713,
           0.16350261034646416,
           23
          ],
          [
           689,
           1713,
           0.16350261034646416,
           23
          ],
          [
           689,
           1713,
           0.16350261034646416,
           23
          ],
          [
           689,
           1713,
           0.16350261034646416,
           23
          ],
          [
           689,
           1713,
           0.16350261034646416,
           23
          ],
          [
           689,
           1713,
           0.16350261034646416,
           23
          ],
          [
           689,
           1713,
           0.16350261034646416,
           23
          ],
          [
           689,
           1713,
           0.16350261034646416,
           23
          ],
          [
           689,
           1713,
           0.16350261034646416,
           23
          ],
          [
           689,
           1713,
           0.16350261034646416,
           23
          ],
          [
           689,
           1713,
           0.16350261034646416,
           23
          ]
         ],
         "hovertemplate": "SKU_ID=24932<br>ORDER_RANK=%{x}<br>RATE_cumsum=%{y}<br>SKUID_total_customers=%{customdata[0]}<br>SKUID_total_transactions=%{customdata[1]}<br>SKUID_total_probability_rate=%{customdata[2]}<br>product_rank_bytotalprobrate=%{customdata[3]}<extra></extra>",
         "legendgroup": "24932",
         "line": {
          "color": "#FF6692",
          "dash": "solid"
         },
         "marker": {
          "symbol": "circle"
         },
         "mode": "lines",
         "name": "24932",
         "orientation": "v",
         "showlegend": true,
         "type": "scatter",
         "x": [
          1,
          2,
          3,
          4,
          5,
          6,
          7,
          8,
          9,
          10,
          11,
          12,
          13,
          14,
          15,
          16,
          17,
          18,
          19,
          20,
          21,
          22,
          23,
          24,
          25,
          26,
          27,
          28,
          29,
          30,
          31,
          32,
          33,
          34,
          35,
          36,
          37,
          38,
          39,
          40,
          41,
          42,
          43,
          44,
          45,
          46,
          47,
          48,
          49,
          50,
          51,
          52,
          53,
          54,
          55,
          56
         ],
         "xaxis": "x",
         "y": [
          0.047223540579022304,
          0.07403891789273849,
          0.09539629805410536,
          0.1153298528713811,
          0.13028001898433791,
          0.13953488372093023,
          0.1473659231134314,
          0.15234931181775035,
          0.15567157095396297,
          0.15780730897009967,
          0.15923113431419078,
          0.16018035121025154,
          0.1611295681063123,
          0.16207878500237305,
          0.16231608922638824,
          0.1625533934504034,
          0.1627906976744186,
          0.16302800189843378,
          0.16302800189843378,
          0.16302800189843378,
          0.16326530612244897,
          0.16326530612244897,
          0.16350261034646416,
          0.16350261034646416,
          0.16350261034646416,
          0.16350261034646416,
          0.16350261034646416,
          0.16350261034646416,
          0.16350261034646416,
          0.16350261034646416,
          0.16350261034646416,
          0.16350261034646416,
          0.16350261034646416,
          0.16350261034646416,
          0.16350261034646416,
          0.16350261034646416,
          0.16350261034646416,
          0.16350261034646416,
          0.16350261034646416,
          0.16350261034646416,
          0.16350261034646416,
          0.16350261034646416,
          0.16350261034646416,
          0.16350261034646416,
          0.16350261034646416,
          0.16350261034646416,
          0.16350261034646416,
          0.16350261034646416,
          0.16350261034646416,
          0.16350261034646416,
          0.16350261034646416,
          0.16350261034646416,
          0.16350261034646416,
          0.16350261034646416,
          0.16350261034646416,
          0.16350261034646416
         ],
         "yaxis": "y"
        },
        {
         "customdata": [
          [
           693,
           1883,
           0.1644518272425249,
           22
          ],
          [
           693,
           1883,
           0.1644518272425249,
           22
          ],
          [
           693,
           1883,
           0.1644518272425249,
           22
          ],
          [
           693,
           1883,
           0.1644518272425249,
           22
          ],
          [
           693,
           1883,
           0.1644518272425249,
           22
          ],
          [
           693,
           1883,
           0.1644518272425249,
           22
          ],
          [
           693,
           1883,
           0.1644518272425249,
           22
          ],
          [
           693,
           1883,
           0.1644518272425249,
           22
          ],
          [
           693,
           1883,
           0.1644518272425249,
           22
          ],
          [
           693,
           1883,
           0.1644518272425249,
           22
          ],
          [
           693,
           1883,
           0.1644518272425249,
           22
          ],
          [
           693,
           1883,
           0.1644518272425249,
           22
          ],
          [
           693,
           1883,
           0.1644518272425249,
           22
          ],
          [
           693,
           1883,
           0.1644518272425249,
           22
          ],
          [
           693,
           1883,
           0.1644518272425249,
           22
          ],
          [
           693,
           1883,
           0.1644518272425249,
           22
          ],
          [
           693,
           1883,
           0.1644518272425249,
           22
          ],
          [
           693,
           1883,
           0.1644518272425249,
           22
          ],
          [
           693,
           1883,
           0.1644518272425249,
           22
          ],
          [
           693,
           1883,
           0.1644518272425249,
           22
          ],
          [
           693,
           1883,
           0.1644518272425249,
           22
          ],
          [
           693,
           1883,
           0.1644518272425249,
           22
          ],
          [
           693,
           1883,
           0.1644518272425249,
           22
          ],
          [
           693,
           1883,
           0.1644518272425249,
           22
          ],
          [
           693,
           1883,
           0.1644518272425249,
           22
          ],
          [
           693,
           1883,
           0.1644518272425249,
           22
          ],
          [
           693,
           1883,
           0.1644518272425249,
           22
          ],
          [
           693,
           1883,
           0.1644518272425249,
           22
          ],
          [
           693,
           1883,
           0.1644518272425249,
           22
          ],
          [
           693,
           1883,
           0.1644518272425249,
           22
          ],
          [
           693,
           1883,
           0.1644518272425249,
           22
          ],
          [
           693,
           1883,
           0.1644518272425249,
           22
          ],
          [
           693,
           1883,
           0.1644518272425249,
           22
          ],
          [
           693,
           1883,
           0.1644518272425249,
           22
          ],
          [
           693,
           1883,
           0.1644518272425249,
           22
          ],
          [
           693,
           1883,
           0.1644518272425249,
           22
          ],
          [
           693,
           1883,
           0.1644518272425249,
           22
          ],
          [
           693,
           1883,
           0.1644518272425249,
           22
          ],
          [
           693,
           1883,
           0.1644518272425249,
           22
          ],
          [
           693,
           1883,
           0.1644518272425249,
           22
          ],
          [
           693,
           1883,
           0.1644518272425249,
           22
          ],
          [
           693,
           1883,
           0.1644518272425249,
           22
          ],
          [
           693,
           1883,
           0.1644518272425249,
           22
          ],
          [
           693,
           1883,
           0.1644518272425249,
           22
          ],
          [
           693,
           1883,
           0.1644518272425249,
           22
          ],
          [
           693,
           1883,
           0.1644518272425249,
           22
          ],
          [
           693,
           1883,
           0.1644518272425249,
           22
          ],
          [
           693,
           1883,
           0.1644518272425249,
           22
          ],
          [
           693,
           1883,
           0.1644518272425249,
           22
          ],
          [
           693,
           1883,
           0.1644518272425249,
           22
          ],
          [
           693,
           1883,
           0.1644518272425249,
           22
          ],
          [
           693,
           1883,
           0.1644518272425249,
           22
          ],
          [
           693,
           1883,
           0.1644518272425249,
           22
          ],
          [
           693,
           1883,
           0.1644518272425249,
           22
          ],
          [
           693,
           1883,
           0.1644518272425249,
           22
          ],
          [
           693,
           1883,
           0.1644518272425249,
           22
          ],
          [
           693,
           1883,
           0.1644518272425249,
           22
          ]
         ],
         "hovertemplate": "SKU_ID=25119<br>ORDER_RANK=%{x}<br>RATE_cumsum=%{y}<br>SKUID_total_customers=%{customdata[0]}<br>SKUID_total_transactions=%{customdata[1]}<br>SKUID_total_probability_rate=%{customdata[2]}<br>product_rank_bytotalprobrate=%{customdata[3]}<extra></extra>",
         "legendgroup": "25119",
         "line": {
          "color": "#B6E880",
          "dash": "solid"
         },
         "marker": {
          "symbol": "circle"
         },
         "mode": "lines",
         "name": "25119",
         "orientation": "v",
         "showlegend": true,
         "type": "scatter",
         "x": [
          1,
          2,
          3,
          4,
          5,
          6,
          7,
          8,
          9,
          10,
          11,
          12,
          13,
          14,
          15,
          16,
          17,
          18,
          19,
          20,
          21,
          22,
          23,
          24,
          25,
          26,
          27,
          28,
          29,
          30,
          31,
          32,
          33,
          34,
          35,
          36,
          37,
          38,
          39,
          40,
          41,
          42,
          43,
          44,
          45,
          46,
          47,
          48,
          49,
          50,
          51,
          52,
          53,
          54,
          55,
          56,
          57
         ],
         "xaxis": "x",
         "y": [
          0.04912197437114381,
          0.08400569530137636,
          0.10560037968675842,
          0.12078785002373042,
          0.13360227812055056,
          0.14072140484100618,
          0.1478405315614618,
          0.15234931181775035,
          0.15495965828191743,
          0.15828191741813005,
          0.15899383009017562,
          0.16018035121025154,
          0.16160417655434267,
          0.16231608922638824,
          0.16279069767441862,
          0.16373991457047934,
          0.16397721879449453,
          0.16421452301850972,
          0.16421452301850972,
          0.1644518272425249,
          0.1644518272425249,
          0.1644518272425249,
          0.1644518272425249,
          0.1644518272425249,
          0.1644518272425249,
          0.1644518272425249,
          0.1644518272425249,
          0.1644518272425249,
          0.1644518272425249,
          0.1644518272425249,
          0.1644518272425249,
          0.1644518272425249,
          0.1644518272425249,
          0.1644518272425249,
          0.1644518272425249,
          0.1644518272425249,
          0.1644518272425249,
          0.1644518272425249,
          0.1644518272425249,
          0.1644518272425249,
          0.1644518272425249,
          0.1644518272425249,
          0.1644518272425249,
          0.1644518272425249,
          0.1644518272425249,
          0.1644518272425249,
          0.1644518272425249,
          0.1644518272425249,
          0.1644518272425249,
          0.1644518272425249,
          0.1644518272425249,
          0.1644518272425249,
          0.1644518272425249,
          0.1644518272425249,
          0.1644518272425249,
          0.1644518272425249,
          0.1644518272425249
         ],
         "yaxis": "y"
        },
        {
         "customdata": [
          [
           595,
           1057,
           0.14119601328903655,
           24
          ],
          [
           595,
           1057,
           0.14119601328903655,
           24
          ],
          [
           595,
           1057,
           0.14119601328903655,
           24
          ],
          [
           595,
           1057,
           0.14119601328903655,
           24
          ],
          [
           595,
           1057,
           0.14119601328903655,
           24
          ],
          [
           595,
           1057,
           0.14119601328903655,
           24
          ],
          [
           595,
           1057,
           0.14119601328903655,
           24
          ],
          [
           595,
           1057,
           0.14119601328903655,
           24
          ],
          [
           595,
           1057,
           0.14119601328903655,
           24
          ],
          [
           595,
           1057,
           0.14119601328903655,
           24
          ],
          [
           595,
           1057,
           0.14119601328903655,
           24
          ],
          [
           595,
           1057,
           0.14119601328903655,
           24
          ],
          [
           595,
           1057,
           0.14119601328903655,
           24
          ],
          [
           595,
           1057,
           0.14119601328903655,
           24
          ],
          [
           595,
           1057,
           0.14119601328903655,
           24
          ],
          [
           595,
           1057,
           0.14119601328903655,
           24
          ],
          [
           595,
           1057,
           0.14119601328903655,
           24
          ],
          [
           595,
           1057,
           0.14119601328903655,
           24
          ],
          [
           595,
           1057,
           0.14119601328903655,
           24
          ],
          [
           595,
           1057,
           0.14119601328903655,
           24
          ],
          [
           595,
           1057,
           0.14119601328903655,
           24
          ],
          [
           595,
           1057,
           0.14119601328903655,
           24
          ],
          [
           595,
           1057,
           0.14119601328903655,
           24
          ],
          [
           595,
           1057,
           0.14119601328903655,
           24
          ],
          [
           595,
           1057,
           0.14119601328903655,
           24
          ],
          [
           595,
           1057,
           0.14119601328903655,
           24
          ],
          [
           595,
           1057,
           0.14119601328903655,
           24
          ],
          [
           595,
           1057,
           0.14119601328903655,
           24
          ],
          [
           595,
           1057,
           0.14119601328903655,
           24
          ],
          [
           595,
           1057,
           0.14119601328903655,
           24
          ],
          [
           595,
           1057,
           0.14119601328903655,
           24
          ],
          [
           595,
           1057,
           0.14119601328903655,
           24
          ],
          [
           595,
           1057,
           0.14119601328903655,
           24
          ],
          [
           595,
           1057,
           0.14119601328903655,
           24
          ],
          [
           595,
           1057,
           0.14119601328903655,
           24
          ],
          [
           595,
           1057,
           0.14119601328903655,
           24
          ],
          [
           595,
           1057,
           0.14119601328903655,
           24
          ],
          [
           595,
           1057,
           0.14119601328903655,
           24
          ],
          [
           595,
           1057,
           0.14119601328903655,
           24
          ],
          [
           595,
           1057,
           0.14119601328903655,
           24
          ],
          [
           595,
           1057,
           0.14119601328903655,
           24
          ],
          [
           595,
           1057,
           0.14119601328903655,
           24
          ],
          [
           595,
           1057,
           0.14119601328903655,
           24
          ],
          [
           595,
           1057,
           0.14119601328903655,
           24
          ],
          [
           595,
           1057,
           0.14119601328903655,
           24
          ],
          [
           595,
           1057,
           0.14119601328903655,
           24
          ],
          [
           595,
           1057,
           0.14119601328903655,
           24
          ],
          [
           595,
           1057,
           0.14119601328903655,
           24
          ],
          [
           595,
           1057,
           0.14119601328903655,
           24
          ],
          [
           595,
           1057,
           0.14119601328903655,
           24
          ],
          [
           595,
           1057,
           0.14119601328903655,
           24
          ],
          [
           595,
           1057,
           0.14119601328903655,
           24
          ],
          [
           595,
           1057,
           0.14119601328903655,
           24
          ],
          [
           595,
           1057,
           0.14119601328903655,
           24
          ],
          [
           595,
           1057,
           0.14119601328903655,
           24
          ],
          [
           595,
           1057,
           0.14119601328903655,
           24
          ],
          [
           595,
           1057,
           0.14119601328903655,
           24
          ],
          [
           595,
           1057,
           0.14119601328903655,
           24
          ],
          [
           595,
           1057,
           0.14119601328903655,
           24
          ],
          [
           595,
           1057,
           0.14119601328903655,
           24
          ],
          [
           595,
           1057,
           0.14119601328903655,
           24
          ]
         ],
         "hovertemplate": "SKU_ID=25979<br>ORDER_RANK=%{x}<br>RATE_cumsum=%{y}<br>SKUID_total_customers=%{customdata[0]}<br>SKUID_total_transactions=%{customdata[1]}<br>SKUID_total_probability_rate=%{customdata[2]}<br>product_rank_bytotalprobrate=%{customdata[3]}<extra></extra>",
         "legendgroup": "25979",
         "line": {
          "color": "#FF97FF",
          "dash": "solid"
         },
         "marker": {
          "symbol": "circle"
         },
         "mode": "lines",
         "name": "25979",
         "orientation": "v",
         "showlegend": true,
         "type": "scatter",
         "x": [
          1,
          2,
          3,
          4,
          5,
          6,
          7,
          8,
          9,
          10,
          11,
          12,
          13,
          14,
          15,
          16,
          17,
          18,
          19,
          20,
          21,
          22,
          23,
          24,
          25,
          26,
          27,
          28,
          29,
          30,
          31,
          32,
          33,
          34,
          35,
          36,
          37,
          38,
          39,
          40,
          41,
          42,
          43,
          44,
          45,
          46,
          47,
          48,
          49,
          50,
          51,
          52,
          53,
          54,
          55,
          56,
          57,
          58,
          59,
          60,
          61
         ],
         "xaxis": "x",
         "y": [
          0.018984337921214997,
          0.05102040816326531,
          0.07831039392501186,
          0.0963455149501661,
          0.11105837683910774,
          0.11865211200759374,
          0.12505932605600378,
          0.13004271476032273,
          0.132890365448505,
          0.13502610346464167,
          0.13692453725676318,
          0.13739914570479356,
          0.13834836260085429,
          0.13977218794494542,
          0.1400094921689606,
          0.140484100616991,
          0.140484100616991,
          0.14072140484100618,
          0.14072140484100618,
          0.14095870906502136,
          0.14095870906502136,
          0.14095870906502136,
          0.14095870906502136,
          0.14095870906502136,
          0.14095870906502136,
          0.14095870906502136,
          0.14095870906502136,
          0.14095870906502136,
          0.14095870906502136,
          0.14095870906502136,
          0.14095870906502136,
          0.14095870906502136,
          0.14095870906502136,
          0.14095870906502136,
          0.14095870906502136,
          0.14095870906502136,
          0.14095870906502136,
          0.14095870906502136,
          0.14119601328903655,
          0.14119601328903655,
          0.14119601328903655,
          0.14119601328903655,
          0.14119601328903655,
          0.14119601328903655,
          0.14119601328903655,
          0.14119601328903655,
          0.14119601328903655,
          0.14119601328903655,
          0.14119601328903655,
          0.14119601328903655,
          0.14119601328903655,
          0.14119601328903655,
          0.14119601328903655,
          0.14119601328903655,
          0.14119601328903655,
          0.14119601328903655,
          0.14119601328903655,
          0.14119601328903655,
          0.14119601328903655,
          0.14119601328903655,
          0.14119601328903655
         ],
         "yaxis": "y"
        },
        {
         "customdata": [
          [
           515,
           1241,
           0.12221167536782154,
           28
          ],
          [
           515,
           1241,
           0.12221167536782154,
           28
          ],
          [
           515,
           1241,
           0.12221167536782154,
           28
          ],
          [
           515,
           1241,
           0.12221167536782154,
           28
          ],
          [
           515,
           1241,
           0.12221167536782154,
           28
          ],
          [
           515,
           1241,
           0.12221167536782154,
           28
          ],
          [
           515,
           1241,
           0.12221167536782154,
           28
          ],
          [
           515,
           1241,
           0.12221167536782154,
           28
          ],
          [
           515,
           1241,
           0.12221167536782154,
           28
          ],
          [
           515,
           1241,
           0.12221167536782154,
           28
          ],
          [
           515,
           1241,
           0.12221167536782154,
           28
          ],
          [
           515,
           1241,
           0.12221167536782154,
           28
          ],
          [
           515,
           1241,
           0.12221167536782154,
           28
          ],
          [
           515,
           1241,
           0.12221167536782154,
           28
          ],
          [
           515,
           1241,
           0.12221167536782154,
           28
          ],
          [
           515,
           1241,
           0.12221167536782154,
           28
          ],
          [
           515,
           1241,
           0.12221167536782154,
           28
          ],
          [
           515,
           1241,
           0.12221167536782154,
           28
          ],
          [
           515,
           1241,
           0.12221167536782154,
           28
          ],
          [
           515,
           1241,
           0.12221167536782154,
           28
          ],
          [
           515,
           1241,
           0.12221167536782154,
           28
          ],
          [
           515,
           1241,
           0.12221167536782154,
           28
          ],
          [
           515,
           1241,
           0.12221167536782154,
           28
          ],
          [
           515,
           1241,
           0.12221167536782154,
           28
          ],
          [
           515,
           1241,
           0.12221167536782154,
           28
          ],
          [
           515,
           1241,
           0.12221167536782154,
           28
          ],
          [
           515,
           1241,
           0.12221167536782154,
           28
          ],
          [
           515,
           1241,
           0.12221167536782154,
           28
          ],
          [
           515,
           1241,
           0.12221167536782154,
           28
          ],
          [
           515,
           1241,
           0.12221167536782154,
           28
          ],
          [
           515,
           1241,
           0.12221167536782154,
           28
          ],
          [
           515,
           1241,
           0.12221167536782154,
           28
          ],
          [
           515,
           1241,
           0.12221167536782154,
           28
          ],
          [
           515,
           1241,
           0.12221167536782154,
           28
          ],
          [
           515,
           1241,
           0.12221167536782154,
           28
          ],
          [
           515,
           1241,
           0.12221167536782154,
           28
          ],
          [
           515,
           1241,
           0.12221167536782154,
           28
          ],
          [
           515,
           1241,
           0.12221167536782154,
           28
          ],
          [
           515,
           1241,
           0.12221167536782154,
           28
          ],
          [
           515,
           1241,
           0.12221167536782154,
           28
          ],
          [
           515,
           1241,
           0.12221167536782154,
           28
          ],
          [
           515,
           1241,
           0.12221167536782154,
           28
          ],
          [
           515,
           1241,
           0.12221167536782154,
           28
          ],
          [
           515,
           1241,
           0.12221167536782154,
           28
          ],
          [
           515,
           1241,
           0.12221167536782154,
           28
          ],
          [
           515,
           1241,
           0.12221167536782154,
           28
          ],
          [
           515,
           1241,
           0.12221167536782154,
           28
          ],
          [
           515,
           1241,
           0.12221167536782154,
           28
          ],
          [
           515,
           1241,
           0.12221167536782154,
           28
          ],
          [
           515,
           1241,
           0.12221167536782154,
           28
          ],
          [
           515,
           1241,
           0.12221167536782154,
           28
          ],
          [
           515,
           1241,
           0.12221167536782154,
           28
          ],
          [
           515,
           1241,
           0.12221167536782154,
           28
          ],
          [
           515,
           1241,
           0.12221167536782154,
           28
          ],
          [
           515,
           1241,
           0.12221167536782154,
           28
          ],
          [
           515,
           1241,
           0.12221167536782154,
           28
          ],
          [
           515,
           1241,
           0.12221167536782154,
           28
          ],
          [
           515,
           1241,
           0.12221167536782154,
           28
          ],
          [
           515,
           1241,
           0.12221167536782154,
           28
          ],
          [
           515,
           1241,
           0.12221167536782154,
           28
          ],
          [
           515,
           1241,
           0.12221167536782154,
           28
          ],
          [
           515,
           1241,
           0.12221167536782154,
           28
          ],
          [
           515,
           1241,
           0.12221167536782154,
           28
          ],
          [
           515,
           1241,
           0.12221167536782154,
           28
          ],
          [
           515,
           1241,
           0.12221167536782154,
           28
          ]
         ],
         "hovertemplate": "SKU_ID=26527<br>ORDER_RANK=%{x}<br>RATE_cumsum=%{y}<br>SKUID_total_customers=%{customdata[0]}<br>SKUID_total_transactions=%{customdata[1]}<br>SKUID_total_probability_rate=%{customdata[2]}<br>product_rank_bytotalprobrate=%{customdata[3]}<extra></extra>",
         "legendgroup": "26527",
         "line": {
          "color": "#FECB52",
          "dash": "solid"
         },
         "marker": {
          "symbol": "circle"
         },
         "mode": "lines",
         "name": "26527",
         "orientation": "v",
         "showlegend": true,
         "type": "scatter",
         "x": [
          1,
          2,
          3,
          4,
          5,
          6,
          7,
          8,
          9,
          10,
          11,
          12,
          13,
          14,
          15,
          16,
          17,
          18,
          19,
          20,
          21,
          22,
          23,
          24,
          25,
          26,
          27,
          28,
          29,
          30,
          31,
          32,
          33,
          34,
          35,
          36,
          37,
          38,
          39,
          40,
          41,
          42,
          43,
          44,
          45,
          46,
          47,
          48,
          49,
          50,
          51,
          52,
          53,
          54,
          55,
          56,
          57,
          58,
          59,
          60,
          61,
          62,
          63,
          64,
          65
         ],
         "xaxis": "x",
         "y": [
          0.04793545325106787,
          0.07664926435690556,
          0.09349786426198387,
          0.10180351210251543,
          0.10868533459895587,
          0.11248220218319886,
          0.11438063597532036,
          0.11627906976744186,
          0.11722828666350261,
          0.11770289511153299,
          0.11888941623160892,
          0.11912672045562411,
          0.11912672045562411,
          0.11983863312766968,
          0.12007593735168487,
          0.12078785002373042,
          0.12149976269577599,
          0.12173706691979118,
          0.12173706691979118,
          0.12173706691979118,
          0.12173706691979118,
          0.12173706691979118,
          0.12197437114380637,
          0.12221167536782156,
          0.12221167536782156,
          0.12221167536782156,
          0.12221167536782156,
          0.12221167536782156,
          0.12221167536782156,
          0.12221167536782156,
          0.12221167536782156,
          0.12221167536782156,
          0.12221167536782156,
          0.12221167536782156,
          0.12221167536782156,
          0.12221167536782156,
          0.12221167536782156,
          0.12221167536782156,
          0.12221167536782156,
          0.12221167536782156,
          0.12221167536782156,
          0.12221167536782156,
          0.12221167536782156,
          0.12221167536782156,
          0.12221167536782156,
          0.12221167536782156,
          0.12221167536782156,
          0.12221167536782156,
          0.12221167536782156,
          0.12221167536782156,
          0.12221167536782156,
          0.12221167536782156,
          0.12221167536782156,
          0.12221167536782156,
          0.12221167536782156,
          0.12221167536782156,
          0.12221167536782156,
          0.12221167536782156,
          0.12221167536782156,
          0.12221167536782156,
          0.12221167536782156,
          0.12221167536782156,
          0.12221167536782156,
          0.12221167536782156,
          0.12221167536782156
         ],
         "yaxis": "y"
        },
        {
         "customdata": [
          [
           739,
           2018,
           0.17536782154722355,
           20
          ],
          [
           739,
           2018,
           0.17536782154722355,
           20
          ],
          [
           739,
           2018,
           0.17536782154722355,
           20
          ],
          [
           739,
           2018,
           0.17536782154722355,
           20
          ],
          [
           739,
           2018,
           0.17536782154722355,
           20
          ],
          [
           739,
           2018,
           0.17536782154722355,
           20
          ],
          [
           739,
           2018,
           0.17536782154722355,
           20
          ],
          [
           739,
           2018,
           0.17536782154722355,
           20
          ],
          [
           739,
           2018,
           0.17536782154722355,
           20
          ],
          [
           739,
           2018,
           0.17536782154722355,
           20
          ],
          [
           739,
           2018,
           0.17536782154722355,
           20
          ],
          [
           739,
           2018,
           0.17536782154722355,
           20
          ],
          [
           739,
           2018,
           0.17536782154722355,
           20
          ],
          [
           739,
           2018,
           0.17536782154722355,
           20
          ],
          [
           739,
           2018,
           0.17536782154722355,
           20
          ],
          [
           739,
           2018,
           0.17536782154722355,
           20
          ],
          [
           739,
           2018,
           0.17536782154722355,
           20
          ],
          [
           739,
           2018,
           0.17536782154722355,
           20
          ],
          [
           739,
           2018,
           0.17536782154722355,
           20
          ],
          [
           739,
           2018,
           0.17536782154722355,
           20
          ],
          [
           739,
           2018,
           0.17536782154722355,
           20
          ],
          [
           739,
           2018,
           0.17536782154722355,
           20
          ],
          [
           739,
           2018,
           0.17536782154722355,
           20
          ],
          [
           739,
           2018,
           0.17536782154722355,
           20
          ],
          [
           739,
           2018,
           0.17536782154722355,
           20
          ],
          [
           739,
           2018,
           0.17536782154722355,
           20
          ],
          [
           739,
           2018,
           0.17536782154722355,
           20
          ],
          [
           739,
           2018,
           0.17536782154722355,
           20
          ],
          [
           739,
           2018,
           0.17536782154722355,
           20
          ],
          [
           739,
           2018,
           0.17536782154722355,
           20
          ],
          [
           739,
           2018,
           0.17536782154722355,
           20
          ],
          [
           739,
           2018,
           0.17536782154722355,
           20
          ],
          [
           739,
           2018,
           0.17536782154722355,
           20
          ],
          [
           739,
           2018,
           0.17536782154722355,
           20
          ],
          [
           739,
           2018,
           0.17536782154722355,
           20
          ],
          [
           739,
           2018,
           0.17536782154722355,
           20
          ],
          [
           739,
           2018,
           0.17536782154722355,
           20
          ],
          [
           739,
           2018,
           0.17536782154722355,
           20
          ],
          [
           739,
           2018,
           0.17536782154722355,
           20
          ],
          [
           739,
           2018,
           0.17536782154722355,
           20
          ],
          [
           739,
           2018,
           0.17536782154722355,
           20
          ],
          [
           739,
           2018,
           0.17536782154722355,
           20
          ],
          [
           739,
           2018,
           0.17536782154722355,
           20
          ],
          [
           739,
           2018,
           0.17536782154722355,
           20
          ],
          [
           739,
           2018,
           0.17536782154722355,
           20
          ],
          [
           739,
           2018,
           0.17536782154722355,
           20
          ],
          [
           739,
           2018,
           0.17536782154722355,
           20
          ],
          [
           739,
           2018,
           0.17536782154722355,
           20
          ],
          [
           739,
           2018,
           0.17536782154722355,
           20
          ],
          [
           739,
           2018,
           0.17536782154722355,
           20
          ],
          [
           739,
           2018,
           0.17536782154722355,
           20
          ],
          [
           739,
           2018,
           0.17536782154722355,
           20
          ],
          [
           739,
           2018,
           0.17536782154722355,
           20
          ],
          [
           739,
           2018,
           0.17536782154722355,
           20
          ],
          [
           739,
           2018,
           0.17536782154722355,
           20
          ],
          [
           739,
           2018,
           0.17536782154722355,
           20
          ],
          [
           739,
           2018,
           0.17536782154722355,
           20
          ],
          [
           739,
           2018,
           0.17536782154722355,
           20
          ],
          [
           739,
           2018,
           0.17536782154722355,
           20
          ],
          [
           739,
           2018,
           0.17536782154722355,
           20
          ],
          [
           739,
           2018,
           0.17536782154722355,
           20
          ],
          [
           739,
           2018,
           0.17536782154722355,
           20
          ],
          [
           739,
           2018,
           0.17536782154722355,
           20
          ],
          [
           739,
           2018,
           0.17536782154722355,
           20
          ],
          [
           739,
           2018,
           0.17536782154722355,
           20
          ],
          [
           739,
           2018,
           0.17536782154722355,
           20
          ]
         ],
         "hovertemplate": "SKU_ID=26567<br>ORDER_RANK=%{x}<br>RATE_cumsum=%{y}<br>SKUID_total_customers=%{customdata[0]}<br>SKUID_total_transactions=%{customdata[1]}<br>SKUID_total_probability_rate=%{customdata[2]}<br>product_rank_bytotalprobrate=%{customdata[3]}<extra></extra>",
         "legendgroup": "26567",
         "line": {
          "color": "#636efa",
          "dash": "solid"
         },
         "marker": {
          "symbol": "circle"
         },
         "mode": "lines",
         "name": "26567",
         "orientation": "v",
         "showlegend": true,
         "type": "scatter",
         "x": [
          1,
          2,
          3,
          4,
          5,
          6,
          7,
          8,
          9,
          10,
          11,
          12,
          13,
          14,
          15,
          16,
          17,
          18,
          19,
          20,
          21,
          22,
          23,
          24,
          25,
          26,
          27,
          28,
          29,
          30,
          31,
          32,
          33,
          34,
          35,
          36,
          37,
          38,
          39,
          40,
          41,
          42,
          43,
          44,
          45,
          46,
          47,
          48,
          49,
          50,
          51,
          52,
          53,
          54,
          55,
          56,
          57,
          58,
          59,
          60,
          61,
          62,
          63,
          64,
          65,
          67
         ],
         "xaxis": "x",
         "y": [
          0.0018984337921214998,
          0.006169909824394875,
          0.01423825344091125,
          0.026815377313716186,
          0.04129093497864262,
          0.05837683910773612,
          0.07427622211675368,
          0.0870906502135738,
          0.10085429520645467,
          0.11438063597532036,
          0.12624584717607973,
          0.136687233032748,
          0.14356905552918842,
          0.1516373991457048,
          0.15685809207403892,
          0.16041765543426673,
          0.16350261034646418,
          0.1646891314665401,
          0.16801139060275272,
          0.1684859990507831,
          0.16990982439487423,
          0.1706217370669198,
          0.17133364973896537,
          0.17180825818699574,
          0.17204556241101093,
          0.1722828666350261,
          0.17299477930707166,
          0.17370669197911723,
          0.17394399620313242,
          0.1744186046511628,
          0.17465590887517798,
          0.17465590887517798,
          0.17465590887517798,
          0.17513051732320836,
          0.17513051732320836,
          0.17536782154722355,
          0.17536782154722355,
          0.17536782154722355,
          0.17536782154722355,
          0.17536782154722355,
          0.17536782154722355,
          0.17536782154722355,
          0.17536782154722355,
          0.17536782154722355,
          0.17536782154722355,
          0.17536782154722355,
          0.17536782154722355,
          0.17536782154722355,
          0.17536782154722355,
          0.17536782154722355,
          0.17536782154722355,
          0.17536782154722355,
          0.17536782154722355,
          0.17536782154722355,
          0.17536782154722355,
          0.17536782154722355,
          0.17536782154722355,
          0.17536782154722355,
          0.17536782154722355,
          0.17536782154722355,
          0.17536782154722355,
          0.17536782154722355,
          0.17536782154722355,
          0.17536782154722355,
          0.17536782154722355,
          0.17536782154722355
         ],
         "yaxis": "y"
        }
       ],
       "layout": {
        "legend": {
         "title": {
          "text": "SKU_ID"
         },
         "tracegroupgap": 0
        },
        "template": {
         "data": {
          "bar": [
           {
            "error_x": {
             "color": "#2a3f5f"
            },
            "error_y": {
             "color": "#2a3f5f"
            },
            "marker": {
             "line": {
              "color": "#E5ECF6",
              "width": 0.5
             },
             "pattern": {
              "fillmode": "overlay",
              "size": 10,
              "solidity": 0.2
             }
            },
            "type": "bar"
           }
          ],
          "barpolar": [
           {
            "marker": {
             "line": {
              "color": "#E5ECF6",
              "width": 0.5
             },
             "pattern": {
              "fillmode": "overlay",
              "size": 10,
              "solidity": 0.2
             }
            },
            "type": "barpolar"
           }
          ],
          "carpet": [
           {
            "aaxis": {
             "endlinecolor": "#2a3f5f",
             "gridcolor": "white",
             "linecolor": "white",
             "minorgridcolor": "white",
             "startlinecolor": "#2a3f5f"
            },
            "baxis": {
             "endlinecolor": "#2a3f5f",
             "gridcolor": "white",
             "linecolor": "white",
             "minorgridcolor": "white",
             "startlinecolor": "#2a3f5f"
            },
            "type": "carpet"
           }
          ],
          "choropleth": [
           {
            "colorbar": {
             "outlinewidth": 0,
             "ticks": ""
            },
            "type": "choropleth"
           }
          ],
          "contour": [
           {
            "colorbar": {
             "outlinewidth": 0,
             "ticks": ""
            },
            "colorscale": [
             [
              0,
              "#0d0887"
             ],
             [
              0.1111111111111111,
              "#46039f"
             ],
             [
              0.2222222222222222,
              "#7201a8"
             ],
             [
              0.3333333333333333,
              "#9c179e"
             ],
             [
              0.4444444444444444,
              "#bd3786"
             ],
             [
              0.5555555555555556,
              "#d8576b"
             ],
             [
              0.6666666666666666,
              "#ed7953"
             ],
             [
              0.7777777777777778,
              "#fb9f3a"
             ],
             [
              0.8888888888888888,
              "#fdca26"
             ],
             [
              1,
              "#f0f921"
             ]
            ],
            "type": "contour"
           }
          ],
          "contourcarpet": [
           {
            "colorbar": {
             "outlinewidth": 0,
             "ticks": ""
            },
            "type": "contourcarpet"
           }
          ],
          "heatmap": [
           {
            "colorbar": {
             "outlinewidth": 0,
             "ticks": ""
            },
            "colorscale": [
             [
              0,
              "#0d0887"
             ],
             [
              0.1111111111111111,
              "#46039f"
             ],
             [
              0.2222222222222222,
              "#7201a8"
             ],
             [
              0.3333333333333333,
              "#9c179e"
             ],
             [
              0.4444444444444444,
              "#bd3786"
             ],
             [
              0.5555555555555556,
              "#d8576b"
             ],
             [
              0.6666666666666666,
              "#ed7953"
             ],
             [
              0.7777777777777778,
              "#fb9f3a"
             ],
             [
              0.8888888888888888,
              "#fdca26"
             ],
             [
              1,
              "#f0f921"
             ]
            ],
            "type": "heatmap"
           }
          ],
          "heatmapgl": [
           {
            "colorbar": {
             "outlinewidth": 0,
             "ticks": ""
            },
            "colorscale": [
             [
              0,
              "#0d0887"
             ],
             [
              0.1111111111111111,
              "#46039f"
             ],
             [
              0.2222222222222222,
              "#7201a8"
             ],
             [
              0.3333333333333333,
              "#9c179e"
             ],
             [
              0.4444444444444444,
              "#bd3786"
             ],
             [
              0.5555555555555556,
              "#d8576b"
             ],
             [
              0.6666666666666666,
              "#ed7953"
             ],
             [
              0.7777777777777778,
              "#fb9f3a"
             ],
             [
              0.8888888888888888,
              "#fdca26"
             ],
             [
              1,
              "#f0f921"
             ]
            ],
            "type": "heatmapgl"
           }
          ],
          "histogram": [
           {
            "marker": {
             "pattern": {
              "fillmode": "overlay",
              "size": 10,
              "solidity": 0.2
             }
            },
            "type": "histogram"
           }
          ],
          "histogram2d": [
           {
            "colorbar": {
             "outlinewidth": 0,
             "ticks": ""
            },
            "colorscale": [
             [
              0,
              "#0d0887"
             ],
             [
              0.1111111111111111,
              "#46039f"
             ],
             [
              0.2222222222222222,
              "#7201a8"
             ],
             [
              0.3333333333333333,
              "#9c179e"
             ],
             [
              0.4444444444444444,
              "#bd3786"
             ],
             [
              0.5555555555555556,
              "#d8576b"
             ],
             [
              0.6666666666666666,
              "#ed7953"
             ],
             [
              0.7777777777777778,
              "#fb9f3a"
             ],
             [
              0.8888888888888888,
              "#fdca26"
             ],
             [
              1,
              "#f0f921"
             ]
            ],
            "type": "histogram2d"
           }
          ],
          "histogram2dcontour": [
           {
            "colorbar": {
             "outlinewidth": 0,
             "ticks": ""
            },
            "colorscale": [
             [
              0,
              "#0d0887"
             ],
             [
              0.1111111111111111,
              "#46039f"
             ],
             [
              0.2222222222222222,
              "#7201a8"
             ],
             [
              0.3333333333333333,
              "#9c179e"
             ],
             [
              0.4444444444444444,
              "#bd3786"
             ],
             [
              0.5555555555555556,
              "#d8576b"
             ],
             [
              0.6666666666666666,
              "#ed7953"
             ],
             [
              0.7777777777777778,
              "#fb9f3a"
             ],
             [
              0.8888888888888888,
              "#fdca26"
             ],
             [
              1,
              "#f0f921"
             ]
            ],
            "type": "histogram2dcontour"
           }
          ],
          "mesh3d": [
           {
            "colorbar": {
             "outlinewidth": 0,
             "ticks": ""
            },
            "type": "mesh3d"
           }
          ],
          "parcoords": [
           {
            "line": {
             "colorbar": {
              "outlinewidth": 0,
              "ticks": ""
             }
            },
            "type": "parcoords"
           }
          ],
          "pie": [
           {
            "automargin": true,
            "type": "pie"
           }
          ],
          "scatter": [
           {
            "fillpattern": {
             "fillmode": "overlay",
             "size": 10,
             "solidity": 0.2
            },
            "type": "scatter"
           }
          ],
          "scatter3d": [
           {
            "line": {
             "colorbar": {
              "outlinewidth": 0,
              "ticks": ""
             }
            },
            "marker": {
             "colorbar": {
              "outlinewidth": 0,
              "ticks": ""
             }
            },
            "type": "scatter3d"
           }
          ],
          "scattercarpet": [
           {
            "marker": {
             "colorbar": {
              "outlinewidth": 0,
              "ticks": ""
             }
            },
            "type": "scattercarpet"
           }
          ],
          "scattergeo": [
           {
            "marker": {
             "colorbar": {
              "outlinewidth": 0,
              "ticks": ""
             }
            },
            "type": "scattergeo"
           }
          ],
          "scattergl": [
           {
            "marker": {
             "colorbar": {
              "outlinewidth": 0,
              "ticks": ""
             }
            },
            "type": "scattergl"
           }
          ],
          "scattermapbox": [
           {
            "marker": {
             "colorbar": {
              "outlinewidth": 0,
              "ticks": ""
             }
            },
            "type": "scattermapbox"
           }
          ],
          "scatterpolar": [
           {
            "marker": {
             "colorbar": {
              "outlinewidth": 0,
              "ticks": ""
             }
            },
            "type": "scatterpolar"
           }
          ],
          "scatterpolargl": [
           {
            "marker": {
             "colorbar": {
              "outlinewidth": 0,
              "ticks": ""
             }
            },
            "type": "scatterpolargl"
           }
          ],
          "scatterternary": [
           {
            "marker": {
             "colorbar": {
              "outlinewidth": 0,
              "ticks": ""
             }
            },
            "type": "scatterternary"
           }
          ],
          "surface": [
           {
            "colorbar": {
             "outlinewidth": 0,
             "ticks": ""
            },
            "colorscale": [
             [
              0,
              "#0d0887"
             ],
             [
              0.1111111111111111,
              "#46039f"
             ],
             [
              0.2222222222222222,
              "#7201a8"
             ],
             [
              0.3333333333333333,
              "#9c179e"
             ],
             [
              0.4444444444444444,
              "#bd3786"
             ],
             [
              0.5555555555555556,
              "#d8576b"
             ],
             [
              0.6666666666666666,
              "#ed7953"
             ],
             [
              0.7777777777777778,
              "#fb9f3a"
             ],
             [
              0.8888888888888888,
              "#fdca26"
             ],
             [
              1,
              "#f0f921"
             ]
            ],
            "type": "surface"
           }
          ],
          "table": [
           {
            "cells": {
             "fill": {
              "color": "#EBF0F8"
             },
             "line": {
              "color": "white"
             }
            },
            "header": {
             "fill": {
              "color": "#C8D4E3"
             },
             "line": {
              "color": "white"
             }
            },
            "type": "table"
           }
          ]
         },
         "layout": {
          "annotationdefaults": {
           "arrowcolor": "#2a3f5f",
           "arrowhead": 0,
           "arrowwidth": 1
          },
          "autotypenumbers": "strict",
          "coloraxis": {
           "colorbar": {
            "outlinewidth": 0,
            "ticks": ""
           }
          },
          "colorscale": {
           "diverging": [
            [
             0,
             "#8e0152"
            ],
            [
             0.1,
             "#c51b7d"
            ],
            [
             0.2,
             "#de77ae"
            ],
            [
             0.3,
             "#f1b6da"
            ],
            [
             0.4,
             "#fde0ef"
            ],
            [
             0.5,
             "#f7f7f7"
            ],
            [
             0.6,
             "#e6f5d0"
            ],
            [
             0.7,
             "#b8e186"
            ],
            [
             0.8,
             "#7fbc41"
            ],
            [
             0.9,
             "#4d9221"
            ],
            [
             1,
             "#276419"
            ]
           ],
           "sequential": [
            [
             0,
             "#0d0887"
            ],
            [
             0.1111111111111111,
             "#46039f"
            ],
            [
             0.2222222222222222,
             "#7201a8"
            ],
            [
             0.3333333333333333,
             "#9c179e"
            ],
            [
             0.4444444444444444,
             "#bd3786"
            ],
            [
             0.5555555555555556,
             "#d8576b"
            ],
            [
             0.6666666666666666,
             "#ed7953"
            ],
            [
             0.7777777777777778,
             "#fb9f3a"
            ],
            [
             0.8888888888888888,
             "#fdca26"
            ],
            [
             1,
             "#f0f921"
            ]
           ],
           "sequentialminus": [
            [
             0,
             "#0d0887"
            ],
            [
             0.1111111111111111,
             "#46039f"
            ],
            [
             0.2222222222222222,
             "#7201a8"
            ],
            [
             0.3333333333333333,
             "#9c179e"
            ],
            [
             0.4444444444444444,
             "#bd3786"
            ],
            [
             0.5555555555555556,
             "#d8576b"
            ],
            [
             0.6666666666666666,
             "#ed7953"
            ],
            [
             0.7777777777777778,
             "#fb9f3a"
            ],
            [
             0.8888888888888888,
             "#fdca26"
            ],
            [
             1,
             "#f0f921"
            ]
           ]
          },
          "colorway": [
           "#636efa",
           "#EF553B",
           "#00cc96",
           "#ab63fa",
           "#FFA15A",
           "#19d3f3",
           "#FF6692",
           "#B6E880",
           "#FF97FF",
           "#FECB52"
          ],
          "font": {
           "color": "#2a3f5f"
          },
          "geo": {
           "bgcolor": "white",
           "lakecolor": "white",
           "landcolor": "#E5ECF6",
           "showlakes": true,
           "showland": true,
           "subunitcolor": "white"
          },
          "hoverlabel": {
           "align": "left"
          },
          "hovermode": "closest",
          "mapbox": {
           "style": "light"
          },
          "paper_bgcolor": "white",
          "plot_bgcolor": "#E5ECF6",
          "polar": {
           "angularaxis": {
            "gridcolor": "white",
            "linecolor": "white",
            "ticks": ""
           },
           "bgcolor": "#E5ECF6",
           "radialaxis": {
            "gridcolor": "white",
            "linecolor": "white",
            "ticks": ""
           }
          },
          "scene": {
           "xaxis": {
            "backgroundcolor": "#E5ECF6",
            "gridcolor": "white",
            "gridwidth": 2,
            "linecolor": "white",
            "showbackground": true,
            "ticks": "",
            "zerolinecolor": "white"
           },
           "yaxis": {
            "backgroundcolor": "#E5ECF6",
            "gridcolor": "white",
            "gridwidth": 2,
            "linecolor": "white",
            "showbackground": true,
            "ticks": "",
            "zerolinecolor": "white"
           },
           "zaxis": {
            "backgroundcolor": "#E5ECF6",
            "gridcolor": "white",
            "gridwidth": 2,
            "linecolor": "white",
            "showbackground": true,
            "ticks": "",
            "zerolinecolor": "white"
           }
          },
          "shapedefaults": {
           "line": {
            "color": "#2a3f5f"
           }
          },
          "ternary": {
           "aaxis": {
            "gridcolor": "white",
            "linecolor": "white",
            "ticks": ""
           },
           "baxis": {
            "gridcolor": "white",
            "linecolor": "white",
            "ticks": ""
           },
           "bgcolor": "#E5ECF6",
           "caxis": {
            "gridcolor": "white",
            "linecolor": "white",
            "ticks": ""
           }
          },
          "title": {
           "x": 0.05
          },
          "xaxis": {
           "automargin": true,
           "gridcolor": "white",
           "linecolor": "white",
           "ticks": "",
           "title": {
            "standoff": 15
           },
           "zerolinecolor": "white",
           "zerolinewidth": 2
          },
          "yaxis": {
           "automargin": true,
           "gridcolor": "white",
           "linecolor": "white",
           "ticks": "",
           "title": {
            "standoff": 15
           },
           "zerolinecolor": "white",
           "zerolinewidth": 2
          }
         }
        },
        "title": {
         "text": "SKU_ID between [20, 30]"
        },
        "xaxis": {
         "anchor": "y",
         "domain": [
          0,
          1
         ],
         "title": {
          "text": "ORDER_RANK"
         }
        },
        "yaxis": {
         "anchor": "x",
         "domain": [
          0,
          1
         ],
         "title": {
          "text": "RATE_cumsum"
         }
        }
       }
      }
     },
     "metadata": {},
     "output_type": "display_data"
    },
    {
     "data": {
      "application/vnd.plotly.v1+json": {
       "config": {
        "plotlyServerURL": "https://plot.ly"
       },
       "data": [
        {
         "customdata": [
          [
           373,
           668,
           0.08851447555766492,
           40
          ],
          [
           373,
           668,
           0.08851447555766492,
           40
          ],
          [
           373,
           668,
           0.08851447555766492,
           40
          ],
          [
           373,
           668,
           0.08851447555766492,
           40
          ],
          [
           373,
           668,
           0.08851447555766492,
           40
          ],
          [
           373,
           668,
           0.08851447555766492,
           40
          ],
          [
           373,
           668,
           0.08851447555766492,
           40
          ],
          [
           373,
           668,
           0.08851447555766492,
           40
          ],
          [
           373,
           668,
           0.08851447555766492,
           40
          ],
          [
           373,
           668,
           0.08851447555766492,
           40
          ],
          [
           373,
           668,
           0.08851447555766492,
           40
          ],
          [
           373,
           668,
           0.08851447555766492,
           40
          ],
          [
           373,
           668,
           0.08851447555766492,
           40
          ],
          [
           373,
           668,
           0.08851447555766492,
           40
          ],
          [
           373,
           668,
           0.08851447555766492,
           40
          ],
          [
           373,
           668,
           0.08851447555766492,
           40
          ],
          [
           373,
           668,
           0.08851447555766492,
           40
          ],
          [
           373,
           668,
           0.08851447555766492,
           40
          ],
          [
           373,
           668,
           0.08851447555766492,
           40
          ],
          [
           373,
           668,
           0.08851447555766492,
           40
          ],
          [
           373,
           668,
           0.08851447555766492,
           40
          ],
          [
           373,
           668,
           0.08851447555766492,
           40
          ],
          [
           373,
           668,
           0.08851447555766492,
           40
          ],
          [
           373,
           668,
           0.08851447555766492,
           40
          ],
          [
           373,
           668,
           0.08851447555766492,
           40
          ],
          [
           373,
           668,
           0.08851447555766492,
           40
          ],
          [
           373,
           668,
           0.08851447555766492,
           40
          ],
          [
           373,
           668,
           0.08851447555766492,
           40
          ],
          [
           373,
           668,
           0.08851447555766492,
           40
          ],
          [
           373,
           668,
           0.08851447555766492,
           40
          ],
          [
           373,
           668,
           0.08851447555766492,
           40
          ],
          [
           373,
           668,
           0.08851447555766492,
           40
          ],
          [
           373,
           668,
           0.08851447555766492,
           40
          ],
          [
           373,
           668,
           0.08851447555766492,
           40
          ],
          [
           373,
           668,
           0.08851447555766492,
           40
          ],
          [
           373,
           668,
           0.08851447555766492,
           40
          ],
          [
           373,
           668,
           0.08851447555766492,
           40
          ],
          [
           373,
           668,
           0.08851447555766492,
           40
          ],
          [
           373,
           668,
           0.08851447555766492,
           40
          ],
          [
           373,
           668,
           0.08851447555766492,
           40
          ],
          [
           373,
           668,
           0.08851447555766492,
           40
          ],
          [
           373,
           668,
           0.08851447555766492,
           40
          ],
          [
           373,
           668,
           0.08851447555766492,
           40
          ],
          [
           373,
           668,
           0.08851447555766492,
           40
          ],
          [
           373,
           668,
           0.08851447555766492,
           40
          ],
          [
           373,
           668,
           0.08851447555766492,
           40
          ],
          [
           373,
           668,
           0.08851447555766492,
           40
          ],
          [
           373,
           668,
           0.08851447555766492,
           40
          ],
          [
           373,
           668,
           0.08851447555766492,
           40
          ],
          [
           373,
           668,
           0.08851447555766492,
           40
          ],
          [
           373,
           668,
           0.08851447555766492,
           40
          ],
          [
           373,
           668,
           0.08851447555766492,
           40
          ],
          [
           373,
           668,
           0.08851447555766492,
           40
          ],
          [
           373,
           668,
           0.08851447555766492,
           40
          ],
          [
           373,
           668,
           0.08851447555766492,
           40
          ],
          [
           373,
           668,
           0.08851447555766492,
           40
          ],
          [
           373,
           668,
           0.08851447555766492,
           40
          ],
          [
           373,
           668,
           0.08851447555766492,
           40
          ],
          [
           373,
           668,
           0.08851447555766492,
           40
          ],
          [
           373,
           668,
           0.08851447555766492,
           40
          ]
         ],
         "hovertemplate": "SKU_ID=1418<br>ORDER_RANK=%{x}<br>RATE_cumsum=%{y}<br>SKUID_total_customers=%{customdata[0]}<br>SKUID_total_transactions=%{customdata[1]}<br>SKUID_total_probability_rate=%{customdata[2]}<br>product_rank_bytotalprobrate=%{customdata[3]}<extra></extra>",
         "legendgroup": "1418",
         "line": {
          "color": "#636efa",
          "dash": "solid"
         },
         "marker": {
          "symbol": "circle"
         },
         "mode": "lines",
         "name": "1418",
         "orientation": "v",
         "showlegend": true,
         "type": "scatter",
         "x": [
          1,
          2,
          3,
          4,
          5,
          6,
          7,
          8,
          9,
          10,
          11,
          12,
          13,
          14,
          15,
          16,
          17,
          18,
          19,
          20,
          21,
          22,
          23,
          24,
          25,
          26,
          27,
          28,
          29,
          30,
          31,
          32,
          33,
          34,
          35,
          36,
          37,
          38,
          39,
          40,
          41,
          42,
          43,
          44,
          45,
          46,
          47,
          48,
          49,
          50,
          51,
          52,
          53,
          54,
          55,
          56,
          57,
          58,
          59,
          61
         ],
         "xaxis": "x",
         "y": [
          0.022306597057427623,
          0.0396298054105363,
          0.054105363075462744,
          0.06098718557190318,
          0.06668248694826767,
          0.0719031798766018,
          0.07403891789273849,
          0.07617465590887518,
          0.07831039392501186,
          0.08044613194114855,
          0.08115804461319412,
          0.08210726150925486,
          0.08258186995728524,
          0.08448030374940674,
          0.0851922164214523,
          0.08637873754152824,
          0.08661604176554343,
          0.0870906502135738,
          0.08756525866160418,
          0.08780256288561937,
          0.08780256288561937,
          0.08780256288561937,
          0.08803986710963455,
          0.08803986710963455,
          0.08827717133364973,
          0.08827717133364973,
          0.08827717133364973,
          0.08827717133364973,
          0.08827717133364973,
          0.08827717133364973,
          0.08827717133364973,
          0.08827717133364973,
          0.08827717133364973,
          0.08827717133364973,
          0.08827717133364973,
          0.08851447555766492,
          0.08851447555766492,
          0.08851447555766492,
          0.08851447555766492,
          0.08851447555766492,
          0.08851447555766492,
          0.08851447555766492,
          0.08851447555766492,
          0.08851447555766492,
          0.08851447555766492,
          0.08851447555766492,
          0.08851447555766492,
          0.08851447555766492,
          0.08851447555766492,
          0.08851447555766492,
          0.08851447555766492,
          0.08851447555766492,
          0.08851447555766492,
          0.08851447555766492,
          0.08851447555766492,
          0.08851447555766492,
          0.08851447555766492,
          0.08851447555766492,
          0.08851447555766492,
          0.08851447555766492
         ],
         "yaxis": "y"
        },
        {
         "customdata": [
          [
           374,
           1093,
           0.08875177978168011,
           39
          ],
          [
           374,
           1093,
           0.08875177978168011,
           39
          ],
          [
           374,
           1093,
           0.08875177978168011,
           39
          ],
          [
           374,
           1093,
           0.08875177978168011,
           39
          ],
          [
           374,
           1093,
           0.08875177978168011,
           39
          ],
          [
           374,
           1093,
           0.08875177978168011,
           39
          ],
          [
           374,
           1093,
           0.08875177978168011,
           39
          ],
          [
           374,
           1093,
           0.08875177978168011,
           39
          ],
          [
           374,
           1093,
           0.08875177978168011,
           39
          ],
          [
           374,
           1093,
           0.08875177978168011,
           39
          ],
          [
           374,
           1093,
           0.08875177978168011,
           39
          ],
          [
           374,
           1093,
           0.08875177978168011,
           39
          ],
          [
           374,
           1093,
           0.08875177978168011,
           39
          ],
          [
           374,
           1093,
           0.08875177978168011,
           39
          ],
          [
           374,
           1093,
           0.08875177978168011,
           39
          ],
          [
           374,
           1093,
           0.08875177978168011,
           39
          ],
          [
           374,
           1093,
           0.08875177978168011,
           39
          ],
          [
           374,
           1093,
           0.08875177978168011,
           39
          ],
          [
           374,
           1093,
           0.08875177978168011,
           39
          ],
          [
           374,
           1093,
           0.08875177978168011,
           39
          ],
          [
           374,
           1093,
           0.08875177978168011,
           39
          ],
          [
           374,
           1093,
           0.08875177978168011,
           39
          ],
          [
           374,
           1093,
           0.08875177978168011,
           39
          ],
          [
           374,
           1093,
           0.08875177978168011,
           39
          ],
          [
           374,
           1093,
           0.08875177978168011,
           39
          ],
          [
           374,
           1093,
           0.08875177978168011,
           39
          ],
          [
           374,
           1093,
           0.08875177978168011,
           39
          ],
          [
           374,
           1093,
           0.08875177978168011,
           39
          ],
          [
           374,
           1093,
           0.08875177978168011,
           39
          ],
          [
           374,
           1093,
           0.08875177978168011,
           39
          ],
          [
           374,
           1093,
           0.08875177978168011,
           39
          ],
          [
           374,
           1093,
           0.08875177978168011,
           39
          ],
          [
           374,
           1093,
           0.08875177978168011,
           39
          ],
          [
           374,
           1093,
           0.08875177978168011,
           39
          ],
          [
           374,
           1093,
           0.08875177978168011,
           39
          ],
          [
           374,
           1093,
           0.08875177978168011,
           39
          ],
          [
           374,
           1093,
           0.08875177978168011,
           39
          ],
          [
           374,
           1093,
           0.08875177978168011,
           39
          ],
          [
           374,
           1093,
           0.08875177978168011,
           39
          ],
          [
           374,
           1093,
           0.08875177978168011,
           39
          ],
          [
           374,
           1093,
           0.08875177978168011,
           39
          ],
          [
           374,
           1093,
           0.08875177978168011,
           39
          ],
          [
           374,
           1093,
           0.08875177978168011,
           39
          ],
          [
           374,
           1093,
           0.08875177978168011,
           39
          ],
          [
           374,
           1093,
           0.08875177978168011,
           39
          ],
          [
           374,
           1093,
           0.08875177978168011,
           39
          ],
          [
           374,
           1093,
           0.08875177978168011,
           39
          ],
          [
           374,
           1093,
           0.08875177978168011,
           39
          ],
          [
           374,
           1093,
           0.08875177978168011,
           39
          ],
          [
           374,
           1093,
           0.08875177978168011,
           39
          ],
          [
           374,
           1093,
           0.08875177978168011,
           39
          ],
          [
           374,
           1093,
           0.08875177978168011,
           39
          ],
          [
           374,
           1093,
           0.08875177978168011,
           39
          ],
          [
           374,
           1093,
           0.08875177978168011,
           39
          ],
          [
           374,
           1093,
           0.08875177978168011,
           39
          ],
          [
           374,
           1093,
           0.08875177978168011,
           39
          ],
          [
           374,
           1093,
           0.08875177978168011,
           39
          ],
          [
           374,
           1093,
           0.08875177978168011,
           39
          ],
          [
           374,
           1093,
           0.08875177978168011,
           39
          ],
          [
           374,
           1093,
           0.08875177978168011,
           39
          ],
          [
           374,
           1093,
           0.08875177978168011,
           39
          ],
          [
           374,
           1093,
           0.08875177978168011,
           39
          ],
          [
           374,
           1093,
           0.08875177978168011,
           39
          ],
          [
           374,
           1093,
           0.08875177978168011,
           39
          ],
          [
           374,
           1093,
           0.08875177978168011,
           39
          ]
         ],
         "hovertemplate": "SKU_ID=6582<br>ORDER_RANK=%{x}<br>RATE_cumsum=%{y}<br>SKUID_total_customers=%{customdata[0]}<br>SKUID_total_transactions=%{customdata[1]}<br>SKUID_total_probability_rate=%{customdata[2]}<br>product_rank_bytotalprobrate=%{customdata[3]}<extra></extra>",
         "legendgroup": "6582",
         "line": {
          "color": "#EF553B",
          "dash": "solid"
         },
         "marker": {
          "symbol": "circle"
         },
         "mode": "lines",
         "name": "6582",
         "orientation": "v",
         "showlegend": true,
         "type": "scatter",
         "x": [
          1,
          2,
          3,
          4,
          5,
          6,
          7,
          8,
          9,
          10,
          11,
          12,
          13,
          14,
          15,
          16,
          17,
          18,
          19,
          20,
          21,
          22,
          23,
          24,
          25,
          26,
          27,
          28,
          29,
          30,
          31,
          32,
          33,
          34,
          35,
          36,
          37,
          38,
          39,
          40,
          41,
          42,
          43,
          44,
          45,
          46,
          47,
          48,
          49,
          50,
          51,
          52,
          53,
          54,
          55,
          56,
          57,
          58,
          59,
          60,
          61,
          62,
          63,
          64,
          65
         ],
         "xaxis": "x",
         "y": [
          0.030612244897959183,
          0.051969625059326056,
          0.064546748932131,
          0.0738016136687233,
          0.07736117702895112,
          0.08068343616516374,
          0.0832937826293308,
          0.0854295206454675,
          0.08566682486948268,
          0.08661604176554343,
          0.08685334598955861,
          0.08732795443758899,
          0.08780256288561937,
          0.08827717133364973,
          0.08827717133364973,
          0.08851447555766492,
          0.08875177978168011,
          0.08875177978168011,
          0.08875177978168011,
          0.08875177978168011,
          0.08875177978168011,
          0.08875177978168011,
          0.08875177978168011,
          0.08875177978168011,
          0.08875177978168011,
          0.08875177978168011,
          0.08875177978168011,
          0.08875177978168011,
          0.08875177978168011,
          0.08875177978168011,
          0.08875177978168011,
          0.08875177978168011,
          0.08875177978168011,
          0.08875177978168011,
          0.08875177978168011,
          0.08875177978168011,
          0.08875177978168011,
          0.08875177978168011,
          0.08875177978168011,
          0.08875177978168011,
          0.08875177978168011,
          0.08875177978168011,
          0.08875177978168011,
          0.08875177978168011,
          0.08875177978168011,
          0.08875177978168011,
          0.08875177978168011,
          0.08875177978168011,
          0.08875177978168011,
          0.08875177978168011,
          0.08875177978168011,
          0.08875177978168011,
          0.08875177978168011,
          0.08875177978168011,
          0.08875177978168011,
          0.08875177978168011,
          0.08875177978168011,
          0.08875177978168011,
          0.08875177978168011,
          0.08875177978168011,
          0.08875177978168011,
          0.08875177978168011,
          0.08875177978168011,
          0.08875177978168011,
          0.08875177978168011
         ],
         "yaxis": "y"
        },
        {
         "customdata": [
          [
           424,
           783,
           0.1006169909824395,
           33
          ],
          [
           424,
           783,
           0.1006169909824395,
           33
          ],
          [
           424,
           783,
           0.1006169909824395,
           33
          ],
          [
           424,
           783,
           0.1006169909824395,
           33
          ],
          [
           424,
           783,
           0.1006169909824395,
           33
          ],
          [
           424,
           783,
           0.1006169909824395,
           33
          ],
          [
           424,
           783,
           0.1006169909824395,
           33
          ],
          [
           424,
           783,
           0.1006169909824395,
           33
          ],
          [
           424,
           783,
           0.1006169909824395,
           33
          ],
          [
           424,
           783,
           0.1006169909824395,
           33
          ],
          [
           424,
           783,
           0.1006169909824395,
           33
          ],
          [
           424,
           783,
           0.1006169909824395,
           33
          ],
          [
           424,
           783,
           0.1006169909824395,
           33
          ],
          [
           424,
           783,
           0.1006169909824395,
           33
          ],
          [
           424,
           783,
           0.1006169909824395,
           33
          ],
          [
           424,
           783,
           0.1006169909824395,
           33
          ],
          [
           424,
           783,
           0.1006169909824395,
           33
          ],
          [
           424,
           783,
           0.1006169909824395,
           33
          ],
          [
           424,
           783,
           0.1006169909824395,
           33
          ],
          [
           424,
           783,
           0.1006169909824395,
           33
          ],
          [
           424,
           783,
           0.1006169909824395,
           33
          ],
          [
           424,
           783,
           0.1006169909824395,
           33
          ],
          [
           424,
           783,
           0.1006169909824395,
           33
          ],
          [
           424,
           783,
           0.1006169909824395,
           33
          ],
          [
           424,
           783,
           0.1006169909824395,
           33
          ],
          [
           424,
           783,
           0.1006169909824395,
           33
          ],
          [
           424,
           783,
           0.1006169909824395,
           33
          ],
          [
           424,
           783,
           0.1006169909824395,
           33
          ],
          [
           424,
           783,
           0.1006169909824395,
           33
          ],
          [
           424,
           783,
           0.1006169909824395,
           33
          ],
          [
           424,
           783,
           0.1006169909824395,
           33
          ],
          [
           424,
           783,
           0.1006169909824395,
           33
          ],
          [
           424,
           783,
           0.1006169909824395,
           33
          ],
          [
           424,
           783,
           0.1006169909824395,
           33
          ],
          [
           424,
           783,
           0.1006169909824395,
           33
          ],
          [
           424,
           783,
           0.1006169909824395,
           33
          ],
          [
           424,
           783,
           0.1006169909824395,
           33
          ],
          [
           424,
           783,
           0.1006169909824395,
           33
          ],
          [
           424,
           783,
           0.1006169909824395,
           33
          ],
          [
           424,
           783,
           0.1006169909824395,
           33
          ],
          [
           424,
           783,
           0.1006169909824395,
           33
          ],
          [
           424,
           783,
           0.1006169909824395,
           33
          ],
          [
           424,
           783,
           0.1006169909824395,
           33
          ],
          [
           424,
           783,
           0.1006169909824395,
           33
          ],
          [
           424,
           783,
           0.1006169909824395,
           33
          ],
          [
           424,
           783,
           0.1006169909824395,
           33
          ],
          [
           424,
           783,
           0.1006169909824395,
           33
          ],
          [
           424,
           783,
           0.1006169909824395,
           33
          ],
          [
           424,
           783,
           0.1006169909824395,
           33
          ],
          [
           424,
           783,
           0.1006169909824395,
           33
          ],
          [
           424,
           783,
           0.1006169909824395,
           33
          ],
          [
           424,
           783,
           0.1006169909824395,
           33
          ],
          [
           424,
           783,
           0.1006169909824395,
           33
          ],
          [
           424,
           783,
           0.1006169909824395,
           33
          ],
          [
           424,
           783,
           0.1006169909824395,
           33
          ],
          [
           424,
           783,
           0.1006169909824395,
           33
          ],
          [
           424,
           783,
           0.1006169909824395,
           33
          ],
          [
           424,
           783,
           0.1006169909824395,
           33
          ],
          [
           424,
           783,
           0.1006169909824395,
           33
          ],
          [
           424,
           783,
           0.1006169909824395,
           33
          ],
          [
           424,
           783,
           0.1006169909824395,
           33
          ],
          [
           424,
           783,
           0.1006169909824395,
           33
          ],
          [
           424,
           783,
           0.1006169909824395,
           33
          ],
          [
           424,
           783,
           0.1006169909824395,
           33
          ],
          [
           424,
           783,
           0.1006169909824395,
           33
          ]
         ],
         "hovertemplate": "SKU_ID=7030<br>ORDER_RANK=%{x}<br>RATE_cumsum=%{y}<br>SKUID_total_customers=%{customdata[0]}<br>SKUID_total_transactions=%{customdata[1]}<br>SKUID_total_probability_rate=%{customdata[2]}<br>product_rank_bytotalprobrate=%{customdata[3]}<extra></extra>",
         "legendgroup": "7030",
         "line": {
          "color": "#00cc96",
          "dash": "solid"
         },
         "marker": {
          "symbol": "circle"
         },
         "mode": "lines",
         "name": "7030",
         "orientation": "v",
         "showlegend": true,
         "type": "scatter",
         "x": [
          1,
          2,
          3,
          4,
          5,
          6,
          7,
          8,
          9,
          10,
          11,
          12,
          13,
          14,
          15,
          16,
          17,
          18,
          19,
          20,
          21,
          22,
          23,
          24,
          25,
          26,
          27,
          28,
          29,
          30,
          31,
          32,
          33,
          34,
          35,
          36,
          37,
          38,
          39,
          40,
          41,
          42,
          43,
          44,
          45,
          46,
          47,
          48,
          49,
          50,
          51,
          52,
          53,
          54,
          55,
          56,
          57,
          58,
          59,
          60,
          61,
          62,
          63,
          64,
          65
         ],
         "xaxis": "x",
         "y": [
          0.01613668723303275,
          0.036307546274323685,
          0.051969625059326056,
          0.06525866160417655,
          0.07332700522069294,
          0.08115804461319412,
          0.08566682486948268,
          0.08875177978168011,
          0.09183673469387756,
          0.09444708115804461,
          0.09492168960607499,
          0.09587090650213574,
          0.09776934029425724,
          0.09800664451827243,
          0.09824394874228762,
          0.09895586141433317,
          0.09943046986236355,
          0.09966777408637874,
          0.09966777408637874,
          0.09990507831039393,
          0.09990507831039393,
          0.10014238253440912,
          0.10014238253440912,
          0.10014238253440912,
          0.10014238253440912,
          0.10014238253440912,
          0.10014238253440912,
          0.10014238253440912,
          0.10014238253440912,
          0.1003796867584243,
          0.1006169909824395,
          0.1006169909824395,
          0.1006169909824395,
          0.1006169909824395,
          0.1006169909824395,
          0.1006169909824395,
          0.1006169909824395,
          0.1006169909824395,
          0.1006169909824395,
          0.1006169909824395,
          0.1006169909824395,
          0.1006169909824395,
          0.1006169909824395,
          0.1006169909824395,
          0.1006169909824395,
          0.1006169909824395,
          0.1006169909824395,
          0.1006169909824395,
          0.1006169909824395,
          0.1006169909824395,
          0.1006169909824395,
          0.1006169909824395,
          0.1006169909824395,
          0.1006169909824395,
          0.1006169909824395,
          0.1006169909824395,
          0.1006169909824395,
          0.1006169909824395,
          0.1006169909824395,
          0.1006169909824395,
          0.1006169909824395,
          0.1006169909824395,
          0.1006169909824395,
          0.1006169909824395,
          0.1006169909824395
         ],
         "yaxis": "y"
        },
        {
         "customdata": [
          [
           434,
           1136,
           0.10299003322259136,
           32
          ],
          [
           434,
           1136,
           0.10299003322259136,
           32
          ],
          [
           434,
           1136,
           0.10299003322259136,
           32
          ],
          [
           434,
           1136,
           0.10299003322259136,
           32
          ],
          [
           434,
           1136,
           0.10299003322259136,
           32
          ],
          [
           434,
           1136,
           0.10299003322259136,
           32
          ],
          [
           434,
           1136,
           0.10299003322259136,
           32
          ],
          [
           434,
           1136,
           0.10299003322259136,
           32
          ],
          [
           434,
           1136,
           0.10299003322259136,
           32
          ],
          [
           434,
           1136,
           0.10299003322259136,
           32
          ],
          [
           434,
           1136,
           0.10299003322259136,
           32
          ],
          [
           434,
           1136,
           0.10299003322259136,
           32
          ],
          [
           434,
           1136,
           0.10299003322259136,
           32
          ],
          [
           434,
           1136,
           0.10299003322259136,
           32
          ],
          [
           434,
           1136,
           0.10299003322259136,
           32
          ],
          [
           434,
           1136,
           0.10299003322259136,
           32
          ],
          [
           434,
           1136,
           0.10299003322259136,
           32
          ],
          [
           434,
           1136,
           0.10299003322259136,
           32
          ],
          [
           434,
           1136,
           0.10299003322259136,
           32
          ],
          [
           434,
           1136,
           0.10299003322259136,
           32
          ],
          [
           434,
           1136,
           0.10299003322259136,
           32
          ],
          [
           434,
           1136,
           0.10299003322259136,
           32
          ],
          [
           434,
           1136,
           0.10299003322259136,
           32
          ],
          [
           434,
           1136,
           0.10299003322259136,
           32
          ],
          [
           434,
           1136,
           0.10299003322259136,
           32
          ],
          [
           434,
           1136,
           0.10299003322259136,
           32
          ],
          [
           434,
           1136,
           0.10299003322259136,
           32
          ],
          [
           434,
           1136,
           0.10299003322259136,
           32
          ],
          [
           434,
           1136,
           0.10299003322259136,
           32
          ],
          [
           434,
           1136,
           0.10299003322259136,
           32
          ],
          [
           434,
           1136,
           0.10299003322259136,
           32
          ],
          [
           434,
           1136,
           0.10299003322259136,
           32
          ],
          [
           434,
           1136,
           0.10299003322259136,
           32
          ],
          [
           434,
           1136,
           0.10299003322259136,
           32
          ],
          [
           434,
           1136,
           0.10299003322259136,
           32
          ],
          [
           434,
           1136,
           0.10299003322259136,
           32
          ],
          [
           434,
           1136,
           0.10299003322259136,
           32
          ],
          [
           434,
           1136,
           0.10299003322259136,
           32
          ],
          [
           434,
           1136,
           0.10299003322259136,
           32
          ],
          [
           434,
           1136,
           0.10299003322259136,
           32
          ],
          [
           434,
           1136,
           0.10299003322259136,
           32
          ],
          [
           434,
           1136,
           0.10299003322259136,
           32
          ],
          [
           434,
           1136,
           0.10299003322259136,
           32
          ],
          [
           434,
           1136,
           0.10299003322259136,
           32
          ],
          [
           434,
           1136,
           0.10299003322259136,
           32
          ],
          [
           434,
           1136,
           0.10299003322259136,
           32
          ],
          [
           434,
           1136,
           0.10299003322259136,
           32
          ],
          [
           434,
           1136,
           0.10299003322259136,
           32
          ],
          [
           434,
           1136,
           0.10299003322259136,
           32
          ],
          [
           434,
           1136,
           0.10299003322259136,
           32
          ],
          [
           434,
           1136,
           0.10299003322259136,
           32
          ],
          [
           434,
           1136,
           0.10299003322259136,
           32
          ],
          [
           434,
           1136,
           0.10299003322259136,
           32
          ],
          [
           434,
           1136,
           0.10299003322259136,
           32
          ],
          [
           434,
           1136,
           0.10299003322259136,
           32
          ],
          [
           434,
           1136,
           0.10299003322259136,
           32
          ],
          [
           434,
           1136,
           0.10299003322259136,
           32
          ],
          [
           434,
           1136,
           0.10299003322259136,
           32
          ],
          [
           434,
           1136,
           0.10299003322259136,
           32
          ],
          [
           434,
           1136,
           0.10299003322259136,
           32
          ],
          [
           434,
           1136,
           0.10299003322259136,
           32
          ]
         ],
         "hovertemplate": "SKU_ID=7484<br>ORDER_RANK=%{x}<br>RATE_cumsum=%{y}<br>SKUID_total_customers=%{customdata[0]}<br>SKUID_total_transactions=%{customdata[1]}<br>SKUID_total_probability_rate=%{customdata[2]}<br>product_rank_bytotalprobrate=%{customdata[3]}<extra></extra>",
         "legendgroup": "7484",
         "line": {
          "color": "#ab63fa",
          "dash": "solid"
         },
         "marker": {
          "symbol": "circle"
         },
         "mode": "lines",
         "name": "7484",
         "orientation": "v",
         "showlegend": true,
         "type": "scatter",
         "x": [
          1,
          2,
          3,
          4,
          5,
          6,
          7,
          8,
          9,
          10,
          11,
          12,
          13,
          14,
          15,
          16,
          17,
          18,
          19,
          20,
          21,
          22,
          23,
          24,
          25,
          26,
          27,
          28,
          29,
          30,
          31,
          32,
          33,
          34,
          35,
          36,
          37,
          38,
          39,
          40,
          41,
          42,
          43,
          44,
          45,
          46,
          47,
          48,
          49,
          50,
          51,
          52,
          53,
          54,
          55,
          56,
          57,
          58,
          59,
          60,
          61
         ],
         "xaxis": "x",
         "y": [
          0.036307546274323685,
          0.059800664451827246,
          0.0738016136687233,
          0.08281917418130043,
          0.08780256288561937,
          0.09159943046986237,
          0.09444708115804462,
          0.09634551495016612,
          0.09824394874228762,
          0.09990507831039393,
          0.10132890365448505,
          0.10180351210251543,
          0.10204081632653061,
          0.10204081632653061,
          0.10204081632653061,
          0.10275272899857618,
          0.10275272899857618,
          0.10275272899857618,
          0.10275272899857618,
          0.10275272899857618,
          0.10275272899857618,
          0.10275272899857618,
          0.10275272899857618,
          0.10299003322259137,
          0.10299003322259137,
          0.10299003322259137,
          0.10299003322259137,
          0.10299003322259137,
          0.10299003322259137,
          0.10299003322259137,
          0.10299003322259137,
          0.10299003322259137,
          0.10299003322259137,
          0.10299003322259137,
          0.10299003322259137,
          0.10299003322259137,
          0.10299003322259137,
          0.10299003322259137,
          0.10299003322259137,
          0.10299003322259137,
          0.10299003322259137,
          0.10299003322259137,
          0.10299003322259137,
          0.10299003322259137,
          0.10299003322259137,
          0.10299003322259137,
          0.10299003322259137,
          0.10299003322259137,
          0.10299003322259137,
          0.10299003322259137,
          0.10299003322259137,
          0.10299003322259137,
          0.10299003322259137,
          0.10299003322259137,
          0.10299003322259137,
          0.10299003322259137,
          0.10299003322259137,
          0.10299003322259137,
          0.10299003322259137,
          0.10299003322259137,
          0.10299003322259137
         ],
         "yaxis": "y"
        },
        {
         "customdata": [
          [
           488,
           1430,
           0.11580446131941148,
           30
          ],
          [
           488,
           1430,
           0.11580446131941148,
           30
          ],
          [
           488,
           1430,
           0.11580446131941148,
           30
          ],
          [
           488,
           1430,
           0.11580446131941148,
           30
          ],
          [
           488,
           1430,
           0.11580446131941148,
           30
          ],
          [
           488,
           1430,
           0.11580446131941148,
           30
          ],
          [
           488,
           1430,
           0.11580446131941148,
           30
          ],
          [
           488,
           1430,
           0.11580446131941148,
           30
          ],
          [
           488,
           1430,
           0.11580446131941148,
           30
          ],
          [
           488,
           1430,
           0.11580446131941148,
           30
          ],
          [
           488,
           1430,
           0.11580446131941148,
           30
          ],
          [
           488,
           1430,
           0.11580446131941148,
           30
          ],
          [
           488,
           1430,
           0.11580446131941148,
           30
          ],
          [
           488,
           1430,
           0.11580446131941148,
           30
          ],
          [
           488,
           1430,
           0.11580446131941148,
           30
          ],
          [
           488,
           1430,
           0.11580446131941148,
           30
          ],
          [
           488,
           1430,
           0.11580446131941148,
           30
          ],
          [
           488,
           1430,
           0.11580446131941148,
           30
          ],
          [
           488,
           1430,
           0.11580446131941148,
           30
          ],
          [
           488,
           1430,
           0.11580446131941148,
           30
          ],
          [
           488,
           1430,
           0.11580446131941148,
           30
          ],
          [
           488,
           1430,
           0.11580446131941148,
           30
          ],
          [
           488,
           1430,
           0.11580446131941148,
           30
          ],
          [
           488,
           1430,
           0.11580446131941148,
           30
          ],
          [
           488,
           1430,
           0.11580446131941148,
           30
          ],
          [
           488,
           1430,
           0.11580446131941148,
           30
          ],
          [
           488,
           1430,
           0.11580446131941148,
           30
          ],
          [
           488,
           1430,
           0.11580446131941148,
           30
          ],
          [
           488,
           1430,
           0.11580446131941148,
           30
          ],
          [
           488,
           1430,
           0.11580446131941148,
           30
          ],
          [
           488,
           1430,
           0.11580446131941148,
           30
          ],
          [
           488,
           1430,
           0.11580446131941148,
           30
          ],
          [
           488,
           1430,
           0.11580446131941148,
           30
          ],
          [
           488,
           1430,
           0.11580446131941148,
           30
          ],
          [
           488,
           1430,
           0.11580446131941148,
           30
          ],
          [
           488,
           1430,
           0.11580446131941148,
           30
          ],
          [
           488,
           1430,
           0.11580446131941148,
           30
          ],
          [
           488,
           1430,
           0.11580446131941148,
           30
          ],
          [
           488,
           1430,
           0.11580446131941148,
           30
          ],
          [
           488,
           1430,
           0.11580446131941148,
           30
          ],
          [
           488,
           1430,
           0.11580446131941148,
           30
          ],
          [
           488,
           1430,
           0.11580446131941148,
           30
          ],
          [
           488,
           1430,
           0.11580446131941148,
           30
          ],
          [
           488,
           1430,
           0.11580446131941148,
           30
          ],
          [
           488,
           1430,
           0.11580446131941148,
           30
          ],
          [
           488,
           1430,
           0.11580446131941148,
           30
          ],
          [
           488,
           1430,
           0.11580446131941148,
           30
          ],
          [
           488,
           1430,
           0.11580446131941148,
           30
          ],
          [
           488,
           1430,
           0.11580446131941148,
           30
          ],
          [
           488,
           1430,
           0.11580446131941148,
           30
          ],
          [
           488,
           1430,
           0.11580446131941148,
           30
          ],
          [
           488,
           1430,
           0.11580446131941148,
           30
          ],
          [
           488,
           1430,
           0.11580446131941148,
           30
          ],
          [
           488,
           1430,
           0.11580446131941148,
           30
          ],
          [
           488,
           1430,
           0.11580446131941148,
           30
          ],
          [
           488,
           1430,
           0.11580446131941148,
           30
          ],
          [
           488,
           1430,
           0.11580446131941148,
           30
          ],
          [
           488,
           1430,
           0.11580446131941148,
           30
          ],
          [
           488,
           1430,
           0.11580446131941148,
           30
          ],
          [
           488,
           1430,
           0.11580446131941148,
           30
          ]
         ],
         "hovertemplate": "SKU_ID=14622<br>ORDER_RANK=%{x}<br>RATE_cumsum=%{y}<br>SKUID_total_customers=%{customdata[0]}<br>SKUID_total_transactions=%{customdata[1]}<br>SKUID_total_probability_rate=%{customdata[2]}<br>product_rank_bytotalprobrate=%{customdata[3]}<extra></extra>",
         "legendgroup": "14622",
         "line": {
          "color": "#FFA15A",
          "dash": "solid"
         },
         "marker": {
          "symbol": "circle"
         },
         "mode": "lines",
         "name": "14622",
         "orientation": "v",
         "showlegend": true,
         "type": "scatter",
         "x": [
          1,
          2,
          3,
          4,
          5,
          6,
          7,
          8,
          9,
          10,
          11,
          12,
          13,
          14,
          15,
          16,
          17,
          18,
          19,
          20,
          21,
          22,
          23,
          24,
          25,
          26,
          27,
          28,
          29,
          30,
          31,
          32,
          33,
          34,
          35,
          36,
          37,
          38,
          39,
          40,
          41,
          42,
          43,
          44,
          45,
          46,
          47,
          48,
          49,
          50,
          51,
          52,
          53,
          54,
          55,
          56,
          57,
          58,
          59,
          61
         ],
         "xaxis": "x",
         "y": [
          0.044613194114855245,
          0.07356430944470811,
          0.08827717133364973,
          0.09492168960607499,
          0.10014238253440912,
          0.10465116279069768,
          0.1079734219269103,
          0.11034646416706217,
          0.1115329852871381,
          0.1134314190792596,
          0.11461794019933555,
          0.11485524442335074,
          0.11532985287138112,
          0.11556715709539629,
          0.11556715709539629,
          0.11556715709539629,
          0.11556715709539629,
          0.11556715709539629,
          0.11580446131941148,
          0.11580446131941148,
          0.11580446131941148,
          0.11580446131941148,
          0.11580446131941148,
          0.11580446131941148,
          0.11580446131941148,
          0.11580446131941148,
          0.11580446131941148,
          0.11580446131941148,
          0.11580446131941148,
          0.11580446131941148,
          0.11580446131941148,
          0.11580446131941148,
          0.11580446131941148,
          0.11580446131941148,
          0.11580446131941148,
          0.11580446131941148,
          0.11580446131941148,
          0.11580446131941148,
          0.11580446131941148,
          0.11580446131941148,
          0.11580446131941148,
          0.11580446131941148,
          0.11580446131941148,
          0.11580446131941148,
          0.11580446131941148,
          0.11580446131941148,
          0.11580446131941148,
          0.11580446131941148,
          0.11580446131941148,
          0.11580446131941148,
          0.11580446131941148,
          0.11580446131941148,
          0.11580446131941148,
          0.11580446131941148,
          0.11580446131941148,
          0.11580446131941148,
          0.11580446131941148,
          0.11580446131941148,
          0.11580446131941148,
          0.11580446131941148
         ],
         "yaxis": "y"
        },
        {
         "customdata": [
          [
           418,
           1035,
           0.09919316563834836,
           35
          ],
          [
           418,
           1035,
           0.09919316563834836,
           35
          ],
          [
           418,
           1035,
           0.09919316563834836,
           35
          ],
          [
           418,
           1035,
           0.09919316563834836,
           35
          ],
          [
           418,
           1035,
           0.09919316563834836,
           35
          ],
          [
           418,
           1035,
           0.09919316563834836,
           35
          ],
          [
           418,
           1035,
           0.09919316563834836,
           35
          ],
          [
           418,
           1035,
           0.09919316563834836,
           35
          ],
          [
           418,
           1035,
           0.09919316563834836,
           35
          ],
          [
           418,
           1035,
           0.09919316563834836,
           35
          ],
          [
           418,
           1035,
           0.09919316563834836,
           35
          ],
          [
           418,
           1035,
           0.09919316563834836,
           35
          ],
          [
           418,
           1035,
           0.09919316563834836,
           35
          ],
          [
           418,
           1035,
           0.09919316563834836,
           35
          ],
          [
           418,
           1035,
           0.09919316563834836,
           35
          ],
          [
           418,
           1035,
           0.09919316563834836,
           35
          ],
          [
           418,
           1035,
           0.09919316563834836,
           35
          ],
          [
           418,
           1035,
           0.09919316563834836,
           35
          ],
          [
           418,
           1035,
           0.09919316563834836,
           35
          ],
          [
           418,
           1035,
           0.09919316563834836,
           35
          ],
          [
           418,
           1035,
           0.09919316563834836,
           35
          ],
          [
           418,
           1035,
           0.09919316563834836,
           35
          ],
          [
           418,
           1035,
           0.09919316563834836,
           35
          ],
          [
           418,
           1035,
           0.09919316563834836,
           35
          ],
          [
           418,
           1035,
           0.09919316563834836,
           35
          ],
          [
           418,
           1035,
           0.09919316563834836,
           35
          ],
          [
           418,
           1035,
           0.09919316563834836,
           35
          ],
          [
           418,
           1035,
           0.09919316563834836,
           35
          ],
          [
           418,
           1035,
           0.09919316563834836,
           35
          ],
          [
           418,
           1035,
           0.09919316563834836,
           35
          ],
          [
           418,
           1035,
           0.09919316563834836,
           35
          ],
          [
           418,
           1035,
           0.09919316563834836,
           35
          ],
          [
           418,
           1035,
           0.09919316563834836,
           35
          ],
          [
           418,
           1035,
           0.09919316563834836,
           35
          ],
          [
           418,
           1035,
           0.09919316563834836,
           35
          ],
          [
           418,
           1035,
           0.09919316563834836,
           35
          ],
          [
           418,
           1035,
           0.09919316563834836,
           35
          ],
          [
           418,
           1035,
           0.09919316563834836,
           35
          ],
          [
           418,
           1035,
           0.09919316563834836,
           35
          ],
          [
           418,
           1035,
           0.09919316563834836,
           35
          ],
          [
           418,
           1035,
           0.09919316563834836,
           35
          ],
          [
           418,
           1035,
           0.09919316563834836,
           35
          ],
          [
           418,
           1035,
           0.09919316563834836,
           35
          ],
          [
           418,
           1035,
           0.09919316563834836,
           35
          ],
          [
           418,
           1035,
           0.09919316563834836,
           35
          ],
          [
           418,
           1035,
           0.09919316563834836,
           35
          ],
          [
           418,
           1035,
           0.09919316563834836,
           35
          ],
          [
           418,
           1035,
           0.09919316563834836,
           35
          ],
          [
           418,
           1035,
           0.09919316563834836,
           35
          ],
          [
           418,
           1035,
           0.09919316563834836,
           35
          ],
          [
           418,
           1035,
           0.09919316563834836,
           35
          ],
          [
           418,
           1035,
           0.09919316563834836,
           35
          ],
          [
           418,
           1035,
           0.09919316563834836,
           35
          ],
          [
           418,
           1035,
           0.09919316563834836,
           35
          ],
          [
           418,
           1035,
           0.09919316563834836,
           35
          ],
          [
           418,
           1035,
           0.09919316563834836,
           35
          ],
          [
           418,
           1035,
           0.09919316563834836,
           35
          ],
          [
           418,
           1035,
           0.09919316563834836,
           35
          ],
          [
           418,
           1035,
           0.09919316563834836,
           35
          ],
          [
           418,
           1035,
           0.09919316563834836,
           35
          ],
          [
           418,
           1035,
           0.09919316563834836,
           35
          ],
          [
           418,
           1035,
           0.09919316563834836,
           35
          ],
          [
           418,
           1035,
           0.09919316563834836,
           35
          ],
          [
           418,
           1035,
           0.09919316563834836,
           35
          ]
         ],
         "hovertemplate": "SKU_ID=18354<br>ORDER_RANK=%{x}<br>RATE_cumsum=%{y}<br>SKUID_total_customers=%{customdata[0]}<br>SKUID_total_transactions=%{customdata[1]}<br>SKUID_total_probability_rate=%{customdata[2]}<br>product_rank_bytotalprobrate=%{customdata[3]}<extra></extra>",
         "legendgroup": "18354",
         "line": {
          "color": "#19d3f3",
          "dash": "solid"
         },
         "marker": {
          "symbol": "circle"
         },
         "mode": "lines",
         "name": "18354",
         "orientation": "v",
         "showlegend": true,
         "type": "scatter",
         "x": [
          1,
          2,
          3,
          4,
          5,
          6,
          7,
          8,
          9,
          10,
          11,
          12,
          13,
          14,
          15,
          16,
          17,
          18,
          19,
          20,
          21,
          22,
          23,
          24,
          25,
          26,
          27,
          28,
          29,
          30,
          31,
          32,
          33,
          34,
          35,
          36,
          37,
          38,
          39,
          40,
          41,
          42,
          43,
          44,
          45,
          46,
          47,
          48,
          49,
          50,
          51,
          52,
          53,
          54,
          55,
          56,
          57,
          58,
          59,
          60,
          61,
          62,
          63,
          64
         ],
         "xaxis": "x",
         "y": [
          0.027289985761746557,
          0.045799715234931176,
          0.054105363075462744,
          0.06359753203607024,
          0.07095396298054105,
          0.07807308970099668,
          0.0813953488372093,
          0.08614143331751305,
          0.08946369245372568,
          0.09136212624584718,
          0.09302325581395349,
          0.09373516848599905,
          0.09515899383009017,
          0.0963455149501661,
          0.09753203607024205,
          0.09776934029425724,
          0.09800664451827243,
          0.09848125296630279,
          0.09871855719031798,
          0.09895586141433317,
          0.09919316563834836,
          0.09919316563834836,
          0.09919316563834836,
          0.09919316563834836,
          0.09919316563834836,
          0.09919316563834836,
          0.09919316563834836,
          0.09919316563834836,
          0.09919316563834836,
          0.09919316563834836,
          0.09919316563834836,
          0.09919316563834836,
          0.09919316563834836,
          0.09919316563834836,
          0.09919316563834836,
          0.09919316563834836,
          0.09919316563834836,
          0.09919316563834836,
          0.09919316563834836,
          0.09919316563834836,
          0.09919316563834836,
          0.09919316563834836,
          0.09919316563834836,
          0.09919316563834836,
          0.09919316563834836,
          0.09919316563834836,
          0.09919316563834836,
          0.09919316563834836,
          0.09919316563834836,
          0.09919316563834836,
          0.09919316563834836,
          0.09919316563834836,
          0.09919316563834836,
          0.09919316563834836,
          0.09919316563834836,
          0.09919316563834836,
          0.09919316563834836,
          0.09919316563834836,
          0.09919316563834836,
          0.09919316563834836,
          0.09919316563834836,
          0.09919316563834836,
          0.09919316563834836,
          0.09919316563834836
         ],
         "yaxis": "y"
        },
        {
         "customdata": [
          [
           463,
           1141,
           0.1098718557190318,
           31
          ],
          [
           463,
           1141,
           0.1098718557190318,
           31
          ],
          [
           463,
           1141,
           0.1098718557190318,
           31
          ],
          [
           463,
           1141,
           0.1098718557190318,
           31
          ],
          [
           463,
           1141,
           0.1098718557190318,
           31
          ],
          [
           463,
           1141,
           0.1098718557190318,
           31
          ],
          [
           463,
           1141,
           0.1098718557190318,
           31
          ],
          [
           463,
           1141,
           0.1098718557190318,
           31
          ],
          [
           463,
           1141,
           0.1098718557190318,
           31
          ],
          [
           463,
           1141,
           0.1098718557190318,
           31
          ],
          [
           463,
           1141,
           0.1098718557190318,
           31
          ],
          [
           463,
           1141,
           0.1098718557190318,
           31
          ],
          [
           463,
           1141,
           0.1098718557190318,
           31
          ],
          [
           463,
           1141,
           0.1098718557190318,
           31
          ],
          [
           463,
           1141,
           0.1098718557190318,
           31
          ],
          [
           463,
           1141,
           0.1098718557190318,
           31
          ],
          [
           463,
           1141,
           0.1098718557190318,
           31
          ],
          [
           463,
           1141,
           0.1098718557190318,
           31
          ],
          [
           463,
           1141,
           0.1098718557190318,
           31
          ],
          [
           463,
           1141,
           0.1098718557190318,
           31
          ],
          [
           463,
           1141,
           0.1098718557190318,
           31
          ],
          [
           463,
           1141,
           0.1098718557190318,
           31
          ],
          [
           463,
           1141,
           0.1098718557190318,
           31
          ],
          [
           463,
           1141,
           0.1098718557190318,
           31
          ],
          [
           463,
           1141,
           0.1098718557190318,
           31
          ],
          [
           463,
           1141,
           0.1098718557190318,
           31
          ],
          [
           463,
           1141,
           0.1098718557190318,
           31
          ],
          [
           463,
           1141,
           0.1098718557190318,
           31
          ],
          [
           463,
           1141,
           0.1098718557190318,
           31
          ],
          [
           463,
           1141,
           0.1098718557190318,
           31
          ],
          [
           463,
           1141,
           0.1098718557190318,
           31
          ],
          [
           463,
           1141,
           0.1098718557190318,
           31
          ],
          [
           463,
           1141,
           0.1098718557190318,
           31
          ],
          [
           463,
           1141,
           0.1098718557190318,
           31
          ],
          [
           463,
           1141,
           0.1098718557190318,
           31
          ],
          [
           463,
           1141,
           0.1098718557190318,
           31
          ],
          [
           463,
           1141,
           0.1098718557190318,
           31
          ],
          [
           463,
           1141,
           0.1098718557190318,
           31
          ],
          [
           463,
           1141,
           0.1098718557190318,
           31
          ],
          [
           463,
           1141,
           0.1098718557190318,
           31
          ],
          [
           463,
           1141,
           0.1098718557190318,
           31
          ],
          [
           463,
           1141,
           0.1098718557190318,
           31
          ],
          [
           463,
           1141,
           0.1098718557190318,
           31
          ],
          [
           463,
           1141,
           0.1098718557190318,
           31
          ],
          [
           463,
           1141,
           0.1098718557190318,
           31
          ],
          [
           463,
           1141,
           0.1098718557190318,
           31
          ],
          [
           463,
           1141,
           0.1098718557190318,
           31
          ],
          [
           463,
           1141,
           0.1098718557190318,
           31
          ],
          [
           463,
           1141,
           0.1098718557190318,
           31
          ],
          [
           463,
           1141,
           0.1098718557190318,
           31
          ],
          [
           463,
           1141,
           0.1098718557190318,
           31
          ],
          [
           463,
           1141,
           0.1098718557190318,
           31
          ],
          [
           463,
           1141,
           0.1098718557190318,
           31
          ],
          [
           463,
           1141,
           0.1098718557190318,
           31
          ],
          [
           463,
           1141,
           0.1098718557190318,
           31
          ],
          [
           463,
           1141,
           0.1098718557190318,
           31
          ],
          [
           463,
           1141,
           0.1098718557190318,
           31
          ],
          [
           463,
           1141,
           0.1098718557190318,
           31
          ],
          [
           463,
           1141,
           0.1098718557190318,
           31
          ],
          [
           463,
           1141,
           0.1098718557190318,
           31
          ],
          [
           463,
           1141,
           0.1098718557190318,
           31
          ],
          [
           463,
           1141,
           0.1098718557190318,
           31
          ],
          [
           463,
           1141,
           0.1098718557190318,
           31
          ],
          [
           463,
           1141,
           0.1098718557190318,
           31
          ]
         ],
         "hovertemplate": "SKU_ID=18355<br>ORDER_RANK=%{x}<br>RATE_cumsum=%{y}<br>SKUID_total_customers=%{customdata[0]}<br>SKUID_total_transactions=%{customdata[1]}<br>SKUID_total_probability_rate=%{customdata[2]}<br>product_rank_bytotalprobrate=%{customdata[3]}<extra></extra>",
         "legendgroup": "18355",
         "line": {
          "color": "#FF6692",
          "dash": "solid"
         },
         "marker": {
          "symbol": "circle"
         },
         "mode": "lines",
         "name": "18355",
         "orientation": "v",
         "showlegend": true,
         "type": "scatter",
         "x": [
          1,
          2,
          3,
          4,
          5,
          6,
          7,
          8,
          9,
          10,
          11,
          12,
          13,
          14,
          15,
          16,
          17,
          18,
          19,
          20,
          21,
          22,
          23,
          24,
          25,
          26,
          27,
          28,
          29,
          30,
          31,
          32,
          33,
          34,
          35,
          36,
          37,
          38,
          39,
          40,
          41,
          42,
          43,
          44,
          45,
          46,
          47,
          48,
          49,
          50,
          51,
          52,
          53,
          54,
          55,
          56,
          57,
          58,
          59,
          60,
          61,
          63,
          64,
          65
         ],
         "xaxis": "x",
         "y": [
          0.023967726625533935,
          0.05434266729947793,
          0.068343616516374,
          0.08376839107736118,
          0.08946369245372568,
          0.09539629805410536,
          0.09776934029425724,
          0.1003796867584243,
          0.1022781205505458,
          0.10275272899857618,
          0.10441385856668249,
          0.10560037968675842,
          0.10702420503084956,
          0.10821072615092549,
          0.10939724727100143,
          0.10939724727100143,
          0.10939724727100143,
          0.1098718557190318,
          0.1098718557190318,
          0.1098718557190318,
          0.1098718557190318,
          0.1098718557190318,
          0.1098718557190318,
          0.1098718557190318,
          0.1098718557190318,
          0.1098718557190318,
          0.1098718557190318,
          0.1098718557190318,
          0.1098718557190318,
          0.1098718557190318,
          0.1098718557190318,
          0.1098718557190318,
          0.1098718557190318,
          0.1098718557190318,
          0.1098718557190318,
          0.1098718557190318,
          0.1098718557190318,
          0.1098718557190318,
          0.1098718557190318,
          0.1098718557190318,
          0.1098718557190318,
          0.1098718557190318,
          0.1098718557190318,
          0.1098718557190318,
          0.1098718557190318,
          0.1098718557190318,
          0.1098718557190318,
          0.1098718557190318,
          0.1098718557190318,
          0.1098718557190318,
          0.1098718557190318,
          0.1098718557190318,
          0.1098718557190318,
          0.1098718557190318,
          0.1098718557190318,
          0.1098718557190318,
          0.1098718557190318,
          0.1098718557190318,
          0.1098718557190318,
          0.1098718557190318,
          0.1098718557190318,
          0.1098718557190318,
          0.1098718557190318,
          0.1098718557190318
         ],
         "yaxis": "y"
        },
        {
         "customdata": [
          [
           382,
           1149,
           0.09065021357380161,
           37
          ],
          [
           382,
           1149,
           0.09065021357380161,
           37
          ],
          [
           382,
           1149,
           0.09065021357380161,
           37
          ],
          [
           382,
           1149,
           0.09065021357380161,
           37
          ],
          [
           382,
           1149,
           0.09065021357380161,
           37
          ],
          [
           382,
           1149,
           0.09065021357380161,
           37
          ],
          [
           382,
           1149,
           0.09065021357380161,
           37
          ],
          [
           382,
           1149,
           0.09065021357380161,
           37
          ],
          [
           382,
           1149,
           0.09065021357380161,
           37
          ],
          [
           382,
           1149,
           0.09065021357380161,
           37
          ],
          [
           382,
           1149,
           0.09065021357380161,
           37
          ],
          [
           382,
           1149,
           0.09065021357380161,
           37
          ],
          [
           382,
           1149,
           0.09065021357380161,
           37
          ],
          [
           382,
           1149,
           0.09065021357380161,
           37
          ],
          [
           382,
           1149,
           0.09065021357380161,
           37
          ],
          [
           382,
           1149,
           0.09065021357380161,
           37
          ],
          [
           382,
           1149,
           0.09065021357380161,
           37
          ],
          [
           382,
           1149,
           0.09065021357380161,
           37
          ],
          [
           382,
           1149,
           0.09065021357380161,
           37
          ],
          [
           382,
           1149,
           0.09065021357380161,
           37
          ],
          [
           382,
           1149,
           0.09065021357380161,
           37
          ],
          [
           382,
           1149,
           0.09065021357380161,
           37
          ],
          [
           382,
           1149,
           0.09065021357380161,
           37
          ],
          [
           382,
           1149,
           0.09065021357380161,
           37
          ],
          [
           382,
           1149,
           0.09065021357380161,
           37
          ],
          [
           382,
           1149,
           0.09065021357380161,
           37
          ],
          [
           382,
           1149,
           0.09065021357380161,
           37
          ],
          [
           382,
           1149,
           0.09065021357380161,
           37
          ],
          [
           382,
           1149,
           0.09065021357380161,
           37
          ],
          [
           382,
           1149,
           0.09065021357380161,
           37
          ],
          [
           382,
           1149,
           0.09065021357380161,
           37
          ],
          [
           382,
           1149,
           0.09065021357380161,
           37
          ],
          [
           382,
           1149,
           0.09065021357380161,
           37
          ],
          [
           382,
           1149,
           0.09065021357380161,
           37
          ],
          [
           382,
           1149,
           0.09065021357380161,
           37
          ],
          [
           382,
           1149,
           0.09065021357380161,
           37
          ],
          [
           382,
           1149,
           0.09065021357380161,
           37
          ],
          [
           382,
           1149,
           0.09065021357380161,
           37
          ],
          [
           382,
           1149,
           0.09065021357380161,
           37
          ],
          [
           382,
           1149,
           0.09065021357380161,
           37
          ],
          [
           382,
           1149,
           0.09065021357380161,
           37
          ],
          [
           382,
           1149,
           0.09065021357380161,
           37
          ],
          [
           382,
           1149,
           0.09065021357380161,
           37
          ],
          [
           382,
           1149,
           0.09065021357380161,
           37
          ],
          [
           382,
           1149,
           0.09065021357380161,
           37
          ],
          [
           382,
           1149,
           0.09065021357380161,
           37
          ],
          [
           382,
           1149,
           0.09065021357380161,
           37
          ],
          [
           382,
           1149,
           0.09065021357380161,
           37
          ],
          [
           382,
           1149,
           0.09065021357380161,
           37
          ],
          [
           382,
           1149,
           0.09065021357380161,
           37
          ],
          [
           382,
           1149,
           0.09065021357380161,
           37
          ],
          [
           382,
           1149,
           0.09065021357380161,
           37
          ],
          [
           382,
           1149,
           0.09065021357380161,
           37
          ],
          [
           382,
           1149,
           0.09065021357380161,
           37
          ],
          [
           382,
           1149,
           0.09065021357380161,
           37
          ],
          [
           382,
           1149,
           0.09065021357380161,
           37
          ],
          [
           382,
           1149,
           0.09065021357380161,
           37
          ],
          [
           382,
           1149,
           0.09065021357380161,
           37
          ],
          [
           382,
           1149,
           0.09065021357380161,
           37
          ],
          [
           382,
           1149,
           0.09065021357380161,
           37
          ],
          [
           382,
           1149,
           0.09065021357380161,
           37
          ],
          [
           382,
           1149,
           0.09065021357380161,
           37
          ],
          [
           382,
           1149,
           0.09065021357380161,
           37
          ],
          [
           382,
           1149,
           0.09065021357380161,
           37
          ],
          [
           382,
           1149,
           0.09065021357380161,
           37
          ],
          [
           382,
           1149,
           0.09065021357380161,
           37
          ],
          [
           382,
           1149,
           0.09065021357380161,
           37
          ]
         ],
         "hovertemplate": "SKU_ID=19089<br>ORDER_RANK=%{x}<br>RATE_cumsum=%{y}<br>SKUID_total_customers=%{customdata[0]}<br>SKUID_total_transactions=%{customdata[1]}<br>SKUID_total_probability_rate=%{customdata[2]}<br>product_rank_bytotalprobrate=%{customdata[3]}<extra></extra>",
         "legendgroup": "19089",
         "line": {
          "color": "#B6E880",
          "dash": "solid"
         },
         "marker": {
          "symbol": "circle"
         },
         "mode": "lines",
         "name": "19089",
         "orientation": "v",
         "showlegend": true,
         "type": "scatter",
         "x": [
          1,
          2,
          3,
          4,
          5,
          6,
          7,
          8,
          9,
          10,
          11,
          12,
          13,
          14,
          15,
          16,
          17,
          18,
          19,
          20,
          21,
          22,
          23,
          24,
          25,
          26,
          27,
          28,
          29,
          30,
          31,
          32,
          33,
          34,
          35,
          36,
          37,
          38,
          39,
          40,
          41,
          42,
          43,
          44,
          45,
          46,
          47,
          48,
          49,
          50,
          51,
          52,
          53,
          54,
          55,
          56,
          57,
          58,
          59,
          60,
          61,
          62,
          63,
          64,
          65,
          66,
          67
         ],
         "xaxis": "x",
         "y": [
          0.036782154722354056,
          0.059800664451827246,
          0.0700047460844803,
          0.07641196013289037,
          0.08163265306122448,
          0.08448030374940674,
          0.08566682486948268,
          0.08661604176554343,
          0.08780256288561937,
          0.08851447555766492,
          0.0889890840056953,
          0.08922638822971049,
          0.08970099667774087,
          0.08970099667774087,
          0.09017560512577123,
          0.09017560512577123,
          0.09017560512577123,
          0.09017560512577123,
          0.09017560512577123,
          0.09017560512577123,
          0.09041290934978642,
          0.09041290934978642,
          0.09041290934978642,
          0.09041290934978642,
          0.09065021357380161,
          0.09065021357380161,
          0.09065021357380161,
          0.09065021357380161,
          0.09065021357380161,
          0.09065021357380161,
          0.09065021357380161,
          0.09065021357380161,
          0.09065021357380161,
          0.09065021357380161,
          0.09065021357380161,
          0.09065021357380161,
          0.09065021357380161,
          0.09065021357380161,
          0.09065021357380161,
          0.09065021357380161,
          0.09065021357380161,
          0.09065021357380161,
          0.09065021357380161,
          0.09065021357380161,
          0.09065021357380161,
          0.09065021357380161,
          0.09065021357380161,
          0.09065021357380161,
          0.09065021357380161,
          0.09065021357380161,
          0.09065021357380161,
          0.09065021357380161,
          0.09065021357380161,
          0.09065021357380161,
          0.09065021357380161,
          0.09065021357380161,
          0.09065021357380161,
          0.09065021357380161,
          0.09065021357380161,
          0.09065021357380161,
          0.09065021357380161,
          0.09065021357380161,
          0.09065021357380161,
          0.09065021357380161,
          0.09065021357380161,
          0.09065021357380161,
          0.09065021357380161
         ],
         "yaxis": "y"
        },
        {
         "customdata": [
          [
           422,
           860,
           0.10014238253440912,
           34
          ],
          [
           422,
           860,
           0.10014238253440912,
           34
          ],
          [
           422,
           860,
           0.10014238253440912,
           34
          ],
          [
           422,
           860,
           0.10014238253440912,
           34
          ],
          [
           422,
           860,
           0.10014238253440912,
           34
          ],
          [
           422,
           860,
           0.10014238253440912,
           34
          ],
          [
           422,
           860,
           0.10014238253440912,
           34
          ],
          [
           422,
           860,
           0.10014238253440912,
           34
          ],
          [
           422,
           860,
           0.10014238253440912,
           34
          ],
          [
           422,
           860,
           0.10014238253440912,
           34
          ],
          [
           422,
           860,
           0.10014238253440912,
           34
          ],
          [
           422,
           860,
           0.10014238253440912,
           34
          ],
          [
           422,
           860,
           0.10014238253440912,
           34
          ],
          [
           422,
           860,
           0.10014238253440912,
           34
          ],
          [
           422,
           860,
           0.10014238253440912,
           34
          ],
          [
           422,
           860,
           0.10014238253440912,
           34
          ],
          [
           422,
           860,
           0.10014238253440912,
           34
          ],
          [
           422,
           860,
           0.10014238253440912,
           34
          ],
          [
           422,
           860,
           0.10014238253440912,
           34
          ],
          [
           422,
           860,
           0.10014238253440912,
           34
          ],
          [
           422,
           860,
           0.10014238253440912,
           34
          ],
          [
           422,
           860,
           0.10014238253440912,
           34
          ],
          [
           422,
           860,
           0.10014238253440912,
           34
          ],
          [
           422,
           860,
           0.10014238253440912,
           34
          ],
          [
           422,
           860,
           0.10014238253440912,
           34
          ],
          [
           422,
           860,
           0.10014238253440912,
           34
          ],
          [
           422,
           860,
           0.10014238253440912,
           34
          ],
          [
           422,
           860,
           0.10014238253440912,
           34
          ],
          [
           422,
           860,
           0.10014238253440912,
           34
          ],
          [
           422,
           860,
           0.10014238253440912,
           34
          ],
          [
           422,
           860,
           0.10014238253440912,
           34
          ],
          [
           422,
           860,
           0.10014238253440912,
           34
          ],
          [
           422,
           860,
           0.10014238253440912,
           34
          ],
          [
           422,
           860,
           0.10014238253440912,
           34
          ],
          [
           422,
           860,
           0.10014238253440912,
           34
          ],
          [
           422,
           860,
           0.10014238253440912,
           34
          ],
          [
           422,
           860,
           0.10014238253440912,
           34
          ],
          [
           422,
           860,
           0.10014238253440912,
           34
          ],
          [
           422,
           860,
           0.10014238253440912,
           34
          ],
          [
           422,
           860,
           0.10014238253440912,
           34
          ],
          [
           422,
           860,
           0.10014238253440912,
           34
          ],
          [
           422,
           860,
           0.10014238253440912,
           34
          ],
          [
           422,
           860,
           0.10014238253440912,
           34
          ],
          [
           422,
           860,
           0.10014238253440912,
           34
          ],
          [
           422,
           860,
           0.10014238253440912,
           34
          ],
          [
           422,
           860,
           0.10014238253440912,
           34
          ],
          [
           422,
           860,
           0.10014238253440912,
           34
          ],
          [
           422,
           860,
           0.10014238253440912,
           34
          ],
          [
           422,
           860,
           0.10014238253440912,
           34
          ],
          [
           422,
           860,
           0.10014238253440912,
           34
          ],
          [
           422,
           860,
           0.10014238253440912,
           34
          ],
          [
           422,
           860,
           0.10014238253440912,
           34
          ],
          [
           422,
           860,
           0.10014238253440912,
           34
          ],
          [
           422,
           860,
           0.10014238253440912,
           34
          ],
          [
           422,
           860,
           0.10014238253440912,
           34
          ],
          [
           422,
           860,
           0.10014238253440912,
           34
          ],
          [
           422,
           860,
           0.10014238253440912,
           34
          ]
         ],
         "hovertemplate": "SKU_ID=23903<br>ORDER_RANK=%{x}<br>RATE_cumsum=%{y}<br>SKUID_total_customers=%{customdata[0]}<br>SKUID_total_transactions=%{customdata[1]}<br>SKUID_total_probability_rate=%{customdata[2]}<br>product_rank_bytotalprobrate=%{customdata[3]}<extra></extra>",
         "legendgroup": "23903",
         "line": {
          "color": "#FF97FF",
          "dash": "solid"
         },
         "marker": {
          "symbol": "circle"
         },
         "mode": "lines",
         "name": "23903",
         "orientation": "v",
         "showlegend": true,
         "type": "scatter",
         "x": [
          1,
          2,
          3,
          4,
          5,
          6,
          7,
          8,
          9,
          10,
          11,
          12,
          13,
          14,
          15,
          16,
          17,
          18,
          19,
          20,
          21,
          22,
          23,
          24,
          25,
          26,
          27,
          28,
          29,
          30,
          31,
          32,
          33,
          34,
          35,
          36,
          37,
          38,
          39,
          40,
          41,
          42,
          43,
          44,
          45,
          46,
          47,
          48,
          49,
          50,
          51,
          52,
          53,
          54,
          55,
          56,
          57
         ],
         "xaxis": "x",
         "y": [
          0.031086853345989558,
          0.05030849549121974,
          0.062173706691979115,
          0.07166587565258661,
          0.07925961082107262,
          0.0851922164214523,
          0.08922638822971049,
          0.0927859515899383,
          0.09373516848599905,
          0.09587090650213574,
          0.09682012339819648,
          0.09776934029425724,
          0.09800664451827243,
          0.09871855719031798,
          0.09919316563834836,
          0.09966777408637874,
          0.09990507831039393,
          0.09990507831039393,
          0.10014238253440912,
          0.10014238253440912,
          0.10014238253440912,
          0.10014238253440912,
          0.10014238253440912,
          0.10014238253440912,
          0.10014238253440912,
          0.10014238253440912,
          0.10014238253440912,
          0.10014238253440912,
          0.10014238253440912,
          0.10014238253440912,
          0.10014238253440912,
          0.10014238253440912,
          0.10014238253440912,
          0.10014238253440912,
          0.10014238253440912,
          0.10014238253440912,
          0.10014238253440912,
          0.10014238253440912,
          0.10014238253440912,
          0.10014238253440912,
          0.10014238253440912,
          0.10014238253440912,
          0.10014238253440912,
          0.10014238253440912,
          0.10014238253440912,
          0.10014238253440912,
          0.10014238253440912,
          0.10014238253440912,
          0.10014238253440912,
          0.10014238253440912,
          0.10014238253440912,
          0.10014238253440912,
          0.10014238253440912,
          0.10014238253440912,
          0.10014238253440912,
          0.10014238253440912,
          0.10014238253440912
         ],
         "yaxis": "y"
        },
        {
         "customdata": [
          [
           378,
           984,
           0.08970099667774087,
           38
          ],
          [
           378,
           984,
           0.08970099667774087,
           38
          ],
          [
           378,
           984,
           0.08970099667774087,
           38
          ],
          [
           378,
           984,
           0.08970099667774087,
           38
          ],
          [
           378,
           984,
           0.08970099667774087,
           38
          ],
          [
           378,
           984,
           0.08970099667774087,
           38
          ],
          [
           378,
           984,
           0.08970099667774087,
           38
          ],
          [
           378,
           984,
           0.08970099667774087,
           38
          ],
          [
           378,
           984,
           0.08970099667774087,
           38
          ],
          [
           378,
           984,
           0.08970099667774087,
           38
          ],
          [
           378,
           984,
           0.08970099667774087,
           38
          ],
          [
           378,
           984,
           0.08970099667774087,
           38
          ],
          [
           378,
           984,
           0.08970099667774087,
           38
          ],
          [
           378,
           984,
           0.08970099667774087,
           38
          ],
          [
           378,
           984,
           0.08970099667774087,
           38
          ],
          [
           378,
           984,
           0.08970099667774087,
           38
          ],
          [
           378,
           984,
           0.08970099667774087,
           38
          ],
          [
           378,
           984,
           0.08970099667774087,
           38
          ],
          [
           378,
           984,
           0.08970099667774087,
           38
          ],
          [
           378,
           984,
           0.08970099667774087,
           38
          ],
          [
           378,
           984,
           0.08970099667774087,
           38
          ],
          [
           378,
           984,
           0.08970099667774087,
           38
          ],
          [
           378,
           984,
           0.08970099667774087,
           38
          ],
          [
           378,
           984,
           0.08970099667774087,
           38
          ],
          [
           378,
           984,
           0.08970099667774087,
           38
          ],
          [
           378,
           984,
           0.08970099667774087,
           38
          ],
          [
           378,
           984,
           0.08970099667774087,
           38
          ],
          [
           378,
           984,
           0.08970099667774087,
           38
          ],
          [
           378,
           984,
           0.08970099667774087,
           38
          ],
          [
           378,
           984,
           0.08970099667774087,
           38
          ],
          [
           378,
           984,
           0.08970099667774087,
           38
          ],
          [
           378,
           984,
           0.08970099667774087,
           38
          ],
          [
           378,
           984,
           0.08970099667774087,
           38
          ],
          [
           378,
           984,
           0.08970099667774087,
           38
          ],
          [
           378,
           984,
           0.08970099667774087,
           38
          ],
          [
           378,
           984,
           0.08970099667774087,
           38
          ],
          [
           378,
           984,
           0.08970099667774087,
           38
          ],
          [
           378,
           984,
           0.08970099667774087,
           38
          ],
          [
           378,
           984,
           0.08970099667774087,
           38
          ],
          [
           378,
           984,
           0.08970099667774087,
           38
          ],
          [
           378,
           984,
           0.08970099667774087,
           38
          ],
          [
           378,
           984,
           0.08970099667774087,
           38
          ],
          [
           378,
           984,
           0.08970099667774087,
           38
          ],
          [
           378,
           984,
           0.08970099667774087,
           38
          ],
          [
           378,
           984,
           0.08970099667774087,
           38
          ],
          [
           378,
           984,
           0.08970099667774087,
           38
          ],
          [
           378,
           984,
           0.08970099667774087,
           38
          ],
          [
           378,
           984,
           0.08970099667774087,
           38
          ],
          [
           378,
           984,
           0.08970099667774087,
           38
          ],
          [
           378,
           984,
           0.08970099667774087,
           38
          ],
          [
           378,
           984,
           0.08970099667774087,
           38
          ],
          [
           378,
           984,
           0.08970099667774087,
           38
          ],
          [
           378,
           984,
           0.08970099667774087,
           38
          ],
          [
           378,
           984,
           0.08970099667774087,
           38
          ],
          [
           378,
           984,
           0.08970099667774087,
           38
          ],
          [
           378,
           984,
           0.08970099667774087,
           38
          ],
          [
           378,
           984,
           0.08970099667774087,
           38
          ],
          [
           378,
           984,
           0.08970099667774087,
           38
          ],
          [
           378,
           984,
           0.08970099667774087,
           38
          ],
          [
           378,
           984,
           0.08970099667774087,
           38
          ],
          [
           378,
           984,
           0.08970099667774087,
           38
          ],
          [
           378,
           984,
           0.08970099667774087,
           38
          ],
          [
           378,
           984,
           0.08970099667774087,
           38
          ],
          [
           378,
           984,
           0.08970099667774087,
           38
          ]
         ],
         "hovertemplate": "SKU_ID=25059<br>ORDER_RANK=%{x}<br>RATE_cumsum=%{y}<br>SKUID_total_customers=%{customdata[0]}<br>SKUID_total_transactions=%{customdata[1]}<br>SKUID_total_probability_rate=%{customdata[2]}<br>product_rank_bytotalprobrate=%{customdata[3]}<extra></extra>",
         "legendgroup": "25059",
         "line": {
          "color": "#FECB52",
          "dash": "solid"
         },
         "marker": {
          "symbol": "circle"
         },
         "mode": "lines",
         "name": "25059",
         "orientation": "v",
         "showlegend": true,
         "type": "scatter",
         "x": [
          1,
          2,
          3,
          4,
          5,
          6,
          7,
          8,
          9,
          10,
          11,
          12,
          13,
          14,
          15,
          16,
          17,
          18,
          19,
          20,
          21,
          22,
          23,
          24,
          25,
          26,
          27,
          28,
          29,
          30,
          31,
          32,
          33,
          34,
          35,
          36,
          37,
          38,
          39,
          40,
          41,
          42,
          43,
          44,
          45,
          46,
          47,
          48,
          49,
          50,
          51,
          52,
          53,
          54,
          55,
          56,
          57,
          58,
          59,
          60,
          61,
          62,
          63,
          64
         ],
         "xaxis": "x",
         "y": [
          0.022543901281442808,
          0.04318936877076412,
          0.054579971523493115,
          0.06597057427622212,
          0.07214048410061699,
          0.07664926435690556,
          0.07973421926910298,
          0.08210726150925486,
          0.08376839107736117,
          0.08495491219743712,
          0.0851922164214523,
          0.08590412909349786,
          0.08685334598955861,
          0.08780256288561936,
          0.08827717133364973,
          0.08851447555766492,
          0.0889890840056953,
          0.08922638822971049,
          0.08922638822971049,
          0.08922638822971049,
          0.08946369245372568,
          0.08946369245372568,
          0.08970099667774087,
          0.08970099667774087,
          0.08970099667774087,
          0.08970099667774087,
          0.08970099667774087,
          0.08970099667774087,
          0.08970099667774087,
          0.08970099667774087,
          0.08970099667774087,
          0.08970099667774087,
          0.08970099667774087,
          0.08970099667774087,
          0.08970099667774087,
          0.08970099667774087,
          0.08970099667774087,
          0.08970099667774087,
          0.08970099667774087,
          0.08970099667774087,
          0.08970099667774087,
          0.08970099667774087,
          0.08970099667774087,
          0.08970099667774087,
          0.08970099667774087,
          0.08970099667774087,
          0.08970099667774087,
          0.08970099667774087,
          0.08970099667774087,
          0.08970099667774087,
          0.08970099667774087,
          0.08970099667774087,
          0.08970099667774087,
          0.08970099667774087,
          0.08970099667774087,
          0.08970099667774087,
          0.08970099667774087,
          0.08970099667774087,
          0.08970099667774087,
          0.08970099667774087,
          0.08970099667774087,
          0.08970099667774087,
          0.08970099667774087,
          0.08970099667774087
         ],
         "yaxis": "y"
        },
        {
         "customdata": [
          [
           396,
           984,
           0.09397247271001424,
           36
          ],
          [
           396,
           984,
           0.09397247271001424,
           36
          ],
          [
           396,
           984,
           0.09397247271001424,
           36
          ],
          [
           396,
           984,
           0.09397247271001424,
           36
          ],
          [
           396,
           984,
           0.09397247271001424,
           36
          ],
          [
           396,
           984,
           0.09397247271001424,
           36
          ],
          [
           396,
           984,
           0.09397247271001424,
           36
          ],
          [
           396,
           984,
           0.09397247271001424,
           36
          ],
          [
           396,
           984,
           0.09397247271001424,
           36
          ],
          [
           396,
           984,
           0.09397247271001424,
           36
          ],
          [
           396,
           984,
           0.09397247271001424,
           36
          ],
          [
           396,
           984,
           0.09397247271001424,
           36
          ],
          [
           396,
           984,
           0.09397247271001424,
           36
          ],
          [
           396,
           984,
           0.09397247271001424,
           36
          ],
          [
           396,
           984,
           0.09397247271001424,
           36
          ],
          [
           396,
           984,
           0.09397247271001424,
           36
          ],
          [
           396,
           984,
           0.09397247271001424,
           36
          ],
          [
           396,
           984,
           0.09397247271001424,
           36
          ],
          [
           396,
           984,
           0.09397247271001424,
           36
          ],
          [
           396,
           984,
           0.09397247271001424,
           36
          ],
          [
           396,
           984,
           0.09397247271001424,
           36
          ],
          [
           396,
           984,
           0.09397247271001424,
           36
          ],
          [
           396,
           984,
           0.09397247271001424,
           36
          ],
          [
           396,
           984,
           0.09397247271001424,
           36
          ],
          [
           396,
           984,
           0.09397247271001424,
           36
          ],
          [
           396,
           984,
           0.09397247271001424,
           36
          ],
          [
           396,
           984,
           0.09397247271001424,
           36
          ],
          [
           396,
           984,
           0.09397247271001424,
           36
          ],
          [
           396,
           984,
           0.09397247271001424,
           36
          ],
          [
           396,
           984,
           0.09397247271001424,
           36
          ],
          [
           396,
           984,
           0.09397247271001424,
           36
          ],
          [
           396,
           984,
           0.09397247271001424,
           36
          ],
          [
           396,
           984,
           0.09397247271001424,
           36
          ],
          [
           396,
           984,
           0.09397247271001424,
           36
          ],
          [
           396,
           984,
           0.09397247271001424,
           36
          ],
          [
           396,
           984,
           0.09397247271001424,
           36
          ],
          [
           396,
           984,
           0.09397247271001424,
           36
          ],
          [
           396,
           984,
           0.09397247271001424,
           36
          ],
          [
           396,
           984,
           0.09397247271001424,
           36
          ],
          [
           396,
           984,
           0.09397247271001424,
           36
          ],
          [
           396,
           984,
           0.09397247271001424,
           36
          ],
          [
           396,
           984,
           0.09397247271001424,
           36
          ],
          [
           396,
           984,
           0.09397247271001424,
           36
          ],
          [
           396,
           984,
           0.09397247271001424,
           36
          ],
          [
           396,
           984,
           0.09397247271001424,
           36
          ],
          [
           396,
           984,
           0.09397247271001424,
           36
          ],
          [
           396,
           984,
           0.09397247271001424,
           36
          ],
          [
           396,
           984,
           0.09397247271001424,
           36
          ],
          [
           396,
           984,
           0.09397247271001424,
           36
          ],
          [
           396,
           984,
           0.09397247271001424,
           36
          ],
          [
           396,
           984,
           0.09397247271001424,
           36
          ],
          [
           396,
           984,
           0.09397247271001424,
           36
          ],
          [
           396,
           984,
           0.09397247271001424,
           36
          ],
          [
           396,
           984,
           0.09397247271001424,
           36
          ],
          [
           396,
           984,
           0.09397247271001424,
           36
          ],
          [
           396,
           984,
           0.09397247271001424,
           36
          ],
          [
           396,
           984,
           0.09397247271001424,
           36
          ],
          [
           396,
           984,
           0.09397247271001424,
           36
          ],
          [
           396,
           984,
           0.09397247271001424,
           36
          ],
          [
           396,
           984,
           0.09397247271001424,
           36
          ],
          [
           396,
           984,
           0.09397247271001424,
           36
          ],
          [
           396,
           984,
           0.09397247271001424,
           36
          ],
          [
           396,
           984,
           0.09397247271001424,
           36
          ],
          [
           396,
           984,
           0.09397247271001424,
           36
          ],
          [
           396,
           984,
           0.09397247271001424,
           36
          ]
         ],
         "hovertemplate": "SKU_ID=25689<br>ORDER_RANK=%{x}<br>RATE_cumsum=%{y}<br>SKUID_total_customers=%{customdata[0]}<br>SKUID_total_transactions=%{customdata[1]}<br>SKUID_total_probability_rate=%{customdata[2]}<br>product_rank_bytotalprobrate=%{customdata[3]}<extra></extra>",
         "legendgroup": "25689",
         "line": {
          "color": "#636efa",
          "dash": "solid"
         },
         "marker": {
          "symbol": "circle"
         },
         "mode": "lines",
         "name": "25689",
         "orientation": "v",
         "showlegend": true,
         "type": "scatter",
         "x": [
          1,
          2,
          3,
          4,
          5,
          6,
          7,
          8,
          9,
          10,
          11,
          12,
          13,
          14,
          15,
          16,
          17,
          18,
          19,
          20,
          21,
          22,
          23,
          24,
          25,
          26,
          27,
          28,
          29,
          30,
          31,
          32,
          33,
          34,
          35,
          36,
          37,
          38,
          39,
          40,
          41,
          42,
          43,
          44,
          45,
          46,
          47,
          48,
          49,
          50,
          51,
          52,
          53,
          54,
          55,
          56,
          57,
          58,
          59,
          60,
          61,
          62,
          63,
          64,
          65
         ],
         "xaxis": "x",
         "y": [
          0.027527289985761746,
          0.04579971523493118,
          0.05505457997152349,
          0.064546748932131,
          0.07332700522069294,
          0.07641196013289037,
          0.08020882771713336,
          0.0832937826293308,
          0.08590412909349787,
          0.08780256288561937,
          0.08993830090175606,
          0.09065021357380161,
          0.09112482202183199,
          0.09159943046986237,
          0.09183673469387756,
          0.09254864736592311,
          0.0927859515899383,
          0.09373516848599905,
          0.09373516848599905,
          0.09373516848599905,
          0.09373516848599905,
          0.09397247271001424,
          0.09397247271001424,
          0.09397247271001424,
          0.09397247271001424,
          0.09397247271001424,
          0.09397247271001424,
          0.09397247271001424,
          0.09397247271001424,
          0.09397247271001424,
          0.09397247271001424,
          0.09397247271001424,
          0.09397247271001424,
          0.09397247271001424,
          0.09397247271001424,
          0.09397247271001424,
          0.09397247271001424,
          0.09397247271001424,
          0.09397247271001424,
          0.09397247271001424,
          0.09397247271001424,
          0.09397247271001424,
          0.09397247271001424,
          0.09397247271001424,
          0.09397247271001424,
          0.09397247271001424,
          0.09397247271001424,
          0.09397247271001424,
          0.09397247271001424,
          0.09397247271001424,
          0.09397247271001424,
          0.09397247271001424,
          0.09397247271001424,
          0.09397247271001424,
          0.09397247271001424,
          0.09397247271001424,
          0.09397247271001424,
          0.09397247271001424,
          0.09397247271001424,
          0.09397247271001424,
          0.09397247271001424,
          0.09397247271001424,
          0.09397247271001424,
          0.09397247271001424,
          0.09397247271001424
         ],
         "yaxis": "y"
        }
       ],
       "layout": {
        "legend": {
         "title": {
          "text": "SKU_ID"
         },
         "tracegroupgap": 0
        },
        "template": {
         "data": {
          "bar": [
           {
            "error_x": {
             "color": "#2a3f5f"
            },
            "error_y": {
             "color": "#2a3f5f"
            },
            "marker": {
             "line": {
              "color": "#E5ECF6",
              "width": 0.5
             },
             "pattern": {
              "fillmode": "overlay",
              "size": 10,
              "solidity": 0.2
             }
            },
            "type": "bar"
           }
          ],
          "barpolar": [
           {
            "marker": {
             "line": {
              "color": "#E5ECF6",
              "width": 0.5
             },
             "pattern": {
              "fillmode": "overlay",
              "size": 10,
              "solidity": 0.2
             }
            },
            "type": "barpolar"
           }
          ],
          "carpet": [
           {
            "aaxis": {
             "endlinecolor": "#2a3f5f",
             "gridcolor": "white",
             "linecolor": "white",
             "minorgridcolor": "white",
             "startlinecolor": "#2a3f5f"
            },
            "baxis": {
             "endlinecolor": "#2a3f5f",
             "gridcolor": "white",
             "linecolor": "white",
             "minorgridcolor": "white",
             "startlinecolor": "#2a3f5f"
            },
            "type": "carpet"
           }
          ],
          "choropleth": [
           {
            "colorbar": {
             "outlinewidth": 0,
             "ticks": ""
            },
            "type": "choropleth"
           }
          ],
          "contour": [
           {
            "colorbar": {
             "outlinewidth": 0,
             "ticks": ""
            },
            "colorscale": [
             [
              0,
              "#0d0887"
             ],
             [
              0.1111111111111111,
              "#46039f"
             ],
             [
              0.2222222222222222,
              "#7201a8"
             ],
             [
              0.3333333333333333,
              "#9c179e"
             ],
             [
              0.4444444444444444,
              "#bd3786"
             ],
             [
              0.5555555555555556,
              "#d8576b"
             ],
             [
              0.6666666666666666,
              "#ed7953"
             ],
             [
              0.7777777777777778,
              "#fb9f3a"
             ],
             [
              0.8888888888888888,
              "#fdca26"
             ],
             [
              1,
              "#f0f921"
             ]
            ],
            "type": "contour"
           }
          ],
          "contourcarpet": [
           {
            "colorbar": {
             "outlinewidth": 0,
             "ticks": ""
            },
            "type": "contourcarpet"
           }
          ],
          "heatmap": [
           {
            "colorbar": {
             "outlinewidth": 0,
             "ticks": ""
            },
            "colorscale": [
             [
              0,
              "#0d0887"
             ],
             [
              0.1111111111111111,
              "#46039f"
             ],
             [
              0.2222222222222222,
              "#7201a8"
             ],
             [
              0.3333333333333333,
              "#9c179e"
             ],
             [
              0.4444444444444444,
              "#bd3786"
             ],
             [
              0.5555555555555556,
              "#d8576b"
             ],
             [
              0.6666666666666666,
              "#ed7953"
             ],
             [
              0.7777777777777778,
              "#fb9f3a"
             ],
             [
              0.8888888888888888,
              "#fdca26"
             ],
             [
              1,
              "#f0f921"
             ]
            ],
            "type": "heatmap"
           }
          ],
          "heatmapgl": [
           {
            "colorbar": {
             "outlinewidth": 0,
             "ticks": ""
            },
            "colorscale": [
             [
              0,
              "#0d0887"
             ],
             [
              0.1111111111111111,
              "#46039f"
             ],
             [
              0.2222222222222222,
              "#7201a8"
             ],
             [
              0.3333333333333333,
              "#9c179e"
             ],
             [
              0.4444444444444444,
              "#bd3786"
             ],
             [
              0.5555555555555556,
              "#d8576b"
             ],
             [
              0.6666666666666666,
              "#ed7953"
             ],
             [
              0.7777777777777778,
              "#fb9f3a"
             ],
             [
              0.8888888888888888,
              "#fdca26"
             ],
             [
              1,
              "#f0f921"
             ]
            ],
            "type": "heatmapgl"
           }
          ],
          "histogram": [
           {
            "marker": {
             "pattern": {
              "fillmode": "overlay",
              "size": 10,
              "solidity": 0.2
             }
            },
            "type": "histogram"
           }
          ],
          "histogram2d": [
           {
            "colorbar": {
             "outlinewidth": 0,
             "ticks": ""
            },
            "colorscale": [
             [
              0,
              "#0d0887"
             ],
             [
              0.1111111111111111,
              "#46039f"
             ],
             [
              0.2222222222222222,
              "#7201a8"
             ],
             [
              0.3333333333333333,
              "#9c179e"
             ],
             [
              0.4444444444444444,
              "#bd3786"
             ],
             [
              0.5555555555555556,
              "#d8576b"
             ],
             [
              0.6666666666666666,
              "#ed7953"
             ],
             [
              0.7777777777777778,
              "#fb9f3a"
             ],
             [
              0.8888888888888888,
              "#fdca26"
             ],
             [
              1,
              "#f0f921"
             ]
            ],
            "type": "histogram2d"
           }
          ],
          "histogram2dcontour": [
           {
            "colorbar": {
             "outlinewidth": 0,
             "ticks": ""
            },
            "colorscale": [
             [
              0,
              "#0d0887"
             ],
             [
              0.1111111111111111,
              "#46039f"
             ],
             [
              0.2222222222222222,
              "#7201a8"
             ],
             [
              0.3333333333333333,
              "#9c179e"
             ],
             [
              0.4444444444444444,
              "#bd3786"
             ],
             [
              0.5555555555555556,
              "#d8576b"
             ],
             [
              0.6666666666666666,
              "#ed7953"
             ],
             [
              0.7777777777777778,
              "#fb9f3a"
             ],
             [
              0.8888888888888888,
              "#fdca26"
             ],
             [
              1,
              "#f0f921"
             ]
            ],
            "type": "histogram2dcontour"
           }
          ],
          "mesh3d": [
           {
            "colorbar": {
             "outlinewidth": 0,
             "ticks": ""
            },
            "type": "mesh3d"
           }
          ],
          "parcoords": [
           {
            "line": {
             "colorbar": {
              "outlinewidth": 0,
              "ticks": ""
             }
            },
            "type": "parcoords"
           }
          ],
          "pie": [
           {
            "automargin": true,
            "type": "pie"
           }
          ],
          "scatter": [
           {
            "fillpattern": {
             "fillmode": "overlay",
             "size": 10,
             "solidity": 0.2
            },
            "type": "scatter"
           }
          ],
          "scatter3d": [
           {
            "line": {
             "colorbar": {
              "outlinewidth": 0,
              "ticks": ""
             }
            },
            "marker": {
             "colorbar": {
              "outlinewidth": 0,
              "ticks": ""
             }
            },
            "type": "scatter3d"
           }
          ],
          "scattercarpet": [
           {
            "marker": {
             "colorbar": {
              "outlinewidth": 0,
              "ticks": ""
             }
            },
            "type": "scattercarpet"
           }
          ],
          "scattergeo": [
           {
            "marker": {
             "colorbar": {
              "outlinewidth": 0,
              "ticks": ""
             }
            },
            "type": "scattergeo"
           }
          ],
          "scattergl": [
           {
            "marker": {
             "colorbar": {
              "outlinewidth": 0,
              "ticks": ""
             }
            },
            "type": "scattergl"
           }
          ],
          "scattermapbox": [
           {
            "marker": {
             "colorbar": {
              "outlinewidth": 0,
              "ticks": ""
             }
            },
            "type": "scattermapbox"
           }
          ],
          "scatterpolar": [
           {
            "marker": {
             "colorbar": {
              "outlinewidth": 0,
              "ticks": ""
             }
            },
            "type": "scatterpolar"
           }
          ],
          "scatterpolargl": [
           {
            "marker": {
             "colorbar": {
              "outlinewidth": 0,
              "ticks": ""
             }
            },
            "type": "scatterpolargl"
           }
          ],
          "scatterternary": [
           {
            "marker": {
             "colorbar": {
              "outlinewidth": 0,
              "ticks": ""
             }
            },
            "type": "scatterternary"
           }
          ],
          "surface": [
           {
            "colorbar": {
             "outlinewidth": 0,
             "ticks": ""
            },
            "colorscale": [
             [
              0,
              "#0d0887"
             ],
             [
              0.1111111111111111,
              "#46039f"
             ],
             [
              0.2222222222222222,
              "#7201a8"
             ],
             [
              0.3333333333333333,
              "#9c179e"
             ],
             [
              0.4444444444444444,
              "#bd3786"
             ],
             [
              0.5555555555555556,
              "#d8576b"
             ],
             [
              0.6666666666666666,
              "#ed7953"
             ],
             [
              0.7777777777777778,
              "#fb9f3a"
             ],
             [
              0.8888888888888888,
              "#fdca26"
             ],
             [
              1,
              "#f0f921"
             ]
            ],
            "type": "surface"
           }
          ],
          "table": [
           {
            "cells": {
             "fill": {
              "color": "#EBF0F8"
             },
             "line": {
              "color": "white"
             }
            },
            "header": {
             "fill": {
              "color": "#C8D4E3"
             },
             "line": {
              "color": "white"
             }
            },
            "type": "table"
           }
          ]
         },
         "layout": {
          "annotationdefaults": {
           "arrowcolor": "#2a3f5f",
           "arrowhead": 0,
           "arrowwidth": 1
          },
          "autotypenumbers": "strict",
          "coloraxis": {
           "colorbar": {
            "outlinewidth": 0,
            "ticks": ""
           }
          },
          "colorscale": {
           "diverging": [
            [
             0,
             "#8e0152"
            ],
            [
             0.1,
             "#c51b7d"
            ],
            [
             0.2,
             "#de77ae"
            ],
            [
             0.3,
             "#f1b6da"
            ],
            [
             0.4,
             "#fde0ef"
            ],
            [
             0.5,
             "#f7f7f7"
            ],
            [
             0.6,
             "#e6f5d0"
            ],
            [
             0.7,
             "#b8e186"
            ],
            [
             0.8,
             "#7fbc41"
            ],
            [
             0.9,
             "#4d9221"
            ],
            [
             1,
             "#276419"
            ]
           ],
           "sequential": [
            [
             0,
             "#0d0887"
            ],
            [
             0.1111111111111111,
             "#46039f"
            ],
            [
             0.2222222222222222,
             "#7201a8"
            ],
            [
             0.3333333333333333,
             "#9c179e"
            ],
            [
             0.4444444444444444,
             "#bd3786"
            ],
            [
             0.5555555555555556,
             "#d8576b"
            ],
            [
             0.6666666666666666,
             "#ed7953"
            ],
            [
             0.7777777777777778,
             "#fb9f3a"
            ],
            [
             0.8888888888888888,
             "#fdca26"
            ],
            [
             1,
             "#f0f921"
            ]
           ],
           "sequentialminus": [
            [
             0,
             "#0d0887"
            ],
            [
             0.1111111111111111,
             "#46039f"
            ],
            [
             0.2222222222222222,
             "#7201a8"
            ],
            [
             0.3333333333333333,
             "#9c179e"
            ],
            [
             0.4444444444444444,
             "#bd3786"
            ],
            [
             0.5555555555555556,
             "#d8576b"
            ],
            [
             0.6666666666666666,
             "#ed7953"
            ],
            [
             0.7777777777777778,
             "#fb9f3a"
            ],
            [
             0.8888888888888888,
             "#fdca26"
            ],
            [
             1,
             "#f0f921"
            ]
           ]
          },
          "colorway": [
           "#636efa",
           "#EF553B",
           "#00cc96",
           "#ab63fa",
           "#FFA15A",
           "#19d3f3",
           "#FF6692",
           "#B6E880",
           "#FF97FF",
           "#FECB52"
          ],
          "font": {
           "color": "#2a3f5f"
          },
          "geo": {
           "bgcolor": "white",
           "lakecolor": "white",
           "landcolor": "#E5ECF6",
           "showlakes": true,
           "showland": true,
           "subunitcolor": "white"
          },
          "hoverlabel": {
           "align": "left"
          },
          "hovermode": "closest",
          "mapbox": {
           "style": "light"
          },
          "paper_bgcolor": "white",
          "plot_bgcolor": "#E5ECF6",
          "polar": {
           "angularaxis": {
            "gridcolor": "white",
            "linecolor": "white",
            "ticks": ""
           },
           "bgcolor": "#E5ECF6",
           "radialaxis": {
            "gridcolor": "white",
            "linecolor": "white",
            "ticks": ""
           }
          },
          "scene": {
           "xaxis": {
            "backgroundcolor": "#E5ECF6",
            "gridcolor": "white",
            "gridwidth": 2,
            "linecolor": "white",
            "showbackground": true,
            "ticks": "",
            "zerolinecolor": "white"
           },
           "yaxis": {
            "backgroundcolor": "#E5ECF6",
            "gridcolor": "white",
            "gridwidth": 2,
            "linecolor": "white",
            "showbackground": true,
            "ticks": "",
            "zerolinecolor": "white"
           },
           "zaxis": {
            "backgroundcolor": "#E5ECF6",
            "gridcolor": "white",
            "gridwidth": 2,
            "linecolor": "white",
            "showbackground": true,
            "ticks": "",
            "zerolinecolor": "white"
           }
          },
          "shapedefaults": {
           "line": {
            "color": "#2a3f5f"
           }
          },
          "ternary": {
           "aaxis": {
            "gridcolor": "white",
            "linecolor": "white",
            "ticks": ""
           },
           "baxis": {
            "gridcolor": "white",
            "linecolor": "white",
            "ticks": ""
           },
           "bgcolor": "#E5ECF6",
           "caxis": {
            "gridcolor": "white",
            "linecolor": "white",
            "ticks": ""
           }
          },
          "title": {
           "x": 0.05
          },
          "xaxis": {
           "automargin": true,
           "gridcolor": "white",
           "linecolor": "white",
           "ticks": "",
           "title": {
            "standoff": 15
           },
           "zerolinecolor": "white",
           "zerolinewidth": 2
          },
          "yaxis": {
           "automargin": true,
           "gridcolor": "white",
           "linecolor": "white",
           "ticks": "",
           "title": {
            "standoff": 15
           },
           "zerolinecolor": "white",
           "zerolinewidth": 2
          }
         }
        },
        "title": {
         "text": "SKU_ID between [30, 40]"
        },
        "xaxis": {
         "anchor": "y",
         "domain": [
          0,
          1
         ],
         "title": {
          "text": "ORDER_RANK"
         }
        },
        "yaxis": {
         "anchor": "x",
         "domain": [
          0,
          1
         ],
         "title": {
          "text": "RATE_cumsum"
         }
        }
       }
      }
     },
     "metadata": {},
     "output_type": "display_data"
    },
    {
     "data": {
      "application/vnd.plotly.v1+json": {
       "config": {
        "plotlyServerURL": "https://plot.ly"
       },
       "data": [
        {
         "customdata": [
          [
           373,
           668,
           0.08851447555766492,
           40
          ],
          [
           373,
           668,
           0.08851447555766492,
           40
          ],
          [
           373,
           668,
           0.08851447555766492,
           40
          ],
          [
           373,
           668,
           0.08851447555766492,
           40
          ],
          [
           373,
           668,
           0.08851447555766492,
           40
          ],
          [
           373,
           668,
           0.08851447555766492,
           40
          ],
          [
           373,
           668,
           0.08851447555766492,
           40
          ],
          [
           373,
           668,
           0.08851447555766492,
           40
          ],
          [
           373,
           668,
           0.08851447555766492,
           40
          ],
          [
           373,
           668,
           0.08851447555766492,
           40
          ],
          [
           373,
           668,
           0.08851447555766492,
           40
          ],
          [
           373,
           668,
           0.08851447555766492,
           40
          ],
          [
           373,
           668,
           0.08851447555766492,
           40
          ],
          [
           373,
           668,
           0.08851447555766492,
           40
          ],
          [
           373,
           668,
           0.08851447555766492,
           40
          ],
          [
           373,
           668,
           0.08851447555766492,
           40
          ],
          [
           373,
           668,
           0.08851447555766492,
           40
          ],
          [
           373,
           668,
           0.08851447555766492,
           40
          ],
          [
           373,
           668,
           0.08851447555766492,
           40
          ],
          [
           373,
           668,
           0.08851447555766492,
           40
          ],
          [
           373,
           668,
           0.08851447555766492,
           40
          ],
          [
           373,
           668,
           0.08851447555766492,
           40
          ],
          [
           373,
           668,
           0.08851447555766492,
           40
          ],
          [
           373,
           668,
           0.08851447555766492,
           40
          ],
          [
           373,
           668,
           0.08851447555766492,
           40
          ],
          [
           373,
           668,
           0.08851447555766492,
           40
          ],
          [
           373,
           668,
           0.08851447555766492,
           40
          ],
          [
           373,
           668,
           0.08851447555766492,
           40
          ],
          [
           373,
           668,
           0.08851447555766492,
           40
          ],
          [
           373,
           668,
           0.08851447555766492,
           40
          ],
          [
           373,
           668,
           0.08851447555766492,
           40
          ],
          [
           373,
           668,
           0.08851447555766492,
           40
          ],
          [
           373,
           668,
           0.08851447555766492,
           40
          ],
          [
           373,
           668,
           0.08851447555766492,
           40
          ],
          [
           373,
           668,
           0.08851447555766492,
           40
          ],
          [
           373,
           668,
           0.08851447555766492,
           40
          ],
          [
           373,
           668,
           0.08851447555766492,
           40
          ],
          [
           373,
           668,
           0.08851447555766492,
           40
          ],
          [
           373,
           668,
           0.08851447555766492,
           40
          ],
          [
           373,
           668,
           0.08851447555766492,
           40
          ],
          [
           373,
           668,
           0.08851447555766492,
           40
          ],
          [
           373,
           668,
           0.08851447555766492,
           40
          ],
          [
           373,
           668,
           0.08851447555766492,
           40
          ],
          [
           373,
           668,
           0.08851447555766492,
           40
          ],
          [
           373,
           668,
           0.08851447555766492,
           40
          ],
          [
           373,
           668,
           0.08851447555766492,
           40
          ],
          [
           373,
           668,
           0.08851447555766492,
           40
          ],
          [
           373,
           668,
           0.08851447555766492,
           40
          ],
          [
           373,
           668,
           0.08851447555766492,
           40
          ],
          [
           373,
           668,
           0.08851447555766492,
           40
          ],
          [
           373,
           668,
           0.08851447555766492,
           40
          ],
          [
           373,
           668,
           0.08851447555766492,
           40
          ],
          [
           373,
           668,
           0.08851447555766492,
           40
          ],
          [
           373,
           668,
           0.08851447555766492,
           40
          ],
          [
           373,
           668,
           0.08851447555766492,
           40
          ],
          [
           373,
           668,
           0.08851447555766492,
           40
          ],
          [
           373,
           668,
           0.08851447555766492,
           40
          ],
          [
           373,
           668,
           0.08851447555766492,
           40
          ],
          [
           373,
           668,
           0.08851447555766492,
           40
          ],
          [
           373,
           668,
           0.08851447555766492,
           40
          ]
         ],
         "hovertemplate": "SKU_ID=1418<br>ORDER_RANK=%{x}<br>RATE_cumsum=%{y}<br>SKUID_total_customers=%{customdata[0]}<br>SKUID_total_transactions=%{customdata[1]}<br>SKUID_total_probability_rate=%{customdata[2]}<br>product_rank_bytotalprobrate=%{customdata[3]}<extra></extra>",
         "legendgroup": "1418",
         "line": {
          "color": "#636efa",
          "dash": "solid"
         },
         "marker": {
          "symbol": "circle"
         },
         "mode": "lines",
         "name": "1418",
         "orientation": "v",
         "showlegend": true,
         "type": "scatter",
         "x": [
          1,
          2,
          3,
          4,
          5,
          6,
          7,
          8,
          9,
          10,
          11,
          12,
          13,
          14,
          15,
          16,
          17,
          18,
          19,
          20,
          21,
          22,
          23,
          24,
          25,
          26,
          27,
          28,
          29,
          30,
          31,
          32,
          33,
          34,
          35,
          36,
          37,
          38,
          39,
          40,
          41,
          42,
          43,
          44,
          45,
          46,
          47,
          48,
          49,
          50,
          51,
          52,
          53,
          54,
          55,
          56,
          57,
          58,
          59,
          61
         ],
         "xaxis": "x",
         "y": [
          0.022306597057427623,
          0.0396298054105363,
          0.054105363075462744,
          0.06098718557190318,
          0.06668248694826767,
          0.0719031798766018,
          0.07403891789273849,
          0.07617465590887518,
          0.07831039392501186,
          0.08044613194114855,
          0.08115804461319412,
          0.08210726150925486,
          0.08258186995728524,
          0.08448030374940674,
          0.0851922164214523,
          0.08637873754152824,
          0.08661604176554343,
          0.0870906502135738,
          0.08756525866160418,
          0.08780256288561937,
          0.08780256288561937,
          0.08780256288561937,
          0.08803986710963455,
          0.08803986710963455,
          0.08827717133364973,
          0.08827717133364973,
          0.08827717133364973,
          0.08827717133364973,
          0.08827717133364973,
          0.08827717133364973,
          0.08827717133364973,
          0.08827717133364973,
          0.08827717133364973,
          0.08827717133364973,
          0.08827717133364973,
          0.08851447555766492,
          0.08851447555766492,
          0.08851447555766492,
          0.08851447555766492,
          0.08851447555766492,
          0.08851447555766492,
          0.08851447555766492,
          0.08851447555766492,
          0.08851447555766492,
          0.08851447555766492,
          0.08851447555766492,
          0.08851447555766492,
          0.08851447555766492,
          0.08851447555766492,
          0.08851447555766492,
          0.08851447555766492,
          0.08851447555766492,
          0.08851447555766492,
          0.08851447555766492,
          0.08851447555766492,
          0.08851447555766492,
          0.08851447555766492,
          0.08851447555766492,
          0.08851447555766492,
          0.08851447555766492
         ],
         "yaxis": "y"
        },
        {
         "customdata": [
          [
           336,
           659,
           0.07973421926910298,
           47
          ],
          [
           336,
           659,
           0.07973421926910298,
           47
          ],
          [
           336,
           659,
           0.07973421926910298,
           47
          ],
          [
           336,
           659,
           0.07973421926910298,
           47
          ],
          [
           336,
           659,
           0.07973421926910298,
           47
          ],
          [
           336,
           659,
           0.07973421926910298,
           47
          ],
          [
           336,
           659,
           0.07973421926910298,
           47
          ],
          [
           336,
           659,
           0.07973421926910298,
           47
          ],
          [
           336,
           659,
           0.07973421926910298,
           47
          ],
          [
           336,
           659,
           0.07973421926910298,
           47
          ],
          [
           336,
           659,
           0.07973421926910298,
           47
          ],
          [
           336,
           659,
           0.07973421926910298,
           47
          ],
          [
           336,
           659,
           0.07973421926910298,
           47
          ],
          [
           336,
           659,
           0.07973421926910298,
           47
          ],
          [
           336,
           659,
           0.07973421926910298,
           47
          ],
          [
           336,
           659,
           0.07973421926910298,
           47
          ],
          [
           336,
           659,
           0.07973421926910298,
           47
          ],
          [
           336,
           659,
           0.07973421926910298,
           47
          ],
          [
           336,
           659,
           0.07973421926910298,
           47
          ],
          [
           336,
           659,
           0.07973421926910298,
           47
          ],
          [
           336,
           659,
           0.07973421926910298,
           47
          ],
          [
           336,
           659,
           0.07973421926910298,
           47
          ],
          [
           336,
           659,
           0.07973421926910298,
           47
          ],
          [
           336,
           659,
           0.07973421926910298,
           47
          ],
          [
           336,
           659,
           0.07973421926910298,
           47
          ],
          [
           336,
           659,
           0.07973421926910298,
           47
          ],
          [
           336,
           659,
           0.07973421926910298,
           47
          ],
          [
           336,
           659,
           0.07973421926910298,
           47
          ],
          [
           336,
           659,
           0.07973421926910298,
           47
          ],
          [
           336,
           659,
           0.07973421926910298,
           47
          ],
          [
           336,
           659,
           0.07973421926910298,
           47
          ],
          [
           336,
           659,
           0.07973421926910298,
           47
          ],
          [
           336,
           659,
           0.07973421926910298,
           47
          ],
          [
           336,
           659,
           0.07973421926910298,
           47
          ],
          [
           336,
           659,
           0.07973421926910298,
           47
          ],
          [
           336,
           659,
           0.07973421926910298,
           47
          ],
          [
           336,
           659,
           0.07973421926910298,
           47
          ],
          [
           336,
           659,
           0.07973421926910298,
           47
          ],
          [
           336,
           659,
           0.07973421926910298,
           47
          ],
          [
           336,
           659,
           0.07973421926910298,
           47
          ],
          [
           336,
           659,
           0.07973421926910298,
           47
          ],
          [
           336,
           659,
           0.07973421926910298,
           47
          ],
          [
           336,
           659,
           0.07973421926910298,
           47
          ],
          [
           336,
           659,
           0.07973421926910298,
           47
          ],
          [
           336,
           659,
           0.07973421926910298,
           47
          ],
          [
           336,
           659,
           0.07973421926910298,
           47
          ],
          [
           336,
           659,
           0.07973421926910298,
           47
          ],
          [
           336,
           659,
           0.07973421926910298,
           47
          ],
          [
           336,
           659,
           0.07973421926910298,
           47
          ],
          [
           336,
           659,
           0.07973421926910298,
           47
          ],
          [
           336,
           659,
           0.07973421926910298,
           47
          ],
          [
           336,
           659,
           0.07973421926910298,
           47
          ],
          [
           336,
           659,
           0.07973421926910298,
           47
          ],
          [
           336,
           659,
           0.07973421926910298,
           47
          ],
          [
           336,
           659,
           0.07973421926910298,
           47
          ],
          [
           336,
           659,
           0.07973421926910298,
           47
          ],
          [
           336,
           659,
           0.07973421926910298,
           47
          ],
          [
           336,
           659,
           0.07973421926910298,
           47
          ],
          [
           336,
           659,
           0.07973421926910298,
           47
          ],
          [
           336,
           659,
           0.07973421926910298,
           47
          ]
         ],
         "hovertemplate": "SKU_ID=1422<br>ORDER_RANK=%{x}<br>RATE_cumsum=%{y}<br>SKUID_total_customers=%{customdata[0]}<br>SKUID_total_transactions=%{customdata[1]}<br>SKUID_total_probability_rate=%{customdata[2]}<br>product_rank_bytotalprobrate=%{customdata[3]}<extra></extra>",
         "legendgroup": "1422",
         "line": {
          "color": "#EF553B",
          "dash": "solid"
         },
         "marker": {
          "symbol": "circle"
         },
         "mode": "lines",
         "name": "1422",
         "orientation": "v",
         "showlegend": true,
         "type": "scatter",
         "x": [
          1,
          2,
          3,
          4,
          5,
          6,
          7,
          8,
          9,
          10,
          11,
          12,
          13,
          14,
          15,
          16,
          17,
          18,
          19,
          20,
          21,
          22,
          23,
          24,
          25,
          26,
          27,
          28,
          29,
          30,
          31,
          32,
          33,
          34,
          35,
          36,
          37,
          38,
          39,
          40,
          41,
          42,
          43,
          44,
          45,
          46,
          47,
          48,
          49,
          50,
          51,
          52,
          53,
          54,
          55,
          56,
          57,
          58,
          59,
          61
         ],
         "xaxis": "x",
         "y": [
          0.023018509729473186,
          0.03820598006644518,
          0.05102040816326531,
          0.05742762221167537,
          0.06312292358803986,
          0.068343616516374,
          0.06953013763644993,
          0.07214048410061699,
          0.07356430944470813,
          0.07427622211675368,
          0.07427622211675368,
          0.07451352634076887,
          0.07546274323682962,
          0.07641196013289037,
          0.07688656858092074,
          0.07688656858092074,
          0.07736117702895112,
          0.07878500237304224,
          0.07878500237304224,
          0.07878500237304224,
          0.07902230659705743,
          0.07902230659705743,
          0.07902230659705743,
          0.07902230659705743,
          0.07949691504508781,
          0.07949691504508781,
          0.07949691504508781,
          0.07949691504508781,
          0.07949691504508781,
          0.07949691504508781,
          0.07949691504508781,
          0.07949691504508781,
          0.07949691504508781,
          0.07949691504508781,
          0.07949691504508781,
          0.07949691504508781,
          0.07949691504508781,
          0.07949691504508781,
          0.07949691504508781,
          0.07949691504508781,
          0.07949691504508781,
          0.07949691504508781,
          0.07949691504508781,
          0.07949691504508781,
          0.07949691504508781,
          0.07949691504508781,
          0.07949691504508781,
          0.07949691504508781,
          0.079734219269103,
          0.079734219269103,
          0.079734219269103,
          0.079734219269103,
          0.079734219269103,
          0.079734219269103,
          0.079734219269103,
          0.079734219269103,
          0.079734219269103,
          0.079734219269103,
          0.079734219269103,
          0.079734219269103
         ],
         "yaxis": "y"
        },
        {
         "customdata": [
          [
           363,
           830,
           0.08614143331751305,
           42
          ],
          [
           363,
           830,
           0.08614143331751305,
           42
          ],
          [
           363,
           830,
           0.08614143331751305,
           42
          ],
          [
           363,
           830,
           0.08614143331751305,
           42
          ],
          [
           363,
           830,
           0.08614143331751305,
           42
          ],
          [
           363,
           830,
           0.08614143331751305,
           42
          ],
          [
           363,
           830,
           0.08614143331751305,
           42
          ],
          [
           363,
           830,
           0.08614143331751305,
           42
          ],
          [
           363,
           830,
           0.08614143331751305,
           42
          ],
          [
           363,
           830,
           0.08614143331751305,
           42
          ],
          [
           363,
           830,
           0.08614143331751305,
           42
          ],
          [
           363,
           830,
           0.08614143331751305,
           42
          ],
          [
           363,
           830,
           0.08614143331751305,
           42
          ],
          [
           363,
           830,
           0.08614143331751305,
           42
          ],
          [
           363,
           830,
           0.08614143331751305,
           42
          ],
          [
           363,
           830,
           0.08614143331751305,
           42
          ],
          [
           363,
           830,
           0.08614143331751305,
           42
          ],
          [
           363,
           830,
           0.08614143331751305,
           42
          ],
          [
           363,
           830,
           0.08614143331751305,
           42
          ],
          [
           363,
           830,
           0.08614143331751305,
           42
          ],
          [
           363,
           830,
           0.08614143331751305,
           42
          ],
          [
           363,
           830,
           0.08614143331751305,
           42
          ],
          [
           363,
           830,
           0.08614143331751305,
           42
          ],
          [
           363,
           830,
           0.08614143331751305,
           42
          ],
          [
           363,
           830,
           0.08614143331751305,
           42
          ],
          [
           363,
           830,
           0.08614143331751305,
           42
          ],
          [
           363,
           830,
           0.08614143331751305,
           42
          ],
          [
           363,
           830,
           0.08614143331751305,
           42
          ],
          [
           363,
           830,
           0.08614143331751305,
           42
          ],
          [
           363,
           830,
           0.08614143331751305,
           42
          ],
          [
           363,
           830,
           0.08614143331751305,
           42
          ],
          [
           363,
           830,
           0.08614143331751305,
           42
          ],
          [
           363,
           830,
           0.08614143331751305,
           42
          ],
          [
           363,
           830,
           0.08614143331751305,
           42
          ],
          [
           363,
           830,
           0.08614143331751305,
           42
          ],
          [
           363,
           830,
           0.08614143331751305,
           42
          ],
          [
           363,
           830,
           0.08614143331751305,
           42
          ],
          [
           363,
           830,
           0.08614143331751305,
           42
          ],
          [
           363,
           830,
           0.08614143331751305,
           42
          ],
          [
           363,
           830,
           0.08614143331751305,
           42
          ],
          [
           363,
           830,
           0.08614143331751305,
           42
          ],
          [
           363,
           830,
           0.08614143331751305,
           42
          ],
          [
           363,
           830,
           0.08614143331751305,
           42
          ],
          [
           363,
           830,
           0.08614143331751305,
           42
          ],
          [
           363,
           830,
           0.08614143331751305,
           42
          ],
          [
           363,
           830,
           0.08614143331751305,
           42
          ],
          [
           363,
           830,
           0.08614143331751305,
           42
          ],
          [
           363,
           830,
           0.08614143331751305,
           42
          ],
          [
           363,
           830,
           0.08614143331751305,
           42
          ],
          [
           363,
           830,
           0.08614143331751305,
           42
          ],
          [
           363,
           830,
           0.08614143331751305,
           42
          ],
          [
           363,
           830,
           0.08614143331751305,
           42
          ],
          [
           363,
           830,
           0.08614143331751305,
           42
          ],
          [
           363,
           830,
           0.08614143331751305,
           42
          ],
          [
           363,
           830,
           0.08614143331751305,
           42
          ],
          [
           363,
           830,
           0.08614143331751305,
           42
          ],
          [
           363,
           830,
           0.08614143331751305,
           42
          ],
          [
           363,
           830,
           0.08614143331751305,
           42
          ],
          [
           363,
           830,
           0.08614143331751305,
           42
          ],
          [
           363,
           830,
           0.08614143331751305,
           42
          ],
          [
           363,
           830,
           0.08614143331751305,
           42
          ]
         ],
         "hovertemplate": "SKU_ID=1483<br>ORDER_RANK=%{x}<br>RATE_cumsum=%{y}<br>SKUID_total_customers=%{customdata[0]}<br>SKUID_total_transactions=%{customdata[1]}<br>SKUID_total_probability_rate=%{customdata[2]}<br>product_rank_bytotalprobrate=%{customdata[3]}<extra></extra>",
         "legendgroup": "1483",
         "line": {
          "color": "#00cc96",
          "dash": "solid"
         },
         "marker": {
          "symbol": "circle"
         },
         "mode": "lines",
         "name": "1483",
         "orientation": "v",
         "showlegend": true,
         "type": "scatter",
         "x": [
          1,
          2,
          3,
          4,
          5,
          6,
          7,
          8,
          9,
          10,
          11,
          12,
          13,
          14,
          15,
          16,
          17,
          18,
          19,
          20,
          21,
          22,
          23,
          24,
          25,
          26,
          27,
          28,
          29,
          30,
          31,
          32,
          33,
          34,
          35,
          36,
          37,
          38,
          39,
          40,
          41,
          42,
          43,
          44,
          45,
          46,
          47,
          48,
          49,
          50,
          51,
          52,
          53,
          54,
          55,
          56,
          57,
          58,
          59,
          60,
          61
         ],
         "xaxis": "x",
         "y": [
          0.02895111532985287,
          0.04105363075462743,
          0.05102040816326531,
          0.05813953488372093,
          0.06549596582819174,
          0.07142857142857142,
          0.07546274323682961,
          0.07783578547698149,
          0.0792596108210726,
          0.08044613194114855,
          0.08163265306122448,
          0.08234456573327005,
          0.08305647840531562,
          0.08329378262933079,
          0.08329378262933079,
          0.08376839107736117,
          0.08376839107736117,
          0.08400569530137636,
          0.08400569530137636,
          0.08495491219743712,
          0.08495491219743712,
          0.08542952064546748,
          0.08566682486948267,
          0.08566682486948267,
          0.08566682486948267,
          0.08566682486948267,
          0.08566682486948267,
          0.08566682486948267,
          0.08566682486948267,
          0.08566682486948267,
          0.08566682486948267,
          0.08566682486948267,
          0.08566682486948267,
          0.08566682486948267,
          0.08566682486948267,
          0.08566682486948267,
          0.08566682486948267,
          0.08566682486948267,
          0.08566682486948267,
          0.08590412909349786,
          0.08590412909349786,
          0.08590412909349786,
          0.08590412909349786,
          0.08590412909349786,
          0.08590412909349786,
          0.08614143331751305,
          0.08614143331751305,
          0.08614143331751305,
          0.08614143331751305,
          0.08614143331751305,
          0.08614143331751305,
          0.08614143331751305,
          0.08614143331751305,
          0.08614143331751305,
          0.08614143331751305,
          0.08614143331751305,
          0.08614143331751305,
          0.08614143331751305,
          0.08614143331751305,
          0.08614143331751305,
          0.08614143331751305
         ],
         "yaxis": "y"
        },
        {
         "customdata": [
          [
           300,
           785,
           0.07119126720455624,
           49
          ],
          [
           300,
           785,
           0.07119126720455624,
           49
          ],
          [
           300,
           785,
           0.07119126720455624,
           49
          ],
          [
           300,
           785,
           0.07119126720455624,
           49
          ],
          [
           300,
           785,
           0.07119126720455624,
           49
          ],
          [
           300,
           785,
           0.07119126720455624,
           49
          ],
          [
           300,
           785,
           0.07119126720455624,
           49
          ],
          [
           300,
           785,
           0.07119126720455624,
           49
          ],
          [
           300,
           785,
           0.07119126720455624,
           49
          ],
          [
           300,
           785,
           0.07119126720455624,
           49
          ],
          [
           300,
           785,
           0.07119126720455624,
           49
          ],
          [
           300,
           785,
           0.07119126720455624,
           49
          ],
          [
           300,
           785,
           0.07119126720455624,
           49
          ],
          [
           300,
           785,
           0.07119126720455624,
           49
          ],
          [
           300,
           785,
           0.07119126720455624,
           49
          ],
          [
           300,
           785,
           0.07119126720455624,
           49
          ],
          [
           300,
           785,
           0.07119126720455624,
           49
          ],
          [
           300,
           785,
           0.07119126720455624,
           49
          ],
          [
           300,
           785,
           0.07119126720455624,
           49
          ],
          [
           300,
           785,
           0.07119126720455624,
           49
          ],
          [
           300,
           785,
           0.07119126720455624,
           49
          ],
          [
           300,
           785,
           0.07119126720455624,
           49
          ],
          [
           300,
           785,
           0.07119126720455624,
           49
          ],
          [
           300,
           785,
           0.07119126720455624,
           49
          ],
          [
           300,
           785,
           0.07119126720455624,
           49
          ],
          [
           300,
           785,
           0.07119126720455624,
           49
          ],
          [
           300,
           785,
           0.07119126720455624,
           49
          ],
          [
           300,
           785,
           0.07119126720455624,
           49
          ],
          [
           300,
           785,
           0.07119126720455624,
           49
          ],
          [
           300,
           785,
           0.07119126720455624,
           49
          ],
          [
           300,
           785,
           0.07119126720455624,
           49
          ],
          [
           300,
           785,
           0.07119126720455624,
           49
          ],
          [
           300,
           785,
           0.07119126720455624,
           49
          ],
          [
           300,
           785,
           0.07119126720455624,
           49
          ],
          [
           300,
           785,
           0.07119126720455624,
           49
          ],
          [
           300,
           785,
           0.07119126720455624,
           49
          ],
          [
           300,
           785,
           0.07119126720455624,
           49
          ],
          [
           300,
           785,
           0.07119126720455624,
           49
          ],
          [
           300,
           785,
           0.07119126720455624,
           49
          ],
          [
           300,
           785,
           0.07119126720455624,
           49
          ],
          [
           300,
           785,
           0.07119126720455624,
           49
          ],
          [
           300,
           785,
           0.07119126720455624,
           49
          ],
          [
           300,
           785,
           0.07119126720455624,
           49
          ],
          [
           300,
           785,
           0.07119126720455624,
           49
          ],
          [
           300,
           785,
           0.07119126720455624,
           49
          ],
          [
           300,
           785,
           0.07119126720455624,
           49
          ],
          [
           300,
           785,
           0.07119126720455624,
           49
          ],
          [
           300,
           785,
           0.07119126720455624,
           49
          ],
          [
           300,
           785,
           0.07119126720455624,
           49
          ],
          [
           300,
           785,
           0.07119126720455624,
           49
          ],
          [
           300,
           785,
           0.07119126720455624,
           49
          ],
          [
           300,
           785,
           0.07119126720455624,
           49
          ],
          [
           300,
           785,
           0.07119126720455624,
           49
          ],
          [
           300,
           785,
           0.07119126720455624,
           49
          ],
          [
           300,
           785,
           0.07119126720455624,
           49
          ],
          [
           300,
           785,
           0.07119126720455624,
           49
          ],
          [
           300,
           785,
           0.07119126720455624,
           49
          ],
          [
           300,
           785,
           0.07119126720455624,
           49
          ]
         ],
         "hovertemplate": "SKU_ID=8101<br>ORDER_RANK=%{x}<br>RATE_cumsum=%{y}<br>SKUID_total_customers=%{customdata[0]}<br>SKUID_total_transactions=%{customdata[1]}<br>SKUID_total_probability_rate=%{customdata[2]}<br>product_rank_bytotalprobrate=%{customdata[3]}<extra></extra>",
         "legendgroup": "8101",
         "line": {
          "color": "#ab63fa",
          "dash": "solid"
         },
         "marker": {
          "symbol": "circle"
         },
         "mode": "lines",
         "name": "8101",
         "orientation": "v",
         "showlegend": true,
         "type": "scatter",
         "x": [
          1,
          2,
          3,
          4,
          5,
          6,
          7,
          8,
          9,
          10,
          11,
          12,
          13,
          14,
          15,
          16,
          17,
          18,
          19,
          20,
          21,
          22,
          23,
          24,
          25,
          26,
          27,
          28,
          29,
          30,
          31,
          32,
          33,
          34,
          35,
          36,
          37,
          38,
          39,
          40,
          41,
          42,
          43,
          44,
          45,
          46,
          47,
          48,
          49,
          50,
          51,
          52,
          53,
          54,
          55,
          56,
          57,
          58
         ],
         "xaxis": "x",
         "y": [
          0.021831988609397248,
          0.03488372093023256,
          0.04603701945894637,
          0.053393450403417184,
          0.058851447555766496,
          0.06193640246796393,
          0.06383483626008543,
          0.06573327005220693,
          0.06715709539629805,
          0.06786900806834362,
          0.068343616516374,
          0.06905552918841956,
          0.06953013763644993,
          0.06976744186046512,
          0.0700047460844803,
          0.07047935453251068,
          0.07047935453251068,
          0.07047935453251068,
          0.07095396298054106,
          0.07095396298054106,
          0.07095396298054106,
          0.07095396298054106,
          0.07095396298054106,
          0.07095396298054106,
          0.07095396298054106,
          0.07095396298054106,
          0.07095396298054106,
          0.07095396298054106,
          0.07095396298054106,
          0.07095396298054106,
          0.07095396298054106,
          0.07095396298054106,
          0.07095396298054106,
          0.07095396298054106,
          0.07095396298054106,
          0.07095396298054106,
          0.07095396298054106,
          0.07095396298054106,
          0.07095396298054106,
          0.07095396298054106,
          0.07095396298054106,
          0.07095396298054106,
          0.07095396298054106,
          0.07095396298054106,
          0.07095396298054106,
          0.07095396298054106,
          0.07095396298054106,
          0.07119126720455624,
          0.07119126720455624,
          0.07119126720455624,
          0.07119126720455624,
          0.07119126720455624,
          0.07119126720455624,
          0.07119126720455624,
          0.07119126720455624,
          0.07119126720455624,
          0.07119126720455624,
          0.07119126720455624
         ],
         "yaxis": "y"
        },
        {
         "customdata": [
          [
           345,
           619,
           0.08186995728523967,
           45
          ],
          [
           345,
           619,
           0.08186995728523967,
           45
          ],
          [
           345,
           619,
           0.08186995728523967,
           45
          ],
          [
           345,
           619,
           0.08186995728523967,
           45
          ],
          [
           345,
           619,
           0.08186995728523967,
           45
          ],
          [
           345,
           619,
           0.08186995728523967,
           45
          ],
          [
           345,
           619,
           0.08186995728523967,
           45
          ],
          [
           345,
           619,
           0.08186995728523967,
           45
          ],
          [
           345,
           619,
           0.08186995728523967,
           45
          ],
          [
           345,
           619,
           0.08186995728523967,
           45
          ],
          [
           345,
           619,
           0.08186995728523967,
           45
          ],
          [
           345,
           619,
           0.08186995728523967,
           45
          ],
          [
           345,
           619,
           0.08186995728523967,
           45
          ],
          [
           345,
           619,
           0.08186995728523967,
           45
          ],
          [
           345,
           619,
           0.08186995728523967,
           45
          ],
          [
           345,
           619,
           0.08186995728523967,
           45
          ],
          [
           345,
           619,
           0.08186995728523967,
           45
          ],
          [
           345,
           619,
           0.08186995728523967,
           45
          ],
          [
           345,
           619,
           0.08186995728523967,
           45
          ],
          [
           345,
           619,
           0.08186995728523967,
           45
          ],
          [
           345,
           619,
           0.08186995728523967,
           45
          ],
          [
           345,
           619,
           0.08186995728523967,
           45
          ],
          [
           345,
           619,
           0.08186995728523967,
           45
          ],
          [
           345,
           619,
           0.08186995728523967,
           45
          ],
          [
           345,
           619,
           0.08186995728523967,
           45
          ],
          [
           345,
           619,
           0.08186995728523967,
           45
          ],
          [
           345,
           619,
           0.08186995728523967,
           45
          ],
          [
           345,
           619,
           0.08186995728523967,
           45
          ],
          [
           345,
           619,
           0.08186995728523967,
           45
          ],
          [
           345,
           619,
           0.08186995728523967,
           45
          ],
          [
           345,
           619,
           0.08186995728523967,
           45
          ],
          [
           345,
           619,
           0.08186995728523967,
           45
          ],
          [
           345,
           619,
           0.08186995728523967,
           45
          ],
          [
           345,
           619,
           0.08186995728523967,
           45
          ],
          [
           345,
           619,
           0.08186995728523967,
           45
          ],
          [
           345,
           619,
           0.08186995728523967,
           45
          ],
          [
           345,
           619,
           0.08186995728523967,
           45
          ],
          [
           345,
           619,
           0.08186995728523967,
           45
          ],
          [
           345,
           619,
           0.08186995728523967,
           45
          ],
          [
           345,
           619,
           0.08186995728523967,
           45
          ],
          [
           345,
           619,
           0.08186995728523967,
           45
          ],
          [
           345,
           619,
           0.08186995728523967,
           45
          ],
          [
           345,
           619,
           0.08186995728523967,
           45
          ],
          [
           345,
           619,
           0.08186995728523967,
           45
          ],
          [
           345,
           619,
           0.08186995728523967,
           45
          ],
          [
           345,
           619,
           0.08186995728523967,
           45
          ],
          [
           345,
           619,
           0.08186995728523967,
           45
          ],
          [
           345,
           619,
           0.08186995728523967,
           45
          ],
          [
           345,
           619,
           0.08186995728523967,
           45
          ],
          [
           345,
           619,
           0.08186995728523967,
           45
          ],
          [
           345,
           619,
           0.08186995728523967,
           45
          ],
          [
           345,
           619,
           0.08186995728523967,
           45
          ],
          [
           345,
           619,
           0.08186995728523967,
           45
          ],
          [
           345,
           619,
           0.08186995728523967,
           45
          ],
          [
           345,
           619,
           0.08186995728523967,
           45
          ],
          [
           345,
           619,
           0.08186995728523967,
           45
          ],
          [
           345,
           619,
           0.08186995728523967,
           45
          ],
          [
           345,
           619,
           0.08186995728523967,
           45
          ],
          [
           345,
           619,
           0.08186995728523967,
           45
          ],
          [
           345,
           619,
           0.08186995728523967,
           45
          ],
          [
           345,
           619,
           0.08186995728523967,
           45
          ],
          [
           345,
           619,
           0.08186995728523967,
           45
          ],
          [
           345,
           619,
           0.08186995728523967,
           45
          ],
          [
           345,
           619,
           0.08186995728523967,
           45
          ],
          [
           345,
           619,
           0.08186995728523967,
           45
          ]
         ],
         "hovertemplate": "SKU_ID=11522<br>ORDER_RANK=%{x}<br>RATE_cumsum=%{y}<br>SKUID_total_customers=%{customdata[0]}<br>SKUID_total_transactions=%{customdata[1]}<br>SKUID_total_probability_rate=%{customdata[2]}<br>product_rank_bytotalprobrate=%{customdata[3]}<extra></extra>",
         "legendgroup": "11522",
         "line": {
          "color": "#FFA15A",
          "dash": "solid"
         },
         "marker": {
          "symbol": "circle"
         },
         "mode": "lines",
         "name": "11522",
         "orientation": "v",
         "showlegend": true,
         "type": "scatter",
         "x": [
          1,
          2,
          3,
          4,
          5,
          6,
          7,
          8,
          9,
          10,
          11,
          12,
          13,
          14,
          15,
          16,
          17,
          18,
          19,
          20,
          21,
          22,
          23,
          24,
          25,
          26,
          27,
          28,
          29,
          30,
          31,
          32,
          33,
          34,
          35,
          36,
          37,
          38,
          39,
          40,
          41,
          42,
          43,
          44,
          45,
          46,
          47,
          48,
          49,
          50,
          51,
          52,
          53,
          54,
          55,
          56,
          57,
          58,
          59,
          60,
          61,
          62,
          63,
          64,
          65
         ],
         "xaxis": "x",
         "y": [
          0.009254864736592311,
          0.02491694352159468,
          0.04057902230659705,
          0.05054579971523493,
          0.05719031798766017,
          0.06336022781205505,
          0.06810631229235879,
          0.07237778832463217,
          0.0757000474608448,
          0.07712387280493592,
          0.07902230659705742,
          0.0794969150450878,
          0.07973421926910298,
          0.08044613194114855,
          0.08044613194114855,
          0.08092074038917892,
          0.0811580446131941,
          0.0813953488372093,
          0.08163265306122448,
          0.08163265306122448,
          0.08163265306122448,
          0.08186995728523967,
          0.08186995728523967,
          0.08186995728523967,
          0.08186995728523967,
          0.08186995728523967,
          0.08186995728523967,
          0.08186995728523967,
          0.08186995728523967,
          0.08186995728523967,
          0.08186995728523967,
          0.08186995728523967,
          0.08186995728523967,
          0.08186995728523967,
          0.08186995728523967,
          0.08186995728523967,
          0.08186995728523967,
          0.08186995728523967,
          0.08186995728523967,
          0.08186995728523967,
          0.08186995728523967,
          0.08186995728523967,
          0.08186995728523967,
          0.08186995728523967,
          0.08186995728523967,
          0.08186995728523967,
          0.08186995728523967,
          0.08186995728523967,
          0.08186995728523967,
          0.08186995728523967,
          0.08186995728523967,
          0.08186995728523967,
          0.08186995728523967,
          0.08186995728523967,
          0.08186995728523967,
          0.08186995728523967,
          0.08186995728523967,
          0.08186995728523967,
          0.08186995728523967,
          0.08186995728523967,
          0.08186995728523967,
          0.08186995728523967,
          0.08186995728523967,
          0.08186995728523967,
          0.08186995728523967
         ],
         "yaxis": "y"
        },
        {
         "customdata": [
          [
           341,
           937,
           0.08092074038917893,
           46
          ],
          [
           341,
           937,
           0.08092074038917893,
           46
          ],
          [
           341,
           937,
           0.08092074038917893,
           46
          ],
          [
           341,
           937,
           0.08092074038917893,
           46
          ],
          [
           341,
           937,
           0.08092074038917893,
           46
          ],
          [
           341,
           937,
           0.08092074038917893,
           46
          ],
          [
           341,
           937,
           0.08092074038917893,
           46
          ],
          [
           341,
           937,
           0.08092074038917893,
           46
          ],
          [
           341,
           937,
           0.08092074038917893,
           46
          ],
          [
           341,
           937,
           0.08092074038917893,
           46
          ],
          [
           341,
           937,
           0.08092074038917893,
           46
          ],
          [
           341,
           937,
           0.08092074038917893,
           46
          ],
          [
           341,
           937,
           0.08092074038917893,
           46
          ],
          [
           341,
           937,
           0.08092074038917893,
           46
          ],
          [
           341,
           937,
           0.08092074038917893,
           46
          ],
          [
           341,
           937,
           0.08092074038917893,
           46
          ],
          [
           341,
           937,
           0.08092074038917893,
           46
          ],
          [
           341,
           937,
           0.08092074038917893,
           46
          ],
          [
           341,
           937,
           0.08092074038917893,
           46
          ],
          [
           341,
           937,
           0.08092074038917893,
           46
          ],
          [
           341,
           937,
           0.08092074038917893,
           46
          ],
          [
           341,
           937,
           0.08092074038917893,
           46
          ],
          [
           341,
           937,
           0.08092074038917893,
           46
          ],
          [
           341,
           937,
           0.08092074038917893,
           46
          ],
          [
           341,
           937,
           0.08092074038917893,
           46
          ],
          [
           341,
           937,
           0.08092074038917893,
           46
          ],
          [
           341,
           937,
           0.08092074038917893,
           46
          ],
          [
           341,
           937,
           0.08092074038917893,
           46
          ],
          [
           341,
           937,
           0.08092074038917893,
           46
          ],
          [
           341,
           937,
           0.08092074038917893,
           46
          ],
          [
           341,
           937,
           0.08092074038917893,
           46
          ],
          [
           341,
           937,
           0.08092074038917893,
           46
          ],
          [
           341,
           937,
           0.08092074038917893,
           46
          ],
          [
           341,
           937,
           0.08092074038917893,
           46
          ],
          [
           341,
           937,
           0.08092074038917893,
           46
          ],
          [
           341,
           937,
           0.08092074038917893,
           46
          ],
          [
           341,
           937,
           0.08092074038917893,
           46
          ],
          [
           341,
           937,
           0.08092074038917893,
           46
          ],
          [
           341,
           937,
           0.08092074038917893,
           46
          ],
          [
           341,
           937,
           0.08092074038917893,
           46
          ],
          [
           341,
           937,
           0.08092074038917893,
           46
          ],
          [
           341,
           937,
           0.08092074038917893,
           46
          ],
          [
           341,
           937,
           0.08092074038917893,
           46
          ],
          [
           341,
           937,
           0.08092074038917893,
           46
          ],
          [
           341,
           937,
           0.08092074038917893,
           46
          ],
          [
           341,
           937,
           0.08092074038917893,
           46
          ],
          [
           341,
           937,
           0.08092074038917893,
           46
          ],
          [
           341,
           937,
           0.08092074038917893,
           46
          ],
          [
           341,
           937,
           0.08092074038917893,
           46
          ],
          [
           341,
           937,
           0.08092074038917893,
           46
          ],
          [
           341,
           937,
           0.08092074038917893,
           46
          ],
          [
           341,
           937,
           0.08092074038917893,
           46
          ],
          [
           341,
           937,
           0.08092074038917893,
           46
          ],
          [
           341,
           937,
           0.08092074038917893,
           46
          ],
          [
           341,
           937,
           0.08092074038917893,
           46
          ],
          [
           341,
           937,
           0.08092074038917893,
           46
          ],
          [
           341,
           937,
           0.08092074038917893,
           46
          ]
         ],
         "hovertemplate": "SKU_ID=13953<br>ORDER_RANK=%{x}<br>RATE_cumsum=%{y}<br>SKUID_total_customers=%{customdata[0]}<br>SKUID_total_transactions=%{customdata[1]}<br>SKUID_total_probability_rate=%{customdata[2]}<br>product_rank_bytotalprobrate=%{customdata[3]}<extra></extra>",
         "legendgroup": "13953",
         "line": {
          "color": "#19d3f3",
          "dash": "solid"
         },
         "marker": {
          "symbol": "circle"
         },
         "mode": "lines",
         "name": "13953",
         "orientation": "v",
         "showlegend": true,
         "type": "scatter",
         "x": [
          1,
          2,
          3,
          4,
          5,
          6,
          7,
          8,
          9,
          10,
          11,
          12,
          13,
          14,
          15,
          16,
          17,
          18,
          19,
          20,
          21,
          22,
          23,
          24,
          25,
          26,
          27,
          28,
          29,
          30,
          31,
          32,
          33,
          34,
          35,
          36,
          37,
          38,
          39,
          40,
          41,
          42,
          43,
          44,
          45,
          46,
          47,
          48,
          49,
          50,
          51,
          52,
          53,
          54,
          55,
          56,
          57
         ],
         "xaxis": "x",
         "y": [
          0.028476506881822496,
          0.03986710963455149,
          0.04959658281917418,
          0.05719031798766018,
          0.06359753203607024,
          0.068343616516374,
          0.07095396298054105,
          0.07308970099667773,
          0.07498813478879925,
          0.07641196013289037,
          0.07736117702895111,
          0.07878500237304224,
          0.07997152349311817,
          0.08020882771713336,
          0.08020882771713336,
          0.08068343616516374,
          0.08068343616516374,
          0.08068343616516374,
          0.08068343616516374,
          0.08068343616516374,
          0.08068343616516374,
          0.08068343616516374,
          0.08068343616516374,
          0.08092074038917893,
          0.08092074038917893,
          0.08092074038917893,
          0.08092074038917893,
          0.08092074038917893,
          0.08092074038917893,
          0.08092074038917893,
          0.08092074038917893,
          0.08092074038917893,
          0.08092074038917893,
          0.08092074038917893,
          0.08092074038917893,
          0.08092074038917893,
          0.08092074038917893,
          0.08092074038917893,
          0.08092074038917893,
          0.08092074038917893,
          0.08092074038917893,
          0.08092074038917893,
          0.08092074038917893,
          0.08092074038917893,
          0.08092074038917893,
          0.08092074038917893,
          0.08092074038917893,
          0.08092074038917893,
          0.08092074038917893,
          0.08092074038917893,
          0.08092074038917893,
          0.08092074038917893,
          0.08092074038917893,
          0.08092074038917893,
          0.08092074038917893,
          0.08092074038917893,
          0.08092074038917893
         ],
         "yaxis": "y"
        },
        {
         "customdata": [
          [
           349,
           651,
           0.08281917418130043,
           43
          ],
          [
           349,
           651,
           0.08281917418130043,
           43
          ],
          [
           349,
           651,
           0.08281917418130043,
           43
          ],
          [
           349,
           651,
           0.08281917418130043,
           43
          ],
          [
           349,
           651,
           0.08281917418130043,
           43
          ],
          [
           349,
           651,
           0.08281917418130043,
           43
          ],
          [
           349,
           651,
           0.08281917418130043,
           43
          ],
          [
           349,
           651,
           0.08281917418130043,
           43
          ],
          [
           349,
           651,
           0.08281917418130043,
           43
          ],
          [
           349,
           651,
           0.08281917418130043,
           43
          ],
          [
           349,
           651,
           0.08281917418130043,
           43
          ],
          [
           349,
           651,
           0.08281917418130043,
           43
          ],
          [
           349,
           651,
           0.08281917418130043,
           43
          ],
          [
           349,
           651,
           0.08281917418130043,
           43
          ],
          [
           349,
           651,
           0.08281917418130043,
           43
          ],
          [
           349,
           651,
           0.08281917418130043,
           43
          ],
          [
           349,
           651,
           0.08281917418130043,
           43
          ],
          [
           349,
           651,
           0.08281917418130043,
           43
          ],
          [
           349,
           651,
           0.08281917418130043,
           43
          ],
          [
           349,
           651,
           0.08281917418130043,
           43
          ],
          [
           349,
           651,
           0.08281917418130043,
           43
          ],
          [
           349,
           651,
           0.08281917418130043,
           43
          ],
          [
           349,
           651,
           0.08281917418130043,
           43
          ],
          [
           349,
           651,
           0.08281917418130043,
           43
          ],
          [
           349,
           651,
           0.08281917418130043,
           43
          ],
          [
           349,
           651,
           0.08281917418130043,
           43
          ],
          [
           349,
           651,
           0.08281917418130043,
           43
          ],
          [
           349,
           651,
           0.08281917418130043,
           43
          ],
          [
           349,
           651,
           0.08281917418130043,
           43
          ],
          [
           349,
           651,
           0.08281917418130043,
           43
          ],
          [
           349,
           651,
           0.08281917418130043,
           43
          ],
          [
           349,
           651,
           0.08281917418130043,
           43
          ],
          [
           349,
           651,
           0.08281917418130043,
           43
          ],
          [
           349,
           651,
           0.08281917418130043,
           43
          ],
          [
           349,
           651,
           0.08281917418130043,
           43
          ],
          [
           349,
           651,
           0.08281917418130043,
           43
          ],
          [
           349,
           651,
           0.08281917418130043,
           43
          ],
          [
           349,
           651,
           0.08281917418130043,
           43
          ],
          [
           349,
           651,
           0.08281917418130043,
           43
          ],
          [
           349,
           651,
           0.08281917418130043,
           43
          ],
          [
           349,
           651,
           0.08281917418130043,
           43
          ],
          [
           349,
           651,
           0.08281917418130043,
           43
          ],
          [
           349,
           651,
           0.08281917418130043,
           43
          ],
          [
           349,
           651,
           0.08281917418130043,
           43
          ],
          [
           349,
           651,
           0.08281917418130043,
           43
          ],
          [
           349,
           651,
           0.08281917418130043,
           43
          ],
          [
           349,
           651,
           0.08281917418130043,
           43
          ],
          [
           349,
           651,
           0.08281917418130043,
           43
          ],
          [
           349,
           651,
           0.08281917418130043,
           43
          ],
          [
           349,
           651,
           0.08281917418130043,
           43
          ],
          [
           349,
           651,
           0.08281917418130043,
           43
          ],
          [
           349,
           651,
           0.08281917418130043,
           43
          ],
          [
           349,
           651,
           0.08281917418130043,
           43
          ],
          [
           349,
           651,
           0.08281917418130043,
           43
          ],
          [
           349,
           651,
           0.08281917418130043,
           43
          ],
          [
           349,
           651,
           0.08281917418130043,
           43
          ],
          [
           349,
           651,
           0.08281917418130043,
           43
          ],
          [
           349,
           651,
           0.08281917418130043,
           43
          ],
          [
           349,
           651,
           0.08281917418130043,
           43
          ],
          [
           349,
           651,
           0.08281917418130043,
           43
          ],
          [
           349,
           651,
           0.08281917418130043,
           43
          ],
          [
           349,
           651,
           0.08281917418130043,
           43
          ],
          [
           349,
           651,
           0.08281917418130043,
           43
          ],
          [
           349,
           651,
           0.08281917418130043,
           43
          ],
          [
           349,
           651,
           0.08281917418130043,
           43
          ]
         ],
         "hovertemplate": "SKU_ID=16527<br>ORDER_RANK=%{x}<br>RATE_cumsum=%{y}<br>SKUID_total_customers=%{customdata[0]}<br>SKUID_total_transactions=%{customdata[1]}<br>SKUID_total_probability_rate=%{customdata[2]}<br>product_rank_bytotalprobrate=%{customdata[3]}<extra></extra>",
         "legendgroup": "16527",
         "line": {
          "color": "#FF6692",
          "dash": "solid"
         },
         "marker": {
          "symbol": "circle"
         },
         "mode": "lines",
         "name": "16527",
         "orientation": "v",
         "showlegend": true,
         "type": "scatter",
         "x": [
          1,
          2,
          3,
          4,
          5,
          6,
          7,
          8,
          9,
          10,
          11,
          12,
          13,
          14,
          15,
          16,
          17,
          18,
          19,
          20,
          21,
          22,
          23,
          24,
          25,
          26,
          27,
          28,
          29,
          30,
          31,
          32,
          33,
          34,
          35,
          36,
          37,
          38,
          39,
          40,
          41,
          42,
          43,
          44,
          45,
          46,
          47,
          48,
          49,
          50,
          51,
          52,
          53,
          54,
          55,
          56,
          57,
          58,
          59,
          60,
          61,
          62,
          63,
          64,
          65
         ],
         "xaxis": "x",
         "y": [
          0.014712861888941622,
          0.017323208353108684,
          0.02040816326530612,
          0.02515424774560987,
          0.030374940673943994,
          0.03583293782629331,
          0.04200284765068818,
          0.05007119126720456,
          0.05600379686758424,
          0.060512577123872806,
          0.06525866160417655,
          0.06929283341243474,
          0.0719031798766018,
          0.07356430944470811,
          0.07664926435690556,
          0.07831039392501186,
          0.0794969150450878,
          0.07997152349311817,
          0.08068343616516374,
          0.08163265306122448,
          0.08210726150925486,
          0.08258186995728524,
          0.08258186995728524,
          0.08281917418130043,
          0.08281917418130043,
          0.08281917418130043,
          0.08281917418130043,
          0.08281917418130043,
          0.08281917418130043,
          0.08281917418130043,
          0.08281917418130043,
          0.08281917418130043,
          0.08281917418130043,
          0.08281917418130043,
          0.08281917418130043,
          0.08281917418130043,
          0.08281917418130043,
          0.08281917418130043,
          0.08281917418130043,
          0.08281917418130043,
          0.08281917418130043,
          0.08281917418130043,
          0.08281917418130043,
          0.08281917418130043,
          0.08281917418130043,
          0.08281917418130043,
          0.08281917418130043,
          0.08281917418130043,
          0.08281917418130043,
          0.08281917418130043,
          0.08281917418130043,
          0.08281917418130043,
          0.08281917418130043,
          0.08281917418130043,
          0.08281917418130043,
          0.08281917418130043,
          0.08281917418130043,
          0.08281917418130043,
          0.08281917418130043,
          0.08281917418130043,
          0.08281917418130043,
          0.08281917418130043,
          0.08281917418130043,
          0.08281917418130043,
          0.08281917418130043
         ],
         "yaxis": "y"
        },
        {
         "customdata": [
          [
           369,
           689,
           0.08756525866160418,
           41
          ],
          [
           369,
           689,
           0.08756525866160418,
           41
          ],
          [
           369,
           689,
           0.08756525866160418,
           41
          ],
          [
           369,
           689,
           0.08756525866160418,
           41
          ],
          [
           369,
           689,
           0.08756525866160418,
           41
          ],
          [
           369,
           689,
           0.08756525866160418,
           41
          ],
          [
           369,
           689,
           0.08756525866160418,
           41
          ],
          [
           369,
           689,
           0.08756525866160418,
           41
          ],
          [
           369,
           689,
           0.08756525866160418,
           41
          ],
          [
           369,
           689,
           0.08756525866160418,
           41
          ],
          [
           369,
           689,
           0.08756525866160418,
           41
          ],
          [
           369,
           689,
           0.08756525866160418,
           41
          ],
          [
           369,
           689,
           0.08756525866160418,
           41
          ],
          [
           369,
           689,
           0.08756525866160418,
           41
          ],
          [
           369,
           689,
           0.08756525866160418,
           41
          ],
          [
           369,
           689,
           0.08756525866160418,
           41
          ],
          [
           369,
           689,
           0.08756525866160418,
           41
          ],
          [
           369,
           689,
           0.08756525866160418,
           41
          ],
          [
           369,
           689,
           0.08756525866160418,
           41
          ],
          [
           369,
           689,
           0.08756525866160418,
           41
          ],
          [
           369,
           689,
           0.08756525866160418,
           41
          ],
          [
           369,
           689,
           0.08756525866160418,
           41
          ],
          [
           369,
           689,
           0.08756525866160418,
           41
          ],
          [
           369,
           689,
           0.08756525866160418,
           41
          ],
          [
           369,
           689,
           0.08756525866160418,
           41
          ],
          [
           369,
           689,
           0.08756525866160418,
           41
          ],
          [
           369,
           689,
           0.08756525866160418,
           41
          ],
          [
           369,
           689,
           0.08756525866160418,
           41
          ],
          [
           369,
           689,
           0.08756525866160418,
           41
          ],
          [
           369,
           689,
           0.08756525866160418,
           41
          ],
          [
           369,
           689,
           0.08756525866160418,
           41
          ],
          [
           369,
           689,
           0.08756525866160418,
           41
          ],
          [
           369,
           689,
           0.08756525866160418,
           41
          ],
          [
           369,
           689,
           0.08756525866160418,
           41
          ],
          [
           369,
           689,
           0.08756525866160418,
           41
          ],
          [
           369,
           689,
           0.08756525866160418,
           41
          ],
          [
           369,
           689,
           0.08756525866160418,
           41
          ],
          [
           369,
           689,
           0.08756525866160418,
           41
          ],
          [
           369,
           689,
           0.08756525866160418,
           41
          ],
          [
           369,
           689,
           0.08756525866160418,
           41
          ],
          [
           369,
           689,
           0.08756525866160418,
           41
          ],
          [
           369,
           689,
           0.08756525866160418,
           41
          ],
          [
           369,
           689,
           0.08756525866160418,
           41
          ],
          [
           369,
           689,
           0.08756525866160418,
           41
          ],
          [
           369,
           689,
           0.08756525866160418,
           41
          ],
          [
           369,
           689,
           0.08756525866160418,
           41
          ],
          [
           369,
           689,
           0.08756525866160418,
           41
          ],
          [
           369,
           689,
           0.08756525866160418,
           41
          ],
          [
           369,
           689,
           0.08756525866160418,
           41
          ],
          [
           369,
           689,
           0.08756525866160418,
           41
          ],
          [
           369,
           689,
           0.08756525866160418,
           41
          ],
          [
           369,
           689,
           0.08756525866160418,
           41
          ],
          [
           369,
           689,
           0.08756525866160418,
           41
          ],
          [
           369,
           689,
           0.08756525866160418,
           41
          ],
          [
           369,
           689,
           0.08756525866160418,
           41
          ],
          [
           369,
           689,
           0.08756525866160418,
           41
          ],
          [
           369,
           689,
           0.08756525866160418,
           41
          ]
         ],
         "hovertemplate": "SKU_ID=17993<br>ORDER_RANK=%{x}<br>RATE_cumsum=%{y}<br>SKUID_total_customers=%{customdata[0]}<br>SKUID_total_transactions=%{customdata[1]}<br>SKUID_total_probability_rate=%{customdata[2]}<br>product_rank_bytotalprobrate=%{customdata[3]}<extra></extra>",
         "legendgroup": "17993",
         "line": {
          "color": "#B6E880",
          "dash": "solid"
         },
         "marker": {
          "symbol": "circle"
         },
         "mode": "lines",
         "name": "17993",
         "orientation": "v",
         "showlegend": true,
         "type": "scatter",
         "x": [
          1,
          2,
          3,
          4,
          5,
          6,
          7,
          8,
          9,
          10,
          11,
          12,
          13,
          14,
          15,
          16,
          17,
          18,
          19,
          20,
          21,
          22,
          23,
          24,
          25,
          26,
          27,
          28,
          29,
          30,
          31,
          32,
          33,
          34,
          35,
          36,
          37,
          38,
          39,
          40,
          41,
          42,
          43,
          44,
          45,
          46,
          47,
          48,
          49,
          50,
          51,
          52,
          53,
          54,
          55,
          56,
          57
         ],
         "xaxis": "x",
         "y": [
          0.025154247745609874,
          0.03868058851447556,
          0.04888467014712862,
          0.05529188419553868,
          0.061699098243948744,
          0.06715709539629805,
          0.0719031798766018,
          0.07546274323682961,
          0.07759848125296631,
          0.07973421926910298,
          0.0816326530612245,
          0.08305647840531562,
          0.0851922164214523,
          0.0854295206454675,
          0.08566682486948268,
          0.08590412909349787,
          0.08614143331751305,
          0.08685334598955861,
          0.08732795443758899,
          0.08732795443758899,
          0.08732795443758899,
          0.08732795443758899,
          0.08756525866160418,
          0.08756525866160418,
          0.08756525866160418,
          0.08756525866160418,
          0.08756525866160418,
          0.08756525866160418,
          0.08756525866160418,
          0.08756525866160418,
          0.08756525866160418,
          0.08756525866160418,
          0.08756525866160418,
          0.08756525866160418,
          0.08756525866160418,
          0.08756525866160418,
          0.08756525866160418,
          0.08756525866160418,
          0.08756525866160418,
          0.08756525866160418,
          0.08756525866160418,
          0.08756525866160418,
          0.08756525866160418,
          0.08756525866160418,
          0.08756525866160418,
          0.08756525866160418,
          0.08756525866160418,
          0.08756525866160418,
          0.08756525866160418,
          0.08756525866160418,
          0.08756525866160418,
          0.08756525866160418,
          0.08756525866160418,
          0.08756525866160418,
          0.08756525866160418,
          0.08756525866160418,
          0.08756525866160418
         ],
         "yaxis": "y"
        },
        {
         "customdata": [
          [
           320,
           2090,
           0.07593735168485999,
           48
          ],
          [
           320,
           2090,
           0.07593735168485999,
           48
          ],
          [
           320,
           2090,
           0.07593735168485999,
           48
          ],
          [
           320,
           2090,
           0.07593735168485999,
           48
          ],
          [
           320,
           2090,
           0.07593735168485999,
           48
          ],
          [
           320,
           2090,
           0.07593735168485999,
           48
          ],
          [
           320,
           2090,
           0.07593735168485999,
           48
          ],
          [
           320,
           2090,
           0.07593735168485999,
           48
          ],
          [
           320,
           2090,
           0.07593735168485999,
           48
          ],
          [
           320,
           2090,
           0.07593735168485999,
           48
          ],
          [
           320,
           2090,
           0.07593735168485999,
           48
          ],
          [
           320,
           2090,
           0.07593735168485999,
           48
          ],
          [
           320,
           2090,
           0.07593735168485999,
           48
          ],
          [
           320,
           2090,
           0.07593735168485999,
           48
          ],
          [
           320,
           2090,
           0.07593735168485999,
           48
          ],
          [
           320,
           2090,
           0.07593735168485999,
           48
          ],
          [
           320,
           2090,
           0.07593735168485999,
           48
          ],
          [
           320,
           2090,
           0.07593735168485999,
           48
          ],
          [
           320,
           2090,
           0.07593735168485999,
           48
          ],
          [
           320,
           2090,
           0.07593735168485999,
           48
          ],
          [
           320,
           2090,
           0.07593735168485999,
           48
          ],
          [
           320,
           2090,
           0.07593735168485999,
           48
          ],
          [
           320,
           2090,
           0.07593735168485999,
           48
          ],
          [
           320,
           2090,
           0.07593735168485999,
           48
          ],
          [
           320,
           2090,
           0.07593735168485999,
           48
          ],
          [
           320,
           2090,
           0.07593735168485999,
           48
          ],
          [
           320,
           2090,
           0.07593735168485999,
           48
          ],
          [
           320,
           2090,
           0.07593735168485999,
           48
          ],
          [
           320,
           2090,
           0.07593735168485999,
           48
          ],
          [
           320,
           2090,
           0.07593735168485999,
           48
          ],
          [
           320,
           2090,
           0.07593735168485999,
           48
          ],
          [
           320,
           2090,
           0.07593735168485999,
           48
          ],
          [
           320,
           2090,
           0.07593735168485999,
           48
          ],
          [
           320,
           2090,
           0.07593735168485999,
           48
          ],
          [
           320,
           2090,
           0.07593735168485999,
           48
          ],
          [
           320,
           2090,
           0.07593735168485999,
           48
          ],
          [
           320,
           2090,
           0.07593735168485999,
           48
          ],
          [
           320,
           2090,
           0.07593735168485999,
           48
          ],
          [
           320,
           2090,
           0.07593735168485999,
           48
          ],
          [
           320,
           2090,
           0.07593735168485999,
           48
          ],
          [
           320,
           2090,
           0.07593735168485999,
           48
          ],
          [
           320,
           2090,
           0.07593735168485999,
           48
          ],
          [
           320,
           2090,
           0.07593735168485999,
           48
          ],
          [
           320,
           2090,
           0.07593735168485999,
           48
          ],
          [
           320,
           2090,
           0.07593735168485999,
           48
          ],
          [
           320,
           2090,
           0.07593735168485999,
           48
          ],
          [
           320,
           2090,
           0.07593735168485999,
           48
          ],
          [
           320,
           2090,
           0.07593735168485999,
           48
          ],
          [
           320,
           2090,
           0.07593735168485999,
           48
          ],
          [
           320,
           2090,
           0.07593735168485999,
           48
          ],
          [
           320,
           2090,
           0.07593735168485999,
           48
          ],
          [
           320,
           2090,
           0.07593735168485999,
           48
          ],
          [
           320,
           2090,
           0.07593735168485999,
           48
          ],
          [
           320,
           2090,
           0.07593735168485999,
           48
          ],
          [
           320,
           2090,
           0.07593735168485999,
           48
          ],
          [
           320,
           2090,
           0.07593735168485999,
           48
          ],
          [
           320,
           2090,
           0.07593735168485999,
           48
          ],
          [
           320,
           2090,
           0.07593735168485999,
           48
          ],
          [
           320,
           2090,
           0.07593735168485999,
           48
          ],
          [
           320,
           2090,
           0.07593735168485999,
           48
          ]
         ],
         "hovertemplate": "SKU_ID=21967<br>ORDER_RANK=%{x}<br>RATE_cumsum=%{y}<br>SKUID_total_customers=%{customdata[0]}<br>SKUID_total_transactions=%{customdata[1]}<br>SKUID_total_probability_rate=%{customdata[2]}<br>product_rank_bytotalprobrate=%{customdata[3]}<extra></extra>",
         "legendgroup": "21967",
         "line": {
          "color": "#FF97FF",
          "dash": "solid"
         },
         "marker": {
          "symbol": "circle"
         },
         "mode": "lines",
         "name": "21967",
         "orientation": "v",
         "showlegend": true,
         "type": "scatter",
         "x": [
          1,
          2,
          3,
          4,
          5,
          6,
          7,
          8,
          9,
          10,
          11,
          12,
          13,
          14,
          15,
          16,
          17,
          18,
          19,
          20,
          21,
          22,
          23,
          24,
          25,
          26,
          27,
          28,
          29,
          30,
          31,
          32,
          33,
          34,
          35,
          36,
          37,
          38,
          39,
          40,
          41,
          42,
          43,
          44,
          45,
          46,
          47,
          48,
          49,
          50,
          51,
          52,
          53,
          54,
          55,
          56,
          57,
          58,
          60,
          61
         ],
         "xaxis": "x",
         "y": [
          0.04224015187470337,
          0.0567157095396298,
          0.06383483626008543,
          0.0681063122923588,
          0.06929283341243474,
          0.07071665875652587,
          0.07142857142857142,
          0.07261509254864737,
          0.07356430944470811,
          0.07451352634076887,
          0.07475083056478406,
          0.07498813478879925,
          0.07522543901281442,
          0.07522543901281442,
          0.07546274323682961,
          0.0757000474608448,
          0.0757000474608448,
          0.0757000474608448,
          0.07593735168485999,
          0.07593735168485999,
          0.07593735168485999,
          0.07593735168485999,
          0.07593735168485999,
          0.07593735168485999,
          0.07593735168485999,
          0.07593735168485999,
          0.07593735168485999,
          0.07593735168485999,
          0.07593735168485999,
          0.07593735168485999,
          0.07593735168485999,
          0.07593735168485999,
          0.07593735168485999,
          0.07593735168485999,
          0.07593735168485999,
          0.07593735168485999,
          0.07593735168485999,
          0.07593735168485999,
          0.07593735168485999,
          0.07593735168485999,
          0.07593735168485999,
          0.07593735168485999,
          0.07593735168485999,
          0.07593735168485999,
          0.07593735168485999,
          0.07593735168485999,
          0.07593735168485999,
          0.07593735168485999,
          0.07593735168485999,
          0.07593735168485999,
          0.07593735168485999,
          0.07593735168485999,
          0.07593735168485999,
          0.07593735168485999,
          0.07593735168485999,
          0.07593735168485999,
          0.07593735168485999,
          0.07593735168485999,
          0.07593735168485999,
          0.07593735168485999
         ],
         "yaxis": "y"
        },
        {
         "customdata": [
          [
           349,
           986,
           0.08281917418130043,
           44
          ],
          [
           349,
           986,
           0.08281917418130043,
           44
          ],
          [
           349,
           986,
           0.08281917418130043,
           44
          ],
          [
           349,
           986,
           0.08281917418130043,
           44
          ],
          [
           349,
           986,
           0.08281917418130043,
           44
          ],
          [
           349,
           986,
           0.08281917418130043,
           44
          ],
          [
           349,
           986,
           0.08281917418130043,
           44
          ],
          [
           349,
           986,
           0.08281917418130043,
           44
          ],
          [
           349,
           986,
           0.08281917418130043,
           44
          ],
          [
           349,
           986,
           0.08281917418130043,
           44
          ],
          [
           349,
           986,
           0.08281917418130043,
           44
          ],
          [
           349,
           986,
           0.08281917418130043,
           44
          ],
          [
           349,
           986,
           0.08281917418130043,
           44
          ],
          [
           349,
           986,
           0.08281917418130043,
           44
          ],
          [
           349,
           986,
           0.08281917418130043,
           44
          ],
          [
           349,
           986,
           0.08281917418130043,
           44
          ],
          [
           349,
           986,
           0.08281917418130043,
           44
          ],
          [
           349,
           986,
           0.08281917418130043,
           44
          ],
          [
           349,
           986,
           0.08281917418130043,
           44
          ],
          [
           349,
           986,
           0.08281917418130043,
           44
          ],
          [
           349,
           986,
           0.08281917418130043,
           44
          ],
          [
           349,
           986,
           0.08281917418130043,
           44
          ],
          [
           349,
           986,
           0.08281917418130043,
           44
          ],
          [
           349,
           986,
           0.08281917418130043,
           44
          ],
          [
           349,
           986,
           0.08281917418130043,
           44
          ],
          [
           349,
           986,
           0.08281917418130043,
           44
          ],
          [
           349,
           986,
           0.08281917418130043,
           44
          ],
          [
           349,
           986,
           0.08281917418130043,
           44
          ],
          [
           349,
           986,
           0.08281917418130043,
           44
          ],
          [
           349,
           986,
           0.08281917418130043,
           44
          ],
          [
           349,
           986,
           0.08281917418130043,
           44
          ],
          [
           349,
           986,
           0.08281917418130043,
           44
          ],
          [
           349,
           986,
           0.08281917418130043,
           44
          ],
          [
           349,
           986,
           0.08281917418130043,
           44
          ],
          [
           349,
           986,
           0.08281917418130043,
           44
          ],
          [
           349,
           986,
           0.08281917418130043,
           44
          ],
          [
           349,
           986,
           0.08281917418130043,
           44
          ],
          [
           349,
           986,
           0.08281917418130043,
           44
          ],
          [
           349,
           986,
           0.08281917418130043,
           44
          ],
          [
           349,
           986,
           0.08281917418130043,
           44
          ],
          [
           349,
           986,
           0.08281917418130043,
           44
          ],
          [
           349,
           986,
           0.08281917418130043,
           44
          ],
          [
           349,
           986,
           0.08281917418130043,
           44
          ],
          [
           349,
           986,
           0.08281917418130043,
           44
          ],
          [
           349,
           986,
           0.08281917418130043,
           44
          ],
          [
           349,
           986,
           0.08281917418130043,
           44
          ],
          [
           349,
           986,
           0.08281917418130043,
           44
          ],
          [
           349,
           986,
           0.08281917418130043,
           44
          ],
          [
           349,
           986,
           0.08281917418130043,
           44
          ],
          [
           349,
           986,
           0.08281917418130043,
           44
          ],
          [
           349,
           986,
           0.08281917418130043,
           44
          ],
          [
           349,
           986,
           0.08281917418130043,
           44
          ],
          [
           349,
           986,
           0.08281917418130043,
           44
          ],
          [
           349,
           986,
           0.08281917418130043,
           44
          ],
          [
           349,
           986,
           0.08281917418130043,
           44
          ],
          [
           349,
           986,
           0.08281917418130043,
           44
          ],
          [
           349,
           986,
           0.08281917418130043,
           44
          ],
          [
           349,
           986,
           0.08281917418130043,
           44
          ],
          [
           349,
           986,
           0.08281917418130043,
           44
          ],
          [
           349,
           986,
           0.08281917418130043,
           44
          ],
          [
           349,
           986,
           0.08281917418130043,
           44
          ]
         ],
         "hovertemplate": "SKU_ID=21972<br>ORDER_RANK=%{x}<br>RATE_cumsum=%{y}<br>SKUID_total_customers=%{customdata[0]}<br>SKUID_total_transactions=%{customdata[1]}<br>SKUID_total_probability_rate=%{customdata[2]}<br>product_rank_bytotalprobrate=%{customdata[3]}<extra></extra>",
         "legendgroup": "21972",
         "line": {
          "color": "#FECB52",
          "dash": "solid"
         },
         "marker": {
          "symbol": "circle"
         },
         "mode": "lines",
         "name": "21972",
         "orientation": "v",
         "showlegend": true,
         "type": "scatter",
         "x": [
          1,
          2,
          3,
          4,
          5,
          6,
          7,
          8,
          9,
          10,
          11,
          12,
          13,
          14,
          15,
          16,
          17,
          18,
          19,
          20,
          21,
          22,
          23,
          24,
          25,
          26,
          27,
          28,
          29,
          30,
          31,
          32,
          33,
          34,
          35,
          36,
          37,
          38,
          39,
          40,
          41,
          42,
          43,
          44,
          45,
          46,
          47,
          48,
          49,
          50,
          51,
          52,
          53,
          54,
          55,
          56,
          57,
          58,
          59,
          60,
          61
         ],
         "xaxis": "x",
         "y": [
          0.025866160417655434,
          0.05173232083531087,
          0.06691979117228286,
          0.07261509254864737,
          0.07546274323682961,
          0.07712387280493593,
          0.0794969150450878,
          0.07997152349311817,
          0.08044613194114855,
          0.08092074038917893,
          0.08115804461319412,
          0.08163265306122448,
          0.08186995728523967,
          0.08210726150925486,
          0.08234456573327005,
          0.08234456573327005,
          0.08258186995728524,
          0.08258186995728524,
          0.08281917418130043,
          0.08281917418130043,
          0.08281917418130043,
          0.08281917418130043,
          0.08281917418130043,
          0.08281917418130043,
          0.08281917418130043,
          0.08281917418130043,
          0.08281917418130043,
          0.08281917418130043,
          0.08281917418130043,
          0.08281917418130043,
          0.08281917418130043,
          0.08281917418130043,
          0.08281917418130043,
          0.08281917418130043,
          0.08281917418130043,
          0.08281917418130043,
          0.08281917418130043,
          0.08281917418130043,
          0.08281917418130043,
          0.08281917418130043,
          0.08281917418130043,
          0.08281917418130043,
          0.08281917418130043,
          0.08281917418130043,
          0.08281917418130043,
          0.08281917418130043,
          0.08281917418130043,
          0.08281917418130043,
          0.08281917418130043,
          0.08281917418130043,
          0.08281917418130043,
          0.08281917418130043,
          0.08281917418130043,
          0.08281917418130043,
          0.08281917418130043,
          0.08281917418130043,
          0.08281917418130043,
          0.08281917418130043,
          0.08281917418130043,
          0.08281917418130043,
          0.08281917418130043
         ],
         "yaxis": "y"
        },
        {
         "customdata": [
          [
           274,
           526,
           0.06502135738016136,
           50
          ],
          [
           274,
           526,
           0.06502135738016136,
           50
          ],
          [
           274,
           526,
           0.06502135738016136,
           50
          ],
          [
           274,
           526,
           0.06502135738016136,
           50
          ],
          [
           274,
           526,
           0.06502135738016136,
           50
          ],
          [
           274,
           526,
           0.06502135738016136,
           50
          ],
          [
           274,
           526,
           0.06502135738016136,
           50
          ],
          [
           274,
           526,
           0.06502135738016136,
           50
          ],
          [
           274,
           526,
           0.06502135738016136,
           50
          ],
          [
           274,
           526,
           0.06502135738016136,
           50
          ],
          [
           274,
           526,
           0.06502135738016136,
           50
          ],
          [
           274,
           526,
           0.06502135738016136,
           50
          ],
          [
           274,
           526,
           0.06502135738016136,
           50
          ],
          [
           274,
           526,
           0.06502135738016136,
           50
          ],
          [
           274,
           526,
           0.06502135738016136,
           50
          ],
          [
           274,
           526,
           0.06502135738016136,
           50
          ],
          [
           274,
           526,
           0.06502135738016136,
           50
          ],
          [
           274,
           526,
           0.06502135738016136,
           50
          ],
          [
           274,
           526,
           0.06502135738016136,
           50
          ],
          [
           274,
           526,
           0.06502135738016136,
           50
          ],
          [
           274,
           526,
           0.06502135738016136,
           50
          ],
          [
           274,
           526,
           0.06502135738016136,
           50
          ],
          [
           274,
           526,
           0.06502135738016136,
           50
          ],
          [
           274,
           526,
           0.06502135738016136,
           50
          ],
          [
           274,
           526,
           0.06502135738016136,
           50
          ],
          [
           274,
           526,
           0.06502135738016136,
           50
          ],
          [
           274,
           526,
           0.06502135738016136,
           50
          ],
          [
           274,
           526,
           0.06502135738016136,
           50
          ],
          [
           274,
           526,
           0.06502135738016136,
           50
          ],
          [
           274,
           526,
           0.06502135738016136,
           50
          ],
          [
           274,
           526,
           0.06502135738016136,
           50
          ],
          [
           274,
           526,
           0.06502135738016136,
           50
          ],
          [
           274,
           526,
           0.06502135738016136,
           50
          ],
          [
           274,
           526,
           0.06502135738016136,
           50
          ],
          [
           274,
           526,
           0.06502135738016136,
           50
          ],
          [
           274,
           526,
           0.06502135738016136,
           50
          ],
          [
           274,
           526,
           0.06502135738016136,
           50
          ],
          [
           274,
           526,
           0.06502135738016136,
           50
          ],
          [
           274,
           526,
           0.06502135738016136,
           50
          ],
          [
           274,
           526,
           0.06502135738016136,
           50
          ],
          [
           274,
           526,
           0.06502135738016136,
           50
          ],
          [
           274,
           526,
           0.06502135738016136,
           50
          ],
          [
           274,
           526,
           0.06502135738016136,
           50
          ],
          [
           274,
           526,
           0.06502135738016136,
           50
          ],
          [
           274,
           526,
           0.06502135738016136,
           50
          ],
          [
           274,
           526,
           0.06502135738016136,
           50
          ],
          [
           274,
           526,
           0.06502135738016136,
           50
          ],
          [
           274,
           526,
           0.06502135738016136,
           50
          ],
          [
           274,
           526,
           0.06502135738016136,
           50
          ],
          [
           274,
           526,
           0.06502135738016136,
           50
          ],
          [
           274,
           526,
           0.06502135738016136,
           50
          ],
          [
           274,
           526,
           0.06502135738016136,
           50
          ],
          [
           274,
           526,
           0.06502135738016136,
           50
          ],
          [
           274,
           526,
           0.06502135738016136,
           50
          ],
          [
           274,
           526,
           0.06502135738016136,
           50
          ],
          [
           274,
           526,
           0.06502135738016136,
           50
          ],
          [
           274,
           526,
           0.06502135738016136,
           50
          ]
         ],
         "hovertemplate": "SKU_ID=76476<br>ORDER_RANK=%{x}<br>RATE_cumsum=%{y}<br>SKUID_total_customers=%{customdata[0]}<br>SKUID_total_transactions=%{customdata[1]}<br>SKUID_total_probability_rate=%{customdata[2]}<br>product_rank_bytotalprobrate=%{customdata[3]}<extra></extra>",
         "legendgroup": "76476",
         "line": {
          "color": "#636efa",
          "dash": "solid"
         },
         "marker": {
          "symbol": "circle"
         },
         "mode": "lines",
         "name": "76476",
         "orientation": "v",
         "showlegend": true,
         "type": "scatter",
         "x": [
          1,
          2,
          3,
          4,
          5,
          6,
          7,
          8,
          9,
          10,
          11,
          12,
          13,
          14,
          15,
          16,
          17,
          18,
          19,
          20,
          21,
          22,
          23,
          24,
          25,
          26,
          27,
          28,
          29,
          30,
          31,
          32,
          33,
          34,
          35,
          36,
          37,
          38,
          39,
          40,
          41,
          42,
          43,
          44,
          45,
          46,
          47,
          48,
          49,
          50,
          51,
          52,
          53,
          54,
          55,
          56,
          57
         ],
         "xaxis": "x",
         "y": [
          0.018272425249169437,
          0.027764594209776935,
          0.035358329378262936,
          0.043189368770764125,
          0.04817275747508306,
          0.051969625059326056,
          0.05600379686758425,
          0.05790223065970575,
          0.05932605600379687,
          0.05932605600379687,
          0.060037968675842435,
          0.060987185571903184,
          0.06217370669197912,
          0.062411010915994304,
          0.06288561936402469,
          0.06312292358803986,
          0.06383483626008543,
          0.064546748932131,
          0.06478405315614619,
          0.06478405315614619,
          0.06478405315614619,
          0.06502135738016138,
          0.06502135738016138,
          0.06502135738016138,
          0.06502135738016138,
          0.06502135738016138,
          0.06502135738016138,
          0.06502135738016138,
          0.06502135738016138,
          0.06502135738016138,
          0.06502135738016138,
          0.06502135738016138,
          0.06502135738016138,
          0.06502135738016138,
          0.06502135738016138,
          0.06502135738016138,
          0.06502135738016138,
          0.06502135738016138,
          0.06502135738016138,
          0.06502135738016138,
          0.06502135738016138,
          0.06502135738016138,
          0.06502135738016138,
          0.06502135738016138,
          0.06502135738016138,
          0.06502135738016138,
          0.06502135738016138,
          0.06502135738016138,
          0.06502135738016138,
          0.06502135738016138,
          0.06502135738016138,
          0.06502135738016138,
          0.06502135738016138,
          0.06502135738016138,
          0.06502135738016138,
          0.06502135738016138,
          0.06502135738016138
         ],
         "yaxis": "y"
        }
       ],
       "layout": {
        "legend": {
         "title": {
          "text": "SKU_ID"
         },
         "tracegroupgap": 0
        },
        "template": {
         "data": {
          "bar": [
           {
            "error_x": {
             "color": "#2a3f5f"
            },
            "error_y": {
             "color": "#2a3f5f"
            },
            "marker": {
             "line": {
              "color": "#E5ECF6",
              "width": 0.5
             },
             "pattern": {
              "fillmode": "overlay",
              "size": 10,
              "solidity": 0.2
             }
            },
            "type": "bar"
           }
          ],
          "barpolar": [
           {
            "marker": {
             "line": {
              "color": "#E5ECF6",
              "width": 0.5
             },
             "pattern": {
              "fillmode": "overlay",
              "size": 10,
              "solidity": 0.2
             }
            },
            "type": "barpolar"
           }
          ],
          "carpet": [
           {
            "aaxis": {
             "endlinecolor": "#2a3f5f",
             "gridcolor": "white",
             "linecolor": "white",
             "minorgridcolor": "white",
             "startlinecolor": "#2a3f5f"
            },
            "baxis": {
             "endlinecolor": "#2a3f5f",
             "gridcolor": "white",
             "linecolor": "white",
             "minorgridcolor": "white",
             "startlinecolor": "#2a3f5f"
            },
            "type": "carpet"
           }
          ],
          "choropleth": [
           {
            "colorbar": {
             "outlinewidth": 0,
             "ticks": ""
            },
            "type": "choropleth"
           }
          ],
          "contour": [
           {
            "colorbar": {
             "outlinewidth": 0,
             "ticks": ""
            },
            "colorscale": [
             [
              0,
              "#0d0887"
             ],
             [
              0.1111111111111111,
              "#46039f"
             ],
             [
              0.2222222222222222,
              "#7201a8"
             ],
             [
              0.3333333333333333,
              "#9c179e"
             ],
             [
              0.4444444444444444,
              "#bd3786"
             ],
             [
              0.5555555555555556,
              "#d8576b"
             ],
             [
              0.6666666666666666,
              "#ed7953"
             ],
             [
              0.7777777777777778,
              "#fb9f3a"
             ],
             [
              0.8888888888888888,
              "#fdca26"
             ],
             [
              1,
              "#f0f921"
             ]
            ],
            "type": "contour"
           }
          ],
          "contourcarpet": [
           {
            "colorbar": {
             "outlinewidth": 0,
             "ticks": ""
            },
            "type": "contourcarpet"
           }
          ],
          "heatmap": [
           {
            "colorbar": {
             "outlinewidth": 0,
             "ticks": ""
            },
            "colorscale": [
             [
              0,
              "#0d0887"
             ],
             [
              0.1111111111111111,
              "#46039f"
             ],
             [
              0.2222222222222222,
              "#7201a8"
             ],
             [
              0.3333333333333333,
              "#9c179e"
             ],
             [
              0.4444444444444444,
              "#bd3786"
             ],
             [
              0.5555555555555556,
              "#d8576b"
             ],
             [
              0.6666666666666666,
              "#ed7953"
             ],
             [
              0.7777777777777778,
              "#fb9f3a"
             ],
             [
              0.8888888888888888,
              "#fdca26"
             ],
             [
              1,
              "#f0f921"
             ]
            ],
            "type": "heatmap"
           }
          ],
          "heatmapgl": [
           {
            "colorbar": {
             "outlinewidth": 0,
             "ticks": ""
            },
            "colorscale": [
             [
              0,
              "#0d0887"
             ],
             [
              0.1111111111111111,
              "#46039f"
             ],
             [
              0.2222222222222222,
              "#7201a8"
             ],
             [
              0.3333333333333333,
              "#9c179e"
             ],
             [
              0.4444444444444444,
              "#bd3786"
             ],
             [
              0.5555555555555556,
              "#d8576b"
             ],
             [
              0.6666666666666666,
              "#ed7953"
             ],
             [
              0.7777777777777778,
              "#fb9f3a"
             ],
             [
              0.8888888888888888,
              "#fdca26"
             ],
             [
              1,
              "#f0f921"
             ]
            ],
            "type": "heatmapgl"
           }
          ],
          "histogram": [
           {
            "marker": {
             "pattern": {
              "fillmode": "overlay",
              "size": 10,
              "solidity": 0.2
             }
            },
            "type": "histogram"
           }
          ],
          "histogram2d": [
           {
            "colorbar": {
             "outlinewidth": 0,
             "ticks": ""
            },
            "colorscale": [
             [
              0,
              "#0d0887"
             ],
             [
              0.1111111111111111,
              "#46039f"
             ],
             [
              0.2222222222222222,
              "#7201a8"
             ],
             [
              0.3333333333333333,
              "#9c179e"
             ],
             [
              0.4444444444444444,
              "#bd3786"
             ],
             [
              0.5555555555555556,
              "#d8576b"
             ],
             [
              0.6666666666666666,
              "#ed7953"
             ],
             [
              0.7777777777777778,
              "#fb9f3a"
             ],
             [
              0.8888888888888888,
              "#fdca26"
             ],
             [
              1,
              "#f0f921"
             ]
            ],
            "type": "histogram2d"
           }
          ],
          "histogram2dcontour": [
           {
            "colorbar": {
             "outlinewidth": 0,
             "ticks": ""
            },
            "colorscale": [
             [
              0,
              "#0d0887"
             ],
             [
              0.1111111111111111,
              "#46039f"
             ],
             [
              0.2222222222222222,
              "#7201a8"
             ],
             [
              0.3333333333333333,
              "#9c179e"
             ],
             [
              0.4444444444444444,
              "#bd3786"
             ],
             [
              0.5555555555555556,
              "#d8576b"
             ],
             [
              0.6666666666666666,
              "#ed7953"
             ],
             [
              0.7777777777777778,
              "#fb9f3a"
             ],
             [
              0.8888888888888888,
              "#fdca26"
             ],
             [
              1,
              "#f0f921"
             ]
            ],
            "type": "histogram2dcontour"
           }
          ],
          "mesh3d": [
           {
            "colorbar": {
             "outlinewidth": 0,
             "ticks": ""
            },
            "type": "mesh3d"
           }
          ],
          "parcoords": [
           {
            "line": {
             "colorbar": {
              "outlinewidth": 0,
              "ticks": ""
             }
            },
            "type": "parcoords"
           }
          ],
          "pie": [
           {
            "automargin": true,
            "type": "pie"
           }
          ],
          "scatter": [
           {
            "fillpattern": {
             "fillmode": "overlay",
             "size": 10,
             "solidity": 0.2
            },
            "type": "scatter"
           }
          ],
          "scatter3d": [
           {
            "line": {
             "colorbar": {
              "outlinewidth": 0,
              "ticks": ""
             }
            },
            "marker": {
             "colorbar": {
              "outlinewidth": 0,
              "ticks": ""
             }
            },
            "type": "scatter3d"
           }
          ],
          "scattercarpet": [
           {
            "marker": {
             "colorbar": {
              "outlinewidth": 0,
              "ticks": ""
             }
            },
            "type": "scattercarpet"
           }
          ],
          "scattergeo": [
           {
            "marker": {
             "colorbar": {
              "outlinewidth": 0,
              "ticks": ""
             }
            },
            "type": "scattergeo"
           }
          ],
          "scattergl": [
           {
            "marker": {
             "colorbar": {
              "outlinewidth": 0,
              "ticks": ""
             }
            },
            "type": "scattergl"
           }
          ],
          "scattermapbox": [
           {
            "marker": {
             "colorbar": {
              "outlinewidth": 0,
              "ticks": ""
             }
            },
            "type": "scattermapbox"
           }
          ],
          "scatterpolar": [
           {
            "marker": {
             "colorbar": {
              "outlinewidth": 0,
              "ticks": ""
             }
            },
            "type": "scatterpolar"
           }
          ],
          "scatterpolargl": [
           {
            "marker": {
             "colorbar": {
              "outlinewidth": 0,
              "ticks": ""
             }
            },
            "type": "scatterpolargl"
           }
          ],
          "scatterternary": [
           {
            "marker": {
             "colorbar": {
              "outlinewidth": 0,
              "ticks": ""
             }
            },
            "type": "scatterternary"
           }
          ],
          "surface": [
           {
            "colorbar": {
             "outlinewidth": 0,
             "ticks": ""
            },
            "colorscale": [
             [
              0,
              "#0d0887"
             ],
             [
              0.1111111111111111,
              "#46039f"
             ],
             [
              0.2222222222222222,
              "#7201a8"
             ],
             [
              0.3333333333333333,
              "#9c179e"
             ],
             [
              0.4444444444444444,
              "#bd3786"
             ],
             [
              0.5555555555555556,
              "#d8576b"
             ],
             [
              0.6666666666666666,
              "#ed7953"
             ],
             [
              0.7777777777777778,
              "#fb9f3a"
             ],
             [
              0.8888888888888888,
              "#fdca26"
             ],
             [
              1,
              "#f0f921"
             ]
            ],
            "type": "surface"
           }
          ],
          "table": [
           {
            "cells": {
             "fill": {
              "color": "#EBF0F8"
             },
             "line": {
              "color": "white"
             }
            },
            "header": {
             "fill": {
              "color": "#C8D4E3"
             },
             "line": {
              "color": "white"
             }
            },
            "type": "table"
           }
          ]
         },
         "layout": {
          "annotationdefaults": {
           "arrowcolor": "#2a3f5f",
           "arrowhead": 0,
           "arrowwidth": 1
          },
          "autotypenumbers": "strict",
          "coloraxis": {
           "colorbar": {
            "outlinewidth": 0,
            "ticks": ""
           }
          },
          "colorscale": {
           "diverging": [
            [
             0,
             "#8e0152"
            ],
            [
             0.1,
             "#c51b7d"
            ],
            [
             0.2,
             "#de77ae"
            ],
            [
             0.3,
             "#f1b6da"
            ],
            [
             0.4,
             "#fde0ef"
            ],
            [
             0.5,
             "#f7f7f7"
            ],
            [
             0.6,
             "#e6f5d0"
            ],
            [
             0.7,
             "#b8e186"
            ],
            [
             0.8,
             "#7fbc41"
            ],
            [
             0.9,
             "#4d9221"
            ],
            [
             1,
             "#276419"
            ]
           ],
           "sequential": [
            [
             0,
             "#0d0887"
            ],
            [
             0.1111111111111111,
             "#46039f"
            ],
            [
             0.2222222222222222,
             "#7201a8"
            ],
            [
             0.3333333333333333,
             "#9c179e"
            ],
            [
             0.4444444444444444,
             "#bd3786"
            ],
            [
             0.5555555555555556,
             "#d8576b"
            ],
            [
             0.6666666666666666,
             "#ed7953"
            ],
            [
             0.7777777777777778,
             "#fb9f3a"
            ],
            [
             0.8888888888888888,
             "#fdca26"
            ],
            [
             1,
             "#f0f921"
            ]
           ],
           "sequentialminus": [
            [
             0,
             "#0d0887"
            ],
            [
             0.1111111111111111,
             "#46039f"
            ],
            [
             0.2222222222222222,
             "#7201a8"
            ],
            [
             0.3333333333333333,
             "#9c179e"
            ],
            [
             0.4444444444444444,
             "#bd3786"
            ],
            [
             0.5555555555555556,
             "#d8576b"
            ],
            [
             0.6666666666666666,
             "#ed7953"
            ],
            [
             0.7777777777777778,
             "#fb9f3a"
            ],
            [
             0.8888888888888888,
             "#fdca26"
            ],
            [
             1,
             "#f0f921"
            ]
           ]
          },
          "colorway": [
           "#636efa",
           "#EF553B",
           "#00cc96",
           "#ab63fa",
           "#FFA15A",
           "#19d3f3",
           "#FF6692",
           "#B6E880",
           "#FF97FF",
           "#FECB52"
          ],
          "font": {
           "color": "#2a3f5f"
          },
          "geo": {
           "bgcolor": "white",
           "lakecolor": "white",
           "landcolor": "#E5ECF6",
           "showlakes": true,
           "showland": true,
           "subunitcolor": "white"
          },
          "hoverlabel": {
           "align": "left"
          },
          "hovermode": "closest",
          "mapbox": {
           "style": "light"
          },
          "paper_bgcolor": "white",
          "plot_bgcolor": "#E5ECF6",
          "polar": {
           "angularaxis": {
            "gridcolor": "white",
            "linecolor": "white",
            "ticks": ""
           },
           "bgcolor": "#E5ECF6",
           "radialaxis": {
            "gridcolor": "white",
            "linecolor": "white",
            "ticks": ""
           }
          },
          "scene": {
           "xaxis": {
            "backgroundcolor": "#E5ECF6",
            "gridcolor": "white",
            "gridwidth": 2,
            "linecolor": "white",
            "showbackground": true,
            "ticks": "",
            "zerolinecolor": "white"
           },
           "yaxis": {
            "backgroundcolor": "#E5ECF6",
            "gridcolor": "white",
            "gridwidth": 2,
            "linecolor": "white",
            "showbackground": true,
            "ticks": "",
            "zerolinecolor": "white"
           },
           "zaxis": {
            "backgroundcolor": "#E5ECF6",
            "gridcolor": "white",
            "gridwidth": 2,
            "linecolor": "white",
            "showbackground": true,
            "ticks": "",
            "zerolinecolor": "white"
           }
          },
          "shapedefaults": {
           "line": {
            "color": "#2a3f5f"
           }
          },
          "ternary": {
           "aaxis": {
            "gridcolor": "white",
            "linecolor": "white",
            "ticks": ""
           },
           "baxis": {
            "gridcolor": "white",
            "linecolor": "white",
            "ticks": ""
           },
           "bgcolor": "#E5ECF6",
           "caxis": {
            "gridcolor": "white",
            "linecolor": "white",
            "ticks": ""
           }
          },
          "title": {
           "x": 0.05
          },
          "xaxis": {
           "automargin": true,
           "gridcolor": "white",
           "linecolor": "white",
           "ticks": "",
           "title": {
            "standoff": 15
           },
           "zerolinecolor": "white",
           "zerolinewidth": 2
          },
          "yaxis": {
           "automargin": true,
           "gridcolor": "white",
           "linecolor": "white",
           "ticks": "",
           "title": {
            "standoff": 15
           },
           "zerolinecolor": "white",
           "zerolinewidth": 2
          }
         }
        },
        "title": {
         "text": "SKU_ID between [40, 50]"
        },
        "xaxis": {
         "anchor": "y",
         "domain": [
          0,
          1
         ],
         "title": {
          "text": "ORDER_RANK"
         }
        },
        "yaxis": {
         "anchor": "x",
         "domain": [
          0,
          1
         ],
         "title": {
          "text": "RATE_cumsum"
         }
        }
       }
      }
     },
     "metadata": {},
     "output_type": "display_data"
    }
   ],
   "source": [
    "for i in range(5):\n",
    "    plot_df = df[\n",
    "        (df[\"product_rank_bytotalprobrate\"].between(10*i,10*(i+1)))\n",
    "    ]\n",
    "\n",
    "    px.line(plot_df,\n",
    "        x=\"ORDER_RANK\",\n",
    "        y=\"RATE_cumsum\",\n",
    "        color=\"SKU_ID\",\n",
    "        hover_data=[\n",
    "            \"SKUID_total_customers\",\n",
    "            \"SKUID_total_transactions\",\n",
    "            \"SKUID_total_probability_rate\",\n",
    "            \"product_rank_bytotalprobrate\",\n",
    "        ],\n",
    "        title=f\"SKU_ID between [{10*i}, {10*(i+1)}]\"\n",
    "    ).show()"
   ]
  },
  {
   "cell_type": "code",
   "execution_count": 9,
   "metadata": {},
   "outputs": [],
   "source": [
    "df.to_pickle(\"models/probabilistic/first_order_rates.pkl\")"
   ]
  },
  {
   "cell_type": "markdown",
   "metadata": {},
   "source": [
    "Orders between Orders"
   ]
  },
  {
   "cell_type": "code",
   "execution_count": 10,
   "metadata": {},
   "outputs": [],
   "source": [
    "df = (transactions\n",
    "    [transactions[\"ORDER_PRODUCT_RANK\"] >= 1]\n",
    "    .sort_values([\"SKU_ID\",\"POC\",\"ORDER_RANK\"])\n",
    "    .copy()\n",
    ")\n",
    "\n",
    "df[\"LAST_ORDER_ORDER_RANK\"] = df.groupby([\"SKU_ID\"])[\"ORDER_RANK\"].shift(1)\n",
    "\n",
    "df = df[df[\"ORDER_PRODUCT_RANK\"] > 1].copy()\n",
    "df[\"LAST_ORDER_ORDER_RANK\"] = df[\"LAST_ORDER_ORDER_RANK\"].astype(int)\n",
    "df[\"ORDERS_BETWEEN_ORDERS\"] = df[\"ORDER_RANK\"] - df[\"LAST_ORDER_ORDER_RANK\"]\n",
    "\n",
    "df = ((df\n",
    "        [[\"SKU_ID\",*stat_columns,\"ORDERS_BETWEEN_ORDERS\"]]\n",
    "        .value_counts()\n",
    "        .rename(\"COUNTS\")\n",
    "        .reset_index()\n",
    "    )\n",
    "    .merge((df[\"SKU_ID\"]\n",
    "            .value_counts()\n",
    "            .rename(\"ALIVE_COUNTS\")\n",
    "            .reset_index()\n",
    "        ),\n",
    "        on=[\"SKU_ID\"],\n",
    "        how=\"inner\"\n",
    "    )\n",
    "    .sort_values([\"SKU_ID\",\"ORDERS_BETWEEN_ORDERS\"])\n",
    ")\n",
    "\n",
    "df[\"RATE\"] = df[\"COUNTS\"] / df[\"ALIVE_COUNTS\"]\n",
    "df[\"RATE_cumsum\"] = df.groupby([\"SKU_ID\"])[\"RATE\"].cumsum()"
   ]
  },
  {
   "cell_type": "code",
   "execution_count": 11,
   "metadata": {},
   "outputs": [
    {
     "data": {
      "application/vnd.plotly.v1+json": {
       "config": {
        "plotlyServerURL": "https://plot.ly"
       },
       "data": [
        {
         "customdata": [
          [
           1010,
           2121,
           0.23967726625533933,
           11
          ],
          [
           1010,
           2121,
           0.23967726625533933,
           11
          ],
          [
           1010,
           2121,
           0.23967726625533933,
           11
          ],
          [
           1010,
           2121,
           0.23967726625533933,
           11
          ],
          [
           1010,
           2121,
           0.23967726625533933,
           11
          ],
          [
           1010,
           2121,
           0.23967726625533933,
           11
          ],
          [
           1010,
           2121,
           0.23967726625533933,
           11
          ],
          [
           1010,
           2121,
           0.23967726625533933,
           11
          ],
          [
           1010,
           2121,
           0.23967726625533933,
           11
          ],
          [
           1010,
           2121,
           0.23967726625533933,
           11
          ],
          [
           1010,
           2121,
           0.23967726625533933,
           11
          ],
          [
           1010,
           2121,
           0.23967726625533933,
           11
          ],
          [
           1010,
           2121,
           0.23967726625533933,
           11
          ],
          [
           1010,
           2121,
           0.23967726625533933,
           11
          ],
          [
           1010,
           2121,
           0.23967726625533933,
           11
          ],
          [
           1010,
           2121,
           0.23967726625533933,
           11
          ],
          [
           1010,
           2121,
           0.23967726625533933,
           11
          ]
         ],
         "hovertemplate": "SKU_ID=1416<br>ORDERS_BETWEEN_ORDERS=%{x}<br>RATE=%{y}<br>SKUID_total_customers=%{customdata[0]}<br>SKUID_total_transactions=%{customdata[1]}<br>SKUID_total_probability_rate=%{customdata[2]}<br>product_rank_bytotalprobrate=%{customdata[3]}<extra></extra>",
         "legendgroup": "1416",
         "line": {
          "color": "#636efa",
          "dash": "solid"
         },
         "marker": {
          "symbol": "circle"
         },
         "mode": "lines",
         "name": "1416",
         "orientation": "v",
         "showlegend": true,
         "type": "scatter",
         "x": [
          1,
          2,
          3,
          4,
          5,
          6,
          7,
          8,
          9,
          10,
          11,
          12,
          13,
          14,
          15,
          16,
          20
         ],
         "xaxis": "x",
         "y": [
          0.38253825382538253,
          0.2304230423042304,
          0.12961296129612962,
          0.0927092709270927,
          0.05850585058505851,
          0.0333033303330333,
          0.0288028802880288,
          0.010801080108010801,
          0.011701170117011701,
          0.009000900090009001,
          0.0018001800180018,
          0.004500450045004501,
          0.0009000900090009,
          0.0018001800180018,
          0.0009000900090009,
          0.0009000900090009,
          0.0018001800180018
         ],
         "yaxis": "y"
        },
        {
         "customdata": [
          [
           1026,
           2915,
           0.24347413383958236,
           8
          ],
          [
           1026,
           2915,
           0.24347413383958236,
           8
          ],
          [
           1026,
           2915,
           0.24347413383958236,
           8
          ],
          [
           1026,
           2915,
           0.24347413383958236,
           8
          ],
          [
           1026,
           2915,
           0.24347413383958236,
           8
          ],
          [
           1026,
           2915,
           0.24347413383958236,
           8
          ],
          [
           1026,
           2915,
           0.24347413383958236,
           8
          ],
          [
           1026,
           2915,
           0.24347413383958236,
           8
          ],
          [
           1026,
           2915,
           0.24347413383958236,
           8
          ],
          [
           1026,
           2915,
           0.24347413383958236,
           8
          ],
          [
           1026,
           2915,
           0.24347413383958236,
           8
          ],
          [
           1026,
           2915,
           0.24347413383958236,
           8
          ],
          [
           1026,
           2915,
           0.24347413383958236,
           8
          ],
          [
           1026,
           2915,
           0.24347413383958236,
           8
          ],
          [
           1026,
           2915,
           0.24347413383958236,
           8
          ],
          [
           1026,
           2915,
           0.24347413383958236,
           8
          ],
          [
           1026,
           2915,
           0.24347413383958236,
           8
          ]
         ],
         "hovertemplate": "SKU_ID=2201<br>ORDERS_BETWEEN_ORDERS=%{x}<br>RATE=%{y}<br>SKUID_total_customers=%{customdata[0]}<br>SKUID_total_transactions=%{customdata[1]}<br>SKUID_total_probability_rate=%{customdata[2]}<br>product_rank_bytotalprobrate=%{customdata[3]}<extra></extra>",
         "legendgroup": "2201",
         "line": {
          "color": "#EF553B",
          "dash": "solid"
         },
         "marker": {
          "symbol": "circle"
         },
         "mode": "lines",
         "name": "2201",
         "orientation": "v",
         "showlegend": true,
         "type": "scatter",
         "x": [
          1,
          2,
          3,
          4,
          5,
          6,
          7,
          8,
          9,
          10,
          11,
          12,
          13,
          14,
          15,
          18,
          28
         ],
         "xaxis": "x",
         "y": [
          0.46056114346214927,
          0.23345685547908945,
          0.131286394917946,
          0.06617257808364214,
          0.039174166225516144,
          0.02223398623610376,
          0.01641079936474325,
          0.007411328745367919,
          0.009528851244044468,
          0.005293806246691371,
          0.0015881418740074113,
          0.0021175224986765486,
          0.0015881418740074113,
          0.0010587612493382743,
          0.0010587612493382743,
          0.0005293806246691371,
          0.0005293806246691371
         ],
         "yaxis": "y"
        },
        {
         "customdata": [
          [
           1072,
           3741,
           0.25439012814428097,
           5
          ],
          [
           1072,
           3741,
           0.25439012814428097,
           5
          ],
          [
           1072,
           3741,
           0.25439012814428097,
           5
          ],
          [
           1072,
           3741,
           0.25439012814428097,
           5
          ],
          [
           1072,
           3741,
           0.25439012814428097,
           5
          ],
          [
           1072,
           3741,
           0.25439012814428097,
           5
          ],
          [
           1072,
           3741,
           0.25439012814428097,
           5
          ],
          [
           1072,
           3741,
           0.25439012814428097,
           5
          ],
          [
           1072,
           3741,
           0.25439012814428097,
           5
          ],
          [
           1072,
           3741,
           0.25439012814428097,
           5
          ],
          [
           1072,
           3741,
           0.25439012814428097,
           5
          ],
          [
           1072,
           3741,
           0.25439012814428097,
           5
          ],
          [
           1072,
           3741,
           0.25439012814428097,
           5
          ],
          [
           1072,
           3741,
           0.25439012814428097,
           5
          ],
          [
           1072,
           3741,
           0.25439012814428097,
           5
          ],
          [
           1072,
           3741,
           0.25439012814428097,
           5
          ],
          [
           1072,
           3741,
           0.25439012814428097,
           5
          ],
          [
           1072,
           3741,
           0.25439012814428097,
           5
          ],
          [
           1072,
           3741,
           0.25439012814428097,
           5
          ],
          [
           1072,
           3741,
           0.25439012814428097,
           5
          ],
          [
           1072,
           3741,
           0.25439012814428097,
           5
          ],
          [
           1072,
           3741,
           0.25439012814428097,
           5
          ],
          [
           1072,
           3741,
           0.25439012814428097,
           5
          ],
          [
           1072,
           3741,
           0.25439012814428097,
           5
          ],
          [
           1072,
           3741,
           0.25439012814428097,
           5
          ]
         ],
         "hovertemplate": "SKU_ID=7026<br>ORDERS_BETWEEN_ORDERS=%{x}<br>RATE=%{y}<br>SKUID_total_customers=%{customdata[0]}<br>SKUID_total_transactions=%{customdata[1]}<br>SKUID_total_probability_rate=%{customdata[2]}<br>product_rank_bytotalprobrate=%{customdata[3]}<extra></extra>",
         "legendgroup": "7026",
         "line": {
          "color": "#00cc96",
          "dash": "solid"
         },
         "marker": {
          "symbol": "circle"
         },
         "mode": "lines",
         "name": "7026",
         "orientation": "v",
         "showlegend": true,
         "type": "scatter",
         "x": [
          1,
          2,
          3,
          4,
          5,
          6,
          7,
          8,
          9,
          10,
          11,
          12,
          13,
          14,
          15,
          16,
          17,
          18,
          19,
          21,
          22,
          23,
          28,
          29,
          35
         ],
         "xaxis": "x",
         "y": [
          0.5069314349943799,
          0.20756837766953914,
          0.11427500936680404,
          0.06107156238291495,
          0.036717871862120645,
          0.02210565754964406,
          0.015736230798051705,
          0.007118771075309105,
          0.007493443237167478,
          0.004870738104158861,
          0.005245410266017235,
          0.0018733608092918695,
          0.0007493443237167478,
          0.0011240164855751218,
          0.0018733608092918695,
          0.0014986886474334957,
          0.0003746721618583739,
          0.0003746721618583739,
          0.0003746721618583739,
          0.0007493443237167478,
          0.0003746721618583739,
          0.0003746721618583739,
          0.0003746721618583739,
          0.0003746721618583739,
          0.0003746721618583739
         ],
         "yaxis": "y"
        },
        {
         "customdata": [
          [
           2092,
           11719,
           0.49644043663977216,
           0
          ],
          [
           2092,
           11719,
           0.49644043663977216,
           0
          ],
          [
           2092,
           11719,
           0.49644043663977216,
           0
          ],
          [
           2092,
           11719,
           0.49644043663977216,
           0
          ],
          [
           2092,
           11719,
           0.49644043663977216,
           0
          ],
          [
           2092,
           11719,
           0.49644043663977216,
           0
          ],
          [
           2092,
           11719,
           0.49644043663977216,
           0
          ],
          [
           2092,
           11719,
           0.49644043663977216,
           0
          ],
          [
           2092,
           11719,
           0.49644043663977216,
           0
          ],
          [
           2092,
           11719,
           0.49644043663977216,
           0
          ],
          [
           2092,
           11719,
           0.49644043663977216,
           0
          ],
          [
           2092,
           11719,
           0.49644043663977216,
           0
          ],
          [
           2092,
           11719,
           0.49644043663977216,
           0
          ],
          [
           2092,
           11719,
           0.49644043663977216,
           0
          ],
          [
           2092,
           11719,
           0.49644043663977216,
           0
          ],
          [
           2092,
           11719,
           0.49644043663977216,
           0
          ],
          [
           2092,
           11719,
           0.49644043663977216,
           0
          ],
          [
           2092,
           11719,
           0.49644043663977216,
           0
          ],
          [
           2092,
           11719,
           0.49644043663977216,
           0
          ],
          [
           2092,
           11719,
           0.49644043663977216,
           0
          ]
         ],
         "hovertemplate": "SKU_ID=7038<br>ORDERS_BETWEEN_ORDERS=%{x}<br>RATE=%{y}<br>SKUID_total_customers=%{customdata[0]}<br>SKUID_total_transactions=%{customdata[1]}<br>SKUID_total_probability_rate=%{customdata[2]}<br>product_rank_bytotalprobrate=%{customdata[3]}<extra></extra>",
         "legendgroup": "7038",
         "line": {
          "color": "#ab63fa",
          "dash": "solid"
         },
         "marker": {
          "symbol": "circle"
         },
         "mode": "lines",
         "name": "7038",
         "orientation": "v",
         "showlegend": true,
         "type": "scatter",
         "x": [
          1,
          2,
          3,
          4,
          5,
          6,
          7,
          8,
          9,
          10,
          11,
          12,
          13,
          14,
          15,
          17,
          18,
          19,
          21,
          24
         ],
         "xaxis": "x",
         "y": [
          0.6788199854575673,
          0.18489664485301754,
          0.06886880648177002,
          0.032201101069907555,
          0.015269554378311,
          0.007582839929365327,
          0.004882102420276306,
          0.0023891139503479796,
          0.001661992313285551,
          0.0011426197153838163,
          0.00041549807832138777,
          0.0006232471174820816,
          0.0003116235587410408,
          0.00010387451958034694,
          0.00010387451958034694,
          0.00020774903916069389,
          0.00010387451958034694,
          0.00010387451958034694,
          0.00010387451958034694,
          0.00020774903916069389
         ],
         "yaxis": "y"
        },
        {
         "customdata": [
          [
           1052,
           3056,
           0.24964404366397722,
           7
          ],
          [
           1052,
           3056,
           0.24964404366397722,
           7
          ],
          [
           1052,
           3056,
           0.24964404366397722,
           7
          ],
          [
           1052,
           3056,
           0.24964404366397722,
           7
          ],
          [
           1052,
           3056,
           0.24964404366397722,
           7
          ],
          [
           1052,
           3056,
           0.24964404366397722,
           7
          ],
          [
           1052,
           3056,
           0.24964404366397722,
           7
          ],
          [
           1052,
           3056,
           0.24964404366397722,
           7
          ],
          [
           1052,
           3056,
           0.24964404366397722,
           7
          ],
          [
           1052,
           3056,
           0.24964404366397722,
           7
          ],
          [
           1052,
           3056,
           0.24964404366397722,
           7
          ],
          [
           1052,
           3056,
           0.24964404366397722,
           7
          ],
          [
           1052,
           3056,
           0.24964404366397722,
           7
          ],
          [
           1052,
           3056,
           0.24964404366397722,
           7
          ],
          [
           1052,
           3056,
           0.24964404366397722,
           7
          ],
          [
           1052,
           3056,
           0.24964404366397722,
           7
          ],
          [
           1052,
           3056,
           0.24964404366397722,
           7
          ],
          [
           1052,
           3056,
           0.24964404366397722,
           7
          ],
          [
           1052,
           3056,
           0.24964404366397722,
           7
          ]
         ],
         "hovertemplate": "SKU_ID=7475<br>ORDERS_BETWEEN_ORDERS=%{x}<br>RATE=%{y}<br>SKUID_total_customers=%{customdata[0]}<br>SKUID_total_transactions=%{customdata[1]}<br>SKUID_total_probability_rate=%{customdata[2]}<br>product_rank_bytotalprobrate=%{customdata[3]}<extra></extra>",
         "legendgroup": "7475",
         "line": {
          "color": "#FFA15A",
          "dash": "solid"
         },
         "marker": {
          "symbol": "circle"
         },
         "mode": "lines",
         "name": "7475",
         "orientation": "v",
         "showlegend": true,
         "type": "scatter",
         "x": [
          1,
          2,
          3,
          4,
          5,
          6,
          7,
          8,
          9,
          10,
          11,
          12,
          13,
          14,
          15,
          16,
          17,
          20,
          22
         ],
         "xaxis": "x",
         "y": [
          0.37475049900199603,
          0.249500998003992,
          0.1407185628742515,
          0.07584830339321358,
          0.062375249500998,
          0.04241516966067864,
          0.017964071856287425,
          0.013972055888223553,
          0.006986027944111776,
          0.0054890219560878245,
          0.0014970059880239522,
          0.00249500998003992,
          0.0014970059880239522,
          0.000998003992015968,
          0.000499001996007984,
          0.000998003992015968,
          0.000998003992015968,
          0.000499001996007984,
          0.000499001996007984
         ],
         "yaxis": "y"
        },
        {
         "customdata": [
          [
           997,
           2792,
           0.2365923113431419,
           12
          ],
          [
           997,
           2792,
           0.2365923113431419,
           12
          ],
          [
           997,
           2792,
           0.2365923113431419,
           12
          ],
          [
           997,
           2792,
           0.2365923113431419,
           12
          ],
          [
           997,
           2792,
           0.2365923113431419,
           12
          ],
          [
           997,
           2792,
           0.2365923113431419,
           12
          ],
          [
           997,
           2792,
           0.2365923113431419,
           12
          ],
          [
           997,
           2792,
           0.2365923113431419,
           12
          ],
          [
           997,
           2792,
           0.2365923113431419,
           12
          ],
          [
           997,
           2792,
           0.2365923113431419,
           12
          ],
          [
           997,
           2792,
           0.2365923113431419,
           12
          ],
          [
           997,
           2792,
           0.2365923113431419,
           12
          ],
          [
           997,
           2792,
           0.2365923113431419,
           12
          ],
          [
           997,
           2792,
           0.2365923113431419,
           12
          ],
          [
           997,
           2792,
           0.2365923113431419,
           12
          ],
          [
           997,
           2792,
           0.2365923113431419,
           12
          ],
          [
           997,
           2792,
           0.2365923113431419,
           12
          ],
          [
           997,
           2792,
           0.2365923113431419,
           12
          ]
         ],
         "hovertemplate": "SKU_ID=7476<br>ORDERS_BETWEEN_ORDERS=%{x}<br>RATE=%{y}<br>SKUID_total_customers=%{customdata[0]}<br>SKUID_total_transactions=%{customdata[1]}<br>SKUID_total_probability_rate=%{customdata[2]}<br>product_rank_bytotalprobrate=%{customdata[3]}<extra></extra>",
         "legendgroup": "7476",
         "line": {
          "color": "#19d3f3",
          "dash": "solid"
         },
         "marker": {
          "symbol": "circle"
         },
         "mode": "lines",
         "name": "7476",
         "orientation": "v",
         "showlegend": true,
         "type": "scatter",
         "x": [
          1,
          2,
          3,
          4,
          5,
          6,
          7,
          8,
          9,
          10,
          11,
          12,
          13,
          14,
          18,
          20,
          22,
          24
         ],
         "xaxis": "x",
         "y": [
          0.35153203342618383,
          0.2456824512534819,
          0.15153203342618385,
          0.10027855153203342,
          0.043454038997214485,
          0.04011142061281337,
          0.020055710306406686,
          0.0116991643454039,
          0.012813370473537604,
          0.00947075208913649,
          0.008356545961002786,
          0.0005571030640668524,
          0.0011142061281337048,
          0.0005571030640668524,
          0.0005571030640668524,
          0.0005571030640668524,
          0.0011142061281337048,
          0.0005571030640668524
         ],
         "yaxis": "y"
        },
        {
         "customdata": [
          [
           1840,
           7214,
           0.4366397721879449,
           1
          ],
          [
           1840,
           7214,
           0.4366397721879449,
           1
          ],
          [
           1840,
           7214,
           0.4366397721879449,
           1
          ],
          [
           1840,
           7214,
           0.4366397721879449,
           1
          ],
          [
           1840,
           7214,
           0.4366397721879449,
           1
          ],
          [
           1840,
           7214,
           0.4366397721879449,
           1
          ],
          [
           1840,
           7214,
           0.4366397721879449,
           1
          ],
          [
           1840,
           7214,
           0.4366397721879449,
           1
          ],
          [
           1840,
           7214,
           0.4366397721879449,
           1
          ],
          [
           1840,
           7214,
           0.4366397721879449,
           1
          ],
          [
           1840,
           7214,
           0.4366397721879449,
           1
          ],
          [
           1840,
           7214,
           0.4366397721879449,
           1
          ],
          [
           1840,
           7214,
           0.4366397721879449,
           1
          ],
          [
           1840,
           7214,
           0.4366397721879449,
           1
          ],
          [
           1840,
           7214,
           0.4366397721879449,
           1
          ],
          [
           1840,
           7214,
           0.4366397721879449,
           1
          ],
          [
           1840,
           7214,
           0.4366397721879449,
           1
          ]
         ],
         "hovertemplate": "SKU_ID=7651<br>ORDERS_BETWEEN_ORDERS=%{x}<br>RATE=%{y}<br>SKUID_total_customers=%{customdata[0]}<br>SKUID_total_transactions=%{customdata[1]}<br>SKUID_total_probability_rate=%{customdata[2]}<br>product_rank_bytotalprobrate=%{customdata[3]}<extra></extra>",
         "legendgroup": "7651",
         "line": {
          "color": "#FF6692",
          "dash": "solid"
         },
         "marker": {
          "symbol": "circle"
         },
         "mode": "lines",
         "name": "7651",
         "orientation": "v",
         "showlegend": true,
         "type": "scatter",
         "x": [
          1,
          2,
          3,
          4,
          5,
          6,
          7,
          8,
          9,
          10,
          11,
          12,
          13,
          14,
          15,
          16,
          21
         ],
         "xaxis": "x",
         "y": [
          0.5971343505768515,
          0.21752884257536287,
          0.09136583550427986,
          0.04261257908448084,
          0.02232973576479345,
          0.012281354670636397,
          0.006885001860811314,
          0.0026051358392259025,
          0.0031633792333457386,
          0.0009304056568663938,
          0.0013025679196129512,
          0.0005582433941198362,
          0.00018608113137327876,
          0.00018608113137327876,
          0.0005582433941198362,
          0.00018608113137327876,
          0.00018608113137327876
         ],
         "yaxis": "y"
        },
        {
         "customdata": [
          [
           1011,
           3312,
           0.23991457047935452,
           10
          ],
          [
           1011,
           3312,
           0.23991457047935452,
           10
          ],
          [
           1011,
           3312,
           0.23991457047935452,
           10
          ],
          [
           1011,
           3312,
           0.23991457047935452,
           10
          ],
          [
           1011,
           3312,
           0.23991457047935452,
           10
          ],
          [
           1011,
           3312,
           0.23991457047935452,
           10
          ],
          [
           1011,
           3312,
           0.23991457047935452,
           10
          ],
          [
           1011,
           3312,
           0.23991457047935452,
           10
          ],
          [
           1011,
           3312,
           0.23991457047935452,
           10
          ],
          [
           1011,
           3312,
           0.23991457047935452,
           10
          ],
          [
           1011,
           3312,
           0.23991457047935452,
           10
          ],
          [
           1011,
           3312,
           0.23991457047935452,
           10
          ],
          [
           1011,
           3312,
           0.23991457047935452,
           10
          ],
          [
           1011,
           3312,
           0.23991457047935452,
           10
          ],
          [
           1011,
           3312,
           0.23991457047935452,
           10
          ],
          [
           1011,
           3312,
           0.23991457047935452,
           10
          ],
          [
           1011,
           3312,
           0.23991457047935452,
           10
          ],
          [
           1011,
           3312,
           0.23991457047935452,
           10
          ]
         ],
         "hovertemplate": "SKU_ID=16667<br>ORDERS_BETWEEN_ORDERS=%{x}<br>RATE=%{y}<br>SKUID_total_customers=%{customdata[0]}<br>SKUID_total_transactions=%{customdata[1]}<br>SKUID_total_probability_rate=%{customdata[2]}<br>product_rank_bytotalprobrate=%{customdata[3]}<extra></extra>",
         "legendgroup": "16667",
         "line": {
          "color": "#B6E880",
          "dash": "solid"
         },
         "marker": {
          "symbol": "circle"
         },
         "mode": "lines",
         "name": "16667",
         "orientation": "v",
         "showlegend": true,
         "type": "scatter",
         "x": [
          1,
          2,
          3,
          4,
          5,
          6,
          7,
          8,
          9,
          10,
          11,
          12,
          13,
          14,
          15,
          16,
          18,
          20
         ],
         "xaxis": "x",
         "y": [
          0.3954802259887006,
          0.23859191655801826,
          0.14428509343763582,
          0.08170360712733594,
          0.04997827031725337,
          0.03172533681008257,
          0.02216427640156454,
          0.012603215993046502,
          0.008691873098652759,
          0.003476749239461104,
          0.002607561929595828,
          0.003042155584528466,
          0.003042155584528466,
          0.000869187309865276,
          0.000434593654932638,
          0.000434593654932638,
          0.000434593654932638,
          0.000434593654932638
         ],
         "yaxis": "y"
        },
        {
         "customdata": [
          [
           1025,
           3289,
           0.24323682961556717,
           9
          ],
          [
           1025,
           3289,
           0.24323682961556717,
           9
          ],
          [
           1025,
           3289,
           0.24323682961556717,
           9
          ],
          [
           1025,
           3289,
           0.24323682961556717,
           9
          ],
          [
           1025,
           3289,
           0.24323682961556717,
           9
          ],
          [
           1025,
           3289,
           0.24323682961556717,
           9
          ],
          [
           1025,
           3289,
           0.24323682961556717,
           9
          ],
          [
           1025,
           3289,
           0.24323682961556717,
           9
          ],
          [
           1025,
           3289,
           0.24323682961556717,
           9
          ],
          [
           1025,
           3289,
           0.24323682961556717,
           9
          ],
          [
           1025,
           3289,
           0.24323682961556717,
           9
          ],
          [
           1025,
           3289,
           0.24323682961556717,
           9
          ],
          [
           1025,
           3289,
           0.24323682961556717,
           9
          ],
          [
           1025,
           3289,
           0.24323682961556717,
           9
          ],
          [
           1025,
           3289,
           0.24323682961556717,
           9
          ],
          [
           1025,
           3289,
           0.24323682961556717,
           9
          ],
          [
           1025,
           3289,
           0.24323682961556717,
           9
          ],
          [
           1025,
           3289,
           0.24323682961556717,
           9
          ]
         ],
         "hovertemplate": "SKU_ID=16668<br>ORDERS_BETWEEN_ORDERS=%{x}<br>RATE=%{y}<br>SKUID_total_customers=%{customdata[0]}<br>SKUID_total_transactions=%{customdata[1]}<br>SKUID_total_probability_rate=%{customdata[2]}<br>product_rank_bytotalprobrate=%{customdata[3]}<extra></extra>",
         "legendgroup": "16668",
         "line": {
          "color": "#FF97FF",
          "dash": "solid"
         },
         "marker": {
          "symbol": "circle"
         },
         "mode": "lines",
         "name": "16668",
         "orientation": "v",
         "showlegend": true,
         "type": "scatter",
         "x": [
          1,
          2,
          3,
          4,
          5,
          6,
          7,
          8,
          9,
          10,
          11,
          12,
          13,
          14,
          15,
          17,
          22,
          27
         ],
         "xaxis": "x",
         "y": [
          0.4125441696113074,
          0.24690812720848057,
          0.11484098939929328,
          0.08701413427561837,
          0.04902826855123675,
          0.03401060070671378,
          0.018551236749116608,
          0.012809187279151944,
          0.007508833922261484,
          0.00441696113074205,
          0.0030918727915194345,
          0.002208480565371025,
          0.00265017667844523,
          0.00265017667844523,
          0.00044169611307420494,
          0.00044169611307420494,
          0.00044169611307420494,
          0.00044169611307420494
         ],
         "yaxis": "y"
        },
        {
         "customdata": [
          [
           845,
           2503,
           0.20052206929283342,
           17
          ],
          [
           845,
           2503,
           0.20052206929283342,
           17
          ],
          [
           845,
           2503,
           0.20052206929283342,
           17
          ],
          [
           845,
           2503,
           0.20052206929283342,
           17
          ],
          [
           845,
           2503,
           0.20052206929283342,
           17
          ],
          [
           845,
           2503,
           0.20052206929283342,
           17
          ],
          [
           845,
           2503,
           0.20052206929283342,
           17
          ],
          [
           845,
           2503,
           0.20052206929283342,
           17
          ],
          [
           845,
           2503,
           0.20052206929283342,
           17
          ],
          [
           845,
           2503,
           0.20052206929283342,
           17
          ],
          [
           845,
           2503,
           0.20052206929283342,
           17
          ],
          [
           845,
           2503,
           0.20052206929283342,
           17
          ],
          [
           845,
           2503,
           0.20052206929283342,
           17
          ],
          [
           845,
           2503,
           0.20052206929283342,
           17
          ],
          [
           845,
           2503,
           0.20052206929283342,
           17
          ],
          [
           845,
           2503,
           0.20052206929283342,
           17
          ],
          [
           845,
           2503,
           0.20052206929283342,
           17
          ],
          [
           845,
           2503,
           0.20052206929283342,
           17
          ]
         ],
         "hovertemplate": "SKU_ID=16936<br>ORDERS_BETWEEN_ORDERS=%{x}<br>RATE=%{y}<br>SKUID_total_customers=%{customdata[0]}<br>SKUID_total_transactions=%{customdata[1]}<br>SKUID_total_probability_rate=%{customdata[2]}<br>product_rank_bytotalprobrate=%{customdata[3]}<extra></extra>",
         "legendgroup": "16936",
         "line": {
          "color": "#FECB52",
          "dash": "solid"
         },
         "marker": {
          "symbol": "circle"
         },
         "mode": "lines",
         "name": "16936",
         "orientation": "v",
         "showlegend": true,
         "type": "scatter",
         "x": [
          1,
          2,
          3,
          4,
          5,
          6,
          7,
          8,
          9,
          10,
          11,
          12,
          13,
          14,
          15,
          21,
          22,
          23
         ],
         "xaxis": "x",
         "y": [
          0.42279855247285886,
          0.2243667068757539,
          0.13570566948130278,
          0.07780458383594692,
          0.045838359469240045,
          0.03498190591073583,
          0.024125452352231604,
          0.010856453558504222,
          0.007237635705669481,
          0.0036188178528347406,
          0.0036188178528347406,
          0.0018094089264173703,
          0.0030156815440289505,
          0.0006031363088057901,
          0.0018094089264173703,
          0.0006031363088057901,
          0.0006031363088057901,
          0.0006031363088057901
         ],
         "yaxis": "y"
        },
        {
         "customdata": [
          [
           823,
           2430,
           0.1953013763644993,
           19
          ],
          [
           823,
           2430,
           0.1953013763644993,
           19
          ],
          [
           823,
           2430,
           0.1953013763644993,
           19
          ],
          [
           823,
           2430,
           0.1953013763644993,
           19
          ],
          [
           823,
           2430,
           0.1953013763644993,
           19
          ],
          [
           823,
           2430,
           0.1953013763644993,
           19
          ],
          [
           823,
           2430,
           0.1953013763644993,
           19
          ],
          [
           823,
           2430,
           0.1953013763644993,
           19
          ],
          [
           823,
           2430,
           0.1953013763644993,
           19
          ],
          [
           823,
           2430,
           0.1953013763644993,
           19
          ],
          [
           823,
           2430,
           0.1953013763644993,
           19
          ],
          [
           823,
           2430,
           0.1953013763644993,
           19
          ],
          [
           823,
           2430,
           0.1953013763644993,
           19
          ],
          [
           823,
           2430,
           0.1953013763644993,
           19
          ],
          [
           823,
           2430,
           0.1953013763644993,
           19
          ],
          [
           823,
           2430,
           0.1953013763644993,
           19
          ]
         ],
         "hovertemplate": "SKU_ID=17991<br>ORDERS_BETWEEN_ORDERS=%{x}<br>RATE=%{y}<br>SKUID_total_customers=%{customdata[0]}<br>SKUID_total_transactions=%{customdata[1]}<br>SKUID_total_probability_rate=%{customdata[2]}<br>product_rank_bytotalprobrate=%{customdata[3]}<extra></extra>",
         "legendgroup": "17991",
         "line": {
          "color": "#636efa",
          "dash": "solid"
         },
         "marker": {
          "symbol": "circle"
         },
         "mode": "lines",
         "name": "17991",
         "orientation": "v",
         "showlegend": true,
         "type": "scatter",
         "x": [
          1,
          2,
          3,
          4,
          5,
          6,
          7,
          8,
          9,
          10,
          11,
          12,
          13,
          14,
          15,
          16
         ],
         "xaxis": "x",
         "y": [
          0.39763534536403233,
          0.23335407591785937,
          0.1375233354075918,
          0.08089607965152458,
          0.054760423148724334,
          0.03546981953951462,
          0.023646546359676415,
          0.008711885500933417,
          0.008711885500933417,
          0.005600497822028625,
          0.00373366521468575,
          0.0031113876789047915,
          0.0031113876789047915,
          0.001866832607342875,
          0.0012445550715619166,
          0.0006222775357809583
         ],
         "yaxis": "y"
        },
        {
         "customdata": [
          [
           968,
           4162,
           0.22971048884670148,
           13
          ],
          [
           968,
           4162,
           0.22971048884670148,
           13
          ],
          [
           968,
           4162,
           0.22971048884670148,
           13
          ],
          [
           968,
           4162,
           0.22971048884670148,
           13
          ],
          [
           968,
           4162,
           0.22971048884670148,
           13
          ],
          [
           968,
           4162,
           0.22971048884670148,
           13
          ],
          [
           968,
           4162,
           0.22971048884670148,
           13
          ],
          [
           968,
           4162,
           0.22971048884670148,
           13
          ],
          [
           968,
           4162,
           0.22971048884670148,
           13
          ],
          [
           968,
           4162,
           0.22971048884670148,
           13
          ],
          [
           968,
           4162,
           0.22971048884670148,
           13
          ],
          [
           968,
           4162,
           0.22971048884670148,
           13
          ],
          [
           968,
           4162,
           0.22971048884670148,
           13
          ],
          [
           968,
           4162,
           0.22971048884670148,
           13
          ],
          [
           968,
           4162,
           0.22971048884670148,
           13
          ]
         ],
         "hovertemplate": "SKU_ID=19086<br>ORDERS_BETWEEN_ORDERS=%{x}<br>RATE=%{y}<br>SKUID_total_customers=%{customdata[0]}<br>SKUID_total_transactions=%{customdata[1]}<br>SKUID_total_probability_rate=%{customdata[2]}<br>product_rank_bytotalprobrate=%{customdata[3]}<extra></extra>",
         "legendgroup": "19086",
         "line": {
          "color": "#EF553B",
          "dash": "solid"
         },
         "marker": {
          "symbol": "circle"
         },
         "mode": "lines",
         "name": "19086",
         "orientation": "v",
         "showlegend": true,
         "type": "scatter",
         "x": [
          1,
          2,
          3,
          4,
          5,
          6,
          7,
          8,
          9,
          10,
          11,
          12,
          15,
          16,
          17
         ],
         "xaxis": "x",
         "y": [
          0.5588603631809643,
          0.2285535378835316,
          0.08797745773324984,
          0.054477144646211645,
          0.023481527864746398,
          0.018159048215403883,
          0.007514088916718848,
          0.007514088916718848,
          0.004383218534752661,
          0.002817783343769568,
          0.002817783343769568,
          0.0021916092673763305,
          0.0006261740763932373,
          0.00031308703819661864,
          0.00031308703819661864
         ],
         "yaxis": "y"
        },
        {
         "customdata": [
          [
           1692,
           7666,
           0.4015187470336972,
           2
          ],
          [
           1692,
           7666,
           0.4015187470336972,
           2
          ],
          [
           1692,
           7666,
           0.4015187470336972,
           2
          ],
          [
           1692,
           7666,
           0.4015187470336972,
           2
          ],
          [
           1692,
           7666,
           0.4015187470336972,
           2
          ],
          [
           1692,
           7666,
           0.4015187470336972,
           2
          ],
          [
           1692,
           7666,
           0.4015187470336972,
           2
          ],
          [
           1692,
           7666,
           0.4015187470336972,
           2
          ],
          [
           1692,
           7666,
           0.4015187470336972,
           2
          ],
          [
           1692,
           7666,
           0.4015187470336972,
           2
          ],
          [
           1692,
           7666,
           0.4015187470336972,
           2
          ],
          [
           1692,
           7666,
           0.4015187470336972,
           2
          ],
          [
           1692,
           7666,
           0.4015187470336972,
           2
          ],
          [
           1692,
           7666,
           0.4015187470336972,
           2
          ],
          [
           1692,
           7666,
           0.4015187470336972,
           2
          ],
          [
           1692,
           7666,
           0.4015187470336972,
           2
          ],
          [
           1692,
           7666,
           0.4015187470336972,
           2
          ],
          [
           1692,
           7666,
           0.4015187470336972,
           2
          ]
         ],
         "hovertemplate": "SKU_ID=19088<br>ORDERS_BETWEEN_ORDERS=%{x}<br>RATE=%{y}<br>SKUID_total_customers=%{customdata[0]}<br>SKUID_total_transactions=%{customdata[1]}<br>SKUID_total_probability_rate=%{customdata[2]}<br>product_rank_bytotalprobrate=%{customdata[3]}<extra></extra>",
         "legendgroup": "19088",
         "line": {
          "color": "#00cc96",
          "dash": "solid"
         },
         "marker": {
          "symbol": "circle"
         },
         "mode": "lines",
         "name": "19088",
         "orientation": "v",
         "showlegend": true,
         "type": "scatter",
         "x": [
          1,
          2,
          3,
          4,
          5,
          6,
          7,
          8,
          9,
          10,
          11,
          12,
          13,
          14,
          15,
          18,
          20,
          29
         ],
         "xaxis": "x",
         "y": [
          0.5863742885838634,
          0.22932708403080013,
          0.09390693003013056,
          0.04084365584198192,
          0.01858051556745899,
          0.01054569802477402,
          0.007030465349849347,
          0.0035152326749246735,
          0.0038500167392032138,
          0.0015065282892534316,
          0.0016739203213927017,
          0.0015065282892534316,
          0.00033478406427854036,
          0.00016739203213927018,
          0.00033478406427854036,
          0.00016739203213927018,
          0.00016739203213927018,
          0.00016739203213927018
         ],
         "yaxis": "y"
        },
        {
         "customdata": [
          [
           859,
           3062,
           0.20384432842904604,
           16
          ],
          [
           859,
           3062,
           0.20384432842904604,
           16
          ],
          [
           859,
           3062,
           0.20384432842904604,
           16
          ],
          [
           859,
           3062,
           0.20384432842904604,
           16
          ],
          [
           859,
           3062,
           0.20384432842904604,
           16
          ],
          [
           859,
           3062,
           0.20384432842904604,
           16
          ],
          [
           859,
           3062,
           0.20384432842904604,
           16
          ],
          [
           859,
           3062,
           0.20384432842904604,
           16
          ],
          [
           859,
           3062,
           0.20384432842904604,
           16
          ],
          [
           859,
           3062,
           0.20384432842904604,
           16
          ],
          [
           859,
           3062,
           0.20384432842904604,
           16
          ],
          [
           859,
           3062,
           0.20384432842904604,
           16
          ],
          [
           859,
           3062,
           0.20384432842904604,
           16
          ],
          [
           859,
           3062,
           0.20384432842904604,
           16
          ],
          [
           859,
           3062,
           0.20384432842904604,
           16
          ],
          [
           859,
           3062,
           0.20384432842904604,
           16
          ],
          [
           859,
           3062,
           0.20384432842904604,
           16
          ],
          [
           859,
           3062,
           0.20384432842904604,
           16
          ],
          [
           859,
           3062,
           0.20384432842904604,
           16
          ],
          [
           859,
           3062,
           0.20384432842904604,
           16
          ]
         ],
         "hovertemplate": "SKU_ID=19253<br>ORDERS_BETWEEN_ORDERS=%{x}<br>RATE=%{y}<br>SKUID_total_customers=%{customdata[0]}<br>SKUID_total_transactions=%{customdata[1]}<br>SKUID_total_probability_rate=%{customdata[2]}<br>product_rank_bytotalprobrate=%{customdata[3]}<extra></extra>",
         "legendgroup": "19253",
         "line": {
          "color": "#ab63fa",
          "dash": "solid"
         },
         "marker": {
          "symbol": "circle"
         },
         "mode": "lines",
         "name": "19253",
         "orientation": "v",
         "showlegend": true,
         "type": "scatter",
         "x": [
          1,
          2,
          3,
          4,
          5,
          6,
          7,
          8,
          9,
          10,
          11,
          12,
          13,
          14,
          15,
          16,
          19,
          20,
          21,
          33
         ],
         "xaxis": "x",
         "y": [
          0.415796640944167,
          0.2519291874716296,
          0.12936904221516116,
          0.06400363141171131,
          0.04539264639128461,
          0.02541988197911938,
          0.02451202905129369,
          0.01407172038129823,
          0.011348161597821153,
          0.004539264639128461,
          0.0022696323195642307,
          0.0040853381752156154,
          0.0018157058556513845,
          0.0018157058556513845,
          0.00045392646391284613,
          0.0009078529278256923,
          0.0009078529278256923,
          0.00045392646391284613,
          0.00045392646391284613,
          0.00045392646391284613
         ],
         "yaxis": "y"
        },
        {
         "customdata": [
          [
           877,
           2712,
           0.20811580446131941,
           15
          ],
          [
           877,
           2712,
           0.20811580446131941,
           15
          ],
          [
           877,
           2712,
           0.20811580446131941,
           15
          ],
          [
           877,
           2712,
           0.20811580446131941,
           15
          ],
          [
           877,
           2712,
           0.20811580446131941,
           15
          ],
          [
           877,
           2712,
           0.20811580446131941,
           15
          ],
          [
           877,
           2712,
           0.20811580446131941,
           15
          ],
          [
           877,
           2712,
           0.20811580446131941,
           15
          ],
          [
           877,
           2712,
           0.20811580446131941,
           15
          ],
          [
           877,
           2712,
           0.20811580446131941,
           15
          ],
          [
           877,
           2712,
           0.20811580446131941,
           15
          ],
          [
           877,
           2712,
           0.20811580446131941,
           15
          ],
          [
           877,
           2712,
           0.20811580446131941,
           15
          ],
          [
           877,
           2712,
           0.20811580446131941,
           15
          ],
          [
           877,
           2712,
           0.20811580446131941,
           15
          ],
          [
           877,
           2712,
           0.20811580446131941,
           15
          ],
          [
           877,
           2712,
           0.20811580446131941,
           15
          ]
         ],
         "hovertemplate": "SKU_ID=19337<br>ORDERS_BETWEEN_ORDERS=%{x}<br>RATE=%{y}<br>SKUID_total_customers=%{customdata[0]}<br>SKUID_total_transactions=%{customdata[1]}<br>SKUID_total_probability_rate=%{customdata[2]}<br>product_rank_bytotalprobrate=%{customdata[3]}<extra></extra>",
         "legendgroup": "19337",
         "line": {
          "color": "#FFA15A",
          "dash": "solid"
         },
         "marker": {
          "symbol": "circle"
         },
         "mode": "lines",
         "name": "19337",
         "orientation": "v",
         "showlegend": true,
         "type": "scatter",
         "x": [
          1,
          2,
          3,
          4,
          5,
          6,
          7,
          8,
          9,
          10,
          11,
          12,
          13,
          14,
          15,
          16,
          21
         ],
         "xaxis": "x",
         "y": [
          0.3798365122615804,
          0.24577656675749318,
          0.1449591280653951,
          0.09046321525885559,
          0.055040871934604906,
          0.032152588555858314,
          0.010899182561307902,
          0.018528610354223433,
          0.005449591280653951,
          0.006539509536784741,
          0.004904632152588556,
          0.0010899182561307902,
          0.0005449591280653951,
          0.0010899182561307902,
          0.0010899182561307902,
          0.0010899182561307902,
          0.0005449591280653951
         ],
         "yaxis": "y"
        },
        {
         "customdata": [
          [
           1292,
           3971,
           0.3065970574276222,
           4
          ],
          [
           1292,
           3971,
           0.3065970574276222,
           4
          ],
          [
           1292,
           3971,
           0.3065970574276222,
           4
          ],
          [
           1292,
           3971,
           0.3065970574276222,
           4
          ],
          [
           1292,
           3971,
           0.3065970574276222,
           4
          ],
          [
           1292,
           3971,
           0.3065970574276222,
           4
          ],
          [
           1292,
           3971,
           0.3065970574276222,
           4
          ],
          [
           1292,
           3971,
           0.3065970574276222,
           4
          ],
          [
           1292,
           3971,
           0.3065970574276222,
           4
          ],
          [
           1292,
           3971,
           0.3065970574276222,
           4
          ],
          [
           1292,
           3971,
           0.3065970574276222,
           4
          ],
          [
           1292,
           3971,
           0.3065970574276222,
           4
          ],
          [
           1292,
           3971,
           0.3065970574276222,
           4
          ],
          [
           1292,
           3971,
           0.3065970574276222,
           4
          ],
          [
           1292,
           3971,
           0.3065970574276222,
           4
          ],
          [
           1292,
           3971,
           0.3065970574276222,
           4
          ],
          [
           1292,
           3971,
           0.3065970574276222,
           4
          ],
          [
           1292,
           3971,
           0.3065970574276222,
           4
          ],
          [
           1292,
           3971,
           0.3065970574276222,
           4
          ],
          [
           1292,
           3971,
           0.3065970574276222,
           4
          ],
          [
           1292,
           3971,
           0.3065970574276222,
           4
          ]
         ],
         "hovertemplate": "SKU_ID=19341<br>ORDERS_BETWEEN_ORDERS=%{x}<br>RATE=%{y}<br>SKUID_total_customers=%{customdata[0]}<br>SKUID_total_transactions=%{customdata[1]}<br>SKUID_total_probability_rate=%{customdata[2]}<br>product_rank_bytotalprobrate=%{customdata[3]}<extra></extra>",
         "legendgroup": "19341",
         "line": {
          "color": "#19d3f3",
          "dash": "solid"
         },
         "marker": {
          "symbol": "circle"
         },
         "mode": "lines",
         "name": "19341",
         "orientation": "v",
         "showlegend": true,
         "type": "scatter",
         "x": [
          1,
          2,
          3,
          4,
          5,
          6,
          7,
          8,
          9,
          10,
          11,
          12,
          13,
          14,
          15,
          16,
          17,
          18,
          19,
          20,
          21
         ],
         "xaxis": "x",
         "y": [
          0.43710339678984694,
          0.25046659201194477,
          0.13176558417319895,
          0.0683090705487122,
          0.04665920119447555,
          0.020530048525569243,
          0.014184397163120567,
          0.00933184023889511,
          0.006345651362448675,
          0.003732736095558044,
          0.001866368047779022,
          0.0029861888764464353,
          0.0014930944382232176,
          0.0014930944382232176,
          0.0003732736095558044,
          0.0007465472191116088,
          0.0007465472191116088,
          0.0003732736095558044,
          0.0007465472191116088,
          0.0003732736095558044,
          0.0003732736095558044
         ],
         "yaxis": "y"
        },
        {
         "customdata": [
          [
           830,
           2712,
           0.1969625059326056,
           18
          ],
          [
           830,
           2712,
           0.1969625059326056,
           18
          ],
          [
           830,
           2712,
           0.1969625059326056,
           18
          ],
          [
           830,
           2712,
           0.1969625059326056,
           18
          ],
          [
           830,
           2712,
           0.1969625059326056,
           18
          ],
          [
           830,
           2712,
           0.1969625059326056,
           18
          ],
          [
           830,
           2712,
           0.1969625059326056,
           18
          ],
          [
           830,
           2712,
           0.1969625059326056,
           18
          ],
          [
           830,
           2712,
           0.1969625059326056,
           18
          ],
          [
           830,
           2712,
           0.1969625059326056,
           18
          ],
          [
           830,
           2712,
           0.1969625059326056,
           18
          ],
          [
           830,
           2712,
           0.1969625059326056,
           18
          ],
          [
           830,
           2712,
           0.1969625059326056,
           18
          ],
          [
           830,
           2712,
           0.1969625059326056,
           18
          ],
          [
           830,
           2712,
           0.1969625059326056,
           18
          ],
          [
           830,
           2712,
           0.1969625059326056,
           18
          ],
          [
           830,
           2712,
           0.1969625059326056,
           18
          ],
          [
           830,
           2712,
           0.1969625059326056,
           18
          ]
         ],
         "hovertemplate": "SKU_ID=19399<br>ORDERS_BETWEEN_ORDERS=%{x}<br>RATE=%{y}<br>SKUID_total_customers=%{customdata[0]}<br>SKUID_total_transactions=%{customdata[1]}<br>SKUID_total_probability_rate=%{customdata[2]}<br>product_rank_bytotalprobrate=%{customdata[3]}<extra></extra>",
         "legendgroup": "19399",
         "line": {
          "color": "#FF6692",
          "dash": "solid"
         },
         "marker": {
          "symbol": "circle"
         },
         "mode": "lines",
         "name": "19399",
         "orientation": "v",
         "showlegend": true,
         "type": "scatter",
         "x": [
          1,
          2,
          3,
          4,
          5,
          6,
          7,
          8,
          9,
          10,
          11,
          12,
          14,
          15,
          16,
          17,
          19,
          22
         ],
         "xaxis": "x",
         "y": [
          0.40807651434643993,
          0.23804463336875664,
          0.12911795961742828,
          0.09458023379383634,
          0.04729011689691817,
          0.02975557917109458,
          0.018597236981934114,
          0.012221041445270989,
          0.007970244420828906,
          0.004250797024442083,
          0.005844845908607864,
          0.0010626992561105207,
          0.0005313496280552603,
          0.0005313496280552603,
          0.0005313496280552603,
          0.0005313496280552603,
          0.0005313496280552603,
          0.0005313496280552603
         ],
         "yaxis": "y"
        },
        {
         "customdata": [
          [
           881,
           2505,
           0.20906502135738017,
           14
          ],
          [
           881,
           2505,
           0.20906502135738017,
           14
          ],
          [
           881,
           2505,
           0.20906502135738017,
           14
          ],
          [
           881,
           2505,
           0.20906502135738017,
           14
          ],
          [
           881,
           2505,
           0.20906502135738017,
           14
          ],
          [
           881,
           2505,
           0.20906502135738017,
           14
          ],
          [
           881,
           2505,
           0.20906502135738017,
           14
          ],
          [
           881,
           2505,
           0.20906502135738017,
           14
          ],
          [
           881,
           2505,
           0.20906502135738017,
           14
          ],
          [
           881,
           2505,
           0.20906502135738017,
           14
          ],
          [
           881,
           2505,
           0.20906502135738017,
           14
          ],
          [
           881,
           2505,
           0.20906502135738017,
           14
          ],
          [
           881,
           2505,
           0.20906502135738017,
           14
          ],
          [
           881,
           2505,
           0.20906502135738017,
           14
          ],
          [
           881,
           2505,
           0.20906502135738017,
           14
          ],
          [
           881,
           2505,
           0.20906502135738017,
           14
          ],
          [
           881,
           2505,
           0.20906502135738017,
           14
          ],
          [
           881,
           2505,
           0.20906502135738017,
           14
          ],
          [
           881,
           2505,
           0.20906502135738017,
           14
          ]
         ],
         "hovertemplate": "SKU_ID=21973<br>ORDERS_BETWEEN_ORDERS=%{x}<br>RATE=%{y}<br>SKUID_total_customers=%{customdata[0]}<br>SKUID_total_transactions=%{customdata[1]}<br>SKUID_total_probability_rate=%{customdata[2]}<br>product_rank_bytotalprobrate=%{customdata[3]}<extra></extra>",
         "legendgroup": "21973",
         "line": {
          "color": "#B6E880",
          "dash": "solid"
         },
         "marker": {
          "symbol": "circle"
         },
         "mode": "lines",
         "name": "21973",
         "orientation": "v",
         "showlegend": true,
         "type": "scatter",
         "x": [
          1,
          2,
          3,
          4,
          5,
          6,
          7,
          8,
          9,
          10,
          11,
          12,
          15,
          17,
          19,
          21,
          22,
          24,
          35
         ],
         "xaxis": "x",
         "y": [
          0.4722906403940887,
          0.20689655172413793,
          0.125,
          0.07204433497536945,
          0.04433497536945813,
          0.035098522167487683,
          0.017857142857142856,
          0.008620689655172414,
          0.0049261083743842365,
          0.0049261083743842365,
          0.0018472906403940886,
          0.0006157635467980296,
          0.0012315270935960591,
          0.0006157635467980296,
          0.0012315270935960591,
          0.0006157635467980296,
          0.0006157635467980296,
          0.0006157635467980296,
          0.0006157635467980296
         ],
         "yaxis": "y"
        },
        {
         "customdata": [
          [
           1070,
           3357,
           0.2539155196962506,
           6
          ],
          [
           1070,
           3357,
           0.2539155196962506,
           6
          ],
          [
           1070,
           3357,
           0.2539155196962506,
           6
          ],
          [
           1070,
           3357,
           0.2539155196962506,
           6
          ],
          [
           1070,
           3357,
           0.2539155196962506,
           6
          ],
          [
           1070,
           3357,
           0.2539155196962506,
           6
          ],
          [
           1070,
           3357,
           0.2539155196962506,
           6
          ],
          [
           1070,
           3357,
           0.2539155196962506,
           6
          ],
          [
           1070,
           3357,
           0.2539155196962506,
           6
          ],
          [
           1070,
           3357,
           0.2539155196962506,
           6
          ],
          [
           1070,
           3357,
           0.2539155196962506,
           6
          ],
          [
           1070,
           3357,
           0.2539155196962506,
           6
          ],
          [
           1070,
           3357,
           0.2539155196962506,
           6
          ],
          [
           1070,
           3357,
           0.2539155196962506,
           6
          ],
          [
           1070,
           3357,
           0.2539155196962506,
           6
          ]
         ],
         "hovertemplate": "SKU_ID=23902<br>ORDERS_BETWEEN_ORDERS=%{x}<br>RATE=%{y}<br>SKUID_total_customers=%{customdata[0]}<br>SKUID_total_transactions=%{customdata[1]}<br>SKUID_total_probability_rate=%{customdata[2]}<br>product_rank_bytotalprobrate=%{customdata[3]}<extra></extra>",
         "legendgroup": "23902",
         "line": {
          "color": "#FF97FF",
          "dash": "solid"
         },
         "marker": {
          "symbol": "circle"
         },
         "mode": "lines",
         "name": "23902",
         "orientation": "v",
         "showlegend": true,
         "type": "scatter",
         "x": [
          1,
          2,
          3,
          4,
          5,
          6,
          7,
          8,
          9,
          10,
          11,
          12,
          13,
          14,
          22
         ],
         "xaxis": "x",
         "y": [
          0.5273283777874945,
          0.2264975951027547,
          0.10581547879317883,
          0.06121556624398776,
          0.026235242675994752,
          0.019239177962396152,
          0.011805859204197638,
          0.00874508089199825,
          0.005247048535198951,
          0.003060778312199388,
          0.0021862702229995625,
          0.00043725404459991256,
          0.0008745080891998251,
          0.0008745080891998251,
          0.00043725404459991256
         ],
         "yaxis": "y"
        },
        {
         "customdata": [
          [
           1534,
           6619,
           0.3640246796392976,
           3
          ],
          [
           1534,
           6619,
           0.3640246796392976,
           3
          ],
          [
           1534,
           6619,
           0.3640246796392976,
           3
          ],
          [
           1534,
           6619,
           0.3640246796392976,
           3
          ],
          [
           1534,
           6619,
           0.3640246796392976,
           3
          ],
          [
           1534,
           6619,
           0.3640246796392976,
           3
          ],
          [
           1534,
           6619,
           0.3640246796392976,
           3
          ],
          [
           1534,
           6619,
           0.3640246796392976,
           3
          ],
          [
           1534,
           6619,
           0.3640246796392976,
           3
          ],
          [
           1534,
           6619,
           0.3640246796392976,
           3
          ],
          [
           1534,
           6619,
           0.3640246796392976,
           3
          ],
          [
           1534,
           6619,
           0.3640246796392976,
           3
          ],
          [
           1534,
           6619,
           0.3640246796392976,
           3
          ],
          [
           1534,
           6619,
           0.3640246796392976,
           3
          ],
          [
           1534,
           6619,
           0.3640246796392976,
           3
          ],
          [
           1534,
           6619,
           0.3640246796392976,
           3
          ],
          [
           1534,
           6619,
           0.3640246796392976,
           3
          ],
          [
           1534,
           6619,
           0.3640246796392976,
           3
          ],
          [
           1534,
           6619,
           0.3640246796392976,
           3
          ],
          [
           1534,
           6619,
           0.3640246796392976,
           3
          ]
         ],
         "hovertemplate": "SKU_ID=24880<br>ORDERS_BETWEEN_ORDERS=%{x}<br>RATE=%{y}<br>SKUID_total_customers=%{customdata[0]}<br>SKUID_total_transactions=%{customdata[1]}<br>SKUID_total_probability_rate=%{customdata[2]}<br>product_rank_bytotalprobrate=%{customdata[3]}<extra></extra>",
         "legendgroup": "24880",
         "line": {
          "color": "#FECB52",
          "dash": "solid"
         },
         "marker": {
          "symbol": "circle"
         },
         "mode": "lines",
         "name": "24880",
         "orientation": "v",
         "showlegend": true,
         "type": "scatter",
         "x": [
          1,
          2,
          3,
          4,
          5,
          6,
          7,
          8,
          9,
          10,
          11,
          12,
          13,
          14,
          15,
          16,
          18,
          19,
          20,
          27
         ],
         "xaxis": "x",
         "y": [
          0.5144542772861357,
          0.22595870206489677,
          0.11327433628318584,
          0.0607669616519174,
          0.032055063913470995,
          0.01789577187807276,
          0.010422812192723696,
          0.006686332350049164,
          0.005506391347099311,
          0.004523107177974435,
          0.0029498525073746312,
          0.0017699115044247787,
          0.0013765978367748278,
          0.00019665683382497542,
          0.00039331366764995085,
          0.00019665683382497542,
          0.00039331366764995085,
          0.0005899705014749262,
          0.00039331366764995085,
          0.00019665683382497542
         ],
         "yaxis": "y"
        },
        {
         "customdata": [
          [
           739,
           2018,
           0.17536782154722355,
           20
          ],
          [
           739,
           2018,
           0.17536782154722355,
           20
          ],
          [
           739,
           2018,
           0.17536782154722355,
           20
          ],
          [
           739,
           2018,
           0.17536782154722355,
           20
          ],
          [
           739,
           2018,
           0.17536782154722355,
           20
          ],
          [
           739,
           2018,
           0.17536782154722355,
           20
          ],
          [
           739,
           2018,
           0.17536782154722355,
           20
          ],
          [
           739,
           2018,
           0.17536782154722355,
           20
          ],
          [
           739,
           2018,
           0.17536782154722355,
           20
          ],
          [
           739,
           2018,
           0.17536782154722355,
           20
          ],
          [
           739,
           2018,
           0.17536782154722355,
           20
          ],
          [
           739,
           2018,
           0.17536782154722355,
           20
          ],
          [
           739,
           2018,
           0.17536782154722355,
           20
          ],
          [
           739,
           2018,
           0.17536782154722355,
           20
          ],
          [
           739,
           2018,
           0.17536782154722355,
           20
          ]
         ],
         "hovertemplate": "SKU_ID=26567<br>ORDERS_BETWEEN_ORDERS=%{x}<br>RATE=%{y}<br>SKUID_total_customers=%{customdata[0]}<br>SKUID_total_transactions=%{customdata[1]}<br>SKUID_total_probability_rate=%{customdata[2]}<br>product_rank_bytotalprobrate=%{customdata[3]}<extra></extra>",
         "legendgroup": "26567",
         "line": {
          "color": "#636efa",
          "dash": "solid"
         },
         "marker": {
          "symbol": "circle"
         },
         "mode": "lines",
         "name": "26567",
         "orientation": "v",
         "showlegend": true,
         "type": "scatter",
         "x": [
          1,
          2,
          3,
          4,
          5,
          6,
          7,
          8,
          9,
          10,
          11,
          12,
          13,
          14,
          17
         ],
         "xaxis": "x",
         "y": [
          0.5347928068803753,
          0.26035965598123534,
          0.10086004691164972,
          0.0437842064112588,
          0.027365129007036748,
          0.011727912431587178,
          0.007036747458952306,
          0.003127443315089914,
          0.00547302580140735,
          0.0007818608287724785,
          0.001563721657544957,
          0.0007818608287724785,
          0.0007818608287724785,
          0.0007818608287724785,
          0.0007818608287724785
         ],
         "yaxis": "y"
        }
       ],
       "layout": {
        "legend": {
         "title": {
          "text": "SKU_ID"
         },
         "tracegroupgap": 0
        },
        "margin": {
         "t": 60
        },
        "template": {
         "data": {
          "bar": [
           {
            "error_x": {
             "color": "#2a3f5f"
            },
            "error_y": {
             "color": "#2a3f5f"
            },
            "marker": {
             "line": {
              "color": "#E5ECF6",
              "width": 0.5
             },
             "pattern": {
              "fillmode": "overlay",
              "size": 10,
              "solidity": 0.2
             }
            },
            "type": "bar"
           }
          ],
          "barpolar": [
           {
            "marker": {
             "line": {
              "color": "#E5ECF6",
              "width": 0.5
             },
             "pattern": {
              "fillmode": "overlay",
              "size": 10,
              "solidity": 0.2
             }
            },
            "type": "barpolar"
           }
          ],
          "carpet": [
           {
            "aaxis": {
             "endlinecolor": "#2a3f5f",
             "gridcolor": "white",
             "linecolor": "white",
             "minorgridcolor": "white",
             "startlinecolor": "#2a3f5f"
            },
            "baxis": {
             "endlinecolor": "#2a3f5f",
             "gridcolor": "white",
             "linecolor": "white",
             "minorgridcolor": "white",
             "startlinecolor": "#2a3f5f"
            },
            "type": "carpet"
           }
          ],
          "choropleth": [
           {
            "colorbar": {
             "outlinewidth": 0,
             "ticks": ""
            },
            "type": "choropleth"
           }
          ],
          "contour": [
           {
            "colorbar": {
             "outlinewidth": 0,
             "ticks": ""
            },
            "colorscale": [
             [
              0,
              "#0d0887"
             ],
             [
              0.1111111111111111,
              "#46039f"
             ],
             [
              0.2222222222222222,
              "#7201a8"
             ],
             [
              0.3333333333333333,
              "#9c179e"
             ],
             [
              0.4444444444444444,
              "#bd3786"
             ],
             [
              0.5555555555555556,
              "#d8576b"
             ],
             [
              0.6666666666666666,
              "#ed7953"
             ],
             [
              0.7777777777777778,
              "#fb9f3a"
             ],
             [
              0.8888888888888888,
              "#fdca26"
             ],
             [
              1,
              "#f0f921"
             ]
            ],
            "type": "contour"
           }
          ],
          "contourcarpet": [
           {
            "colorbar": {
             "outlinewidth": 0,
             "ticks": ""
            },
            "type": "contourcarpet"
           }
          ],
          "heatmap": [
           {
            "colorbar": {
             "outlinewidth": 0,
             "ticks": ""
            },
            "colorscale": [
             [
              0,
              "#0d0887"
             ],
             [
              0.1111111111111111,
              "#46039f"
             ],
             [
              0.2222222222222222,
              "#7201a8"
             ],
             [
              0.3333333333333333,
              "#9c179e"
             ],
             [
              0.4444444444444444,
              "#bd3786"
             ],
             [
              0.5555555555555556,
              "#d8576b"
             ],
             [
              0.6666666666666666,
              "#ed7953"
             ],
             [
              0.7777777777777778,
              "#fb9f3a"
             ],
             [
              0.8888888888888888,
              "#fdca26"
             ],
             [
              1,
              "#f0f921"
             ]
            ],
            "type": "heatmap"
           }
          ],
          "heatmapgl": [
           {
            "colorbar": {
             "outlinewidth": 0,
             "ticks": ""
            },
            "colorscale": [
             [
              0,
              "#0d0887"
             ],
             [
              0.1111111111111111,
              "#46039f"
             ],
             [
              0.2222222222222222,
              "#7201a8"
             ],
             [
              0.3333333333333333,
              "#9c179e"
             ],
             [
              0.4444444444444444,
              "#bd3786"
             ],
             [
              0.5555555555555556,
              "#d8576b"
             ],
             [
              0.6666666666666666,
              "#ed7953"
             ],
             [
              0.7777777777777778,
              "#fb9f3a"
             ],
             [
              0.8888888888888888,
              "#fdca26"
             ],
             [
              1,
              "#f0f921"
             ]
            ],
            "type": "heatmapgl"
           }
          ],
          "histogram": [
           {
            "marker": {
             "pattern": {
              "fillmode": "overlay",
              "size": 10,
              "solidity": 0.2
             }
            },
            "type": "histogram"
           }
          ],
          "histogram2d": [
           {
            "colorbar": {
             "outlinewidth": 0,
             "ticks": ""
            },
            "colorscale": [
             [
              0,
              "#0d0887"
             ],
             [
              0.1111111111111111,
              "#46039f"
             ],
             [
              0.2222222222222222,
              "#7201a8"
             ],
             [
              0.3333333333333333,
              "#9c179e"
             ],
             [
              0.4444444444444444,
              "#bd3786"
             ],
             [
              0.5555555555555556,
              "#d8576b"
             ],
             [
              0.6666666666666666,
              "#ed7953"
             ],
             [
              0.7777777777777778,
              "#fb9f3a"
             ],
             [
              0.8888888888888888,
              "#fdca26"
             ],
             [
              1,
              "#f0f921"
             ]
            ],
            "type": "histogram2d"
           }
          ],
          "histogram2dcontour": [
           {
            "colorbar": {
             "outlinewidth": 0,
             "ticks": ""
            },
            "colorscale": [
             [
              0,
              "#0d0887"
             ],
             [
              0.1111111111111111,
              "#46039f"
             ],
             [
              0.2222222222222222,
              "#7201a8"
             ],
             [
              0.3333333333333333,
              "#9c179e"
             ],
             [
              0.4444444444444444,
              "#bd3786"
             ],
             [
              0.5555555555555556,
              "#d8576b"
             ],
             [
              0.6666666666666666,
              "#ed7953"
             ],
             [
              0.7777777777777778,
              "#fb9f3a"
             ],
             [
              0.8888888888888888,
              "#fdca26"
             ],
             [
              1,
              "#f0f921"
             ]
            ],
            "type": "histogram2dcontour"
           }
          ],
          "mesh3d": [
           {
            "colorbar": {
             "outlinewidth": 0,
             "ticks": ""
            },
            "type": "mesh3d"
           }
          ],
          "parcoords": [
           {
            "line": {
             "colorbar": {
              "outlinewidth": 0,
              "ticks": ""
             }
            },
            "type": "parcoords"
           }
          ],
          "pie": [
           {
            "automargin": true,
            "type": "pie"
           }
          ],
          "scatter": [
           {
            "fillpattern": {
             "fillmode": "overlay",
             "size": 10,
             "solidity": 0.2
            },
            "type": "scatter"
           }
          ],
          "scatter3d": [
           {
            "line": {
             "colorbar": {
              "outlinewidth": 0,
              "ticks": ""
             }
            },
            "marker": {
             "colorbar": {
              "outlinewidth": 0,
              "ticks": ""
             }
            },
            "type": "scatter3d"
           }
          ],
          "scattercarpet": [
           {
            "marker": {
             "colorbar": {
              "outlinewidth": 0,
              "ticks": ""
             }
            },
            "type": "scattercarpet"
           }
          ],
          "scattergeo": [
           {
            "marker": {
             "colorbar": {
              "outlinewidth": 0,
              "ticks": ""
             }
            },
            "type": "scattergeo"
           }
          ],
          "scattergl": [
           {
            "marker": {
             "colorbar": {
              "outlinewidth": 0,
              "ticks": ""
             }
            },
            "type": "scattergl"
           }
          ],
          "scattermapbox": [
           {
            "marker": {
             "colorbar": {
              "outlinewidth": 0,
              "ticks": ""
             }
            },
            "type": "scattermapbox"
           }
          ],
          "scatterpolar": [
           {
            "marker": {
             "colorbar": {
              "outlinewidth": 0,
              "ticks": ""
             }
            },
            "type": "scatterpolar"
           }
          ],
          "scatterpolargl": [
           {
            "marker": {
             "colorbar": {
              "outlinewidth": 0,
              "ticks": ""
             }
            },
            "type": "scatterpolargl"
           }
          ],
          "scatterternary": [
           {
            "marker": {
             "colorbar": {
              "outlinewidth": 0,
              "ticks": ""
             }
            },
            "type": "scatterternary"
           }
          ],
          "surface": [
           {
            "colorbar": {
             "outlinewidth": 0,
             "ticks": ""
            },
            "colorscale": [
             [
              0,
              "#0d0887"
             ],
             [
              0.1111111111111111,
              "#46039f"
             ],
             [
              0.2222222222222222,
              "#7201a8"
             ],
             [
              0.3333333333333333,
              "#9c179e"
             ],
             [
              0.4444444444444444,
              "#bd3786"
             ],
             [
              0.5555555555555556,
              "#d8576b"
             ],
             [
              0.6666666666666666,
              "#ed7953"
             ],
             [
              0.7777777777777778,
              "#fb9f3a"
             ],
             [
              0.8888888888888888,
              "#fdca26"
             ],
             [
              1,
              "#f0f921"
             ]
            ],
            "type": "surface"
           }
          ],
          "table": [
           {
            "cells": {
             "fill": {
              "color": "#EBF0F8"
             },
             "line": {
              "color": "white"
             }
            },
            "header": {
             "fill": {
              "color": "#C8D4E3"
             },
             "line": {
              "color": "white"
             }
            },
            "type": "table"
           }
          ]
         },
         "layout": {
          "annotationdefaults": {
           "arrowcolor": "#2a3f5f",
           "arrowhead": 0,
           "arrowwidth": 1
          },
          "autotypenumbers": "strict",
          "coloraxis": {
           "colorbar": {
            "outlinewidth": 0,
            "ticks": ""
           }
          },
          "colorscale": {
           "diverging": [
            [
             0,
             "#8e0152"
            ],
            [
             0.1,
             "#c51b7d"
            ],
            [
             0.2,
             "#de77ae"
            ],
            [
             0.3,
             "#f1b6da"
            ],
            [
             0.4,
             "#fde0ef"
            ],
            [
             0.5,
             "#f7f7f7"
            ],
            [
             0.6,
             "#e6f5d0"
            ],
            [
             0.7,
             "#b8e186"
            ],
            [
             0.8,
             "#7fbc41"
            ],
            [
             0.9,
             "#4d9221"
            ],
            [
             1,
             "#276419"
            ]
           ],
           "sequential": [
            [
             0,
             "#0d0887"
            ],
            [
             0.1111111111111111,
             "#46039f"
            ],
            [
             0.2222222222222222,
             "#7201a8"
            ],
            [
             0.3333333333333333,
             "#9c179e"
            ],
            [
             0.4444444444444444,
             "#bd3786"
            ],
            [
             0.5555555555555556,
             "#d8576b"
            ],
            [
             0.6666666666666666,
             "#ed7953"
            ],
            [
             0.7777777777777778,
             "#fb9f3a"
            ],
            [
             0.8888888888888888,
             "#fdca26"
            ],
            [
             1,
             "#f0f921"
            ]
           ],
           "sequentialminus": [
            [
             0,
             "#0d0887"
            ],
            [
             0.1111111111111111,
             "#46039f"
            ],
            [
             0.2222222222222222,
             "#7201a8"
            ],
            [
             0.3333333333333333,
             "#9c179e"
            ],
            [
             0.4444444444444444,
             "#bd3786"
            ],
            [
             0.5555555555555556,
             "#d8576b"
            ],
            [
             0.6666666666666666,
             "#ed7953"
            ],
            [
             0.7777777777777778,
             "#fb9f3a"
            ],
            [
             0.8888888888888888,
             "#fdca26"
            ],
            [
             1,
             "#f0f921"
            ]
           ]
          },
          "colorway": [
           "#636efa",
           "#EF553B",
           "#00cc96",
           "#ab63fa",
           "#FFA15A",
           "#19d3f3",
           "#FF6692",
           "#B6E880",
           "#FF97FF",
           "#FECB52"
          ],
          "font": {
           "color": "#2a3f5f"
          },
          "geo": {
           "bgcolor": "white",
           "lakecolor": "white",
           "landcolor": "#E5ECF6",
           "showlakes": true,
           "showland": true,
           "subunitcolor": "white"
          },
          "hoverlabel": {
           "align": "left"
          },
          "hovermode": "closest",
          "mapbox": {
           "style": "light"
          },
          "paper_bgcolor": "white",
          "plot_bgcolor": "#E5ECF6",
          "polar": {
           "angularaxis": {
            "gridcolor": "white",
            "linecolor": "white",
            "ticks": ""
           },
           "bgcolor": "#E5ECF6",
           "radialaxis": {
            "gridcolor": "white",
            "linecolor": "white",
            "ticks": ""
           }
          },
          "scene": {
           "xaxis": {
            "backgroundcolor": "#E5ECF6",
            "gridcolor": "white",
            "gridwidth": 2,
            "linecolor": "white",
            "showbackground": true,
            "ticks": "",
            "zerolinecolor": "white"
           },
           "yaxis": {
            "backgroundcolor": "#E5ECF6",
            "gridcolor": "white",
            "gridwidth": 2,
            "linecolor": "white",
            "showbackground": true,
            "ticks": "",
            "zerolinecolor": "white"
           },
           "zaxis": {
            "backgroundcolor": "#E5ECF6",
            "gridcolor": "white",
            "gridwidth": 2,
            "linecolor": "white",
            "showbackground": true,
            "ticks": "",
            "zerolinecolor": "white"
           }
          },
          "shapedefaults": {
           "line": {
            "color": "#2a3f5f"
           }
          },
          "ternary": {
           "aaxis": {
            "gridcolor": "white",
            "linecolor": "white",
            "ticks": ""
           },
           "baxis": {
            "gridcolor": "white",
            "linecolor": "white",
            "ticks": ""
           },
           "bgcolor": "#E5ECF6",
           "caxis": {
            "gridcolor": "white",
            "linecolor": "white",
            "ticks": ""
           }
          },
          "title": {
           "x": 0.05
          },
          "xaxis": {
           "automargin": true,
           "gridcolor": "white",
           "linecolor": "white",
           "ticks": "",
           "title": {
            "standoff": 15
           },
           "zerolinecolor": "white",
           "zerolinewidth": 2
          },
          "yaxis": {
           "automargin": true,
           "gridcolor": "white",
           "linecolor": "white",
           "ticks": "",
           "title": {
            "standoff": 15
           },
           "zerolinecolor": "white",
           "zerolinewidth": 2
          }
         }
        },
        "xaxis": {
         "anchor": "y",
         "domain": [
          0,
          1
         ],
         "title": {
          "text": "ORDERS_BETWEEN_ORDERS"
         }
        },
        "yaxis": {
         "anchor": "x",
         "domain": [
          0,
          1
         ],
         "title": {
          "text": "RATE"
         }
        }
       }
      }
     },
     "metadata": {},
     "output_type": "display_data"
    },
    {
     "data": {
      "application/vnd.plotly.v1+json": {
       "config": {
        "plotlyServerURL": "https://plot.ly"
       },
       "data": [
        {
         "customdata": [
          [
           1010,
           2121,
           0.23967726625533933,
           11
          ],
          [
           1010,
           2121,
           0.23967726625533933,
           11
          ],
          [
           1010,
           2121,
           0.23967726625533933,
           11
          ],
          [
           1010,
           2121,
           0.23967726625533933,
           11
          ],
          [
           1010,
           2121,
           0.23967726625533933,
           11
          ],
          [
           1010,
           2121,
           0.23967726625533933,
           11
          ],
          [
           1010,
           2121,
           0.23967726625533933,
           11
          ],
          [
           1010,
           2121,
           0.23967726625533933,
           11
          ],
          [
           1010,
           2121,
           0.23967726625533933,
           11
          ],
          [
           1010,
           2121,
           0.23967726625533933,
           11
          ],
          [
           1010,
           2121,
           0.23967726625533933,
           11
          ],
          [
           1010,
           2121,
           0.23967726625533933,
           11
          ],
          [
           1010,
           2121,
           0.23967726625533933,
           11
          ],
          [
           1010,
           2121,
           0.23967726625533933,
           11
          ],
          [
           1010,
           2121,
           0.23967726625533933,
           11
          ],
          [
           1010,
           2121,
           0.23967726625533933,
           11
          ],
          [
           1010,
           2121,
           0.23967726625533933,
           11
          ]
         ],
         "hovertemplate": "SKU_ID=1416<br>ORDERS_BETWEEN_ORDERS=%{x}<br>RATE_cumsum=%{y}<br>SKUID_total_customers=%{customdata[0]}<br>SKUID_total_transactions=%{customdata[1]}<br>SKUID_total_probability_rate=%{customdata[2]}<br>product_rank_bytotalprobrate=%{customdata[3]}<extra></extra>",
         "legendgroup": "1416",
         "line": {
          "color": "#636efa",
          "dash": "solid"
         },
         "marker": {
          "symbol": "circle"
         },
         "mode": "lines",
         "name": "1416",
         "orientation": "v",
         "showlegend": true,
         "type": "scatter",
         "x": [
          1,
          2,
          3,
          4,
          5,
          6,
          7,
          8,
          9,
          10,
          11,
          12,
          13,
          14,
          15,
          16,
          20
         ],
         "xaxis": "x",
         "y": [
          0.38253825382538253,
          0.6129612961296129,
          0.7425742574257426,
          0.8352835283528353,
          0.8937893789378938,
          0.9270927092709271,
          0.9558955895589559,
          0.9666966696669667,
          0.9783978397839784,
          0.9873987398739874,
          0.9891989198919892,
          0.9936993699369937,
          0.9945994599459946,
          0.9963996399639964,
          0.9972997299729973,
          0.9981998199819981,
          1
         ],
         "yaxis": "y"
        },
        {
         "customdata": [
          [
           1026,
           2915,
           0.24347413383958236,
           8
          ],
          [
           1026,
           2915,
           0.24347413383958236,
           8
          ],
          [
           1026,
           2915,
           0.24347413383958236,
           8
          ],
          [
           1026,
           2915,
           0.24347413383958236,
           8
          ],
          [
           1026,
           2915,
           0.24347413383958236,
           8
          ],
          [
           1026,
           2915,
           0.24347413383958236,
           8
          ],
          [
           1026,
           2915,
           0.24347413383958236,
           8
          ],
          [
           1026,
           2915,
           0.24347413383958236,
           8
          ],
          [
           1026,
           2915,
           0.24347413383958236,
           8
          ],
          [
           1026,
           2915,
           0.24347413383958236,
           8
          ],
          [
           1026,
           2915,
           0.24347413383958236,
           8
          ],
          [
           1026,
           2915,
           0.24347413383958236,
           8
          ],
          [
           1026,
           2915,
           0.24347413383958236,
           8
          ],
          [
           1026,
           2915,
           0.24347413383958236,
           8
          ],
          [
           1026,
           2915,
           0.24347413383958236,
           8
          ],
          [
           1026,
           2915,
           0.24347413383958236,
           8
          ],
          [
           1026,
           2915,
           0.24347413383958236,
           8
          ]
         ],
         "hovertemplate": "SKU_ID=2201<br>ORDERS_BETWEEN_ORDERS=%{x}<br>RATE_cumsum=%{y}<br>SKUID_total_customers=%{customdata[0]}<br>SKUID_total_transactions=%{customdata[1]}<br>SKUID_total_probability_rate=%{customdata[2]}<br>product_rank_bytotalprobrate=%{customdata[3]}<extra></extra>",
         "legendgroup": "2201",
         "line": {
          "color": "#EF553B",
          "dash": "solid"
         },
         "marker": {
          "symbol": "circle"
         },
         "mode": "lines",
         "name": "2201",
         "orientation": "v",
         "showlegend": true,
         "type": "scatter",
         "x": [
          1,
          2,
          3,
          4,
          5,
          6,
          7,
          8,
          9,
          10,
          11,
          12,
          13,
          14,
          15,
          18,
          28
         ],
         "xaxis": "x",
         "y": [
          0.46056114346214927,
          0.6940179989412387,
          0.8253043938591847,
          0.8914769719428268,
          0.930651138168343,
          0.9528851244044467,
          0.96929592376919,
          0.9767072525145579,
          0.9862361037586024,
          0.9915299100052938,
          0.9931180518793011,
          0.9952355743779777,
          0.9968237162519852,
          0.9978824775013234,
          0.9989412387506617,
          0.9994706193753309,
          1
         ],
         "yaxis": "y"
        },
        {
         "customdata": [
          [
           1072,
           3741,
           0.25439012814428097,
           5
          ],
          [
           1072,
           3741,
           0.25439012814428097,
           5
          ],
          [
           1072,
           3741,
           0.25439012814428097,
           5
          ],
          [
           1072,
           3741,
           0.25439012814428097,
           5
          ],
          [
           1072,
           3741,
           0.25439012814428097,
           5
          ],
          [
           1072,
           3741,
           0.25439012814428097,
           5
          ],
          [
           1072,
           3741,
           0.25439012814428097,
           5
          ],
          [
           1072,
           3741,
           0.25439012814428097,
           5
          ],
          [
           1072,
           3741,
           0.25439012814428097,
           5
          ],
          [
           1072,
           3741,
           0.25439012814428097,
           5
          ],
          [
           1072,
           3741,
           0.25439012814428097,
           5
          ],
          [
           1072,
           3741,
           0.25439012814428097,
           5
          ],
          [
           1072,
           3741,
           0.25439012814428097,
           5
          ],
          [
           1072,
           3741,
           0.25439012814428097,
           5
          ],
          [
           1072,
           3741,
           0.25439012814428097,
           5
          ],
          [
           1072,
           3741,
           0.25439012814428097,
           5
          ],
          [
           1072,
           3741,
           0.25439012814428097,
           5
          ],
          [
           1072,
           3741,
           0.25439012814428097,
           5
          ],
          [
           1072,
           3741,
           0.25439012814428097,
           5
          ],
          [
           1072,
           3741,
           0.25439012814428097,
           5
          ],
          [
           1072,
           3741,
           0.25439012814428097,
           5
          ],
          [
           1072,
           3741,
           0.25439012814428097,
           5
          ],
          [
           1072,
           3741,
           0.25439012814428097,
           5
          ],
          [
           1072,
           3741,
           0.25439012814428097,
           5
          ],
          [
           1072,
           3741,
           0.25439012814428097,
           5
          ]
         ],
         "hovertemplate": "SKU_ID=7026<br>ORDERS_BETWEEN_ORDERS=%{x}<br>RATE_cumsum=%{y}<br>SKUID_total_customers=%{customdata[0]}<br>SKUID_total_transactions=%{customdata[1]}<br>SKUID_total_probability_rate=%{customdata[2]}<br>product_rank_bytotalprobrate=%{customdata[3]}<extra></extra>",
         "legendgroup": "7026",
         "line": {
          "color": "#00cc96",
          "dash": "solid"
         },
         "marker": {
          "symbol": "circle"
         },
         "mode": "lines",
         "name": "7026",
         "orientation": "v",
         "showlegend": true,
         "type": "scatter",
         "x": [
          1,
          2,
          3,
          4,
          5,
          6,
          7,
          8,
          9,
          10,
          11,
          12,
          13,
          14,
          15,
          16,
          17,
          18,
          19,
          21,
          22,
          23,
          28,
          29,
          35
         ],
         "xaxis": "x",
         "y": [
          0.5069314349943799,
          0.714499812663919,
          0.8287748220307231,
          0.8898463844136381,
          0.9265642562757587,
          0.9486699138254027,
          0.9644061446234544,
          0.9715249156987635,
          0.979018358935931,
          0.9838890970400899,
          0.9891345073061071,
          0.991007868115399,
          0.9917572124391157,
          0.9928812289246909,
          0.9947545897339827,
          0.9962532783814162,
          0.9966279505432746,
          0.997002622705133,
          0.9973772948669913,
          0.9981266391907081,
          0.9985013113525665,
          0.9988759835144249,
          0.9992506556762832,
          0.9996253278381416,
          0.9999999999999999
         ],
         "yaxis": "y"
        },
        {
         "customdata": [
          [
           2092,
           11719,
           0.49644043663977216,
           0
          ],
          [
           2092,
           11719,
           0.49644043663977216,
           0
          ],
          [
           2092,
           11719,
           0.49644043663977216,
           0
          ],
          [
           2092,
           11719,
           0.49644043663977216,
           0
          ],
          [
           2092,
           11719,
           0.49644043663977216,
           0
          ],
          [
           2092,
           11719,
           0.49644043663977216,
           0
          ],
          [
           2092,
           11719,
           0.49644043663977216,
           0
          ],
          [
           2092,
           11719,
           0.49644043663977216,
           0
          ],
          [
           2092,
           11719,
           0.49644043663977216,
           0
          ],
          [
           2092,
           11719,
           0.49644043663977216,
           0
          ],
          [
           2092,
           11719,
           0.49644043663977216,
           0
          ],
          [
           2092,
           11719,
           0.49644043663977216,
           0
          ],
          [
           2092,
           11719,
           0.49644043663977216,
           0
          ],
          [
           2092,
           11719,
           0.49644043663977216,
           0
          ],
          [
           2092,
           11719,
           0.49644043663977216,
           0
          ],
          [
           2092,
           11719,
           0.49644043663977216,
           0
          ],
          [
           2092,
           11719,
           0.49644043663977216,
           0
          ],
          [
           2092,
           11719,
           0.49644043663977216,
           0
          ],
          [
           2092,
           11719,
           0.49644043663977216,
           0
          ],
          [
           2092,
           11719,
           0.49644043663977216,
           0
          ]
         ],
         "hovertemplate": "SKU_ID=7038<br>ORDERS_BETWEEN_ORDERS=%{x}<br>RATE_cumsum=%{y}<br>SKUID_total_customers=%{customdata[0]}<br>SKUID_total_transactions=%{customdata[1]}<br>SKUID_total_probability_rate=%{customdata[2]}<br>product_rank_bytotalprobrate=%{customdata[3]}<extra></extra>",
         "legendgroup": "7038",
         "line": {
          "color": "#ab63fa",
          "dash": "solid"
         },
         "marker": {
          "symbol": "circle"
         },
         "mode": "lines",
         "name": "7038",
         "orientation": "v",
         "showlegend": true,
         "type": "scatter",
         "x": [
          1,
          2,
          3,
          4,
          5,
          6,
          7,
          8,
          9,
          10,
          11,
          12,
          13,
          14,
          15,
          17,
          18,
          19,
          21,
          24
         ],
         "xaxis": "x",
         "y": [
          0.6788199854575673,
          0.8637166303105848,
          0.9325854367923548,
          0.9647865378622624,
          0.9800560922405734,
          0.9876389321699387,
          0.992521034590215,
          0.994910148540563,
          0.9965721408538486,
          0.9977147605692324,
          0.9981302586475538,
          0.9987535057650359,
          0.9990651293237769,
          0.9991690038433573,
          0.9992728783629375,
          0.9994806274020983,
          0.9995845019216786,
          0.999688376441259,
          0.9997922509608393,
          1
         ],
         "yaxis": "y"
        },
        {
         "customdata": [
          [
           1052,
           3056,
           0.24964404366397722,
           7
          ],
          [
           1052,
           3056,
           0.24964404366397722,
           7
          ],
          [
           1052,
           3056,
           0.24964404366397722,
           7
          ],
          [
           1052,
           3056,
           0.24964404366397722,
           7
          ],
          [
           1052,
           3056,
           0.24964404366397722,
           7
          ],
          [
           1052,
           3056,
           0.24964404366397722,
           7
          ],
          [
           1052,
           3056,
           0.24964404366397722,
           7
          ],
          [
           1052,
           3056,
           0.24964404366397722,
           7
          ],
          [
           1052,
           3056,
           0.24964404366397722,
           7
          ],
          [
           1052,
           3056,
           0.24964404366397722,
           7
          ],
          [
           1052,
           3056,
           0.24964404366397722,
           7
          ],
          [
           1052,
           3056,
           0.24964404366397722,
           7
          ],
          [
           1052,
           3056,
           0.24964404366397722,
           7
          ],
          [
           1052,
           3056,
           0.24964404366397722,
           7
          ],
          [
           1052,
           3056,
           0.24964404366397722,
           7
          ],
          [
           1052,
           3056,
           0.24964404366397722,
           7
          ],
          [
           1052,
           3056,
           0.24964404366397722,
           7
          ],
          [
           1052,
           3056,
           0.24964404366397722,
           7
          ],
          [
           1052,
           3056,
           0.24964404366397722,
           7
          ]
         ],
         "hovertemplate": "SKU_ID=7475<br>ORDERS_BETWEEN_ORDERS=%{x}<br>RATE_cumsum=%{y}<br>SKUID_total_customers=%{customdata[0]}<br>SKUID_total_transactions=%{customdata[1]}<br>SKUID_total_probability_rate=%{customdata[2]}<br>product_rank_bytotalprobrate=%{customdata[3]}<extra></extra>",
         "legendgroup": "7475",
         "line": {
          "color": "#FFA15A",
          "dash": "solid"
         },
         "marker": {
          "symbol": "circle"
         },
         "mode": "lines",
         "name": "7475",
         "orientation": "v",
         "showlegend": true,
         "type": "scatter",
         "x": [
          1,
          2,
          3,
          4,
          5,
          6,
          7,
          8,
          9,
          10,
          11,
          12,
          13,
          14,
          15,
          16,
          17,
          20,
          22
         ],
         "xaxis": "x",
         "y": [
          0.37475049900199603,
          0.624251497005988,
          0.7649700598802396,
          0.8408183632734532,
          0.9031936127744511,
          0.9456087824351298,
          0.9635728542914171,
          0.9775449101796407,
          0.9845309381237525,
          0.9900199600798403,
          0.9915169660678643,
          0.9940119760479041,
          0.9955089820359282,
          0.9965069860279441,
          0.9970059880239521,
          0.9980039920159681,
          0.999001996007984,
          0.9995009980039921,
          1
         ],
         "yaxis": "y"
        },
        {
         "customdata": [
          [
           997,
           2792,
           0.2365923113431419,
           12
          ],
          [
           997,
           2792,
           0.2365923113431419,
           12
          ],
          [
           997,
           2792,
           0.2365923113431419,
           12
          ],
          [
           997,
           2792,
           0.2365923113431419,
           12
          ],
          [
           997,
           2792,
           0.2365923113431419,
           12
          ],
          [
           997,
           2792,
           0.2365923113431419,
           12
          ],
          [
           997,
           2792,
           0.2365923113431419,
           12
          ],
          [
           997,
           2792,
           0.2365923113431419,
           12
          ],
          [
           997,
           2792,
           0.2365923113431419,
           12
          ],
          [
           997,
           2792,
           0.2365923113431419,
           12
          ],
          [
           997,
           2792,
           0.2365923113431419,
           12
          ],
          [
           997,
           2792,
           0.2365923113431419,
           12
          ],
          [
           997,
           2792,
           0.2365923113431419,
           12
          ],
          [
           997,
           2792,
           0.2365923113431419,
           12
          ],
          [
           997,
           2792,
           0.2365923113431419,
           12
          ],
          [
           997,
           2792,
           0.2365923113431419,
           12
          ],
          [
           997,
           2792,
           0.2365923113431419,
           12
          ],
          [
           997,
           2792,
           0.2365923113431419,
           12
          ]
         ],
         "hovertemplate": "SKU_ID=7476<br>ORDERS_BETWEEN_ORDERS=%{x}<br>RATE_cumsum=%{y}<br>SKUID_total_customers=%{customdata[0]}<br>SKUID_total_transactions=%{customdata[1]}<br>SKUID_total_probability_rate=%{customdata[2]}<br>product_rank_bytotalprobrate=%{customdata[3]}<extra></extra>",
         "legendgroup": "7476",
         "line": {
          "color": "#19d3f3",
          "dash": "solid"
         },
         "marker": {
          "symbol": "circle"
         },
         "mode": "lines",
         "name": "7476",
         "orientation": "v",
         "showlegend": true,
         "type": "scatter",
         "x": [
          1,
          2,
          3,
          4,
          5,
          6,
          7,
          8,
          9,
          10,
          11,
          12,
          13,
          14,
          18,
          20,
          22,
          24
         ],
         "xaxis": "x",
         "y": [
          0.35153203342618383,
          0.5972144846796658,
          0.7487465181058496,
          0.849025069637883,
          0.8924791086350975,
          0.9325905292479109,
          0.9526462395543176,
          0.9643454038997215,
          0.977158774373259,
          0.9866295264623955,
          0.9949860724233983,
          0.9955431754874652,
          0.9966573816155989,
          0.9972144846796658,
          0.9977715877437325,
          0.9983286908077994,
          0.9994428969359331,
          1
         ],
         "yaxis": "y"
        },
        {
         "customdata": [
          [
           1840,
           7214,
           0.4366397721879449,
           1
          ],
          [
           1840,
           7214,
           0.4366397721879449,
           1
          ],
          [
           1840,
           7214,
           0.4366397721879449,
           1
          ],
          [
           1840,
           7214,
           0.4366397721879449,
           1
          ],
          [
           1840,
           7214,
           0.4366397721879449,
           1
          ],
          [
           1840,
           7214,
           0.4366397721879449,
           1
          ],
          [
           1840,
           7214,
           0.4366397721879449,
           1
          ],
          [
           1840,
           7214,
           0.4366397721879449,
           1
          ],
          [
           1840,
           7214,
           0.4366397721879449,
           1
          ],
          [
           1840,
           7214,
           0.4366397721879449,
           1
          ],
          [
           1840,
           7214,
           0.4366397721879449,
           1
          ],
          [
           1840,
           7214,
           0.4366397721879449,
           1
          ],
          [
           1840,
           7214,
           0.4366397721879449,
           1
          ],
          [
           1840,
           7214,
           0.4366397721879449,
           1
          ],
          [
           1840,
           7214,
           0.4366397721879449,
           1
          ],
          [
           1840,
           7214,
           0.4366397721879449,
           1
          ],
          [
           1840,
           7214,
           0.4366397721879449,
           1
          ]
         ],
         "hovertemplate": "SKU_ID=7651<br>ORDERS_BETWEEN_ORDERS=%{x}<br>RATE_cumsum=%{y}<br>SKUID_total_customers=%{customdata[0]}<br>SKUID_total_transactions=%{customdata[1]}<br>SKUID_total_probability_rate=%{customdata[2]}<br>product_rank_bytotalprobrate=%{customdata[3]}<extra></extra>",
         "legendgroup": "7651",
         "line": {
          "color": "#FF6692",
          "dash": "solid"
         },
         "marker": {
          "symbol": "circle"
         },
         "mode": "lines",
         "name": "7651",
         "orientation": "v",
         "showlegend": true,
         "type": "scatter",
         "x": [
          1,
          2,
          3,
          4,
          5,
          6,
          7,
          8,
          9,
          10,
          11,
          12,
          13,
          14,
          15,
          16,
          21
         ],
         "xaxis": "x",
         "y": [
          0.5971343505768515,
          0.8146631931522144,
          0.9060290286564943,
          0.9486416077409751,
          0.9709713435057685,
          0.9832526981764049,
          0.9901377000372162,
          0.9927428358764421,
          0.9959062151097878,
          0.9968366207666542,
          0.9981391886862672,
          0.9986974320803871,
          0.9988835132117603,
          0.9990695943431336,
          0.9996278377372534,
          0.9998139188686267,
          1
         ],
         "yaxis": "y"
        },
        {
         "customdata": [
          [
           1011,
           3312,
           0.23991457047935452,
           10
          ],
          [
           1011,
           3312,
           0.23991457047935452,
           10
          ],
          [
           1011,
           3312,
           0.23991457047935452,
           10
          ],
          [
           1011,
           3312,
           0.23991457047935452,
           10
          ],
          [
           1011,
           3312,
           0.23991457047935452,
           10
          ],
          [
           1011,
           3312,
           0.23991457047935452,
           10
          ],
          [
           1011,
           3312,
           0.23991457047935452,
           10
          ],
          [
           1011,
           3312,
           0.23991457047935452,
           10
          ],
          [
           1011,
           3312,
           0.23991457047935452,
           10
          ],
          [
           1011,
           3312,
           0.23991457047935452,
           10
          ],
          [
           1011,
           3312,
           0.23991457047935452,
           10
          ],
          [
           1011,
           3312,
           0.23991457047935452,
           10
          ],
          [
           1011,
           3312,
           0.23991457047935452,
           10
          ],
          [
           1011,
           3312,
           0.23991457047935452,
           10
          ],
          [
           1011,
           3312,
           0.23991457047935452,
           10
          ],
          [
           1011,
           3312,
           0.23991457047935452,
           10
          ],
          [
           1011,
           3312,
           0.23991457047935452,
           10
          ],
          [
           1011,
           3312,
           0.23991457047935452,
           10
          ]
         ],
         "hovertemplate": "SKU_ID=16667<br>ORDERS_BETWEEN_ORDERS=%{x}<br>RATE_cumsum=%{y}<br>SKUID_total_customers=%{customdata[0]}<br>SKUID_total_transactions=%{customdata[1]}<br>SKUID_total_probability_rate=%{customdata[2]}<br>product_rank_bytotalprobrate=%{customdata[3]}<extra></extra>",
         "legendgroup": "16667",
         "line": {
          "color": "#B6E880",
          "dash": "solid"
         },
         "marker": {
          "symbol": "circle"
         },
         "mode": "lines",
         "name": "16667",
         "orientation": "v",
         "showlegend": true,
         "type": "scatter",
         "x": [
          1,
          2,
          3,
          4,
          5,
          6,
          7,
          8,
          9,
          10,
          11,
          12,
          13,
          14,
          15,
          16,
          18,
          20
         ],
         "xaxis": "x",
         "y": [
          0.3954802259887006,
          0.6340721425467188,
          0.7783572359843547,
          0.8600608431116906,
          0.910039113428944,
          0.9417644502390266,
          0.963928726640591,
          0.9765319426336376,
          0.9852238157322903,
          0.9887005649717514,
          0.9913081269013473,
          0.9943502824858758,
          0.9973924380704042,
          0.9982616253802695,
          0.9986962190352021,
          0.9991308126901347,
          0.9995654063450674,
          1
         ],
         "yaxis": "y"
        },
        {
         "customdata": [
          [
           1025,
           3289,
           0.24323682961556717,
           9
          ],
          [
           1025,
           3289,
           0.24323682961556717,
           9
          ],
          [
           1025,
           3289,
           0.24323682961556717,
           9
          ],
          [
           1025,
           3289,
           0.24323682961556717,
           9
          ],
          [
           1025,
           3289,
           0.24323682961556717,
           9
          ],
          [
           1025,
           3289,
           0.24323682961556717,
           9
          ],
          [
           1025,
           3289,
           0.24323682961556717,
           9
          ],
          [
           1025,
           3289,
           0.24323682961556717,
           9
          ],
          [
           1025,
           3289,
           0.24323682961556717,
           9
          ],
          [
           1025,
           3289,
           0.24323682961556717,
           9
          ],
          [
           1025,
           3289,
           0.24323682961556717,
           9
          ],
          [
           1025,
           3289,
           0.24323682961556717,
           9
          ],
          [
           1025,
           3289,
           0.24323682961556717,
           9
          ],
          [
           1025,
           3289,
           0.24323682961556717,
           9
          ],
          [
           1025,
           3289,
           0.24323682961556717,
           9
          ],
          [
           1025,
           3289,
           0.24323682961556717,
           9
          ],
          [
           1025,
           3289,
           0.24323682961556717,
           9
          ],
          [
           1025,
           3289,
           0.24323682961556717,
           9
          ]
         ],
         "hovertemplate": "SKU_ID=16668<br>ORDERS_BETWEEN_ORDERS=%{x}<br>RATE_cumsum=%{y}<br>SKUID_total_customers=%{customdata[0]}<br>SKUID_total_transactions=%{customdata[1]}<br>SKUID_total_probability_rate=%{customdata[2]}<br>product_rank_bytotalprobrate=%{customdata[3]}<extra></extra>",
         "legendgroup": "16668",
         "line": {
          "color": "#FF97FF",
          "dash": "solid"
         },
         "marker": {
          "symbol": "circle"
         },
         "mode": "lines",
         "name": "16668",
         "orientation": "v",
         "showlegend": true,
         "type": "scatter",
         "x": [
          1,
          2,
          3,
          4,
          5,
          6,
          7,
          8,
          9,
          10,
          11,
          12,
          13,
          14,
          15,
          17,
          22,
          27
         ],
         "xaxis": "x",
         "y": [
          0.4125441696113074,
          0.659452296819788,
          0.7742932862190812,
          0.8613074204946997,
          0.9103356890459364,
          0.9443462897526501,
          0.9628975265017667,
          0.9757067137809187,
          0.9832155477031802,
          0.9876325088339223,
          0.9907243816254416,
          0.9929328621908127,
          0.9955830388692579,
          0.9982332155477032,
          0.9986749116607774,
          0.9991166077738516,
          0.9995583038869258,
          1
         ],
         "yaxis": "y"
        },
        {
         "customdata": [
          [
           845,
           2503,
           0.20052206929283342,
           17
          ],
          [
           845,
           2503,
           0.20052206929283342,
           17
          ],
          [
           845,
           2503,
           0.20052206929283342,
           17
          ],
          [
           845,
           2503,
           0.20052206929283342,
           17
          ],
          [
           845,
           2503,
           0.20052206929283342,
           17
          ],
          [
           845,
           2503,
           0.20052206929283342,
           17
          ],
          [
           845,
           2503,
           0.20052206929283342,
           17
          ],
          [
           845,
           2503,
           0.20052206929283342,
           17
          ],
          [
           845,
           2503,
           0.20052206929283342,
           17
          ],
          [
           845,
           2503,
           0.20052206929283342,
           17
          ],
          [
           845,
           2503,
           0.20052206929283342,
           17
          ],
          [
           845,
           2503,
           0.20052206929283342,
           17
          ],
          [
           845,
           2503,
           0.20052206929283342,
           17
          ],
          [
           845,
           2503,
           0.20052206929283342,
           17
          ],
          [
           845,
           2503,
           0.20052206929283342,
           17
          ],
          [
           845,
           2503,
           0.20052206929283342,
           17
          ],
          [
           845,
           2503,
           0.20052206929283342,
           17
          ],
          [
           845,
           2503,
           0.20052206929283342,
           17
          ]
         ],
         "hovertemplate": "SKU_ID=16936<br>ORDERS_BETWEEN_ORDERS=%{x}<br>RATE_cumsum=%{y}<br>SKUID_total_customers=%{customdata[0]}<br>SKUID_total_transactions=%{customdata[1]}<br>SKUID_total_probability_rate=%{customdata[2]}<br>product_rank_bytotalprobrate=%{customdata[3]}<extra></extra>",
         "legendgroup": "16936",
         "line": {
          "color": "#FECB52",
          "dash": "solid"
         },
         "marker": {
          "symbol": "circle"
         },
         "mode": "lines",
         "name": "16936",
         "orientation": "v",
         "showlegend": true,
         "type": "scatter",
         "x": [
          1,
          2,
          3,
          4,
          5,
          6,
          7,
          8,
          9,
          10,
          11,
          12,
          13,
          14,
          15,
          21,
          22,
          23
         ],
         "xaxis": "x",
         "y": [
          0.42279855247285886,
          0.6471652593486128,
          0.7828709288299156,
          0.8606755126658625,
          0.9065138721351025,
          0.9414957780458384,
          0.9656212303980699,
          0.9764776839565742,
          0.9837153196622437,
          0.9873341375150784,
          0.9909529553679132,
          0.9927623642943305,
          0.9957780458383595,
          0.9963811821471652,
          0.9981905910735827,
          0.9987937273823884,
          0.9993968636911942,
          1
         ],
         "yaxis": "y"
        },
        {
         "customdata": [
          [
           823,
           2430,
           0.1953013763644993,
           19
          ],
          [
           823,
           2430,
           0.1953013763644993,
           19
          ],
          [
           823,
           2430,
           0.1953013763644993,
           19
          ],
          [
           823,
           2430,
           0.1953013763644993,
           19
          ],
          [
           823,
           2430,
           0.1953013763644993,
           19
          ],
          [
           823,
           2430,
           0.1953013763644993,
           19
          ],
          [
           823,
           2430,
           0.1953013763644993,
           19
          ],
          [
           823,
           2430,
           0.1953013763644993,
           19
          ],
          [
           823,
           2430,
           0.1953013763644993,
           19
          ],
          [
           823,
           2430,
           0.1953013763644993,
           19
          ],
          [
           823,
           2430,
           0.1953013763644993,
           19
          ],
          [
           823,
           2430,
           0.1953013763644993,
           19
          ],
          [
           823,
           2430,
           0.1953013763644993,
           19
          ],
          [
           823,
           2430,
           0.1953013763644993,
           19
          ],
          [
           823,
           2430,
           0.1953013763644993,
           19
          ],
          [
           823,
           2430,
           0.1953013763644993,
           19
          ]
         ],
         "hovertemplate": "SKU_ID=17991<br>ORDERS_BETWEEN_ORDERS=%{x}<br>RATE_cumsum=%{y}<br>SKUID_total_customers=%{customdata[0]}<br>SKUID_total_transactions=%{customdata[1]}<br>SKUID_total_probability_rate=%{customdata[2]}<br>product_rank_bytotalprobrate=%{customdata[3]}<extra></extra>",
         "legendgroup": "17991",
         "line": {
          "color": "#636efa",
          "dash": "solid"
         },
         "marker": {
          "symbol": "circle"
         },
         "mode": "lines",
         "name": "17991",
         "orientation": "v",
         "showlegend": true,
         "type": "scatter",
         "x": [
          1,
          2,
          3,
          4,
          5,
          6,
          7,
          8,
          9,
          10,
          11,
          12,
          13,
          14,
          15,
          16
         ],
         "xaxis": "x",
         "y": [
          0.39763534536403233,
          0.6309894212818917,
          0.7685127566894835,
          0.8494088363410081,
          0.9041692594897324,
          0.939639079029247,
          0.9632856253889235,
          0.9719975108898569,
          0.9807093963907902,
          0.9863098942128189,
          0.9900435594275047,
          0.9931549471064094,
          0.9962663347853142,
          0.9981331673926571,
          0.9993777224642191,
          1
         ],
         "yaxis": "y"
        },
        {
         "customdata": [
          [
           968,
           4162,
           0.22971048884670148,
           13
          ],
          [
           968,
           4162,
           0.22971048884670148,
           13
          ],
          [
           968,
           4162,
           0.22971048884670148,
           13
          ],
          [
           968,
           4162,
           0.22971048884670148,
           13
          ],
          [
           968,
           4162,
           0.22971048884670148,
           13
          ],
          [
           968,
           4162,
           0.22971048884670148,
           13
          ],
          [
           968,
           4162,
           0.22971048884670148,
           13
          ],
          [
           968,
           4162,
           0.22971048884670148,
           13
          ],
          [
           968,
           4162,
           0.22971048884670148,
           13
          ],
          [
           968,
           4162,
           0.22971048884670148,
           13
          ],
          [
           968,
           4162,
           0.22971048884670148,
           13
          ],
          [
           968,
           4162,
           0.22971048884670148,
           13
          ],
          [
           968,
           4162,
           0.22971048884670148,
           13
          ],
          [
           968,
           4162,
           0.22971048884670148,
           13
          ],
          [
           968,
           4162,
           0.22971048884670148,
           13
          ]
         ],
         "hovertemplate": "SKU_ID=19086<br>ORDERS_BETWEEN_ORDERS=%{x}<br>RATE_cumsum=%{y}<br>SKUID_total_customers=%{customdata[0]}<br>SKUID_total_transactions=%{customdata[1]}<br>SKUID_total_probability_rate=%{customdata[2]}<br>product_rank_bytotalprobrate=%{customdata[3]}<extra></extra>",
         "legendgroup": "19086",
         "line": {
          "color": "#EF553B",
          "dash": "solid"
         },
         "marker": {
          "symbol": "circle"
         },
         "mode": "lines",
         "name": "19086",
         "orientation": "v",
         "showlegend": true,
         "type": "scatter",
         "x": [
          1,
          2,
          3,
          4,
          5,
          6,
          7,
          8,
          9,
          10,
          11,
          12,
          15,
          16,
          17
         ],
         "xaxis": "x",
         "y": [
          0.5588603631809643,
          0.7874139010644959,
          0.8753913587977458,
          0.9298685034439574,
          0.9533500313087038,
          0.9715090795241077,
          0.9790231684408266,
          0.9865372573575454,
          0.990920475892298,
          0.9937382592360676,
          0.9965560425798372,
          0.9987476518472135,
          0.9993738259236068,
          0.9996869129618033,
          1
         ],
         "yaxis": "y"
        },
        {
         "customdata": [
          [
           1692,
           7666,
           0.4015187470336972,
           2
          ],
          [
           1692,
           7666,
           0.4015187470336972,
           2
          ],
          [
           1692,
           7666,
           0.4015187470336972,
           2
          ],
          [
           1692,
           7666,
           0.4015187470336972,
           2
          ],
          [
           1692,
           7666,
           0.4015187470336972,
           2
          ],
          [
           1692,
           7666,
           0.4015187470336972,
           2
          ],
          [
           1692,
           7666,
           0.4015187470336972,
           2
          ],
          [
           1692,
           7666,
           0.4015187470336972,
           2
          ],
          [
           1692,
           7666,
           0.4015187470336972,
           2
          ],
          [
           1692,
           7666,
           0.4015187470336972,
           2
          ],
          [
           1692,
           7666,
           0.4015187470336972,
           2
          ],
          [
           1692,
           7666,
           0.4015187470336972,
           2
          ],
          [
           1692,
           7666,
           0.4015187470336972,
           2
          ],
          [
           1692,
           7666,
           0.4015187470336972,
           2
          ],
          [
           1692,
           7666,
           0.4015187470336972,
           2
          ],
          [
           1692,
           7666,
           0.4015187470336972,
           2
          ],
          [
           1692,
           7666,
           0.4015187470336972,
           2
          ],
          [
           1692,
           7666,
           0.4015187470336972,
           2
          ]
         ],
         "hovertemplate": "SKU_ID=19088<br>ORDERS_BETWEEN_ORDERS=%{x}<br>RATE_cumsum=%{y}<br>SKUID_total_customers=%{customdata[0]}<br>SKUID_total_transactions=%{customdata[1]}<br>SKUID_total_probability_rate=%{customdata[2]}<br>product_rank_bytotalprobrate=%{customdata[3]}<extra></extra>",
         "legendgroup": "19088",
         "line": {
          "color": "#00cc96",
          "dash": "solid"
         },
         "marker": {
          "symbol": "circle"
         },
         "mode": "lines",
         "name": "19088",
         "orientation": "v",
         "showlegend": true,
         "type": "scatter",
         "x": [
          1,
          2,
          3,
          4,
          5,
          6,
          7,
          8,
          9,
          10,
          11,
          12,
          13,
          14,
          15,
          18,
          20,
          29
         ],
         "xaxis": "x",
         "y": [
          0.5863742885838634,
          0.8157013726146636,
          0.9096083026447941,
          0.950451958486776,
          0.969032474054235,
          0.979578172079009,
          0.9866086374288584,
          0.9901238701037831,
          0.9939738868429863,
          0.9954804151322397,
          0.9971543354536324,
          0.9986608637428859,
          0.9989956478071644,
          0.9991630398393037,
          0.9994978239035822,
          0.9996652159357214,
          0.9998326079678608,
          1
         ],
         "yaxis": "y"
        },
        {
         "customdata": [
          [
           859,
           3062,
           0.20384432842904604,
           16
          ],
          [
           859,
           3062,
           0.20384432842904604,
           16
          ],
          [
           859,
           3062,
           0.20384432842904604,
           16
          ],
          [
           859,
           3062,
           0.20384432842904604,
           16
          ],
          [
           859,
           3062,
           0.20384432842904604,
           16
          ],
          [
           859,
           3062,
           0.20384432842904604,
           16
          ],
          [
           859,
           3062,
           0.20384432842904604,
           16
          ],
          [
           859,
           3062,
           0.20384432842904604,
           16
          ],
          [
           859,
           3062,
           0.20384432842904604,
           16
          ],
          [
           859,
           3062,
           0.20384432842904604,
           16
          ],
          [
           859,
           3062,
           0.20384432842904604,
           16
          ],
          [
           859,
           3062,
           0.20384432842904604,
           16
          ],
          [
           859,
           3062,
           0.20384432842904604,
           16
          ],
          [
           859,
           3062,
           0.20384432842904604,
           16
          ],
          [
           859,
           3062,
           0.20384432842904604,
           16
          ],
          [
           859,
           3062,
           0.20384432842904604,
           16
          ],
          [
           859,
           3062,
           0.20384432842904604,
           16
          ],
          [
           859,
           3062,
           0.20384432842904604,
           16
          ],
          [
           859,
           3062,
           0.20384432842904604,
           16
          ],
          [
           859,
           3062,
           0.20384432842904604,
           16
          ]
         ],
         "hovertemplate": "SKU_ID=19253<br>ORDERS_BETWEEN_ORDERS=%{x}<br>RATE_cumsum=%{y}<br>SKUID_total_customers=%{customdata[0]}<br>SKUID_total_transactions=%{customdata[1]}<br>SKUID_total_probability_rate=%{customdata[2]}<br>product_rank_bytotalprobrate=%{customdata[3]}<extra></extra>",
         "legendgroup": "19253",
         "line": {
          "color": "#ab63fa",
          "dash": "solid"
         },
         "marker": {
          "symbol": "circle"
         },
         "mode": "lines",
         "name": "19253",
         "orientation": "v",
         "showlegend": true,
         "type": "scatter",
         "x": [
          1,
          2,
          3,
          4,
          5,
          6,
          7,
          8,
          9,
          10,
          11,
          12,
          13,
          14,
          15,
          16,
          19,
          20,
          21,
          33
         ],
         "xaxis": "x",
         "y": [
          0.415796640944167,
          0.6677258284157966,
          0.7970948706309577,
          0.8610985020426691,
          0.9064911484339537,
          0.9319110304130731,
          0.9564230594643668,
          0.970494779845665,
          0.9818429414434862,
          0.9863822060826146,
          0.9886518384021789,
          0.9927371765773945,
          0.9945528824330458,
          0.9963685882886972,
          0.9968225147526101,
          0.9977303676804358,
          0.9986382206082615,
          0.9990921470721743,
          0.9995460735360872,
          1
         ],
         "yaxis": "y"
        },
        {
         "customdata": [
          [
           877,
           2712,
           0.20811580446131941,
           15
          ],
          [
           877,
           2712,
           0.20811580446131941,
           15
          ],
          [
           877,
           2712,
           0.20811580446131941,
           15
          ],
          [
           877,
           2712,
           0.20811580446131941,
           15
          ],
          [
           877,
           2712,
           0.20811580446131941,
           15
          ],
          [
           877,
           2712,
           0.20811580446131941,
           15
          ],
          [
           877,
           2712,
           0.20811580446131941,
           15
          ],
          [
           877,
           2712,
           0.20811580446131941,
           15
          ],
          [
           877,
           2712,
           0.20811580446131941,
           15
          ],
          [
           877,
           2712,
           0.20811580446131941,
           15
          ],
          [
           877,
           2712,
           0.20811580446131941,
           15
          ],
          [
           877,
           2712,
           0.20811580446131941,
           15
          ],
          [
           877,
           2712,
           0.20811580446131941,
           15
          ],
          [
           877,
           2712,
           0.20811580446131941,
           15
          ],
          [
           877,
           2712,
           0.20811580446131941,
           15
          ],
          [
           877,
           2712,
           0.20811580446131941,
           15
          ],
          [
           877,
           2712,
           0.20811580446131941,
           15
          ]
         ],
         "hovertemplate": "SKU_ID=19337<br>ORDERS_BETWEEN_ORDERS=%{x}<br>RATE_cumsum=%{y}<br>SKUID_total_customers=%{customdata[0]}<br>SKUID_total_transactions=%{customdata[1]}<br>SKUID_total_probability_rate=%{customdata[2]}<br>product_rank_bytotalprobrate=%{customdata[3]}<extra></extra>",
         "legendgroup": "19337",
         "line": {
          "color": "#FFA15A",
          "dash": "solid"
         },
         "marker": {
          "symbol": "circle"
         },
         "mode": "lines",
         "name": "19337",
         "orientation": "v",
         "showlegend": true,
         "type": "scatter",
         "x": [
          1,
          2,
          3,
          4,
          5,
          6,
          7,
          8,
          9,
          10,
          11,
          12,
          13,
          14,
          15,
          16,
          21
         ],
         "xaxis": "x",
         "y": [
          0.3798365122615804,
          0.6256130790190736,
          0.7705722070844687,
          0.8610354223433243,
          0.9160762942779291,
          0.9482288828337875,
          0.9591280653950953,
          0.9776566757493188,
          0.9831062670299727,
          0.9896457765667575,
          0.9945504087193461,
          0.9956403269754769,
          0.9961852861035423,
          0.997275204359673,
          0.9983651226158038,
          0.9994550408719346,
          1
         ],
         "yaxis": "y"
        },
        {
         "customdata": [
          [
           1292,
           3971,
           0.3065970574276222,
           4
          ],
          [
           1292,
           3971,
           0.3065970574276222,
           4
          ],
          [
           1292,
           3971,
           0.3065970574276222,
           4
          ],
          [
           1292,
           3971,
           0.3065970574276222,
           4
          ],
          [
           1292,
           3971,
           0.3065970574276222,
           4
          ],
          [
           1292,
           3971,
           0.3065970574276222,
           4
          ],
          [
           1292,
           3971,
           0.3065970574276222,
           4
          ],
          [
           1292,
           3971,
           0.3065970574276222,
           4
          ],
          [
           1292,
           3971,
           0.3065970574276222,
           4
          ],
          [
           1292,
           3971,
           0.3065970574276222,
           4
          ],
          [
           1292,
           3971,
           0.3065970574276222,
           4
          ],
          [
           1292,
           3971,
           0.3065970574276222,
           4
          ],
          [
           1292,
           3971,
           0.3065970574276222,
           4
          ],
          [
           1292,
           3971,
           0.3065970574276222,
           4
          ],
          [
           1292,
           3971,
           0.3065970574276222,
           4
          ],
          [
           1292,
           3971,
           0.3065970574276222,
           4
          ],
          [
           1292,
           3971,
           0.3065970574276222,
           4
          ],
          [
           1292,
           3971,
           0.3065970574276222,
           4
          ],
          [
           1292,
           3971,
           0.3065970574276222,
           4
          ],
          [
           1292,
           3971,
           0.3065970574276222,
           4
          ],
          [
           1292,
           3971,
           0.3065970574276222,
           4
          ]
         ],
         "hovertemplate": "SKU_ID=19341<br>ORDERS_BETWEEN_ORDERS=%{x}<br>RATE_cumsum=%{y}<br>SKUID_total_customers=%{customdata[0]}<br>SKUID_total_transactions=%{customdata[1]}<br>SKUID_total_probability_rate=%{customdata[2]}<br>product_rank_bytotalprobrate=%{customdata[3]}<extra></extra>",
         "legendgroup": "19341",
         "line": {
          "color": "#19d3f3",
          "dash": "solid"
         },
         "marker": {
          "symbol": "circle"
         },
         "mode": "lines",
         "name": "19341",
         "orientation": "v",
         "showlegend": true,
         "type": "scatter",
         "x": [
          1,
          2,
          3,
          4,
          5,
          6,
          7,
          8,
          9,
          10,
          11,
          12,
          13,
          14,
          15,
          16,
          17,
          18,
          19,
          20,
          21
         ],
         "xaxis": "x",
         "y": [
          0.43710339678984694,
          0.6875699888017917,
          0.8193355729749907,
          0.8876446435237029,
          0.9343038447181784,
          0.9548338932437477,
          0.9690182904068683,
          0.9783501306457634,
          0.984695782008212,
          0.9884285181037701,
          0.990294886151549,
          0.9932810750279955,
          0.9947741694662188,
          0.996267263904442,
          0.9966405375139977,
          0.9973870847331093,
          0.9981336319522209,
          0.9985069055617768,
          0.9992534527808884,
          0.9996267263904441,
          1
         ],
         "yaxis": "y"
        },
        {
         "customdata": [
          [
           830,
           2712,
           0.1969625059326056,
           18
          ],
          [
           830,
           2712,
           0.1969625059326056,
           18
          ],
          [
           830,
           2712,
           0.1969625059326056,
           18
          ],
          [
           830,
           2712,
           0.1969625059326056,
           18
          ],
          [
           830,
           2712,
           0.1969625059326056,
           18
          ],
          [
           830,
           2712,
           0.1969625059326056,
           18
          ],
          [
           830,
           2712,
           0.1969625059326056,
           18
          ],
          [
           830,
           2712,
           0.1969625059326056,
           18
          ],
          [
           830,
           2712,
           0.1969625059326056,
           18
          ],
          [
           830,
           2712,
           0.1969625059326056,
           18
          ],
          [
           830,
           2712,
           0.1969625059326056,
           18
          ],
          [
           830,
           2712,
           0.1969625059326056,
           18
          ],
          [
           830,
           2712,
           0.1969625059326056,
           18
          ],
          [
           830,
           2712,
           0.1969625059326056,
           18
          ],
          [
           830,
           2712,
           0.1969625059326056,
           18
          ],
          [
           830,
           2712,
           0.1969625059326056,
           18
          ],
          [
           830,
           2712,
           0.1969625059326056,
           18
          ],
          [
           830,
           2712,
           0.1969625059326056,
           18
          ]
         ],
         "hovertemplate": "SKU_ID=19399<br>ORDERS_BETWEEN_ORDERS=%{x}<br>RATE_cumsum=%{y}<br>SKUID_total_customers=%{customdata[0]}<br>SKUID_total_transactions=%{customdata[1]}<br>SKUID_total_probability_rate=%{customdata[2]}<br>product_rank_bytotalprobrate=%{customdata[3]}<extra></extra>",
         "legendgroup": "19399",
         "line": {
          "color": "#FF6692",
          "dash": "solid"
         },
         "marker": {
          "symbol": "circle"
         },
         "mode": "lines",
         "name": "19399",
         "orientation": "v",
         "showlegend": true,
         "type": "scatter",
         "x": [
          1,
          2,
          3,
          4,
          5,
          6,
          7,
          8,
          9,
          10,
          11,
          12,
          14,
          15,
          16,
          17,
          19,
          22
         ],
         "xaxis": "x",
         "y": [
          0.40807651434643993,
          0.6461211477151966,
          0.7752391073326248,
          0.8698193411264612,
          0.9171094580233794,
          0.9468650371944739,
          0.9654622741764081,
          0.9776833156216791,
          0.9856535600425079,
          0.98990435706695,
          0.9957492029755579,
          0.9968119022316684,
          0.9973432518597237,
          0.997874601487779,
          0.9984059511158342,
          0.9989373007438894,
          0.9994686503719448,
          1
         ],
         "yaxis": "y"
        },
        {
         "customdata": [
          [
           881,
           2505,
           0.20906502135738017,
           14
          ],
          [
           881,
           2505,
           0.20906502135738017,
           14
          ],
          [
           881,
           2505,
           0.20906502135738017,
           14
          ],
          [
           881,
           2505,
           0.20906502135738017,
           14
          ],
          [
           881,
           2505,
           0.20906502135738017,
           14
          ],
          [
           881,
           2505,
           0.20906502135738017,
           14
          ],
          [
           881,
           2505,
           0.20906502135738017,
           14
          ],
          [
           881,
           2505,
           0.20906502135738017,
           14
          ],
          [
           881,
           2505,
           0.20906502135738017,
           14
          ],
          [
           881,
           2505,
           0.20906502135738017,
           14
          ],
          [
           881,
           2505,
           0.20906502135738017,
           14
          ],
          [
           881,
           2505,
           0.20906502135738017,
           14
          ],
          [
           881,
           2505,
           0.20906502135738017,
           14
          ],
          [
           881,
           2505,
           0.20906502135738017,
           14
          ],
          [
           881,
           2505,
           0.20906502135738017,
           14
          ],
          [
           881,
           2505,
           0.20906502135738017,
           14
          ],
          [
           881,
           2505,
           0.20906502135738017,
           14
          ],
          [
           881,
           2505,
           0.20906502135738017,
           14
          ],
          [
           881,
           2505,
           0.20906502135738017,
           14
          ]
         ],
         "hovertemplate": "SKU_ID=21973<br>ORDERS_BETWEEN_ORDERS=%{x}<br>RATE_cumsum=%{y}<br>SKUID_total_customers=%{customdata[0]}<br>SKUID_total_transactions=%{customdata[1]}<br>SKUID_total_probability_rate=%{customdata[2]}<br>product_rank_bytotalprobrate=%{customdata[3]}<extra></extra>",
         "legendgroup": "21973",
         "line": {
          "color": "#B6E880",
          "dash": "solid"
         },
         "marker": {
          "symbol": "circle"
         },
         "mode": "lines",
         "name": "21973",
         "orientation": "v",
         "showlegend": true,
         "type": "scatter",
         "x": [
          1,
          2,
          3,
          4,
          5,
          6,
          7,
          8,
          9,
          10,
          11,
          12,
          15,
          17,
          19,
          21,
          22,
          24,
          35
         ],
         "xaxis": "x",
         "y": [
          0.4722906403940887,
          0.6791871921182266,
          0.8041871921182266,
          0.8762315270935961,
          0.9205665024630542,
          0.9556650246305419,
          0.9735221674876847,
          0.9821428571428572,
          0.9870689655172414,
          0.9919950738916257,
          0.9938423645320197,
          0.9944581280788177,
          0.9956896551724138,
          0.9963054187192119,
          0.9975369458128079,
          0.9981527093596059,
          0.9987684729064039,
          0.999384236453202,
          1
         ],
         "yaxis": "y"
        },
        {
         "customdata": [
          [
           1070,
           3357,
           0.2539155196962506,
           6
          ],
          [
           1070,
           3357,
           0.2539155196962506,
           6
          ],
          [
           1070,
           3357,
           0.2539155196962506,
           6
          ],
          [
           1070,
           3357,
           0.2539155196962506,
           6
          ],
          [
           1070,
           3357,
           0.2539155196962506,
           6
          ],
          [
           1070,
           3357,
           0.2539155196962506,
           6
          ],
          [
           1070,
           3357,
           0.2539155196962506,
           6
          ],
          [
           1070,
           3357,
           0.2539155196962506,
           6
          ],
          [
           1070,
           3357,
           0.2539155196962506,
           6
          ],
          [
           1070,
           3357,
           0.2539155196962506,
           6
          ],
          [
           1070,
           3357,
           0.2539155196962506,
           6
          ],
          [
           1070,
           3357,
           0.2539155196962506,
           6
          ],
          [
           1070,
           3357,
           0.2539155196962506,
           6
          ],
          [
           1070,
           3357,
           0.2539155196962506,
           6
          ],
          [
           1070,
           3357,
           0.2539155196962506,
           6
          ]
         ],
         "hovertemplate": "SKU_ID=23902<br>ORDERS_BETWEEN_ORDERS=%{x}<br>RATE_cumsum=%{y}<br>SKUID_total_customers=%{customdata[0]}<br>SKUID_total_transactions=%{customdata[1]}<br>SKUID_total_probability_rate=%{customdata[2]}<br>product_rank_bytotalprobrate=%{customdata[3]}<extra></extra>",
         "legendgroup": "23902",
         "line": {
          "color": "#FF97FF",
          "dash": "solid"
         },
         "marker": {
          "symbol": "circle"
         },
         "mode": "lines",
         "name": "23902",
         "orientation": "v",
         "showlegend": true,
         "type": "scatter",
         "x": [
          1,
          2,
          3,
          4,
          5,
          6,
          7,
          8,
          9,
          10,
          11,
          12,
          13,
          14,
          22
         ],
         "xaxis": "x",
         "y": [
          0.5273283777874945,
          0.7538259728902492,
          0.8596414516834281,
          0.9208570179274158,
          0.9470922606034106,
          0.9663314385658067,
          0.9781372977700044,
          0.9868823786620026,
          0.9921294271972015,
          0.995190205509401,
          0.9973764757324005,
          0.9978137297770004,
          0.9986882378662002,
          0.9995627459554001,
          1
         ],
         "yaxis": "y"
        },
        {
         "customdata": [
          [
           1534,
           6619,
           0.3640246796392976,
           3
          ],
          [
           1534,
           6619,
           0.3640246796392976,
           3
          ],
          [
           1534,
           6619,
           0.3640246796392976,
           3
          ],
          [
           1534,
           6619,
           0.3640246796392976,
           3
          ],
          [
           1534,
           6619,
           0.3640246796392976,
           3
          ],
          [
           1534,
           6619,
           0.3640246796392976,
           3
          ],
          [
           1534,
           6619,
           0.3640246796392976,
           3
          ],
          [
           1534,
           6619,
           0.3640246796392976,
           3
          ],
          [
           1534,
           6619,
           0.3640246796392976,
           3
          ],
          [
           1534,
           6619,
           0.3640246796392976,
           3
          ],
          [
           1534,
           6619,
           0.3640246796392976,
           3
          ],
          [
           1534,
           6619,
           0.3640246796392976,
           3
          ],
          [
           1534,
           6619,
           0.3640246796392976,
           3
          ],
          [
           1534,
           6619,
           0.3640246796392976,
           3
          ],
          [
           1534,
           6619,
           0.3640246796392976,
           3
          ],
          [
           1534,
           6619,
           0.3640246796392976,
           3
          ],
          [
           1534,
           6619,
           0.3640246796392976,
           3
          ],
          [
           1534,
           6619,
           0.3640246796392976,
           3
          ],
          [
           1534,
           6619,
           0.3640246796392976,
           3
          ],
          [
           1534,
           6619,
           0.3640246796392976,
           3
          ]
         ],
         "hovertemplate": "SKU_ID=24880<br>ORDERS_BETWEEN_ORDERS=%{x}<br>RATE_cumsum=%{y}<br>SKUID_total_customers=%{customdata[0]}<br>SKUID_total_transactions=%{customdata[1]}<br>SKUID_total_probability_rate=%{customdata[2]}<br>product_rank_bytotalprobrate=%{customdata[3]}<extra></extra>",
         "legendgroup": "24880",
         "line": {
          "color": "#FECB52",
          "dash": "solid"
         },
         "marker": {
          "symbol": "circle"
         },
         "mode": "lines",
         "name": "24880",
         "orientation": "v",
         "showlegend": true,
         "type": "scatter",
         "x": [
          1,
          2,
          3,
          4,
          5,
          6,
          7,
          8,
          9,
          10,
          11,
          12,
          13,
          14,
          15,
          16,
          18,
          19,
          20,
          27
         ],
         "xaxis": "x",
         "y": [
          0.5144542772861357,
          0.7404129793510325,
          0.8536873156342183,
          0.9144542772861357,
          0.9465093411996067,
          0.9644051130776794,
          0.9748279252704032,
          0.9815142576204523,
          0.9870206489675516,
          0.991543756145526,
          0.9944936086529007,
          0.9962635201573254,
          0.9976401179941004,
          0.9978367748279253,
          0.9982300884955753,
          0.9984267453294002,
          0.9988200589970502,
          0.9994100294985251,
          0.999803343166175,
          1
         ],
         "yaxis": "y"
        },
        {
         "customdata": [
          [
           739,
           2018,
           0.17536782154722355,
           20
          ],
          [
           739,
           2018,
           0.17536782154722355,
           20
          ],
          [
           739,
           2018,
           0.17536782154722355,
           20
          ],
          [
           739,
           2018,
           0.17536782154722355,
           20
          ],
          [
           739,
           2018,
           0.17536782154722355,
           20
          ],
          [
           739,
           2018,
           0.17536782154722355,
           20
          ],
          [
           739,
           2018,
           0.17536782154722355,
           20
          ],
          [
           739,
           2018,
           0.17536782154722355,
           20
          ],
          [
           739,
           2018,
           0.17536782154722355,
           20
          ],
          [
           739,
           2018,
           0.17536782154722355,
           20
          ],
          [
           739,
           2018,
           0.17536782154722355,
           20
          ],
          [
           739,
           2018,
           0.17536782154722355,
           20
          ],
          [
           739,
           2018,
           0.17536782154722355,
           20
          ],
          [
           739,
           2018,
           0.17536782154722355,
           20
          ],
          [
           739,
           2018,
           0.17536782154722355,
           20
          ]
         ],
         "hovertemplate": "SKU_ID=26567<br>ORDERS_BETWEEN_ORDERS=%{x}<br>RATE_cumsum=%{y}<br>SKUID_total_customers=%{customdata[0]}<br>SKUID_total_transactions=%{customdata[1]}<br>SKUID_total_probability_rate=%{customdata[2]}<br>product_rank_bytotalprobrate=%{customdata[3]}<extra></extra>",
         "legendgroup": "26567",
         "line": {
          "color": "#636efa",
          "dash": "solid"
         },
         "marker": {
          "symbol": "circle"
         },
         "mode": "lines",
         "name": "26567",
         "orientation": "v",
         "showlegend": true,
         "type": "scatter",
         "x": [
          1,
          2,
          3,
          4,
          5,
          6,
          7,
          8,
          9,
          10,
          11,
          12,
          13,
          14,
          17
         ],
         "xaxis": "x",
         "y": [
          0.5347928068803753,
          0.7951524628616107,
          0.8960125097732604,
          0.9397967161845192,
          0.9671618451915559,
          0.9788897576231431,
          0.9859265050820955,
          0.9890539483971853,
          0.9945269741985927,
          0.9953088350273652,
          0.9968725566849101,
          0.9976544175136826,
          0.9984362783424551,
          0.9992181391712276,
          1
         ],
         "yaxis": "y"
        }
       ],
       "layout": {
        "legend": {
         "title": {
          "text": "SKU_ID"
         },
         "tracegroupgap": 0
        },
        "margin": {
         "t": 60
        },
        "template": {
         "data": {
          "bar": [
           {
            "error_x": {
             "color": "#2a3f5f"
            },
            "error_y": {
             "color": "#2a3f5f"
            },
            "marker": {
             "line": {
              "color": "#E5ECF6",
              "width": 0.5
             },
             "pattern": {
              "fillmode": "overlay",
              "size": 10,
              "solidity": 0.2
             }
            },
            "type": "bar"
           }
          ],
          "barpolar": [
           {
            "marker": {
             "line": {
              "color": "#E5ECF6",
              "width": 0.5
             },
             "pattern": {
              "fillmode": "overlay",
              "size": 10,
              "solidity": 0.2
             }
            },
            "type": "barpolar"
           }
          ],
          "carpet": [
           {
            "aaxis": {
             "endlinecolor": "#2a3f5f",
             "gridcolor": "white",
             "linecolor": "white",
             "minorgridcolor": "white",
             "startlinecolor": "#2a3f5f"
            },
            "baxis": {
             "endlinecolor": "#2a3f5f",
             "gridcolor": "white",
             "linecolor": "white",
             "minorgridcolor": "white",
             "startlinecolor": "#2a3f5f"
            },
            "type": "carpet"
           }
          ],
          "choropleth": [
           {
            "colorbar": {
             "outlinewidth": 0,
             "ticks": ""
            },
            "type": "choropleth"
           }
          ],
          "contour": [
           {
            "colorbar": {
             "outlinewidth": 0,
             "ticks": ""
            },
            "colorscale": [
             [
              0,
              "#0d0887"
             ],
             [
              0.1111111111111111,
              "#46039f"
             ],
             [
              0.2222222222222222,
              "#7201a8"
             ],
             [
              0.3333333333333333,
              "#9c179e"
             ],
             [
              0.4444444444444444,
              "#bd3786"
             ],
             [
              0.5555555555555556,
              "#d8576b"
             ],
             [
              0.6666666666666666,
              "#ed7953"
             ],
             [
              0.7777777777777778,
              "#fb9f3a"
             ],
             [
              0.8888888888888888,
              "#fdca26"
             ],
             [
              1,
              "#f0f921"
             ]
            ],
            "type": "contour"
           }
          ],
          "contourcarpet": [
           {
            "colorbar": {
             "outlinewidth": 0,
             "ticks": ""
            },
            "type": "contourcarpet"
           }
          ],
          "heatmap": [
           {
            "colorbar": {
             "outlinewidth": 0,
             "ticks": ""
            },
            "colorscale": [
             [
              0,
              "#0d0887"
             ],
             [
              0.1111111111111111,
              "#46039f"
             ],
             [
              0.2222222222222222,
              "#7201a8"
             ],
             [
              0.3333333333333333,
              "#9c179e"
             ],
             [
              0.4444444444444444,
              "#bd3786"
             ],
             [
              0.5555555555555556,
              "#d8576b"
             ],
             [
              0.6666666666666666,
              "#ed7953"
             ],
             [
              0.7777777777777778,
              "#fb9f3a"
             ],
             [
              0.8888888888888888,
              "#fdca26"
             ],
             [
              1,
              "#f0f921"
             ]
            ],
            "type": "heatmap"
           }
          ],
          "heatmapgl": [
           {
            "colorbar": {
             "outlinewidth": 0,
             "ticks": ""
            },
            "colorscale": [
             [
              0,
              "#0d0887"
             ],
             [
              0.1111111111111111,
              "#46039f"
             ],
             [
              0.2222222222222222,
              "#7201a8"
             ],
             [
              0.3333333333333333,
              "#9c179e"
             ],
             [
              0.4444444444444444,
              "#bd3786"
             ],
             [
              0.5555555555555556,
              "#d8576b"
             ],
             [
              0.6666666666666666,
              "#ed7953"
             ],
             [
              0.7777777777777778,
              "#fb9f3a"
             ],
             [
              0.8888888888888888,
              "#fdca26"
             ],
             [
              1,
              "#f0f921"
             ]
            ],
            "type": "heatmapgl"
           }
          ],
          "histogram": [
           {
            "marker": {
             "pattern": {
              "fillmode": "overlay",
              "size": 10,
              "solidity": 0.2
             }
            },
            "type": "histogram"
           }
          ],
          "histogram2d": [
           {
            "colorbar": {
             "outlinewidth": 0,
             "ticks": ""
            },
            "colorscale": [
             [
              0,
              "#0d0887"
             ],
             [
              0.1111111111111111,
              "#46039f"
             ],
             [
              0.2222222222222222,
              "#7201a8"
             ],
             [
              0.3333333333333333,
              "#9c179e"
             ],
             [
              0.4444444444444444,
              "#bd3786"
             ],
             [
              0.5555555555555556,
              "#d8576b"
             ],
             [
              0.6666666666666666,
              "#ed7953"
             ],
             [
              0.7777777777777778,
              "#fb9f3a"
             ],
             [
              0.8888888888888888,
              "#fdca26"
             ],
             [
              1,
              "#f0f921"
             ]
            ],
            "type": "histogram2d"
           }
          ],
          "histogram2dcontour": [
           {
            "colorbar": {
             "outlinewidth": 0,
             "ticks": ""
            },
            "colorscale": [
             [
              0,
              "#0d0887"
             ],
             [
              0.1111111111111111,
              "#46039f"
             ],
             [
              0.2222222222222222,
              "#7201a8"
             ],
             [
              0.3333333333333333,
              "#9c179e"
             ],
             [
              0.4444444444444444,
              "#bd3786"
             ],
             [
              0.5555555555555556,
              "#d8576b"
             ],
             [
              0.6666666666666666,
              "#ed7953"
             ],
             [
              0.7777777777777778,
              "#fb9f3a"
             ],
             [
              0.8888888888888888,
              "#fdca26"
             ],
             [
              1,
              "#f0f921"
             ]
            ],
            "type": "histogram2dcontour"
           }
          ],
          "mesh3d": [
           {
            "colorbar": {
             "outlinewidth": 0,
             "ticks": ""
            },
            "type": "mesh3d"
           }
          ],
          "parcoords": [
           {
            "line": {
             "colorbar": {
              "outlinewidth": 0,
              "ticks": ""
             }
            },
            "type": "parcoords"
           }
          ],
          "pie": [
           {
            "automargin": true,
            "type": "pie"
           }
          ],
          "scatter": [
           {
            "fillpattern": {
             "fillmode": "overlay",
             "size": 10,
             "solidity": 0.2
            },
            "type": "scatter"
           }
          ],
          "scatter3d": [
           {
            "line": {
             "colorbar": {
              "outlinewidth": 0,
              "ticks": ""
             }
            },
            "marker": {
             "colorbar": {
              "outlinewidth": 0,
              "ticks": ""
             }
            },
            "type": "scatter3d"
           }
          ],
          "scattercarpet": [
           {
            "marker": {
             "colorbar": {
              "outlinewidth": 0,
              "ticks": ""
             }
            },
            "type": "scattercarpet"
           }
          ],
          "scattergeo": [
           {
            "marker": {
             "colorbar": {
              "outlinewidth": 0,
              "ticks": ""
             }
            },
            "type": "scattergeo"
           }
          ],
          "scattergl": [
           {
            "marker": {
             "colorbar": {
              "outlinewidth": 0,
              "ticks": ""
             }
            },
            "type": "scattergl"
           }
          ],
          "scattermapbox": [
           {
            "marker": {
             "colorbar": {
              "outlinewidth": 0,
              "ticks": ""
             }
            },
            "type": "scattermapbox"
           }
          ],
          "scatterpolar": [
           {
            "marker": {
             "colorbar": {
              "outlinewidth": 0,
              "ticks": ""
             }
            },
            "type": "scatterpolar"
           }
          ],
          "scatterpolargl": [
           {
            "marker": {
             "colorbar": {
              "outlinewidth": 0,
              "ticks": ""
             }
            },
            "type": "scatterpolargl"
           }
          ],
          "scatterternary": [
           {
            "marker": {
             "colorbar": {
              "outlinewidth": 0,
              "ticks": ""
             }
            },
            "type": "scatterternary"
           }
          ],
          "surface": [
           {
            "colorbar": {
             "outlinewidth": 0,
             "ticks": ""
            },
            "colorscale": [
             [
              0,
              "#0d0887"
             ],
             [
              0.1111111111111111,
              "#46039f"
             ],
             [
              0.2222222222222222,
              "#7201a8"
             ],
             [
              0.3333333333333333,
              "#9c179e"
             ],
             [
              0.4444444444444444,
              "#bd3786"
             ],
             [
              0.5555555555555556,
              "#d8576b"
             ],
             [
              0.6666666666666666,
              "#ed7953"
             ],
             [
              0.7777777777777778,
              "#fb9f3a"
             ],
             [
              0.8888888888888888,
              "#fdca26"
             ],
             [
              1,
              "#f0f921"
             ]
            ],
            "type": "surface"
           }
          ],
          "table": [
           {
            "cells": {
             "fill": {
              "color": "#EBF0F8"
             },
             "line": {
              "color": "white"
             }
            },
            "header": {
             "fill": {
              "color": "#C8D4E3"
             },
             "line": {
              "color": "white"
             }
            },
            "type": "table"
           }
          ]
         },
         "layout": {
          "annotationdefaults": {
           "arrowcolor": "#2a3f5f",
           "arrowhead": 0,
           "arrowwidth": 1
          },
          "autotypenumbers": "strict",
          "coloraxis": {
           "colorbar": {
            "outlinewidth": 0,
            "ticks": ""
           }
          },
          "colorscale": {
           "diverging": [
            [
             0,
             "#8e0152"
            ],
            [
             0.1,
             "#c51b7d"
            ],
            [
             0.2,
             "#de77ae"
            ],
            [
             0.3,
             "#f1b6da"
            ],
            [
             0.4,
             "#fde0ef"
            ],
            [
             0.5,
             "#f7f7f7"
            ],
            [
             0.6,
             "#e6f5d0"
            ],
            [
             0.7,
             "#b8e186"
            ],
            [
             0.8,
             "#7fbc41"
            ],
            [
             0.9,
             "#4d9221"
            ],
            [
             1,
             "#276419"
            ]
           ],
           "sequential": [
            [
             0,
             "#0d0887"
            ],
            [
             0.1111111111111111,
             "#46039f"
            ],
            [
             0.2222222222222222,
             "#7201a8"
            ],
            [
             0.3333333333333333,
             "#9c179e"
            ],
            [
             0.4444444444444444,
             "#bd3786"
            ],
            [
             0.5555555555555556,
             "#d8576b"
            ],
            [
             0.6666666666666666,
             "#ed7953"
            ],
            [
             0.7777777777777778,
             "#fb9f3a"
            ],
            [
             0.8888888888888888,
             "#fdca26"
            ],
            [
             1,
             "#f0f921"
            ]
           ],
           "sequentialminus": [
            [
             0,
             "#0d0887"
            ],
            [
             0.1111111111111111,
             "#46039f"
            ],
            [
             0.2222222222222222,
             "#7201a8"
            ],
            [
             0.3333333333333333,
             "#9c179e"
            ],
            [
             0.4444444444444444,
             "#bd3786"
            ],
            [
             0.5555555555555556,
             "#d8576b"
            ],
            [
             0.6666666666666666,
             "#ed7953"
            ],
            [
             0.7777777777777778,
             "#fb9f3a"
            ],
            [
             0.8888888888888888,
             "#fdca26"
            ],
            [
             1,
             "#f0f921"
            ]
           ]
          },
          "colorway": [
           "#636efa",
           "#EF553B",
           "#00cc96",
           "#ab63fa",
           "#FFA15A",
           "#19d3f3",
           "#FF6692",
           "#B6E880",
           "#FF97FF",
           "#FECB52"
          ],
          "font": {
           "color": "#2a3f5f"
          },
          "geo": {
           "bgcolor": "white",
           "lakecolor": "white",
           "landcolor": "#E5ECF6",
           "showlakes": true,
           "showland": true,
           "subunitcolor": "white"
          },
          "hoverlabel": {
           "align": "left"
          },
          "hovermode": "closest",
          "mapbox": {
           "style": "light"
          },
          "paper_bgcolor": "white",
          "plot_bgcolor": "#E5ECF6",
          "polar": {
           "angularaxis": {
            "gridcolor": "white",
            "linecolor": "white",
            "ticks": ""
           },
           "bgcolor": "#E5ECF6",
           "radialaxis": {
            "gridcolor": "white",
            "linecolor": "white",
            "ticks": ""
           }
          },
          "scene": {
           "xaxis": {
            "backgroundcolor": "#E5ECF6",
            "gridcolor": "white",
            "gridwidth": 2,
            "linecolor": "white",
            "showbackground": true,
            "ticks": "",
            "zerolinecolor": "white"
           },
           "yaxis": {
            "backgroundcolor": "#E5ECF6",
            "gridcolor": "white",
            "gridwidth": 2,
            "linecolor": "white",
            "showbackground": true,
            "ticks": "",
            "zerolinecolor": "white"
           },
           "zaxis": {
            "backgroundcolor": "#E5ECF6",
            "gridcolor": "white",
            "gridwidth": 2,
            "linecolor": "white",
            "showbackground": true,
            "ticks": "",
            "zerolinecolor": "white"
           }
          },
          "shapedefaults": {
           "line": {
            "color": "#2a3f5f"
           }
          },
          "ternary": {
           "aaxis": {
            "gridcolor": "white",
            "linecolor": "white",
            "ticks": ""
           },
           "baxis": {
            "gridcolor": "white",
            "linecolor": "white",
            "ticks": ""
           },
           "bgcolor": "#E5ECF6",
           "caxis": {
            "gridcolor": "white",
            "linecolor": "white",
            "ticks": ""
           }
          },
          "title": {
           "x": 0.05
          },
          "xaxis": {
           "automargin": true,
           "gridcolor": "white",
           "linecolor": "white",
           "ticks": "",
           "title": {
            "standoff": 15
           },
           "zerolinecolor": "white",
           "zerolinewidth": 2
          },
          "yaxis": {
           "automargin": true,
           "gridcolor": "white",
           "linecolor": "white",
           "ticks": "",
           "title": {
            "standoff": 15
           },
           "zerolinecolor": "white",
           "zerolinewidth": 2
          }
         }
        },
        "xaxis": {
         "anchor": "y",
         "domain": [
          0,
          1
         ],
         "title": {
          "text": "ORDERS_BETWEEN_ORDERS"
         }
        },
        "yaxis": {
         "anchor": "x",
         "domain": [
          0,
          1
         ],
         "title": {
          "text": "RATE_cumsum"
         }
        }
       }
      }
     },
     "metadata": {},
     "output_type": "display_data"
    }
   ],
   "source": [
    "plot_df = df[\n",
    "        (df[\"product_rank_bytotalprobrate\"].between(0,20))\n",
    "    ].copy()\n",
    "\n",
    "px.line(plot_df,\n",
    "    x=\"ORDERS_BETWEEN_ORDERS\",\n",
    "    y=\"RATE\",\n",
    "    color=\"SKU_ID\",\n",
    "    hover_data=[\n",
    "        \"SKUID_total_customers\",\n",
    "        \"SKUID_total_transactions\",\n",
    "        \"SKUID_total_probability_rate\",\n",
    "        \"product_rank_bytotalprobrate\",\n",
    "    ]\n",
    ").show()\n",
    "\n",
    "px.line(plot_df,\n",
    "    x=\"ORDERS_BETWEEN_ORDERS\",\n",
    "    y=\"RATE_cumsum\",\n",
    "    color=\"SKU_ID\",\n",
    "    hover_data=[\n",
    "        \"SKUID_total_customers\",\n",
    "        \"SKUID_total_transactions\",\n",
    "        \"SKUID_total_probability_rate\",\n",
    "        \"product_rank_bytotalprobrate\",\n",
    "    ]\n",
    ").show()"
   ]
  },
  {
   "cell_type": "code",
   "execution_count": 12,
   "metadata": {},
   "outputs": [],
   "source": [
    "df.to_pickle(\"models/probabilistic/inter_orders_rates.pkl\")"
   ]
  }
 ],
 "metadata": {
  "kernelspec": {
   "display_name": "recs",
   "language": "python",
   "name": "python3"
  },
  "language_info": {
   "codemirror_mode": {
    "name": "ipython",
    "version": 3
   },
   "file_extension": ".py",
   "mimetype": "text/x-python",
   "name": "python",
   "nbconvert_exporter": "python",
   "pygments_lexer": "ipython3",
   "version": "3.12.4"
  }
 },
 "nbformat": 4,
 "nbformat_minor": 2
}
