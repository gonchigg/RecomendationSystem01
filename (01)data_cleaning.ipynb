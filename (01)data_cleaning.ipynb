{
 "cells": [
  {
   "cell_type": "code",
   "execution_count": null,
   "metadata": {},
   "outputs": [],
   "source": [
    "import pandas as pd\n",
    "import plotly.express as px"
   ]
  },
  {
   "cell_type": "code",
   "execution_count": null,
   "metadata": {},
   "outputs": [],
   "source": [
    "clients = pd.read_csv(\"data/clients.csv\").drop(columns=['Unnamed: 0'])\n",
    "transactions = pd.read_csv(\"data/transactions.csv\").drop(columns=['Unnamed: 0'])\n",
    "\n",
    "transactions = transactions.rename(columns={\"ACCOUNT_ID\":\"POC\"})\n",
    "transactions[\"INVOICE_DATE\"] = pd.to_datetime(transactions[\"INVOICE_DATE\"], format=\"%Y%m%d\")"
   ]
  },
  {
   "cell_type": "code",
   "execution_count": null,
   "metadata": {},
   "outputs": [],
   "source": [
    "print(f'Orders amount: {transactions[\"ORDER_ID\"].nunique()}')\n",
    "print(f'Products amount: {transactions[\"SKU_ID\"].nunique()}')"
   ]
  },
  {
   "cell_type": "code",
   "execution_count": null,
   "metadata": {},
   "outputs": [],
   "source": [
    "pocs1 = set(clients[\"POC\"])\n",
    "pocs2 = set(transactions[\"POC\"])\n",
    "pocsboth = pocs1 & pocs2\n",
    "\n",
    "print(f\"Clients in Client's DB: {len(pocs1)}, Clients in Transaction's DB {len(pocs2)}, Clients in both DBs {len(pocsboth)}\")\n",
    "\n",
    "clients = clients[clients[\"POC\"].isin(pocsboth)].copy()\n",
    "transactions = transactions[transactions[\"POC\"].isin(pocsboth)].copy()"
   ]
  },
  {
   "cell_type": "markdown",
   "metadata": {},
   "source": [
    "Let's make [POC, INVOICE_DATE, SKU_ID] a primary key combination"
   ]
  },
  {
   "cell_type": "code",
   "execution_count": null,
   "metadata": {},
   "outputs": [],
   "source": [
    "transactions = (transactions[[\"POC\",\"INVOICE_DATE\"]].drop_duplicates()\n",
    "    .merge((transactions\n",
    "            .groupby([\"POC\",\"INVOICE_DATE\",\"SKU_ID\"])\n",
    "            [\"ITEMS_PHYS_CASES\"].sum()\n",
    "            .reset_index()\n",
    "        ),\n",
    "        on=[\"POC\",\"INVOICE_DATE\"],\n",
    "        how=\"left\"\n",
    "    )\n",
    "    .sort_values([\"POC\",\"INVOICE_DATE\",\"SKU_ID\"])\n",
    ")\n",
    "\n",
    "\n",
    "transactions = (transactions\n",
    "    .merge((transactions\n",
    "            [[\"POC\",\"INVOICE_DATE\"]]\n",
    "            .drop_duplicates()\n",
    "            .reset_index(drop=True)\n",
    "            .reset_index()\n",
    "            .rename(columns={\"index\":\"ORDER_ID\"})\n",
    "        ),\n",
    "        on=[\"POC\",\"INVOICE_DATE\"],\n",
    "        how=\"left\"\n",
    "    )\n",
    "    [[\"POC\",\"ORDER_ID\",\"INVOICE_DATE\",\"SKU_ID\",\"ITEMS_PHYS_CASES\"]]\n",
    "    .sort_values([\"POC\",\"ORDER_ID\",\"INVOICE_DATE\",\"SKU_ID\"])\n",
    ")"
   ]
  },
  {
   "cell_type": "markdown",
   "metadata": {},
   "source": [
    "Let's visualize the amount of orders per product"
   ]
  },
  {
   "cell_type": "code",
   "execution_count": null,
   "metadata": {},
   "outputs": [],
   "source": [
    "orders_per_product = transactions[\"SKU_ID\"].value_counts().rename(\"orders_per_product\")\n",
    "mean_orders_per_product = orders_per_product.mean()\n",
    "\n",
    "plot_threshold = 1000\n",
    "title = f\"Histogram of orders per product (mean: {int(mean_orders_per_product)}) [plot threshold < {plot_threshold}]\"\n",
    "px.histogram(orders_per_product[orders_per_product < plot_threshold], nbins=100, title=title).show()"
   ]
  },
  {
   "cell_type": "markdown",
   "metadata": {},
   "source": [
    "Let's eliminate products that been ordered less than N=25 times"
   ]
  },
  {
   "cell_type": "code",
   "execution_count": null,
   "metadata": {},
   "outputs": [],
   "source": [
    "N = 50\n",
    "\n",
    "invalid_products = orders_per_product[orders_per_product < N].index.values\n",
    "\n",
    "print(f\"Dropping {len(invalid_products)} products due to less than {N} orders\")\n",
    "\n",
    "transactions = transactions[~transactions[\"SKU_ID\"].isin(invalid_products)].copy()\n",
    "\n",
    "print(f\"Remaining products {transactions['SKU_ID'].nunique()}\")"
   ]
  },
  {
   "cell_type": "markdown",
   "metadata": {},
   "source": [
    "Let's eliminate products that been ordered at most N=3 by any client"
   ]
  },
  {
   "cell_type": "code",
   "execution_count": null,
   "metadata": {},
   "outputs": [],
   "source": [
    "N=3\n",
    "\n",
    "orders_perClientProduct = transactions[[\"POC\",\"SKU_ID\"]].value_counts().reset_index()\n",
    "maxOrders_perClientProduct = orders_perClientProduct.groupby(\"SKU_ID\")[\"count\"].max().sort_values()\n",
    "\n",
    "invalid_SKUIDs = maxOrders_perClientProduct[maxOrders_perClientProduct <= N].index.values\n",
    "\n",
    "print(f\"Dropping {len(invalid_SKUIDs)} products due to less than 3 max orders by any client\")\n",
    "\n",
    "transactions = transactions[~transactions[\"SKU_ID\"].isin(invalid_SKUIDs)].copy()\n",
    "\n",
    "print(f\"Remaining products {transactions['SKU_ID'].nunique()}\")"
   ]
  },
  {
   "cell_type": "markdown",
   "metadata": {},
   "source": [
    "Stage results"
   ]
  },
  {
   "cell_type": "code",
   "execution_count": null,
   "metadata": {},
   "outputs": [],
   "source": [
    "clients.to_pickle(\"data/parsed/clients.pkl\")\n",
    "transactions.to_pickle(\"data/parsed/transactions.pkl\")"
   ]
  }
 ],
 "metadata": {
  "kernelspec": {
   "display_name": "recs",
   "language": "python",
   "name": "python3"
  },
  "language_info": {
   "codemirror_mode": {
    "name": "ipython",
    "version": 3
   },
   "file_extension": ".py",
   "mimetype": "text/x-python",
   "name": "python",
   "nbconvert_exporter": "python",
   "pygments_lexer": "ipython3",
   "version": "3.12.4"
  }
 },
 "nbformat": 4,
 "nbformat_minor": 2
}
