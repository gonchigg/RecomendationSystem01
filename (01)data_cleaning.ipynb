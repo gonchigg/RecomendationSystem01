{
 "cells": [
  {
   "cell_type": "code",
   "execution_count": 1,
   "metadata": {},
   "outputs": [],
   "source": [
    "import pandas as pd\n",
    "import plotly.express as px"
   ]
  },
  {
   "cell_type": "code",
   "execution_count": 2,
   "metadata": {},
   "outputs": [],
   "source": [
    "clients = pd.read_csv(\"data/clients.csv\").drop(columns=['Unnamed: 0'])\n",
    "transactions = pd.read_csv(\"data/transactions.csv\").drop(columns=['Unnamed: 0'])\n",
    "\n",
    "transactions = transactions.rename(columns={\"ACCOUNT_ID\":\"POC\"})\n",
    "transactions[\"INVOICE_DATE\"] = pd.to_datetime(transactions[\"INVOICE_DATE\"], format=\"%Y%m%d\")"
   ]
  },
  {
   "cell_type": "code",
   "execution_count": 3,
   "metadata": {},
   "outputs": [
    {
     "name": "stdout",
     "output_type": "stream",
     "text": [
      "Orders amount: 45547\n",
      "Products amount: 530\n"
     ]
    }
   ],
   "source": [
    "print(f'Orders amount: {transactions[\"ORDER_ID\"].nunique()}')\n",
    "print(f'Products amount: {transactions[\"SKU_ID\"].nunique()}')"
   ]
  },
  {
   "cell_type": "code",
   "execution_count": 4,
   "metadata": {},
   "outputs": [
    {
     "name": "stdout",
     "output_type": "stream",
     "text": [
      "Clients in Client's DB: 4400, Clients in Transaction's DB 4535, Clients in both DBs 4379\n"
     ]
    }
   ],
   "source": [
    "pocs1 = set(clients[\"POC\"])\n",
    "pocs2 = set(transactions[\"POC\"])\n",
    "pocsboth = pocs1 & pocs2\n",
    "\n",
    "print(f\"Clients in Client's DB: {len(pocs1)}, Clients in Transaction's DB {len(pocs2)}, Clients in both DBs {len(pocsboth)}\")\n",
    "\n",
    "clients = clients[clients[\"POC\"].isin(pocsboth)].copy()\n",
    "transactions = transactions[transactions[\"POC\"].isin(pocsboth)].copy()"
   ]
  },
  {
   "cell_type": "markdown",
   "metadata": {},
   "source": [
    "Let's make [POC, INVOICE_DATE, SKU_ID] a primary key combination"
   ]
  },
  {
   "cell_type": "code",
   "execution_count": 5,
   "metadata": {},
   "outputs": [],
   "source": [
    "transactions = (transactions[[\"POC\",\"INVOICE_DATE\"]].drop_duplicates()\n",
    "    .merge((transactions\n",
    "            .groupby([\"POC\",\"INVOICE_DATE\",\"SKU_ID\"])\n",
    "            [\"ITEMS_PHYS_CASES\"].sum()\n",
    "            .reset_index()\n",
    "        ),\n",
    "        on=[\"POC\",\"INVOICE_DATE\"],\n",
    "        how=\"left\"\n",
    "    )\n",
    "    .sort_values([\"POC\",\"INVOICE_DATE\",\"SKU_ID\"])\n",
    ")\n",
    "\n",
    "\n",
    "transactions = (transactions\n",
    "    .merge((transactions\n",
    "            [[\"POC\",\"INVOICE_DATE\"]]\n",
    "            .drop_duplicates()\n",
    "            .reset_index(drop=True)\n",
    "            .reset_index()\n",
    "            .rename(columns={\"index\":\"ORDER_ID\"})\n",
    "        ),\n",
    "        on=[\"POC\",\"INVOICE_DATE\"],\n",
    "        how=\"left\"\n",
    "    )\n",
    "    [[\"POC\",\"ORDER_ID\",\"INVOICE_DATE\",\"SKU_ID\",\"ITEMS_PHYS_CASES\"]]\n",
    "    .sort_values([\"POC\",\"ORDER_ID\",\"INVOICE_DATE\",\"SKU_ID\"])\n",
    ")"
   ]
  },
  {
   "cell_type": "markdown",
   "metadata": {},
   "source": [
    "Let's visualize the amount of orders per product"
   ]
  },
  {
   "cell_type": "code",
   "execution_count": 6,
   "metadata": {},
   "outputs": [
    {
     "data": {
      "application/vnd.plotly.v1+json": {
       "config": {
        "plotlyServerURL": "https://plot.ly"
       },
       "data": [
        {
         "alignmentgroup": "True",
         "bingroup": "x",
         "hovertemplate": "variable=orders_per_product<br>value=%{x}<br>count=%{y}<extra></extra>",
         "legendgroup": "orders_per_product",
         "marker": {
          "color": "#636efa",
          "pattern": {
           "shape": ""
          }
         },
         "name": "orders_per_product",
         "nbinsx": 100,
         "offsetgroup": "orders_per_product",
         "orientation": "v",
         "showlegend": true,
         "type": "histogram",
         "x": [
          986,
          974,
          970,
          960,
          959,
          959,
          931,
          914,
          903,
          864,
          849,
          848,
          835,
          826,
          825,
          793,
          792,
          783,
          745,
          744,
          729,
          713,
          710,
          695,
          691,
          679,
          672,
          669,
          664,
          655,
          652,
          637,
          634,
          612,
          611,
          592,
          589,
          587,
          566,
          555,
          547,
          536,
          534,
          531,
          526,
          524,
          524,
          521,
          519,
          513,
          490,
          480,
          479,
          477,
          476,
          456,
          453,
          452,
          443,
          443,
          437,
          436,
          431,
          420,
          420,
          419,
          404,
          404,
          400,
          394,
          373,
          372,
          372,
          368,
          364,
          364,
          353,
          352,
          351,
          328,
          327,
          325,
          320,
          311,
          309,
          297,
          294,
          291,
          290,
          290,
          288,
          287,
          286,
          283,
          281,
          280,
          268,
          267,
          265,
          265,
          264,
          262,
          260,
          260,
          252,
          249,
          249,
          245,
          241,
          239,
          233,
          232,
          231,
          231,
          224,
          221,
          219,
          218,
          215,
          210,
          209,
          205,
          200,
          199,
          197,
          195,
          195,
          189,
          188,
          186,
          186,
          186,
          182,
          179,
          178,
          176,
          176,
          168,
          166,
          164,
          159,
          157,
          151,
          150,
          148,
          146,
          144,
          144,
          142,
          141,
          138,
          137,
          136,
          136,
          134,
          133,
          131,
          130,
          130,
          128,
          126,
          123,
          121,
          120,
          117,
          115,
          115,
          115,
          112,
          111,
          110,
          109,
          108,
          106,
          106,
          103,
          103,
          103,
          102,
          100,
          99,
          99,
          99,
          98,
          98,
          97,
          97,
          96,
          92,
          91,
          90,
          87,
          87,
          86,
          85,
          84,
          82,
          82,
          82,
          81,
          81,
          81,
          79,
          79,
          77,
          77,
          77,
          76,
          75,
          74,
          74,
          72,
          72,
          72,
          71,
          70,
          69,
          68,
          68,
          68,
          67,
          65,
          64,
          64,
          64,
          63,
          62,
          62,
          62,
          62,
          61,
          61,
          61,
          59,
          59,
          59,
          59,
          59,
          59,
          58,
          58,
          57,
          57,
          57,
          57,
          57,
          56,
          56,
          56,
          56,
          55,
          55,
          55,
          54,
          53,
          53,
          52,
          52,
          51,
          51,
          50,
          49,
          48,
          48,
          48,
          48,
          47,
          47,
          46,
          46,
          46,
          46,
          45,
          45,
          44,
          44,
          43,
          43,
          42,
          42,
          41,
          40,
          40,
          40,
          40,
          40,
          39,
          39,
          39,
          38,
          38,
          38,
          37,
          37,
          36,
          35,
          34,
          34,
          34,
          34,
          32,
          32,
          32,
          30,
          29,
          29,
          29,
          28,
          28,
          28,
          27,
          27,
          26,
          26,
          26,
          26,
          25,
          25,
          25,
          24,
          24,
          24,
          24,
          24,
          23,
          23,
          23,
          23,
          23,
          23,
          22,
          22,
          21,
          21,
          20,
          20,
          20,
          20,
          20,
          20,
          19,
          19,
          19,
          19,
          19,
          18,
          18,
          18,
          18,
          17,
          17,
          16,
          16,
          16,
          16,
          16,
          16,
          15,
          15,
          15,
          15,
          15,
          14,
          14,
          14,
          14,
          14,
          14,
          14,
          13,
          13,
          13,
          13,
          13,
          12,
          12,
          11,
          11,
          11,
          11,
          11,
          10,
          10,
          9,
          9,
          9,
          9,
          9,
          9,
          8,
          8,
          8,
          7,
          7,
          7,
          7,
          6,
          6,
          6,
          6,
          6,
          5,
          5,
          5,
          5,
          5,
          5,
          5,
          5,
          5,
          4,
          4,
          4,
          4,
          4,
          4,
          4,
          4,
          3,
          3,
          3,
          3,
          3,
          2,
          2,
          2,
          2,
          2,
          2,
          2,
          2,
          2,
          2,
          2,
          2,
          2,
          2,
          2,
          2,
          1,
          1,
          1,
          1,
          1,
          1,
          1,
          1,
          1,
          1,
          1,
          1,
          1,
          1,
          1,
          1,
          1,
          1,
          1,
          1,
          1,
          1
         ],
         "xaxis": "x",
         "yaxis": "y"
        }
       ],
       "layout": {
        "barmode": "relative",
        "legend": {
         "title": {
          "text": "variable"
         },
         "tracegroupgap": 0
        },
        "template": {
         "data": {
          "bar": [
           {
            "error_x": {
             "color": "#2a3f5f"
            },
            "error_y": {
             "color": "#2a3f5f"
            },
            "marker": {
             "line": {
              "color": "#E5ECF6",
              "width": 0.5
             },
             "pattern": {
              "fillmode": "overlay",
              "size": 10,
              "solidity": 0.2
             }
            },
            "type": "bar"
           }
          ],
          "barpolar": [
           {
            "marker": {
             "line": {
              "color": "#E5ECF6",
              "width": 0.5
             },
             "pattern": {
              "fillmode": "overlay",
              "size": 10,
              "solidity": 0.2
             }
            },
            "type": "barpolar"
           }
          ],
          "carpet": [
           {
            "aaxis": {
             "endlinecolor": "#2a3f5f",
             "gridcolor": "white",
             "linecolor": "white",
             "minorgridcolor": "white",
             "startlinecolor": "#2a3f5f"
            },
            "baxis": {
             "endlinecolor": "#2a3f5f",
             "gridcolor": "white",
             "linecolor": "white",
             "minorgridcolor": "white",
             "startlinecolor": "#2a3f5f"
            },
            "type": "carpet"
           }
          ],
          "choropleth": [
           {
            "colorbar": {
             "outlinewidth": 0,
             "ticks": ""
            },
            "type": "choropleth"
           }
          ],
          "contour": [
           {
            "colorbar": {
             "outlinewidth": 0,
             "ticks": ""
            },
            "colorscale": [
             [
              0,
              "#0d0887"
             ],
             [
              0.1111111111111111,
              "#46039f"
             ],
             [
              0.2222222222222222,
              "#7201a8"
             ],
             [
              0.3333333333333333,
              "#9c179e"
             ],
             [
              0.4444444444444444,
              "#bd3786"
             ],
             [
              0.5555555555555556,
              "#d8576b"
             ],
             [
              0.6666666666666666,
              "#ed7953"
             ],
             [
              0.7777777777777778,
              "#fb9f3a"
             ],
             [
              0.8888888888888888,
              "#fdca26"
             ],
             [
              1,
              "#f0f921"
             ]
            ],
            "type": "contour"
           }
          ],
          "contourcarpet": [
           {
            "colorbar": {
             "outlinewidth": 0,
             "ticks": ""
            },
            "type": "contourcarpet"
           }
          ],
          "heatmap": [
           {
            "colorbar": {
             "outlinewidth": 0,
             "ticks": ""
            },
            "colorscale": [
             [
              0,
              "#0d0887"
             ],
             [
              0.1111111111111111,
              "#46039f"
             ],
             [
              0.2222222222222222,
              "#7201a8"
             ],
             [
              0.3333333333333333,
              "#9c179e"
             ],
             [
              0.4444444444444444,
              "#bd3786"
             ],
             [
              0.5555555555555556,
              "#d8576b"
             ],
             [
              0.6666666666666666,
              "#ed7953"
             ],
             [
              0.7777777777777778,
              "#fb9f3a"
             ],
             [
              0.8888888888888888,
              "#fdca26"
             ],
             [
              1,
              "#f0f921"
             ]
            ],
            "type": "heatmap"
           }
          ],
          "heatmapgl": [
           {
            "colorbar": {
             "outlinewidth": 0,
             "ticks": ""
            },
            "colorscale": [
             [
              0,
              "#0d0887"
             ],
             [
              0.1111111111111111,
              "#46039f"
             ],
             [
              0.2222222222222222,
              "#7201a8"
             ],
             [
              0.3333333333333333,
              "#9c179e"
             ],
             [
              0.4444444444444444,
              "#bd3786"
             ],
             [
              0.5555555555555556,
              "#d8576b"
             ],
             [
              0.6666666666666666,
              "#ed7953"
             ],
             [
              0.7777777777777778,
              "#fb9f3a"
             ],
             [
              0.8888888888888888,
              "#fdca26"
             ],
             [
              1,
              "#f0f921"
             ]
            ],
            "type": "heatmapgl"
           }
          ],
          "histogram": [
           {
            "marker": {
             "pattern": {
              "fillmode": "overlay",
              "size": 10,
              "solidity": 0.2
             }
            },
            "type": "histogram"
           }
          ],
          "histogram2d": [
           {
            "colorbar": {
             "outlinewidth": 0,
             "ticks": ""
            },
            "colorscale": [
             [
              0,
              "#0d0887"
             ],
             [
              0.1111111111111111,
              "#46039f"
             ],
             [
              0.2222222222222222,
              "#7201a8"
             ],
             [
              0.3333333333333333,
              "#9c179e"
             ],
             [
              0.4444444444444444,
              "#bd3786"
             ],
             [
              0.5555555555555556,
              "#d8576b"
             ],
             [
              0.6666666666666666,
              "#ed7953"
             ],
             [
              0.7777777777777778,
              "#fb9f3a"
             ],
             [
              0.8888888888888888,
              "#fdca26"
             ],
             [
              1,
              "#f0f921"
             ]
            ],
            "type": "histogram2d"
           }
          ],
          "histogram2dcontour": [
           {
            "colorbar": {
             "outlinewidth": 0,
             "ticks": ""
            },
            "colorscale": [
             [
              0,
              "#0d0887"
             ],
             [
              0.1111111111111111,
              "#46039f"
             ],
             [
              0.2222222222222222,
              "#7201a8"
             ],
             [
              0.3333333333333333,
              "#9c179e"
             ],
             [
              0.4444444444444444,
              "#bd3786"
             ],
             [
              0.5555555555555556,
              "#d8576b"
             ],
             [
              0.6666666666666666,
              "#ed7953"
             ],
             [
              0.7777777777777778,
              "#fb9f3a"
             ],
             [
              0.8888888888888888,
              "#fdca26"
             ],
             [
              1,
              "#f0f921"
             ]
            ],
            "type": "histogram2dcontour"
           }
          ],
          "mesh3d": [
           {
            "colorbar": {
             "outlinewidth": 0,
             "ticks": ""
            },
            "type": "mesh3d"
           }
          ],
          "parcoords": [
           {
            "line": {
             "colorbar": {
              "outlinewidth": 0,
              "ticks": ""
             }
            },
            "type": "parcoords"
           }
          ],
          "pie": [
           {
            "automargin": true,
            "type": "pie"
           }
          ],
          "scatter": [
           {
            "fillpattern": {
             "fillmode": "overlay",
             "size": 10,
             "solidity": 0.2
            },
            "type": "scatter"
           }
          ],
          "scatter3d": [
           {
            "line": {
             "colorbar": {
              "outlinewidth": 0,
              "ticks": ""
             }
            },
            "marker": {
             "colorbar": {
              "outlinewidth": 0,
              "ticks": ""
             }
            },
            "type": "scatter3d"
           }
          ],
          "scattercarpet": [
           {
            "marker": {
             "colorbar": {
              "outlinewidth": 0,
              "ticks": ""
             }
            },
            "type": "scattercarpet"
           }
          ],
          "scattergeo": [
           {
            "marker": {
             "colorbar": {
              "outlinewidth": 0,
              "ticks": ""
             }
            },
            "type": "scattergeo"
           }
          ],
          "scattergl": [
           {
            "marker": {
             "colorbar": {
              "outlinewidth": 0,
              "ticks": ""
             }
            },
            "type": "scattergl"
           }
          ],
          "scattermapbox": [
           {
            "marker": {
             "colorbar": {
              "outlinewidth": 0,
              "ticks": ""
             }
            },
            "type": "scattermapbox"
           }
          ],
          "scatterpolar": [
           {
            "marker": {
             "colorbar": {
              "outlinewidth": 0,
              "ticks": ""
             }
            },
            "type": "scatterpolar"
           }
          ],
          "scatterpolargl": [
           {
            "marker": {
             "colorbar": {
              "outlinewidth": 0,
              "ticks": ""
             }
            },
            "type": "scatterpolargl"
           }
          ],
          "scatterternary": [
           {
            "marker": {
             "colorbar": {
              "outlinewidth": 0,
              "ticks": ""
             }
            },
            "type": "scatterternary"
           }
          ],
          "surface": [
           {
            "colorbar": {
             "outlinewidth": 0,
             "ticks": ""
            },
            "colorscale": [
             [
              0,
              "#0d0887"
             ],
             [
              0.1111111111111111,
              "#46039f"
             ],
             [
              0.2222222222222222,
              "#7201a8"
             ],
             [
              0.3333333333333333,
              "#9c179e"
             ],
             [
              0.4444444444444444,
              "#bd3786"
             ],
             [
              0.5555555555555556,
              "#d8576b"
             ],
             [
              0.6666666666666666,
              "#ed7953"
             ],
             [
              0.7777777777777778,
              "#fb9f3a"
             ],
             [
              0.8888888888888888,
              "#fdca26"
             ],
             [
              1,
              "#f0f921"
             ]
            ],
            "type": "surface"
           }
          ],
          "table": [
           {
            "cells": {
             "fill": {
              "color": "#EBF0F8"
             },
             "line": {
              "color": "white"
             }
            },
            "header": {
             "fill": {
              "color": "#C8D4E3"
             },
             "line": {
              "color": "white"
             }
            },
            "type": "table"
           }
          ]
         },
         "layout": {
          "annotationdefaults": {
           "arrowcolor": "#2a3f5f",
           "arrowhead": 0,
           "arrowwidth": 1
          },
          "autotypenumbers": "strict",
          "coloraxis": {
           "colorbar": {
            "outlinewidth": 0,
            "ticks": ""
           }
          },
          "colorscale": {
           "diverging": [
            [
             0,
             "#8e0152"
            ],
            [
             0.1,
             "#c51b7d"
            ],
            [
             0.2,
             "#de77ae"
            ],
            [
             0.3,
             "#f1b6da"
            ],
            [
             0.4,
             "#fde0ef"
            ],
            [
             0.5,
             "#f7f7f7"
            ],
            [
             0.6,
             "#e6f5d0"
            ],
            [
             0.7,
             "#b8e186"
            ],
            [
             0.8,
             "#7fbc41"
            ],
            [
             0.9,
             "#4d9221"
            ],
            [
             1,
             "#276419"
            ]
           ],
           "sequential": [
            [
             0,
             "#0d0887"
            ],
            [
             0.1111111111111111,
             "#46039f"
            ],
            [
             0.2222222222222222,
             "#7201a8"
            ],
            [
             0.3333333333333333,
             "#9c179e"
            ],
            [
             0.4444444444444444,
             "#bd3786"
            ],
            [
             0.5555555555555556,
             "#d8576b"
            ],
            [
             0.6666666666666666,
             "#ed7953"
            ],
            [
             0.7777777777777778,
             "#fb9f3a"
            ],
            [
             0.8888888888888888,
             "#fdca26"
            ],
            [
             1,
             "#f0f921"
            ]
           ],
           "sequentialminus": [
            [
             0,
             "#0d0887"
            ],
            [
             0.1111111111111111,
             "#46039f"
            ],
            [
             0.2222222222222222,
             "#7201a8"
            ],
            [
             0.3333333333333333,
             "#9c179e"
            ],
            [
             0.4444444444444444,
             "#bd3786"
            ],
            [
             0.5555555555555556,
             "#d8576b"
            ],
            [
             0.6666666666666666,
             "#ed7953"
            ],
            [
             0.7777777777777778,
             "#fb9f3a"
            ],
            [
             0.8888888888888888,
             "#fdca26"
            ],
            [
             1,
             "#f0f921"
            ]
           ]
          },
          "colorway": [
           "#636efa",
           "#EF553B",
           "#00cc96",
           "#ab63fa",
           "#FFA15A",
           "#19d3f3",
           "#FF6692",
           "#B6E880",
           "#FF97FF",
           "#FECB52"
          ],
          "font": {
           "color": "#2a3f5f"
          },
          "geo": {
           "bgcolor": "white",
           "lakecolor": "white",
           "landcolor": "#E5ECF6",
           "showlakes": true,
           "showland": true,
           "subunitcolor": "white"
          },
          "hoverlabel": {
           "align": "left"
          },
          "hovermode": "closest",
          "mapbox": {
           "style": "light"
          },
          "paper_bgcolor": "white",
          "plot_bgcolor": "#E5ECF6",
          "polar": {
           "angularaxis": {
            "gridcolor": "white",
            "linecolor": "white",
            "ticks": ""
           },
           "bgcolor": "#E5ECF6",
           "radialaxis": {
            "gridcolor": "white",
            "linecolor": "white",
            "ticks": ""
           }
          },
          "scene": {
           "xaxis": {
            "backgroundcolor": "#E5ECF6",
            "gridcolor": "white",
            "gridwidth": 2,
            "linecolor": "white",
            "showbackground": true,
            "ticks": "",
            "zerolinecolor": "white"
           },
           "yaxis": {
            "backgroundcolor": "#E5ECF6",
            "gridcolor": "white",
            "gridwidth": 2,
            "linecolor": "white",
            "showbackground": true,
            "ticks": "",
            "zerolinecolor": "white"
           },
           "zaxis": {
            "backgroundcolor": "#E5ECF6",
            "gridcolor": "white",
            "gridwidth": 2,
            "linecolor": "white",
            "showbackground": true,
            "ticks": "",
            "zerolinecolor": "white"
           }
          },
          "shapedefaults": {
           "line": {
            "color": "#2a3f5f"
           }
          },
          "ternary": {
           "aaxis": {
            "gridcolor": "white",
            "linecolor": "white",
            "ticks": ""
           },
           "baxis": {
            "gridcolor": "white",
            "linecolor": "white",
            "ticks": ""
           },
           "bgcolor": "#E5ECF6",
           "caxis": {
            "gridcolor": "white",
            "linecolor": "white",
            "ticks": ""
           }
          },
          "title": {
           "x": 0.05
          },
          "xaxis": {
           "automargin": true,
           "gridcolor": "white",
           "linecolor": "white",
           "ticks": "",
           "title": {
            "standoff": 15
           },
           "zerolinecolor": "white",
           "zerolinewidth": 2
          },
          "yaxis": {
           "automargin": true,
           "gridcolor": "white",
           "linecolor": "white",
           "ticks": "",
           "title": {
            "standoff": 15
           },
           "zerolinecolor": "white",
           "zerolinewidth": 2
          }
         }
        },
        "title": {
         "text": "Histogram of orders per product (mean: 524) [plot threshold < 1000]"
        },
        "xaxis": {
         "anchor": "y",
         "domain": [
          0,
          1
         ],
         "title": {
          "text": "value"
         }
        },
        "yaxis": {
         "anchor": "x",
         "domain": [
          0,
          1
         ],
         "title": {
          "text": "count"
         }
        }
       }
      }
     },
     "metadata": {},
     "output_type": "display_data"
    }
   ],
   "source": [
    "orders_per_product = transactions[\"SKU_ID\"].value_counts().rename(\"orders_per_product\")\n",
    "mean_orders_per_product = orders_per_product.mean()\n",
    "\n",
    "plot_threshold = 1000\n",
    "title = f\"Histogram of orders per product (mean: {int(mean_orders_per_product)}) [plot threshold < {plot_threshold}]\"\n",
    "px.histogram(orders_per_product[orders_per_product < plot_threshold], nbins=100, title=title).show()"
   ]
  },
  {
   "cell_type": "markdown",
   "metadata": {},
   "source": [
    "Let's eliminate products that been ordered less than N=25 times"
   ]
  },
  {
   "cell_type": "code",
   "execution_count": 7,
   "metadata": {},
   "outputs": [
    {
     "name": "stdout",
     "output_type": "stream",
     "text": [
      "Dropping 200 products due to less than 50 orders\n",
      "Remaining products 330\n"
     ]
    }
   ],
   "source": [
    "N = 50\n",
    "\n",
    "invalid_products = orders_per_product[orders_per_product < N].index.values\n",
    "\n",
    "print(f\"Dropping {len(invalid_products)} products due to less than {N} orders\")\n",
    "\n",
    "transactions = transactions[~transactions[\"SKU_ID\"].isin(invalid_products)].copy()\n",
    "\n",
    "print(f\"Remaining products {transactions['SKU_ID'].nunique()}\")"
   ]
  },
  {
   "cell_type": "markdown",
   "metadata": {},
   "source": [
    "Let's eliminate products that been ordered at most N=3 by any client"
   ]
  },
  {
   "cell_type": "code",
   "execution_count": 8,
   "metadata": {},
   "outputs": [
    {
     "name": "stdout",
     "output_type": "stream",
     "text": [
      "Dropping 53 products due to less than 3 max orders by any client\n",
      "Remaining products 277\n"
     ]
    }
   ],
   "source": [
    "N=3\n",
    "\n",
    "orders_perClientProduct = transactions[[\"POC\",\"SKU_ID\"]].value_counts().reset_index()\n",
    "maxOrders_perClientProduct = orders_perClientProduct.groupby(\"SKU_ID\")[\"count\"].max().sort_values()\n",
    "\n",
    "invalid_SKUIDs = maxOrders_perClientProduct[maxOrders_perClientProduct <= N].index.values\n",
    "\n",
    "print(f\"Dropping {len(invalid_SKUIDs)} products due to less than 3 max orders by any client\")\n",
    "\n",
    "transactions = transactions[~transactions[\"SKU_ID\"].isin(invalid_SKUIDs)].copy()\n",
    "\n",
    "print(f\"Remaining products {transactions['SKU_ID'].nunique()}\")"
   ]
  },
  {
   "cell_type": "markdown",
   "metadata": {},
   "source": [
    "Stage results"
   ]
  },
  {
   "cell_type": "code",
   "execution_count": 9,
   "metadata": {},
   "outputs": [],
   "source": [
    "clients.to_pickle(\"data/parsed/clients.pkl\")\n",
    "transactions.to_pickle(\"data/parsed/transactions.pkl\")"
   ]
  }
 ],
 "metadata": {
  "kernelspec": {
   "display_name": "recs",
   "language": "python",
   "name": "python3"
  },
  "language_info": {
   "codemirror_mode": {
    "name": "ipython",
    "version": 3
   },
   "file_extension": ".py",
   "mimetype": "text/x-python",
   "name": "python",
   "nbconvert_exporter": "python",
   "pygments_lexer": "ipython3",
   "version": "3.12.4"
  }
 },
 "nbformat": 4,
 "nbformat_minor": 2
}
