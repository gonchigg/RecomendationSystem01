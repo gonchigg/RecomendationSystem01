{
 "cells": [
  {
   "cell_type": "code",
   "execution_count": 204,
   "metadata": {},
   "outputs": [],
   "source": [
    "import plotly.express as px\n",
    "import pandas as pd"
   ]
  },
  {
   "cell_type": "code",
   "execution_count": 205,
   "metadata": {},
   "outputs": [],
   "source": [
    "transactions = pd.read_pickle(\"data/transactions_ranked.pkl\")"
   ]
  },
  {
   "cell_type": "code",
   "execution_count": 206,
   "metadata": {},
   "outputs": [],
   "source": [
    "POCs_last_order_id = (transactions\n",
    "    .groupby(\"POC\")\n",
    "    [\"ORDER_ID\"].max()\n",
    "    .reset_index()\n",
    ")\n",
    "\n",
    "POCs_last_order = (transactions\n",
    "    .merge(POCs_last_order_id, on=[\"POC\",\"ORDER_ID\"], how=\"inner\")\n",
    ")\n",
    "\n",
    "POCs_last_order = (POCs_last_order\n",
    "    [POCs_last_order[\"ITEMS_PHYS_CASES\"] != 0.0]\n",
    "    [[\"POC\",\"SKU_ID\"]]\n",
    "    .copy()\n",
    ")"
   ]
  },
  {
   "cell_type": "code",
   "execution_count": 207,
   "metadata": {},
   "outputs": [],
   "source": [
    "transactions = (transactions\n",
    "    .merge(POCs_last_order_id, on=[\"POC\",\"ORDER_ID\"], how=\"left\", indicator=True)\n",
    ")\n",
    "\n",
    "transactions = (transactions\n",
    "    [transactions[\"_merge\"] == \"left_only\"]\n",
    "    .drop(columns=\"_merge\")\n",
    ")"
   ]
  },
  {
   "cell_type": "code",
   "execution_count": 208,
   "metadata": {},
   "outputs": [],
   "source": [
    "to_predict = (transactions\n",
    "    .groupby([\"POC\",\"SKU_ID\"])\n",
    "    [[\"ORDER_PRODUCT_RANK\",\"ORDER_RANK\"]].max()\n",
    "    .reset_index()\n",
    ")\n",
    "\n",
    "to_predict_firstorder = to_predict[to_predict[\"ORDER_PRODUCT_RANK\"] == 0].copy()\n",
    "to_predict_interorder = to_predict[to_predict[\"ORDER_PRODUCT_RANK\"] != 0].copy()\n",
    "\n",
    "to_predict_firstorder = to_predict_firstorder[[\"POC\",\"SKU_ID\",\"ORDER_RANK\"]].copy()\n",
    "to_predict_firstorder[\"ORDER_RANK\"] += 1\n",
    "\n",
    "to_predict_interorder[\"ORDERS_BETWEEN_ORDERS\"] = to_predict_interorder[\"ORDER_RANK\"] - to_predict_interorder[\"ORDER_PRODUCT_RANK\"]\n",
    "to_predict_interorder[\"ORDERS_BETWEEN_ORDERS\"] += 1\n",
    "to_predict_interorder = to_predict_interorder[[\"POC\",\"SKU_ID\",\"ORDERS_BETWEEN_ORDERS\"]].copy()"
   ]
  },
  {
   "cell_type": "code",
   "execution_count": 209,
   "metadata": {},
   "outputs": [],
   "source": [
    "firstorder_model = pd.read_pickle(\"models/probabilistic/first_order_rates.pkl\")\n",
    "interorders_model = pd.read_pickle(\"models/probabilistic/inter_orders_rates.pkl\")\n",
    "\n",
    "firstorder_model = firstorder_model[[\"SKU_ID\",\"ORDER_RANK\",\"RATE_cumsum\"]].copy()\n",
    "interorders_model = interorders_model[[\"SKU_ID\",\"ORDERS_BETWEEN_ORDERS\",\"RATE_cumsum\"]].copy()"
   ]
  },
  {
   "cell_type": "code",
   "execution_count": 210,
   "metadata": {},
   "outputs": [],
   "source": [
    "prediction_firstorder = to_predict_firstorder.merge(firstorder_model, on=[\"SKU_ID\",\"ORDER_RANK\"], how=\"inner\")\n",
    "prediction_interorder = to_predict_interorder.merge(interorders_model, on=[\"SKU_ID\",\"ORDERS_BETWEEN_ORDERS\"], how=\"inner\")\n",
    "\n",
    "prediction_firstorder = prediction_firstorder[[\"POC\",\"SKU_ID\",\"RATE_cumsum\"]]\n",
    "prediction_interorder = prediction_interorder[[\"POC\",\"SKU_ID\",\"RATE_cumsum\"]]\n",
    "\n",
    "prediction = pd.concat([prediction_firstorder, prediction_interorder], ignore_index=True, axis=0)\n",
    "prediction = prediction.sort_values([\"POC\",\"RATE_cumsum\"], ascending=False)\n",
    "\n",
    "prediction[\"SKUID_rank\"] = prediction.groupby(\"POC\")[\"RATE_cumsum\"].rank(method=\"first\", ascending=False)\n",
    "prediction[\"SKUID_rank\"] = prediction[\"SKUID_rank\"].astype(int)"
   ]
  },
  {
   "cell_type": "code",
   "execution_count": 211,
   "metadata": {},
   "outputs": [],
   "source": [
    "N_predictions = 5\n",
    "\n",
    "prediction = prediction[prediction[\"SKUID_rank\"] <= N_predictions].copy()\n",
    "\n",
    "prediction = prediction.merge(prediction[\"POC\"].value_counts().reset_index())\n",
    "prediction = (prediction\n",
    "    [prediction[\"count\"] == N_predictions]\n",
    "    .drop(columns=\"count\")\n",
    "    .copy()\n",
    ")"
   ]
  },
  {
   "cell_type": "code",
   "execution_count": 212,
   "metadata": {},
   "outputs": [],
   "source": [
    "prediction.to_pickle(\"predictions/probabilistic.pkl\")"
   ]
  },
  {
   "cell_type": "markdown",
   "metadata": {},
   "source": [
    "Test accuracy"
   ]
  },
  {
   "cell_type": "code",
   "execution_count": 213,
   "metadata": {},
   "outputs": [
    {
     "data": {
      "text/plain": [
       "_merge\n",
       "left_only     0.790126\n",
       "both          0.209874\n",
       "right_only    0.000000\n",
       "Name: count, dtype: float64"
      ]
     },
     "execution_count": 213,
     "metadata": {},
     "output_type": "execute_result"
    }
   ],
   "source": [
    "test_accuracy = prediction.merge(POCs_last_order, on=[\"POC\",\"SKU_ID\"], how=\"left\", indicator=True)\n",
    "test_accuracy[\"_merge\"].value_counts()/len(test_accuracy)"
   ]
  }
 ],
 "metadata": {
  "kernelspec": {
   "display_name": "recs",
   "language": "python",
   "name": "python3"
  },
  "language_info": {
   "codemirror_mode": {
    "name": "ipython",
    "version": 3
   },
   "file_extension": ".py",
   "mimetype": "text/x-python",
   "name": "python",
   "nbconvert_exporter": "python",
   "pygments_lexer": "ipython3",
   "version": "3.12.4"
  }
 },
 "nbformat": 4,
 "nbformat_minor": 2
}
