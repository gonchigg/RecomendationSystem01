{
 "cells": [
  {
   "cell_type": "code",
   "execution_count": null,
   "metadata": {},
   "outputs": [],
   "source": [
    "import plotly.express as px\n",
    "import pandas as pd"
   ]
  },
  {
   "cell_type": "markdown",
   "metadata": {},
   "source": [
    "### Clients\n",
    "* **POC**: *client id*\n",
    "* **BussinessSegment**: *medida de uso de la aplicación.*\n",
    "    * **PowerUsage**: *Uso alto y completo.*\n",
    "    * **HighUsage**: *Uso alto pero incompleto.*\n",
    "    * **MediumUsage**: *Uso medio.*\n",
    "    * **MinimalUsage**: *Uso bajo.*\n",
    "* **totalVolumen**: *hectolitros últimos 3 meses*\n",
    "* **SkuDistintosPromediosXOrden**: *promedio de cantidad de productos distintos por orden.*\n",
    "* **concentracion**: *prescencia de negocions cercanos [Alto, Medio, Bajo, S/D]*\n",
    "* **nse**: *nivel socioeconomico de hábitantes cercanos [Alto, Medio, Bajo, S/D]*\n",
    "* **segmentoUnico**: *capacidad de compra del cliente [Potenciales, Masivos, Activos, Inactivos]*\n",
    "* **canal**: *canal de marketing del cliente [COMIDA, Tradicional, BEBIDA, Mayorista ...]*\n",
    "\n",
    "### Transactions\n",
    "* **POC**: *client id*\n",
    "* **SKU_ID**: *product id*\n",
    "* **INVOICE_DATE**: *fecha de transacción*\n",
    "* **ORDER_ID**: ...\n",
    "* **ITEMS_PHYS_CASES**: *cantidad de bultos del producto **SKU_ID***"
   ]
  },
  {
   "cell_type": "code",
   "execution_count": null,
   "metadata": {},
   "outputs": [],
   "source": [
    "clients = pd.read_csv(\"data/client_attributes.csv\").drop(columns=['Unnamed: 0'])\n",
    "transactions = pd.read_csv(\"data/transactions.csv\").drop(columns=['Unnamed: 0'])\n",
    "\n",
    "transactions = transactions.rename(columns={\"ACCOUNT_ID\":\"POC\"})\n",
    "transactions[\"INVOICE_DATE\"] = pd.to_datetime(transactions[\"INVOICE_DATE\"], format=\"%Y%m%d\")"
   ]
  },
  {
   "cell_type": "code",
   "execution_count": null,
   "metadata": {},
   "outputs": [],
   "source": [
    "display(clients[\"concentracion\"].value_counts())\n",
    "display(clients[\"BussinessSegment\"].value_counts())\n",
    "display(clients[\"nse\"].value_counts())\n",
    "display(clients[\"segmentoUnico\"].value_counts())\n",
    "display(clients[\"canal\"].value_counts())"
   ]
  },
  {
   "cell_type": "code",
   "execution_count": null,
   "metadata": {},
   "outputs": [],
   "source": [
    "display(transactions[\"SKU_ID\"].value_counts().head(10))\n",
    "display(transactions.groupby(\"SKU_ID\")[\"ITEMS_PHYS_CASES\"].sum().sort_values(ascending=False).head(10))"
   ]
  },
  {
   "cell_type": "code",
   "execution_count": null,
   "metadata": {},
   "outputs": [],
   "source": [
    "main_channels = clients[\"canal\"].value_counts().sort_values(ascending=False).head(6).index.values\n",
    "\n",
    "plot_df = clients[clients[\"totalVolumen\"] < 100].copy()\n",
    "\n",
    "x_col = \"totalVolumen\"\n",
    "px.histogram(plot_df, x=x_col, color=\"concentracion\", histnorm=\"probability\", barmode=\"overlay\").show()\n",
    "px.histogram(plot_df, x=x_col, color=\"BussinessSegment\", histnorm=\"probability\", barmode=\"overlay\").show()\n",
    "px.histogram(plot_df, x=x_col, color=\"nse\", histnorm=\"probability\", barmode=\"overlay\").show()\n",
    "px.histogram(plot_df, x=x_col, color=\"segmentoUnico\", histnorm=\"probability\", barmode=\"overlay\").show()\n",
    "px.histogram(plot_df[plot_df[\"canal\"].isin(main_channels)], x=x_col, color=\"canal\", histnorm=\"probability\", barmode=\"overlay\").show()\n",
    "\n",
    "\n",
    "x_col = \"SkuDistintosPromediosXOrden\"\n",
    "px.histogram(plot_df, x=x_col, color=\"concentracion\", histnorm=\"probability\", barmode=\"overlay\").show()\n",
    "px.histogram(plot_df, x=x_col, color=\"BussinessSegment\", histnorm=\"probability\", barmode=\"overlay\").show()\n",
    "px.histogram(plot_df, x=x_col, color=\"nse\", histnorm=\"probability\", barmode=\"overlay\").show()\n",
    "px.histogram(plot_df, x=x_col, color=\"segmentoUnico\", histnorm=\"probability\", barmode=\"overlay\").show()\n",
    "px.histogram(plot_df[plot_df[\"canal\"].isin(main_channels)], x=x_col, color=\"canal\", histnorm=\"probability\", barmode=\"overlay\").show()"
   ]
  },
  {
   "cell_type": "code",
   "execution_count": null,
   "metadata": {},
   "outputs": [],
   "source": [
    "px.histogram(transactions[transactions[\"ITEMS_PHYS_CASES\"] < 50], x=\"ITEMS_PHYS_CASES\").show()\n",
    "px.histogram(transactions, x=\"INVOICE_DATE\").show()"
   ]
  }
 ],
 "metadata": {
  "kernelspec": {
   "display_name": "quilmes",
   "language": "python",
   "name": "python3"
  },
  "language_info": {
   "codemirror_mode": {
    "name": "ipython",
    "version": 3
   },
   "file_extension": ".py",
   "mimetype": "text/x-python",
   "name": "python",
   "nbconvert_exporter": "python",
   "pygments_lexer": "ipython3",
   "version": "3.12.4"
  }
 },
 "nbformat": 4,
 "nbformat_minor": 2
}
